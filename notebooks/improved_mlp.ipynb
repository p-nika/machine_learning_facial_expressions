{
  "nbformat": 4,
  "nbformat_minor": 0,
  "metadata": {
    "colab": {
      "provenance": [],
      "gpuType": "T4"
    },
    "kernelspec": {
      "name": "python3",
      "display_name": "Python 3"
    },
    "language_info": {
      "name": "python"
    },
    "accelerator": "GPU"
  },
  "cells": [
    {
      "cell_type": "code",
      "execution_count": 1,
      "metadata": {
        "id": "GpfdjqTZlDRQ",
        "colab": {
          "base_uri": "https://localhost:8080/"
        },
        "outputId": "1c2dfad7-2a62-4b63-9fdc-a689a97d0559"
      },
      "outputs": [
        {
          "output_type": "stream",
          "name": "stdout",
          "text": [
            "Requirement already satisfied: wandb in /usr/local/lib/python3.11/dist-packages (0.19.11)\n",
            "Requirement already satisfied: click!=8.0.0,>=7.1 in /usr/local/lib/python3.11/dist-packages (from wandb) (8.2.1)\n",
            "Requirement already satisfied: docker-pycreds>=0.4.0 in /usr/local/lib/python3.11/dist-packages (from wandb) (0.4.0)\n",
            "Requirement already satisfied: gitpython!=3.1.29,>=1.0.0 in /usr/local/lib/python3.11/dist-packages (from wandb) (3.1.44)\n",
            "Requirement already satisfied: platformdirs in /usr/local/lib/python3.11/dist-packages (from wandb) (4.3.8)\n",
            "Requirement already satisfied: protobuf!=4.21.0,!=5.28.0,<7,>=3.19.0 in /usr/local/lib/python3.11/dist-packages (from wandb) (5.29.5)\n",
            "Requirement already satisfied: psutil>=5.0.0 in /usr/local/lib/python3.11/dist-packages (from wandb) (5.9.5)\n",
            "Requirement already satisfied: pydantic<3 in /usr/local/lib/python3.11/dist-packages (from wandb) (2.11.5)\n",
            "Requirement already satisfied: pyyaml in /usr/local/lib/python3.11/dist-packages (from wandb) (6.0.2)\n",
            "Requirement already satisfied: requests<3,>=2.0.0 in /usr/local/lib/python3.11/dist-packages (from wandb) (2.32.3)\n",
            "Requirement already satisfied: sentry-sdk>=2.0.0 in /usr/local/lib/python3.11/dist-packages (from wandb) (2.29.1)\n",
            "Requirement already satisfied: setproctitle in /usr/local/lib/python3.11/dist-packages (from wandb) (1.3.6)\n",
            "Requirement already satisfied: setuptools in /usr/local/lib/python3.11/dist-packages (from wandb) (75.2.0)\n",
            "Requirement already satisfied: typing-extensions<5,>=4.4 in /usr/local/lib/python3.11/dist-packages (from wandb) (4.14.0)\n",
            "Requirement already satisfied: six>=1.4.0 in /usr/local/lib/python3.11/dist-packages (from docker-pycreds>=0.4.0->wandb) (1.17.0)\n",
            "Requirement already satisfied: gitdb<5,>=4.0.1 in /usr/local/lib/python3.11/dist-packages (from gitpython!=3.1.29,>=1.0.0->wandb) (4.0.12)\n",
            "Requirement already satisfied: annotated-types>=0.6.0 in /usr/local/lib/python3.11/dist-packages (from pydantic<3->wandb) (0.7.0)\n",
            "Requirement already satisfied: pydantic-core==2.33.2 in /usr/local/lib/python3.11/dist-packages (from pydantic<3->wandb) (2.33.2)\n",
            "Requirement already satisfied: typing-inspection>=0.4.0 in /usr/local/lib/python3.11/dist-packages (from pydantic<3->wandb) (0.4.1)\n",
            "Requirement already satisfied: charset-normalizer<4,>=2 in /usr/local/lib/python3.11/dist-packages (from requests<3,>=2.0.0->wandb) (3.4.2)\n",
            "Requirement already satisfied: idna<4,>=2.5 in /usr/local/lib/python3.11/dist-packages (from requests<3,>=2.0.0->wandb) (3.10)\n",
            "Requirement already satisfied: urllib3<3,>=1.21.1 in /usr/local/lib/python3.11/dist-packages (from requests<3,>=2.0.0->wandb) (2.4.0)\n",
            "Requirement already satisfied: certifi>=2017.4.17 in /usr/local/lib/python3.11/dist-packages (from requests<3,>=2.0.0->wandb) (2025.4.26)\n",
            "Requirement already satisfied: smmap<6,>=3.0.1 in /usr/local/lib/python3.11/dist-packages (from gitdb<5,>=4.0.1->gitpython!=3.1.29,>=1.0.0->wandb) (5.0.2)\n"
          ]
        }
      ],
      "source": [
        "!pip install wandb"
      ]
    },
    {
      "cell_type": "code",
      "source": [
        "import wandb\n",
        "import sys\n",
        "import os\n",
        "import numpy as np\n",
        "import pandas as pd\n",
        "import matplotlib.pyplot as plt\n",
        "import seaborn as sns\n",
        "import torch\n",
        "import torch.nn as nn\n",
        "import torch.optim as optim\n",
        "import torch.nn.functional as F\n",
        "from torch.utils.data import Dataset, DataLoader\n",
        "from torch.optim.lr_scheduler import StepLR, ExponentialLR, CosineAnnealingLR, ReduceLROnPlateau\n",
        "from sklearn.model_selection import train_test_split\n",
        "from sklearn.metrics import classification_report, confusion_matrix\n",
        "import wandb\n",
        "from tqdm import tqdm\n",
        "import time"
      ],
      "metadata": {
        "id": "MN4q_8mWLwF-"
      },
      "execution_count": 8,
      "outputs": []
    },
    {
      "cell_type": "code",
      "source": [
        "wandb.login()"
      ],
      "metadata": {
        "colab": {
          "base_uri": "https://localhost:8080/",
          "height": 191
        },
        "id": "X8ROGEdrLzpo",
        "outputId": "f0dceb1c-1154-438d-ee33-b8dc8ff6d29b"
      },
      "execution_count": 3,
      "outputs": [
        {
          "output_type": "display_data",
          "data": {
            "text/plain": [
              "<IPython.core.display.Javascript object>"
            ],
            "application/javascript": [
              "\n",
              "        window._wandbApiKey = new Promise((resolve, reject) => {\n",
              "            function loadScript(url) {\n",
              "            return new Promise(function(resolve, reject) {\n",
              "                let newScript = document.createElement(\"script\");\n",
              "                newScript.onerror = reject;\n",
              "                newScript.onload = resolve;\n",
              "                document.body.appendChild(newScript);\n",
              "                newScript.src = url;\n",
              "            });\n",
              "            }\n",
              "            loadScript(\"https://cdn.jsdelivr.net/npm/postmate/build/postmate.min.js\").then(() => {\n",
              "            const iframe = document.createElement('iframe')\n",
              "            iframe.style.cssText = \"width:0;height:0;border:none\"\n",
              "            document.body.appendChild(iframe)\n",
              "            const handshake = new Postmate({\n",
              "                container: iframe,\n",
              "                url: 'https://wandb.ai/authorize'\n",
              "            });\n",
              "            const timeout = setTimeout(() => reject(\"Couldn't auto authenticate\"), 5000)\n",
              "            handshake.then(function(child) {\n",
              "                child.on('authorize', data => {\n",
              "                    clearTimeout(timeout)\n",
              "                    resolve(data)\n",
              "                });\n",
              "            });\n",
              "            })\n",
              "        });\n",
              "    "
            ]
          },
          "metadata": {}
        },
        {
          "output_type": "stream",
          "name": "stderr",
          "text": [
            "\u001b[34m\u001b[1mwandb\u001b[0m: Logging into wandb.ai. (Learn how to deploy a W&B server locally: https://wandb.me/wandb-server)\n",
            "\u001b[34m\u001b[1mwandb\u001b[0m: You can find your API key in your browser here: https://wandb.ai/authorize\n",
            "wandb: Paste an API key from your profile and hit enter:"
          ]
        },
        {
          "name": "stdout",
          "output_type": "stream",
          "text": [
            " ··········\n"
          ]
        },
        {
          "output_type": "stream",
          "name": "stderr",
          "text": [
            "\u001b[34m\u001b[1mwandb\u001b[0m: \u001b[33mWARNING\u001b[0m If you're specifying your api key in code, ensure this code is not shared publicly.\n",
            "\u001b[34m\u001b[1mwandb\u001b[0m: \u001b[33mWARNING\u001b[0m Consider setting the WANDB_API_KEY environment variable, or running `wandb login` from the command line.\n",
            "\u001b[34m\u001b[1mwandb\u001b[0m: No netrc file found, creating one.\n",
            "\u001b[34m\u001b[1mwandb\u001b[0m: Appending key for api.wandb.ai to your netrc file: /root/.netrc\n",
            "\u001b[34m\u001b[1mwandb\u001b[0m: Currently logged in as: \u001b[33mnipkha21\u001b[0m (\u001b[33mnipkha21-free-university-of-tbilisi-\u001b[0m) to \u001b[32mhttps://api.wandb.ai\u001b[0m. Use \u001b[1m`wandb login --relogin`\u001b[0m to force relogin\n"
          ]
        },
        {
          "output_type": "execute_result",
          "data": {
            "text/plain": [
              "True"
            ]
          },
          "metadata": {},
          "execution_count": 3
        }
      ]
    },
    {
      "cell_type": "code",
      "source": [
        "from data_utils import load_split_data\n",
        "from models import AdvancedMLP, get_model\n",
        "from training_utils import ModelTrainer, get_optimizer, get_scheduler\n",
        "from evaluation import ModelEvaluator\n",
        "\n",
        "device = torch.device('cuda' if torch.cuda.is_available() else 'cpu')"
      ],
      "metadata": {
        "id": "4tTypGWrL1iW"
      },
      "execution_count": 46,
      "outputs": []
    },
    {
      "cell_type": "code",
      "source": [
        "from google.colab import drive\n",
        "drive.mount('/content/drive')"
      ],
      "metadata": {
        "colab": {
          "base_uri": "https://localhost:8080/"
        },
        "id": "oBomQdfylJkn",
        "outputId": "400a221c-b668-48b2-b280-82941119d08a"
      },
      "execution_count": 5,
      "outputs": [
        {
          "output_type": "stream",
          "name": "stdout",
          "text": [
            "Mounted at /content/drive\n"
          ]
        }
      ]
    },
    {
      "cell_type": "code",
      "source": [
        "class MLPFacialExpressionDataset(Dataset):\n",
        "    def __init__(self, data, normalization='standard', augment=False, is_test=False):\n",
        "        self.data = data\n",
        "        self.normalization = normalization\n",
        "        self.augment = augment\n",
        "        self.is_test = is_test\n",
        "\n",
        "        if normalization == 'global_stats':\n",
        "            self._compute_global_stats()\n",
        "\n",
        "    def _compute_global_stats(self):\n",
        "        all_pixels = []\n",
        "        sample_size = min(1000, len(self.data))\n",
        "        for i in range(sample_size):\n",
        "            pixels = np.array([int(p) for p in self.data.iloc[i]['pixels'].split()])\n",
        "            all_pixels.extend(pixels)\n",
        "\n",
        "        all_pixels = np.array(all_pixels)\n",
        "        self.global_mean = np.mean(all_pixels)\n",
        "        self.global_std = np.std(all_pixels)\n",
        "\n",
        "    def _apply_augmentation(self, image):\n",
        "        if not self.augment or np.random.random() > 0.5:\n",
        "            return image\n",
        "\n",
        "        img_2d = image.reshape(48, 48)\n",
        "\n",
        "        if np.random.random() > 0.7:\n",
        "            noise = np.random.normal(0, 0.01, img_2d.shape)\n",
        "            img_2d = np.clip(img_2d + noise, 0, 1)\n",
        "\n",
        "        if np.random.random() > 0.7:\n",
        "            brightness_factor = np.random.uniform(0.8, 1.2)\n",
        "            img_2d = np.clip(img_2d * brightness_factor, 0, 1)\n",
        "\n",
        "        if np.random.random() > 0.5:\n",
        "            img_2d = np.fliplr(img_2d)\n",
        "\n",
        "        return img_2d.flatten()\n",
        "\n",
        "    def __len__(self):\n",
        "        return len(self.data)\n",
        "\n",
        "    def __getitem__(self, idx):\n",
        "        pixels = self.data.iloc[idx]['pixels']\n",
        "        image = np.array([int(pixel) for pixel in pixels.split()], dtype=np.float32)\n",
        "\n",
        "        if self.normalization == 'standard':\n",
        "            image = image / 255.0\n",
        "        elif self.normalization == 'centered':\n",
        "            image = (image / 255.0) * 2 - 1\n",
        "        elif self.normalization == 'minmax':\n",
        "            image = (image - image.min()) / (image.max() - image.min())\n",
        "        elif self.normalization == 'zscore':\n",
        "            image = (image - image.mean()) / image.std()\n",
        "        elif self.normalization == 'global_stats':\n",
        "            image = (image - self.global_mean) / self.global_std\n",
        "\n",
        "        if self.augment and not self.is_test:\n",
        "            image = self._apply_augmentation(image)\n",
        "\n",
        "        image = torch.FloatTensor(image)\n",
        "\n",
        "        if self.is_test:\n",
        "            return image\n",
        "        else:\n",
        "            emotion = int(self.data.iloc[idx]['emotion'])\n",
        "            return image, emotion"
      ],
      "metadata": {
        "id": "a7oyplGHMjzm"
      },
      "execution_count": 10,
      "outputs": []
    },
    {
      "cell_type": "code",
      "source": [
        "class AdvancedTrainer:\n",
        "    def __init__(self, model, train_loader, val_loader, criterion, optimizer,\n",
        "                 scheduler=None, device='cuda', experiment_name='experiment', run_name='run'):\n",
        "        self.model = model.to(device)\n",
        "        self.train_loader = train_loader\n",
        "        self.val_loader = val_loader\n",
        "        self.criterion = criterion\n",
        "        self.optimizer = optimizer\n",
        "        self.scheduler = scheduler\n",
        "        self.device = device\n",
        "\n",
        "        wandb.init(\n",
        "            project=\"facial-expression-recognition\",\n",
        "            group=experiment_name,\n",
        "            name=run_name,\n",
        "            config={\n",
        "                \"data_split_method\": \"predefined_stratified\",\n",
        "                \"train_samples\": len(train_loader.dataset),\n",
        "                \"val_samples\": len(val_loader.dataset),\n",
        "                \"split_random_state\": 42\n",
        "            },\n",
        "            reinit=True\n",
        "        )\n",
        "        wandb.watch(self.model, log='all', log_freq=100)\n",
        "\n",
        "        self.history = {\n",
        "            'train_loss': [], 'train_acc': [], 'val_loss': [], 'val_acc': [],\n",
        "            'learning_rates': [], 'epoch_times': []\n",
        "        }\n",
        "        self.best_val_acc = 0.0\n",
        "        self.best_model_state = None\n",
        "\n",
        "    def train_epoch(self):\n",
        "        self.model.train()\n",
        "        running_loss = 0.0\n",
        "        correct = 0\n",
        "        total = 0\n",
        "\n",
        "        pbar = tqdm(self.train_loader, desc=\"Training\")\n",
        "        for batch_idx, (data, targets) in enumerate(pbar):\n",
        "            data, targets = data.to(self.device), targets.to(self.device)\n",
        "\n",
        "            self.optimizer.zero_grad()\n",
        "            outputs = self.model(data)\n",
        "            loss = self.criterion(outputs, targets)\n",
        "\n",
        "            loss.backward()\n",
        "\n",
        "            torch.nn.utils.clip_grad_norm_(self.model.parameters(), max_norm=1.0)\n",
        "\n",
        "            self.optimizer.step()\n",
        "\n",
        "            running_loss += loss.item()\n",
        "            _, predicted = torch.max(outputs, 1)\n",
        "            total += targets.size(0)\n",
        "            correct += (predicted == targets).sum().item()\n",
        "\n",
        "            pbar.set_postfix({\n",
        "                'Loss': f'{loss.item():.4f}',\n",
        "                'Acc': f'{100.*correct/total:.2f}%'\n",
        "            })\n",
        "\n",
        "        epoch_loss = running_loss / len(self.train_loader)\n",
        "        epoch_acc = 100. * correct / total\n",
        "\n",
        "        return epoch_loss, epoch_acc\n",
        "\n",
        "    def validate_epoch(self):\n",
        "        self.model.eval()\n",
        "        running_loss = 0.0\n",
        "        correct = 0\n",
        "        total = 0\n",
        "        all_predictions = []\n",
        "        all_targets = []\n",
        "\n",
        "        with torch.no_grad():\n",
        "            for data, targets in tqdm(self.val_loader, desc=\"Validation\"):\n",
        "                data, targets = data.to(self.device), targets.to(self.device)\n",
        "\n",
        "                outputs = self.model(data)\n",
        "                loss = self.criterion(outputs, targets)\n",
        "\n",
        "                running_loss += loss.item()\n",
        "                _, predicted = torch.max(outputs, 1)\n",
        "                total += targets.size(0)\n",
        "                correct += (predicted == targets).sum().item()\n",
        "\n",
        "                all_predictions.extend(predicted.cpu().numpy())\n",
        "                all_targets.extend(targets.cpu().numpy())\n",
        "\n",
        "        epoch_loss = running_loss / len(self.val_loader)\n",
        "        epoch_acc = 100. * correct / total\n",
        "\n",
        "        return epoch_loss, epoch_acc, np.array(all_predictions), np.array(all_targets)\n",
        "\n",
        "    def train(self, epochs, early_stopping_patience=10):\n",
        "        print(f\"Starting training for {epochs} epochs...\")\n",
        "\n",
        "        patience_counter = 0\n",
        "\n",
        "        for epoch in range(epochs):\n",
        "            epoch_start = time.time()\n",
        "\n",
        "            train_loss, train_acc = self.train_epoch()\n",
        "\n",
        "            val_loss, val_acc, val_preds, val_targets = self.validate_epoch()\n",
        "\n",
        "            current_lr = self.optimizer.param_groups[0]['lr']\n",
        "            if self.scheduler:\n",
        "                if isinstance(self.scheduler, ReduceLROnPlateau):\n",
        "                    self.scheduler.step(val_loss)\n",
        "                else:\n",
        "                    self.scheduler.step()\n",
        "\n",
        "            if val_acc > self.best_val_acc:\n",
        "                self.best_val_acc = val_acc\n",
        "                self.best_model_state = self.model.state_dict().copy()\n",
        "                patience_counter = 0\n",
        "            else:\n",
        "                patience_counter += 1\n",
        "\n",
        "            epoch_time = time.time() - epoch_start\n",
        "\n",
        "            self.history['train_loss'].append(train_loss)\n",
        "            self.history['train_acc'].append(train_acc)\n",
        "            self.history['val_loss'].append(val_loss)\n",
        "            self.history['val_acc'].append(val_acc)\n",
        "            self.history['learning_rates'].append(current_lr)\n",
        "            self.history['epoch_times'].append(epoch_time)\n",
        "\n",
        "            loss_gap = val_loss - train_loss\n",
        "            acc_gap = train_acc - val_acc\n",
        "\n",
        "            log_dict = {\n",
        "                'epoch': epoch + 1,\n",
        "                'train_loss': train_loss,\n",
        "                'train_accuracy': train_acc,\n",
        "                'val_loss': val_loss,\n",
        "                'val_accuracy': val_acc,\n",
        "                'learning_rate': current_lr,\n",
        "                'epoch_time': epoch_time,\n",
        "                'loss_gap': loss_gap,\n",
        "                'accuracy_gap': acc_gap,\n",
        "                'overfitting_score': loss_gap + (acc_gap / 100),\n",
        "                'best_val_accuracy': self.best_val_acc\n",
        "            }\n",
        "\n",
        "            if (epoch + 1) % 10 == 0:\n",
        "                emotion_map = {0: 'Angry', 1: 'Disgust', 2: 'Fear', 3: 'Happy', 4: 'Sad', 5: 'Surprise', 6: 'Neutral'}\n",
        "                log_dict['confusion_matrix'] = wandb.plot.confusion_matrix(\n",
        "                    probs=None, y_true=val_targets, preds=val_preds,\n",
        "                    class_names=list(emotion_map.values())\n",
        "                )\n",
        "\n",
        "            wandb.log(log_dict)\n",
        "\n",
        "            print(f\"Epoch {epoch+1}/{epochs}:\")\n",
        "            print(f\"  Train Loss: {train_loss:.4f}, Train Acc: {train_acc:.2f}%\")\n",
        "            print(f\"  Val Loss: {val_loss:.4f}, Val Acc: {val_acc:.2f}%\")\n",
        "            print(f\"  LR: {current_lr:.6f}, Time: {epoch_time:.2f}s\")\n",
        "            print(f\"  Overfitting Score: {loss_gap + (acc_gap / 100):.4f}\")\n",
        "            print(\"-\" * 50)\n",
        "\n",
        "            if patience_counter >= early_stopping_patience:\n",
        "                print(f\"Early stopping triggered at epoch {epoch+1}\")\n",
        "                break\n",
        "\n",
        "        if self.best_model_state:\n",
        "            self.model.load_state_dict(self.best_model_state)\n",
        "            print(f\"Loaded best model with validation accuracy: {self.best_val_acc:.2f}%\")\n",
        "\n",
        "        return self.history"
      ],
      "metadata": {
        "id": "WcGfX0fLMrDV"
      },
      "execution_count": 11,
      "outputs": []
    },
    {
      "cell_type": "code",
      "source": [
        "wandb.login()\n",
        "\n",
        "print(\"=== LOADING PRE-SPLIT DATA ===\")\n",
        "\n",
        "train_df, val_df, test_df = load_split_data('drive/MyDrive/data')\n",
        "\n",
        "emotion_map = {0: 'Angry', 1: 'Disgust', 2: 'Fear', 3: 'Happy', 4: 'Sad', 5: 'Surprise', 6: 'Neutral'}"
      ],
      "metadata": {
        "colab": {
          "base_uri": "https://localhost:8080/"
        },
        "id": "XelLOU59Mreu",
        "outputId": "90a9440f-9df2-4bf6-b1a5-35d1f394b821"
      },
      "execution_count": 12,
      "outputs": [
        {
          "output_type": "stream",
          "name": "stdout",
          "text": [
            "=== LOADING PRE-SPLIT DATA ===\n"
          ]
        }
      ]
    },
    {
      "cell_type": "markdown",
      "source": [],
      "metadata": {
        "id": "0CEqbEHTM2FS"
      }
    },
    {
      "cell_type": "code",
      "source": [
        "print(\"=== ACTIVATION FUNCTION EXPERIMENTS ===\")\n",
        "\n",
        "class FlexibleMLP(nn.Module):\n",
        "    \"\"\"MLP with configurable activation function for activation experiments\"\"\"\n",
        "    def __init__(self, input_size=2304, hidden_sizes=[512, 256], num_classes=7,\n",
        "                 dropout_rate=0.3, use_batch_norm=True, activation='relu'):\n",
        "        super(FlexibleMLP, self).__init__()\n",
        "\n",
        "        self.use_batch_norm = use_batch_norm\n",
        "        self.activation_fn = self._get_activation(activation)\n",
        "\n",
        "        layers = []\n",
        "        prev_size = input_size\n",
        "\n",
        "        for hidden_size in hidden_sizes:\n",
        "            layers.append(nn.Linear(prev_size, hidden_size))\n",
        "            if use_batch_norm:\n",
        "                layers.append(nn.BatchNorm1d(hidden_size))\n",
        "            layers.append(self.activation_fn)\n",
        "            layers.append(nn.Dropout(dropout_rate))\n",
        "            prev_size = hidden_size\n",
        "\n",
        "        layers.append(nn.Linear(prev_size, num_classes))\n",
        "\n",
        "        self.layers = nn.Sequential(*layers)\n",
        "        self._initialize_weights()\n",
        "\n",
        "    def _get_activation(self, activation):\n",
        "        activations = {\n",
        "            'relu': nn.ReLU(),\n",
        "            'leaky_relu': nn.LeakyReLU(0.01),\n",
        "            'elu': nn.ELU(),\n",
        "            'gelu': nn.GELU(),\n",
        "            'swish': nn.SiLU(),\n",
        "            'tanh': nn.Tanh()\n",
        "        }\n",
        "        return activations.get(activation, nn.ReLU())\n",
        "\n",
        "    def _initialize_weights(self):\n",
        "        for m in self.modules():\n",
        "            if isinstance(m, nn.Linear):\n",
        "                nn.init.xavier_uniform_(m.weight)\n",
        "                nn.init.constant_(m.bias, 0)\n",
        "            elif isinstance(m, nn.BatchNorm1d):\n",
        "                nn.init.constant_(m.weight, 1)\n",
        "                nn.init.constant_(m.bias, 0)\n",
        "\n",
        "    def forward(self, x):\n",
        "        return self.layers(x)\n",
        "\n",
        "activation_functions = ['relu', 'leaky_relu', 'elu', 'gelu', 'swish', 'tanh']\n",
        "activation_results = {}\n",
        "\n",
        "for activation in activation_functions:\n",
        "    print(f\"\\nTesting activation function: {activation}\")\n",
        "\n",
        "    train_dataset = MLPFacialExpressionDataset(train_df, normalization='standard')\n",
        "    val_dataset = MLPFacialExpressionDataset(val_df, normalization='standard')\n",
        "\n",
        "    train_loader = DataLoader(train_dataset, batch_size=64, shuffle=True)\n",
        "    val_loader = DataLoader(val_dataset, batch_size=64, shuffle=False)\n",
        "\n",
        "    model = FlexibleMLP(\n",
        "        input_size=2304,\n",
        "        hidden_sizes=[512, 256],\n",
        "        num_classes=7,\n",
        "        dropout_rate=0.3,\n",
        "        use_batch_norm=True,\n",
        "        activation=activation\n",
        "    )\n",
        "\n",
        "    criterion = nn.CrossEntropyLoss()\n",
        "    optimizer = optim.Adam(model.parameters(), lr=0.001)\n",
        "\n",
        "    trainer = AdvancedTrainer(\n",
        "        model=model,\n",
        "        train_loader=train_loader,\n",
        "        val_loader=val_loader,\n",
        "        criterion=criterion,\n",
        "        optimizer=optimizer,\n",
        "        device=device,\n",
        "        experiment_name=\"Advanced_MLP_Training\",\n",
        "        run_name=f\"Activation_{activation}\"\n",
        "    )\n",
        "\n",
        "    history = trainer.train(epochs=10, early_stopping_patience=5)\n",
        "\n",
        "    activation_results[activation] = {\n",
        "        'best_val_acc': trainer.best_val_acc,\n",
        "        'final_train_acc': history['train_acc'][-1],\n",
        "        'final_val_acc': history['val_acc'][-1],\n",
        "        'convergence_speed': len(history['train_acc'])\n",
        "    }\n",
        "\n",
        "    wandb.finish()\n",
        "\n",
        "    print(f\"Best validation accuracy: {trainer.best_val_acc:.2f}%\")\n",
        "\n",
        "print(\"\\n=== ACTIVATION FUNCTION ANALYSIS ===\")\n",
        "best_activation = max(activation_results.keys(), key=lambda x: activation_results[x]['best_val_acc'])\n",
        "print(f\"Best activation function: {best_activation}\")\n",
        "\n",
        "for activation, results in activation_results.items():\n",
        "    print(f\"{activation}: {results['best_val_acc']:.2f}%\")"
      ],
      "metadata": {
        "colab": {
          "base_uri": "https://localhost:8080/",
          "height": 1000
        },
        "id": "B7etyiKGMrt1",
        "outputId": "2b5010f9-77df-41e9-d58f-cf4c4909ca32"
      },
      "execution_count": 14,
      "outputs": [
        {
          "output_type": "stream",
          "name": "stdout",
          "text": [
            "=== ACTIVATION FUNCTION EXPERIMENTS ===\n",
            "\n",
            "Testing activation function: relu\n"
          ]
        },
        {
          "output_type": "display_data",
          "data": {
            "text/plain": [
              "<IPython.core.display.HTML object>"
            ],
            "text/html": [
              "Finishing previous runs because reinit is set to True."
            ]
          },
          "metadata": {}
        },
        {
          "output_type": "display_data",
          "data": {
            "text/plain": [
              "<IPython.core.display.HTML object>"
            ],
            "text/html": []
          },
          "metadata": {}
        },
        {
          "output_type": "display_data",
          "data": {
            "text/plain": [
              "<IPython.core.display.HTML object>"
            ],
            "text/html": [
              "<br>    <style><br>        .wandb-row {<br>            display: flex;<br>            flex-direction: row;<br>            flex-wrap: wrap;<br>            justify-content: flex-start;<br>            width: 100%;<br>        }<br>        .wandb-col {<br>            display: flex;<br>            flex-direction: column;<br>            flex-basis: 100%;<br>            flex: 1;<br>            padding: 10px;<br>        }<br>    </style><br><div class=\"wandb-row\"><div class=\"wandb-col\"><h3>Run history:</h3><br/><table class=\"wandb\"><tr><td>accuracy_gap</td><td>▁</td></tr><tr><td>best_val_accuracy</td><td>▁</td></tr><tr><td>epoch</td><td>▁</td></tr><tr><td>epoch_time</td><td>▁</td></tr><tr><td>learning_rate</td><td>▁</td></tr><tr><td>loss_gap</td><td>▁</td></tr><tr><td>overfitting_score</td><td>▁</td></tr><tr><td>train_accuracy</td><td>▁</td></tr><tr><td>train_loss</td><td>▁</td></tr><tr><td>val_accuracy</td><td>▁</td></tr><tr><td>val_loss</td><td>▁</td></tr></table><br/></div><div class=\"wandb-col\"><h3>Run summary:</h3><br/><table class=\"wandb\"><tr><td>accuracy_gap</td><td>-2.95064</td></tr><tr><td>best_val_accuracy</td><td>32.36592</td></tr><tr><td>epoch</td><td>1</td></tr><tr><td>epoch_time</td><td>18.84918</td></tr><tr><td>learning_rate</td><td>0.001</td></tr><tr><td>loss_gap</td><td>-0.11179</td></tr><tr><td>overfitting_score</td><td>-0.14129</td></tr><tr><td>train_accuracy</td><td>29.41528</td></tr><tr><td>train_loss</td><td>1.82214</td></tr><tr><td>val_accuracy</td><td>32.36592</td></tr><tr><td>val_loss</td><td>1.71036</td></tr></table><br/></div></div>"
            ]
          },
          "metadata": {}
        },
        {
          "output_type": "display_data",
          "data": {
            "text/plain": [
              "<IPython.core.display.HTML object>"
            ],
            "text/html": [
              " View run <strong style=\"color:#cdcd00\">Activation_relu</strong> at: <a href='https://wandb.ai/nipkha21-free-university-of-tbilisi-/facial-expression-recognition/runs/flt4owqz' target=\"_blank\">https://wandb.ai/nipkha21-free-university-of-tbilisi-/facial-expression-recognition/runs/flt4owqz</a><br> View project at: <a href='https://wandb.ai/nipkha21-free-university-of-tbilisi-/facial-expression-recognition' target=\"_blank\">https://wandb.ai/nipkha21-free-university-of-tbilisi-/facial-expression-recognition</a><br>Synced 5 W&B file(s), 0 media file(s), 0 artifact file(s) and 0 other file(s)"
            ]
          },
          "metadata": {}
        },
        {
          "output_type": "display_data",
          "data": {
            "text/plain": [
              "<IPython.core.display.HTML object>"
            ],
            "text/html": [
              "Find logs at: <code>./wandb/run-20250607_181218-flt4owqz/logs</code>"
            ]
          },
          "metadata": {}
        },
        {
          "output_type": "display_data",
          "data": {
            "text/plain": [
              "<IPython.core.display.HTML object>"
            ],
            "text/html": [
              "Tracking run with wandb version 0.19.11"
            ]
          },
          "metadata": {}
        },
        {
          "output_type": "display_data",
          "data": {
            "text/plain": [
              "<IPython.core.display.HTML object>"
            ],
            "text/html": [
              "Run data is saved locally in <code>/content/wandb/run-20250607_181249-fmthx93r</code>"
            ]
          },
          "metadata": {}
        },
        {
          "output_type": "display_data",
          "data": {
            "text/plain": [
              "<IPython.core.display.HTML object>"
            ],
            "text/html": [
              "Syncing run <strong><a href='https://wandb.ai/nipkha21-free-university-of-tbilisi-/facial-expression-recognition/runs/fmthx93r' target=\"_blank\">Activation_relu</a></strong> to <a href='https://wandb.ai/nipkha21-free-university-of-tbilisi-/facial-expression-recognition' target=\"_blank\">Weights & Biases</a> (<a href='https://wandb.me/developer-guide' target=\"_blank\">docs</a>)<br>"
            ]
          },
          "metadata": {}
        },
        {
          "output_type": "display_data",
          "data": {
            "text/plain": [
              "<IPython.core.display.HTML object>"
            ],
            "text/html": [
              " View project at <a href='https://wandb.ai/nipkha21-free-university-of-tbilisi-/facial-expression-recognition' target=\"_blank\">https://wandb.ai/nipkha21-free-university-of-tbilisi-/facial-expression-recognition</a>"
            ]
          },
          "metadata": {}
        },
        {
          "output_type": "display_data",
          "data": {
            "text/plain": [
              "<IPython.core.display.HTML object>"
            ],
            "text/html": [
              " View run at <a href='https://wandb.ai/nipkha21-free-university-of-tbilisi-/facial-expression-recognition/runs/fmthx93r' target=\"_blank\">https://wandb.ai/nipkha21-free-university-of-tbilisi-/facial-expression-recognition/runs/fmthx93r</a>"
            ]
          },
          "metadata": {}
        },
        {
          "output_type": "stream",
          "name": "stdout",
          "text": [
            "Starting training for 10 epochs...\n"
          ]
        },
        {
          "output_type": "stream",
          "name": "stderr",
          "text": [
            "Training: 100%|██████████| 314/314 [00:15<00:00, 20.64it/s, Loss=1.7197, Acc=29.67%]\n",
            "Validation: 100%|██████████| 68/68 [00:02<00:00, 26.47it/s]\n"
          ]
        },
        {
          "output_type": "stream",
          "name": "stdout",
          "text": [
            "Epoch 1/10:\n",
            "  Train Loss: 1.8216, Train Acc: 29.67%\n",
            "  Val Loss: 1.6497, Val Acc: 35.01%\n",
            "  LR: 0.001000, Time: 17.79s\n",
            "  Overfitting Score: -0.2252\n",
            "--------------------------------------------------\n"
          ]
        },
        {
          "output_type": "stream",
          "name": "stderr",
          "text": [
            "Training: 100%|██████████| 314/314 [00:16<00:00, 19.47it/s, Loss=1.4459, Acc=35.23%]\n",
            "Validation: 100%|██████████| 68/68 [00:04<00:00, 16.54it/s]\n"
          ]
        },
        {
          "output_type": "stream",
          "name": "stdout",
          "text": [
            "Epoch 2/10:\n",
            "  Train Loss: 1.6569, Train Acc: 35.23%\n",
            "  Val Loss: 1.6064, Val Acc: 36.59%\n",
            "  LR: 0.001000, Time: 20.25s\n",
            "  Overfitting Score: -0.0642\n",
            "--------------------------------------------------\n"
          ]
        },
        {
          "output_type": "stream",
          "name": "stderr",
          "text": [
            "Training: 100%|██████████| 314/314 [00:15<00:00, 20.46it/s, Loss=1.7365, Acc=37.89%]\n",
            "Validation: 100%|██████████| 68/68 [00:02<00:00, 25.88it/s]\n"
          ]
        },
        {
          "output_type": "stream",
          "name": "stdout",
          "text": [
            "Epoch 3/10:\n",
            "  Train Loss: 1.5935, Train Acc: 37.89%\n",
            "  Val Loss: 1.6470, Val Acc: 34.27%\n",
            "  LR: 0.001000, Time: 17.98s\n",
            "  Overfitting Score: 0.0898\n",
            "--------------------------------------------------\n"
          ]
        },
        {
          "output_type": "stream",
          "name": "stderr",
          "text": [
            "Training: 100%|██████████| 314/314 [00:15<00:00, 19.79it/s, Loss=1.5983, Acc=39.78%]\n",
            "Validation: 100%|██████████| 68/68 [00:02<00:00, 25.32it/s]\n"
          ]
        },
        {
          "output_type": "stream",
          "name": "stdout",
          "text": [
            "Epoch 4/10:\n",
            "  Train Loss: 1.5449, Train Acc: 39.78%\n",
            "  Val Loss: 1.6158, Val Acc: 36.71%\n",
            "  LR: 0.001000, Time: 18.56s\n",
            "  Overfitting Score: 0.1016\n",
            "--------------------------------------------------\n"
          ]
        },
        {
          "output_type": "stream",
          "name": "stderr",
          "text": [
            "Training: 100%|██████████| 314/314 [00:15<00:00, 19.98it/s, Loss=1.5677, Acc=41.76%]\n",
            "Validation: 100%|██████████| 68/68 [00:04<00:00, 16.30it/s]\n"
          ]
        },
        {
          "output_type": "stream",
          "name": "stdout",
          "text": [
            "Epoch 5/10:\n",
            "  Train Loss: 1.5064, Train Acc: 41.76%\n",
            "  Val Loss: 1.6335, Val Acc: 36.73%\n",
            "  LR: 0.001000, Time: 19.90s\n",
            "  Overfitting Score: 0.1773\n",
            "--------------------------------------------------\n"
          ]
        },
        {
          "output_type": "stream",
          "name": "stderr",
          "text": [
            "Training: 100%|██████████| 314/314 [00:15<00:00, 19.97it/s, Loss=1.6040, Acc=42.74%]\n",
            "Validation: 100%|██████████| 68/68 [00:02<00:00, 26.02it/s]\n"
          ]
        },
        {
          "output_type": "stream",
          "name": "stdout",
          "text": [
            "Epoch 6/10:\n",
            "  Train Loss: 1.4796, Train Acc: 42.74%\n",
            "  Val Loss: 1.6713, Val Acc: 37.59%\n",
            "  LR: 0.001000, Time: 18.35s\n",
            "  Overfitting Score: 0.2432\n",
            "--------------------------------------------------\n"
          ]
        },
        {
          "output_type": "stream",
          "name": "stderr",
          "text": [
            "Training: 100%|██████████| 314/314 [00:15<00:00, 20.04it/s, Loss=1.3153, Acc=44.08%]\n",
            "Validation: 100%|██████████| 68/68 [00:02<00:00, 25.94it/s]\n"
          ]
        },
        {
          "output_type": "stream",
          "name": "stdout",
          "text": [
            "Epoch 7/10:\n",
            "  Train Loss: 1.4463, Train Acc: 44.08%\n",
            "  Val Loss: 1.6715, Val Acc: 35.55%\n",
            "  LR: 0.001000, Time: 18.30s\n",
            "  Overfitting Score: 0.3106\n",
            "--------------------------------------------------\n"
          ]
        },
        {
          "output_type": "stream",
          "name": "stderr",
          "text": [
            "Training: 100%|██████████| 314/314 [00:16<00:00, 19.43it/s, Loss=1.2620, Acc=45.56%]\n",
            "Validation: 100%|██████████| 68/68 [00:03<00:00, 18.62it/s]\n"
          ]
        },
        {
          "output_type": "stream",
          "name": "stdout",
          "text": [
            "Epoch 8/10:\n",
            "  Train Loss: 1.4078, Train Acc: 45.56%\n",
            "  Val Loss: 1.6057, Val Acc: 35.92%\n",
            "  LR: 0.001000, Time: 19.82s\n",
            "  Overfitting Score: 0.2944\n",
            "--------------------------------------------------\n"
          ]
        },
        {
          "output_type": "stream",
          "name": "stderr",
          "text": [
            "Training: 100%|██████████| 314/314 [00:15<00:00, 19.92it/s, Loss=1.2394, Acc=46.98%]\n",
            "Validation: 100%|██████████| 68/68 [00:02<00:00, 25.60it/s]\n"
          ]
        },
        {
          "output_type": "stream",
          "name": "stdout",
          "text": [
            "Epoch 9/10:\n",
            "  Train Loss: 1.3792, Train Acc: 46.98%\n",
            "  Val Loss: 1.5582, Val Acc: 38.89%\n",
            "  LR: 0.001000, Time: 18.42s\n",
            "  Overfitting Score: 0.2598\n",
            "--------------------------------------------------\n"
          ]
        },
        {
          "output_type": "stream",
          "name": "stderr",
          "text": [
            "Training: 100%|██████████| 314/314 [00:15<00:00, 20.25it/s, Loss=1.3702, Acc=48.33%]\n",
            "Validation: 100%|██████████| 68/68 [00:02<00:00, 25.33it/s]\n"
          ]
        },
        {
          "output_type": "stream",
          "name": "stdout",
          "text": [
            "Epoch 10/10:\n",
            "  Train Loss: 1.3521, Train Acc: 48.33%\n",
            "  Val Loss: 1.7581, Val Acc: 31.90%\n",
            "  LR: 0.001000, Time: 18.20s\n",
            "  Overfitting Score: 0.5702\n",
            "--------------------------------------------------\n",
            "Loaded best model with validation accuracy: 38.89%\n"
          ]
        },
        {
          "output_type": "display_data",
          "data": {
            "text/plain": [
              "<IPython.core.display.HTML object>"
            ],
            "text/html": []
          },
          "metadata": {}
        },
        {
          "output_type": "display_data",
          "data": {
            "text/plain": [
              "<IPython.core.display.HTML object>"
            ],
            "text/html": [
              "<br>    <style><br>        .wandb-row {<br>            display: flex;<br>            flex-direction: row;<br>            flex-wrap: wrap;<br>            justify-content: flex-start;<br>            width: 100%;<br>        }<br>        .wandb-col {<br>            display: flex;<br>            flex-direction: column;<br>            flex-basis: 100%;<br>            flex: 1;<br>            padding: 10px;<br>        }<br>    </style><br><div class=\"wandb-row\"><div class=\"wandb-col\"><h3>Run history:</h3><br/><table class=\"wandb\"><tr><td>accuracy_gap</td><td>▁▂▄▄▄▄▅▆▅█</td></tr><tr><td>best_val_accuracy</td><td>▁▄▄▄▄▆▆▆██</td></tr><tr><td>epoch</td><td>▁▂▃▃▄▅▆▆▇█</td></tr><tr><td>epoch_time</td><td>▁█▂▃▇▃▂▇▃▂</td></tr><tr><td>learning_rate</td><td>▁▁▁▁▁▁▁▁▁▁</td></tr><tr><td>loss_gap</td><td>▁▂▄▄▅▅▆▅▅█</td></tr><tr><td>overfitting_score</td><td>▁▂▄▄▅▅▆▆▅█</td></tr><tr><td>train_accuracy</td><td>▁▃▄▅▆▆▆▇▇█</td></tr><tr><td>train_loss</td><td>█▆▅▄▃▃▂▂▁▁</td></tr><tr><td>val_accuracy</td><td>▄▆▃▆▆▇▅▅█▁</td></tr><tr><td>val_loss</td><td>▄▃▄▃▄▅▅▃▁█</td></tr></table><br/></div><div class=\"wandb-col\"><h3>Run summary:</h3><br/><table class=\"wandb\"><tr><td>accuracy_gap</td><td>16.4239</td></tr><tr><td>best_val_accuracy</td><td>38.89018</td></tr><tr><td>epoch</td><td>10</td></tr><tr><td>epoch_time</td><td>18.19663</td></tr><tr><td>learning_rate</td><td>0.001</td></tr><tr><td>loss_gap</td><td>0.40599</td></tr><tr><td>overfitting_score</td><td>0.57023</td></tr><tr><td>train_accuracy</td><td>48.32545</td></tr><tr><td>train_loss</td><td>1.35212</td></tr><tr><td>val_accuracy</td><td>31.90156</td></tr><tr><td>val_loss</td><td>1.75811</td></tr></table><br/></div></div>"
            ]
          },
          "metadata": {}
        },
        {
          "output_type": "display_data",
          "data": {
            "text/plain": [
              "<IPython.core.display.HTML object>"
            ],
            "text/html": [
              " View run <strong style=\"color:#cdcd00\">Activation_relu</strong> at: <a href='https://wandb.ai/nipkha21-free-university-of-tbilisi-/facial-expression-recognition/runs/fmthx93r' target=\"_blank\">https://wandb.ai/nipkha21-free-university-of-tbilisi-/facial-expression-recognition/runs/fmthx93r</a><br> View project at: <a href='https://wandb.ai/nipkha21-free-university-of-tbilisi-/facial-expression-recognition' target=\"_blank\">https://wandb.ai/nipkha21-free-university-of-tbilisi-/facial-expression-recognition</a><br>Synced 5 W&B file(s), 1 media file(s), 2 artifact file(s) and 0 other file(s)"
            ]
          },
          "metadata": {}
        },
        {
          "output_type": "display_data",
          "data": {
            "text/plain": [
              "<IPython.core.display.HTML object>"
            ],
            "text/html": [
              "Find logs at: <code>./wandb/run-20250607_181249-fmthx93r/logs</code>"
            ]
          },
          "metadata": {}
        },
        {
          "output_type": "stream",
          "name": "stdout",
          "text": [
            "Best validation accuracy: 38.89%\n",
            "\n",
            "Testing activation function: leaky_relu\n"
          ]
        },
        {
          "output_type": "display_data",
          "data": {
            "text/plain": [
              "<IPython.core.display.HTML object>"
            ],
            "text/html": [
              "Tracking run with wandb version 0.19.11"
            ]
          },
          "metadata": {}
        },
        {
          "output_type": "display_data",
          "data": {
            "text/plain": [
              "<IPython.core.display.HTML object>"
            ],
            "text/html": [
              "Run data is saved locally in <code>/content/wandb/run-20250607_181600-nysg7fqb</code>"
            ]
          },
          "metadata": {}
        },
        {
          "output_type": "display_data",
          "data": {
            "text/plain": [
              "<IPython.core.display.HTML object>"
            ],
            "text/html": [
              "Syncing run <strong><a href='https://wandb.ai/nipkha21-free-university-of-tbilisi-/facial-expression-recognition/runs/nysg7fqb' target=\"_blank\">Activation_leaky_relu</a></strong> to <a href='https://wandb.ai/nipkha21-free-university-of-tbilisi-/facial-expression-recognition' target=\"_blank\">Weights & Biases</a> (<a href='https://wandb.me/developer-guide' target=\"_blank\">docs</a>)<br>"
            ]
          },
          "metadata": {}
        },
        {
          "output_type": "display_data",
          "data": {
            "text/plain": [
              "<IPython.core.display.HTML object>"
            ],
            "text/html": [
              " View project at <a href='https://wandb.ai/nipkha21-free-university-of-tbilisi-/facial-expression-recognition' target=\"_blank\">https://wandb.ai/nipkha21-free-university-of-tbilisi-/facial-expression-recognition</a>"
            ]
          },
          "metadata": {}
        },
        {
          "output_type": "display_data",
          "data": {
            "text/plain": [
              "<IPython.core.display.HTML object>"
            ],
            "text/html": [
              " View run at <a href='https://wandb.ai/nipkha21-free-university-of-tbilisi-/facial-expression-recognition/runs/nysg7fqb' target=\"_blank\">https://wandb.ai/nipkha21-free-university-of-tbilisi-/facial-expression-recognition/runs/nysg7fqb</a>"
            ]
          },
          "metadata": {}
        },
        {
          "output_type": "stream",
          "name": "stdout",
          "text": [
            "Starting training for 10 epochs...\n"
          ]
        },
        {
          "output_type": "stream",
          "name": "stderr",
          "text": [
            "Training: 100%|██████████| 314/314 [00:15<00:00, 20.25it/s, Loss=1.7679, Acc=29.18%]\n",
            "Validation: 100%|██████████| 68/68 [00:02<00:00, 26.27it/s]\n"
          ]
        },
        {
          "output_type": "stream",
          "name": "stdout",
          "text": [
            "Epoch 1/10:\n",
            "  Train Loss: 1.8351, Train Acc: 29.18%\n",
            "  Val Loss: 1.6687, Val Acc: 33.55%\n",
            "  LR: 0.001000, Time: 18.10s\n",
            "  Overfitting Score: -0.2102\n",
            "--------------------------------------------------\n"
          ]
        },
        {
          "output_type": "stream",
          "name": "stderr",
          "text": [
            "Training: 100%|██████████| 314/314 [00:15<00:00, 20.30it/s, Loss=1.5236, Acc=35.17%]\n",
            "Validation: 100%|██████████| 68/68 [00:02<00:00, 26.14it/s]\n"
          ]
        },
        {
          "output_type": "stream",
          "name": "stdout",
          "text": [
            "Epoch 2/10:\n",
            "  Train Loss: 1.6558, Train Acc: 35.17%\n",
            "  Val Loss: 1.6237, Val Acc: 35.83%\n",
            "  LR: 0.001000, Time: 18.08s\n",
            "  Overfitting Score: -0.0387\n",
            "--------------------------------------------------\n"
          ]
        },
        {
          "output_type": "stream",
          "name": "stderr",
          "text": [
            "Training: 100%|██████████| 314/314 [00:15<00:00, 20.29it/s, Loss=1.5806, Acc=37.58%]\n",
            "Validation: 100%|██████████| 68/68 [00:04<00:00, 15.79it/s]\n"
          ]
        },
        {
          "output_type": "stream",
          "name": "stdout",
          "text": [
            "Epoch 3/10:\n",
            "  Train Loss: 1.5915, Train Acc: 37.58%\n",
            "  Val Loss: 1.5886, Val Acc: 37.87%\n",
            "  LR: 0.001000, Time: 19.79s\n",
            "  Overfitting Score: -0.0058\n",
            "--------------------------------------------------\n"
          ]
        },
        {
          "output_type": "stream",
          "name": "stderr",
          "text": [
            "Training: 100%|██████████| 314/314 [00:15<00:00, 20.27it/s, Loss=1.5754, Acc=39.67%]\n",
            "Validation: 100%|██████████| 68/68 [00:02<00:00, 25.69it/s]\n"
          ]
        },
        {
          "output_type": "stream",
          "name": "stdout",
          "text": [
            "Epoch 4/10:\n",
            "  Train Loss: 1.5469, Train Acc: 39.67%\n",
            "  Val Loss: 1.6073, Val Acc: 37.17%\n",
            "  LR: 0.001000, Time: 18.15s\n",
            "  Overfitting Score: 0.0854\n",
            "--------------------------------------------------\n"
          ]
        },
        {
          "output_type": "stream",
          "name": "stderr",
          "text": [
            "Training: 100%|██████████| 314/314 [00:15<00:00, 20.29it/s, Loss=1.3245, Acc=41.18%]\n",
            "Validation: 100%|██████████| 68/68 [00:02<00:00, 25.56it/s]\n"
          ]
        },
        {
          "output_type": "stream",
          "name": "stdout",
          "text": [
            "Epoch 5/10:\n",
            "  Train Loss: 1.5109, Train Acc: 41.18%\n",
            "  Val Loss: 1.5589, Val Acc: 39.15%\n",
            "  LR: 0.001000, Time: 18.15s\n",
            "  Overfitting Score: 0.0683\n",
            "--------------------------------------------------\n"
          ]
        },
        {
          "output_type": "stream",
          "name": "stderr",
          "text": [
            "Training: 100%|██████████| 314/314 [00:15<00:00, 20.21it/s, Loss=1.3747, Acc=43.10%]\n",
            "Validation: 100%|██████████| 68/68 [00:04<00:00, 15.88it/s]\n"
          ]
        },
        {
          "output_type": "stream",
          "name": "stdout",
          "text": [
            "Epoch 6/10:\n",
            "  Train Loss: 1.4778, Train Acc: 43.10%\n",
            "  Val Loss: 1.6243, Val Acc: 36.61%\n",
            "  LR: 0.001000, Time: 19.83s\n",
            "  Overfitting Score: 0.2113\n",
            "--------------------------------------------------\n"
          ]
        },
        {
          "output_type": "stream",
          "name": "stderr",
          "text": [
            "Training: 100%|██████████| 314/314 [00:15<00:00, 20.20it/s, Loss=1.4285, Acc=43.99%]\n",
            "Validation: 100%|██████████| 68/68 [00:02<00:00, 26.01it/s]\n"
          ]
        },
        {
          "output_type": "stream",
          "name": "stdout",
          "text": [
            "Epoch 7/10:\n",
            "  Train Loss: 1.4488, Train Acc: 43.99%\n",
            "  Val Loss: 1.5653, Val Acc: 39.80%\n",
            "  LR: 0.001000, Time: 18.17s\n",
            "  Overfitting Score: 0.1585\n",
            "--------------------------------------------------\n"
          ]
        },
        {
          "output_type": "stream",
          "name": "stderr",
          "text": [
            "Training: 100%|██████████| 314/314 [00:15<00:00, 20.03it/s, Loss=1.6079, Acc=45.16%]\n",
            "Validation: 100%|██████████| 68/68 [00:02<00:00, 25.94it/s]\n"
          ]
        },
        {
          "output_type": "stream",
          "name": "stdout",
          "text": [
            "Epoch 8/10:\n",
            "  Train Loss: 1.4199, Train Acc: 45.16%\n",
            "  Val Loss: 1.5913, Val Acc: 38.57%\n",
            "  LR: 0.001000, Time: 18.31s\n",
            "  Overfitting Score: 0.2373\n",
            "--------------------------------------------------\n"
          ]
        },
        {
          "output_type": "stream",
          "name": "stderr",
          "text": [
            "Training: 100%|██████████| 314/314 [00:15<00:00, 19.92it/s, Loss=1.3381, Acc=46.51%]\n",
            "Validation: 100%|██████████| 68/68 [00:04<00:00, 16.28it/s]\n"
          ]
        },
        {
          "output_type": "stream",
          "name": "stdout",
          "text": [
            "Epoch 9/10:\n",
            "  Train Loss: 1.3893, Train Acc: 46.51%\n",
            "  Val Loss: 1.5681, Val Acc: 39.38%\n",
            "  LR: 0.001000, Time: 19.95s\n",
            "  Overfitting Score: 0.2501\n",
            "--------------------------------------------------\n"
          ]
        },
        {
          "output_type": "stream",
          "name": "stderr",
          "text": [
            "Training: 100%|██████████| 314/314 [00:15<00:00, 20.11it/s, Loss=1.5704, Acc=48.06%]\n",
            "Validation: 100%|██████████| 68/68 [00:02<00:00, 25.50it/s]\n"
          ]
        },
        {
          "output_type": "stream",
          "name": "stdout",
          "text": [
            "Epoch 10/10:\n",
            "  Train Loss: 1.3570, Train Acc: 48.06%\n",
            "  Val Loss: 1.6051, Val Acc: 37.96%\n",
            "  LR: 0.001000, Time: 18.29s\n",
            "  Overfitting Score: 0.3491\n",
            "--------------------------------------------------\n",
            "Loaded best model with validation accuracy: 39.80%\n"
          ]
        },
        {
          "output_type": "display_data",
          "data": {
            "text/plain": [
              "<IPython.core.display.HTML object>"
            ],
            "text/html": []
          },
          "metadata": {}
        },
        {
          "output_type": "display_data",
          "data": {
            "text/plain": [
              "<IPython.core.display.HTML object>"
            ],
            "text/html": [
              "<br>    <style><br>        .wandb-row {<br>            display: flex;<br>            flex-direction: row;<br>            flex-wrap: wrap;<br>            justify-content: flex-start;<br>            width: 100%;<br>        }<br>        .wandb-col {<br>            display: flex;<br>            flex-direction: column;<br>            flex-basis: 100%;<br>            flex: 1;<br>            padding: 10px;<br>        }<br>    </style><br><div class=\"wandb-row\"><div class=\"wandb-col\"><h3>Run history:</h3><br/><table class=\"wandb\"><tr><td>accuracy_gap</td><td>▁▃▃▄▄▆▅▆▇█</td></tr><tr><td>best_val_accuracy</td><td>▁▄▆▆▇▇████</td></tr><tr><td>epoch</td><td>▁▂▃▃▄▅▆▆▇█</td></tr><tr><td>epoch_time</td><td>▁▁▇▁▁█▁▂█▂</td></tr><tr><td>learning_rate</td><td>▁▁▁▁▁▁▁▁▁▁</td></tr><tr><td>loss_gap</td><td>▁▃▄▅▅▆▆▇▇█</td></tr><tr><td>overfitting_score</td><td>▁▃▄▅▄▆▆▇▇█</td></tr><tr><td>train_accuracy</td><td>▁▃▄▅▅▆▆▇▇█</td></tr><tr><td>train_loss</td><td>█▅▄▄▃▃▂▂▁▁</td></tr><tr><td>val_accuracy</td><td>▁▄▆▅▇▄█▇█▆</td></tr><tr><td>val_loss</td><td>█▅▃▄▁▅▁▃▂▄</td></tr></table><br/></div><div class=\"wandb-col\"><h3>Run summary:</h3><br/><table class=\"wandb\"><tr><td>accuracy_gap</td><td>10.10025</td></tr><tr><td>best_val_accuracy</td><td>39.79568</td></tr><tr><td>epoch</td><td>10</td></tr><tr><td>epoch_time</td><td>18.28855</td></tr><tr><td>learning_rate</td><td>0.001</td></tr><tr><td>loss_gap</td><td>0.24813</td></tr><tr><td>overfitting_score</td><td>0.34913</td></tr><tr><td>train_accuracy</td><td>48.06171</td></tr><tr><td>train_loss</td><td>1.35702</td></tr><tr><td>val_accuracy</td><td>37.96146</td></tr><tr><td>val_loss</td><td>1.60514</td></tr></table><br/></div></div>"
            ]
          },
          "metadata": {}
        },
        {
          "output_type": "display_data",
          "data": {
            "text/plain": [
              "<IPython.core.display.HTML object>"
            ],
            "text/html": [
              " View run <strong style=\"color:#cdcd00\">Activation_leaky_relu</strong> at: <a href='https://wandb.ai/nipkha21-free-university-of-tbilisi-/facial-expression-recognition/runs/nysg7fqb' target=\"_blank\">https://wandb.ai/nipkha21-free-university-of-tbilisi-/facial-expression-recognition/runs/nysg7fqb</a><br> View project at: <a href='https://wandb.ai/nipkha21-free-university-of-tbilisi-/facial-expression-recognition' target=\"_blank\">https://wandb.ai/nipkha21-free-university-of-tbilisi-/facial-expression-recognition</a><br>Synced 5 W&B file(s), 1 media file(s), 2 artifact file(s) and 0 other file(s)"
            ]
          },
          "metadata": {}
        },
        {
          "output_type": "display_data",
          "data": {
            "text/plain": [
              "<IPython.core.display.HTML object>"
            ],
            "text/html": [
              "Find logs at: <code>./wandb/run-20250607_181600-nysg7fqb/logs</code>"
            ]
          },
          "metadata": {}
        },
        {
          "output_type": "stream",
          "name": "stdout",
          "text": [
            "Best validation accuracy: 39.80%\n",
            "\n",
            "Testing activation function: elu\n"
          ]
        },
        {
          "output_type": "display_data",
          "data": {
            "text/plain": [
              "<IPython.core.display.HTML object>"
            ],
            "text/html": [
              "Tracking run with wandb version 0.19.11"
            ]
          },
          "metadata": {}
        },
        {
          "output_type": "display_data",
          "data": {
            "text/plain": [
              "<IPython.core.display.HTML object>"
            ],
            "text/html": [
              "Run data is saved locally in <code>/content/wandb/run-20250607_181910-fjacnrix</code>"
            ]
          },
          "metadata": {}
        },
        {
          "output_type": "display_data",
          "data": {
            "text/plain": [
              "<IPython.core.display.HTML object>"
            ],
            "text/html": [
              "Syncing run <strong><a href='https://wandb.ai/nipkha21-free-university-of-tbilisi-/facial-expression-recognition/runs/fjacnrix' target=\"_blank\">Activation_elu</a></strong> to <a href='https://wandb.ai/nipkha21-free-university-of-tbilisi-/facial-expression-recognition' target=\"_blank\">Weights & Biases</a> (<a href='https://wandb.me/developer-guide' target=\"_blank\">docs</a>)<br>"
            ]
          },
          "metadata": {}
        },
        {
          "output_type": "display_data",
          "data": {
            "text/plain": [
              "<IPython.core.display.HTML object>"
            ],
            "text/html": [
              " View project at <a href='https://wandb.ai/nipkha21-free-university-of-tbilisi-/facial-expression-recognition' target=\"_blank\">https://wandb.ai/nipkha21-free-university-of-tbilisi-/facial-expression-recognition</a>"
            ]
          },
          "metadata": {}
        },
        {
          "output_type": "display_data",
          "data": {
            "text/plain": [
              "<IPython.core.display.HTML object>"
            ],
            "text/html": [
              " View run at <a href='https://wandb.ai/nipkha21-free-university-of-tbilisi-/facial-expression-recognition/runs/fjacnrix' target=\"_blank\">https://wandb.ai/nipkha21-free-university-of-tbilisi-/facial-expression-recognition/runs/fjacnrix</a>"
            ]
          },
          "metadata": {}
        },
        {
          "output_type": "stream",
          "name": "stdout",
          "text": [
            "Starting training for 10 epochs...\n"
          ]
        },
        {
          "output_type": "stream",
          "name": "stderr",
          "text": [
            "Training: 100%|██████████| 314/314 [00:15<00:00, 20.20it/s, Loss=1.6646, Acc=29.14%]\n",
            "Validation: 100%|██████████| 68/68 [00:03<00:00, 18.17it/s]\n"
          ]
        },
        {
          "output_type": "stream",
          "name": "stdout",
          "text": [
            "Epoch 1/10:\n",
            "  Train Loss: 1.8714, Train Acc: 29.14%\n",
            "  Val Loss: 1.6835, Val Acc: 33.99%\n",
            "  LR: 0.001000, Time: 19.30s\n",
            "  Overfitting Score: -0.2364\n",
            "--------------------------------------------------\n"
          ]
        },
        {
          "output_type": "stream",
          "name": "stderr",
          "text": [
            "Training: 100%|██████████| 314/314 [00:16<00:00, 19.30it/s, Loss=1.7955, Acc=33.79%]\n",
            "Validation: 100%|██████████| 68/68 [00:02<00:00, 25.60it/s]\n"
          ]
        },
        {
          "output_type": "stream",
          "name": "stdout",
          "text": [
            "Epoch 2/10:\n",
            "  Train Loss: 1.7023, Train Acc: 33.79%\n",
            "  Val Loss: 1.6229, Val Acc: 36.43%\n",
            "  LR: 0.001000, Time: 18.93s\n",
            "  Overfitting Score: -0.1059\n",
            "--------------------------------------------------\n"
          ]
        },
        {
          "output_type": "stream",
          "name": "stderr",
          "text": [
            "Training: 100%|██████████| 314/314 [00:16<00:00, 19.47it/s, Loss=1.9070, Acc=36.06%]\n",
            "Validation: 100%|██████████| 68/68 [00:02<00:00, 25.75it/s]\n"
          ]
        },
        {
          "output_type": "stream",
          "name": "stdout",
          "text": [
            "Epoch 3/10:\n",
            "  Train Loss: 1.6409, Train Acc: 36.06%\n",
            "  Val Loss: 1.6375, Val Acc: 36.43%\n",
            "  LR: 0.001000, Time: 18.78s\n",
            "  Overfitting Score: -0.0072\n",
            "--------------------------------------------------\n"
          ]
        },
        {
          "output_type": "stream",
          "name": "stderr",
          "text": [
            "Training: 100%|██████████| 314/314 [00:15<00:00, 20.19it/s, Loss=1.5421, Acc=37.66%]\n",
            "Validation: 100%|██████████| 68/68 [00:04<00:00, 15.78it/s]\n"
          ]
        },
        {
          "output_type": "stream",
          "name": "stdout",
          "text": [
            "Epoch 4/10:\n",
            "  Train Loss: 1.6068, Train Acc: 37.66%\n",
            "  Val Loss: 1.6188, Val Acc: 36.59%\n",
            "  LR: 0.001000, Time: 19.87s\n",
            "  Overfitting Score: 0.0227\n",
            "--------------------------------------------------\n"
          ]
        },
        {
          "output_type": "stream",
          "name": "stderr",
          "text": [
            "Training: 100%|██████████| 314/314 [00:15<00:00, 19.93it/s, Loss=1.5653, Acc=38.53%]\n",
            "Validation: 100%|██████████| 68/68 [00:02<00:00, 25.50it/s]\n"
          ]
        },
        {
          "output_type": "stream",
          "name": "stdout",
          "text": [
            "Epoch 5/10:\n",
            "  Train Loss: 1.5771, Train Acc: 38.53%\n",
            "  Val Loss: 1.6014, Val Acc: 37.82%\n",
            "  LR: 0.001000, Time: 18.43s\n",
            "  Overfitting Score: 0.0315\n",
            "--------------------------------------------------\n"
          ]
        },
        {
          "output_type": "stream",
          "name": "stderr",
          "text": [
            "Training: 100%|██████████| 314/314 [00:15<00:00, 20.00it/s, Loss=1.6082, Acc=39.35%]\n",
            "Validation: 100%|██████████| 68/68 [00:02<00:00, 25.92it/s]\n"
          ]
        },
        {
          "output_type": "stream",
          "name": "stdout",
          "text": [
            "Epoch 6/10:\n",
            "  Train Loss: 1.5552, Train Acc: 39.35%\n",
            "  Val Loss: 1.6102, Val Acc: 37.31%\n",
            "  LR: 0.001000, Time: 18.34s\n",
            "  Overfitting Score: 0.0754\n",
            "--------------------------------------------------\n"
          ]
        },
        {
          "output_type": "stream",
          "name": "stderr",
          "text": [
            "Training: 100%|██████████| 314/314 [00:15<00:00, 19.71it/s, Loss=1.4811, Acc=40.39%]\n",
            "Validation: 100%|██████████| 68/68 [00:04<00:00, 16.88it/s]\n"
          ]
        },
        {
          "output_type": "stream",
          "name": "stdout",
          "text": [
            "Epoch 7/10:\n",
            "  Train Loss: 1.5361, Train Acc: 40.39%\n",
            "  Val Loss: 1.6283, Val Acc: 37.61%\n",
            "  LR: 0.001000, Time: 19.97s\n",
            "  Overfitting Score: 0.1200\n",
            "--------------------------------------------------\n"
          ]
        },
        {
          "output_type": "stream",
          "name": "stderr",
          "text": [
            "Training: 100%|██████████| 314/314 [00:15<00:00, 19.93it/s, Loss=1.5358, Acc=41.06%]\n",
            "Validation: 100%|██████████| 68/68 [00:02<00:00, 24.87it/s]\n"
          ]
        },
        {
          "output_type": "stream",
          "name": "stdout",
          "text": [
            "Epoch 8/10:\n",
            "  Train Loss: 1.5109, Train Acc: 41.06%\n",
            "  Val Loss: 1.6474, Val Acc: 36.71%\n",
            "  LR: 0.001000, Time: 18.50s\n",
            "  Overfitting Score: 0.1801\n",
            "--------------------------------------------------\n"
          ]
        },
        {
          "output_type": "stream",
          "name": "stderr",
          "text": [
            "Training: 100%|██████████| 314/314 [00:15<00:00, 20.10it/s, Loss=1.3979, Acc=41.78%]\n",
            "Validation: 100%|██████████| 68/68 [00:02<00:00, 25.26it/s]\n"
          ]
        },
        {
          "output_type": "stream",
          "name": "stdout",
          "text": [
            "Epoch 9/10:\n",
            "  Train Loss: 1.4985, Train Acc: 41.78%\n",
            "  Val Loss: 1.6439, Val Acc: 35.73%\n",
            "  LR: 0.001000, Time: 18.32s\n",
            "  Overfitting Score: 0.2058\n",
            "--------------------------------------------------\n"
          ]
        },
        {
          "output_type": "stream",
          "name": "stderr",
          "text": [
            "Training: 100%|██████████| 314/314 [00:16<00:00, 18.99it/s, Loss=1.4689, Acc=42.49%]\n",
            "Validation: 100%|██████████| 68/68 [00:03<00:00, 19.20it/s]\n"
          ]
        },
        {
          "output_type": "stream",
          "name": "stdout",
          "text": [
            "Epoch 10/10:\n",
            "  Train Loss: 1.4791, Train Acc: 42.49%\n",
            "  Val Loss: 1.8536, Val Acc: 29.44%\n",
            "  LR: 0.001000, Time: 20.08s\n",
            "  Overfitting Score: 0.5050\n",
            "--------------------------------------------------\n",
            "Early stopping triggered at epoch 10\n",
            "Loaded best model with validation accuracy: 37.82%\n"
          ]
        },
        {
          "output_type": "display_data",
          "data": {
            "text/plain": [
              "<IPython.core.display.HTML object>"
            ],
            "text/html": []
          },
          "metadata": {}
        },
        {
          "output_type": "display_data",
          "data": {
            "text/plain": [
              "<IPython.core.display.HTML object>"
            ],
            "text/html": [
              "<br>    <style><br>        .wandb-row {<br>            display: flex;<br>            flex-direction: row;<br>            flex-wrap: wrap;<br>            justify-content: flex-start;<br>            width: 100%;<br>        }<br>        .wandb-col {<br>            display: flex;<br>            flex-direction: column;<br>            flex-basis: 100%;<br>            flex: 1;<br>            padding: 10px;<br>        }<br>    </style><br><div class=\"wandb-row\"><div class=\"wandb-col\"><h3>Run history:</h3><br/><table class=\"wandb\"><tr><td>accuracy_gap</td><td>▁▂▃▃▃▄▄▅▅█</td></tr><tr><td>best_val_accuracy</td><td>▁▅▅▆██████</td></tr><tr><td>epoch</td><td>▁▂▃▃▄▅▆▆▇█</td></tr><tr><td>epoch_time</td><td>▅▃▃▇▁▁█▂▁█</td></tr><tr><td>learning_rate</td><td>▁▁▁▁▁▁▁▁▁▁</td></tr><tr><td>loss_gap</td><td>▁▂▃▃▄▄▄▅▅█</td></tr><tr><td>overfitting_score</td><td>▁▂▃▃▄▄▄▅▅█</td></tr><tr><td>train_accuracy</td><td>▁▃▅▅▆▆▇▇██</td></tr><tr><td>train_loss</td><td>█▅▄▃▃▂▂▂▁▁</td></tr><tr><td>val_accuracy</td><td>▅▇▇▇███▇▆▁</td></tr><tr><td>val_loss</td><td>▃▂▂▁▁▁▂▂▂█</td></tr></table><br/></div><div class=\"wandb-col\"><h3>Run summary:</h3><br/><table class=\"wandb\"><tr><td>accuracy_gap</td><td>13.05271</td></tr><tr><td>best_val_accuracy</td><td>37.82215</td></tr><tr><td>epoch</td><td>10</td></tr><tr><td>epoch_time</td><td>20.08363</td></tr><tr><td>learning_rate</td><td>0.001</td></tr><tr><td>loss_gap</td><td>0.37446</td></tr><tr><td>overfitting_score</td><td>0.50499</td></tr><tr><td>train_accuracy</td><td>42.49316</td></tr><tr><td>train_loss</td><td>1.47914</td></tr><tr><td>val_accuracy</td><td>29.44045</td></tr><tr><td>val_loss</td><td>1.85361</td></tr></table><br/></div></div>"
            ]
          },
          "metadata": {}
        },
        {
          "output_type": "display_data",
          "data": {
            "text/plain": [
              "<IPython.core.display.HTML object>"
            ],
            "text/html": [
              " View run <strong style=\"color:#cdcd00\">Activation_elu</strong> at: <a href='https://wandb.ai/nipkha21-free-university-of-tbilisi-/facial-expression-recognition/runs/fjacnrix' target=\"_blank\">https://wandb.ai/nipkha21-free-university-of-tbilisi-/facial-expression-recognition/runs/fjacnrix</a><br> View project at: <a href='https://wandb.ai/nipkha21-free-university-of-tbilisi-/facial-expression-recognition' target=\"_blank\">https://wandb.ai/nipkha21-free-university-of-tbilisi-/facial-expression-recognition</a><br>Synced 5 W&B file(s), 1 media file(s), 2 artifact file(s) and 0 other file(s)"
            ]
          },
          "metadata": {}
        },
        {
          "output_type": "display_data",
          "data": {
            "text/plain": [
              "<IPython.core.display.HTML object>"
            ],
            "text/html": [
              "Find logs at: <code>./wandb/run-20250607_181910-fjacnrix/logs</code>"
            ]
          },
          "metadata": {}
        },
        {
          "output_type": "stream",
          "name": "stdout",
          "text": [
            "Best validation accuracy: 37.82%\n",
            "\n",
            "Testing activation function: gelu\n"
          ]
        },
        {
          "output_type": "display_data",
          "data": {
            "text/plain": [
              "<IPython.core.display.HTML object>"
            ],
            "text/html": [
              "Tracking run with wandb version 0.19.11"
            ]
          },
          "metadata": {}
        },
        {
          "output_type": "display_data",
          "data": {
            "text/plain": [
              "<IPython.core.display.HTML object>"
            ],
            "text/html": [
              "Run data is saved locally in <code>/content/wandb/run-20250607_182223-n4q0kwj8</code>"
            ]
          },
          "metadata": {}
        },
        {
          "output_type": "display_data",
          "data": {
            "text/plain": [
              "<IPython.core.display.HTML object>"
            ],
            "text/html": [
              "Syncing run <strong><a href='https://wandb.ai/nipkha21-free-university-of-tbilisi-/facial-expression-recognition/runs/n4q0kwj8' target=\"_blank\">Activation_gelu</a></strong> to <a href='https://wandb.ai/nipkha21-free-university-of-tbilisi-/facial-expression-recognition' target=\"_blank\">Weights & Biases</a> (<a href='https://wandb.me/developer-guide' target=\"_blank\">docs</a>)<br>"
            ]
          },
          "metadata": {}
        },
        {
          "output_type": "display_data",
          "data": {
            "text/plain": [
              "<IPython.core.display.HTML object>"
            ],
            "text/html": [
              " View project at <a href='https://wandb.ai/nipkha21-free-university-of-tbilisi-/facial-expression-recognition' target=\"_blank\">https://wandb.ai/nipkha21-free-university-of-tbilisi-/facial-expression-recognition</a>"
            ]
          },
          "metadata": {}
        },
        {
          "output_type": "display_data",
          "data": {
            "text/plain": [
              "<IPython.core.display.HTML object>"
            ],
            "text/html": [
              " View run at <a href='https://wandb.ai/nipkha21-free-university-of-tbilisi-/facial-expression-recognition/runs/n4q0kwj8' target=\"_blank\">https://wandb.ai/nipkha21-free-university-of-tbilisi-/facial-expression-recognition/runs/n4q0kwj8</a>"
            ]
          },
          "metadata": {}
        },
        {
          "output_type": "stream",
          "name": "stdout",
          "text": [
            "Starting training for 10 epochs...\n"
          ]
        },
        {
          "output_type": "stream",
          "name": "stderr",
          "text": [
            "Training: 100%|██████████| 314/314 [00:15<00:00, 20.18it/s, Loss=1.7930, Acc=30.35%]\n",
            "Validation: 100%|██████████| 68/68 [00:02<00:00, 25.83it/s]\n"
          ]
        },
        {
          "output_type": "stream",
          "name": "stdout",
          "text": [
            "Epoch 1/10:\n",
            "  Train Loss: 1.7997, Train Acc: 30.35%\n",
            "  Val Loss: 1.6261, Val Acc: 36.10%\n",
            "  LR: 0.001000, Time: 18.20s\n",
            "  Overfitting Score: -0.2312\n",
            "--------------------------------------------------\n"
          ]
        },
        {
          "output_type": "stream",
          "name": "stderr",
          "text": [
            "Training: 100%|██████████| 314/314 [00:15<00:00, 20.02it/s, Loss=1.6515, Acc=36.10%]\n",
            "Validation: 100%|██████████| 68/68 [00:04<00:00, 15.60it/s]\n"
          ]
        },
        {
          "output_type": "stream",
          "name": "stdout",
          "text": [
            "Epoch 2/10:\n",
            "  Train Loss: 1.6340, Train Acc: 36.10%\n",
            "  Val Loss: 1.6271, Val Acc: 36.36%\n",
            "  LR: 0.001000, Time: 20.05s\n",
            "  Overfitting Score: -0.0095\n",
            "--------------------------------------------------\n"
          ]
        },
        {
          "output_type": "stream",
          "name": "stderr",
          "text": [
            "Training: 100%|██████████| 314/314 [00:15<00:00, 20.04it/s, Loss=1.5979, Acc=39.18%]\n",
            "Validation: 100%|██████████| 68/68 [00:02<00:00, 25.49it/s]\n"
          ]
        },
        {
          "output_type": "stream",
          "name": "stdout",
          "text": [
            "Epoch 3/10:\n",
            "  Train Loss: 1.5676, Train Acc: 39.18%\n",
            "  Val Loss: 1.6340, Val Acc: 36.17%\n",
            "  LR: 0.001000, Time: 18.35s\n",
            "  Overfitting Score: 0.0964\n",
            "--------------------------------------------------\n"
          ]
        },
        {
          "output_type": "stream",
          "name": "stderr",
          "text": [
            "Training: 100%|██████████| 314/314 [00:15<00:00, 19.78it/s, Loss=1.6129, Acc=41.07%]\n",
            "Validation: 100%|██████████| 68/68 [00:02<00:00, 25.95it/s]\n"
          ]
        },
        {
          "output_type": "stream",
          "name": "stdout",
          "text": [
            "Epoch 4/10:\n",
            "  Train Loss: 1.5144, Train Acc: 41.07%\n",
            "  Val Loss: 1.6448, Val Acc: 33.41%\n",
            "  LR: 0.001000, Time: 18.51s\n",
            "  Overfitting Score: 0.2070\n",
            "--------------------------------------------------\n"
          ]
        },
        {
          "output_type": "stream",
          "name": "stderr",
          "text": [
            "Training: 100%|██████████| 314/314 [00:16<00:00, 19.30it/s, Loss=1.4712, Acc=42.82%]\n",
            "Validation: 100%|██████████| 68/68 [00:03<00:00, 17.22it/s]\n"
          ]
        },
        {
          "output_type": "stream",
          "name": "stdout",
          "text": [
            "Epoch 5/10:\n",
            "  Train Loss: 1.4753, Train Acc: 42.82%\n",
            "  Val Loss: 1.5663, Val Acc: 39.08%\n",
            "  LR: 0.001000, Time: 20.23s\n",
            "  Overfitting Score: 0.1285\n",
            "--------------------------------------------------\n"
          ]
        },
        {
          "output_type": "stream",
          "name": "stderr",
          "text": [
            "Training: 100%|██████████| 314/314 [00:15<00:00, 20.03it/s, Loss=1.3118, Acc=44.41%]\n",
            "Validation: 100%|██████████| 68/68 [00:02<00:00, 25.81it/s]\n"
          ]
        },
        {
          "output_type": "stream",
          "name": "stdout",
          "text": [
            "Epoch 6/10:\n",
            "  Train Loss: 1.4318, Train Acc: 44.41%\n",
            "  Val Loss: 1.5954, Val Acc: 38.15%\n",
            "  LR: 0.001000, Time: 18.32s\n",
            "  Overfitting Score: 0.2262\n",
            "--------------------------------------------------\n"
          ]
        },
        {
          "output_type": "stream",
          "name": "stderr",
          "text": [
            "Training: 100%|██████████| 314/314 [00:15<00:00, 20.01it/s, Loss=1.2952, Acc=45.97%]\n",
            "Validation: 100%|██████████| 68/68 [00:02<00:00, 25.61it/s]\n"
          ]
        },
        {
          "output_type": "stream",
          "name": "stdout",
          "text": [
            "Epoch 7/10:\n",
            "  Train Loss: 1.3932, Train Acc: 45.97%\n",
            "  Val Loss: 1.5572, Val Acc: 39.84%\n",
            "  LR: 0.001000, Time: 18.36s\n",
            "  Overfitting Score: 0.2253\n",
            "--------------------------------------------------\n"
          ]
        },
        {
          "output_type": "stream",
          "name": "stderr",
          "text": [
            "Training: 100%|██████████| 314/314 [00:16<00:00, 19.01it/s, Loss=1.4451, Acc=47.84%]\n",
            "Validation: 100%|██████████| 68/68 [00:03<00:00, 19.50it/s]\n"
          ]
        },
        {
          "output_type": "stream",
          "name": "stdout",
          "text": [
            "Epoch 8/10:\n",
            "  Train Loss: 1.3610, Train Acc: 47.84%\n",
            "  Val Loss: 1.5687, Val Acc: 39.68%\n",
            "  LR: 0.001000, Time: 20.02s\n",
            "  Overfitting Score: 0.2894\n",
            "--------------------------------------------------\n"
          ]
        },
        {
          "output_type": "stream",
          "name": "stderr",
          "text": [
            "Training: 100%|██████████| 314/314 [00:15<00:00, 20.07it/s, Loss=1.4439, Acc=49.24%]\n",
            "Validation: 100%|██████████| 68/68 [00:02<00:00, 25.57it/s]\n"
          ]
        },
        {
          "output_type": "stream",
          "name": "stdout",
          "text": [
            "Epoch 9/10:\n",
            "  Train Loss: 1.3285, Train Acc: 49.24%\n",
            "  Val Loss: 1.5521, Val Acc: 40.31%\n",
            "  LR: 0.001000, Time: 18.32s\n",
            "  Overfitting Score: 0.3129\n",
            "--------------------------------------------------\n"
          ]
        },
        {
          "output_type": "stream",
          "name": "stderr",
          "text": [
            "Training: 100%|██████████| 314/314 [00:15<00:00, 20.02it/s, Loss=1.1832, Acc=51.03%]\n",
            "Validation: 100%|██████████| 68/68 [00:02<00:00, 24.73it/s]"
          ]
        },
        {
          "output_type": "stream",
          "name": "stdout",
          "text": [
            "Epoch 10/10:\n",
            "  Train Loss: 1.2844, Train Acc: 51.03%\n",
            "  Val Loss: 1.5847, Val Acc: 39.28%\n",
            "  LR: 0.001000, Time: 18.45s\n",
            "  Overfitting Score: 0.4178\n",
            "--------------------------------------------------\n",
            "Loaded best model with validation accuracy: 40.31%\n"
          ]
        },
        {
          "output_type": "stream",
          "name": "stderr",
          "text": [
            "\n"
          ]
        },
        {
          "output_type": "display_data",
          "data": {
            "text/plain": [
              "<IPython.core.display.HTML object>"
            ],
            "text/html": []
          },
          "metadata": {}
        },
        {
          "output_type": "display_data",
          "data": {
            "text/plain": [
              "<IPython.core.display.HTML object>"
            ],
            "text/html": [
              "<br>    <style><br>        .wandb-row {<br>            display: flex;<br>            flex-direction: row;<br>            flex-wrap: wrap;<br>            justify-content: flex-start;<br>            width: 100%;<br>        }<br>        .wandb-col {<br>            display: flex;<br>            flex-direction: column;<br>            flex-basis: 100%;<br>            flex: 1;<br>            padding: 10px;<br>        }<br>    </style><br><div class=\"wandb-row\"><div class=\"wandb-col\"><h3>Run history:</h3><br/><table class=\"wandb\"><tr><td>accuracy_gap</td><td>▁▃▅▆▅▆▆▇▇█</td></tr><tr><td>best_val_accuracy</td><td>▁▁▁▁▆▆▇▇██</td></tr><tr><td>epoch</td><td>▁▂▃▃▄▅▆▆▇█</td></tr><tr><td>epoch_time</td><td>▁▇▁▂█▁▂▇▁▂</td></tr><tr><td>learning_rate</td><td>▁▁▁▁▁▁▁▁▁▁</td></tr><tr><td>loss_gap</td><td>▁▃▅▅▅▆▆▇▇█</td></tr><tr><td>overfitting_score</td><td>▁▃▅▆▅▆▆▇▇█</td></tr><tr><td>train_accuracy</td><td>▁▃▄▅▅▆▆▇▇█</td></tr><tr><td>train_loss</td><td>█▆▅▄▄▃▂▂▂▁</td></tr><tr><td>val_accuracy</td><td>▄▄▄▁▇▆█▇█▇</td></tr><tr><td>val_loss</td><td>▇▇▇█▂▄▁▂▁▃</td></tr></table><br/></div><div class=\"wandb-col\"><h3>Run summary:</h3><br/><table class=\"wandb\"><tr><td>accuracy_gap</td><td>11.74273</td></tr><tr><td>best_val_accuracy</td><td>40.30648</td></tr><tr><td>epoch</td><td>10</td></tr><tr><td>epoch_time</td><td>18.44873</td></tr><tr><td>learning_rate</td><td>0.001</td></tr><tr><td>loss_gap</td><td>0.30033</td></tr><tr><td>overfitting_score</td><td>0.41776</td></tr><tr><td>train_accuracy</td><td>51.02762</td></tr><tr><td>train_loss</td><td>1.2844</td></tr><tr><td>val_accuracy</td><td>39.28489</td></tr><tr><td>val_loss</td><td>1.58473</td></tr></table><br/></div></div>"
            ]
          },
          "metadata": {}
        },
        {
          "output_type": "display_data",
          "data": {
            "text/plain": [
              "<IPython.core.display.HTML object>"
            ],
            "text/html": [
              " View run <strong style=\"color:#cdcd00\">Activation_gelu</strong> at: <a href='https://wandb.ai/nipkha21-free-university-of-tbilisi-/facial-expression-recognition/runs/n4q0kwj8' target=\"_blank\">https://wandb.ai/nipkha21-free-university-of-tbilisi-/facial-expression-recognition/runs/n4q0kwj8</a><br> View project at: <a href='https://wandb.ai/nipkha21-free-university-of-tbilisi-/facial-expression-recognition' target=\"_blank\">https://wandb.ai/nipkha21-free-university-of-tbilisi-/facial-expression-recognition</a><br>Synced 5 W&B file(s), 1 media file(s), 2 artifact file(s) and 0 other file(s)"
            ]
          },
          "metadata": {}
        },
        {
          "output_type": "display_data",
          "data": {
            "text/plain": [
              "<IPython.core.display.HTML object>"
            ],
            "text/html": [
              "Find logs at: <code>./wandb/run-20250607_182223-n4q0kwj8/logs</code>"
            ]
          },
          "metadata": {}
        },
        {
          "output_type": "stream",
          "name": "stdout",
          "text": [
            "Best validation accuracy: 40.31%\n",
            "\n",
            "Testing activation function: swish\n"
          ]
        },
        {
          "output_type": "display_data",
          "data": {
            "text/plain": [
              "<IPython.core.display.HTML object>"
            ],
            "text/html": [
              "Tracking run with wandb version 0.19.11"
            ]
          },
          "metadata": {}
        },
        {
          "output_type": "display_data",
          "data": {
            "text/plain": [
              "<IPython.core.display.HTML object>"
            ],
            "text/html": [
              "Run data is saved locally in <code>/content/wandb/run-20250607_182534-2zxsbu9n</code>"
            ]
          },
          "metadata": {}
        },
        {
          "output_type": "display_data",
          "data": {
            "text/plain": [
              "<IPython.core.display.HTML object>"
            ],
            "text/html": [
              "Syncing run <strong><a href='https://wandb.ai/nipkha21-free-university-of-tbilisi-/facial-expression-recognition/runs/2zxsbu9n' target=\"_blank\">Activation_swish</a></strong> to <a href='https://wandb.ai/nipkha21-free-university-of-tbilisi-/facial-expression-recognition' target=\"_blank\">Weights & Biases</a> (<a href='https://wandb.me/developer-guide' target=\"_blank\">docs</a>)<br>"
            ]
          },
          "metadata": {}
        },
        {
          "output_type": "display_data",
          "data": {
            "text/plain": [
              "<IPython.core.display.HTML object>"
            ],
            "text/html": [
              " View project at <a href='https://wandb.ai/nipkha21-free-university-of-tbilisi-/facial-expression-recognition' target=\"_blank\">https://wandb.ai/nipkha21-free-university-of-tbilisi-/facial-expression-recognition</a>"
            ]
          },
          "metadata": {}
        },
        {
          "output_type": "display_data",
          "data": {
            "text/plain": [
              "<IPython.core.display.HTML object>"
            ],
            "text/html": [
              " View run at <a href='https://wandb.ai/nipkha21-free-university-of-tbilisi-/facial-expression-recognition/runs/2zxsbu9n' target=\"_blank\">https://wandb.ai/nipkha21-free-university-of-tbilisi-/facial-expression-recognition/runs/2zxsbu9n</a>"
            ]
          },
          "metadata": {}
        },
        {
          "output_type": "stream",
          "name": "stdout",
          "text": [
            "Starting training for 10 epochs...\n"
          ]
        },
        {
          "output_type": "stream",
          "name": "stderr",
          "text": [
            "Training: 100%|██████████| 314/314 [00:15<00:00, 19.84it/s, Loss=1.5191, Acc=30.97%]\n",
            "Validation: 100%|██████████| 68/68 [00:02<00:00, 26.17it/s]\n"
          ]
        },
        {
          "output_type": "stream",
          "name": "stdout",
          "text": [
            "Epoch 1/10:\n",
            "  Train Loss: 1.7862, Train Acc: 30.97%\n",
            "  Val Loss: 1.6525, Val Acc: 34.55%\n",
            "  LR: 0.001000, Time: 18.44s\n",
            "  Overfitting Score: -0.1694\n",
            "--------------------------------------------------\n"
          ]
        },
        {
          "output_type": "stream",
          "name": "stderr",
          "text": [
            "Training: 100%|██████████| 314/314 [00:15<00:00, 19.84it/s, Loss=1.6827, Acc=35.78%]\n",
            "Validation: 100%|██████████| 68/68 [00:02<00:00, 25.70it/s]\n"
          ]
        },
        {
          "output_type": "stream",
          "name": "stdout",
          "text": [
            "Epoch 2/10:\n",
            "  Train Loss: 1.6470, Train Acc: 35.78%\n",
            "  Val Loss: 1.6155, Val Acc: 37.31%\n",
            "  LR: 0.001000, Time: 18.48s\n",
            "  Overfitting Score: -0.0468\n",
            "--------------------------------------------------\n"
          ]
        },
        {
          "output_type": "stream",
          "name": "stderr",
          "text": [
            "Training: 100%|██████████| 314/314 [00:16<00:00, 19.52it/s, Loss=1.6437, Acc=38.42%]\n",
            "Validation: 100%|██████████| 68/68 [00:03<00:00, 17.62it/s]\n"
          ]
        },
        {
          "output_type": "stream",
          "name": "stdout",
          "text": [
            "Epoch 3/10:\n",
            "  Train Loss: 1.5804, Train Acc: 38.42%\n",
            "  Val Loss: 1.6146, Val Acc: 37.13%\n",
            "  LR: 0.001000, Time: 19.96s\n",
            "  Overfitting Score: 0.0471\n",
            "--------------------------------------------------\n"
          ]
        },
        {
          "output_type": "stream",
          "name": "stderr",
          "text": [
            "Training: 100%|██████████| 314/314 [00:15<00:00, 19.94it/s, Loss=1.6864, Acc=39.76%]\n",
            "Validation: 100%|██████████| 68/68 [00:02<00:00, 25.38it/s]\n"
          ]
        },
        {
          "output_type": "stream",
          "name": "stdout",
          "text": [
            "Epoch 4/10:\n",
            "  Train Loss: 1.5384, Train Acc: 39.76%\n",
            "  Val Loss: 1.6137, Val Acc: 36.87%\n",
            "  LR: 0.001000, Time: 18.44s\n",
            "  Overfitting Score: 0.1041\n",
            "--------------------------------------------------\n"
          ]
        },
        {
          "output_type": "stream",
          "name": "stderr",
          "text": [
            "Training: 100%|██████████| 314/314 [00:15<00:00, 20.05it/s, Loss=1.4323, Acc=41.52%]\n",
            "Validation: 100%|██████████| 68/68 [00:02<00:00, 25.78it/s]\n"
          ]
        },
        {
          "output_type": "stream",
          "name": "stdout",
          "text": [
            "Epoch 5/10:\n",
            "  Train Loss: 1.5036, Train Acc: 41.52%\n",
            "  Val Loss: 1.7222, Val Acc: 29.70%\n",
            "  LR: 0.001000, Time: 18.31s\n",
            "  Overfitting Score: 0.3369\n",
            "--------------------------------------------------\n"
          ]
        },
        {
          "output_type": "stream",
          "name": "stderr",
          "text": [
            "Training: 100%|██████████| 314/314 [00:16<00:00, 18.98it/s, Loss=1.3664, Acc=43.08%]\n",
            "Validation: 100%|██████████| 68/68 [00:03<00:00, 19.95it/s]\n"
          ]
        },
        {
          "output_type": "stream",
          "name": "stdout",
          "text": [
            "Epoch 6/10:\n",
            "  Train Loss: 1.4651, Train Acc: 43.08%\n",
            "  Val Loss: 1.6979, Val Acc: 31.14%\n",
            "  LR: 0.001000, Time: 19.96s\n",
            "  Overfitting Score: 0.3522\n",
            "--------------------------------------------------\n"
          ]
        },
        {
          "output_type": "stream",
          "name": "stderr",
          "text": [
            "Training: 100%|██████████| 314/314 [00:15<00:00, 19.78it/s, Loss=1.3477, Acc=44.56%]\n",
            "Validation: 100%|██████████| 68/68 [00:02<00:00, 26.24it/s]"
          ]
        },
        {
          "output_type": "stream",
          "name": "stdout",
          "text": [
            "Epoch 7/10:\n",
            "  Train Loss: 1.4365, Train Acc: 44.56%\n",
            "  Val Loss: 1.6545, Val Acc: 36.15%\n",
            "  LR: 0.001000, Time: 18.47s\n",
            "  Overfitting Score: 0.3021\n",
            "--------------------------------------------------\n",
            "Early stopping triggered at epoch 7\n",
            "Loaded best model with validation accuracy: 37.31%\n"
          ]
        },
        {
          "output_type": "stream",
          "name": "stderr",
          "text": [
            "\n"
          ]
        },
        {
          "output_type": "display_data",
          "data": {
            "text/plain": [
              "<IPython.core.display.HTML object>"
            ],
            "text/html": []
          },
          "metadata": {}
        },
        {
          "output_type": "display_data",
          "data": {
            "text/plain": [
              "<IPython.core.display.HTML object>"
            ],
            "text/html": [
              "<br>    <style><br>        .wandb-row {<br>            display: flex;<br>            flex-direction: row;<br>            flex-wrap: wrap;<br>            justify-content: flex-start;<br>            width: 100%;<br>        }<br>        .wandb-col {<br>            display: flex;<br>            flex-direction: column;<br>            flex-basis: 100%;<br>            flex: 1;<br>            padding: 10px;<br>        }<br>    </style><br><div class=\"wandb-row\"><div class=\"wandb-col\"><h3>Run history:</h3><br/><table class=\"wandb\"><tr><td>accuracy_gap</td><td>▁▂▃▄██▆</td></tr><tr><td>best_val_accuracy</td><td>▁██████</td></tr><tr><td>epoch</td><td>▁▂▃▅▆▇█</td></tr><tr><td>epoch_time</td><td>▂▂█▂▁█▂</td></tr><tr><td>learning_rate</td><td>▁▁▁▁▁▁▁</td></tr><tr><td>loss_gap</td><td>▁▃▄▅███</td></tr><tr><td>overfitting_score</td><td>▁▃▄▅██▇</td></tr><tr><td>train_accuracy</td><td>▁▃▅▆▆▇█</td></tr><tr><td>train_loss</td><td>█▅▄▃▂▂▁</td></tr><tr><td>val_accuracy</td><td>▅███▁▂▇</td></tr><tr><td>val_loss</td><td>▄▁▁▁█▆▄</td></tr></table><br/></div><div class=\"wandb-col\"><h3>Run summary:</h3><br/><table class=\"wandb\"><tr><td>accuracy_gap</td><td>8.4079</td></tr><tr><td>best_val_accuracy</td><td>37.31135</td></tr><tr><td>epoch</td><td>7</td></tr><tr><td>epoch_time</td><td>18.47352</td></tr><tr><td>learning_rate</td><td>0.001</td></tr><tr><td>loss_gap</td><td>0.21803</td></tr><tr><td>overfitting_score</td><td>0.30211</td></tr><tr><td>train_accuracy</td><td>44.55835</td></tr><tr><td>train_loss</td><td>1.4365</td></tr><tr><td>val_accuracy</td><td>36.15045</td></tr><tr><td>val_loss</td><td>1.65453</td></tr></table><br/></div></div>"
            ]
          },
          "metadata": {}
        },
        {
          "output_type": "display_data",
          "data": {
            "text/plain": [
              "<IPython.core.display.HTML object>"
            ],
            "text/html": [
              " View run <strong style=\"color:#cdcd00\">Activation_swish</strong> at: <a href='https://wandb.ai/nipkha21-free-university-of-tbilisi-/facial-expression-recognition/runs/2zxsbu9n' target=\"_blank\">https://wandb.ai/nipkha21-free-university-of-tbilisi-/facial-expression-recognition/runs/2zxsbu9n</a><br> View project at: <a href='https://wandb.ai/nipkha21-free-university-of-tbilisi-/facial-expression-recognition' target=\"_blank\">https://wandb.ai/nipkha21-free-university-of-tbilisi-/facial-expression-recognition</a><br>Synced 5 W&B file(s), 0 media file(s), 0 artifact file(s) and 0 other file(s)"
            ]
          },
          "metadata": {}
        },
        {
          "output_type": "display_data",
          "data": {
            "text/plain": [
              "<IPython.core.display.HTML object>"
            ],
            "text/html": [
              "Find logs at: <code>./wandb/run-20250607_182534-2zxsbu9n/logs</code>"
            ]
          },
          "metadata": {}
        },
        {
          "output_type": "stream",
          "name": "stdout",
          "text": [
            "Best validation accuracy: 37.31%\n",
            "\n",
            "Testing activation function: tanh\n"
          ]
        },
        {
          "output_type": "display_data",
          "data": {
            "text/plain": [
              "<IPython.core.display.HTML object>"
            ],
            "text/html": [
              "Tracking run with wandb version 0.19.11"
            ]
          },
          "metadata": {}
        },
        {
          "output_type": "display_data",
          "data": {
            "text/plain": [
              "<IPython.core.display.HTML object>"
            ],
            "text/html": [
              "Run data is saved locally in <code>/content/wandb/run-20250607_182748-r3hguc9k</code>"
            ]
          },
          "metadata": {}
        },
        {
          "output_type": "display_data",
          "data": {
            "text/plain": [
              "<IPython.core.display.HTML object>"
            ],
            "text/html": [
              "Syncing run <strong><a href='https://wandb.ai/nipkha21-free-university-of-tbilisi-/facial-expression-recognition/runs/r3hguc9k' target=\"_blank\">Activation_tanh</a></strong> to <a href='https://wandb.ai/nipkha21-free-university-of-tbilisi-/facial-expression-recognition' target=\"_blank\">Weights & Biases</a> (<a href='https://wandb.me/developer-guide' target=\"_blank\">docs</a>)<br>"
            ]
          },
          "metadata": {}
        },
        {
          "output_type": "display_data",
          "data": {
            "text/plain": [
              "<IPython.core.display.HTML object>"
            ],
            "text/html": [
              " View project at <a href='https://wandb.ai/nipkha21-free-university-of-tbilisi-/facial-expression-recognition' target=\"_blank\">https://wandb.ai/nipkha21-free-university-of-tbilisi-/facial-expression-recognition</a>"
            ]
          },
          "metadata": {}
        },
        {
          "output_type": "display_data",
          "data": {
            "text/plain": [
              "<IPython.core.display.HTML object>"
            ],
            "text/html": [
              " View run at <a href='https://wandb.ai/nipkha21-free-university-of-tbilisi-/facial-expression-recognition/runs/r3hguc9k' target=\"_blank\">https://wandb.ai/nipkha21-free-university-of-tbilisi-/facial-expression-recognition/runs/r3hguc9k</a>"
            ]
          },
          "metadata": {}
        },
        {
          "output_type": "stream",
          "name": "stdout",
          "text": [
            "Starting training for 10 epochs...\n"
          ]
        },
        {
          "output_type": "stream",
          "name": "stderr",
          "text": [
            "Training: 100%|██████████| 314/314 [00:15<00:00, 19.87it/s, Loss=1.5999, Acc=28.06%]\n",
            "Validation: 100%|██████████| 68/68 [00:04<00:00, 15.88it/s]\n"
          ]
        },
        {
          "output_type": "stream",
          "name": "stdout",
          "text": [
            "Epoch 1/10:\n",
            "  Train Loss: 1.8645, Train Acc: 28.06%\n",
            "  Val Loss: 1.7226, Val Acc: 32.06%\n",
            "  LR: 0.001000, Time: 20.09s\n",
            "  Overfitting Score: -0.1819\n",
            "--------------------------------------------------\n"
          ]
        },
        {
          "output_type": "stream",
          "name": "stderr",
          "text": [
            "Training: 100%|██████████| 314/314 [00:15<00:00, 19.95it/s, Loss=1.6330, Acc=33.52%]\n",
            "Validation: 100%|██████████| 68/68 [00:02<00:00, 25.98it/s]\n"
          ]
        },
        {
          "output_type": "stream",
          "name": "stdout",
          "text": [
            "Epoch 2/10:\n",
            "  Train Loss: 1.7034, Train Acc: 33.52%\n",
            "  Val Loss: 1.7482, Val Acc: 31.60%\n",
            "  LR: 0.001000, Time: 18.36s\n",
            "  Overfitting Score: 0.0639\n",
            "--------------------------------------------------\n"
          ]
        },
        {
          "output_type": "stream",
          "name": "stderr",
          "text": [
            "Training: 100%|██████████| 314/314 [00:15<00:00, 19.76it/s, Loss=1.4969, Acc=35.86%]\n",
            "Validation: 100%|██████████| 68/68 [00:02<00:00, 25.54it/s]\n"
          ]
        },
        {
          "output_type": "stream",
          "name": "stdout",
          "text": [
            "Epoch 3/10:\n",
            "  Train Loss: 1.6471, Train Acc: 35.86%\n",
            "  Val Loss: 1.6438, Val Acc: 35.43%\n",
            "  LR: 0.001000, Time: 18.56s\n",
            "  Overfitting Score: 0.0011\n",
            "--------------------------------------------------\n"
          ]
        },
        {
          "output_type": "stream",
          "name": "stderr",
          "text": [
            "Training: 100%|██████████| 314/314 [00:16<00:00, 19.51it/s, Loss=1.5950, Acc=37.23%]\n",
            "Validation: 100%|██████████| 68/68 [00:04<00:00, 16.30it/s]\n"
          ]
        },
        {
          "output_type": "stream",
          "name": "stdout",
          "text": [
            "Epoch 4/10:\n",
            "  Train Loss: 1.6087, Train Acc: 37.23%\n",
            "  Val Loss: 1.6412, Val Acc: 36.06%\n",
            "  LR: 0.001000, Time: 20.28s\n",
            "  Overfitting Score: 0.0442\n",
            "--------------------------------------------------\n"
          ]
        },
        {
          "output_type": "stream",
          "name": "stderr",
          "text": [
            "Training: 100%|██████████| 314/314 [00:15<00:00, 19.92it/s, Loss=1.5343, Acc=38.18%]\n",
            "Validation: 100%|██████████| 68/68 [00:02<00:00, 25.53it/s]\n"
          ]
        },
        {
          "output_type": "stream",
          "name": "stdout",
          "text": [
            "Epoch 5/10:\n",
            "  Train Loss: 1.5837, Train Acc: 38.18%\n",
            "  Val Loss: 1.6334, Val Acc: 35.29%\n",
            "  LR: 0.001000, Time: 18.44s\n",
            "  Overfitting Score: 0.0786\n",
            "--------------------------------------------------\n"
          ]
        },
        {
          "output_type": "stream",
          "name": "stderr",
          "text": [
            "Training: 100%|██████████| 314/314 [00:15<00:00, 19.79it/s, Loss=1.4927, Acc=39.10%]\n",
            "Validation: 100%|██████████| 68/68 [00:02<00:00, 25.73it/s]\n"
          ]
        },
        {
          "output_type": "stream",
          "name": "stdout",
          "text": [
            "Epoch 6/10:\n",
            "  Train Loss: 1.5638, Train Acc: 39.10%\n",
            "  Val Loss: 1.6201, Val Acc: 36.94%\n",
            "  LR: 0.001000, Time: 18.53s\n",
            "  Overfitting Score: 0.0779\n",
            "--------------------------------------------------\n"
          ]
        },
        {
          "output_type": "stream",
          "name": "stderr",
          "text": [
            "Training: 100%|██████████| 314/314 [00:16<00:00, 18.63it/s, Loss=1.6844, Acc=40.04%]\n",
            "Validation: 100%|██████████| 68/68 [00:03<00:00, 20.07it/s]\n"
          ]
        },
        {
          "output_type": "stream",
          "name": "stdout",
          "text": [
            "Epoch 7/10:\n",
            "  Train Loss: 1.5487, Train Acc: 40.04%\n",
            "  Val Loss: 1.6411, Val Acc: 35.24%\n",
            "  LR: 0.001000, Time: 20.26s\n",
            "  Overfitting Score: 0.1404\n",
            "--------------------------------------------------\n"
          ]
        },
        {
          "output_type": "stream",
          "name": "stderr",
          "text": [
            "Training: 100%|██████████| 314/314 [00:16<00:00, 19.60it/s, Loss=1.5475, Acc=40.33%]\n",
            "Validation: 100%|██████████| 68/68 [00:02<00:00, 25.65it/s]\n"
          ]
        },
        {
          "output_type": "stream",
          "name": "stdout",
          "text": [
            "Epoch 8/10:\n",
            "  Train Loss: 1.5255, Train Acc: 40.33%\n",
            "  Val Loss: 1.6711, Val Acc: 36.36%\n",
            "  LR: 0.001000, Time: 18.68s\n",
            "  Overfitting Score: 0.1854\n",
            "--------------------------------------------------\n"
          ]
        },
        {
          "output_type": "stream",
          "name": "stderr",
          "text": [
            "Training: 100%|██████████| 314/314 [00:15<00:00, 19.89it/s, Loss=1.5234, Acc=41.88%]\n",
            "Validation: 100%|██████████| 68/68 [00:03<00:00, 21.56it/s]\n"
          ]
        },
        {
          "output_type": "stream",
          "name": "stdout",
          "text": [
            "Epoch 9/10:\n",
            "  Train Loss: 1.5073, Train Acc: 41.88%\n",
            "  Val Loss: 1.7043, Val Acc: 33.88%\n",
            "  LR: 0.001000, Time: 18.95s\n",
            "  Overfitting Score: 0.2770\n",
            "--------------------------------------------------\n"
          ]
        },
        {
          "output_type": "stream",
          "name": "stderr",
          "text": [
            "Training: 100%|██████████| 314/314 [00:16<00:00, 18.57it/s, Loss=1.4842, Acc=42.15%]\n",
            "Validation: 100%|██████████| 68/68 [00:02<00:00, 24.95it/s]"
          ]
        },
        {
          "output_type": "stream",
          "name": "stdout",
          "text": [
            "Epoch 10/10:\n",
            "  Train Loss: 1.4972, Train Acc: 42.15%\n",
            "  Val Loss: 1.6807, Val Acc: 36.29%\n",
            "  LR: 0.001000, Time: 19.64s\n",
            "  Overfitting Score: 0.2421\n",
            "--------------------------------------------------\n",
            "Loaded best model with validation accuracy: 36.94%\n"
          ]
        },
        {
          "output_type": "stream",
          "name": "stderr",
          "text": [
            "\n"
          ]
        },
        {
          "output_type": "display_data",
          "data": {
            "text/plain": [
              "<IPython.core.display.HTML object>"
            ],
            "text/html": []
          },
          "metadata": {}
        },
        {
          "output_type": "display_data",
          "data": {
            "text/plain": [
              "<IPython.core.display.HTML object>"
            ],
            "text/html": [
              "<br>    <style><br>        .wandb-row {<br>            display: flex;<br>            flex-direction: row;<br>            flex-wrap: wrap;<br>            justify-content: flex-start;<br>            width: 100%;<br>        }<br>        .wandb-col {<br>            display: flex;<br>            flex-direction: column;<br>            flex-basis: 100%;<br>            flex: 1;<br>            padding: 10px;<br>        }<br>    </style><br><div class=\"wandb-row\"><div class=\"wandb-col\"><h3>Run history:</h3><br/><table class=\"wandb\"><tr><td>accuracy_gap</td><td>▁▄▄▄▅▅▆▆█▇</td></tr><tr><td>best_val_accuracy</td><td>▁▁▆▇▇█████</td></tr><tr><td>epoch</td><td>▁▂▃▃▄▅▆▆▇█</td></tr><tr><td>epoch_time</td><td>▇▁▂█▁▂█▂▃▆</td></tr><tr><td>learning_rate</td><td>▁▁▁▁▁▁▁▁▁▁</td></tr><tr><td>loss_gap</td><td>▁▅▄▅▅▅▆▇██</td></tr><tr><td>overfitting_score</td><td>▁▅▄▄▅▅▆▇█▇</td></tr><tr><td>train_accuracy</td><td>▁▄▅▆▆▆▇▇██</td></tr><tr><td>train_loss</td><td>█▅▄▃▃▂▂▂▁▁</td></tr><tr><td>val_accuracy</td><td>▂▁▆▇▆█▆▇▄▇</td></tr><tr><td>val_loss</td><td>▇█▂▂▂▁▂▄▆▄</td></tr></table><br/></div><div class=\"wandb-col\"><h3>Run summary:</h3><br/><table class=\"wandb\"><tr><td>accuracy_gap</td><td>5.86003</td></tr><tr><td>best_val_accuracy</td><td>36.93987</td></tr><tr><td>epoch</td><td>10</td></tr><tr><td>epoch_time</td><td>19.64442</td></tr><tr><td>learning_rate</td><td>0.001</td></tr><tr><td>loss_gap</td><td>0.1835</td></tr><tr><td>overfitting_score</td><td>0.2421</td></tr><tr><td>train_accuracy</td><td>42.14979</td></tr><tr><td>train_loss</td><td>1.49721</td></tr><tr><td>val_accuracy</td><td>36.28976</td></tr><tr><td>val_loss</td><td>1.68071</td></tr></table><br/></div></div>"
            ]
          },
          "metadata": {}
        },
        {
          "output_type": "display_data",
          "data": {
            "text/plain": [
              "<IPython.core.display.HTML object>"
            ],
            "text/html": [
              " View run <strong style=\"color:#cdcd00\">Activation_tanh</strong> at: <a href='https://wandb.ai/nipkha21-free-university-of-tbilisi-/facial-expression-recognition/runs/r3hguc9k' target=\"_blank\">https://wandb.ai/nipkha21-free-university-of-tbilisi-/facial-expression-recognition/runs/r3hguc9k</a><br> View project at: <a href='https://wandb.ai/nipkha21-free-university-of-tbilisi-/facial-expression-recognition' target=\"_blank\">https://wandb.ai/nipkha21-free-university-of-tbilisi-/facial-expression-recognition</a><br>Synced 5 W&B file(s), 1 media file(s), 2 artifact file(s) and 0 other file(s)"
            ]
          },
          "metadata": {}
        },
        {
          "output_type": "display_data",
          "data": {
            "text/plain": [
              "<IPython.core.display.HTML object>"
            ],
            "text/html": [
              "Find logs at: <code>./wandb/run-20250607_182748-r3hguc9k/logs</code>"
            ]
          },
          "metadata": {}
        },
        {
          "output_type": "stream",
          "name": "stdout",
          "text": [
            "Best validation accuracy: 36.94%\n",
            "\n",
            "=== ACTIVATION FUNCTION ANALYSIS ===\n",
            "Best activation function: gelu\n",
            "relu: 38.89%\n",
            "leaky_relu: 39.80%\n",
            "elu: 37.82%\n",
            "gelu: 40.31%\n",
            "swish: 37.31%\n",
            "tanh: 36.94%\n"
          ]
        }
      ]
    },
    {
      "cell_type": "code",
      "source": [
        "print(\"=== OPTIMIZER COMPARISON ===\")\n",
        "\n",
        "optimizers_config = {\n",
        "    'adam': {'class': optim.Adam, 'kwargs': {'lr': 0.001}},\n",
        "    'sgd': {'class': optim.SGD, 'kwargs': {'lr': 0.01, 'momentum': 0.9}},\n",
        "    'sgd_nesterov': {'class': optim.SGD, 'kwargs': {'lr': 0.01, 'momentum': 0.9, 'nesterov': True}},\n",
        "    'rmsprop': {'class': optim.RMSprop, 'kwargs': {'lr': 0.001, 'alpha': 0.99}},\n",
        "}\n",
        "\n",
        "optimizer_results = {}\n",
        "\n",
        "for opt_name, opt_config in optimizers_config.items():\n",
        "    print(f\"\\nTesting optimizer: {opt_name}\")\n",
        "\n",
        "    train_dataset = MLPFacialExpressionDataset(train_df, normalization='standard')\n",
        "    val_dataset = MLPFacialExpressionDataset(val_df, normalization='standard')\n",
        "\n",
        "    train_loader = DataLoader(train_dataset, batch_size=64, shuffle=True)\n",
        "    val_loader = DataLoader(val_dataset, batch_size=64, shuffle=False)\n",
        "\n",
        "    model = AdvancedMLP(\n",
        "        input_size=2304,\n",
        "        hidden_sizes=[512, 256],\n",
        "        num_classes=7,\n",
        "        dropout_rate=0.3\n",
        "    )\n",
        "\n",
        "    criterion = nn.CrossEntropyLoss()\n",
        "    optimizer = opt_config['class'](model.parameters(), **opt_config['kwargs'])\n",
        "\n",
        "    trainer = AdvancedTrainer(\n",
        "        model=model,\n",
        "        train_loader=train_loader,\n",
        "        val_loader=val_loader,\n",
        "        criterion=criterion,\n",
        "        optimizer=optimizer,\n",
        "        device=device,\n",
        "        experiment_name=\"Advanced_MLP_Training\",\n",
        "        run_name=f\"Optimizer_{opt_name}\"\n",
        "    )\n",
        "\n",
        "    history = trainer.train(epochs=10, early_stopping_patience=7)\n",
        "\n",
        "    optimizer_results[opt_name] = {\n",
        "        'best_val_acc': trainer.best_val_acc,\n",
        "        'final_train_acc': history['train_acc'][-1],\n",
        "        'final_val_acc': history['val_acc'][-1],\n",
        "        'training_stability': np.std(history['val_acc'][-10:])\n",
        "    }\n",
        "\n",
        "    wandb.finish()\n",
        "\n",
        "    print(f\"Best validation accuracy: {trainer.best_val_acc:.2f}%\")\n",
        "\n",
        "print(\"\\n=== OPTIMIZER ANALYSIS ===\")\n",
        "best_optimizer = max(optimizer_results.keys(), key=lambda x: optimizer_results[x]['best_val_acc'])\n",
        "print(f\"Best optimizer: {best_optimizer}\")\n",
        "\n",
        "for opt_name, results in optimizer_results.items():\n",
        "    print(f\"{opt_name}: {results['best_val_acc']:.2f}% (stability: {results['training_stability']:.4f})\")"
      ],
      "metadata": {
        "colab": {
          "base_uri": "https://localhost:8080/",
          "height": 1000
        },
        "id": "RMtZoZ36Mr8C",
        "outputId": "e921ff18-0f4c-46d3-c456-9f70ee2e7dbf"
      },
      "execution_count": 23,
      "outputs": [
        {
          "output_type": "stream",
          "name": "stdout",
          "text": [
            "=== OPTIMIZER COMPARISON ===\n",
            "\n",
            "Testing optimizer: adam\n"
          ]
        },
        {
          "output_type": "display_data",
          "data": {
            "text/plain": [
              "<IPython.core.display.HTML object>"
            ],
            "text/html": [
              "Tracking run with wandb version 0.19.11"
            ]
          },
          "metadata": {}
        },
        {
          "output_type": "display_data",
          "data": {
            "text/plain": [
              "<IPython.core.display.HTML object>"
            ],
            "text/html": [
              "Run data is saved locally in <code>/content/wandb/run-20250607_192108-mykfhqo3</code>"
            ]
          },
          "metadata": {}
        },
        {
          "output_type": "display_data",
          "data": {
            "text/plain": [
              "<IPython.core.display.HTML object>"
            ],
            "text/html": [
              "Syncing run <strong><a href='https://wandb.ai/nipkha21-free-university-of-tbilisi-/facial-expression-recognition/runs/mykfhqo3' target=\"_blank\">Optimizer_adam</a></strong> to <a href='https://wandb.ai/nipkha21-free-university-of-tbilisi-/facial-expression-recognition' target=\"_blank\">Weights & Biases</a> (<a href='https://wandb.me/developer-guide' target=\"_blank\">docs</a>)<br>"
            ]
          },
          "metadata": {}
        },
        {
          "output_type": "display_data",
          "data": {
            "text/plain": [
              "<IPython.core.display.HTML object>"
            ],
            "text/html": [
              " View project at <a href='https://wandb.ai/nipkha21-free-university-of-tbilisi-/facial-expression-recognition' target=\"_blank\">https://wandb.ai/nipkha21-free-university-of-tbilisi-/facial-expression-recognition</a>"
            ]
          },
          "metadata": {}
        },
        {
          "output_type": "display_data",
          "data": {
            "text/plain": [
              "<IPython.core.display.HTML object>"
            ],
            "text/html": [
              " View run at <a href='https://wandb.ai/nipkha21-free-university-of-tbilisi-/facial-expression-recognition/runs/mykfhqo3' target=\"_blank\">https://wandb.ai/nipkha21-free-university-of-tbilisi-/facial-expression-recognition/runs/mykfhqo3</a>"
            ]
          },
          "metadata": {}
        },
        {
          "output_type": "stream",
          "name": "stdout",
          "text": [
            "Starting training for 10 epochs...\n"
          ]
        },
        {
          "output_type": "stream",
          "name": "stderr",
          "text": [
            "Training: 100%|██████████| 314/314 [00:15<00:00, 20.05it/s, Loss=1.8757, Acc=29.35%]\n",
            "Validation: 100%|██████████| 68/68 [00:02<00:00, 26.08it/s]\n"
          ]
        },
        {
          "output_type": "stream",
          "name": "stdout",
          "text": [
            "Epoch 1/10:\n",
            "  Train Loss: 1.8295, Train Acc: 29.35%\n",
            "  Val Loss: 1.6530, Val Acc: 35.18%\n",
            "  LR: 0.001000, Time: 18.27s\n",
            "  Overfitting Score: -0.2349\n",
            "--------------------------------------------------\n"
          ]
        },
        {
          "output_type": "stream",
          "name": "stderr",
          "text": [
            "Training: 100%|██████████| 314/314 [00:15<00:00, 20.17it/s, Loss=1.6198, Acc=35.07%]\n",
            "Validation: 100%|██████████| 68/68 [00:04<00:00, 15.78it/s]\n"
          ]
        },
        {
          "output_type": "stream",
          "name": "stdout",
          "text": [
            "Epoch 2/10:\n",
            "  Train Loss: 1.6597, Train Acc: 35.07%\n",
            "  Val Loss: 1.6298, Val Acc: 36.92%\n",
            "  LR: 0.001000, Time: 19.89s\n",
            "  Overfitting Score: -0.0485\n",
            "--------------------------------------------------\n"
          ]
        },
        {
          "output_type": "stream",
          "name": "stderr",
          "text": [
            "Training: 100%|██████████| 314/314 [00:15<00:00, 20.39it/s, Loss=1.6054, Acc=38.03%]\n",
            "Validation: 100%|██████████| 68/68 [00:02<00:00, 25.85it/s]\n"
          ]
        },
        {
          "output_type": "stream",
          "name": "stdout",
          "text": [
            "Epoch 3/10:\n",
            "  Train Loss: 1.5884, Train Acc: 38.03%\n",
            "  Val Loss: 1.6188, Val Acc: 36.71%\n",
            "  LR: 0.001000, Time: 18.04s\n",
            "  Overfitting Score: 0.0436\n",
            "--------------------------------------------------\n"
          ]
        },
        {
          "output_type": "stream",
          "name": "stderr",
          "text": [
            "Training: 100%|██████████| 314/314 [00:15<00:00, 20.32it/s, Loss=1.6981, Acc=39.68%]\n",
            "Validation: 100%|██████████| 68/68 [00:02<00:00, 25.75it/s]\n"
          ]
        },
        {
          "output_type": "stream",
          "name": "stdout",
          "text": [
            "Epoch 4/10:\n",
            "  Train Loss: 1.5430, Train Acc: 39.68%\n",
            "  Val Loss: 1.6461, Val Acc: 35.41%\n",
            "  LR: 0.001000, Time: 18.10s\n",
            "  Overfitting Score: 0.1458\n",
            "--------------------------------------------------\n"
          ]
        },
        {
          "output_type": "stream",
          "name": "stderr",
          "text": [
            "Training: 100%|██████████| 314/314 [00:15<00:00, 20.28it/s, Loss=1.5764, Acc=41.60%]\n",
            "Validation: 100%|██████████| 68/68 [00:04<00:00, 15.65it/s]\n"
          ]
        },
        {
          "output_type": "stream",
          "name": "stdout",
          "text": [
            "Epoch 5/10:\n",
            "  Train Loss: 1.5031, Train Acc: 41.60%\n",
            "  Val Loss: 1.5956, Val Acc: 37.59%\n",
            "  LR: 0.001000, Time: 19.84s\n",
            "  Overfitting Score: 0.1326\n",
            "--------------------------------------------------\n"
          ]
        },
        {
          "output_type": "stream",
          "name": "stderr",
          "text": [
            "Training: 100%|██████████| 314/314 [00:15<00:00, 20.55it/s, Loss=1.4640, Acc=42.64%]\n",
            "Validation: 100%|██████████| 68/68 [00:02<00:00, 25.96it/s]\n"
          ]
        },
        {
          "output_type": "stream",
          "name": "stdout",
          "text": [
            "Epoch 6/10:\n",
            "  Train Loss: 1.4753, Train Acc: 42.64%\n",
            "  Val Loss: 1.5735, Val Acc: 38.38%\n",
            "  LR: 0.001000, Time: 17.91s\n",
            "  Overfitting Score: 0.1408\n",
            "--------------------------------------------------\n"
          ]
        },
        {
          "output_type": "stream",
          "name": "stderr",
          "text": [
            "Training: 100%|██████████| 314/314 [00:15<00:00, 20.32it/s, Loss=1.4571, Acc=44.05%]\n",
            "Validation: 100%|██████████| 68/68 [00:02<00:00, 26.24it/s]\n"
          ]
        },
        {
          "output_type": "stream",
          "name": "stdout",
          "text": [
            "Epoch 7/10:\n",
            "  Train Loss: 1.4432, Train Acc: 44.05%\n",
            "  Val Loss: 1.5640, Val Acc: 39.66%\n",
            "  LR: 0.001000, Time: 18.05s\n",
            "  Overfitting Score: 0.1648\n",
            "--------------------------------------------------\n"
          ]
        },
        {
          "output_type": "stream",
          "name": "stderr",
          "text": [
            "Training: 100%|██████████| 314/314 [00:15<00:00, 20.33it/s, Loss=1.3887, Acc=45.65%]\n",
            "Validation: 100%|██████████| 68/68 [00:04<00:00, 15.98it/s]\n"
          ]
        },
        {
          "output_type": "stream",
          "name": "stdout",
          "text": [
            "Epoch 8/10:\n",
            "  Train Loss: 1.4114, Train Acc: 45.65%\n",
            "  Val Loss: 1.5571, Val Acc: 39.38%\n",
            "  LR: 0.001000, Time: 19.71s\n",
            "  Overfitting Score: 0.2084\n",
            "--------------------------------------------------\n"
          ]
        },
        {
          "output_type": "stream",
          "name": "stderr",
          "text": [
            "Training: 100%|██████████| 314/314 [00:15<00:00, 20.30it/s, Loss=1.4673, Acc=46.68%]\n",
            "Validation: 100%|██████████| 68/68 [00:02<00:00, 25.61it/s]\n"
          ]
        },
        {
          "output_type": "stream",
          "name": "stdout",
          "text": [
            "Epoch 9/10:\n",
            "  Train Loss: 1.3862, Train Acc: 46.68%\n",
            "  Val Loss: 1.5485, Val Acc: 39.61%\n",
            "  LR: 0.001000, Time: 18.14s\n",
            "  Overfitting Score: 0.2331\n",
            "--------------------------------------------------\n"
          ]
        },
        {
          "output_type": "stream",
          "name": "stderr",
          "text": [
            "Training: 100%|██████████| 314/314 [00:15<00:00, 20.18it/s, Loss=1.4576, Acc=47.40%]\n",
            "Validation: 100%|██████████| 68/68 [00:02<00:00, 26.14it/s]\n"
          ]
        },
        {
          "output_type": "stream",
          "name": "stdout",
          "text": [
            "Epoch 10/10:\n",
            "  Train Loss: 1.3605, Train Acc: 47.40%\n",
            "  Val Loss: 1.5662, Val Acc: 38.94%\n",
            "  LR: 0.001000, Time: 18.17s\n",
            "  Overfitting Score: 0.2903\n",
            "--------------------------------------------------\n",
            "Loaded best model with validation accuracy: 39.66%\n"
          ]
        },
        {
          "output_type": "display_data",
          "data": {
            "text/plain": [
              "<IPython.core.display.HTML object>"
            ],
            "text/html": []
          },
          "metadata": {}
        },
        {
          "output_type": "display_data",
          "data": {
            "text/plain": [
              "<IPython.core.display.HTML object>"
            ],
            "text/html": [
              "<br>    <style><br>        .wandb-row {<br>            display: flex;<br>            flex-direction: row;<br>            flex-wrap: wrap;<br>            justify-content: flex-start;<br>            width: 100%;<br>        }<br>        .wandb-col {<br>            display: flex;<br>            flex-direction: column;<br>            flex-basis: 100%;<br>            flex: 1;<br>            padding: 10px;<br>        }<br>    </style><br><div class=\"wandb-row\"><div class=\"wandb-col\"><h3>Run history:</h3><br/><table class=\"wandb\"><tr><td>accuracy_gap</td><td>▁▃▅▆▆▆▆▇▇█</td></tr><tr><td>best_val_accuracy</td><td>▁▄▄▄▅▆████</td></tr><tr><td>epoch</td><td>▁▂▃▃▄▅▆▆▇█</td></tr><tr><td>epoch_time</td><td>▂█▁▂█▁▁▇▂▂</td></tr><tr><td>learning_rate</td><td>▁▁▁▁▁▁▁▁▁▁</td></tr><tr><td>loss_gap</td><td>▁▄▅▆▆▆▆▇▇█</td></tr><tr><td>overfitting_score</td><td>▁▃▅▆▆▆▆▇▇█</td></tr><tr><td>train_accuracy</td><td>▁▃▄▅▆▆▇▇██</td></tr><tr><td>train_loss</td><td>█▅▄▄▃▃▂▂▁▁</td></tr><tr><td>val_accuracy</td><td>▁▄▃▁▅▆███▇</td></tr><tr><td>val_loss</td><td>█▆▆█▄▃▂▂▁▂</td></tr></table><br/></div><div class=\"wandb-col\"><h3>Run summary:</h3><br/><table class=\"wandb\"><tr><td>accuracy_gap</td><td>8.46821</td></tr><tr><td>best_val_accuracy</td><td>39.65637</td></tr><tr><td>epoch</td><td>10</td></tr><tr><td>epoch_time</td><td>18.17239</td></tr><tr><td>learning_rate</td><td>0.001</td></tr><tr><td>loss_gap</td><td>0.20564</td></tr><tr><td>overfitting_score</td><td>0.29032</td></tr><tr><td>train_accuracy</td><td>47.40483</td></tr><tr><td>train_loss</td><td>1.36052</td></tr><tr><td>val_accuracy</td><td>38.93661</td></tr><tr><td>val_loss</td><td>1.56616</td></tr></table><br/></div></div>"
            ]
          },
          "metadata": {}
        },
        {
          "output_type": "display_data",
          "data": {
            "text/plain": [
              "<IPython.core.display.HTML object>"
            ],
            "text/html": [
              " View run <strong style=\"color:#cdcd00\">Optimizer_adam</strong> at: <a href='https://wandb.ai/nipkha21-free-university-of-tbilisi-/facial-expression-recognition/runs/mykfhqo3' target=\"_blank\">https://wandb.ai/nipkha21-free-university-of-tbilisi-/facial-expression-recognition/runs/mykfhqo3</a><br> View project at: <a href='https://wandb.ai/nipkha21-free-university-of-tbilisi-/facial-expression-recognition' target=\"_blank\">https://wandb.ai/nipkha21-free-university-of-tbilisi-/facial-expression-recognition</a><br>Synced 5 W&B file(s), 1 media file(s), 2 artifact file(s) and 0 other file(s)"
            ]
          },
          "metadata": {}
        },
        {
          "output_type": "display_data",
          "data": {
            "text/plain": [
              "<IPython.core.display.HTML object>"
            ],
            "text/html": [
              "Find logs at: <code>./wandb/run-20250607_192108-mykfhqo3/logs</code>"
            ]
          },
          "metadata": {}
        },
        {
          "output_type": "stream",
          "name": "stdout",
          "text": [
            "Best validation accuracy: 39.66%\n",
            "\n",
            "Testing optimizer: sgd\n"
          ]
        },
        {
          "output_type": "display_data",
          "data": {
            "text/plain": [
              "<IPython.core.display.HTML object>"
            ],
            "text/html": [
              "Tracking run with wandb version 0.19.11"
            ]
          },
          "metadata": {}
        },
        {
          "output_type": "display_data",
          "data": {
            "text/plain": [
              "<IPython.core.display.HTML object>"
            ],
            "text/html": [
              "Run data is saved locally in <code>/content/wandb/run-20250607_192416-wef6cpoi</code>"
            ]
          },
          "metadata": {}
        },
        {
          "output_type": "display_data",
          "data": {
            "text/plain": [
              "<IPython.core.display.HTML object>"
            ],
            "text/html": [
              "Syncing run <strong><a href='https://wandb.ai/nipkha21-free-university-of-tbilisi-/facial-expression-recognition/runs/wef6cpoi' target=\"_blank\">Optimizer_sgd</a></strong> to <a href='https://wandb.ai/nipkha21-free-university-of-tbilisi-/facial-expression-recognition' target=\"_blank\">Weights & Biases</a> (<a href='https://wandb.me/developer-guide' target=\"_blank\">docs</a>)<br>"
            ]
          },
          "metadata": {}
        },
        {
          "output_type": "display_data",
          "data": {
            "text/plain": [
              "<IPython.core.display.HTML object>"
            ],
            "text/html": [
              " View project at <a href='https://wandb.ai/nipkha21-free-university-of-tbilisi-/facial-expression-recognition' target=\"_blank\">https://wandb.ai/nipkha21-free-university-of-tbilisi-/facial-expression-recognition</a>"
            ]
          },
          "metadata": {}
        },
        {
          "output_type": "display_data",
          "data": {
            "text/plain": [
              "<IPython.core.display.HTML object>"
            ],
            "text/html": [
              " View run at <a href='https://wandb.ai/nipkha21-free-university-of-tbilisi-/facial-expression-recognition/runs/wef6cpoi' target=\"_blank\">https://wandb.ai/nipkha21-free-university-of-tbilisi-/facial-expression-recognition/runs/wef6cpoi</a>"
            ]
          },
          "metadata": {}
        },
        {
          "output_type": "stream",
          "name": "stdout",
          "text": [
            "Starting training for 10 epochs...\n"
          ]
        },
        {
          "output_type": "stream",
          "name": "stderr",
          "text": [
            "Training: 100%|██████████| 314/314 [00:16<00:00, 19.41it/s, Loss=1.7794, Acc=26.22%]\n",
            "Validation: 100%|██████████| 68/68 [00:03<00:00, 22.17it/s]\n"
          ]
        },
        {
          "output_type": "stream",
          "name": "stdout",
          "text": [
            "Epoch 1/10:\n",
            "  Train Loss: 1.9231, Train Acc: 26.22%\n",
            "  Val Loss: 1.6684, Val Acc: 33.62%\n",
            "  LR: 0.010000, Time: 19.25s\n",
            "  Overfitting Score: -0.3287\n",
            "--------------------------------------------------\n"
          ]
        },
        {
          "output_type": "stream",
          "name": "stderr",
          "text": [
            "Training: 100%|██████████| 314/314 [00:15<00:00, 20.36it/s, Loss=1.8076, Acc=32.97%]\n",
            "Validation: 100%|██████████| 68/68 [00:02<00:00, 25.92it/s]\n"
          ]
        },
        {
          "output_type": "stream",
          "name": "stdout",
          "text": [
            "Epoch 2/10:\n",
            "  Train Loss: 1.7107, Train Acc: 32.97%\n",
            "  Val Loss: 1.6197, Val Acc: 36.17%\n",
            "  LR: 0.010000, Time: 18.05s\n",
            "  Overfitting Score: -0.1231\n",
            "--------------------------------------------------\n"
          ]
        },
        {
          "output_type": "stream",
          "name": "stderr",
          "text": [
            "Training: 100%|██████████| 314/314 [00:15<00:00, 20.39it/s, Loss=1.6639, Acc=36.22%]\n",
            "Validation: 100%|██████████| 68/68 [00:02<00:00, 24.64it/s]\n"
          ]
        },
        {
          "output_type": "stream",
          "name": "stdout",
          "text": [
            "Epoch 3/10:\n",
            "  Train Loss: 1.6287, Train Acc: 36.22%\n",
            "  Val Loss: 1.5999, Val Acc: 37.08%\n",
            "  LR: 0.010000, Time: 18.17s\n",
            "  Overfitting Score: -0.0375\n",
            "--------------------------------------------------\n"
          ]
        },
        {
          "output_type": "stream",
          "name": "stderr",
          "text": [
            "Training: 100%|██████████| 314/314 [00:16<00:00, 19.30it/s, Loss=1.4705, Acc=37.63%]\n",
            "Validation: 100%|██████████| 68/68 [00:03<00:00, 20.39it/s]\n"
          ]
        },
        {
          "output_type": "stream",
          "name": "stdout",
          "text": [
            "Epoch 4/10:\n",
            "  Train Loss: 1.5951, Train Acc: 37.63%\n",
            "  Val Loss: 1.6016, Val Acc: 37.73%\n",
            "  LR: 0.010000, Time: 19.62s\n",
            "  Overfitting Score: 0.0055\n",
            "--------------------------------------------------\n"
          ]
        },
        {
          "output_type": "stream",
          "name": "stderr",
          "text": [
            "Training: 100%|██████████| 314/314 [00:15<00:00, 20.27it/s, Loss=1.4053, Acc=39.07%]\n",
            "Validation: 100%|██████████| 68/68 [00:02<00:00, 25.16it/s]\n"
          ]
        },
        {
          "output_type": "stream",
          "name": "stdout",
          "text": [
            "Epoch 5/10:\n",
            "  Train Loss: 1.5607, Train Acc: 39.07%\n",
            "  Val Loss: 1.5777, Val Acc: 38.43%\n",
            "  LR: 0.010000, Time: 18.20s\n",
            "  Overfitting Score: 0.0234\n",
            "--------------------------------------------------\n"
          ]
        },
        {
          "output_type": "stream",
          "name": "stderr",
          "text": [
            "Training: 100%|██████████| 314/314 [00:15<00:00, 20.32it/s, Loss=1.4670, Acc=40.20%]\n",
            "Validation: 100%|██████████| 68/68 [00:02<00:00, 26.45it/s]\n"
          ]
        },
        {
          "output_type": "stream",
          "name": "stdout",
          "text": [
            "Epoch 6/10:\n",
            "  Train Loss: 1.5303, Train Acc: 40.20%\n",
            "  Val Loss: 1.5714, Val Acc: 38.84%\n",
            "  LR: 0.010000, Time: 18.03s\n",
            "  Overfitting Score: 0.0547\n",
            "--------------------------------------------------\n"
          ]
        },
        {
          "output_type": "stream",
          "name": "stderr",
          "text": [
            "Training: 100%|██████████| 314/314 [00:16<00:00, 19.15it/s, Loss=1.4838, Acc=41.11%]\n",
            "Validation: 100%|██████████| 68/68 [00:03<00:00, 20.66it/s]\n"
          ]
        },
        {
          "output_type": "stream",
          "name": "stdout",
          "text": [
            "Epoch 7/10:\n",
            "  Train Loss: 1.5112, Train Acc: 41.11%\n",
            "  Val Loss: 1.5560, Val Acc: 39.47%\n",
            "  LR: 0.010000, Time: 19.70s\n",
            "  Overfitting Score: 0.0611\n",
            "--------------------------------------------------\n"
          ]
        },
        {
          "output_type": "stream",
          "name": "stderr",
          "text": [
            "Training: 100%|██████████| 314/314 [00:15<00:00, 20.29it/s, Loss=1.4277, Acc=42.16%]\n",
            "Validation: 100%|██████████| 68/68 [00:02<00:00, 25.78it/s]\n"
          ]
        },
        {
          "output_type": "stream",
          "name": "stdout",
          "text": [
            "Epoch 8/10:\n",
            "  Train Loss: 1.4871, Train Acc: 42.16%\n",
            "  Val Loss: 1.5421, Val Acc: 40.61%\n",
            "  LR: 0.010000, Time: 18.12s\n",
            "  Overfitting Score: 0.0706\n",
            "--------------------------------------------------\n"
          ]
        },
        {
          "output_type": "stream",
          "name": "stderr",
          "text": [
            "Training: 100%|██████████| 314/314 [00:15<00:00, 20.11it/s, Loss=1.4823, Acc=43.17%]\n",
            "Validation: 100%|██████████| 68/68 [00:02<00:00, 24.94it/s]\n"
          ]
        },
        {
          "output_type": "stream",
          "name": "stdout",
          "text": [
            "Epoch 9/10:\n",
            "  Train Loss: 1.4672, Train Acc: 43.17%\n",
            "  Val Loss: 1.5508, Val Acc: 40.31%\n",
            "  LR: 0.010000, Time: 18.35s\n",
            "  Overfitting Score: 0.1123\n",
            "--------------------------------------------------\n"
          ]
        },
        {
          "output_type": "stream",
          "name": "stderr",
          "text": [
            "Training: 100%|██████████| 314/314 [00:16<00:00, 19.14it/s, Loss=1.3281, Acc=43.32%]\n",
            "Validation: 100%|██████████| 68/68 [00:03<00:00, 20.77it/s]\n"
          ]
        },
        {
          "output_type": "stream",
          "name": "stdout",
          "text": [
            "Epoch 10/10:\n",
            "  Train Loss: 1.4514, Train Acc: 43.32%\n",
            "  Val Loss: 1.5283, Val Acc: 40.89%\n",
            "  LR: 0.010000, Time: 19.69s\n",
            "  Overfitting Score: 0.1013\n",
            "--------------------------------------------------\n",
            "Loaded best model with validation accuracy: 40.89%\n"
          ]
        },
        {
          "output_type": "display_data",
          "data": {
            "text/plain": [
              "<IPython.core.display.HTML object>"
            ],
            "text/html": []
          },
          "metadata": {}
        },
        {
          "output_type": "display_data",
          "data": {
            "text/plain": [
              "<IPython.core.display.HTML object>"
            ],
            "text/html": [
              "<br>    <style><br>        .wandb-row {<br>            display: flex;<br>            flex-direction: row;<br>            flex-wrap: wrap;<br>            justify-content: flex-start;<br>            width: 100%;<br>        }<br>        .wandb-col {<br>            display: flex;<br>            flex-direction: column;<br>            flex-basis: 100%;<br>            flex: 1;<br>            padding: 10px;<br>        }<br>    </style><br><div class=\"wandb-row\"><div class=\"wandb-col\"><h3>Run history:</h3><br/><table class=\"wandb\"><tr><td>accuracy_gap</td><td>▁▄▅▆▆▇▇▇██</td></tr><tr><td>best_val_accuracy</td><td>▁▃▄▅▆▆▇███</td></tr><tr><td>epoch</td><td>▁▂▃▃▄▅▆▆▇█</td></tr><tr><td>epoch_time</td><td>▆▁▂█▂▁█▁▂█</td></tr><tr><td>learning_rate</td><td>▁▁▁▁▁▁▁▁▁▁</td></tr><tr><td>loss_gap</td><td>▁▄▆▆▇▇▇▇██</td></tr><tr><td>overfitting_score</td><td>▁▄▆▆▇▇▇▇██</td></tr><tr><td>train_accuracy</td><td>▁▄▅▆▆▇▇███</td></tr><tr><td>train_loss</td><td>█▅▄▃▃▂▂▂▁▁</td></tr><tr><td>val_accuracy</td><td>▁▃▄▅▆▆▇█▇█</td></tr><tr><td>val_loss</td><td>█▆▅▅▃▃▂▂▂▁</td></tr></table><br/></div><div class=\"wandb-col\"><h3>Run summary:</h3><br/><table class=\"wandb\"><tr><td>accuracy_gap</td><td>2.43231</td></tr><tr><td>best_val_accuracy</td><td>40.88693</td></tr><tr><td>epoch</td><td>10</td></tr><tr><td>epoch_time</td><td>19.69069</td></tr><tr><td>learning_rate</td><td>0.01</td></tr><tr><td>loss_gap</td><td>0.07693</td></tr><tr><td>overfitting_score</td><td>0.10125</td></tr><tr><td>train_accuracy</td><td>43.31923</td></tr><tr><td>train_loss</td><td>1.45139</td></tr><tr><td>val_accuracy</td><td>40.88693</td></tr><tr><td>val_loss</td><td>1.52832</td></tr></table><br/></div></div>"
            ]
          },
          "metadata": {}
        },
        {
          "output_type": "display_data",
          "data": {
            "text/plain": [
              "<IPython.core.display.HTML object>"
            ],
            "text/html": [
              " View run <strong style=\"color:#cdcd00\">Optimizer_sgd</strong> at: <a href='https://wandb.ai/nipkha21-free-university-of-tbilisi-/facial-expression-recognition/runs/wef6cpoi' target=\"_blank\">https://wandb.ai/nipkha21-free-university-of-tbilisi-/facial-expression-recognition/runs/wef6cpoi</a><br> View project at: <a href='https://wandb.ai/nipkha21-free-university-of-tbilisi-/facial-expression-recognition' target=\"_blank\">https://wandb.ai/nipkha21-free-university-of-tbilisi-/facial-expression-recognition</a><br>Synced 5 W&B file(s), 1 media file(s), 2 artifact file(s) and 0 other file(s)"
            ]
          },
          "metadata": {}
        },
        {
          "output_type": "display_data",
          "data": {
            "text/plain": [
              "<IPython.core.display.HTML object>"
            ],
            "text/html": [
              "Find logs at: <code>./wandb/run-20250607_192416-wef6cpoi/logs</code>"
            ]
          },
          "metadata": {}
        },
        {
          "output_type": "stream",
          "name": "stdout",
          "text": [
            "Best validation accuracy: 40.89%\n",
            "\n",
            "Testing optimizer: sgd_nesterov\n"
          ]
        },
        {
          "output_type": "display_data",
          "data": {
            "text/plain": [
              "<IPython.core.display.HTML object>"
            ],
            "text/html": [
              "Tracking run with wandb version 0.19.11"
            ]
          },
          "metadata": {}
        },
        {
          "output_type": "display_data",
          "data": {
            "text/plain": [
              "<IPython.core.display.HTML object>"
            ],
            "text/html": [
              "Run data is saved locally in <code>/content/wandb/run-20250607_192726-ou27u68e</code>"
            ]
          },
          "metadata": {}
        },
        {
          "output_type": "display_data",
          "data": {
            "text/plain": [
              "<IPython.core.display.HTML object>"
            ],
            "text/html": [
              "Syncing run <strong><a href='https://wandb.ai/nipkha21-free-university-of-tbilisi-/facial-expression-recognition/runs/ou27u68e' target=\"_blank\">Optimizer_sgd_nesterov</a></strong> to <a href='https://wandb.ai/nipkha21-free-university-of-tbilisi-/facial-expression-recognition' target=\"_blank\">Weights & Biases</a> (<a href='https://wandb.me/developer-guide' target=\"_blank\">docs</a>)<br>"
            ]
          },
          "metadata": {}
        },
        {
          "output_type": "display_data",
          "data": {
            "text/plain": [
              "<IPython.core.display.HTML object>"
            ],
            "text/html": [
              " View project at <a href='https://wandb.ai/nipkha21-free-university-of-tbilisi-/facial-expression-recognition' target=\"_blank\">https://wandb.ai/nipkha21-free-university-of-tbilisi-/facial-expression-recognition</a>"
            ]
          },
          "metadata": {}
        },
        {
          "output_type": "display_data",
          "data": {
            "text/plain": [
              "<IPython.core.display.HTML object>"
            ],
            "text/html": [
              " View run at <a href='https://wandb.ai/nipkha21-free-university-of-tbilisi-/facial-expression-recognition/runs/ou27u68e' target=\"_blank\">https://wandb.ai/nipkha21-free-university-of-tbilisi-/facial-expression-recognition/runs/ou27u68e</a>"
            ]
          },
          "metadata": {}
        },
        {
          "output_type": "stream",
          "name": "stdout",
          "text": [
            "Starting training for 10 epochs...\n"
          ]
        },
        {
          "output_type": "stream",
          "name": "stderr",
          "text": [
            "Training: 100%|██████████| 314/314 [00:15<00:00, 20.20it/s, Loss=1.6588, Acc=26.87%]\n",
            "Validation: 100%|██████████| 68/68 [00:02<00:00, 26.06it/s]\n"
          ]
        },
        {
          "output_type": "stream",
          "name": "stdout",
          "text": [
            "Epoch 1/10:\n",
            "  Train Loss: 1.9331, Train Acc: 26.87%\n",
            "  Val Loss: 1.6711, Val Acc: 34.15%\n",
            "  LR: 0.010000, Time: 18.16s\n",
            "  Overfitting Score: -0.3347\n",
            "--------------------------------------------------\n"
          ]
        },
        {
          "output_type": "stream",
          "name": "stderr",
          "text": [
            "Training: 100%|██████████| 314/314 [00:15<00:00, 20.04it/s, Loss=1.6325, Acc=32.94%]\n",
            "Validation: 100%|██████████| 68/68 [00:04<00:00, 15.63it/s]\n"
          ]
        },
        {
          "output_type": "stream",
          "name": "stdout",
          "text": [
            "Epoch 2/10:\n",
            "  Train Loss: 1.7182, Train Acc: 32.94%\n",
            "  Val Loss: 1.6222, Val Acc: 36.82%\n",
            "  LR: 0.010000, Time: 20.03s\n",
            "  Overfitting Score: -0.1348\n",
            "--------------------------------------------------\n"
          ]
        },
        {
          "output_type": "stream",
          "name": "stderr",
          "text": [
            "Training: 100%|██████████| 314/314 [00:15<00:00, 20.19it/s, Loss=1.6923, Acc=36.02%]\n",
            "Validation: 100%|██████████| 68/68 [00:02<00:00, 25.43it/s]\n"
          ]
        },
        {
          "output_type": "stream",
          "name": "stdout",
          "text": [
            "Epoch 3/10:\n",
            "  Train Loss: 1.6349, Train Acc: 36.02%\n",
            "  Val Loss: 1.6155, Val Acc: 37.15%\n",
            "  LR: 0.010000, Time: 18.24s\n",
            "  Overfitting Score: -0.0306\n",
            "--------------------------------------------------\n"
          ]
        },
        {
          "output_type": "stream",
          "name": "stderr",
          "text": [
            "Training: 100%|██████████| 314/314 [00:15<00:00, 20.17it/s, Loss=1.5620, Acc=37.90%]\n",
            "Validation: 100%|██████████| 68/68 [00:02<00:00, 25.26it/s]\n"
          ]
        },
        {
          "output_type": "stream",
          "name": "stdout",
          "text": [
            "Epoch 4/10:\n",
            "  Train Loss: 1.5978, Train Acc: 37.90%\n",
            "  Val Loss: 1.6140, Val Acc: 36.78%\n",
            "  LR: 0.010000, Time: 18.27s\n",
            "  Overfitting Score: 0.0274\n",
            "--------------------------------------------------\n"
          ]
        },
        {
          "output_type": "stream",
          "name": "stderr",
          "text": [
            "Training: 100%|██████████| 314/314 [00:16<00:00, 19.61it/s, Loss=1.6813, Acc=39.25%]\n",
            "Validation: 100%|██████████| 68/68 [00:04<00:00, 16.23it/s]\n"
          ]
        },
        {
          "output_type": "stream",
          "name": "stdout",
          "text": [
            "Epoch 5/10:\n",
            "  Train Loss: 1.5594, Train Acc: 39.25%\n",
            "  Val Loss: 1.5646, Val Acc: 38.87%\n",
            "  LR: 0.010000, Time: 20.21s\n",
            "  Overfitting Score: 0.0090\n",
            "--------------------------------------------------\n"
          ]
        },
        {
          "output_type": "stream",
          "name": "stderr",
          "text": [
            "Training: 100%|██████████| 314/314 [00:15<00:00, 20.07it/s, Loss=1.5634, Acc=40.34%]\n",
            "Validation: 100%|██████████| 68/68 [00:02<00:00, 25.71it/s]\n"
          ]
        },
        {
          "output_type": "stream",
          "name": "stdout",
          "text": [
            "Epoch 6/10:\n",
            "  Train Loss: 1.5363, Train Acc: 40.34%\n",
            "  Val Loss: 1.5694, Val Acc: 39.31%\n",
            "  LR: 0.010000, Time: 18.30s\n",
            "  Overfitting Score: 0.0434\n",
            "--------------------------------------------------\n"
          ]
        },
        {
          "output_type": "stream",
          "name": "stderr",
          "text": [
            "Training: 100%|██████████| 314/314 [00:15<00:00, 19.88it/s, Loss=1.4738, Acc=41.48%]\n",
            "Validation: 100%|██████████| 68/68 [00:02<00:00, 25.94it/s]\n"
          ]
        },
        {
          "output_type": "stream",
          "name": "stdout",
          "text": [
            "Epoch 7/10:\n",
            "  Train Loss: 1.5112, Train Acc: 41.48%\n",
            "  Val Loss: 1.5511, Val Acc: 39.42%\n",
            "  LR: 0.010000, Time: 18.43s\n",
            "  Overfitting Score: 0.0605\n",
            "--------------------------------------------------\n"
          ]
        },
        {
          "output_type": "stream",
          "name": "stderr",
          "text": [
            "Training: 100%|██████████| 314/314 [00:16<00:00, 19.26it/s, Loss=1.2214, Acc=42.44%]\n",
            "Validation: 100%|██████████| 68/68 [00:03<00:00, 18.63it/s]\n"
          ]
        },
        {
          "output_type": "stream",
          "name": "stdout",
          "text": [
            "Epoch 8/10:\n",
            "  Train Loss: 1.4871, Train Acc: 42.44%\n",
            "  Val Loss: 1.5771, Val Acc: 39.01%\n",
            "  LR: 0.010000, Time: 19.96s\n",
            "  Overfitting Score: 0.1243\n",
            "--------------------------------------------------\n"
          ]
        },
        {
          "output_type": "stream",
          "name": "stderr",
          "text": [
            "Training: 100%|██████████| 314/314 [00:15<00:00, 20.06it/s, Loss=1.3743, Acc=43.39%]\n",
            "Validation: 100%|██████████| 68/68 [00:02<00:00, 25.73it/s]\n"
          ]
        },
        {
          "output_type": "stream",
          "name": "stdout",
          "text": [
            "Epoch 9/10:\n",
            "  Train Loss: 1.4719, Train Acc: 43.39%\n",
            "  Val Loss: 1.5361, Val Acc: 40.84%\n",
            "  LR: 0.010000, Time: 18.31s\n",
            "  Overfitting Score: 0.0897\n",
            "--------------------------------------------------\n"
          ]
        },
        {
          "output_type": "stream",
          "name": "stderr",
          "text": [
            "Training: 100%|██████████| 314/314 [00:15<00:00, 20.14it/s, Loss=1.5142, Acc=44.20%]\n",
            "Validation: 100%|██████████| 68/68 [00:02<00:00, 25.49it/s]\n"
          ]
        },
        {
          "output_type": "stream",
          "name": "stdout",
          "text": [
            "Epoch 10/10:\n",
            "  Train Loss: 1.4471, Train Acc: 44.20%\n",
            "  Val Loss: 1.5537, Val Acc: 39.77%\n",
            "  LR: 0.010000, Time: 18.27s\n",
            "  Overfitting Score: 0.1508\n",
            "--------------------------------------------------\n",
            "Loaded best model with validation accuracy: 40.84%\n"
          ]
        },
        {
          "output_type": "display_data",
          "data": {
            "text/plain": [
              "<IPython.core.display.HTML object>"
            ],
            "text/html": []
          },
          "metadata": {}
        },
        {
          "output_type": "display_data",
          "data": {
            "text/plain": [
              "<IPython.core.display.HTML object>"
            ],
            "text/html": [
              "<br>    <style><br>        .wandb-row {<br>            display: flex;<br>            flex-direction: row;<br>            flex-wrap: wrap;<br>            justify-content: flex-start;<br>            width: 100%;<br>        }<br>        .wandb-col {<br>            display: flex;<br>            flex-direction: column;<br>            flex-basis: 100%;<br>            flex: 1;<br>            padding: 10px;<br>        }<br>    </style><br><div class=\"wandb-row\"><div class=\"wandb-col\"><h3>Run history:</h3><br/><table class=\"wandb\"><tr><td>accuracy_gap</td><td>▁▃▅▆▆▆▇▇▇█</td></tr><tr><td>best_val_accuracy</td><td>▁▄▄▄▆▆▇▇██</td></tr><tr><td>epoch</td><td>▁▂▃▃▄▅▆▆▇█</td></tr><tr><td>epoch_time</td><td>▁▇▁▁█▁▂▇▁▁</td></tr><tr><td>learning_rate</td><td>▁▁▁▁▁▁▁▁▁▁</td></tr><tr><td>loss_gap</td><td>▁▄▆▆▆▇▇█▇█</td></tr><tr><td>overfitting_score</td><td>▁▄▅▆▆▆▇█▇█</td></tr><tr><td>train_accuracy</td><td>▁▃▅▅▆▆▇▇██</td></tr><tr><td>train_loss</td><td>█▅▄▃▃▂▂▂▁▁</td></tr><tr><td>val_accuracy</td><td>▁▄▄▄▆▆▇▆█▇</td></tr><tr><td>val_loss</td><td>█▅▅▅▂▃▂▃▁▂</td></tr></table><br/></div><div class=\"wandb-col\"><h3>Run summary:</h3><br/><table class=\"wandb\"><tr><td>accuracy_gap</td><td>4.42261</td></tr><tr><td>best_val_accuracy</td><td>40.84049</td></tr><tr><td>epoch</td><td>10</td></tr><tr><td>epoch_time</td><td>18.27005</td></tr><tr><td>learning_rate</td><td>0.01</td></tr><tr><td>loss_gap</td><td>0.10653</td></tr><tr><td>overfitting_score</td><td>0.15076</td></tr><tr><td>train_accuracy</td><td>44.19507</td></tr><tr><td>train_loss</td><td>1.44715</td></tr><tr><td>val_accuracy</td><td>39.77246</td></tr><tr><td>val_loss</td><td>1.55368</td></tr></table><br/></div></div>"
            ]
          },
          "metadata": {}
        },
        {
          "output_type": "display_data",
          "data": {
            "text/plain": [
              "<IPython.core.display.HTML object>"
            ],
            "text/html": [
              " View run <strong style=\"color:#cdcd00\">Optimizer_sgd_nesterov</strong> at: <a href='https://wandb.ai/nipkha21-free-university-of-tbilisi-/facial-expression-recognition/runs/ou27u68e' target=\"_blank\">https://wandb.ai/nipkha21-free-university-of-tbilisi-/facial-expression-recognition/runs/ou27u68e</a><br> View project at: <a href='https://wandb.ai/nipkha21-free-university-of-tbilisi-/facial-expression-recognition' target=\"_blank\">https://wandb.ai/nipkha21-free-university-of-tbilisi-/facial-expression-recognition</a><br>Synced 5 W&B file(s), 1 media file(s), 2 artifact file(s) and 0 other file(s)"
            ]
          },
          "metadata": {}
        },
        {
          "output_type": "display_data",
          "data": {
            "text/plain": [
              "<IPython.core.display.HTML object>"
            ],
            "text/html": [
              "Find logs at: <code>./wandb/run-20250607_192726-ou27u68e/logs</code>"
            ]
          },
          "metadata": {}
        },
        {
          "output_type": "stream",
          "name": "stdout",
          "text": [
            "Best validation accuracy: 40.84%\n",
            "\n",
            "Testing optimizer: rmsprop\n"
          ]
        },
        {
          "output_type": "display_data",
          "data": {
            "text/plain": [
              "<IPython.core.display.HTML object>"
            ],
            "text/html": [
              "Tracking run with wandb version 0.19.11"
            ]
          },
          "metadata": {}
        },
        {
          "output_type": "display_data",
          "data": {
            "text/plain": [
              "<IPython.core.display.HTML object>"
            ],
            "text/html": [
              "Run data is saved locally in <code>/content/wandb/run-20250607_193036-w43nuceu</code>"
            ]
          },
          "metadata": {}
        },
        {
          "output_type": "display_data",
          "data": {
            "text/plain": [
              "<IPython.core.display.HTML object>"
            ],
            "text/html": [
              "Syncing run <strong><a href='https://wandb.ai/nipkha21-free-university-of-tbilisi-/facial-expression-recognition/runs/w43nuceu' target=\"_blank\">Optimizer_rmsprop</a></strong> to <a href='https://wandb.ai/nipkha21-free-university-of-tbilisi-/facial-expression-recognition' target=\"_blank\">Weights & Biases</a> (<a href='https://wandb.me/developer-guide' target=\"_blank\">docs</a>)<br>"
            ]
          },
          "metadata": {}
        },
        {
          "output_type": "display_data",
          "data": {
            "text/plain": [
              "<IPython.core.display.HTML object>"
            ],
            "text/html": [
              " View project at <a href='https://wandb.ai/nipkha21-free-university-of-tbilisi-/facial-expression-recognition' target=\"_blank\">https://wandb.ai/nipkha21-free-university-of-tbilisi-/facial-expression-recognition</a>"
            ]
          },
          "metadata": {}
        },
        {
          "output_type": "display_data",
          "data": {
            "text/plain": [
              "<IPython.core.display.HTML object>"
            ],
            "text/html": [
              " View run at <a href='https://wandb.ai/nipkha21-free-university-of-tbilisi-/facial-expression-recognition/runs/w43nuceu' target=\"_blank\">https://wandb.ai/nipkha21-free-university-of-tbilisi-/facial-expression-recognition/runs/w43nuceu</a>"
            ]
          },
          "metadata": {}
        },
        {
          "output_type": "stream",
          "name": "stdout",
          "text": [
            "Starting training for 10 epochs...\n"
          ]
        },
        {
          "output_type": "stream",
          "name": "stderr",
          "text": [
            "Training: 100%|██████████| 314/314 [00:15<00:00, 19.75it/s, Loss=1.6146, Acc=30.37%]\n",
            "Validation: 100%|██████████| 68/68 [00:02<00:00, 25.33it/s]\n"
          ]
        },
        {
          "output_type": "stream",
          "name": "stdout",
          "text": [
            "Epoch 1/10:\n",
            "  Train Loss: 1.7882, Train Acc: 30.37%\n",
            "  Val Loss: 1.7070, Val Acc: 32.83%\n",
            "  LR: 0.001000, Time: 18.59s\n",
            "  Overfitting Score: -0.1058\n",
            "--------------------------------------------------\n"
          ]
        },
        {
          "output_type": "stream",
          "name": "stderr",
          "text": [
            "Training: 100%|██████████| 314/314 [00:15<00:00, 20.06it/s, Loss=1.7042, Acc=36.27%]\n",
            "Validation: 100%|██████████| 68/68 [00:02<00:00, 25.73it/s]\n"
          ]
        },
        {
          "output_type": "stream",
          "name": "stdout",
          "text": [
            "Epoch 2/10:\n",
            "  Train Loss: 1.6358, Train Acc: 36.27%\n",
            "  Val Loss: 1.6401, Val Acc: 35.22%\n",
            "  LR: 0.001000, Time: 18.31s\n",
            "  Overfitting Score: 0.0148\n",
            "--------------------------------------------------\n"
          ]
        },
        {
          "output_type": "stream",
          "name": "stderr",
          "text": [
            "Training: 100%|██████████| 314/314 [00:15<00:00, 19.82it/s, Loss=1.5506, Acc=38.62%]\n",
            "Validation: 100%|██████████| 68/68 [00:04<00:00, 16.20it/s]\n"
          ]
        },
        {
          "output_type": "stream",
          "name": "stdout",
          "text": [
            "Epoch 3/10:\n",
            "  Train Loss: 1.5689, Train Acc: 38.62%\n",
            "  Val Loss: 1.5746, Val Acc: 38.52%\n",
            "  LR: 0.001000, Time: 20.05s\n",
            "  Overfitting Score: 0.0066\n",
            "--------------------------------------------------\n"
          ]
        },
        {
          "output_type": "stream",
          "name": "stderr",
          "text": [
            "Training: 100%|██████████| 314/314 [00:15<00:00, 19.98it/s, Loss=1.3780, Acc=41.00%]\n",
            "Validation: 100%|██████████| 68/68 [00:02<00:00, 24.88it/s]\n"
          ]
        },
        {
          "output_type": "stream",
          "name": "stdout",
          "text": [
            "Epoch 4/10:\n",
            "  Train Loss: 1.5194, Train Acc: 41.00%\n",
            "  Val Loss: 1.5718, Val Acc: 38.80%\n",
            "  LR: 0.001000, Time: 18.46s\n",
            "  Overfitting Score: 0.0744\n",
            "--------------------------------------------------\n"
          ]
        },
        {
          "output_type": "stream",
          "name": "stderr",
          "text": [
            "Training: 100%|██████████| 314/314 [00:15<00:00, 19.88it/s, Loss=1.5950, Acc=42.81%]\n",
            "Validation: 100%|██████████| 68/68 [00:02<00:00, 25.09it/s]\n"
          ]
        },
        {
          "output_type": "stream",
          "name": "stdout",
          "text": [
            "Epoch 5/10:\n",
            "  Train Loss: 1.4791, Train Acc: 42.81%\n",
            "  Val Loss: 1.5516, Val Acc: 39.19%\n",
            "  LR: 0.001000, Time: 18.51s\n",
            "  Overfitting Score: 0.1087\n",
            "--------------------------------------------------\n"
          ]
        },
        {
          "output_type": "stream",
          "name": "stderr",
          "text": [
            "Training: 100%|██████████| 314/314 [00:16<00:00, 18.70it/s, Loss=1.5513, Acc=44.12%]\n",
            "Validation: 100%|██████████| 68/68 [00:03<00:00, 19.54it/s]\n"
          ]
        },
        {
          "output_type": "stream",
          "name": "stdout",
          "text": [
            "Epoch 6/10:\n",
            "  Train Loss: 1.4459, Train Acc: 44.12%\n",
            "  Val Loss: 1.5940, Val Acc: 37.08%\n",
            "  LR: 0.001000, Time: 20.28s\n",
            "  Overfitting Score: 0.2185\n",
            "--------------------------------------------------\n"
          ]
        },
        {
          "output_type": "stream",
          "name": "stderr",
          "text": [
            "Training: 100%|██████████| 314/314 [00:15<00:00, 19.63it/s, Loss=1.2937, Acc=45.50%]\n",
            "Validation: 100%|██████████| 68/68 [00:02<00:00, 25.86it/s]\n"
          ]
        },
        {
          "output_type": "stream",
          "name": "stdout",
          "text": [
            "Epoch 7/10:\n",
            "  Train Loss: 1.4113, Train Acc: 45.50%\n",
            "  Val Loss: 1.6329, Val Acc: 37.03%\n",
            "  LR: 0.001000, Time: 18.64s\n",
            "  Overfitting Score: 0.3062\n",
            "--------------------------------------------------\n"
          ]
        },
        {
          "output_type": "stream",
          "name": "stderr",
          "text": [
            "Training: 100%|██████████| 314/314 [00:15<00:00, 19.70it/s, Loss=1.3091, Acc=46.73%]\n",
            "Validation: 100%|██████████| 68/68 [00:03<00:00, 21.53it/s]\n"
          ]
        },
        {
          "output_type": "stream",
          "name": "stdout",
          "text": [
            "Epoch 8/10:\n",
            "  Train Loss: 1.3832, Train Acc: 46.73%\n",
            "  Val Loss: 1.5995, Val Acc: 36.99%\n",
            "  LR: 0.001000, Time: 19.11s\n",
            "  Overfitting Score: 0.3138\n",
            "--------------------------------------------------\n"
          ]
        },
        {
          "output_type": "stream",
          "name": "stderr",
          "text": [
            "Training: 100%|██████████| 314/314 [00:16<00:00, 18.83it/s, Loss=1.2564, Acc=48.68%]\n",
            "Validation: 100%|██████████| 68/68 [00:02<00:00, 24.17it/s]\n"
          ]
        },
        {
          "output_type": "stream",
          "name": "stdout",
          "text": [
            "Epoch 9/10:\n",
            "  Train Loss: 1.3501, Train Acc: 48.68%\n",
            "  Val Loss: 1.6371, Val Acc: 38.63%\n",
            "  LR: 0.001000, Time: 19.50s\n",
            "  Overfitting Score: 0.3875\n",
            "--------------------------------------------------\n"
          ]
        },
        {
          "output_type": "stream",
          "name": "stderr",
          "text": [
            "Training: 100%|██████████| 314/314 [00:15<00:00, 19.85it/s, Loss=1.2340, Acc=49.60%]\n",
            "Validation: 100%|██████████| 68/68 [00:02<00:00, 25.64it/s]\n"
          ]
        },
        {
          "output_type": "stream",
          "name": "stdout",
          "text": [
            "Epoch 10/10:\n",
            "  Train Loss: 1.3175, Train Acc: 49.60%\n",
            "  Val Loss: 1.5218, Val Acc: 41.33%\n",
            "  LR: 0.001000, Time: 18.48s\n",
            "  Overfitting Score: 0.2870\n",
            "--------------------------------------------------\n",
            "Loaded best model with validation accuracy: 41.33%\n"
          ]
        },
        {
          "output_type": "display_data",
          "data": {
            "text/plain": [
              "<IPython.core.display.HTML object>"
            ],
            "text/html": []
          },
          "metadata": {}
        },
        {
          "output_type": "display_data",
          "data": {
            "text/plain": [
              "<IPython.core.display.HTML object>"
            ],
            "text/html": [
              "<br>    <style><br>        .wandb-row {<br>            display: flex;<br>            flex-direction: row;<br>            flex-wrap: wrap;<br>            justify-content: flex-start;<br>            width: 100%;<br>        }<br>        .wandb-col {<br>            display: flex;<br>            flex-direction: column;<br>            flex-basis: 100%;<br>            flex: 1;<br>            padding: 10px;<br>        }<br>    </style><br><div class=\"wandb-row\"><div class=\"wandb-col\"><h3>Run history:</h3><br/><table class=\"wandb\"><tr><td>accuracy_gap</td><td>▁▃▂▄▄▆▇██▇</td></tr><tr><td>best_val_accuracy</td><td>▁▃▆▆▆▆▆▆▆█</td></tr><tr><td>epoch</td><td>▁▂▃▃▄▅▆▆▇█</td></tr><tr><td>epoch_time</td><td>▂▁▇▂▂█▂▄▅▂</td></tr><tr><td>learning_rate</td><td>▁▁▁▁▁▁▁▁▁▁</td></tr><tr><td>loss_gap</td><td>▁▃▃▄▄▅▇▇█▆</td></tr><tr><td>overfitting_score</td><td>▁▃▃▄▄▆▇▇█▇</td></tr><tr><td>train_accuracy</td><td>▁▃▄▅▆▆▇▇██</td></tr><tr><td>train_loss</td><td>█▆▅▄▃▃▂▂▁▁</td></tr><tr><td>val_accuracy</td><td>▁▃▆▆▆▅▄▄▆█</td></tr><tr><td>val_loss</td><td>█▅▃▃▂▄▅▄▅▁</td></tr></table><br/></div><div class=\"wandb-col\"><h3>Run summary:</h3><br/><table class=\"wandb\"><tr><td>accuracy_gap</td><td>8.27133</td></tr><tr><td>best_val_accuracy</td><td>41.32807</td></tr><tr><td>epoch</td><td>10</td></tr><tr><td>epoch_time</td><td>18.47668</td></tr><tr><td>learning_rate</td><td>0.001</td></tr><tr><td>loss_gap</td><td>0.20426</td></tr><tr><td>overfitting_score</td><td>0.28698</td></tr><tr><td>train_accuracy</td><td>49.5994</td></tr><tr><td>train_loss</td><td>1.3175</td></tr><tr><td>val_accuracy</td><td>41.32807</td></tr><tr><td>val_loss</td><td>1.52176</td></tr></table><br/></div></div>"
            ]
          },
          "metadata": {}
        },
        {
          "output_type": "display_data",
          "data": {
            "text/plain": [
              "<IPython.core.display.HTML object>"
            ],
            "text/html": [
              " View run <strong style=\"color:#cdcd00\">Optimizer_rmsprop</strong> at: <a href='https://wandb.ai/nipkha21-free-university-of-tbilisi-/facial-expression-recognition/runs/w43nuceu' target=\"_blank\">https://wandb.ai/nipkha21-free-university-of-tbilisi-/facial-expression-recognition/runs/w43nuceu</a><br> View project at: <a href='https://wandb.ai/nipkha21-free-university-of-tbilisi-/facial-expression-recognition' target=\"_blank\">https://wandb.ai/nipkha21-free-university-of-tbilisi-/facial-expression-recognition</a><br>Synced 5 W&B file(s), 1 media file(s), 2 artifact file(s) and 0 other file(s)"
            ]
          },
          "metadata": {}
        },
        {
          "output_type": "display_data",
          "data": {
            "text/plain": [
              "<IPython.core.display.HTML object>"
            ],
            "text/html": [
              "Find logs at: <code>./wandb/run-20250607_193036-w43nuceu/logs</code>"
            ]
          },
          "metadata": {}
        },
        {
          "output_type": "stream",
          "name": "stdout",
          "text": [
            "Best validation accuracy: 41.33%\n",
            "\n",
            "=== OPTIMIZER ANALYSIS ===\n",
            "Best optimizer: rmsprop\n",
            "adam: 39.66% (stability: 1.5957)\n",
            "sgd: 40.89% (stability: 2.1440)\n",
            "sgd_nesterov: 40.84% (stability: 1.8617)\n",
            "rmsprop: 41.33% (stability: 2.2168)\n"
          ]
        }
      ]
    },
    {
      "cell_type": "code",
      "source": [
        "print(\"=== BATCH NORMALIZATION ANALYSIS ===\")\n",
        "\n",
        "bn_configs = [\n",
        "    {'use_batch_norm': False, 'name': 'no_bn'},\n",
        "    {'use_batch_norm': True, 'name': 'with_bn'}\n",
        "]\n",
        "\n",
        "bn_results = {}\n",
        "\n",
        "for config in bn_configs:\n",
        "    print(f\"\\nTesting batch normalization: {config['name']}\")\n",
        "\n",
        "    train_dataset = MLPFacialExpressionDataset(train_df, normalization='standard')\n",
        "    val_dataset = MLPFacialExpressionDataset(val_df, normalization='standard')\n",
        "\n",
        "    train_loader = DataLoader(train_dataset, batch_size=64, shuffle=True)\n",
        "    val_loader = DataLoader(val_dataset, batch_size=64, shuffle=False)\n",
        "\n",
        "    model = AdvancedMLP(\n",
        "        input_size=2304,\n",
        "        hidden_sizes=[512, 256],\n",
        "        num_classes=7,\n",
        "        dropout_rate=0.3\n",
        "    )\n",
        "\n",
        "    criterion = nn.CrossEntropyLoss()\n",
        "    optimizer = optimizers_config[best_optimizer]['class'](\n",
        "        model.parameters(),\n",
        "        **optimizers_config[best_optimizer]['kwargs']\n",
        "    )\n",
        "\n",
        "    trainer = AdvancedTrainer(\n",
        "        model=model,\n",
        "        train_loader=train_loader,\n",
        "        val_loader=val_loader,\n",
        "        criterion=criterion,\n",
        "        optimizer=optimizer,\n",
        "        device=device,\n",
        "        experiment_name=\"Advanced_MLP_Training\",\n",
        "        run_name=f\"BatchNorm_{config['name']}\"\n",
        "    )\n",
        "\n",
        "    history = trainer.train(epochs=10, early_stopping_patience=7)\n",
        "\n",
        "    bn_results[config['name']] = {\n",
        "        'best_val_acc': trainer.best_val_acc,\n",
        "        'training_speed': np.mean(history['epoch_times']),\n",
        "        'overfitting_score': np.mean([\n",
        "            (val_loss - train_loss) + (train_acc - val_acc) / 100\n",
        "            for train_loss, val_loss, train_acc, val_acc in zip(\n",
        "                history['train_loss'][-5:], history['val_loss'][-5:],\n",
        "                history['train_acc'][-5:], history['val_acc'][-5:]\n",
        "            )\n",
        "        ])\n",
        "    }\n",
        "\n",
        "    wandb.finish()\n",
        "\n",
        "print(\"\\n=== BATCH NORMALIZATION RESULTS ===\")\n",
        "for config_name, results in bn_results.items():\n",
        "    print(f\"{config_name}: {results['best_val_acc']:.2f}% \"\n",
        "          f\"(speed: {results['training_speed']:.2f}s/epoch, \"\n",
        "          f\"overfitting: {results['overfitting_score']:.4f})\")"
      ],
      "metadata": {
        "colab": {
          "base_uri": "https://localhost:8080/",
          "height": 1000
        },
        "id": "0S_QqgcPuQ3T",
        "outputId": "6921b8b6-83e0-495a-9230-b02485b3a78f"
      },
      "execution_count": 25,
      "outputs": [
        {
          "output_type": "stream",
          "name": "stdout",
          "text": [
            "=== BATCH NORMALIZATION ANALYSIS ===\n",
            "\n",
            "Testing batch normalization: no_bn\n"
          ]
        },
        {
          "output_type": "display_data",
          "data": {
            "text/plain": [
              "<IPython.core.display.HTML object>"
            ],
            "text/html": [
              "Finishing previous runs because reinit is set to True."
            ]
          },
          "metadata": {}
        },
        {
          "output_type": "display_data",
          "data": {
            "text/plain": [
              "<IPython.core.display.HTML object>"
            ],
            "text/html": []
          },
          "metadata": {}
        },
        {
          "output_type": "display_data",
          "data": {
            "text/plain": [
              "<IPython.core.display.HTML object>"
            ],
            "text/html": [
              " View run <strong style=\"color:#cdcd00\">BatchNorm_no_bn</strong> at: <a href='https://wandb.ai/nipkha21-free-university-of-tbilisi-/facial-expression-recognition/runs/i4seay3q' target=\"_blank\">https://wandb.ai/nipkha21-free-university-of-tbilisi-/facial-expression-recognition/runs/i4seay3q</a><br> View project at: <a href='https://wandb.ai/nipkha21-free-university-of-tbilisi-/facial-expression-recognition' target=\"_blank\">https://wandb.ai/nipkha21-free-university-of-tbilisi-/facial-expression-recognition</a><br>Synced 5 W&B file(s), 0 media file(s), 0 artifact file(s) and 0 other file(s)"
            ]
          },
          "metadata": {}
        },
        {
          "output_type": "display_data",
          "data": {
            "text/plain": [
              "<IPython.core.display.HTML object>"
            ],
            "text/html": [
              "Find logs at: <code>./wandb/run-20250607_193420-i4seay3q/logs</code>"
            ]
          },
          "metadata": {}
        },
        {
          "output_type": "display_data",
          "data": {
            "text/plain": [
              "<IPython.core.display.HTML object>"
            ],
            "text/html": [
              "Tracking run with wandb version 0.19.11"
            ]
          },
          "metadata": {}
        },
        {
          "output_type": "display_data",
          "data": {
            "text/plain": [
              "<IPython.core.display.HTML object>"
            ],
            "text/html": [
              "Run data is saved locally in <code>/content/wandb/run-20250607_193430-nrs18smc</code>"
            ]
          },
          "metadata": {}
        },
        {
          "output_type": "display_data",
          "data": {
            "text/plain": [
              "<IPython.core.display.HTML object>"
            ],
            "text/html": [
              "Syncing run <strong><a href='https://wandb.ai/nipkha21-free-university-of-tbilisi-/facial-expression-recognition/runs/nrs18smc' target=\"_blank\">BatchNorm_no_bn</a></strong> to <a href='https://wandb.ai/nipkha21-free-university-of-tbilisi-/facial-expression-recognition' target=\"_blank\">Weights & Biases</a> (<a href='https://wandb.me/developer-guide' target=\"_blank\">docs</a>)<br>"
            ]
          },
          "metadata": {}
        },
        {
          "output_type": "display_data",
          "data": {
            "text/plain": [
              "<IPython.core.display.HTML object>"
            ],
            "text/html": [
              " View project at <a href='https://wandb.ai/nipkha21-free-university-of-tbilisi-/facial-expression-recognition' target=\"_blank\">https://wandb.ai/nipkha21-free-university-of-tbilisi-/facial-expression-recognition</a>"
            ]
          },
          "metadata": {}
        },
        {
          "output_type": "display_data",
          "data": {
            "text/plain": [
              "<IPython.core.display.HTML object>"
            ],
            "text/html": [
              " View run at <a href='https://wandb.ai/nipkha21-free-university-of-tbilisi-/facial-expression-recognition/runs/nrs18smc' target=\"_blank\">https://wandb.ai/nipkha21-free-university-of-tbilisi-/facial-expression-recognition/runs/nrs18smc</a>"
            ]
          },
          "metadata": {}
        },
        {
          "output_type": "stream",
          "name": "stdout",
          "text": [
            "Starting training for 10 epochs...\n"
          ]
        },
        {
          "output_type": "stream",
          "name": "stderr",
          "text": [
            "Training: 100%|██████████| 314/314 [00:15<00:00, 20.49it/s, Loss=1.5639, Acc=30.62%]\n",
            "Validation: 100%|██████████| 68/68 [00:02<00:00, 25.86it/s]\n"
          ]
        },
        {
          "output_type": "stream",
          "name": "stdout",
          "text": [
            "Epoch 1/10:\n",
            "  Train Loss: 1.7897, Train Acc: 30.62%\n",
            "  Val Loss: 1.6455, Val Acc: 34.85%\n",
            "  LR: 0.001000, Time: 17.96s\n",
            "  Overfitting Score: -0.1864\n",
            "--------------------------------------------------\n"
          ]
        },
        {
          "output_type": "stream",
          "name": "stderr",
          "text": [
            "Training: 100%|██████████| 314/314 [00:15<00:00, 20.32it/s, Loss=1.5731, Acc=35.97%]\n",
            "Validation: 100%|██████████| 68/68 [00:02<00:00, 26.06it/s]\n"
          ]
        },
        {
          "output_type": "stream",
          "name": "stdout",
          "text": [
            "Epoch 2/10:\n",
            "  Train Loss: 1.6394, Train Acc: 35.97%\n",
            "  Val Loss: 1.6218, Val Acc: 36.89%\n",
            "  LR: 0.001000, Time: 18.07s\n",
            "  Overfitting Score: -0.0268\n",
            "--------------------------------------------------\n"
          ]
        },
        {
          "output_type": "stream",
          "name": "stderr",
          "text": [
            "Training: 100%|██████████| 314/314 [00:15<00:00, 20.18it/s, Loss=1.5277, Acc=38.90%]\n",
            "Validation: 100%|██████████| 68/68 [00:04<00:00, 16.71it/s]\n"
          ]
        },
        {
          "output_type": "stream",
          "name": "stdout",
          "text": [
            "Epoch 3/10:\n",
            "  Train Loss: 1.5688, Train Acc: 38.90%\n",
            "  Val Loss: 1.6159, Val Acc: 36.45%\n",
            "  LR: 0.001000, Time: 19.64s\n",
            "  Overfitting Score: 0.0716\n",
            "--------------------------------------------------\n"
          ]
        },
        {
          "output_type": "stream",
          "name": "stderr",
          "text": [
            "Training: 100%|██████████| 314/314 [00:15<00:00, 20.32it/s, Loss=1.3162, Acc=40.96%]\n",
            "Validation: 100%|██████████| 68/68 [00:02<00:00, 25.82it/s]\n"
          ]
        },
        {
          "output_type": "stream",
          "name": "stdout",
          "text": [
            "Epoch 4/10:\n",
            "  Train Loss: 1.5253, Train Acc: 40.96%\n",
            "  Val Loss: 1.6074, Val Acc: 36.48%\n",
            "  LR: 0.001000, Time: 18.09s\n",
            "  Overfitting Score: 0.1269\n",
            "--------------------------------------------------\n"
          ]
        },
        {
          "output_type": "stream",
          "name": "stderr",
          "text": [
            "Training: 100%|██████████| 314/314 [00:15<00:00, 20.15it/s, Loss=1.5093, Acc=42.30%]\n",
            "Validation: 100%|██████████| 68/68 [00:02<00:00, 25.33it/s]\n"
          ]
        },
        {
          "output_type": "stream",
          "name": "stdout",
          "text": [
            "Epoch 5/10:\n",
            "  Train Loss: 1.4854, Train Acc: 42.30%\n",
            "  Val Loss: 1.5988, Val Acc: 37.61%\n",
            "  LR: 0.001000, Time: 18.28s\n",
            "  Overfitting Score: 0.1602\n",
            "--------------------------------------------------\n"
          ]
        },
        {
          "output_type": "stream",
          "name": "stderr",
          "text": [
            "Training: 100%|██████████| 314/314 [00:15<00:00, 19.76it/s, Loss=1.3803, Acc=44.02%]\n",
            "Validation: 100%|██████████| 68/68 [00:03<00:00, 17.24it/s]\n"
          ]
        },
        {
          "output_type": "stream",
          "name": "stdout",
          "text": [
            "Epoch 6/10:\n",
            "  Train Loss: 1.4486, Train Acc: 44.02%\n",
            "  Val Loss: 1.6072, Val Acc: 37.33%\n",
            "  LR: 0.001000, Time: 19.85s\n",
            "  Overfitting Score: 0.2255\n",
            "--------------------------------------------------\n"
          ]
        },
        {
          "output_type": "stream",
          "name": "stderr",
          "text": [
            "Training: 100%|██████████| 314/314 [00:15<00:00, 20.35it/s, Loss=1.2318, Acc=45.54%]\n",
            "Validation: 100%|██████████| 68/68 [00:02<00:00, 26.06it/s]\n"
          ]
        },
        {
          "output_type": "stream",
          "name": "stdout",
          "text": [
            "Epoch 7/10:\n",
            "  Train Loss: 1.4136, Train Acc: 45.54%\n",
            "  Val Loss: 1.5774, Val Acc: 38.57%\n",
            "  LR: 0.001000, Time: 18.06s\n",
            "  Overfitting Score: 0.2336\n",
            "--------------------------------------------------\n"
          ]
        },
        {
          "output_type": "stream",
          "name": "stderr",
          "text": [
            "Training: 100%|██████████| 314/314 [00:15<00:00, 20.28it/s, Loss=1.5251, Acc=46.22%]\n",
            "Validation: 100%|██████████| 68/68 [00:02<00:00, 25.80it/s]\n"
          ]
        },
        {
          "output_type": "stream",
          "name": "stdout",
          "text": [
            "Epoch 8/10:\n",
            "  Train Loss: 1.3883, Train Acc: 46.22%\n",
            "  Val Loss: 1.6891, Val Acc: 32.34%\n",
            "  LR: 0.001000, Time: 18.13s\n",
            "  Overfitting Score: 0.4395\n",
            "--------------------------------------------------\n"
          ]
        },
        {
          "output_type": "stream",
          "name": "stderr",
          "text": [
            "Training: 100%|██████████| 314/314 [00:16<00:00, 19.53it/s, Loss=1.2753, Acc=48.16%]\n",
            "Validation: 100%|██████████| 68/68 [00:03<00:00, 18.39it/s]\n"
          ]
        },
        {
          "output_type": "stream",
          "name": "stdout",
          "text": [
            "Epoch 9/10:\n",
            "  Train Loss: 1.3525, Train Acc: 48.16%\n",
            "  Val Loss: 1.5254, Val Acc: 40.54%\n",
            "  LR: 0.001000, Time: 19.78s\n",
            "  Overfitting Score: 0.2492\n",
            "--------------------------------------------------\n"
          ]
        },
        {
          "output_type": "stream",
          "name": "stderr",
          "text": [
            "Training: 100%|██████████| 314/314 [00:15<00:00, 20.29it/s, Loss=1.2316, Acc=49.27%]\n",
            "Validation: 100%|██████████| 68/68 [00:02<00:00, 25.36it/s]\n"
          ]
        },
        {
          "output_type": "stream",
          "name": "stdout",
          "text": [
            "Epoch 10/10:\n",
            "  Train Loss: 1.3202, Train Acc: 49.27%\n",
            "  Val Loss: 1.6249, Val Acc: 35.59%\n",
            "  LR: 0.001000, Time: 18.17s\n",
            "  Overfitting Score: 0.4415\n",
            "--------------------------------------------------\n",
            "Loaded best model with validation accuracy: 40.54%\n"
          ]
        },
        {
          "output_type": "display_data",
          "data": {
            "text/plain": [
              "<IPython.core.display.HTML object>"
            ],
            "text/html": []
          },
          "metadata": {}
        },
        {
          "output_type": "display_data",
          "data": {
            "text/plain": [
              "<IPython.core.display.HTML object>"
            ],
            "text/html": [
              "<br>    <style><br>        .wandb-row {<br>            display: flex;<br>            flex-direction: row;<br>            flex-wrap: wrap;<br>            justify-content: flex-start;<br>            width: 100%;<br>        }<br>        .wandb-col {<br>            display: flex;<br>            flex-direction: column;<br>            flex-basis: 100%;<br>            flex: 1;<br>            padding: 10px;<br>        }<br>    </style><br><div class=\"wandb-row\"><div class=\"wandb-col\"><h3>Run history:</h3><br/><table class=\"wandb\"><tr><td>accuracy_gap</td><td>▁▂▄▄▄▅▅█▆█</td></tr><tr><td>best_val_accuracy</td><td>▁▄▄▄▄▄▆▆██</td></tr><tr><td>epoch</td><td>▁▂▃▃▄▅▆▆▇█</td></tr><tr><td>epoch_time</td><td>▁▁▇▁▂█▁▂█▂</td></tr><tr><td>learning_rate</td><td>▁▁▁▁▁▁▁▁▁▁</td></tr><tr><td>loss_gap</td><td>▁▃▄▅▅▆▆█▆█</td></tr><tr><td>overfitting_score</td><td>▁▃▄▄▅▆▆█▆█</td></tr><tr><td>train_accuracy</td><td>▁▃▄▅▅▆▇▇██</td></tr><tr><td>train_loss</td><td>█▆▅▄▃▃▂▂▁▁</td></tr><tr><td>val_accuracy</td><td>▃▅▅▅▆▅▆▁█▄</td></tr><tr><td>val_loss</td><td>▆▅▅▅▄▄▃█▁▅</td></tr></table><br/></div><div class=\"wandb-col\"><h3>Run summary:</h3><br/><table class=\"wandb\"><tr><td>accuracy_gap</td><td>13.67277</td></tr><tr><td>best_val_accuracy</td><td>40.53866</td></tr><tr><td>epoch</td><td>10</td></tr><tr><td>epoch_time</td><td>18.16682</td></tr><tr><td>learning_rate</td><td>0.001</td></tr><tr><td>loss_gap</td><td>0.30473</td></tr><tr><td>overfitting_score</td><td>0.44145</td></tr><tr><td>train_accuracy</td><td>49.26599</td></tr><tr><td>train_loss</td><td>1.32019</td></tr><tr><td>val_accuracy</td><td>35.59322</td></tr><tr><td>val_loss</td><td>1.62492</td></tr></table><br/></div></div>"
            ]
          },
          "metadata": {}
        },
        {
          "output_type": "display_data",
          "data": {
            "text/plain": [
              "<IPython.core.display.HTML object>"
            ],
            "text/html": [
              " View run <strong style=\"color:#cdcd00\">BatchNorm_no_bn</strong> at: <a href='https://wandb.ai/nipkha21-free-university-of-tbilisi-/facial-expression-recognition/runs/nrs18smc' target=\"_blank\">https://wandb.ai/nipkha21-free-university-of-tbilisi-/facial-expression-recognition/runs/nrs18smc</a><br> View project at: <a href='https://wandb.ai/nipkha21-free-university-of-tbilisi-/facial-expression-recognition' target=\"_blank\">https://wandb.ai/nipkha21-free-university-of-tbilisi-/facial-expression-recognition</a><br>Synced 5 W&B file(s), 1 media file(s), 2 artifact file(s) and 0 other file(s)"
            ]
          },
          "metadata": {}
        },
        {
          "output_type": "display_data",
          "data": {
            "text/plain": [
              "<IPython.core.display.HTML object>"
            ],
            "text/html": [
              "Find logs at: <code>./wandb/run-20250607_193430-nrs18smc/logs</code>"
            ]
          },
          "metadata": {}
        },
        {
          "output_type": "stream",
          "name": "stdout",
          "text": [
            "\n",
            "Testing batch normalization: with_bn\n"
          ]
        },
        {
          "output_type": "display_data",
          "data": {
            "text/plain": [
              "<IPython.core.display.HTML object>"
            ],
            "text/html": [
              "Tracking run with wandb version 0.19.11"
            ]
          },
          "metadata": {}
        },
        {
          "output_type": "display_data",
          "data": {
            "text/plain": [
              "<IPython.core.display.HTML object>"
            ],
            "text/html": [
              "Run data is saved locally in <code>/content/wandb/run-20250607_193739-k910vlh1</code>"
            ]
          },
          "metadata": {}
        },
        {
          "output_type": "display_data",
          "data": {
            "text/plain": [
              "<IPython.core.display.HTML object>"
            ],
            "text/html": [
              "Syncing run <strong><a href='https://wandb.ai/nipkha21-free-university-of-tbilisi-/facial-expression-recognition/runs/k910vlh1' target=\"_blank\">BatchNorm_with_bn</a></strong> to <a href='https://wandb.ai/nipkha21-free-university-of-tbilisi-/facial-expression-recognition' target=\"_blank\">Weights & Biases</a> (<a href='https://wandb.me/developer-guide' target=\"_blank\">docs</a>)<br>"
            ]
          },
          "metadata": {}
        },
        {
          "output_type": "display_data",
          "data": {
            "text/plain": [
              "<IPython.core.display.HTML object>"
            ],
            "text/html": [
              " View project at <a href='https://wandb.ai/nipkha21-free-university-of-tbilisi-/facial-expression-recognition' target=\"_blank\">https://wandb.ai/nipkha21-free-university-of-tbilisi-/facial-expression-recognition</a>"
            ]
          },
          "metadata": {}
        },
        {
          "output_type": "display_data",
          "data": {
            "text/plain": [
              "<IPython.core.display.HTML object>"
            ],
            "text/html": [
              " View run at <a href='https://wandb.ai/nipkha21-free-university-of-tbilisi-/facial-expression-recognition/runs/k910vlh1' target=\"_blank\">https://wandb.ai/nipkha21-free-university-of-tbilisi-/facial-expression-recognition/runs/k910vlh1</a>"
            ]
          },
          "metadata": {}
        },
        {
          "output_type": "stream",
          "name": "stdout",
          "text": [
            "Starting training for 10 epochs...\n"
          ]
        },
        {
          "output_type": "stream",
          "name": "stderr",
          "text": [
            "Training: 100%|██████████| 314/314 [00:15<00:00, 20.18it/s, Loss=1.6280, Acc=30.53%]\n",
            "Validation: 100%|██████████| 68/68 [00:04<00:00, 16.96it/s]\n"
          ]
        },
        {
          "output_type": "stream",
          "name": "stdout",
          "text": [
            "Epoch 1/10:\n",
            "  Train Loss: 1.7845, Train Acc: 30.53%\n",
            "  Val Loss: 1.6546, Val Acc: 33.27%\n",
            "  LR: 0.001000, Time: 19.58s\n",
            "  Overfitting Score: -0.1573\n",
            "--------------------------------------------------\n"
          ]
        },
        {
          "output_type": "stream",
          "name": "stderr",
          "text": [
            "Training: 100%|██████████| 314/314 [00:15<00:00, 19.90it/s, Loss=1.6023, Acc=35.82%]\n",
            "Validation: 100%|██████████| 68/68 [00:02<00:00, 25.59it/s]\n"
          ]
        },
        {
          "output_type": "stream",
          "name": "stdout",
          "text": [
            "Epoch 2/10:\n",
            "  Train Loss: 1.6313, Train Acc: 35.82%\n",
            "  Val Loss: 1.6659, Val Acc: 35.15%\n",
            "  LR: 0.001000, Time: 18.45s\n",
            "  Overfitting Score: 0.0413\n",
            "--------------------------------------------------\n"
          ]
        },
        {
          "output_type": "stream",
          "name": "stderr",
          "text": [
            "Training: 100%|██████████| 314/314 [00:15<00:00, 20.03it/s, Loss=1.5301, Acc=39.17%]\n",
            "Validation: 100%|██████████| 68/68 [00:02<00:00, 25.82it/s]\n"
          ]
        },
        {
          "output_type": "stream",
          "name": "stdout",
          "text": [
            "Epoch 3/10:\n",
            "  Train Loss: 1.5676, Train Acc: 39.17%\n",
            "  Val Loss: 1.6121, Val Acc: 37.75%\n",
            "  LR: 0.001000, Time: 18.32s\n",
            "  Overfitting Score: 0.0587\n",
            "--------------------------------------------------\n"
          ]
        },
        {
          "output_type": "stream",
          "name": "stderr",
          "text": [
            "Training: 100%|██████████| 314/314 [00:15<00:00, 20.02it/s, Loss=1.5566, Acc=41.16%]\n",
            "Validation: 100%|██████████| 68/68 [00:04<00:00, 15.36it/s]\n"
          ]
        },
        {
          "output_type": "stream",
          "name": "stdout",
          "text": [
            "Epoch 4/10:\n",
            "  Train Loss: 1.5192, Train Acc: 41.16%\n",
            "  Val Loss: 1.5940, Val Acc: 37.20%\n",
            "  LR: 0.001000, Time: 20.12s\n",
            "  Overfitting Score: 0.1144\n",
            "--------------------------------------------------\n"
          ]
        },
        {
          "output_type": "stream",
          "name": "stderr",
          "text": [
            "Training: 100%|██████████| 314/314 [00:15<00:00, 20.02it/s, Loss=1.4639, Acc=42.55%]\n",
            "Validation: 100%|██████████| 68/68 [00:02<00:00, 25.72it/s]\n"
          ]
        },
        {
          "output_type": "stream",
          "name": "stdout",
          "text": [
            "Epoch 5/10:\n",
            "  Train Loss: 1.4810, Train Acc: 42.55%\n",
            "  Val Loss: 1.5883, Val Acc: 37.96%\n",
            "  LR: 0.001000, Time: 18.33s\n",
            "  Overfitting Score: 0.1532\n",
            "--------------------------------------------------\n"
          ]
        },
        {
          "output_type": "stream",
          "name": "stderr",
          "text": [
            "Training: 100%|██████████| 314/314 [00:15<00:00, 20.15it/s, Loss=1.4577, Acc=44.21%]\n",
            "Validation: 100%|██████████| 68/68 [00:02<00:00, 26.24it/s]\n"
          ]
        },
        {
          "output_type": "stream",
          "name": "stdout",
          "text": [
            "Epoch 6/10:\n",
            "  Train Loss: 1.4444, Train Acc: 44.21%\n",
            "  Val Loss: 1.5616, Val Acc: 39.80%\n",
            "  LR: 0.001000, Time: 18.18s\n",
            "  Overfitting Score: 0.1614\n",
            "--------------------------------------------------\n"
          ]
        },
        {
          "output_type": "stream",
          "name": "stderr",
          "text": [
            "Training: 100%|██████████| 314/314 [00:15<00:00, 19.99it/s, Loss=1.3285, Acc=45.11%]\n",
            "Validation: 100%|██████████| 68/68 [00:04<00:00, 16.33it/s]\n"
          ]
        },
        {
          "output_type": "stream",
          "name": "stdout",
          "text": [
            "Epoch 7/10:\n",
            "  Train Loss: 1.4130, Train Acc: 45.11%\n",
            "  Val Loss: 1.6377, Val Acc: 34.85%\n",
            "  LR: 0.001000, Time: 19.88s\n",
            "  Overfitting Score: 0.3272\n",
            "--------------------------------------------------\n"
          ]
        },
        {
          "output_type": "stream",
          "name": "stderr",
          "text": [
            "Training: 100%|██████████| 314/314 [00:15<00:00, 20.11it/s, Loss=1.3783, Acc=46.90%]\n",
            "Validation: 100%|██████████| 68/68 [00:02<00:00, 25.51it/s]\n"
          ]
        },
        {
          "output_type": "stream",
          "name": "stdout",
          "text": [
            "Epoch 8/10:\n",
            "  Train Loss: 1.3827, Train Acc: 46.90%\n",
            "  Val Loss: 1.5652, Val Acc: 40.10%\n",
            "  LR: 0.001000, Time: 18.29s\n",
            "  Overfitting Score: 0.2506\n",
            "--------------------------------------------------\n"
          ]
        },
        {
          "output_type": "stream",
          "name": "stderr",
          "text": [
            "Training: 100%|██████████| 314/314 [00:15<00:00, 20.18it/s, Loss=1.3538, Acc=48.19%]\n",
            "Validation: 100%|██████████| 68/68 [00:02<00:00, 25.82it/s]\n"
          ]
        },
        {
          "output_type": "stream",
          "name": "stdout",
          "text": [
            "Epoch 9/10:\n",
            "  Train Loss: 1.3513, Train Acc: 48.19%\n",
            "  Val Loss: 1.5746, Val Acc: 38.98%\n",
            "  LR: 0.001000, Time: 18.21s\n",
            "  Overfitting Score: 0.3153\n",
            "--------------------------------------------------\n"
          ]
        },
        {
          "output_type": "stream",
          "name": "stderr",
          "text": [
            "Training: 100%|██████████| 314/314 [00:16<00:00, 19.28it/s, Loss=1.2793, Acc=49.65%]\n",
            "Validation: 100%|██████████| 68/68 [00:03<00:00, 18.33it/s]\n"
          ]
        },
        {
          "output_type": "stream",
          "name": "stdout",
          "text": [
            "Epoch 10/10:\n",
            "  Train Loss: 1.3182, Train Acc: 49.65%\n",
            "  Val Loss: 1.6649, Val Acc: 34.53%\n",
            "  LR: 0.001000, Time: 20.00s\n",
            "  Overfitting Score: 0.4980\n",
            "--------------------------------------------------\n",
            "Loaded best model with validation accuracy: 40.10%\n"
          ]
        },
        {
          "output_type": "display_data",
          "data": {
            "text/plain": [
              "<IPython.core.display.HTML object>"
            ],
            "text/html": []
          },
          "metadata": {}
        },
        {
          "output_type": "display_data",
          "data": {
            "text/plain": [
              "<IPython.core.display.HTML object>"
            ],
            "text/html": [
              "<br>    <style><br>        .wandb-row {<br>            display: flex;<br>            flex-direction: row;<br>            flex-wrap: wrap;<br>            justify-content: flex-start;<br>            width: 100%;<br>        }<br>        .wandb-col {<br>            display: flex;<br>            flex-direction: column;<br>            flex-basis: 100%;<br>            flex: 1;<br>            padding: 10px;<br>        }<br>    </style><br><div class=\"wandb-row\"><div class=\"wandb-col\"><h3>Run history:</h3><br/><table class=\"wandb\"><tr><td>accuracy_gap</td><td>▁▂▃▄▄▄▆▅▆█</td></tr><tr><td>best_val_accuracy</td><td>▁▃▆▆▆█████</td></tr><tr><td>epoch</td><td>▁▂▃▃▄▅▆▆▇█</td></tr><tr><td>epoch_time</td><td>▆▂▁█▂▁▇▁▁█</td></tr><tr><td>learning_rate</td><td>▁▁▁▁▁▁▁▁▁▁</td></tr><tr><td>loss_gap</td><td>▁▃▄▄▄▅▆▆▆█</td></tr><tr><td>overfitting_score</td><td>▁▃▃▄▄▄▆▅▆█</td></tr><tr><td>train_accuracy</td><td>▁▃▄▅▅▆▆▇▇█</td></tr><tr><td>train_loss</td><td>█▆▅▄▃▃▂▂▁▁</td></tr><tr><td>val_accuracy</td><td>▁▃▆▅▆█▃█▇▂</td></tr><tr><td>val_loss</td><td>▇█▄▃▃▁▆▁▂█</td></tr></table><br/></div><div class=\"wandb-col\"><h3>Run summary:</h3><br/><table class=\"wandb\"><tr><td>accuracy_gap</td><td>15.12895</td></tr><tr><td>best_val_accuracy</td><td>40.09752</td></tr><tr><td>epoch</td><td>10</td></tr><tr><td>epoch_time</td><td>20.00384</td></tr><tr><td>learning_rate</td><td>0.001</td></tr><tr><td>loss_gap</td><td>0.34674</td></tr><tr><td>overfitting_score</td><td>0.49803</td></tr><tr><td>train_accuracy</td><td>49.65414</td></tr><tr><td>train_loss</td><td>1.31818</td></tr><tr><td>val_accuracy</td><td>34.52519</td></tr><tr><td>val_loss</td><td>1.66493</td></tr></table><br/></div></div>"
            ]
          },
          "metadata": {}
        },
        {
          "output_type": "display_data",
          "data": {
            "text/plain": [
              "<IPython.core.display.HTML object>"
            ],
            "text/html": [
              " View run <strong style=\"color:#cdcd00\">BatchNorm_with_bn</strong> at: <a href='https://wandb.ai/nipkha21-free-university-of-tbilisi-/facial-expression-recognition/runs/k910vlh1' target=\"_blank\">https://wandb.ai/nipkha21-free-university-of-tbilisi-/facial-expression-recognition/runs/k910vlh1</a><br> View project at: <a href='https://wandb.ai/nipkha21-free-university-of-tbilisi-/facial-expression-recognition' target=\"_blank\">https://wandb.ai/nipkha21-free-university-of-tbilisi-/facial-expression-recognition</a><br>Synced 5 W&B file(s), 1 media file(s), 2 artifact file(s) and 0 other file(s)"
            ]
          },
          "metadata": {}
        },
        {
          "output_type": "display_data",
          "data": {
            "text/plain": [
              "<IPython.core.display.HTML object>"
            ],
            "text/html": [
              "Find logs at: <code>./wandb/run-20250607_193739-k910vlh1/logs</code>"
            ]
          },
          "metadata": {}
        },
        {
          "output_type": "stream",
          "name": "stdout",
          "text": [
            "\n",
            "=== BATCH NORMALIZATION RESULTS ===\n",
            "no_bn: 40.54% (speed: 18.60s/epoch, overfitting: 0.3178)\n",
            "with_bn: 40.10% (speed: 18.94s/epoch, overfitting: 0.3105)\n"
          ]
        }
      ]
    },
    {
      "cell_type": "code",
      "source": [
        "print(\"=== TRAINING BEST ADVANCED MLP ===\")\n",
        "\n",
        "best_bn = max(bn_results.keys(), key=lambda x: bn_results[x]['best_val_acc'])\n",
        "\n",
        "print(f\"Best configuration:\")\n",
        "print(f\"  Activation: {best_activation}\")\n",
        "print(f\"  Optimizer: {best_optimizer}\")\n",
        "print(f\"  Batch Norm: {best_bn}\")\n",
        "\n",
        "train_dataset = MLPFacialExpressionDataset(\n",
        "    train_df, normalization='standard', augment=True\n",
        ")\n",
        "val_dataset = MLPFacialExpressionDataset(\n",
        "    val_df, normalization='standard', augment=False\n",
        ")\n",
        "\n",
        "train_loader = DataLoader(train_dataset, batch_size=64, shuffle=True)\n",
        "val_loader = DataLoader(val_dataset, batch_size=64, shuffle=False)\n",
        "\n",
        "# best_bn was without bn so not including bn\n",
        "\n",
        "best_model = AdvancedMLP(\n",
        "    input_size=2304,\n",
        "    hidden_sizes=[1024, 512, 256],\n",
        "    num_classes=7,\n",
        "    dropout_rate=0.3,\n",
        ")\n",
        "\n",
        "criterion = nn.CrossEntropyLoss()\n",
        "optimizer = optimizers_config[best_optimizer]['class'](\n",
        "    best_model.parameters(),\n",
        "    **optimizers_config[best_optimizer]['kwargs']\n",
        ")\n",
        "\n",
        "final_trainer = AdvancedTrainer(\n",
        "    model=best_model,\n",
        "    train_loader=train_loader,\n",
        "    val_loader=val_loader,\n",
        "    criterion=criterion,\n",
        "    optimizer=optimizer,\n",
        "    device=device,\n",
        "    experiment_name=\"Advanced_MLP_Training\",\n",
        "    run_name=\"Advanced_MLP_Final\"\n",
        ")\n",
        "\n",
        "final_history = final_trainer.train(epochs=10, early_stopping_patience=10)\n",
        "\n",
        "wandb.finish()\n",
        "\n",
        "print(f\"✅ Final model training completed!\")\n",
        "print(f\"📊 Best validation accuracy: {final_trainer.best_val_acc:.4f}\")"
      ],
      "metadata": {
        "colab": {
          "base_uri": "https://localhost:8080/",
          "height": 1000
        },
        "id": "_gEE2MEy7BkF",
        "outputId": "23afd7be-0135-45d3-9d3f-9f17bc88daaf"
      },
      "execution_count": 56,
      "outputs": [
        {
          "output_type": "stream",
          "name": "stdout",
          "text": [
            "=== TRAINING BEST ADVANCED MLP ===\n",
            "Best configuration:\n",
            "  Activation: gelu\n",
            "  Optimizer: rmsprop\n",
            "  Batch Norm: no_bn\n"
          ]
        },
        {
          "output_type": "display_data",
          "data": {
            "text/plain": [
              "<IPython.core.display.HTML object>"
            ],
            "text/html": [
              "Tracking run with wandb version 0.19.11"
            ]
          },
          "metadata": {}
        },
        {
          "output_type": "display_data",
          "data": {
            "text/plain": [
              "<IPython.core.display.HTML object>"
            ],
            "text/html": [
              "Run data is saved locally in <code>/content/wandb/run-20250607_202910-a0au3cqf</code>"
            ]
          },
          "metadata": {}
        },
        {
          "output_type": "display_data",
          "data": {
            "text/plain": [
              "<IPython.core.display.HTML object>"
            ],
            "text/html": [
              "Syncing run <strong><a href='https://wandb.ai/nipkha21-free-university-of-tbilisi-/facial-expression-recognition/runs/a0au3cqf' target=\"_blank\">Advanced_MLP_Final</a></strong> to <a href='https://wandb.ai/nipkha21-free-university-of-tbilisi-/facial-expression-recognition' target=\"_blank\">Weights & Biases</a> (<a href='https://wandb.me/developer-guide' target=\"_blank\">docs</a>)<br>"
            ]
          },
          "metadata": {}
        },
        {
          "output_type": "display_data",
          "data": {
            "text/plain": [
              "<IPython.core.display.HTML object>"
            ],
            "text/html": [
              " View project at <a href='https://wandb.ai/nipkha21-free-university-of-tbilisi-/facial-expression-recognition' target=\"_blank\">https://wandb.ai/nipkha21-free-university-of-tbilisi-/facial-expression-recognition</a>"
            ]
          },
          "metadata": {}
        },
        {
          "output_type": "display_data",
          "data": {
            "text/plain": [
              "<IPython.core.display.HTML object>"
            ],
            "text/html": [
              " View run at <a href='https://wandb.ai/nipkha21-free-university-of-tbilisi-/facial-expression-recognition/runs/a0au3cqf' target=\"_blank\">https://wandb.ai/nipkha21-free-university-of-tbilisi-/facial-expression-recognition/runs/a0au3cqf</a>"
            ]
          },
          "metadata": {}
        },
        {
          "output_type": "stream",
          "name": "stdout",
          "text": [
            "Starting training for 10 epochs...\n"
          ]
        },
        {
          "output_type": "stream",
          "name": "stderr",
          "text": [
            "Training: 100%|██████████| 314/314 [00:16<00:00, 18.59it/s, Loss=1.7014, Acc=30.24%]\n",
            "Validation: 100%|██████████| 68/68 [00:03<00:00, 19.05it/s]\n"
          ]
        },
        {
          "output_type": "stream",
          "name": "stdout",
          "text": [
            "Epoch 1/10:\n",
            "  Train Loss: 1.7883, Train Acc: 30.24%\n",
            "  Val Loss: 1.6628, Val Acc: 33.92%\n",
            "  LR: 0.001000, Time: 20.47s\n",
            "  Overfitting Score: -0.1622\n",
            "--------------------------------------------------\n"
          ]
        },
        {
          "output_type": "stream",
          "name": "stderr",
          "text": [
            "Training: 100%|██████████| 314/314 [00:17<00:00, 17.65it/s, Loss=1.4966, Acc=35.43%]\n",
            "Validation: 100%|██████████| 68/68 [00:02<00:00, 24.84it/s]\n"
          ]
        },
        {
          "output_type": "stream",
          "name": "stdout",
          "text": [
            "Epoch 2/10:\n",
            "  Train Loss: 1.6447, Train Acc: 35.43%\n",
            "  Val Loss: 1.6056, Val Acc: 36.64%\n",
            "  LR: 0.001000, Time: 20.54s\n",
            "  Overfitting Score: -0.0512\n",
            "--------------------------------------------------\n"
          ]
        },
        {
          "output_type": "stream",
          "name": "stderr",
          "text": [
            "Training: 100%|██████████| 314/314 [00:17<00:00, 18.36it/s, Loss=1.5089, Acc=37.97%]\n",
            "Validation: 100%|██████████| 68/68 [00:03<00:00, 21.61it/s]\n"
          ]
        },
        {
          "output_type": "stream",
          "name": "stdout",
          "text": [
            "Epoch 3/10:\n",
            "  Train Loss: 1.5848, Train Acc: 37.97%\n",
            "  Val Loss: 1.7009, Val Acc: 31.34%\n",
            "  LR: 0.001000, Time: 20.26s\n",
            "  Overfitting Score: 0.1825\n",
            "--------------------------------------------------\n"
          ]
        },
        {
          "output_type": "stream",
          "name": "stderr",
          "text": [
            "Training: 100%|██████████| 314/314 [00:18<00:00, 17.00it/s, Loss=1.5939, Acc=39.92%]\n",
            "Validation: 100%|██████████| 68/68 [00:02<00:00, 24.58it/s]\n"
          ]
        },
        {
          "output_type": "stream",
          "name": "stdout",
          "text": [
            "Epoch 4/10:\n",
            "  Train Loss: 1.5511, Train Acc: 39.92%\n",
            "  Val Loss: 1.6437, Val Acc: 36.52%\n",
            "  LR: 0.001000, Time: 21.24s\n",
            "  Overfitting Score: 0.1265\n",
            "--------------------------------------------------\n"
          ]
        },
        {
          "output_type": "stream",
          "name": "stderr",
          "text": [
            "Training: 100%|██████████| 314/314 [00:17<00:00, 18.45it/s, Loss=1.5873, Acc=40.95%]\n",
            "Validation: 100%|██████████| 68/68 [00:02<00:00, 24.76it/s]\n"
          ]
        },
        {
          "output_type": "stream",
          "name": "stdout",
          "text": [
            "Epoch 5/10:\n",
            "  Train Loss: 1.5216, Train Acc: 40.95%\n",
            "  Val Loss: 1.5638, Val Acc: 38.91%\n",
            "  LR: 0.001000, Time: 19.77s\n",
            "  Overfitting Score: 0.0626\n",
            "--------------------------------------------------\n"
          ]
        },
        {
          "output_type": "stream",
          "name": "stderr",
          "text": [
            "Training: 100%|██████████| 314/314 [00:18<00:00, 16.83it/s, Loss=1.5230, Acc=41.95%]\n",
            "Validation: 100%|██████████| 68/68 [00:02<00:00, 25.50it/s]\n"
          ]
        },
        {
          "output_type": "stream",
          "name": "stdout",
          "text": [
            "Epoch 6/10:\n",
            "  Train Loss: 1.4984, Train Acc: 41.95%\n",
            "  Val Loss: 1.5685, Val Acc: 39.19%\n",
            "  LR: 0.001000, Time: 21.33s\n",
            "  Overfitting Score: 0.0977\n",
            "--------------------------------------------------\n"
          ]
        },
        {
          "output_type": "stream",
          "name": "stderr",
          "text": [
            "Training: 100%|██████████| 314/314 [00:17<00:00, 18.24it/s, Loss=1.4157, Acc=42.97%]\n",
            "Validation: 100%|██████████| 68/68 [00:02<00:00, 25.31it/s]\n"
          ]
        },
        {
          "output_type": "stream",
          "name": "stdout",
          "text": [
            "Epoch 7/10:\n",
            "  Train Loss: 1.4704, Train Acc: 42.97%\n",
            "  Val Loss: 1.6022, Val Acc: 38.73%\n",
            "  LR: 0.001000, Time: 19.91s\n",
            "  Overfitting Score: 0.1741\n",
            "--------------------------------------------------\n"
          ]
        },
        {
          "output_type": "stream",
          "name": "stderr",
          "text": [
            "Training: 100%|██████████| 314/314 [00:18<00:00, 17.24it/s, Loss=1.4744, Acc=44.08%]\n",
            "Validation: 100%|██████████| 68/68 [00:03<00:00, 20.35it/s]\n"
          ]
        },
        {
          "output_type": "stream",
          "name": "stdout",
          "text": [
            "Epoch 8/10:\n",
            "  Train Loss: 1.4533, Train Acc: 44.08%\n",
            "  Val Loss: 1.5490, Val Acc: 39.91%\n",
            "  LR: 0.001000, Time: 21.56s\n",
            "  Overfitting Score: 0.1374\n",
            "--------------------------------------------------\n"
          ]
        },
        {
          "output_type": "stream",
          "name": "stderr",
          "text": [
            "Training: 100%|██████████| 314/314 [00:17<00:00, 18.41it/s, Loss=1.3626, Acc=44.84%]\n",
            "Validation: 100%|██████████| 68/68 [00:02<00:00, 24.27it/s]\n"
          ]
        },
        {
          "output_type": "stream",
          "name": "stdout",
          "text": [
            "Epoch 9/10:\n",
            "  Train Loss: 1.4306, Train Acc: 44.84%\n",
            "  Val Loss: 1.6688, Val Acc: 33.39%\n",
            "  LR: 0.001000, Time: 19.86s\n",
            "  Overfitting Score: 0.3527\n",
            "--------------------------------------------------\n"
          ]
        },
        {
          "output_type": "stream",
          "name": "stderr",
          "text": [
            "Training: 100%|██████████| 314/314 [00:17<00:00, 17.79it/s, Loss=1.3944, Acc=45.80%]\n",
            "Validation: 100%|██████████| 68/68 [00:03<00:00, 17.07it/s]\n"
          ]
        },
        {
          "output_type": "stream",
          "name": "stdout",
          "text": [
            "Epoch 10/10:\n",
            "  Train Loss: 1.4103, Train Acc: 45.80%\n",
            "  Val Loss: 1.5080, Val Acc: 40.68%\n",
            "  LR: 0.001000, Time: 21.65s\n",
            "  Overfitting Score: 0.1489\n",
            "--------------------------------------------------\n",
            "Loaded best model with validation accuracy: 40.68%\n"
          ]
        },
        {
          "output_type": "display_data",
          "data": {
            "text/plain": [
              "<IPython.core.display.HTML object>"
            ],
            "text/html": []
          },
          "metadata": {}
        },
        {
          "output_type": "display_data",
          "data": {
            "text/plain": [
              "<IPython.core.display.HTML object>"
            ],
            "text/html": [
              "<br>    <style><br>        .wandb-row {<br>            display: flex;<br>            flex-direction: row;<br>            flex-wrap: wrap;<br>            justify-content: flex-start;<br>            width: 100%;<br>        }<br>        .wandb-col {<br>            display: flex;<br>            flex-direction: column;<br>            flex-basis: 100%;<br>            flex: 1;<br>            padding: 10px;<br>        }<br>    </style><br><div class=\"wandb-row\"><div class=\"wandb-col\"><h3>Run history:</h3><br/><table class=\"wandb\"><tr><td>accuracy_gap</td><td>▁▂▆▄▄▄▅▅█▅</td></tr><tr><td>best_val_accuracy</td><td>▁▄▄▄▆▆▆▇▇█</td></tr><tr><td>epoch</td><td>▁▂▃▃▄▅▆▆▇█</td></tr><tr><td>epoch_time</td><td>▄▄▃▆▁▇▂█▁█</td></tr><tr><td>learning_rate</td><td>▁▁▁▁▁▁▁▁▁▁</td></tr><tr><td>loss_gap</td><td>▁▃▆▅▄▅▆▅█▅</td></tr><tr><td>overfitting_score</td><td>▁▃▆▅▄▅▆▅█▅</td></tr><tr><td>train_accuracy</td><td>▁▃▄▅▆▆▇▇██</td></tr><tr><td>train_loss</td><td>█▅▄▄▃▃▂▂▁▁</td></tr><tr><td>val_accuracy</td><td>▃▅▁▅▇▇▇▇▃█</td></tr><tr><td>val_loss</td><td>▇▅█▆▃▃▄▂▇▁</td></tr></table><br/></div><div class=\"wandb-col\"><h3>Run summary:</h3><br/><table class=\"wandb\"><tr><td>accuracy_gap</td><td>5.12447</td></tr><tr><td>best_val_accuracy</td><td>40.67797</td></tr><tr><td>epoch</td><td>10</td></tr><tr><td>epoch_time</td><td>21.64542</td></tr><tr><td>learning_rate</td><td>0.001</td></tr><tr><td>loss_gap</td><td>0.09762</td></tr><tr><td>overfitting_score</td><td>0.14887</td></tr><tr><td>train_accuracy</td><td>45.80244</td></tr><tr><td>train_loss</td><td>1.41034</td></tr><tr><td>val_accuracy</td><td>40.67797</td></tr><tr><td>val_loss</td><td>1.50796</td></tr></table><br/></div></div>"
            ]
          },
          "metadata": {}
        },
        {
          "output_type": "display_data",
          "data": {
            "text/plain": [
              "<IPython.core.display.HTML object>"
            ],
            "text/html": [
              " View run <strong style=\"color:#cdcd00\">Advanced_MLP_Final</strong> at: <a href='https://wandb.ai/nipkha21-free-university-of-tbilisi-/facial-expression-recognition/runs/a0au3cqf' target=\"_blank\">https://wandb.ai/nipkha21-free-university-of-tbilisi-/facial-expression-recognition/runs/a0au3cqf</a><br> View project at: <a href='https://wandb.ai/nipkha21-free-university-of-tbilisi-/facial-expression-recognition' target=\"_blank\">https://wandb.ai/nipkha21-free-university-of-tbilisi-/facial-expression-recognition</a><br>Synced 5 W&B file(s), 1 media file(s), 2 artifact file(s) and 0 other file(s)"
            ]
          },
          "metadata": {}
        },
        {
          "output_type": "display_data",
          "data": {
            "text/plain": [
              "<IPython.core.display.HTML object>"
            ],
            "text/html": [
              "Find logs at: <code>./wandb/run-20250607_202910-a0au3cqf/logs</code>"
            ]
          },
          "metadata": {}
        },
        {
          "output_type": "stream",
          "name": "stdout",
          "text": [
            "✅ Final model training completed!\n",
            "📊 Best validation accuracy: 40.6780\n"
          ]
        }
      ]
    },
    {
      "cell_type": "code",
      "source": [
        "print(\"=== MODEL ANALYSIS ===\")\n",
        "\n",
        "fig, axes = plt.subplots(2, 3, figsize=(20, 12))\n",
        "\n",
        "axes[0, 0].plot(final_history['train_loss'], label='Train Loss', linewidth=2)\n",
        "axes[0, 0].plot(final_history['val_loss'], label='Val Loss', linewidth=2)\n",
        "axes[0, 0].set_title('Training and Validation Loss')\n",
        "axes[0, 0].set_xlabel('Epoch')\n",
        "axes[0, 0].set_ylabel('Loss')\n",
        "axes[0, 0].legend()\n",
        "axes[0, 0].grid(True, alpha=0.3)\n",
        "\n",
        "axes[0, 1].plot(final_history['train_acc'], label='Train Acc', linewidth=2)\n",
        "axes[0, 1].plot(final_history['val_acc'], label='Val Acc', linewidth=2)\n",
        "axes[0, 1].set_title('Training and Validation Accuracy')\n",
        "axes[0, 1].set_xlabel('Epoch')\n",
        "axes[0, 1].set_ylabel('Accuracy (%)')\n",
        "axes[0, 1].legend()\n",
        "axes[0, 1].grid(True, alpha=0.3)\n",
        "\n",
        "axes[0, 2].plot(final_history['learning_rates'], linewidth=2, color='orange')\n",
        "axes[0, 2].set_title('Learning Rate Schedule')\n",
        "axes[0, 2].set_xlabel('Epoch')\n",
        "axes[0, 2].set_ylabel('Learning Rate')\n",
        "axes[0, 2].set_yscale('log')\n",
        "axes[0, 2].grid(True, alpha=0.3)\n",
        "\n",
        "loss_gap = np.array(final_history['val_loss']) - np.array(final_history['train_loss'])\n",
        "axes[1, 0].plot(loss_gap, linewidth=2, color='red')\n",
        "axes[1, 0].axhline(y=0, color='black', linestyle='--', alpha=0.5)\n",
        "axes[1, 0].set_title('Overfitting Indicator (Val Loss - Train Loss)')\n",
        "axes[1, 0].set_xlabel('Epoch')\n",
        "axes[1, 0].set_ylabel('Loss Difference')\n",
        "axes[1, 0].grid(True, alpha=0.3)\n",
        "\n",
        "acc_gap = np.array(final_history['train_acc']) - np.array(final_history['val_acc'])\n",
        "axes[1, 1].plot(acc_gap, linewidth=2, color='purple')\n",
        "axes[1, 1].axhline(y=0, color='black', linestyle='--', alpha=0.5)\n",
        "axes[1, 1].set_title('Generalization Gap (Train Acc - Val Acc)')\n",
        "axes[1, 1].set_xlabel('Epoch')\n",
        "axes[1, 1].set_ylabel('Accuracy Difference (%)')\n",
        "axes[1, 1].grid(True, alpha=0.3)\n",
        "\n",
        "axes[1, 2].plot(final_history['epoch_times'], linewidth=2, color='green')\n",
        "axes[1, 2].set_title('Training Time per Epoch')\n",
        "axes[1, 2].set_xlabel('Epoch')\n",
        "axes[1, 2].set_ylabel('Time (seconds)')\n",
        "axes[1, 2].grid(True, alpha=0.3)\n",
        "\n",
        "plt.tight_layout()\n",
        "plt.savefig('advanced_mlp_comprehensive_analysis.png', dpi=300, bbox_inches='tight')\n",
        "plt.show()\n",
        "\n",
        "final_loss_gap = loss_gap[-5:].mean()\n",
        "final_acc_gap = acc_gap[-5:].mean()\n",
        "\n",
        "print(\"\\n=== OVERFITTING/UNDERFITTING ANALYSIS ===\")\n",
        "print(f\"Final loss gap (val - train): {final_loss_gap:.4f}\")\n",
        "print(f\"Final accuracy gap (train - val): {final_acc_gap:.2f}%\")\n",
        "\n",
        "if final_loss_gap > 0.2 and final_acc_gap > 5:\n",
        "    print(\"🔴 OVERFITTING DETECTED\")\n",
        "    print(\"Recommendations:\")\n",
        "    print(\"  - Increase dropout rate\")\n",
        "    print(\"  - Add more regularization (L1/L2)\")\n",
        "    print(\"  - Reduce model complexity\")\n",
        "    print(\"  - Increase dataset size or augmentation\")\n",
        "elif final_history['val_acc'][-1] < 50:\n",
        "    print(\"🔴 UNDERFITTING DETECTED\")\n",
        "    print(\"Recommendations:\")\n",
        "    print(\"  - Increase model complexity\")\n",
        "    print(\"  - Reduce dropout rate\")\n",
        "    print(\"  - Train for more epochs\")\n",
        "    print(\"  - Increase learning rate\")\n",
        "else:\n",
        "    print(\"✅ GOOD FIT ACHIEVED\")\n",
        "    print(\"Model shows good generalization performance\")"
      ],
      "metadata": {
        "colab": {
          "base_uri": "https://localhost:8080/",
          "height": 912
        },
        "id": "kSO52Te07Bms",
        "outputId": "67e3bb49-43c1-4917-ec7c-66d8e84bad87"
      },
      "execution_count": 57,
      "outputs": [
        {
          "output_type": "stream",
          "name": "stdout",
          "text": [
            "=== MODEL ANALYSIS ===\n"
          ]
        },
        {
          "output_type": "display_data",
          "data": {
            "text/plain": [
              "<Figure size 2000x1200 with 6 Axes>"
            ],
            "image/png": "[encoded data removed]"
          },
          "metadata": {}
        },
        {
          "output_type": "stream",
          "name": "stdout",
          "text": [
            "\n",
            "=== OVERFITTING/UNDERFITTING ANALYSIS ===\n",
            "Final loss gap (val - train): 0.1267\n",
            "Final accuracy gap (train - val): 5.55%\n",
            "🔴 UNDERFITTING DETECTED\n",
            "Recommendations:\n",
            "  - Increase model complexity\n",
            "  - Reduce dropout rate\n",
            "  - Train for more epochs\n",
            "  - Increase learning rate\n"
          ]
        }
      ]
    },
    {
      "cell_type": "code",
      "source": [
        "class SavedAdvancedMLP(nn.Module):\n",
        "    def __init__(self, input_size=2304, hidden_sizes=[1024, 512, 256], num_classes=7,\n",
        "                 dropout_rate=0.3, use_batch_norm=True):\n",
        "        super(SavedAdvancedMLP, self).__init__()\n",
        "\n",
        "        self.flatten = nn.Flatten()\n",
        "\n",
        "        layers = []\n",
        "        prev_size = input_size\n",
        "\n",
        "        # Add all hidden layers WITH batch norm after each\n",
        "        for hidden_size in hidden_sizes:\n",
        "            layers.append(nn.Linear(prev_size, hidden_size))\n",
        "            if use_batch_norm:\n",
        "                layers.append(nn.BatchNorm1d(hidden_size))\n",
        "            layers.append(nn.ReLU())\n",
        "            layers.append(nn.Dropout(dropout_rate))\n",
        "            prev_size = hidden_size\n",
        "\n",
        "        # Final output layer (no batch norm after this)\n",
        "        layers.append(nn.Linear(prev_size, num_classes))\n",
        "\n",
        "        self.layers = nn.Sequential(*layers)\n",
        "\n",
        "    def forward(self, x):\n",
        "        x = self.flatten(x)\n",
        "        x = self.layers(x)\n",
        "        return x"
      ],
      "metadata": {
        "id": "tM02YNq-HZeA"
      },
      "execution_count": 61,
      "outputs": []
    },
    {
      "cell_type": "code",
      "source": [
        "print(\"=== SAVING ADVANCED MLP PIPELINE ===\")\n",
        "\n",
        "class AdvancedMLPPipeline:\n",
        "    def __init__(self, model_state_dict, model_config, normalization='standard'):\n",
        "        self.model_config = model_config\n",
        "        self.normalization = normalization\n",
        "        self.emotion_map = {0: 'Angry', 1: 'Disgust', 2: 'Fear', 3: 'Happy', 4: 'Sad', 5: 'Surprise', 6: 'Neutral'}\n",
        "\n",
        "        # Use AdvancedMLP since that's what we trained\n",
        "        self.model = SavedAdvancedMLP(**model_config['model_params'])\n",
        "        self.model.load_state_dict(model_state_dict)\n",
        "        self.model.eval()\n",
        "\n",
        "    def preprocess(self, pixels_string):\n",
        "        pixels = np.array([int(p) for p in pixels_string.split()], dtype=np.float32)\n",
        "\n",
        "        if self.normalization == 'standard':\n",
        "            pixels = pixels / 255.0\n",
        "        elif self.normalization == 'centered':\n",
        "            pixels = (pixels / 255.0) * 2 - 1\n",
        "\n",
        "        # Return as 2D tensor since AdvancedMLP has flatten layer\n",
        "        return torch.FloatTensor(pixels).reshape(1, 48, 48).unsqueeze(0)  # Shape: (1, 1, 48, 48)\n",
        "\n",
        "    def predict(self, pixels_string):\n",
        "        with torch.no_grad():\n",
        "            input_tensor = self.preprocess(pixels_string)\n",
        "            output = self.model(input_tensor)\n",
        "            probabilities = torch.softmax(output, dim=1)\n",
        "            prediction = torch.argmax(output, dim=1)\n",
        "\n",
        "            return {\n",
        "                'predicted_class': int(prediction.item()),\n",
        "                'predicted_emotion': self.emotion_map[int(prediction.item())],\n",
        "                'confidence': float(probabilities.max().item()),\n",
        "                'all_probabilities': {\n",
        "                    self.emotion_map[i]: float(probabilities[0, i].item())\n",
        "                    for i in range(7)\n",
        "                }\n",
        "            }\n",
        "\n",
        "    def predict_batch(self, pixels_strings):\n",
        "        batch_tensors = []\n",
        "        for pixels_string in pixels_strings:\n",
        "            # Each tensor should be (1, 48, 48) for the batch\n",
        "            pixels = np.array([int(p) for p in pixels_string.split()], dtype=np.float32)\n",
        "            if self.normalization == 'standard':\n",
        "                pixels = pixels / 255.0\n",
        "            elif self.normalization == 'centered':\n",
        "                pixels = (pixels / 255.0) * 2 - 1\n",
        "\n",
        "            tensor = torch.FloatTensor(pixels).reshape(1, 48, 48)\n",
        "            batch_tensors.append(tensor)\n",
        "\n",
        "        # Shape: (batch_size, 1, 48, 48)\n",
        "        batch_input = torch.stack(batch_tensors)\n",
        "\n",
        "        with torch.no_grad():\n",
        "            outputs = self.model(batch_input)\n",
        "            probabilities = torch.softmax(outputs, dim=1)\n",
        "            predictions = torch.argmax(outputs, dim=1)\n",
        "\n",
        "            results = []\n",
        "            for i in range(len(pixels_strings)):\n",
        "                results.append({\n",
        "                    'predicted_class': int(predictions[i].item()),\n",
        "                    'predicted_emotion': self.emotion_map[int(predictions[i].item())],\n",
        "                    'confidence': float(probabilities[i].max().item()),\n",
        "                    'all_probabilities': {\n",
        "                        self.emotion_map[j]: float(probabilities[i, j].item())\n",
        "                        for j in range(7)\n",
        "                    }\n",
        "                })\n",
        "\n",
        "            return results\n",
        "\n",
        "model_type = 'advanced'\n",
        "model_params = {\n",
        "    'input_size': 2304,\n",
        "    'hidden_sizes': [1024, 512, 256],\n",
        "    'num_classes': 7,\n",
        "    'dropout_rate': 0.3,\n",
        "    'use_batch_norm': False\n",
        "}\n",
        "\n",
        "model_config = {\n",
        "    'model_type': model_type,\n",
        "    'model_params': model_params,\n",
        "    'training_config': {\n",
        "        'best_activation': best_activation,\n",
        "        'best_optimizer': best_optimizer,\n",
        "        'best_batch_norm': best_bn,\n",
        "        'normalization': 'standard'\n",
        "    }\n",
        "}\n",
        "\n",
        "pipeline = AdvancedMLPPipeline(\n",
        "    best_model.state_dict(),  # Use best_model, not best_final_model\n",
        "    model_config,\n",
        "    normalization='standard'\n",
        ")\n",
        "\n",
        "os.makedirs('models/saved_pipelines', exist_ok=True)\n",
        "\n",
        "torch.save({\n",
        "    'model_state_dict': best_model.state_dict(),  # Use best_model\n",
        "    'model_config': model_config,\n",
        "    'training_history': final_history,  # Use final_history\n",
        "    'validation_accuracy': final_trainer.best_val_acc,  # Use final_trainer\n",
        "    'evaluation_metrics': {\n",
        "        'accuracy': accuracy,\n",
        "        'per_class_f1': f1.tolist(),\n",
        "        'mean_f1': float(np.mean(f1)),\n",
        "        'confusion_matrix': cm.tolist()\n",
        "    },\n",
        "    'experiment_results': {\n",
        "        'activation_results': activation_results,\n",
        "        'optimizer_results': optimizer_results,\n",
        "        'scheduler_results': scheduler_results,\n",
        "        'batch_norm_results': bn_results\n",
        "    },\n",
        "    'data_split_info': {\n",
        "        'train_samples': len(train_df),\n",
        "        'val_samples': len(val_df),\n",
        "        'test_samples': len(test_df),\n",
        "        'split_method': 'predefined_stratified'\n",
        "    }\n",
        "}, 'models/saved_pipelines/advanced_mlp_pipeline.pth')\n",
        "\n",
        "print(\"✅ Advanced MLP pipeline saved successfully!\")\n",
        "\n",
        "test_sample = val_df.iloc[0]['pixels']\n",
        "test_prediction = pipeline.predict(test_sample)\n",
        "print(f\"\\nPipeline test:\")\n",
        "print(f\"Predicted emotion: {test_prediction['predicted_emotion']}\")\n",
        "print(f\"Confidence: {test_prediction['confidence']:.4f}\")\n",
        "\n",
        "# Also update the final summary to use correct variables\n",
        "print(f\"\\n📊 FINAL RESULTS SUMMARY:\")\n",
        "print(f\"🥇 Best Configuration:\")\n",
        "print(f\"   Activation: {best_activation}\")\n",
        "print(f\"   Optimizer: {best_optimizer}\")\n",
        "print(f\"   Scheduler: {best_scheduler}\")\n",
        "print(f\"   Batch Norm: {best_bn}\")\n",
        "print(f\"   Model Type: {model_type}\")\n",
        "print(f\"📈 Performance:\")\n",
        "print(f\"   Validation Accuracy: {final_trainer.best_val_acc:.2f}%\")  # Use final_trainer\n",
        "print(f\"   Mean F1 Score: {np.mean(f1):.4f}\")\n",
        "print(f\"💾 Model saved to: models/saved_pipelines/advanced_mlp_pipeline.pth\")"
      ],
      "metadata": {
        "colab": {
          "base_uri": "https://localhost:8080/",
          "height": 228
        },
        "id": "X-DoRVJZAF_e",
        "outputId": "8b85c98d-47b7-4092-bfb4-66a43494e6b7"
      },
      "execution_count": 2,
      "outputs": [
        {
          "output_type": "stream",
          "name": "stdout",
          "text": [
            "=== SAVING ADVANCED MLP PIPELINE ===\n"
          ]
        },
        {
          "output_type": "error",
          "ename": "NameError",
          "evalue": "name 'best_activation' is not defined",
          "traceback": [
            "\u001b[0;31m---------------------------------------------------------------------------\u001b[0m",
            "\u001b[0;31mNameError\u001b[0m                                 Traceback (most recent call last)",
            "\u001b[0;32m<ipython-input-2-ff2c70112fab>\u001b[0m in \u001b[0;36m<cell line: 0>\u001b[0;34m()\u001b[0m\n\u001b[1;32m     88\u001b[0m     \u001b[0;34m'model_params'\u001b[0m\u001b[0;34m:\u001b[0m \u001b[0mmodel_params\u001b[0m\u001b[0;34m,\u001b[0m\u001b[0;34m\u001b[0m\u001b[0;34m\u001b[0m\u001b[0m\n\u001b[1;32m     89\u001b[0m     'training_config': {\n\u001b[0;32m---> 90\u001b[0;31m         \u001b[0;34m'best_activation'\u001b[0m\u001b[0;34m:\u001b[0m \u001b[0mbest_activation\u001b[0m\u001b[0;34m,\u001b[0m\u001b[0;34m\u001b[0m\u001b[0;34m\u001b[0m\u001b[0m\n\u001b[0m\u001b[1;32m     91\u001b[0m         \u001b[0;34m'best_optimizer'\u001b[0m\u001b[0;34m:\u001b[0m \u001b[0mbest_optimizer\u001b[0m\u001b[0;34m,\u001b[0m\u001b[0;34m\u001b[0m\u001b[0;34m\u001b[0m\u001b[0m\n\u001b[1;32m     92\u001b[0m         \u001b[0;34m'best_batch_norm'\u001b[0m\u001b[0;34m:\u001b[0m \u001b[0mbest_bn\u001b[0m\u001b[0;34m,\u001b[0m\u001b[0;34m\u001b[0m\u001b[0;34m\u001b[0m\u001b[0m\n",
            "\u001b[0;31mNameError\u001b[0m: name 'best_activation' is not defined"
          ]
        }
      ]
    }
  ]
}