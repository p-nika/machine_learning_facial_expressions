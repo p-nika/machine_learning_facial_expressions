{
  "nbformat": 4,
  "nbformat_minor": 0,
  "metadata": {
    "colab": {
      "provenance": [],
      "gpuType": "T4"
    },
    "kernelspec": {
      "name": "python3",
      "display_name": "Python 3"
    },
    "language_info": {
      "name": "python"
    },
    "accelerator": "GPU"
  },
  "cells": [
    {
      "cell_type": "code",
      "execution_count": 1,
      "metadata": {
        "id": "GpfdjqTZlDRQ",
        "colab": {
          "base_uri": "https://localhost:8080/"
        },
        "outputId": "61895e81-fd0d-4f70-922a-630c0326c53e"
      },
      "outputs": [
        {
          "output_type": "stream",
          "name": "stdout",
          "text": [
            "Requirement already satisfied: wandb in /usr/local/lib/python3.11/dist-packages (0.19.11)\n",
            "Requirement already satisfied: click!=8.0.0,>=7.1 in /usr/local/lib/python3.11/dist-packages (from wandb) (8.2.1)\n",
            "Requirement already satisfied: docker-pycreds>=0.4.0 in /usr/local/lib/python3.11/dist-packages (from wandb) (0.4.0)\n",
            "Requirement already satisfied: gitpython!=3.1.29,>=1.0.0 in /usr/local/lib/python3.11/dist-packages (from wandb) (3.1.44)\n",
            "Requirement already satisfied: platformdirs in /usr/local/lib/python3.11/dist-packages (from wandb) (4.3.8)\n",
            "Requirement already satisfied: protobuf!=4.21.0,!=5.28.0,<7,>=3.19.0 in /usr/local/lib/python3.11/dist-packages (from wandb) (5.29.5)\n",
            "Requirement already satisfied: psutil>=5.0.0 in /usr/local/lib/python3.11/dist-packages (from wandb) (5.9.5)\n",
            "Requirement already satisfied: pydantic<3 in /usr/local/lib/python3.11/dist-packages (from wandb) (2.11.5)\n",
            "Requirement already satisfied: pyyaml in /usr/local/lib/python3.11/dist-packages (from wandb) (6.0.2)\n",
            "Requirement already satisfied: requests<3,>=2.0.0 in /usr/local/lib/python3.11/dist-packages (from wandb) (2.32.3)\n",
            "Requirement already satisfied: sentry-sdk>=2.0.0 in /usr/local/lib/python3.11/dist-packages (from wandb) (2.29.1)\n",
            "Requirement already satisfied: setproctitle in /usr/local/lib/python3.11/dist-packages (from wandb) (1.3.6)\n",
            "Requirement already satisfied: setuptools in /usr/local/lib/python3.11/dist-packages (from wandb) (75.2.0)\n",
            "Requirement already satisfied: typing-extensions<5,>=4.4 in /usr/local/lib/python3.11/dist-packages (from wandb) (4.14.0)\n",
            "Requirement already satisfied: six>=1.4.0 in /usr/local/lib/python3.11/dist-packages (from docker-pycreds>=0.4.0->wandb) (1.17.0)\n",
            "Requirement already satisfied: gitdb<5,>=4.0.1 in /usr/local/lib/python3.11/dist-packages (from gitpython!=3.1.29,>=1.0.0->wandb) (4.0.12)\n",
            "Requirement already satisfied: annotated-types>=0.6.0 in /usr/local/lib/python3.11/dist-packages (from pydantic<3->wandb) (0.7.0)\n",
            "Requirement already satisfied: pydantic-core==2.33.2 in /usr/local/lib/python3.11/dist-packages (from pydantic<3->wandb) (2.33.2)\n",
            "Requirement already satisfied: typing-inspection>=0.4.0 in /usr/local/lib/python3.11/dist-packages (from pydantic<3->wandb) (0.4.1)\n",
            "Requirement already satisfied: charset-normalizer<4,>=2 in /usr/local/lib/python3.11/dist-packages (from requests<3,>=2.0.0->wandb) (3.4.2)\n",
            "Requirement already satisfied: idna<4,>=2.5 in /usr/local/lib/python3.11/dist-packages (from requests<3,>=2.0.0->wandb) (3.10)\n",
            "Requirement already satisfied: urllib3<3,>=1.21.1 in /usr/local/lib/python3.11/dist-packages (from requests<3,>=2.0.0->wandb) (2.4.0)\n",
            "Requirement already satisfied: certifi>=2017.4.17 in /usr/local/lib/python3.11/dist-packages (from requests<3,>=2.0.0->wandb) (2025.4.26)\n",
            "Requirement already satisfied: smmap<6,>=3.0.1 in /usr/local/lib/python3.11/dist-packages (from gitdb<5,>=4.0.1->gitpython!=3.1.29,>=1.0.0->wandb) (5.0.2)\n"
          ]
        }
      ],
      "source": [
        "!pip install wandb"
      ]
    },
    {
      "cell_type": "code",
      "source": [
        "import wandb\n",
        "import sys\n",
        "import os\n",
        "import numpy as np\n",
        "import pandas as pd\n",
        "import matplotlib.pyplot as plt\n",
        "import seaborn as sns\n",
        "import torch\n",
        "import torch.nn as nn\n",
        "import torch.optim as optim\n",
        "import torch.nn.functional as F\n",
        "from torch.utils.data import Dataset, DataLoader\n",
        "from torch.optim.lr_scheduler import StepLR, ExponentialLR, CosineAnnealingLR, ReduceLROnPlateau\n",
        "from sklearn.model_selection import train_test_split\n",
        "from sklearn.metrics import classification_report, confusion_matrix\n",
        "import wandb\n",
        "from tqdm import tqdm\n",
        "import time"
      ],
      "metadata": {
        "id": "MN4q_8mWLwF-"
      },
      "execution_count": 2,
      "outputs": []
    },
    {
      "cell_type": "code",
      "source": [
        "wandb.login()"
      ],
      "metadata": {
        "colab": {
          "base_uri": "https://localhost:8080/",
          "height": 198
        },
        "id": "X8ROGEdrLzpo",
        "outputId": "00d86e90-2e52-4b5e-9ca9-f3991d33fa02"
      },
      "execution_count": 3,
      "outputs": [
        {
          "output_type": "display_data",
          "data": {
            "text/plain": [
              "<IPython.core.display.Javascript object>"
            ],
            "application/javascript": [
              "\n",
              "        window._wandbApiKey = new Promise((resolve, reject) => {\n",
              "            function loadScript(url) {\n",
              "            return new Promise(function(resolve, reject) {\n",
              "                let newScript = document.createElement(\"script\");\n",
              "                newScript.onerror = reject;\n",
              "                newScript.onload = resolve;\n",
              "                document.body.appendChild(newScript);\n",
              "                newScript.src = url;\n",
              "            });\n",
              "            }\n",
              "            loadScript(\"https://cdn.jsdelivr.net/npm/postmate/build/postmate.min.js\").then(() => {\n",
              "            const iframe = document.createElement('iframe')\n",
              "            iframe.style.cssText = \"width:0;height:0;border:none\"\n",
              "            document.body.appendChild(iframe)\n",
              "            const handshake = new Postmate({\n",
              "                container: iframe,\n",
              "                url: 'https://wandb.ai/authorize'\n",
              "            });\n",
              "            const timeout = setTimeout(() => reject(\"Couldn't auto authenticate\"), 5000)\n",
              "            handshake.then(function(child) {\n",
              "                child.on('authorize', data => {\n",
              "                    clearTimeout(timeout)\n",
              "                    resolve(data)\n",
              "                });\n",
              "            });\n",
              "            })\n",
              "        });\n",
              "    "
            ]
          },
          "metadata": {}
        },
        {
          "output_type": "stream",
          "name": "stderr",
          "text": [
            "\u001b[34m\u001b[1mwandb\u001b[0m: Logging into wandb.ai. (Learn how to deploy a W&B server locally: https://wandb.me/wandb-server)\n",
            "\u001b[34m\u001b[1mwandb\u001b[0m: You can find your API key in your browser here: https://wandb.ai/authorize\n",
            "wandb: Paste an API key from your profile and hit enter:"
          ]
        },
        {
          "name": "stdout",
          "output_type": "stream",
          "text": [
            " ··········\n"
          ]
        },
        {
          "output_type": "stream",
          "name": "stderr",
          "text": [
            "\u001b[34m\u001b[1mwandb\u001b[0m: \u001b[33mWARNING\u001b[0m If you're specifying your api key in code, ensure this code is not shared publicly.\n",
            "\u001b[34m\u001b[1mwandb\u001b[0m: \u001b[33mWARNING\u001b[0m Consider setting the WANDB_API_KEY environment variable, or running `wandb login` from the command line.\n",
            "\u001b[34m\u001b[1mwandb\u001b[0m: No netrc file found, creating one.\n",
            "\u001b[34m\u001b[1mwandb\u001b[0m: Appending key for api.wandb.ai to your netrc file: /root/.netrc\n",
            "\u001b[34m\u001b[1mwandb\u001b[0m: Currently logged in as: \u001b[33mnipkha21\u001b[0m (\u001b[33mnipkha21-free-university-of-tbilisi-\u001b[0m) to \u001b[32mhttps://api.wandb.ai\u001b[0m. Use \u001b[1m`wandb login --relogin`\u001b[0m to force relogin\n"
          ]
        },
        {
          "output_type": "execute_result",
          "data": {
            "text/plain": [
              "True"
            ]
          },
          "metadata": {},
          "execution_count": 3
        }
      ]
    },
    {
      "cell_type": "code",
      "source": [
        "from data_utils import load_split_data\n",
        "from models import AdvancedMLP, get_model\n",
        "from training_utils import ModelTrainer, get_optimizer, get_scheduler\n",
        "from evaluation import ModelEvaluator\n",
        "\n",
        "device = torch.device('cuda' if torch.cuda.is_available() else 'cpu')"
      ],
      "metadata": {
        "id": "4tTypGWrL1iW"
      },
      "execution_count": 4,
      "outputs": []
    },
    {
      "cell_type": "code",
      "source": [
        "from google.colab import drive\n",
        "drive.mount('/content/drive')"
      ],
      "metadata": {
        "colab": {
          "base_uri": "https://localhost:8080/"
        },
        "id": "oBomQdfylJkn",
        "outputId": "e9f3ce4f-39e5-4153-fa73-fbe519ad25f0"
      },
      "execution_count": 5,
      "outputs": [
        {
          "output_type": "stream",
          "name": "stdout",
          "text": [
            "Mounted at /content/drive\n"
          ]
        }
      ]
    },
    {
      "cell_type": "code",
      "source": [
        "class MLPFacialExpressionDataset(Dataset):\n",
        "    def __init__(self, data, normalization='standard', augment=False, is_test=False):\n",
        "        self.data = data\n",
        "        self.normalization = normalization\n",
        "        self.augment = augment\n",
        "        self.is_test = is_test\n",
        "\n",
        "        if normalization == 'global_stats':\n",
        "            self._compute_global_stats()\n",
        "\n",
        "    def _compute_global_stats(self):\n",
        "        all_pixels = []\n",
        "        sample_size = min(1000, len(self.data))\n",
        "        for i in range(sample_size):\n",
        "            pixels = np.array([int(p) for p in self.data.iloc[i]['pixels'].split()])\n",
        "            all_pixels.extend(pixels)\n",
        "\n",
        "        all_pixels = np.array(all_pixels)\n",
        "        self.global_mean = np.mean(all_pixels)\n",
        "        self.global_std = np.std(all_pixels)\n",
        "\n",
        "    def _apply_augmentation(self, image):\n",
        "        if not self.augment or np.random.random() > 0.5:\n",
        "            return image\n",
        "\n",
        "        img_2d = image.reshape(48, 48)\n",
        "\n",
        "        if np.random.random() > 0.7:\n",
        "            noise = np.random.normal(0, 0.01, img_2d.shape)\n",
        "            img_2d = np.clip(img_2d + noise, 0, 1)\n",
        "\n",
        "        if np.random.random() > 0.7:\n",
        "            brightness_factor = np.random.uniform(0.8, 1.2)\n",
        "            img_2d = np.clip(img_2d * brightness_factor, 0, 1)\n",
        "\n",
        "        if np.random.random() > 0.5:\n",
        "            img_2d = np.fliplr(img_2d)\n",
        "\n",
        "        return img_2d.flatten()\n",
        "\n",
        "    def __len__(self):\n",
        "        return len(self.data)\n",
        "\n",
        "    def __getitem__(self, idx):\n",
        "        pixels = self.data.iloc[idx]['pixels']\n",
        "        image = np.array([int(pixel) for pixel in pixels.split()], dtype=np.float32)\n",
        "\n",
        "        if self.normalization == 'standard':\n",
        "            image = image / 255.0\n",
        "        elif self.normalization == 'centered':\n",
        "            image = (image / 255.0) * 2 - 1\n",
        "        elif self.normalization == 'minmax':\n",
        "            image = (image - image.min()) / (image.max() - image.min())\n",
        "        elif self.normalization == 'zscore':\n",
        "            image = (image - image.mean()) / image.std()\n",
        "        elif self.normalization == 'global_stats':\n",
        "            image = (image - self.global_mean) / self.global_std\n",
        "\n",
        "        if self.augment and not self.is_test:\n",
        "            image = self._apply_augmentation(image)\n",
        "\n",
        "        image = torch.FloatTensor(image)\n",
        "\n",
        "        if self.is_test:\n",
        "            return image\n",
        "        else:\n",
        "            emotion = int(self.data.iloc[idx]['emotion'])\n",
        "            return image, emotion"
      ],
      "metadata": {
        "id": "a7oyplGHMjzm"
      },
      "execution_count": 6,
      "outputs": []
    },
    {
      "cell_type": "code",
      "source": [
        "class AdvancedTrainer:\n",
        "    def __init__(self, model, train_loader, val_loader, criterion, optimizer,\n",
        "                 scheduler=None, device='cuda', experiment_name='experiment', run_name='run'):\n",
        "        self.model = model.to(device)\n",
        "        self.train_loader = train_loader\n",
        "        self.val_loader = val_loader\n",
        "        self.criterion = criterion\n",
        "        self.optimizer = optimizer\n",
        "        self.scheduler = scheduler\n",
        "        self.device = device\n",
        "\n",
        "        wandb.init(\n",
        "            project=\"facial-expression-recognition\",\n",
        "            group=experiment_name,\n",
        "            name=run_name,\n",
        "            config={\n",
        "                \"data_split_method\": \"predefined_stratified\",\n",
        "                \"train_samples\": len(train_loader.dataset),\n",
        "                \"val_samples\": len(val_loader.dataset),\n",
        "                \"split_random_state\": 42\n",
        "            },\n",
        "            reinit=True\n",
        "        )\n",
        "        wandb.watch(self.model, log='all', log_freq=100)\n",
        "\n",
        "        self.history = {\n",
        "            'train_loss': [], 'train_acc': [], 'val_loss': [], 'val_acc': [],\n",
        "            'learning_rates': [], 'epoch_times': []\n",
        "        }\n",
        "        self.best_val_acc = 0.0\n",
        "        self.best_model_state = None\n",
        "\n",
        "    def train_epoch(self):\n",
        "        self.model.train()\n",
        "        running_loss = 0.0\n",
        "        correct = 0\n",
        "        total = 0\n",
        "\n",
        "        pbar = tqdm(self.train_loader, desc=\"Training\")\n",
        "        for batch_idx, (data, targets) in enumerate(pbar):\n",
        "            data, targets = data.to(self.device), targets.to(self.device)\n",
        "\n",
        "            self.optimizer.zero_grad()\n",
        "            outputs = self.model(data)\n",
        "            loss = self.criterion(outputs, targets)\n",
        "\n",
        "            loss.backward()\n",
        "\n",
        "            torch.nn.utils.clip_grad_norm_(self.model.parameters(), max_norm=1.0)\n",
        "\n",
        "            self.optimizer.step()\n",
        "\n",
        "            running_loss += loss.item()\n",
        "            _, predicted = torch.max(outputs, 1)\n",
        "            total += targets.size(0)\n",
        "            correct += (predicted == targets).sum().item()\n",
        "\n",
        "            pbar.set_postfix({\n",
        "                'Loss': f'{loss.item():.4f}',\n",
        "                'Acc': f'{100.*correct/total:.2f}%'\n",
        "            })\n",
        "\n",
        "        epoch_loss = running_loss / len(self.train_loader)\n",
        "        epoch_acc = 100. * correct / total\n",
        "\n",
        "        return epoch_loss, epoch_acc\n",
        "\n",
        "    def validate_epoch(self):\n",
        "        self.model.eval()\n",
        "        running_loss = 0.0\n",
        "        correct = 0\n",
        "        total = 0\n",
        "        all_predictions = []\n",
        "        all_targets = []\n",
        "\n",
        "        with torch.no_grad():\n",
        "            for data, targets in tqdm(self.val_loader, desc=\"Validation\"):\n",
        "                data, targets = data.to(self.device), targets.to(self.device)\n",
        "\n",
        "                outputs = self.model(data)\n",
        "                loss = self.criterion(outputs, targets)\n",
        "\n",
        "                running_loss += loss.item()\n",
        "                _, predicted = torch.max(outputs, 1)\n",
        "                total += targets.size(0)\n",
        "                correct += (predicted == targets).sum().item()\n",
        "\n",
        "                all_predictions.extend(predicted.cpu().numpy())\n",
        "                all_targets.extend(targets.cpu().numpy())\n",
        "\n",
        "        epoch_loss = running_loss / len(self.val_loader)\n",
        "        epoch_acc = 100. * correct / total\n",
        "\n",
        "        return epoch_loss, epoch_acc, np.array(all_predictions), np.array(all_targets)\n",
        "\n",
        "    def train(self, epochs, early_stopping_patience=10):\n",
        "        print(f\"Starting training for {epochs} epochs...\")\n",
        "\n",
        "        patience_counter = 0\n",
        "\n",
        "        for epoch in range(epochs):\n",
        "            epoch_start = time.time()\n",
        "\n",
        "            train_loss, train_acc = self.train_epoch()\n",
        "\n",
        "            val_loss, val_acc, val_preds, val_targets = self.validate_epoch()\n",
        "\n",
        "            current_lr = self.optimizer.param_groups[0]['lr']\n",
        "            if self.scheduler:\n",
        "                if isinstance(self.scheduler, ReduceLROnPlateau):\n",
        "                    self.scheduler.step(val_loss)\n",
        "                else:\n",
        "                    self.scheduler.step()\n",
        "\n",
        "            if val_acc > self.best_val_acc:\n",
        "                self.best_val_acc = val_acc\n",
        "                self.best_model_state = self.model.state_dict().copy()\n",
        "                patience_counter = 0\n",
        "            else:\n",
        "                patience_counter += 1\n",
        "\n",
        "            epoch_time = time.time() - epoch_start\n",
        "\n",
        "            self.history['train_loss'].append(train_loss)\n",
        "            self.history['train_acc'].append(train_acc)\n",
        "            self.history['val_loss'].append(val_loss)\n",
        "            self.history['val_acc'].append(val_acc)\n",
        "            self.history['learning_rates'].append(current_lr)\n",
        "            self.history['epoch_times'].append(epoch_time)\n",
        "\n",
        "            loss_gap = val_loss - train_loss\n",
        "            acc_gap = train_acc - val_acc\n",
        "\n",
        "            log_dict = {\n",
        "                'epoch': epoch + 1,\n",
        "                'train_loss': train_loss,\n",
        "                'train_accuracy': train_acc,\n",
        "                'val_loss': val_loss,\n",
        "                'val_accuracy': val_acc,\n",
        "                'learning_rate': current_lr,\n",
        "                'epoch_time': epoch_time,\n",
        "                'loss_gap': loss_gap,\n",
        "                'accuracy_gap': acc_gap,\n",
        "                'overfitting_score': loss_gap + (acc_gap / 100),\n",
        "                'best_val_accuracy': self.best_val_acc\n",
        "            }\n",
        "\n",
        "            if (epoch + 1) % 10 == 0:\n",
        "                emotion_map = {0: 'Angry', 1: 'Disgust', 2: 'Fear', 3: 'Happy', 4: 'Sad', 5: 'Surprise', 6: 'Neutral'}\n",
        "                log_dict['confusion_matrix'] = wandb.plot.confusion_matrix(\n",
        "                    probs=None, y_true=val_targets, preds=val_preds,\n",
        "                    class_names=list(emotion_map.values())\n",
        "                )\n",
        "\n",
        "            wandb.log(log_dict)\n",
        "\n",
        "            print(f\"Epoch {epoch+1}/{epochs}:\")\n",
        "            print(f\"  Train Loss: {train_loss:.4f}, Train Acc: {train_acc:.2f}%\")\n",
        "            print(f\"  Val Loss: {val_loss:.4f}, Val Acc: {val_acc:.2f}%\")\n",
        "            print(f\"  LR: {current_lr:.6f}, Time: {epoch_time:.2f}s\")\n",
        "            print(f\"  Overfitting Score: {loss_gap + (acc_gap / 100):.4f}\")\n",
        "            print(\"-\" * 50)\n",
        "\n",
        "            if patience_counter >= early_stopping_patience:\n",
        "                print(f\"Early stopping triggered at epoch {epoch+1}\")\n",
        "                break\n",
        "\n",
        "        if self.best_model_state:\n",
        "            self.model.load_state_dict(self.best_model_state)\n",
        "            print(f\"Loaded best model with validation accuracy: {self.best_val_acc:.2f}%\")\n",
        "\n",
        "        return self.history"
      ],
      "metadata": {
        "id": "WcGfX0fLMrDV"
      },
      "execution_count": 7,
      "outputs": []
    },
    {
      "cell_type": "code",
      "source": [
        "wandb.login()\n",
        "\n",
        "print(\"=== LOADING PRE-SPLIT DATA ===\")\n",
        "\n",
        "train_df, val_df, test_df = load_split_data('drive/MyDrive/data')\n",
        "\n",
        "emotion_map = {0: 'Angry', 1: 'Disgust', 2: 'Fear', 3: 'Happy', 4: 'Sad', 5: 'Surprise', 6: 'Neutral'}"
      ],
      "metadata": {
        "colab": {
          "base_uri": "https://localhost:8080/"
        },
        "id": "XelLOU59Mreu",
        "outputId": "53d48e07-db5e-449e-a9ce-c803e64a6a90"
      },
      "execution_count": 8,
      "outputs": [
        {
          "output_type": "stream",
          "name": "stdout",
          "text": [
            "=== LOADING PRE-SPLIT DATA ===\n"
          ]
        }
      ]
    },
    {
      "cell_type": "markdown",
      "source": [],
      "metadata": {
        "id": "0CEqbEHTM2FS"
      }
    },
    {
      "cell_type": "code",
      "source": [
        "print(\"=== ACTIVATION FUNCTION EXPERIMENTS ===\")\n",
        "\n",
        "class FlexibleMLP(nn.Module):\n",
        "    \"\"\"MLP with configurable activation function for activation experiments\"\"\"\n",
        "    def __init__(self, input_size=2304, hidden_sizes=[512, 256], num_classes=7,\n",
        "                 dropout_rate=0.3, use_batch_norm=True, activation='relu'):\n",
        "        super(FlexibleMLP, self).__init__()\n",
        "\n",
        "        self.use_batch_norm = use_batch_norm\n",
        "        self.activation_fn = self._get_activation(activation)\n",
        "\n",
        "        layers = []\n",
        "        prev_size = input_size\n",
        "\n",
        "        for hidden_size in hidden_sizes:\n",
        "            layers.append(nn.Linear(prev_size, hidden_size))\n",
        "            if use_batch_norm:\n",
        "                layers.append(nn.BatchNorm1d(hidden_size))\n",
        "            layers.append(self.activation_fn)\n",
        "            layers.append(nn.Dropout(dropout_rate))\n",
        "            prev_size = hidden_size\n",
        "\n",
        "        layers.append(nn.Linear(prev_size, num_classes))\n",
        "\n",
        "        self.layers = nn.Sequential(*layers)\n",
        "        self._initialize_weights()\n",
        "\n",
        "    def _get_activation(self, activation):\n",
        "        activations = {\n",
        "            'relu': nn.ReLU(),\n",
        "            'leaky_relu': nn.LeakyReLU(0.01),\n",
        "            'elu': nn.ELU(),\n",
        "            'tanh': nn.Tanh()\n",
        "        }\n",
        "        return activations.get(activation, nn.ReLU())\n",
        "\n",
        "    def _initialize_weights(self):\n",
        "        for m in self.modules():\n",
        "            if isinstance(m, nn.Linear):\n",
        "                nn.init.xavier_uniform_(m.weight)\n",
        "                nn.init.constant_(m.bias, 0)\n",
        "            elif isinstance(m, nn.BatchNorm1d):\n",
        "                nn.init.constant_(m.weight, 1)\n",
        "                nn.init.constant_(m.bias, 0)\n",
        "\n",
        "    def forward(self, x):\n",
        "        return self.layers(x)\n",
        "\n",
        "activation_functions = ['relu', 'leaky_relu', 'elu', 'tanh']\n",
        "activation_results = {}\n",
        "\n",
        "for activation in activation_functions:\n",
        "    print(f\"\\nTesting activation function: {activation}\")\n",
        "\n",
        "    train_dataset = MLPFacialExpressionDataset(train_df, normalization='standard')\n",
        "    val_dataset = MLPFacialExpressionDataset(val_df, normalization='standard')\n",
        "\n",
        "    train_loader = DataLoader(train_dataset, batch_size=64, shuffle=True)\n",
        "    val_loader = DataLoader(val_dataset, batch_size=64, shuffle=False)\n",
        "\n",
        "    model = FlexibleMLP(\n",
        "        input_size=2304,\n",
        "        hidden_sizes=[512, 256],\n",
        "        num_classes=7,\n",
        "        dropout_rate=0.3,\n",
        "        use_batch_norm=True,\n",
        "        activation=activation\n",
        "    )\n",
        "\n",
        "    criterion = nn.CrossEntropyLoss()\n",
        "    optimizer = optim.Adam(model.parameters(), lr=0.001)\n",
        "\n",
        "    trainer = AdvancedTrainer(\n",
        "        model=model,\n",
        "        train_loader=train_loader,\n",
        "        val_loader=val_loader,\n",
        "        criterion=criterion,\n",
        "        optimizer=optimizer,\n",
        "        device=device,\n",
        "        experiment_name=\"Advanced_MLP_Training\",\n",
        "        run_name=f\"Activation_{activation}\"\n",
        "    )\n",
        "\n",
        "    history = trainer.train(epochs=10, early_stopping_patience=5)\n",
        "\n",
        "    activation_results[activation] = {\n",
        "        'best_val_acc': trainer.best_val_acc,\n",
        "        'final_train_acc': history['train_acc'][-1],\n",
        "        'final_val_acc': history['val_acc'][-1],\n",
        "        'convergence_speed': len(history['train_acc'])\n",
        "    }\n",
        "\n",
        "    wandb.finish()\n",
        "\n",
        "    print(f\"Best validation accuracy: {trainer.best_val_acc:.2f}%\")\n",
        "\n",
        "print(\"\\n=== ACTIVATION FUNCTION ANALYSIS ===\")\n",
        "best_activation = max(activation_results.keys(), key=lambda x: activation_results[x]['best_val_acc'])\n",
        "print(f\"Best activation function: {best_activation}\")\n",
        "\n",
        "for activation, results in activation_results.items():\n",
        "    print(f\"{activation}: {results['best_val_acc']:.2f}%\")"
      ],
      "metadata": {
        "colab": {
          "base_uri": "https://localhost:8080/",
          "height": 1000
        },
        "id": "B7etyiKGMrt1",
        "outputId": "2ec5c7f8-bd5a-4320-e4ff-8909e0017bea"
      },
      "execution_count": 11,
      "outputs": [
        {
          "output_type": "stream",
          "name": "stdout",
          "text": [
            "=== ACTIVATION FUNCTION EXPERIMENTS ===\n",
            "\n",
            "Testing activation function: relu\n"
          ]
        },
        {
          "output_type": "display_data",
          "data": {
            "text/plain": [
              "<IPython.core.display.HTML object>"
            ],
            "text/html": [
              "Finishing previous runs because reinit is set to True."
            ]
          },
          "metadata": {}
        },
        {
          "output_type": "display_data",
          "data": {
            "text/plain": [
              "<IPython.core.display.HTML object>"
            ],
            "text/html": []
          },
          "metadata": {}
        },
        {
          "output_type": "display_data",
          "data": {
            "text/plain": [
              "<IPython.core.display.HTML object>"
            ],
            "text/html": [
              " View run <strong style=\"color:#cdcd00\">Activation_relu</strong> at: <a href='https://wandb.ai/nipkha21-free-university-of-tbilisi-/facial-expression-recognition/runs/832umocv' target=\"_blank\">https://wandb.ai/nipkha21-free-university-of-tbilisi-/facial-expression-recognition/runs/832umocv</a><br> View project at: <a href='https://wandb.ai/nipkha21-free-university-of-tbilisi-/facial-expression-recognition' target=\"_blank\">https://wandb.ai/nipkha21-free-university-of-tbilisi-/facial-expression-recognition</a><br>Synced 5 W&B file(s), 0 media file(s), 0 artifact file(s) and 0 other file(s)"
            ]
          },
          "metadata": {}
        },
        {
          "output_type": "display_data",
          "data": {
            "text/plain": [
              "<IPython.core.display.HTML object>"
            ],
            "text/html": [
              "Find logs at: <code>./wandb/run-20250608_062659-832umocv/logs</code>"
            ]
          },
          "metadata": {}
        },
        {
          "output_type": "display_data",
          "data": {
            "text/plain": [
              "<IPython.core.display.HTML object>"
            ],
            "text/html": [
              "Tracking run with wandb version 0.19.11"
            ]
          },
          "metadata": {}
        },
        {
          "output_type": "display_data",
          "data": {
            "text/plain": [
              "<IPython.core.display.HTML object>"
            ],
            "text/html": [
              "Run data is saved locally in <code>/content/wandb/run-20250608_062709-g8xnm3cb</code>"
            ]
          },
          "metadata": {}
        },
        {
          "output_type": "display_data",
          "data": {
            "text/plain": [
              "<IPython.core.display.HTML object>"
            ],
            "text/html": [
              "Syncing run <strong><a href='https://wandb.ai/nipkha21-free-university-of-tbilisi-/facial-expression-recognition/runs/g8xnm3cb' target=\"_blank\">Activation_relu</a></strong> to <a href='https://wandb.ai/nipkha21-free-university-of-tbilisi-/facial-expression-recognition' target=\"_blank\">Weights & Biases</a> (<a href='https://wandb.me/developer-guide' target=\"_blank\">docs</a>)<br>"
            ]
          },
          "metadata": {}
        },
        {
          "output_type": "display_data",
          "data": {
            "text/plain": [
              "<IPython.core.display.HTML object>"
            ],
            "text/html": [
              " View project at <a href='https://wandb.ai/nipkha21-free-university-of-tbilisi-/facial-expression-recognition' target=\"_blank\">https://wandb.ai/nipkha21-free-university-of-tbilisi-/facial-expression-recognition</a>"
            ]
          },
          "metadata": {}
        },
        {
          "output_type": "display_data",
          "data": {
            "text/plain": [
              "<IPython.core.display.HTML object>"
            ],
            "text/html": [
              " View run at <a href='https://wandb.ai/nipkha21-free-university-of-tbilisi-/facial-expression-recognition/runs/g8xnm3cb' target=\"_blank\">https://wandb.ai/nipkha21-free-university-of-tbilisi-/facial-expression-recognition/runs/g8xnm3cb</a>"
            ]
          },
          "metadata": {}
        },
        {
          "output_type": "stream",
          "name": "stdout",
          "text": [
            "Starting training for 10 epochs...\n"
          ]
        },
        {
          "output_type": "stream",
          "name": "stderr",
          "text": [
            "Training: 100%|██████████| 314/314 [00:15<00:00, 20.40it/s, Loss=1.8504, Acc=29.68%]\n",
            "Validation: 100%|██████████| 68/68 [00:02<00:00, 31.79it/s]\n"
          ]
        },
        {
          "output_type": "stream",
          "name": "stdout",
          "text": [
            "Epoch 1/10:\n",
            "  Train Loss: 1.8258, Train Acc: 29.68%\n",
            "  Val Loss: 1.6545, Val Acc: 35.20%\n",
            "  LR: 0.001000, Time: 17.54s\n",
            "  Overfitting Score: -0.2264\n",
            "--------------------------------------------------\n"
          ]
        },
        {
          "output_type": "stream",
          "name": "stderr",
          "text": [
            "Training: 100%|██████████| 314/314 [00:16<00:00, 19.45it/s, Loss=1.6392, Acc=34.58%]\n",
            "Validation: 100%|██████████| 68/68 [00:02<00:00, 32.04it/s]\n"
          ]
        },
        {
          "output_type": "stream",
          "name": "stdout",
          "text": [
            "Epoch 2/10:\n",
            "  Train Loss: 1.6640, Train Acc: 34.58%\n",
            "  Val Loss: 1.6152, Val Acc: 36.01%\n",
            "  LR: 0.001000, Time: 18.27s\n",
            "  Overfitting Score: -0.0632\n",
            "--------------------------------------------------\n"
          ]
        },
        {
          "output_type": "stream",
          "name": "stderr",
          "text": [
            "Training: 100%|██████████| 314/314 [00:15<00:00, 20.15it/s, Loss=1.5918, Acc=38.19%]\n",
            "Validation: 100%|██████████| 68/68 [00:02<00:00, 31.81it/s]\n"
          ]
        },
        {
          "output_type": "stream",
          "name": "stdout",
          "text": [
            "Epoch 3/10:\n",
            "  Train Loss: 1.5897, Train Acc: 38.19%\n",
            "  Val Loss: 1.5891, Val Acc: 37.08%\n",
            "  LR: 0.001000, Time: 17.73s\n",
            "  Overfitting Score: 0.0106\n",
            "--------------------------------------------------\n"
          ]
        },
        {
          "output_type": "stream",
          "name": "stderr",
          "text": [
            "Training: 100%|██████████| 314/314 [00:15<00:00, 20.02it/s, Loss=1.6767, Acc=39.49%]\n",
            "Validation: 100%|██████████| 68/68 [00:02<00:00, 25.49it/s]\n"
          ]
        },
        {
          "output_type": "stream",
          "name": "stdout",
          "text": [
            "Epoch 4/10:\n",
            "  Train Loss: 1.5420, Train Acc: 39.49%\n",
            "  Val Loss: 1.5630, Val Acc: 38.59%\n",
            "  LR: 0.001000, Time: 18.36s\n",
            "  Overfitting Score: 0.0300\n",
            "--------------------------------------------------\n"
          ]
        },
        {
          "output_type": "stream",
          "name": "stderr",
          "text": [
            "Training: 100%|██████████| 314/314 [00:15<00:00, 20.22it/s, Loss=1.2791, Acc=41.03%]\n",
            "Validation: 100%|██████████| 68/68 [00:02<00:00, 32.12it/s]\n"
          ]
        },
        {
          "output_type": "stream",
          "name": "stdout",
          "text": [
            "Epoch 5/10:\n",
            "  Train Loss: 1.5064, Train Acc: 41.03%\n",
            "  Val Loss: 1.5968, Val Acc: 37.73%\n",
            "  LR: 0.001000, Time: 17.66s\n",
            "  Overfitting Score: 0.1233\n",
            "--------------------------------------------------\n"
          ]
        },
        {
          "output_type": "stream",
          "name": "stderr",
          "text": [
            "Training: 100%|██████████| 314/314 [00:15<00:00, 20.30it/s, Loss=1.4222, Acc=42.62%]\n",
            "Validation: 100%|██████████| 68/68 [00:02<00:00, 22.78it/s]\n"
          ]
        },
        {
          "output_type": "stream",
          "name": "stdout",
          "text": [
            "Epoch 6/10:\n",
            "  Train Loss: 1.4756, Train Acc: 42.62%\n",
            "  Val Loss: 1.6063, Val Acc: 33.97%\n",
            "  LR: 0.001000, Time: 18.47s\n",
            "  Overfitting Score: 0.2172\n",
            "--------------------------------------------------\n"
          ]
        },
        {
          "output_type": "stream",
          "name": "stderr",
          "text": [
            "Training: 100%|██████████| 314/314 [00:15<00:00, 19.87it/s, Loss=1.6898, Acc=44.17%]\n",
            "Validation: 100%|██████████| 68/68 [00:02<00:00, 30.63it/s]\n"
          ]
        },
        {
          "output_type": "stream",
          "name": "stdout",
          "text": [
            "Epoch 7/10:\n",
            "  Train Loss: 1.4401, Train Acc: 44.17%\n",
            "  Val Loss: 1.6203, Val Acc: 38.19%\n",
            "  LR: 0.001000, Time: 18.03s\n",
            "  Overfitting Score: 0.2399\n",
            "--------------------------------------------------\n"
          ]
        },
        {
          "output_type": "stream",
          "name": "stderr",
          "text": [
            "Training: 100%|██████████| 314/314 [00:15<00:00, 19.89it/s, Loss=1.4124, Acc=45.36%]\n",
            "Validation: 100%|██████████| 68/68 [00:02<00:00, 25.12it/s]\n"
          ]
        },
        {
          "output_type": "stream",
          "name": "stdout",
          "text": [
            "Epoch 8/10:\n",
            "  Train Loss: 1.4136, Train Acc: 45.36%\n",
            "  Val Loss: 1.5433, Val Acc: 39.63%\n",
            "  LR: 0.001000, Time: 18.50s\n",
            "  Overfitting Score: 0.1870\n",
            "--------------------------------------------------\n"
          ]
        },
        {
          "output_type": "stream",
          "name": "stderr",
          "text": [
            "Training: 100%|██████████| 314/314 [00:15<00:00, 19.90it/s, Loss=1.2514, Acc=46.79%]\n",
            "Validation: 100%|██████████| 68/68 [00:02<00:00, 31.66it/s]\n"
          ]
        },
        {
          "output_type": "stream",
          "name": "stdout",
          "text": [
            "Epoch 9/10:\n",
            "  Train Loss: 1.3823, Train Acc: 46.79%\n",
            "  Val Loss: 1.5666, Val Acc: 39.26%\n",
            "  LR: 0.001000, Time: 17.94s\n",
            "  Overfitting Score: 0.2595\n",
            "--------------------------------------------------\n"
          ]
        },
        {
          "output_type": "stream",
          "name": "stderr",
          "text": [
            "Training: 100%|██████████| 314/314 [00:15<00:00, 19.96it/s, Loss=1.5430, Acc=47.89%]\n",
            "Validation: 100%|██████████| 68/68 [00:02<00:00, 29.87it/s]\n"
          ]
        },
        {
          "output_type": "stream",
          "name": "stdout",
          "text": [
            "Epoch 10/10:\n",
            "  Train Loss: 1.3509, Train Acc: 47.89%\n",
            "  Val Loss: 1.5324, Val Acc: 40.59%\n",
            "  LR: 0.001000, Time: 18.02s\n",
            "  Overfitting Score: 0.2546\n",
            "--------------------------------------------------\n",
            "Loaded best model with validation accuracy: 40.59%\n"
          ]
        },
        {
          "output_type": "display_data",
          "data": {
            "text/plain": [
              "<IPython.core.display.HTML object>"
            ],
            "text/html": []
          },
          "metadata": {}
        },
        {
          "output_type": "display_data",
          "data": {
            "text/plain": [
              "<IPython.core.display.HTML object>"
            ],
            "text/html": [
              "<br>    <style><br>        .wandb-row {<br>            display: flex;<br>            flex-direction: row;<br>            flex-wrap: wrap;<br>            justify-content: flex-start;<br>            width: 100%;<br>        }<br>        .wandb-col {<br>            display: flex;<br>            flex-direction: column;<br>            flex-basis: 100%;<br>            flex: 1;<br>            padding: 10px;<br>        }<br>    </style><br><div class=\"wandb-row\"><div class=\"wandb-col\"><h3>Run history:</h3><br/><table class=\"wandb\"><tr><td>accuracy_gap</td><td>▁▃▄▄▅█▇▇▇▇</td></tr><tr><td>best_val_accuracy</td><td>▁▂▃▅▅▅▅▇▇█</td></tr><tr><td>epoch</td><td>▁▂▃▃▄▅▆▆▇█</td></tr><tr><td>epoch_time</td><td>▁▆▂▇▂█▅█▄▄</td></tr><tr><td>learning_rate</td><td>▁▁▁▁▁▁▁▁▁▁</td></tr><tr><td>loss_gap</td><td>▁▃▄▅▆▇█▇██</td></tr><tr><td>overfitting_score</td><td>▁▃▄▅▆▇█▇██</td></tr><tr><td>train_accuracy</td><td>▁▃▄▅▅▆▇▇██</td></tr><tr><td>train_loss</td><td>█▆▅▄▃▃▂▂▁▁</td></tr><tr><td>val_accuracy</td><td>▂▃▄▆▅▁▅▇▇█</td></tr><tr><td>val_loss</td><td>█▆▄▃▅▅▆▂▃▁</td></tr></table><br/></div><div class=\"wandb-col\"><h3>Run summary:</h3><br/><table class=\"wandb\"><tr><td>accuracy_gap</td><td>7.30244</td></tr><tr><td>best_val_accuracy</td><td>40.58509</td></tr><tr><td>epoch</td><td>10</td></tr><tr><td>epoch_time</td><td>18.0198</td></tr><tr><td>learning_rate</td><td>0.001</td></tr><tr><td>loss_gap</td><td>0.18155</td></tr><tr><td>overfitting_score</td><td>0.25457</td></tr><tr><td>train_accuracy</td><td>47.88753</td></tr><tr><td>train_loss</td><td>1.35087</td></tr><tr><td>val_accuracy</td><td>40.58509</td></tr><tr><td>val_loss</td><td>1.53242</td></tr></table><br/></div></div>"
            ]
          },
          "metadata": {}
        },
        {
          "output_type": "display_data",
          "data": {
            "text/plain": [
              "<IPython.core.display.HTML object>"
            ],
            "text/html": [
              " View run <strong style=\"color:#cdcd00\">Activation_relu</strong> at: <a href='https://wandb.ai/nipkha21-free-university-of-tbilisi-/facial-expression-recognition/runs/g8xnm3cb' target=\"_blank\">https://wandb.ai/nipkha21-free-university-of-tbilisi-/facial-expression-recognition/runs/g8xnm3cb</a><br> View project at: <a href='https://wandb.ai/nipkha21-free-university-of-tbilisi-/facial-expression-recognition' target=\"_blank\">https://wandb.ai/nipkha21-free-university-of-tbilisi-/facial-expression-recognition</a><br>Synced 5 W&B file(s), 1 media file(s), 2 artifact file(s) and 0 other file(s)"
            ]
          },
          "metadata": {}
        },
        {
          "output_type": "display_data",
          "data": {
            "text/plain": [
              "<IPython.core.display.HTML object>"
            ],
            "text/html": [
              "Find logs at: <code>./wandb/run-20250608_062709-g8xnm3cb/logs</code>"
            ]
          },
          "metadata": {}
        },
        {
          "output_type": "stream",
          "name": "stdout",
          "text": [
            "Best validation accuracy: 40.59%\n",
            "\n",
            "Testing activation function: leaky_relu\n"
          ]
        },
        {
          "output_type": "display_data",
          "data": {
            "text/plain": [
              "<IPython.core.display.HTML object>"
            ],
            "text/html": [
              "Tracking run with wandb version 0.19.11"
            ]
          },
          "metadata": {}
        },
        {
          "output_type": "display_data",
          "data": {
            "text/plain": [
              "<IPython.core.display.HTML object>"
            ],
            "text/html": [
              "Run data is saved locally in <code>/content/wandb/run-20250608_063012-39ia4r4g</code>"
            ]
          },
          "metadata": {}
        },
        {
          "output_type": "display_data",
          "data": {
            "text/plain": [
              "<IPython.core.display.HTML object>"
            ],
            "text/html": [
              "Syncing run <strong><a href='https://wandb.ai/nipkha21-free-university-of-tbilisi-/facial-expression-recognition/runs/39ia4r4g' target=\"_blank\">Activation_leaky_relu</a></strong> to <a href='https://wandb.ai/nipkha21-free-university-of-tbilisi-/facial-expression-recognition' target=\"_blank\">Weights & Biases</a> (<a href='https://wandb.me/developer-guide' target=\"_blank\">docs</a>)<br>"
            ]
          },
          "metadata": {}
        },
        {
          "output_type": "display_data",
          "data": {
            "text/plain": [
              "<IPython.core.display.HTML object>"
            ],
            "text/html": [
              " View project at <a href='https://wandb.ai/nipkha21-free-university-of-tbilisi-/facial-expression-recognition' target=\"_blank\">https://wandb.ai/nipkha21-free-university-of-tbilisi-/facial-expression-recognition</a>"
            ]
          },
          "metadata": {}
        },
        {
          "output_type": "display_data",
          "data": {
            "text/plain": [
              "<IPython.core.display.HTML object>"
            ],
            "text/html": [
              " View run at <a href='https://wandb.ai/nipkha21-free-university-of-tbilisi-/facial-expression-recognition/runs/39ia4r4g' target=\"_blank\">https://wandb.ai/nipkha21-free-university-of-tbilisi-/facial-expression-recognition/runs/39ia4r4g</a>"
            ]
          },
          "metadata": {}
        },
        {
          "output_type": "stream",
          "name": "stdout",
          "text": [
            "Starting training for 10 epochs...\n"
          ]
        },
        {
          "output_type": "stream",
          "name": "stderr",
          "text": [
            "Training: 100%|██████████| 314/314 [00:16<00:00, 18.89it/s, Loss=1.8534, Acc=29.93%]\n",
            "Validation: 100%|██████████| 68/68 [00:02<00:00, 31.77it/s]\n"
          ]
        },
        {
          "output_type": "stream",
          "name": "stdout",
          "text": [
            "Epoch 1/10:\n",
            "  Train Loss: 1.8279, Train Acc: 29.93%\n",
            "  Val Loss: 1.6574, Val Acc: 35.20%\n",
            "  LR: 0.001000, Time: 18.77s\n",
            "  Overfitting Score: -0.2232\n",
            "--------------------------------------------------\n"
          ]
        },
        {
          "output_type": "stream",
          "name": "stderr",
          "text": [
            "Training: 100%|██████████| 314/314 [00:14<00:00, 21.21it/s, Loss=1.5850, Acc=34.78%]\n",
            "Validation: 100%|██████████| 68/68 [00:02<00:00, 25.45it/s]\n"
          ]
        },
        {
          "output_type": "stream",
          "name": "stdout",
          "text": [
            "Epoch 2/10:\n",
            "  Train Loss: 1.6590, Train Acc: 34.78%\n",
            "  Val Loss: 1.6076, Val Acc: 36.71%\n",
            "  LR: 0.001000, Time: 17.48s\n",
            "  Overfitting Score: -0.0707\n",
            "--------------------------------------------------\n"
          ]
        },
        {
          "output_type": "stream",
          "name": "stderr",
          "text": [
            "Training: 100%|██████████| 314/314 [00:15<00:00, 19.84it/s, Loss=1.7442, Acc=37.89%]\n",
            "Validation: 100%|██████████| 68/68 [00:02<00:00, 24.29it/s]\n"
          ]
        },
        {
          "output_type": "stream",
          "name": "stdout",
          "text": [
            "Epoch 3/10:\n",
            "  Train Loss: 1.5879, Train Acc: 37.89%\n",
            "  Val Loss: 1.6137, Val Acc: 36.43%\n",
            "  LR: 0.001000, Time: 18.63s\n",
            "  Overfitting Score: 0.0404\n",
            "--------------------------------------------------\n"
          ]
        },
        {
          "output_type": "stream",
          "name": "stderr",
          "text": [
            "Training: 100%|██████████| 314/314 [00:15<00:00, 20.56it/s, Loss=1.5106, Acc=40.38%]\n",
            "Validation: 100%|██████████| 68/68 [00:02<00:00, 30.89it/s]\n"
          ]
        },
        {
          "output_type": "stream",
          "name": "stdout",
          "text": [
            "Epoch 4/10:\n",
            "  Train Loss: 1.5412, Train Acc: 40.38%\n",
            "  Val Loss: 1.5717, Val Acc: 38.47%\n",
            "  LR: 0.001000, Time: 17.48s\n",
            "  Overfitting Score: 0.0495\n",
            "--------------------------------------------------\n"
          ]
        },
        {
          "output_type": "stream",
          "name": "stderr",
          "text": [
            "Training: 100%|██████████| 314/314 [00:16<00:00, 19.14it/s, Loss=1.4726, Acc=41.50%]\n",
            "Validation: 100%|██████████| 68/68 [00:02<00:00, 31.44it/s]\n"
          ]
        },
        {
          "output_type": "stream",
          "name": "stdout",
          "text": [
            "Epoch 5/10:\n",
            "  Train Loss: 1.5078, Train Acc: 41.50%\n",
            "  Val Loss: 1.5603, Val Acc: 39.35%\n",
            "  LR: 0.001000, Time: 18.58s\n",
            "  Overfitting Score: 0.0740\n",
            "--------------------------------------------------\n"
          ]
        },
        {
          "output_type": "stream",
          "name": "stderr",
          "text": [
            "Training: 100%|██████████| 314/314 [00:15<00:00, 20.83it/s, Loss=1.3120, Acc=42.86%]\n",
            "Validation: 100%|██████████| 68/68 [00:02<00:00, 31.63it/s]\n"
          ]
        },
        {
          "output_type": "stream",
          "name": "stdout",
          "text": [
            "Epoch 6/10:\n",
            "  Train Loss: 1.4739, Train Acc: 42.86%\n",
            "  Val Loss: 1.5495, Val Acc: 39.63%\n",
            "  LR: 0.001000, Time: 17.24s\n",
            "  Overfitting Score: 0.1078\n",
            "--------------------------------------------------\n"
          ]
        },
        {
          "output_type": "stream",
          "name": "stderr",
          "text": [
            "Training: 100%|██████████| 314/314 [00:15<00:00, 20.24it/s, Loss=1.4520, Acc=44.68%]\n",
            "Validation: 100%|██████████| 68/68 [00:02<00:00, 24.88it/s]\n"
          ]
        },
        {
          "output_type": "stream",
          "name": "stdout",
          "text": [
            "Epoch 7/10:\n",
            "  Train Loss: 1.4397, Train Acc: 44.68%\n",
            "  Val Loss: 1.5686, Val Acc: 39.91%\n",
            "  LR: 0.001000, Time: 18.26s\n",
            "  Overfitting Score: 0.1766\n",
            "--------------------------------------------------\n"
          ]
        },
        {
          "output_type": "stream",
          "name": "stderr",
          "text": [
            "Training: 100%|██████████| 314/314 [00:15<00:00, 20.91it/s, Loss=1.3654, Acc=45.54%]\n",
            "Validation: 100%|██████████| 68/68 [00:02<00:00, 31.67it/s]\n"
          ]
        },
        {
          "output_type": "stream",
          "name": "stdout",
          "text": [
            "Epoch 8/10:\n",
            "  Train Loss: 1.4100, Train Acc: 45.54%\n",
            "  Val Loss: 1.5603, Val Acc: 39.35%\n",
            "  LR: 0.001000, Time: 17.17s\n",
            "  Overfitting Score: 0.2122\n",
            "--------------------------------------------------\n"
          ]
        },
        {
          "output_type": "stream",
          "name": "stderr",
          "text": [
            "Training: 100%|██████████| 314/314 [00:15<00:00, 20.67it/s, Loss=1.4253, Acc=46.75%]\n",
            "Validation: 100%|██████████| 68/68 [00:02<00:00, 25.88it/s]\n"
          ]
        },
        {
          "output_type": "stream",
          "name": "stdout",
          "text": [
            "Epoch 9/10:\n",
            "  Train Loss: 1.3830, Train Acc: 46.75%\n",
            "  Val Loss: 1.5411, Val Acc: 40.86%\n",
            "  LR: 0.001000, Time: 17.83s\n",
            "  Overfitting Score: 0.2171\n",
            "--------------------------------------------------\n"
          ]
        },
        {
          "output_type": "stream",
          "name": "stderr",
          "text": [
            "Training: 100%|██████████| 314/314 [00:15<00:00, 20.04it/s, Loss=1.3467, Acc=47.59%]\n",
            "Validation: 100%|██████████| 68/68 [00:02<00:00, 31.21it/s]\n"
          ]
        },
        {
          "output_type": "stream",
          "name": "stdout",
          "text": [
            "Epoch 10/10:\n",
            "  Train Loss: 1.3564, Train Acc: 47.59%\n",
            "  Val Loss: 1.5889, Val Acc: 39.98%\n",
            "  LR: 0.001000, Time: 17.86s\n",
            "  Overfitting Score: 0.3086\n",
            "--------------------------------------------------\n",
            "Loaded best model with validation accuracy: 40.86%\n"
          ]
        },
        {
          "output_type": "display_data",
          "data": {
            "text/plain": [
              "<IPython.core.display.HTML object>"
            ],
            "text/html": []
          },
          "metadata": {}
        },
        {
          "output_type": "display_data",
          "data": {
            "text/plain": [
              "<IPython.core.display.HTML object>"
            ],
            "text/html": [
              "<br>    <style><br>        .wandb-row {<br>            display: flex;<br>            flex-direction: row;<br>            flex-wrap: wrap;<br>            justify-content: flex-start;<br>            width: 100%;<br>        }<br>        .wandb-col {<br>            display: flex;<br>            flex-direction: column;<br>            flex-basis: 100%;<br>            flex: 1;<br>            padding: 10px;<br>        }<br>    </style><br><div class=\"wandb-row\"><div class=\"wandb-col\"><h3>Run history:</h3><br/><table class=\"wandb\"><tr><td>accuracy_gap</td><td>▁▃▅▅▅▆▆▇▇█</td></tr><tr><td>best_val_accuracy</td><td>▁▃▃▅▆▆▇▇██</td></tr><tr><td>epoch</td><td>▁▂▃▃▄▅▆▆▇█</td></tr><tr><td>epoch_time</td><td>█▂▇▂▇▁▆▁▄▄</td></tr><tr><td>learning_rate</td><td>▁▁▁▁▁▁▁▁▁▁</td></tr><tr><td>loss_gap</td><td>▁▃▄▄▅▅▆▇▇█</td></tr><tr><td>overfitting_score</td><td>▁▃▄▅▅▅▆▇▇█</td></tr><tr><td>train_accuracy</td><td>▁▃▄▅▆▆▇▇██</td></tr><tr><td>train_loss</td><td>█▅▄▄▃▃▂▂▁▁</td></tr><tr><td>val_accuracy</td><td>▁▃▃▅▆▆▇▆█▇</td></tr><tr><td>val_loss</td><td>█▅▅▃▂▂▃▂▁▄</td></tr></table><br/></div><div class=\"wandb-col\"><h3>Run summary:</h3><br/><table class=\"wandb\"><tr><td>accuracy_gap</td><td>7.6125</td></tr><tr><td>best_val_accuracy</td><td>40.86371</td></tr><tr><td>epoch</td><td>10</td></tr><tr><td>epoch_time</td><td>17.86304</td></tr><tr><td>learning_rate</td><td>0.001</td></tr><tr><td>loss_gap</td><td>0.23247</td></tr><tr><td>overfitting_score</td><td>0.3086</td></tr><tr><td>train_accuracy</td><td>47.59393</td></tr><tr><td>train_loss</td><td>1.35639</td></tr><tr><td>val_accuracy</td><td>39.98143</td></tr><tr><td>val_loss</td><td>1.58886</td></tr></table><br/></div></div>"
            ]
          },
          "metadata": {}
        },
        {
          "output_type": "display_data",
          "data": {
            "text/plain": [
              "<IPython.core.display.HTML object>"
            ],
            "text/html": [
              " View run <strong style=\"color:#cdcd00\">Activation_leaky_relu</strong> at: <a href='https://wandb.ai/nipkha21-free-university-of-tbilisi-/facial-expression-recognition/runs/39ia4r4g' target=\"_blank\">https://wandb.ai/nipkha21-free-university-of-tbilisi-/facial-expression-recognition/runs/39ia4r4g</a><br> View project at: <a href='https://wandb.ai/nipkha21-free-university-of-tbilisi-/facial-expression-recognition' target=\"_blank\">https://wandb.ai/nipkha21-free-university-of-tbilisi-/facial-expression-recognition</a><br>Synced 5 W&B file(s), 1 media file(s), 2 artifact file(s) and 0 other file(s)"
            ]
          },
          "metadata": {}
        },
        {
          "output_type": "display_data",
          "data": {
            "text/plain": [
              "<IPython.core.display.HTML object>"
            ],
            "text/html": [
              "Find logs at: <code>./wandb/run-20250608_063012-39ia4r4g/logs</code>"
            ]
          },
          "metadata": {}
        },
        {
          "output_type": "stream",
          "name": "stdout",
          "text": [
            "Best validation accuracy: 40.86%\n",
            "\n",
            "Testing activation function: elu\n"
          ]
        },
        {
          "output_type": "display_data",
          "data": {
            "text/plain": [
              "<IPython.core.display.HTML object>"
            ],
            "text/html": [
              "Tracking run with wandb version 0.19.11"
            ]
          },
          "metadata": {}
        },
        {
          "output_type": "display_data",
          "data": {
            "text/plain": [
              "<IPython.core.display.HTML object>"
            ],
            "text/html": [
              "Run data is saved locally in <code>/content/wandb/run-20250608_063313-hlfr1wbj</code>"
            ]
          },
          "metadata": {}
        },
        {
          "output_type": "display_data",
          "data": {
            "text/plain": [
              "<IPython.core.display.HTML object>"
            ],
            "text/html": [
              "Syncing run <strong><a href='https://wandb.ai/nipkha21-free-university-of-tbilisi-/facial-expression-recognition/runs/hlfr1wbj' target=\"_blank\">Activation_elu</a></strong> to <a href='https://wandb.ai/nipkha21-free-university-of-tbilisi-/facial-expression-recognition' target=\"_blank\">Weights & Biases</a> (<a href='https://wandb.me/developer-guide' target=\"_blank\">docs</a>)<br>"
            ]
          },
          "metadata": {}
        },
        {
          "output_type": "display_data",
          "data": {
            "text/plain": [
              "<IPython.core.display.HTML object>"
            ],
            "text/html": [
              " View project at <a href='https://wandb.ai/nipkha21-free-university-of-tbilisi-/facial-expression-recognition' target=\"_blank\">https://wandb.ai/nipkha21-free-university-of-tbilisi-/facial-expression-recognition</a>"
            ]
          },
          "metadata": {}
        },
        {
          "output_type": "display_data",
          "data": {
            "text/plain": [
              "<IPython.core.display.HTML object>"
            ],
            "text/html": [
              " View run at <a href='https://wandb.ai/nipkha21-free-university-of-tbilisi-/facial-expression-recognition/runs/hlfr1wbj' target=\"_blank\">https://wandb.ai/nipkha21-free-university-of-tbilisi-/facial-expression-recognition/runs/hlfr1wbj</a>"
            ]
          },
          "metadata": {}
        },
        {
          "output_type": "stream",
          "name": "stdout",
          "text": [
            "Starting training for 10 epochs...\n"
          ]
        },
        {
          "output_type": "stream",
          "name": "stderr",
          "text": [
            "Training: 100%|██████████| 314/314 [00:15<00:00, 20.11it/s, Loss=1.8472, Acc=28.82%]\n",
            "Validation: 100%|██████████| 68/68 [00:02<00:00, 24.27it/s]\n"
          ]
        },
        {
          "output_type": "stream",
          "name": "stdout",
          "text": [
            "Epoch 1/10:\n",
            "  Train Loss: 1.8826, Train Acc: 28.82%\n",
            "  Val Loss: 1.7173, Val Acc: 33.06%\n",
            "  LR: 0.001000, Time: 18.43s\n",
            "  Overfitting Score: -0.2077\n",
            "--------------------------------------------------\n"
          ]
        },
        {
          "output_type": "stream",
          "name": "stderr",
          "text": [
            "Training: 100%|██████████| 314/314 [00:15<00:00, 19.94it/s, Loss=1.6074, Acc=33.42%]\n",
            "Validation: 100%|██████████| 68/68 [00:02<00:00, 31.06it/s]\n"
          ]
        },
        {
          "output_type": "stream",
          "name": "stdout",
          "text": [
            "Epoch 2/10:\n",
            "  Train Loss: 1.7113, Train Acc: 33.42%\n",
            "  Val Loss: 1.6339, Val Acc: 36.13%\n",
            "  LR: 0.001000, Time: 17.95s\n",
            "  Overfitting Score: -0.1044\n",
            "--------------------------------------------------\n"
          ]
        },
        {
          "output_type": "stream",
          "name": "stderr",
          "text": [
            "Training: 100%|██████████| 314/314 [00:15<00:00, 19.75it/s, Loss=1.5702, Acc=35.86%]\n",
            "Validation: 100%|██████████| 68/68 [00:02<00:00, 29.47it/s]\n"
          ]
        },
        {
          "output_type": "stream",
          "name": "stdout",
          "text": [
            "Epoch 3/10:\n",
            "  Train Loss: 1.6442, Train Acc: 35.86%\n",
            "  Val Loss: 1.6210, Val Acc: 37.13%\n",
            "  LR: 0.001000, Time: 18.21s\n",
            "  Overfitting Score: -0.0359\n",
            "--------------------------------------------------\n"
          ]
        },
        {
          "output_type": "stream",
          "name": "stderr",
          "text": [
            "Training: 100%|██████████| 314/314 [00:16<00:00, 19.29it/s, Loss=1.6608, Acc=37.24%]\n",
            "Validation: 100%|██████████| 68/68 [00:02<00:00, 30.09it/s]\n"
          ]
        },
        {
          "output_type": "stream",
          "name": "stdout",
          "text": [
            "Epoch 4/10:\n",
            "  Train Loss: 1.6000, Train Acc: 37.24%\n",
            "  Val Loss: 1.6078, Val Acc: 37.61%\n",
            "  LR: 0.001000, Time: 18.54s\n",
            "  Overfitting Score: 0.0042\n",
            "--------------------------------------------------\n"
          ]
        },
        {
          "output_type": "stream",
          "name": "stderr",
          "text": [
            "Training: 100%|██████████| 314/314 [00:15<00:00, 20.27it/s, Loss=1.5149, Acc=38.64%]\n",
            "Validation: 100%|██████████| 68/68 [00:02<00:00, 31.05it/s]\n"
          ]
        },
        {
          "output_type": "stream",
          "name": "stdout",
          "text": [
            "Epoch 5/10:\n",
            "  Train Loss: 1.5760, Train Acc: 38.64%\n",
            "  Val Loss: 1.6522, Val Acc: 34.97%\n",
            "  LR: 0.001000, Time: 17.69s\n",
            "  Overfitting Score: 0.1130\n",
            "--------------------------------------------------\n"
          ]
        },
        {
          "output_type": "stream",
          "name": "stderr",
          "text": [
            "Training: 100%|██████████| 314/314 [00:16<00:00, 19.39it/s, Loss=1.4612, Acc=39.29%]\n",
            "Validation: 100%|██████████| 68/68 [00:02<00:00, 31.18it/s]\n"
          ]
        },
        {
          "output_type": "stream",
          "name": "stdout",
          "text": [
            "Epoch 6/10:\n",
            "  Train Loss: 1.5562, Train Acc: 39.29%\n",
            "  Val Loss: 1.6964, Val Acc: 35.31%\n",
            "  LR: 0.001000, Time: 18.38s\n",
            "  Overfitting Score: 0.1799\n",
            "--------------------------------------------------\n"
          ]
        },
        {
          "output_type": "stream",
          "name": "stderr",
          "text": [
            "Training: 100%|██████████| 314/314 [00:15<00:00, 20.33it/s, Loss=1.5361, Acc=40.95%]\n",
            "Validation: 100%|██████████| 68/68 [00:02<00:00, 31.09it/s]\n"
          ]
        },
        {
          "output_type": "stream",
          "name": "stdout",
          "text": [
            "Epoch 7/10:\n",
            "  Train Loss: 1.5344, Train Acc: 40.95%\n",
            "  Val Loss: 1.7016, Val Acc: 34.27%\n",
            "  LR: 0.001000, Time: 17.64s\n",
            "  Overfitting Score: 0.2340\n",
            "--------------------------------------------------\n"
          ]
        },
        {
          "output_type": "stream",
          "name": "stderr",
          "text": [
            "Training: 100%|██████████| 314/314 [00:15<00:00, 19.73it/s, Loss=1.3723, Acc=41.24%]\n",
            "Validation: 100%|██████████| 68/68 [00:02<00:00, 23.61it/s]\n"
          ]
        },
        {
          "output_type": "stream",
          "name": "stdout",
          "text": [
            "Epoch 8/10:\n",
            "  Train Loss: 1.5171, Train Acc: 41.24%\n",
            "  Val Loss: 1.6312, Val Acc: 37.06%\n",
            "  LR: 0.001000, Time: 18.80s\n",
            "  Overfitting Score: 0.1559\n",
            "--------------------------------------------------\n"
          ]
        },
        {
          "output_type": "stream",
          "name": "stderr",
          "text": [
            "Training: 100%|██████████| 314/314 [00:15<00:00, 19.98it/s, Loss=1.3729, Acc=41.98%]\n",
            "Validation: 100%|██████████| 68/68 [00:02<00:00, 30.72it/s]\n"
          ]
        },
        {
          "output_type": "stream",
          "name": "stdout",
          "text": [
            "Epoch 9/10:\n",
            "  Train Loss: 1.4971, Train Acc: 41.98%\n",
            "  Val Loss: 1.6002, Val Acc: 37.75%\n",
            "  LR: 0.001000, Time: 17.94s\n",
            "  Overfitting Score: 0.1454\n",
            "--------------------------------------------------\n"
          ]
        },
        {
          "output_type": "stream",
          "name": "stderr",
          "text": [
            "Training: 100%|██████████| 314/314 [00:15<00:00, 20.19it/s, Loss=1.6605, Acc=42.55%]\n",
            "Validation: 100%|██████████| 68/68 [00:03<00:00, 20.90it/s]\n"
          ]
        },
        {
          "output_type": "stream",
          "name": "stdout",
          "text": [
            "Epoch 10/10:\n",
            "  Train Loss: 1.4835, Train Acc: 42.55%\n",
            "  Val Loss: 1.7652, Val Acc: 34.39%\n",
            "  LR: 0.001000, Time: 18.82s\n",
            "  Overfitting Score: 0.3633\n",
            "--------------------------------------------------\n",
            "Loaded best model with validation accuracy: 37.75%\n"
          ]
        },
        {
          "output_type": "display_data",
          "data": {
            "text/plain": [
              "<IPython.core.display.HTML object>"
            ],
            "text/html": []
          },
          "metadata": {}
        },
        {
          "output_type": "display_data",
          "data": {
            "text/plain": [
              "<IPython.core.display.HTML object>"
            ],
            "text/html": [
              "<br>    <style><br>        .wandb-row {<br>            display: flex;<br>            flex-direction: row;<br>            flex-wrap: wrap;<br>            justify-content: flex-start;<br>            width: 100%;<br>        }<br>        .wandb-col {<br>            display: flex;<br>            flex-direction: column;<br>            flex-basis: 100%;<br>            flex: 1;<br>            padding: 10px;<br>        }<br>    </style><br><div class=\"wandb-row\"><div class=\"wandb-col\"><h3>Run history:</h3><br/><table class=\"wandb\"><tr><td>accuracy_gap</td><td>▁▂▃▃▅▆▇▆▆█</td></tr><tr><td>best_val_accuracy</td><td>▁▆▇███████</td></tr><tr><td>epoch</td><td>▁▂▃▃▄▅▆▆▇█</td></tr><tr><td>epoch_time</td><td>▆▃▄▆▁▅▁█▃█</td></tr><tr><td>learning_rate</td><td>▁▁▁▁▁▁▁▁▁▁</td></tr><tr><td>loss_gap</td><td>▁▂▃▄▅▆▆▅▅█</td></tr><tr><td>overfitting_score</td><td>▁▂▃▄▅▆▆▅▅█</td></tr><tr><td>train_accuracy</td><td>▁▃▅▅▆▆▇▇██</td></tr><tr><td>train_loss</td><td>█▅▄▃▃▂▂▂▁▁</td></tr><tr><td>val_accuracy</td><td>▁▆▇█▄▄▃▇█▃</td></tr><tr><td>val_loss</td><td>▆▂▂▁▃▅▅▂▁█</td></tr></table><br/></div><div class=\"wandb-col\"><h3>Run summary:</h3><br/><table class=\"wandb\"><tr><td>accuracy_gap</td><td>8.16201</td></tr><tr><td>best_val_accuracy</td><td>37.7525</td></tr><tr><td>epoch</td><td>10</td></tr><tr><td>epoch_time</td><td>18.81945</td></tr><tr><td>learning_rate</td><td>0.001</td></tr><tr><td>loss_gap</td><td>0.28171</td></tr><tr><td>overfitting_score</td><td>0.36333</td></tr><tr><td>train_accuracy</td><td>42.5479</td></tr><tr><td>train_loss</td><td>1.48351</td></tr><tr><td>val_accuracy</td><td>34.38588</td></tr><tr><td>val_loss</td><td>1.76522</td></tr></table><br/></div></div>"
            ]
          },
          "metadata": {}
        },
        {
          "output_type": "display_data",
          "data": {
            "text/plain": [
              "<IPython.core.display.HTML object>"
            ],
            "text/html": [
              " View run <strong style=\"color:#cdcd00\">Activation_elu</strong> at: <a href='https://wandb.ai/nipkha21-free-university-of-tbilisi-/facial-expression-recognition/runs/hlfr1wbj' target=\"_blank\">https://wandb.ai/nipkha21-free-university-of-tbilisi-/facial-expression-recognition/runs/hlfr1wbj</a><br> View project at: <a href='https://wandb.ai/nipkha21-free-university-of-tbilisi-/facial-expression-recognition' target=\"_blank\">https://wandb.ai/nipkha21-free-university-of-tbilisi-/facial-expression-recognition</a><br>Synced 5 W&B file(s), 1 media file(s), 2 artifact file(s) and 0 other file(s)"
            ]
          },
          "metadata": {}
        },
        {
          "output_type": "display_data",
          "data": {
            "text/plain": [
              "<IPython.core.display.HTML object>"
            ],
            "text/html": [
              "Find logs at: <code>./wandb/run-20250608_063313-hlfr1wbj/logs</code>"
            ]
          },
          "metadata": {}
        },
        {
          "output_type": "stream",
          "name": "stdout",
          "text": [
            "Best validation accuracy: 37.75%\n",
            "\n",
            "Testing activation function: tanh\n"
          ]
        },
        {
          "output_type": "display_data",
          "data": {
            "text/plain": [
              "<IPython.core.display.HTML object>"
            ],
            "text/html": [
              "Tracking run with wandb version 0.19.11"
            ]
          },
          "metadata": {}
        },
        {
          "output_type": "display_data",
          "data": {
            "text/plain": [
              "<IPython.core.display.HTML object>"
            ],
            "text/html": [
              "Run data is saved locally in <code>/content/wandb/run-20250608_063618-bc5t5c57</code>"
            ]
          },
          "metadata": {}
        },
        {
          "output_type": "display_data",
          "data": {
            "text/plain": [
              "<IPython.core.display.HTML object>"
            ],
            "text/html": [
              "Syncing run <strong><a href='https://wandb.ai/nipkha21-free-university-of-tbilisi-/facial-expression-recognition/runs/bc5t5c57' target=\"_blank\">Activation_tanh</a></strong> to <a href='https://wandb.ai/nipkha21-free-university-of-tbilisi-/facial-expression-recognition' target=\"_blank\">Weights & Biases</a> (<a href='https://wandb.me/developer-guide' target=\"_blank\">docs</a>)<br>"
            ]
          },
          "metadata": {}
        },
        {
          "output_type": "display_data",
          "data": {
            "text/plain": [
              "<IPython.core.display.HTML object>"
            ],
            "text/html": [
              " View project at <a href='https://wandb.ai/nipkha21-free-university-of-tbilisi-/facial-expression-recognition' target=\"_blank\">https://wandb.ai/nipkha21-free-university-of-tbilisi-/facial-expression-recognition</a>"
            ]
          },
          "metadata": {}
        },
        {
          "output_type": "display_data",
          "data": {
            "text/plain": [
              "<IPython.core.display.HTML object>"
            ],
            "text/html": [
              " View run at <a href='https://wandb.ai/nipkha21-free-university-of-tbilisi-/facial-expression-recognition/runs/bc5t5c57' target=\"_blank\">https://wandb.ai/nipkha21-free-university-of-tbilisi-/facial-expression-recognition/runs/bc5t5c57</a>"
            ]
          },
          "metadata": {}
        },
        {
          "output_type": "stream",
          "name": "stdout",
          "text": [
            "Starting training for 10 epochs...\n"
          ]
        },
        {
          "output_type": "stream",
          "name": "stderr",
          "text": [
            "Training: 100%|██████████| 314/314 [00:16<00:00, 19.52it/s, Loss=1.6840, Acc=28.11%]\n",
            "Validation: 100%|██████████| 68/68 [00:02<00:00, 30.72it/s]\n"
          ]
        },
        {
          "output_type": "stream",
          "name": "stdout",
          "text": [
            "Epoch 1/10:\n",
            "  Train Loss: 1.8703, Train Acc: 28.11%\n",
            "  Val Loss: 1.6956, Val Acc: 33.16%\n",
            "  LR: 0.001000, Time: 18.31s\n",
            "  Overfitting Score: -0.2252\n",
            "--------------------------------------------------\n"
          ]
        },
        {
          "output_type": "stream",
          "name": "stderr",
          "text": [
            "Training: 100%|██████████| 314/314 [00:16<00:00, 18.81it/s, Loss=1.7167, Acc=33.66%]\n",
            "Validation: 100%|██████████| 68/68 [00:02<00:00, 29.84it/s]\n"
          ]
        },
        {
          "output_type": "stream",
          "name": "stdout",
          "text": [
            "Epoch 2/10:\n",
            "  Train Loss: 1.6990, Train Acc: 33.66%\n",
            "  Val Loss: 1.6398, Val Acc: 36.29%\n",
            "  LR: 0.001000, Time: 18.98s\n",
            "  Overfitting Score: -0.0856\n",
            "--------------------------------------------------\n"
          ]
        },
        {
          "output_type": "stream",
          "name": "stderr",
          "text": [
            "Training: 100%|██████████| 314/314 [00:15<00:00, 19.85it/s, Loss=1.6944, Acc=35.77%]\n",
            "Validation: 100%|██████████| 68/68 [00:02<00:00, 29.23it/s]\n"
          ]
        },
        {
          "output_type": "stream",
          "name": "stdout",
          "text": [
            "Epoch 3/10:\n",
            "  Train Loss: 1.6456, Train Acc: 35.77%\n",
            "  Val Loss: 1.6346, Val Acc: 36.08%\n",
            "  LR: 0.001000, Time: 18.15s\n",
            "  Overfitting Score: -0.0142\n",
            "--------------------------------------------------\n"
          ]
        },
        {
          "output_type": "stream",
          "name": "stderr",
          "text": [
            "Training: 100%|██████████| 314/314 [00:16<00:00, 19.30it/s, Loss=1.6846, Acc=36.80%]\n",
            "Validation: 100%|██████████| 68/68 [00:02<00:00, 26.22it/s]\n"
          ]
        },
        {
          "output_type": "stream",
          "name": "stdout",
          "text": [
            "Epoch 4/10:\n",
            "  Train Loss: 1.6111, Train Acc: 36.80%\n",
            "  Val Loss: 1.6721, Val Acc: 34.78%\n",
            "  LR: 0.001000, Time: 18.87s\n",
            "  Overfitting Score: 0.0812\n",
            "--------------------------------------------------\n"
          ]
        },
        {
          "output_type": "stream",
          "name": "stderr",
          "text": [
            "Training: 100%|██████████| 314/314 [00:15<00:00, 19.76it/s, Loss=1.7232, Acc=37.70%]\n",
            "Validation: 100%|██████████| 68/68 [00:02<00:00, 29.10it/s]\n"
          ]
        },
        {
          "output_type": "stream",
          "name": "stdout",
          "text": [
            "Epoch 5/10:\n",
            "  Train Loss: 1.5884, Train Acc: 37.70%\n",
            "  Val Loss: 1.6594, Val Acc: 35.13%\n",
            "  LR: 0.001000, Time: 18.24s\n",
            "  Overfitting Score: 0.0967\n",
            "--------------------------------------------------\n"
          ]
        },
        {
          "output_type": "stream",
          "name": "stderr",
          "text": [
            "Training: 100%|██████████| 314/314 [00:15<00:00, 19.67it/s, Loss=1.4993, Acc=38.81%]\n",
            "Validation: 100%|██████████| 68/68 [00:02<00:00, 24.89it/s]\n"
          ]
        },
        {
          "output_type": "stream",
          "name": "stdout",
          "text": [
            "Epoch 6/10:\n",
            "  Train Loss: 1.5690, Train Acc: 38.81%\n",
            "  Val Loss: 1.6803, Val Acc: 33.57%\n",
            "  LR: 0.001000, Time: 18.70s\n",
            "  Overfitting Score: 0.1636\n",
            "--------------------------------------------------\n"
          ]
        },
        {
          "output_type": "stream",
          "name": "stderr",
          "text": [
            "Training: 100%|██████████| 314/314 [00:15<00:00, 20.14it/s, Loss=1.5811, Acc=39.92%]\n",
            "Validation: 100%|██████████| 68/68 [00:02<00:00, 30.82it/s]\n"
          ]
        },
        {
          "output_type": "stream",
          "name": "stdout",
          "text": [
            "Epoch 7/10:\n",
            "  Train Loss: 1.5507, Train Acc: 39.92%\n",
            "  Val Loss: 1.6225, Val Acc: 36.61%\n",
            "  LR: 0.001000, Time: 17.81s\n",
            "  Overfitting Score: 0.1048\n",
            "--------------------------------------------------\n"
          ]
        },
        {
          "output_type": "stream",
          "name": "stderr",
          "text": [
            "Training: 100%|██████████| 314/314 [00:15<00:00, 20.25it/s, Loss=1.5311, Acc=40.29%]\n",
            "Validation: 100%|██████████| 68/68 [00:03<00:00, 22.04it/s]\n"
          ]
        },
        {
          "output_type": "stream",
          "name": "stdout",
          "text": [
            "Epoch 8/10:\n",
            "  Train Loss: 1.5331, Train Acc: 40.29%\n",
            "  Val Loss: 1.6434, Val Acc: 35.73%\n",
            "  LR: 0.001000, Time: 18.59s\n",
            "  Overfitting Score: 0.1558\n",
            "--------------------------------------------------\n"
          ]
        },
        {
          "output_type": "stream",
          "name": "stderr",
          "text": [
            "Training: 100%|██████████| 314/314 [00:15<00:00, 20.07it/s, Loss=1.5214, Acc=41.57%]\n",
            "Validation: 100%|██████████| 68/68 [00:02<00:00, 29.71it/s]\n"
          ]
        },
        {
          "output_type": "stream",
          "name": "stdout",
          "text": [
            "Epoch 9/10:\n",
            "  Train Loss: 1.5114, Train Acc: 41.57%\n",
            "  Val Loss: 1.6227, Val Acc: 38.17%\n",
            "  LR: 0.001000, Time: 17.95s\n",
            "  Overfitting Score: 0.1453\n",
            "--------------------------------------------------\n"
          ]
        },
        {
          "output_type": "stream",
          "name": "stderr",
          "text": [
            "Training: 100%|██████████| 314/314 [00:15<00:00, 20.25it/s, Loss=1.4825, Acc=42.03%]\n",
            "Validation: 100%|██████████| 68/68 [00:02<00:00, 24.92it/s]\n"
          ]
        },
        {
          "output_type": "stream",
          "name": "stdout",
          "text": [
            "Epoch 10/10:\n",
            "  Train Loss: 1.4972, Train Acc: 42.03%\n",
            "  Val Loss: 1.6559, Val Acc: 34.57%\n",
            "  LR: 0.001000, Time: 18.24s\n",
            "  Overfitting Score: 0.2332\n",
            "--------------------------------------------------\n",
            "Loaded best model with validation accuracy: 38.17%\n"
          ]
        },
        {
          "output_type": "display_data",
          "data": {
            "text/plain": [
              "<IPython.core.display.HTML object>"
            ],
            "text/html": []
          },
          "metadata": {}
        },
        {
          "output_type": "display_data",
          "data": {
            "text/plain": [
              "<IPython.core.display.HTML object>"
            ],
            "text/html": [
              "<br>    <style><br>        .wandb-row {<br>            display: flex;<br>            flex-direction: row;<br>            flex-wrap: wrap;<br>            justify-content: flex-start;<br>            width: 100%;<br>        }<br>        .wandb-col {<br>            display: flex;<br>            flex-direction: column;<br>            flex-basis: 100%;<br>            flex: 1;<br>            padding: 10px;<br>        }<br>    </style><br><div class=\"wandb-row\"><div class=\"wandb-col\"><h3>Run history:</h3><br/><table class=\"wandb\"><tr><td>accuracy_gap</td><td>▁▂▄▅▅▇▆▆▆█</td></tr><tr><td>best_val_accuracy</td><td>▁▅▅▅▅▅▆▆██</td></tr><tr><td>epoch</td><td>▁▂▃▃▄▅▆▆▇█</td></tr><tr><td>epoch_time</td><td>▄█▃▇▄▆▁▆▂▄</td></tr><tr><td>learning_rate</td><td>▁▁▁▁▁▁▁▁▁▁</td></tr><tr><td>loss_gap</td><td>▁▃▄▆▆▇▆▇▇█</td></tr><tr><td>overfitting_score</td><td>▁▃▄▆▆▇▆▇▇█</td></tr><tr><td>train_accuracy</td><td>▁▄▅▅▆▆▇▇██</td></tr><tr><td>train_loss</td><td>█▅▄▃▃▂▂▂▁▁</td></tr><tr><td>val_accuracy</td><td>▁▅▅▃▄▂▆▅█▃</td></tr><tr><td>val_loss</td><td>█▃▂▆▅▇▁▃▁▄</td></tr></table><br/></div><div class=\"wandb-col\"><h3>Run summary:</h3><br/><table class=\"wandb\"><tr><td>accuracy_gap</td><td>7.45375</td></tr><tr><td>best_val_accuracy</td><td>38.17042</td></tr><tr><td>epoch</td><td>10</td></tr><tr><td>epoch_time</td><td>18.24159</td></tr><tr><td>learning_rate</td><td>0.001</td></tr><tr><td>loss_gap</td><td>0.15871</td></tr><tr><td>overfitting_score</td><td>0.23325</td></tr><tr><td>train_accuracy</td><td>42.02538</td></tr><tr><td>train_loss</td><td>1.49718</td></tr><tr><td>val_accuracy</td><td>34.57163</td></tr><tr><td>val_loss</td><td>1.6559</td></tr></table><br/></div></div>"
            ]
          },
          "metadata": {}
        },
        {
          "output_type": "display_data",
          "data": {
            "text/plain": [
              "<IPython.core.display.HTML object>"
            ],
            "text/html": [
              " View run <strong style=\"color:#cdcd00\">Activation_tanh</strong> at: <a href='https://wandb.ai/nipkha21-free-university-of-tbilisi-/facial-expression-recognition/runs/bc5t5c57' target=\"_blank\">https://wandb.ai/nipkha21-free-university-of-tbilisi-/facial-expression-recognition/runs/bc5t5c57</a><br> View project at: <a href='https://wandb.ai/nipkha21-free-university-of-tbilisi-/facial-expression-recognition' target=\"_blank\">https://wandb.ai/nipkha21-free-university-of-tbilisi-/facial-expression-recognition</a><br>Synced 5 W&B file(s), 1 media file(s), 2 artifact file(s) and 0 other file(s)"
            ]
          },
          "metadata": {}
        },
        {
          "output_type": "display_data",
          "data": {
            "text/plain": [
              "<IPython.core.display.HTML object>"
            ],
            "text/html": [
              "Find logs at: <code>./wandb/run-20250608_063618-bc5t5c57/logs</code>"
            ]
          },
          "metadata": {}
        },
        {
          "output_type": "stream",
          "name": "stdout",
          "text": [
            "Best validation accuracy: 38.17%\n",
            "\n",
            "=== ACTIVATION FUNCTION ANALYSIS ===\n",
            "Best activation function: leaky_relu\n",
            "relu: 40.59%\n",
            "leaky_relu: 40.86%\n",
            "elu: 37.75%\n",
            "tanh: 38.17%\n"
          ]
        }
      ]
    },
    {
      "cell_type": "code",
      "source": [
        "print(\"=== OPTIMIZER COMPARISON ===\")\n",
        "\n",
        "optimizers_config = {\n",
        "    'adam': {'class': optim.Adam, 'kwargs': {'lr': 0.001}},\n",
        "    'sgd': {'class': optim.SGD, 'kwargs': {'lr': 0.01, 'momentum': 0.9}},\n",
        "    'sgd_nesterov': {'class': optim.SGD, 'kwargs': {'lr': 0.01, 'momentum': 0.9, 'nesterov': True}},\n",
        "    'rmsprop': {'class': optim.RMSprop, 'kwargs': {'lr': 0.001, 'alpha': 0.99}},\n",
        "}\n",
        "\n",
        "optimizer_results = {}\n",
        "\n",
        "for opt_name, opt_config in optimizers_config.items():\n",
        "    print(f\"\\nTesting optimizer: {opt_name}\")\n",
        "\n",
        "    train_dataset = MLPFacialExpressionDataset(train_df, normalization='standard')\n",
        "    val_dataset = MLPFacialExpressionDataset(val_df, normalization='standard')\n",
        "\n",
        "    train_loader = DataLoader(train_dataset, batch_size=64, shuffle=True)\n",
        "    val_loader = DataLoader(val_dataset, batch_size=64, shuffle=False)\n",
        "\n",
        "    model = AdvancedMLP(\n",
        "        input_size=2304,\n",
        "        hidden_sizes=[512, 256],\n",
        "        num_classes=7,\n",
        "        dropout_rate=0.3\n",
        "    )\n",
        "\n",
        "    criterion = nn.CrossEntropyLoss()\n",
        "    optimizer = opt_config['class'](model.parameters(), **opt_config['kwargs'])\n",
        "\n",
        "    trainer = AdvancedTrainer(\n",
        "        model=model,\n",
        "        train_loader=train_loader,\n",
        "        val_loader=val_loader,\n",
        "        criterion=criterion,\n",
        "        optimizer=optimizer,\n",
        "        device=device,\n",
        "        experiment_name=\"Advanced_MLP_Training\",\n",
        "        run_name=f\"Optimizer_{opt_name}\"\n",
        "    )\n",
        "\n",
        "    history = trainer.train(epochs=10, early_stopping_patience=7)\n",
        "\n",
        "    optimizer_results[opt_name] = {\n",
        "        'best_val_acc': trainer.best_val_acc,\n",
        "        'final_train_acc': history['train_acc'][-1],\n",
        "        'final_val_acc': history['val_acc'][-1],\n",
        "        'training_stability': np.std(history['val_acc'][-10:])\n",
        "    }\n",
        "\n",
        "    wandb.finish()\n",
        "\n",
        "    print(f\"Best validation accuracy: {trainer.best_val_acc:.2f}%\")\n",
        "\n",
        "print(\"\\n=== OPTIMIZER ANALYSIS ===\")\n",
        "best_optimizer = max(optimizer_results.keys(), key=lambda x: optimizer_results[x]['best_val_acc'])\n",
        "print(f\"Best optimizer: {best_optimizer}\")\n",
        "\n",
        "for opt_name, results in optimizer_results.items():\n",
        "    print(f\"{opt_name}: {results['best_val_acc']:.2f}% (stability: {results['training_stability']:.4f})\")"
      ],
      "metadata": {
        "colab": {
          "base_uri": "https://localhost:8080/",
          "height": 1000
        },
        "id": "RMtZoZ36Mr8C",
        "outputId": "bd455402-27f1-4147-c13b-3693e2b703cc"
      },
      "execution_count": 12,
      "outputs": [
        {
          "output_type": "stream",
          "name": "stdout",
          "text": [
            "=== OPTIMIZER COMPARISON ===\n",
            "\n",
            "Testing optimizer: adam\n"
          ]
        },
        {
          "output_type": "display_data",
          "data": {
            "text/plain": [
              "<IPython.core.display.HTML object>"
            ],
            "text/html": [
              "Tracking run with wandb version 0.19.11"
            ]
          },
          "metadata": {}
        },
        {
          "output_type": "display_data",
          "data": {
            "text/plain": [
              "<IPython.core.display.HTML object>"
            ],
            "text/html": [
              "Run data is saved locally in <code>/content/wandb/run-20250608_063934-j3y1do5l</code>"
            ]
          },
          "metadata": {}
        },
        {
          "output_type": "display_data",
          "data": {
            "text/plain": [
              "<IPython.core.display.HTML object>"
            ],
            "text/html": [
              "Syncing run <strong><a href='https://wandb.ai/nipkha21-free-university-of-tbilisi-/facial-expression-recognition/runs/j3y1do5l' target=\"_blank\">Optimizer_adam</a></strong> to <a href='https://wandb.ai/nipkha21-free-university-of-tbilisi-/facial-expression-recognition' target=\"_blank\">Weights & Biases</a> (<a href='https://wandb.me/developer-guide' target=\"_blank\">docs</a>)<br>"
            ]
          },
          "metadata": {}
        },
        {
          "output_type": "display_data",
          "data": {
            "text/plain": [
              "<IPython.core.display.HTML object>"
            ],
            "text/html": [
              " View project at <a href='https://wandb.ai/nipkha21-free-university-of-tbilisi-/facial-expression-recognition' target=\"_blank\">https://wandb.ai/nipkha21-free-university-of-tbilisi-/facial-expression-recognition</a>"
            ]
          },
          "metadata": {}
        },
        {
          "output_type": "display_data",
          "data": {
            "text/plain": [
              "<IPython.core.display.HTML object>"
            ],
            "text/html": [
              " View run at <a href='https://wandb.ai/nipkha21-free-university-of-tbilisi-/facial-expression-recognition/runs/j3y1do5l' target=\"_blank\">https://wandb.ai/nipkha21-free-university-of-tbilisi-/facial-expression-recognition/runs/j3y1do5l</a>"
            ]
          },
          "metadata": {}
        },
        {
          "output_type": "stream",
          "name": "stdout",
          "text": [
            "Starting training for 10 epochs...\n"
          ]
        },
        {
          "output_type": "stream",
          "name": "stderr",
          "text": [
            "Training: 100%|██████████| 314/314 [00:15<00:00, 20.37it/s, Loss=1.7518, Acc=29.53%]\n",
            "Validation: 100%|██████████| 68/68 [00:02<00:00, 30.90it/s]\n"
          ]
        },
        {
          "output_type": "stream",
          "name": "stdout",
          "text": [
            "Epoch 1/10:\n",
            "  Train Loss: 1.8258, Train Acc: 29.53%\n",
            "  Val Loss: 1.6529, Val Acc: 35.55%\n",
            "  LR: 0.001000, Time: 17.62s\n",
            "  Overfitting Score: -0.2330\n",
            "--------------------------------------------------\n"
          ]
        },
        {
          "output_type": "stream",
          "name": "stderr",
          "text": [
            "Training: 100%|██████████| 314/314 [00:16<00:00, 19.46it/s, Loss=1.8188, Acc=35.69%]\n",
            "Validation: 100%|██████████| 68/68 [00:03<00:00, 21.40it/s]\n"
          ]
        },
        {
          "output_type": "stream",
          "name": "stdout",
          "text": [
            "Epoch 2/10:\n",
            "  Train Loss: 1.6490, Train Acc: 35.69%\n",
            "  Val Loss: 1.6146, Val Acc: 35.87%\n",
            "  LR: 0.001000, Time: 19.32s\n",
            "  Overfitting Score: -0.0361\n",
            "--------------------------------------------------\n"
          ]
        },
        {
          "output_type": "stream",
          "name": "stderr",
          "text": [
            "Training: 100%|██████████| 314/314 [00:16<00:00, 19.44it/s, Loss=1.5953, Acc=38.01%]\n",
            "Validation: 100%|██████████| 68/68 [00:02<00:00, 29.72it/s]\n"
          ]
        },
        {
          "output_type": "stream",
          "name": "stdout",
          "text": [
            "Epoch 3/10:\n",
            "  Train Loss: 1.5868, Train Acc: 38.01%\n",
            "  Val Loss: 1.5829, Val Acc: 37.71%\n",
            "  LR: 0.001000, Time: 18.45s\n",
            "  Overfitting Score: -0.0009\n",
            "--------------------------------------------------\n"
          ]
        },
        {
          "output_type": "stream",
          "name": "stderr",
          "text": [
            "Training: 100%|██████████| 314/314 [00:15<00:00, 20.18it/s, Loss=1.5142, Acc=39.63%]\n",
            "Validation: 100%|██████████| 68/68 [00:02<00:00, 24.68it/s]\n"
          ]
        },
        {
          "output_type": "stream",
          "name": "stdout",
          "text": [
            "Epoch 4/10:\n",
            "  Train Loss: 1.5445, Train Acc: 39.63%\n",
            "  Val Loss: 1.5945, Val Acc: 36.99%\n",
            "  LR: 0.001000, Time: 18.33s\n",
            "  Overfitting Score: 0.0764\n",
            "--------------------------------------------------\n"
          ]
        },
        {
          "output_type": "stream",
          "name": "stderr",
          "text": [
            "Training: 100%|██████████| 314/314 [00:15<00:00, 19.98it/s, Loss=1.6859, Acc=41.21%]\n",
            "Validation: 100%|██████████| 68/68 [00:02<00:00, 30.54it/s]\n"
          ]
        },
        {
          "output_type": "stream",
          "name": "stdout",
          "text": [
            "Epoch 5/10:\n",
            "  Train Loss: 1.5023, Train Acc: 41.21%\n",
            "  Val Loss: 1.6566, Val Acc: 36.15%\n",
            "  LR: 0.001000, Time: 17.95s\n",
            "  Overfitting Score: 0.2049\n",
            "--------------------------------------------------\n"
          ]
        },
        {
          "output_type": "stream",
          "name": "stderr",
          "text": [
            "Training: 100%|██████████| 314/314 [00:16<00:00, 18.77it/s, Loss=1.5147, Acc=42.63%]\n",
            "Validation: 100%|██████████| 68/68 [00:02<00:00, 29.12it/s]\n"
          ]
        },
        {
          "output_type": "stream",
          "name": "stdout",
          "text": [
            "Epoch 6/10:\n",
            "  Train Loss: 1.4676, Train Acc: 42.63%\n",
            "  Val Loss: 1.5361, Val Acc: 40.35%\n",
            "  LR: 0.001000, Time: 19.08s\n",
            "  Overfitting Score: 0.0912\n",
            "--------------------------------------------------\n"
          ]
        },
        {
          "output_type": "stream",
          "name": "stderr",
          "text": [
            "Training: 100%|██████████| 314/314 [00:16<00:00, 19.29it/s, Loss=1.4531, Acc=44.02%]\n",
            "Validation: 100%|██████████| 68/68 [00:02<00:00, 30.88it/s]\n"
          ]
        },
        {
          "output_type": "stream",
          "name": "stdout",
          "text": [
            "Epoch 7/10:\n",
            "  Train Loss: 1.4468, Train Acc: 44.02%\n",
            "  Val Loss: 1.6090, Val Acc: 37.52%\n",
            "  LR: 0.001000, Time: 18.49s\n",
            "  Overfitting Score: 0.2272\n",
            "--------------------------------------------------\n"
          ]
        },
        {
          "output_type": "stream",
          "name": "stderr",
          "text": [
            "Training: 100%|██████████| 314/314 [00:15<00:00, 20.46it/s, Loss=1.3363, Acc=45.45%]\n",
            "Validation: 100%|██████████| 68/68 [00:02<00:00, 29.39it/s]\n"
          ]
        },
        {
          "output_type": "stream",
          "name": "stdout",
          "text": [
            "Epoch 8/10:\n",
            "  Train Loss: 1.4155, Train Acc: 45.45%\n",
            "  Val Loss: 1.5889, Val Acc: 36.92%\n",
            "  LR: 0.001000, Time: 17.68s\n",
            "  Overfitting Score: 0.2587\n",
            "--------------------------------------------------\n"
          ]
        },
        {
          "output_type": "stream",
          "name": "stderr",
          "text": [
            "Training: 100%|██████████| 314/314 [00:16<00:00, 19.22it/s, Loss=1.3270, Acc=46.57%]\n",
            "Validation: 100%|██████████| 68/68 [00:02<00:00, 28.87it/s]\n"
          ]
        },
        {
          "output_type": "stream",
          "name": "stdout",
          "text": [
            "Epoch 9/10:\n",
            "  Train Loss: 1.3834, Train Acc: 46.57%\n",
            "  Val Loss: 1.5475, Val Acc: 38.96%\n",
            "  LR: 0.001000, Time: 18.71s\n",
            "  Overfitting Score: 0.2402\n",
            "--------------------------------------------------\n"
          ]
        },
        {
          "output_type": "stream",
          "name": "stderr",
          "text": [
            "Training: 100%|██████████| 314/314 [00:15<00:00, 20.35it/s, Loss=1.3185, Acc=47.83%]\n",
            "Validation: 100%|██████████| 68/68 [00:02<00:00, 28.09it/s]\n"
          ]
        },
        {
          "output_type": "stream",
          "name": "stdout",
          "text": [
            "Epoch 10/10:\n",
            "  Train Loss: 1.3526, Train Acc: 47.83%\n",
            "  Val Loss: 1.5834, Val Acc: 39.70%\n",
            "  LR: 0.001000, Time: 17.86s\n",
            "  Overfitting Score: 0.3121\n",
            "--------------------------------------------------\n",
            "Loaded best model with validation accuracy: 40.35%\n"
          ]
        },
        {
          "output_type": "display_data",
          "data": {
            "text/plain": [
              "<IPython.core.display.HTML object>"
            ],
            "text/html": []
          },
          "metadata": {}
        },
        {
          "output_type": "display_data",
          "data": {
            "text/plain": [
              "<IPython.core.display.HTML object>"
            ],
            "text/html": [
              "<br>    <style><br>        .wandb-row {<br>            display: flex;<br>            flex-direction: row;<br>            flex-wrap: wrap;<br>            justify-content: flex-start;<br>            width: 100%;<br>        }<br>        .wandb-col {<br>            display: flex;<br>            flex-direction: column;<br>            flex-basis: 100%;<br>            flex: 1;<br>            padding: 10px;<br>        }<br>    </style><br><div class=\"wandb-row\"><div class=\"wandb-col\"><h3>Run history:</h3><br/><table class=\"wandb\"><tr><td>accuracy_gap</td><td>▁▄▄▅▆▅▇███</td></tr><tr><td>best_val_accuracy</td><td>▁▁▄▄▄█████</td></tr><tr><td>epoch</td><td>▁▂▃▃▄▅▆▆▇█</td></tr><tr><td>epoch_time</td><td>▁█▄▄▂▇▅▁▅▂</td></tr><tr><td>learning_rate</td><td>▁▁▁▁▁▁▁▁▁▁</td></tr><tr><td>loss_gap</td><td>▁▃▄▅▇▅▇▇▇█</td></tr><tr><td>overfitting_score</td><td>▁▄▄▅▇▅▇▇▇█</td></tr><tr><td>train_accuracy</td><td>▁▃▄▅▅▆▇▇██</td></tr><tr><td>train_loss</td><td>█▅▄▄▃▃▂▂▁▁</td></tr><tr><td>val_accuracy</td><td>▁▁▄▃▂█▄▃▆▇</td></tr><tr><td>val_loss</td><td>█▆▄▄█▁▅▄▂▄</td></tr></table><br/></div><div class=\"wandb-col\"><h3>Run summary:</h3><br/><table class=\"wandb\"><tr><td>accuracy_gap</td><td>8.12998</td></tr><tr><td>best_val_accuracy</td><td>40.35291</td></tr><tr><td>epoch</td><td>10</td></tr><tr><td>epoch_time</td><td>17.86216</td></tr><tr><td>learning_rate</td><td>0.001</td></tr><tr><td>loss_gap</td><td>0.23076</td></tr><tr><td>overfitting_score</td><td>0.31206</td></tr><tr><td>train_accuracy</td><td>47.83279</td></tr><tr><td>train_loss</td><td>1.3526</td></tr><tr><td>val_accuracy</td><td>39.70281</td></tr><tr><td>val_loss</td><td>1.58336</td></tr></table><br/></div></div>"
            ]
          },
          "metadata": {}
        },
        {
          "output_type": "display_data",
          "data": {
            "text/plain": [
              "<IPython.core.display.HTML object>"
            ],
            "text/html": [
              " View run <strong style=\"color:#cdcd00\">Optimizer_adam</strong> at: <a href='https://wandb.ai/nipkha21-free-university-of-tbilisi-/facial-expression-recognition/runs/j3y1do5l' target=\"_blank\">https://wandb.ai/nipkha21-free-university-of-tbilisi-/facial-expression-recognition/runs/j3y1do5l</a><br> View project at: <a href='https://wandb.ai/nipkha21-free-university-of-tbilisi-/facial-expression-recognition' target=\"_blank\">https://wandb.ai/nipkha21-free-university-of-tbilisi-/facial-expression-recognition</a><br>Synced 5 W&B file(s), 1 media file(s), 2 artifact file(s) and 0 other file(s)"
            ]
          },
          "metadata": {}
        },
        {
          "output_type": "display_data",
          "data": {
            "text/plain": [
              "<IPython.core.display.HTML object>"
            ],
            "text/html": [
              "Find logs at: <code>./wandb/run-20250608_063934-j3y1do5l/logs</code>"
            ]
          },
          "metadata": {}
        },
        {
          "output_type": "stream",
          "name": "stdout",
          "text": [
            "Best validation accuracy: 40.35%\n",
            "\n",
            "Testing optimizer: sgd\n"
          ]
        },
        {
          "output_type": "display_data",
          "data": {
            "text/plain": [
              "<IPython.core.display.HTML object>"
            ],
            "text/html": [
              "Tracking run with wandb version 0.19.11"
            ]
          },
          "metadata": {}
        },
        {
          "output_type": "display_data",
          "data": {
            "text/plain": [
              "<IPython.core.display.HTML object>"
            ],
            "text/html": [
              "Run data is saved locally in <code>/content/wandb/run-20250608_064239-x00d3t9a</code>"
            ]
          },
          "metadata": {}
        },
        {
          "output_type": "display_data",
          "data": {
            "text/plain": [
              "<IPython.core.display.HTML object>"
            ],
            "text/html": [
              "Syncing run <strong><a href='https://wandb.ai/nipkha21-free-university-of-tbilisi-/facial-expression-recognition/runs/x00d3t9a' target=\"_blank\">Optimizer_sgd</a></strong> to <a href='https://wandb.ai/nipkha21-free-university-of-tbilisi-/facial-expression-recognition' target=\"_blank\">Weights & Biases</a> (<a href='https://wandb.me/developer-guide' target=\"_blank\">docs</a>)<br>"
            ]
          },
          "metadata": {}
        },
        {
          "output_type": "display_data",
          "data": {
            "text/plain": [
              "<IPython.core.display.HTML object>"
            ],
            "text/html": [
              " View project at <a href='https://wandb.ai/nipkha21-free-university-of-tbilisi-/facial-expression-recognition' target=\"_blank\">https://wandb.ai/nipkha21-free-university-of-tbilisi-/facial-expression-recognition</a>"
            ]
          },
          "metadata": {}
        },
        {
          "output_type": "display_data",
          "data": {
            "text/plain": [
              "<IPython.core.display.HTML object>"
            ],
            "text/html": [
              " View run at <a href='https://wandb.ai/nipkha21-free-university-of-tbilisi-/facial-expression-recognition/runs/x00d3t9a' target=\"_blank\">https://wandb.ai/nipkha21-free-university-of-tbilisi-/facial-expression-recognition/runs/x00d3t9a</a>"
            ]
          },
          "metadata": {}
        },
        {
          "output_type": "stream",
          "name": "stdout",
          "text": [
            "Starting training for 10 epochs...\n"
          ]
        },
        {
          "output_type": "stream",
          "name": "stderr",
          "text": [
            "Training: 100%|██████████| 314/314 [00:15<00:00, 19.66it/s, Loss=1.8569, Acc=26.72%]\n",
            "Validation: 100%|██████████| 68/68 [00:02<00:00, 29.11it/s]\n"
          ]
        },
        {
          "output_type": "stream",
          "name": "stdout",
          "text": [
            "Epoch 1/10:\n",
            "  Train Loss: 1.9063, Train Acc: 26.72%\n",
            "  Val Loss: 1.6600, Val Acc: 34.80%\n",
            "  LR: 0.010000, Time: 18.31s\n",
            "  Overfitting Score: -0.3271\n",
            "--------------------------------------------------\n"
          ]
        },
        {
          "output_type": "stream",
          "name": "stderr",
          "text": [
            "Training: 100%|██████████| 314/314 [00:15<00:00, 20.77it/s, Loss=1.6320, Acc=33.21%]\n",
            "Validation: 100%|██████████| 68/68 [00:02<00:00, 28.04it/s]\n"
          ]
        },
        {
          "output_type": "stream",
          "name": "stdout",
          "text": [
            "Epoch 2/10:\n",
            "  Train Loss: 1.7144, Train Acc: 33.21%\n",
            "  Val Loss: 1.6325, Val Acc: 36.03%\n",
            "  LR: 0.010000, Time: 17.55s\n",
            "  Overfitting Score: -0.1101\n",
            "--------------------------------------------------\n"
          ]
        },
        {
          "output_type": "stream",
          "name": "stderr",
          "text": [
            "Training: 100%|██████████| 314/314 [00:16<00:00, 19.00it/s, Loss=1.7054, Acc=36.01%]\n",
            "Validation: 100%|██████████| 68/68 [00:02<00:00, 27.88it/s]\n"
          ]
        },
        {
          "output_type": "stream",
          "name": "stdout",
          "text": [
            "Epoch 3/10:\n",
            "  Train Loss: 1.6377, Train Acc: 36.01%\n",
            "  Val Loss: 1.5994, Val Acc: 38.31%\n",
            "  LR: 0.010000, Time: 18.97s\n",
            "  Overfitting Score: -0.0613\n",
            "--------------------------------------------------\n"
          ]
        },
        {
          "output_type": "stream",
          "name": "stderr",
          "text": [
            "Training: 100%|██████████| 314/314 [00:15<00:00, 20.68it/s, Loss=1.5567, Acc=37.82%]\n",
            "Validation: 100%|██████████| 68/68 [00:02<00:00, 29.20it/s]\n"
          ]
        },
        {
          "output_type": "stream",
          "name": "stdout",
          "text": [
            "Epoch 4/10:\n",
            "  Train Loss: 1.5917, Train Acc: 37.82%\n",
            "  Val Loss: 1.5853, Val Acc: 38.61%\n",
            "  LR: 0.010000, Time: 17.53s\n",
            "  Overfitting Score: -0.0143\n",
            "--------------------------------------------------\n"
          ]
        },
        {
          "output_type": "stream",
          "name": "stderr",
          "text": [
            "Training: 100%|██████████| 314/314 [00:15<00:00, 20.50it/s, Loss=1.5892, Acc=39.81%]\n",
            "Validation: 100%|██████████| 68/68 [00:02<00:00, 23.33it/s]\n"
          ]
        },
        {
          "output_type": "stream",
          "name": "stdout",
          "text": [
            "Epoch 5/10:\n",
            "  Train Loss: 1.5596, Train Acc: 39.81%\n",
            "  Val Loss: 1.5787, Val Acc: 40.14%\n",
            "  LR: 0.010000, Time: 18.24s\n",
            "  Overfitting Score: 0.0158\n",
            "--------------------------------------------------\n"
          ]
        },
        {
          "output_type": "stream",
          "name": "stderr",
          "text": [
            "Training: 100%|██████████| 314/314 [00:15<00:00, 20.63it/s, Loss=1.3658, Acc=39.90%]\n",
            "Validation: 100%|██████████| 68/68 [00:02<00:00, 29.39it/s]\n"
          ]
        },
        {
          "output_type": "stream",
          "name": "stdout",
          "text": [
            "Epoch 6/10:\n",
            "  Train Loss: 1.5396, Train Acc: 39.90%\n",
            "  Val Loss: 1.5500, Val Acc: 39.24%\n",
            "  LR: 0.010000, Time: 17.55s\n",
            "  Overfitting Score: 0.0170\n",
            "--------------------------------------------------\n"
          ]
        },
        {
          "output_type": "stream",
          "name": "stderr",
          "text": [
            "Training: 100%|██████████| 314/314 [00:14<00:00, 21.17it/s, Loss=1.5974, Acc=41.35%]\n",
            "Validation: 100%|██████████| 68/68 [00:02<00:00, 22.71it/s]\n"
          ]
        },
        {
          "output_type": "stream",
          "name": "stdout",
          "text": [
            "Epoch 7/10:\n",
            "  Train Loss: 1.5138, Train Acc: 41.35%\n",
            "  Val Loss: 1.5416, Val Acc: 40.24%\n",
            "  LR: 0.010000, Time: 17.84s\n",
            "  Overfitting Score: 0.0389\n",
            "--------------------------------------------------\n"
          ]
        },
        {
          "output_type": "stream",
          "name": "stderr",
          "text": [
            "Training: 100%|██████████| 314/314 [00:15<00:00, 20.61it/s, Loss=1.6214, Acc=42.08%]\n",
            "Validation: 100%|██████████| 68/68 [00:02<00:00, 28.37it/s]\n"
          ]
        },
        {
          "output_type": "stream",
          "name": "stdout",
          "text": [
            "Epoch 8/10:\n",
            "  Train Loss: 1.4933, Train Acc: 42.08%\n",
            "  Val Loss: 1.5629, Val Acc: 38.94%\n",
            "  LR: 0.010000, Time: 17.65s\n",
            "  Overfitting Score: 0.1010\n",
            "--------------------------------------------------\n"
          ]
        },
        {
          "output_type": "stream",
          "name": "stderr",
          "text": [
            "Training: 100%|██████████| 314/314 [00:15<00:00, 20.67it/s, Loss=1.3860, Acc=43.29%]\n",
            "Validation: 100%|██████████| 68/68 [00:02<00:00, 28.70it/s]\n"
          ]
        },
        {
          "output_type": "stream",
          "name": "stdout",
          "text": [
            "Epoch 9/10:\n",
            "  Train Loss: 1.4674, Train Acc: 43.29%\n",
            "  Val Loss: 1.5546, Val Acc: 39.61%\n",
            "  LR: 0.010000, Time: 17.57s\n",
            "  Overfitting Score: 0.1240\n",
            "--------------------------------------------------\n"
          ]
        },
        {
          "output_type": "stream",
          "name": "stderr",
          "text": [
            "Training: 100%|██████████| 314/314 [00:15<00:00, 19.65it/s, Loss=1.4449, Acc=44.42%]\n",
            "Validation: 100%|██████████| 68/68 [00:02<00:00, 28.89it/s]\n"
          ]
        },
        {
          "output_type": "stream",
          "name": "stdout",
          "text": [
            "Epoch 10/10:\n",
            "  Train Loss: 1.4447, Train Acc: 44.42%\n",
            "  Val Loss: 1.5213, Val Acc: 41.12%\n",
            "  LR: 0.010000, Time: 18.34s\n",
            "  Overfitting Score: 0.1096\n",
            "--------------------------------------------------\n",
            "Loaded best model with validation accuracy: 41.12%\n"
          ]
        },
        {
          "output_type": "display_data",
          "data": {
            "text/plain": [
              "<IPython.core.display.HTML object>"
            ],
            "text/html": []
          },
          "metadata": {}
        },
        {
          "output_type": "display_data",
          "data": {
            "text/plain": [
              "<IPython.core.display.HTML object>"
            ],
            "text/html": [
              "<br>    <style><br>        .wandb-row {<br>            display: flex;<br>            flex-direction: row;<br>            flex-wrap: wrap;<br>            justify-content: flex-start;<br>            width: 100%;<br>        }<br>        .wandb-col {<br>            display: flex;<br>            flex-direction: column;<br>            flex-basis: 100%;<br>            flex: 1;<br>            padding: 10px;<br>        }<br>    </style><br><div class=\"wandb-row\"><div class=\"wandb-col\"><h3>Run history:</h3><br/><table class=\"wandb\"><tr><td>accuracy_gap</td><td>▁▄▄▅▆▆▆███</td></tr><tr><td>best_val_accuracy</td><td>▁▂▅▅▇▇▇▇▇█</td></tr><tr><td>epoch</td><td>▁▂▃▃▄▅▆▆▇█</td></tr><tr><td>epoch_time</td><td>▅▁█▁▄▁▃▂▁▅</td></tr><tr><td>learning_rate</td><td>▁▁▁▁▁▁▁▁▁▁</td></tr><tr><td>loss_gap</td><td>▁▄▅▆▇▆▇███</td></tr><tr><td>overfitting_score</td><td>▁▄▅▆▆▆▇███</td></tr><tr><td>train_accuracy</td><td>▁▄▅▅▆▆▇▇██</td></tr><tr><td>train_loss</td><td>█▅▄▃▃▂▂▂▁▁</td></tr><tr><td>val_accuracy</td><td>▁▂▅▅▇▆▇▆▆█</td></tr><tr><td>val_loss</td><td>█▇▅▄▄▂▂▃▃▁</td></tr></table><br/></div><div class=\"wandb-col\"><h3>Run summary:</h3><br/><table class=\"wandb\"><tr><td>accuracy_gap</td><td>3.2999</td></tr><tr><td>best_val_accuracy</td><td>41.11911</td></tr><tr><td>epoch</td><td>10</td></tr><tr><td>epoch_time</td><td>18.34188</td></tr><tr><td>learning_rate</td><td>0.01</td></tr><tr><td>loss_gap</td><td>0.07662</td></tr><tr><td>overfitting_score</td><td>0.10962</td></tr><tr><td>train_accuracy</td><td>44.41901</td></tr><tr><td>train_loss</td><td>1.44471</td></tr><tr><td>val_accuracy</td><td>41.11911</td></tr><tr><td>val_loss</td><td>1.52133</td></tr></table><br/></div></div>"
            ]
          },
          "metadata": {}
        },
        {
          "output_type": "display_data",
          "data": {
            "text/plain": [
              "<IPython.core.display.HTML object>"
            ],
            "text/html": [
              " View run <strong style=\"color:#cdcd00\">Optimizer_sgd</strong> at: <a href='https://wandb.ai/nipkha21-free-university-of-tbilisi-/facial-expression-recognition/runs/x00d3t9a' target=\"_blank\">https://wandb.ai/nipkha21-free-university-of-tbilisi-/facial-expression-recognition/runs/x00d3t9a</a><br> View project at: <a href='https://wandb.ai/nipkha21-free-university-of-tbilisi-/facial-expression-recognition' target=\"_blank\">https://wandb.ai/nipkha21-free-university-of-tbilisi-/facial-expression-recognition</a><br>Synced 5 W&B file(s), 1 media file(s), 2 artifact file(s) and 0 other file(s)"
            ]
          },
          "metadata": {}
        },
        {
          "output_type": "display_data",
          "data": {
            "text/plain": [
              "<IPython.core.display.HTML object>"
            ],
            "text/html": [
              "Find logs at: <code>./wandb/run-20250608_064239-x00d3t9a/logs</code>"
            ]
          },
          "metadata": {}
        },
        {
          "output_type": "stream",
          "name": "stdout",
          "text": [
            "Best validation accuracy: 41.12%\n",
            "\n",
            "Testing optimizer: sgd_nesterov\n"
          ]
        },
        {
          "output_type": "display_data",
          "data": {
            "text/plain": [
              "<IPython.core.display.HTML object>"
            ],
            "text/html": [
              "Tracking run with wandb version 0.19.11"
            ]
          },
          "metadata": {}
        },
        {
          "output_type": "display_data",
          "data": {
            "text/plain": [
              "<IPython.core.display.HTML object>"
            ],
            "text/html": [
              "Run data is saved locally in <code>/content/wandb/run-20250608_064541-i8o4sdn6</code>"
            ]
          },
          "metadata": {}
        },
        {
          "output_type": "display_data",
          "data": {
            "text/plain": [
              "<IPython.core.display.HTML object>"
            ],
            "text/html": [
              "Syncing run <strong><a href='https://wandb.ai/nipkha21-free-university-of-tbilisi-/facial-expression-recognition/runs/i8o4sdn6' target=\"_blank\">Optimizer_sgd_nesterov</a></strong> to <a href='https://wandb.ai/nipkha21-free-university-of-tbilisi-/facial-expression-recognition' target=\"_blank\">Weights & Biases</a> (<a href='https://wandb.me/developer-guide' target=\"_blank\">docs</a>)<br>"
            ]
          },
          "metadata": {}
        },
        {
          "output_type": "display_data",
          "data": {
            "text/plain": [
              "<IPython.core.display.HTML object>"
            ],
            "text/html": [
              " View project at <a href='https://wandb.ai/nipkha21-free-university-of-tbilisi-/facial-expression-recognition' target=\"_blank\">https://wandb.ai/nipkha21-free-university-of-tbilisi-/facial-expression-recognition</a>"
            ]
          },
          "metadata": {}
        },
        {
          "output_type": "display_data",
          "data": {
            "text/plain": [
              "<IPython.core.display.HTML object>"
            ],
            "text/html": [
              " View run at <a href='https://wandb.ai/nipkha21-free-university-of-tbilisi-/facial-expression-recognition/runs/i8o4sdn6' target=\"_blank\">https://wandb.ai/nipkha21-free-university-of-tbilisi-/facial-expression-recognition/runs/i8o4sdn6</a>"
            ]
          },
          "metadata": {}
        },
        {
          "output_type": "stream",
          "name": "stdout",
          "text": [
            "Starting training for 10 epochs...\n"
          ]
        },
        {
          "output_type": "stream",
          "name": "stderr",
          "text": [
            "Training: 100%|██████████| 314/314 [00:15<00:00, 20.43it/s, Loss=1.6404, Acc=26.03%]\n",
            "Validation: 100%|██████████| 68/68 [00:02<00:00, 25.51it/s]\n"
          ]
        },
        {
          "output_type": "stream",
          "name": "stdout",
          "text": [
            "Epoch 1/10:\n",
            "  Train Loss: 1.9350, Train Acc: 26.03%\n",
            "  Val Loss: 1.6642, Val Acc: 34.59%\n",
            "  LR: 0.010000, Time: 18.05s\n",
            "  Overfitting Score: -0.3564\n",
            "--------------------------------------------------\n"
          ]
        },
        {
          "output_type": "stream",
          "name": "stderr",
          "text": [
            "Training: 100%|██████████| 314/314 [00:15<00:00, 19.71it/s, Loss=1.7967, Acc=33.19%]\n",
            "Validation: 100%|██████████| 68/68 [00:02<00:00, 28.45it/s]\n"
          ]
        },
        {
          "output_type": "stream",
          "name": "stdout",
          "text": [
            "Epoch 2/10:\n",
            "  Train Loss: 1.7098, Train Acc: 33.19%\n",
            "  Val Loss: 1.6325, Val Acc: 35.80%\n",
            "  LR: 0.010000, Time: 18.33s\n",
            "  Overfitting Score: -0.1034\n",
            "--------------------------------------------------\n"
          ]
        },
        {
          "output_type": "stream",
          "name": "stderr",
          "text": [
            "Training: 100%|██████████| 314/314 [00:15<00:00, 20.59it/s, Loss=1.5778, Acc=35.86%]\n",
            "Validation: 100%|██████████| 68/68 [00:02<00:00, 29.53it/s]\n"
          ]
        },
        {
          "output_type": "stream",
          "name": "stdout",
          "text": [
            "Epoch 3/10:\n",
            "  Train Loss: 1.6368, Train Acc: 35.86%\n",
            "  Val Loss: 1.6142, Val Acc: 37.33%\n",
            "  LR: 0.010000, Time: 17.56s\n",
            "  Overfitting Score: -0.0373\n",
            "--------------------------------------------------\n"
          ]
        },
        {
          "output_type": "stream",
          "name": "stderr",
          "text": [
            "Training: 100%|██████████| 314/314 [00:16<00:00, 19.18it/s, Loss=1.6735, Acc=37.14%]\n",
            "Validation: 100%|██████████| 68/68 [00:02<00:00, 28.53it/s]\n"
          ]
        },
        {
          "output_type": "stream",
          "name": "stdout",
          "text": [
            "Epoch 4/10:\n",
            "  Train Loss: 1.5996, Train Acc: 37.14%\n",
            "  Val Loss: 1.5925, Val Acc: 37.06%\n",
            "  LR: 0.010000, Time: 18.77s\n",
            "  Overfitting Score: -0.0062\n",
            "--------------------------------------------------\n"
          ]
        },
        {
          "output_type": "stream",
          "name": "stderr",
          "text": [
            "Training: 100%|██████████| 314/314 [00:15<00:00, 20.69it/s, Loss=1.5265, Acc=39.18%]\n",
            "Validation: 100%|██████████| 68/68 [00:02<00:00, 29.24it/s]\n"
          ]
        },
        {
          "output_type": "stream",
          "name": "stdout",
          "text": [
            "Epoch 5/10:\n",
            "  Train Loss: 1.5619, Train Acc: 39.18%\n",
            "  Val Loss: 1.5883, Val Acc: 37.61%\n",
            "  LR: 0.010000, Time: 17.51s\n",
            "  Overfitting Score: 0.0421\n",
            "--------------------------------------------------\n"
          ]
        },
        {
          "output_type": "stream",
          "name": "stderr",
          "text": [
            "Training: 100%|██████████| 314/314 [00:15<00:00, 20.19it/s, Loss=1.5869, Acc=40.20%]\n",
            "Validation: 100%|██████████| 68/68 [00:02<00:00, 24.45it/s]\n"
          ]
        },
        {
          "output_type": "stream",
          "name": "stdout",
          "text": [
            "Epoch 6/10:\n",
            "  Train Loss: 1.5362, Train Acc: 40.20%\n",
            "  Val Loss: 1.5572, Val Acc: 39.59%\n",
            "  LR: 0.010000, Time: 18.35s\n",
            "  Overfitting Score: 0.0272\n",
            "--------------------------------------------------\n"
          ]
        },
        {
          "output_type": "stream",
          "name": "stderr",
          "text": [
            "Training: 100%|██████████| 314/314 [00:15<00:00, 20.90it/s, Loss=1.4445, Acc=41.46%]\n",
            "Validation: 100%|██████████| 68/68 [00:02<00:00, 29.89it/s]\n"
          ]
        },
        {
          "output_type": "stream",
          "name": "stdout",
          "text": [
            "Epoch 7/10:\n",
            "  Train Loss: 1.5129, Train Acc: 41.46%\n",
            "  Val Loss: 1.5502, Val Acc: 39.40%\n",
            "  LR: 0.010000, Time: 17.31s\n",
            "  Overfitting Score: 0.0578\n",
            "--------------------------------------------------\n"
          ]
        },
        {
          "output_type": "stream",
          "name": "stderr",
          "text": [
            "Training: 100%|██████████| 314/314 [00:15<00:00, 20.32it/s, Loss=1.5582, Acc=42.16%]\n",
            "Validation: 100%|██████████| 68/68 [00:03<00:00, 20.51it/s]\n"
          ]
        },
        {
          "output_type": "stream",
          "name": "stdout",
          "text": [
            "Epoch 8/10:\n",
            "  Train Loss: 1.4888, Train Acc: 42.16%\n",
            "  Val Loss: 1.5758, Val Acc: 38.91%\n",
            "  LR: 0.010000, Time: 18.78s\n",
            "  Overfitting Score: 0.1196\n",
            "--------------------------------------------------\n"
          ]
        },
        {
          "output_type": "stream",
          "name": "stderr",
          "text": [
            "Training: 100%|██████████| 314/314 [00:15<00:00, 20.53it/s, Loss=1.4289, Acc=43.16%]\n",
            "Validation: 100%|██████████| 68/68 [00:02<00:00, 29.45it/s]\n"
          ]
        },
        {
          "output_type": "stream",
          "name": "stdout",
          "text": [
            "Epoch 9/10:\n",
            "  Train Loss: 1.4723, Train Acc: 43.16%\n",
            "  Val Loss: 1.5709, Val Acc: 38.57%\n",
            "  LR: 0.010000, Time: 17.61s\n",
            "  Overfitting Score: 0.1447\n",
            "--------------------------------------------------\n"
          ]
        },
        {
          "output_type": "stream",
          "name": "stderr",
          "text": [
            "Training: 100%|██████████| 314/314 [00:15<00:00, 20.65it/s, Loss=1.4248, Acc=43.92%]\n",
            "Validation: 100%|██████████| 68/68 [00:02<00:00, 27.78it/s]"
          ]
        },
        {
          "output_type": "stream",
          "name": "stdout",
          "text": [
            "Epoch 10/10:\n",
            "  Train Loss: 1.4509, Train Acc: 43.92%\n",
            "  Val Loss: 1.5543, Val Acc: 39.91%\n",
            "  LR: 0.010000, Time: 17.66s\n",
            "  Overfitting Score: 0.1435\n",
            "--------------------------------------------------\n",
            "Loaded best model with validation accuracy: 39.91%\n"
          ]
        },
        {
          "output_type": "stream",
          "name": "stderr",
          "text": [
            "\n"
          ]
        },
        {
          "output_type": "display_data",
          "data": {
            "text/plain": [
              "<IPython.core.display.HTML object>"
            ],
            "text/html": []
          },
          "metadata": {}
        },
        {
          "output_type": "display_data",
          "data": {
            "text/plain": [
              "<IPython.core.display.HTML object>"
            ],
            "text/html": [
              "<br>    <style><br>        .wandb-row {<br>            display: flex;<br>            flex-direction: row;<br>            flex-wrap: wrap;<br>            justify-content: flex-start;<br>            width: 100%;<br>        }<br>        .wandb-col {<br>            display: flex;<br>            flex-direction: column;<br>            flex-basis: 100%;<br>            flex: 1;<br>            padding: 10px;<br>        }<br>    </style><br><div class=\"wandb-row\"><div class=\"wandb-col\"><h3>Run history:</h3><br/><table class=\"wandb\"><tr><td>accuracy_gap</td><td>▁▄▅▆▆▆▇▇██</td></tr><tr><td>best_val_accuracy</td><td>▁▃▅▅▅█████</td></tr><tr><td>epoch</td><td>▁▂▃▃▄▅▆▆▇█</td></tr><tr><td>epoch_time</td><td>▅▆▂█▂▆▁█▂▃</td></tr><tr><td>learning_rate</td><td>▁▁▁▁▁▁▁▁▁▁</td></tr><tr><td>loss_gap</td><td>▁▅▆▆▇▆▇███</td></tr><tr><td>overfitting_score</td><td>▁▅▅▆▇▆▇███</td></tr><tr><td>train_accuracy</td><td>▁▄▅▅▆▇▇▇██</td></tr><tr><td>train_loss</td><td>█▅▄▃▃▂▂▂▁▁</td></tr><tr><td>val_accuracy</td><td>▁▃▅▄▅█▇▇▆█</td></tr><tr><td>val_loss</td><td>█▆▅▄▃▁▁▃▂▁</td></tr></table><br/></div><div class=\"wandb-col\"><h3>Run summary:</h3><br/><table class=\"wandb\"><tr><td>accuracy_gap</td><td>4.0096</td></tr><tr><td>best_val_accuracy</td><td>39.91177</td></tr><tr><td>epoch</td><td>10</td></tr><tr><td>epoch_time</td><td>17.6628</td></tr><tr><td>learning_rate</td><td>0.01</td></tr><tr><td>loss_gap</td><td>0.1034</td></tr><tr><td>overfitting_score</td><td>0.1435</td></tr><tr><td>train_accuracy</td><td>43.92137</td></tr><tr><td>train_loss</td><td>1.45087</td></tr><tr><td>val_accuracy</td><td>39.91177</td></tr><tr><td>val_loss</td><td>1.55427</td></tr></table><br/></div></div>"
            ]
          },
          "metadata": {}
        },
        {
          "output_type": "display_data",
          "data": {
            "text/plain": [
              "<IPython.core.display.HTML object>"
            ],
            "text/html": [
              " View run <strong style=\"color:#cdcd00\">Optimizer_sgd_nesterov</strong> at: <a href='https://wandb.ai/nipkha21-free-university-of-tbilisi-/facial-expression-recognition/runs/i8o4sdn6' target=\"_blank\">https://wandb.ai/nipkha21-free-university-of-tbilisi-/facial-expression-recognition/runs/i8o4sdn6</a><br> View project at: <a href='https://wandb.ai/nipkha21-free-university-of-tbilisi-/facial-expression-recognition' target=\"_blank\">https://wandb.ai/nipkha21-free-university-of-tbilisi-/facial-expression-recognition</a><br>Synced 5 W&B file(s), 1 media file(s), 2 artifact file(s) and 0 other file(s)"
            ]
          },
          "metadata": {}
        },
        {
          "output_type": "display_data",
          "data": {
            "text/plain": [
              "<IPython.core.display.HTML object>"
            ],
            "text/html": [
              "Find logs at: <code>./wandb/run-20250608_064541-i8o4sdn6/logs</code>"
            ]
          },
          "metadata": {}
        },
        {
          "output_type": "stream",
          "name": "stdout",
          "text": [
            "Best validation accuracy: 39.91%\n",
            "\n",
            "Testing optimizer: rmsprop\n"
          ]
        },
        {
          "output_type": "display_data",
          "data": {
            "text/plain": [
              "<IPython.core.display.HTML object>"
            ],
            "text/html": [
              "Tracking run with wandb version 0.19.11"
            ]
          },
          "metadata": {}
        },
        {
          "output_type": "display_data",
          "data": {
            "text/plain": [
              "<IPython.core.display.HTML object>"
            ],
            "text/html": [
              "Run data is saved locally in <code>/content/wandb/run-20250608_064843-lnow0jm8</code>"
            ]
          },
          "metadata": {}
        },
        {
          "output_type": "display_data",
          "data": {
            "text/plain": [
              "<IPython.core.display.HTML object>"
            ],
            "text/html": [
              "Syncing run <strong><a href='https://wandb.ai/nipkha21-free-university-of-tbilisi-/facial-expression-recognition/runs/lnow0jm8' target=\"_blank\">Optimizer_rmsprop</a></strong> to <a href='https://wandb.ai/nipkha21-free-university-of-tbilisi-/facial-expression-recognition' target=\"_blank\">Weights & Biases</a> (<a href='https://wandb.me/developer-guide' target=\"_blank\">docs</a>)<br>"
            ]
          },
          "metadata": {}
        },
        {
          "output_type": "display_data",
          "data": {
            "text/plain": [
              "<IPython.core.display.HTML object>"
            ],
            "text/html": [
              " View project at <a href='https://wandb.ai/nipkha21-free-university-of-tbilisi-/facial-expression-recognition' target=\"_blank\">https://wandb.ai/nipkha21-free-university-of-tbilisi-/facial-expression-recognition</a>"
            ]
          },
          "metadata": {}
        },
        {
          "output_type": "display_data",
          "data": {
            "text/plain": [
              "<IPython.core.display.HTML object>"
            ],
            "text/html": [
              " View run at <a href='https://wandb.ai/nipkha21-free-university-of-tbilisi-/facial-expression-recognition/runs/lnow0jm8' target=\"_blank\">https://wandb.ai/nipkha21-free-university-of-tbilisi-/facial-expression-recognition/runs/lnow0jm8</a>"
            ]
          },
          "metadata": {}
        },
        {
          "output_type": "stream",
          "name": "stdout",
          "text": [
            "Starting training for 10 epochs...\n"
          ]
        },
        {
          "output_type": "stream",
          "name": "stderr",
          "text": [
            "Training: 100%|██████████| 314/314 [00:15<00:00, 20.82it/s, Loss=1.6549, Acc=30.52%]\n",
            "Validation: 100%|██████████| 68/68 [00:02<00:00, 30.41it/s]\n"
          ]
        },
        {
          "output_type": "stream",
          "name": "stdout",
          "text": [
            "Epoch 1/10:\n",
            "  Train Loss: 1.7917, Train Acc: 30.52%\n",
            "  Val Loss: 1.6649, Val Acc: 34.36%\n",
            "  LR: 0.001000, Time: 17.32s\n",
            "  Overfitting Score: -0.1653\n",
            "--------------------------------------------------\n"
          ]
        },
        {
          "output_type": "stream",
          "name": "stderr",
          "text": [
            "Training: 100%|██████████| 314/314 [00:15<00:00, 20.75it/s, Loss=1.6153, Acc=35.67%]\n",
            "Validation: 100%|██████████| 68/68 [00:02<00:00, 28.22it/s]\n"
          ]
        },
        {
          "output_type": "stream",
          "name": "stdout",
          "text": [
            "Epoch 2/10:\n",
            "  Train Loss: 1.6372, Train Acc: 35.67%\n",
            "  Val Loss: 1.6709, Val Acc: 34.15%\n",
            "  LR: 0.001000, Time: 17.56s\n",
            "  Overfitting Score: 0.0489\n",
            "--------------------------------------------------\n"
          ]
        },
        {
          "output_type": "stream",
          "name": "stderr",
          "text": [
            "Training: 100%|██████████| 314/314 [00:15<00:00, 19.89it/s, Loss=1.6701, Acc=39.04%]\n",
            "Validation: 100%|██████████| 68/68 [00:02<00:00, 30.15it/s]\n"
          ]
        },
        {
          "output_type": "stream",
          "name": "stdout",
          "text": [
            "Epoch 3/10:\n",
            "  Train Loss: 1.5727, Train Acc: 39.04%\n",
            "  Val Loss: 1.6622, Val Acc: 35.52%\n",
            "  LR: 0.001000, Time: 18.06s\n",
            "  Overfitting Score: 0.1247\n",
            "--------------------------------------------------\n"
          ]
        },
        {
          "output_type": "stream",
          "name": "stderr",
          "text": [
            "Training: 100%|██████████| 314/314 [00:15<00:00, 20.56it/s, Loss=1.4172, Acc=41.05%]\n",
            "Validation: 100%|██████████| 68/68 [00:02<00:00, 29.99it/s]\n"
          ]
        },
        {
          "output_type": "stream",
          "name": "stdout",
          "text": [
            "Epoch 4/10:\n",
            "  Train Loss: 1.5243, Train Acc: 41.05%\n",
            "  Val Loss: 1.6367, Val Acc: 34.87%\n",
            "  LR: 0.001000, Time: 17.55s\n",
            "  Overfitting Score: 0.1741\n",
            "--------------------------------------------------\n"
          ]
        },
        {
          "output_type": "stream",
          "name": "stderr",
          "text": [
            "Training: 100%|██████████| 314/314 [00:15<00:00, 19.68it/s, Loss=1.5929, Acc=42.22%]\n",
            "Validation: 100%|██████████| 68/68 [00:02<00:00, 28.66it/s]\n"
          ]
        },
        {
          "output_type": "stream",
          "name": "stdout",
          "text": [
            "Epoch 5/10:\n",
            "  Train Loss: 1.4915, Train Acc: 42.22%\n",
            "  Val Loss: 1.5752, Val Acc: 38.61%\n",
            "  LR: 0.001000, Time: 18.33s\n",
            "  Overfitting Score: 0.1199\n",
            "--------------------------------------------------\n"
          ]
        },
        {
          "output_type": "stream",
          "name": "stderr",
          "text": [
            "Training: 100%|██████████| 314/314 [00:15<00:00, 20.47it/s, Loss=1.5311, Acc=43.94%]\n",
            "Validation: 100%|██████████| 68/68 [00:02<00:00, 29.60it/s]\n"
          ]
        },
        {
          "output_type": "stream",
          "name": "stdout",
          "text": [
            "Epoch 6/10:\n",
            "  Train Loss: 1.4489, Train Acc: 43.94%\n",
            "  Val Loss: 1.6206, Val Acc: 36.22%\n",
            "  LR: 0.001000, Time: 17.65s\n",
            "  Overfitting Score: 0.2488\n",
            "--------------------------------------------------\n"
          ]
        },
        {
          "output_type": "stream",
          "name": "stderr",
          "text": [
            "Training: 100%|██████████| 314/314 [00:15<00:00, 19.77it/s, Loss=1.3773, Acc=45.12%]\n",
            "Validation: 100%|██████████| 68/68 [00:03<00:00, 22.51it/s]\n"
          ]
        },
        {
          "output_type": "stream",
          "name": "stdout",
          "text": [
            "Epoch 7/10:\n",
            "  Train Loss: 1.4203, Train Acc: 45.12%\n",
            "  Val Loss: 1.7278, Val Acc: 34.87%\n",
            "  LR: 0.001000, Time: 18.91s\n",
            "  Overfitting Score: 0.4099\n",
            "--------------------------------------------------\n"
          ]
        },
        {
          "output_type": "stream",
          "name": "stderr",
          "text": [
            "Training: 100%|██████████| 314/314 [00:15<00:00, 20.36it/s, Loss=1.5469, Acc=46.79%]\n",
            "Validation: 100%|██████████| 68/68 [00:02<00:00, 30.42it/s]\n"
          ]
        },
        {
          "output_type": "stream",
          "name": "stdout",
          "text": [
            "Epoch 8/10:\n",
            "  Train Loss: 1.3868, Train Acc: 46.79%\n",
            "  Val Loss: 1.6602, Val Acc: 37.08%\n",
            "  LR: 0.001000, Time: 17.67s\n",
            "  Overfitting Score: 0.3705\n",
            "--------------------------------------------------\n"
          ]
        },
        {
          "output_type": "stream",
          "name": "stderr",
          "text": [
            "Training: 100%|██████████| 314/314 [00:15<00:00, 20.72it/s, Loss=1.3564, Acc=48.10%]\n",
            "Validation: 100%|██████████| 68/68 [00:02<00:00, 22.68it/s]\n"
          ]
        },
        {
          "output_type": "stream",
          "name": "stdout",
          "text": [
            "Epoch 9/10:\n",
            "  Train Loss: 1.3516, Train Acc: 48.10%\n",
            "  Val Loss: 1.5312, Val Acc: 40.89%\n",
            "  LR: 0.001000, Time: 18.16s\n",
            "  Overfitting Score: 0.2517\n",
            "--------------------------------------------------\n"
          ]
        },
        {
          "output_type": "stream",
          "name": "stderr",
          "text": [
            "Training: 100%|██████████| 314/314 [00:15<00:00, 19.78it/s, Loss=1.3168, Acc=48.84%]\n",
            "Validation: 100%|██████████| 68/68 [00:02<00:00, 29.43it/s]\n"
          ]
        },
        {
          "output_type": "stream",
          "name": "stdout",
          "text": [
            "Epoch 10/10:\n",
            "  Train Loss: 1.3301, Train Acc: 48.84%\n",
            "  Val Loss: 1.5824, Val Acc: 37.10%\n",
            "  LR: 0.001000, Time: 18.19s\n",
            "  Overfitting Score: 0.3697\n",
            "--------------------------------------------------\n",
            "Loaded best model with validation accuracy: 40.89%\n"
          ]
        },
        {
          "output_type": "display_data",
          "data": {
            "text/plain": [
              "<IPython.core.display.HTML object>"
            ],
            "text/html": []
          },
          "metadata": {}
        },
        {
          "output_type": "display_data",
          "data": {
            "text/plain": [
              "<IPython.core.display.HTML object>"
            ],
            "text/html": [
              "<br>    <style><br>        .wandb-row {<br>            display: flex;<br>            flex-direction: row;<br>            flex-wrap: wrap;<br>            justify-content: flex-start;<br>            width: 100%;<br>        }<br>        .wandb-col {<br>            display: flex;<br>            flex-direction: column;<br>            flex-basis: 100%;<br>            flex: 1;<br>            padding: 10px;<br>        }<br>    </style><br><div class=\"wandb-row\"><div class=\"wandb-col\"><h3>Run history:</h3><br/><table class=\"wandb\"><tr><td>accuracy_gap</td><td>▁▃▄▅▄▆▇▇▆█</td></tr><tr><td>best_val_accuracy</td><td>▁▁▂▂▆▆▆▆██</td></tr><tr><td>epoch</td><td>▁▂▃▃▄▅▆▆▇█</td></tr><tr><td>epoch_time</td><td>▁▂▄▂▅▂█▃▅▅</td></tr><tr><td>learning_rate</td><td>▁▁▁▁▁▁▁▁▁▁</td></tr><tr><td>loss_gap</td><td>▁▄▄▅▄▆█▇▆▇</td></tr><tr><td>overfitting_score</td><td>▁▄▅▅▄▆██▆█</td></tr><tr><td>train_accuracy</td><td>▁▃▄▅▅▆▇▇██</td></tr><tr><td>train_loss</td><td>█▆▅▄▃▃▂▂▁▁</td></tr><tr><td>val_accuracy</td><td>▁▁▂▂▆▃▂▄█▄</td></tr><tr><td>val_loss</td><td>▆▆▆▅▃▄█▆▁▃</td></tr></table><br/></div><div class=\"wandb-col\"><h3>Run summary:</h3><br/><table class=\"wandb\"><tr><td>accuracy_gap</td><td>11.73563</td></tr><tr><td>best_val_accuracy</td><td>40.88693</td></tr><tr><td>epoch</td><td>10</td></tr><tr><td>epoch_time</td><td>18.19375</td></tr><tr><td>learning_rate</td><td>0.001</td></tr><tr><td>loss_gap</td><td>0.2523</td></tr><tr><td>overfitting_score</td><td>0.36965</td></tr><tr><td>train_accuracy</td><td>48.83802</td></tr><tr><td>train_loss</td><td>1.33011</td></tr><tr><td>val_accuracy</td><td>37.10239</td></tr><tr><td>val_loss</td><td>1.58241</td></tr></table><br/></div></div>"
            ]
          },
          "metadata": {}
        },
        {
          "output_type": "display_data",
          "data": {
            "text/plain": [
              "<IPython.core.display.HTML object>"
            ],
            "text/html": [
              " View run <strong style=\"color:#cdcd00\">Optimizer_rmsprop</strong> at: <a href='https://wandb.ai/nipkha21-free-university-of-tbilisi-/facial-expression-recognition/runs/lnow0jm8' target=\"_blank\">https://wandb.ai/nipkha21-free-university-of-tbilisi-/facial-expression-recognition/runs/lnow0jm8</a><br> View project at: <a href='https://wandb.ai/nipkha21-free-university-of-tbilisi-/facial-expression-recognition' target=\"_blank\">https://wandb.ai/nipkha21-free-university-of-tbilisi-/facial-expression-recognition</a><br>Synced 5 W&B file(s), 1 media file(s), 2 artifact file(s) and 0 other file(s)"
            ]
          },
          "metadata": {}
        },
        {
          "output_type": "display_data",
          "data": {
            "text/plain": [
              "<IPython.core.display.HTML object>"
            ],
            "text/html": [
              "Find logs at: <code>./wandb/run-20250608_064843-lnow0jm8/logs</code>"
            ]
          },
          "metadata": {}
        },
        {
          "output_type": "stream",
          "name": "stdout",
          "text": [
            "Best validation accuracy: 40.89%\n",
            "\n",
            "=== OPTIMIZER ANALYSIS ===\n",
            "Best optimizer: sgd\n",
            "adam: 40.35% (stability: 1.5494)\n",
            "sgd: 41.12% (stability: 1.8417)\n",
            "sgd_nesterov: 39.91% (stability: 1.6447)\n",
            "rmsprop: 40.89% (stability: 2.0156)\n"
          ]
        }
      ]
    },
    {
      "cell_type": "code",
      "source": [
        "print(\"=== BATCH NORMALIZATION ANALYSIS ===\")\n",
        "\n",
        "bn_configs = [\n",
        "    {'use_batch_norm': False, 'name': 'no_bn'},\n",
        "    {'use_batch_norm': True, 'name': 'with_bn'}\n",
        "]\n",
        "\n",
        "bn_results = {}\n",
        "\n",
        "for config in bn_configs:\n",
        "    print(f\"\\nTesting batch normalization: {config['name']}\")\n",
        "\n",
        "    train_dataset = MLPFacialExpressionDataset(train_df, normalization='standard')\n",
        "    val_dataset = MLPFacialExpressionDataset(val_df, normalization='standard')\n",
        "\n",
        "    train_loader = DataLoader(train_dataset, batch_size=64, shuffle=True)\n",
        "    val_loader = DataLoader(val_dataset, batch_size=64, shuffle=False)\n",
        "\n",
        "    model = AdvancedMLP(\n",
        "        input_size=2304,\n",
        "        hidden_sizes=[512, 256],\n",
        "        num_classes=7,\n",
        "        dropout_rate=0.3\n",
        "    )\n",
        "\n",
        "    criterion = nn.CrossEntropyLoss()\n",
        "    optimizer = optimizers_config[best_optimizer]['class'](\n",
        "        model.parameters(),\n",
        "        **optimizers_config[best_optimizer]['kwargs']\n",
        "    )\n",
        "\n",
        "    trainer = AdvancedTrainer(\n",
        "        model=model,\n",
        "        train_loader=train_loader,\n",
        "        val_loader=val_loader,\n",
        "        criterion=criterion,\n",
        "        optimizer=optimizer,\n",
        "        device=device,\n",
        "        experiment_name=\"Advanced_MLP_Training\",\n",
        "        run_name=f\"BatchNorm_{config['name']}\"\n",
        "    )\n",
        "\n",
        "    history = trainer.train(epochs=10, early_stopping_patience=7)\n",
        "\n",
        "    bn_results[config['name']] = {\n",
        "        'best_val_acc': trainer.best_val_acc,\n",
        "        'training_speed': np.mean(history['epoch_times']),\n",
        "        'overfitting_score': np.mean([\n",
        "            (val_loss - train_loss) + (train_acc - val_acc) / 100\n",
        "            for train_loss, val_loss, train_acc, val_acc in zip(\n",
        "                history['train_loss'][-5:], history['val_loss'][-5:],\n",
        "                history['train_acc'][-5:], history['val_acc'][-5:]\n",
        "            )\n",
        "        ])\n",
        "    }\n",
        "\n",
        "    wandb.finish()\n",
        "\n",
        "print(\"\\n=== BATCH NORMALIZATION RESULTS ===\")\n",
        "for config_name, results in bn_results.items():\n",
        "    print(f\"{config_name}: {results['best_val_acc']:.2f}% \"\n",
        "          f\"(speed: {results['training_speed']:.2f}s/epoch, \"\n",
        "          f\"overfitting: {results['overfitting_score']:.4f})\")"
      ],
      "metadata": {
        "colab": {
          "base_uri": "https://localhost:8080/",
          "height": 1000
        },
        "id": "0S_QqgcPuQ3T",
        "outputId": "4ce1fdc7-ac67-40c0-f463-19b4f746e90c"
      },
      "execution_count": 13,
      "outputs": [
        {
          "output_type": "stream",
          "name": "stdout",
          "text": [
            "=== BATCH NORMALIZATION ANALYSIS ===\n",
            "\n",
            "Testing batch normalization: no_bn\n"
          ]
        },
        {
          "output_type": "display_data",
          "data": {
            "text/plain": [
              "<IPython.core.display.HTML object>"
            ],
            "text/html": [
              "Tracking run with wandb version 0.19.11"
            ]
          },
          "metadata": {}
        },
        {
          "output_type": "display_data",
          "data": {
            "text/plain": [
              "<IPython.core.display.HTML object>"
            ],
            "text/html": [
              "Run data is saved locally in <code>/content/wandb/run-20250608_065158-he96zymx</code>"
            ]
          },
          "metadata": {}
        },
        {
          "output_type": "display_data",
          "data": {
            "text/plain": [
              "<IPython.core.display.HTML object>"
            ],
            "text/html": [
              "Syncing run <strong><a href='https://wandb.ai/nipkha21-free-university-of-tbilisi-/facial-expression-recognition/runs/he96zymx' target=\"_blank\">BatchNorm_no_bn</a></strong> to <a href='https://wandb.ai/nipkha21-free-university-of-tbilisi-/facial-expression-recognition' target=\"_blank\">Weights & Biases</a> (<a href='https://wandb.me/developer-guide' target=\"_blank\">docs</a>)<br>"
            ]
          },
          "metadata": {}
        },
        {
          "output_type": "display_data",
          "data": {
            "text/plain": [
              "<IPython.core.display.HTML object>"
            ],
            "text/html": [
              " View project at <a href='https://wandb.ai/nipkha21-free-university-of-tbilisi-/facial-expression-recognition' target=\"_blank\">https://wandb.ai/nipkha21-free-university-of-tbilisi-/facial-expression-recognition</a>"
            ]
          },
          "metadata": {}
        },
        {
          "output_type": "display_data",
          "data": {
            "text/plain": [
              "<IPython.core.display.HTML object>"
            ],
            "text/html": [
              " View run at <a href='https://wandb.ai/nipkha21-free-university-of-tbilisi-/facial-expression-recognition/runs/he96zymx' target=\"_blank\">https://wandb.ai/nipkha21-free-university-of-tbilisi-/facial-expression-recognition/runs/he96zymx</a>"
            ]
          },
          "metadata": {}
        },
        {
          "output_type": "stream",
          "name": "stdout",
          "text": [
            "Starting training for 10 epochs...\n"
          ]
        },
        {
          "output_type": "stream",
          "name": "stderr",
          "text": [
            "Training: 100%|██████████| 314/314 [00:14<00:00, 20.97it/s, Loss=1.8289, Acc=26.70%]\n",
            "Validation: 100%|██████████| 68/68 [00:02<00:00, 24.89it/s]\n"
          ]
        },
        {
          "output_type": "stream",
          "name": "stdout",
          "text": [
            "Epoch 1/10:\n",
            "  Train Loss: 1.9172, Train Acc: 26.70%\n",
            "  Val Loss: 1.6704, Val Acc: 33.76%\n",
            "  LR: 0.010000, Time: 17.72s\n",
            "  Overfitting Score: -0.3174\n",
            "--------------------------------------------------\n"
          ]
        },
        {
          "output_type": "stream",
          "name": "stderr",
          "text": [
            "Training: 100%|██████████| 314/314 [00:14<00:00, 21.84it/s, Loss=1.6040, Acc=33.65%]\n",
            "Validation: 100%|██████████| 68/68 [00:02<00:00, 30.37it/s]\n"
          ]
        },
        {
          "output_type": "stream",
          "name": "stdout",
          "text": [
            "Epoch 2/10:\n",
            "  Train Loss: 1.7029, Train Acc: 33.65%\n",
            "  Val Loss: 1.6249, Val Acc: 37.01%\n",
            "  LR: 0.010000, Time: 16.63s\n",
            "  Overfitting Score: -0.1116\n",
            "--------------------------------------------------\n"
          ]
        },
        {
          "output_type": "stream",
          "name": "stderr",
          "text": [
            "Training: 100%|██████████| 314/314 [00:14<00:00, 22.00it/s, Loss=1.5367, Acc=36.01%]\n",
            "Validation: 100%|██████████| 68/68 [00:02<00:00, 30.21it/s]\n"
          ]
        },
        {
          "output_type": "stream",
          "name": "stdout",
          "text": [
            "Epoch 3/10:\n",
            "  Train Loss: 1.6344, Train Acc: 36.01%\n",
            "  Val Loss: 1.6121, Val Acc: 36.29%\n",
            "  LR: 0.010000, Time: 16.54s\n",
            "  Overfitting Score: -0.0251\n",
            "--------------------------------------------------\n"
          ]
        },
        {
          "output_type": "stream",
          "name": "stderr",
          "text": [
            "Training: 100%|██████████| 314/314 [00:15<00:00, 20.89it/s, Loss=1.5009, Acc=37.72%]\n",
            "Validation: 100%|██████████| 68/68 [00:02<00:00, 30.33it/s]\n"
          ]
        },
        {
          "output_type": "stream",
          "name": "stdout",
          "text": [
            "Epoch 4/10:\n",
            "  Train Loss: 1.5928, Train Acc: 37.72%\n",
            "  Val Loss: 1.5767, Val Acc: 38.17%\n",
            "  LR: 0.010000, Time: 17.28s\n",
            "  Overfitting Score: -0.0205\n",
            "--------------------------------------------------\n"
          ]
        },
        {
          "output_type": "stream",
          "name": "stderr",
          "text": [
            "Training: 100%|██████████| 314/314 [00:14<00:00, 22.13it/s, Loss=1.6358, Acc=39.02%]\n",
            "Validation: 100%|██████████| 68/68 [00:02<00:00, 30.72it/s]\n"
          ]
        },
        {
          "output_type": "stream",
          "name": "stdout",
          "text": [
            "Epoch 5/10:\n",
            "  Train Loss: 1.5645, Train Acc: 39.02%\n",
            "  Val Loss: 1.5849, Val Acc: 37.57%\n",
            "  LR: 0.010000, Time: 16.41s\n",
            "  Overfitting Score: 0.0350\n",
            "--------------------------------------------------\n"
          ]
        },
        {
          "output_type": "stream",
          "name": "stderr",
          "text": [
            "Training: 100%|██████████| 314/314 [00:14<00:00, 22.09it/s, Loss=1.3874, Acc=40.05%]\n",
            "Validation: 100%|██████████| 68/68 [00:02<00:00, 28.40it/s]\n"
          ]
        },
        {
          "output_type": "stream",
          "name": "stdout",
          "text": [
            "Epoch 6/10:\n",
            "  Train Loss: 1.5377, Train Acc: 40.05%\n",
            "  Val Loss: 1.5666, Val Acc: 38.73%\n",
            "  LR: 0.010000, Time: 16.62s\n",
            "  Overfitting Score: 0.0421\n",
            "--------------------------------------------------\n"
          ]
        },
        {
          "output_type": "stream",
          "name": "stderr",
          "text": [
            "Training: 100%|██████████| 314/314 [00:14<00:00, 21.17it/s, Loss=1.4716, Acc=41.13%]\n",
            "Validation: 100%|██████████| 68/68 [00:02<00:00, 31.43it/s]\n"
          ]
        },
        {
          "output_type": "stream",
          "name": "stdout",
          "text": [
            "Epoch 7/10:\n",
            "  Train Loss: 1.5085, Train Acc: 41.13%\n",
            "  Val Loss: 1.5821, Val Acc: 38.54%\n",
            "  LR: 0.010000, Time: 17.00s\n",
            "  Overfitting Score: 0.0994\n",
            "--------------------------------------------------\n"
          ]
        },
        {
          "output_type": "stream",
          "name": "stderr",
          "text": [
            "Training: 100%|██████████| 314/314 [00:14<00:00, 21.99it/s, Loss=1.6415, Acc=42.22%]\n",
            "Validation: 100%|██████████| 68/68 [00:02<00:00, 31.04it/s]\n"
          ]
        },
        {
          "output_type": "stream",
          "name": "stdout",
          "text": [
            "Epoch 8/10:\n",
            "  Train Loss: 1.4909, Train Acc: 42.22%\n",
            "  Val Loss: 1.5683, Val Acc: 39.91%\n",
            "  LR: 0.010000, Time: 16.48s\n",
            "  Overfitting Score: 0.1004\n",
            "--------------------------------------------------\n"
          ]
        },
        {
          "output_type": "stream",
          "name": "stderr",
          "text": [
            "Training: 100%|██████████| 314/314 [00:14<00:00, 21.98it/s, Loss=1.3767, Acc=43.04%]\n",
            "Validation: 100%|██████████| 68/68 [00:02<00:00, 23.62it/s]\n"
          ]
        },
        {
          "output_type": "stream",
          "name": "stdout",
          "text": [
            "Epoch 9/10:\n",
            "  Train Loss: 1.4681, Train Acc: 43.04%\n",
            "  Val Loss: 1.5573, Val Acc: 38.73%\n",
            "  LR: 0.010000, Time: 17.19s\n",
            "  Overfitting Score: 0.1323\n",
            "--------------------------------------------------\n"
          ]
        },
        {
          "output_type": "stream",
          "name": "stderr",
          "text": [
            "Training: 100%|██████████| 314/314 [00:14<00:00, 21.68it/s, Loss=1.5458, Acc=44.02%]\n",
            "Validation: 100%|██████████| 68/68 [00:02<00:00, 30.69it/s]"
          ]
        },
        {
          "output_type": "stream",
          "name": "stdout",
          "text": [
            "Epoch 10/10:\n",
            "  Train Loss: 1.4507, Train Acc: 44.02%\n",
            "  Val Loss: 1.5706, Val Acc: 38.98%\n",
            "  LR: 0.010000, Time: 16.71s\n",
            "  Overfitting Score: 0.1702\n",
            "--------------------------------------------------\n",
            "Loaded best model with validation accuracy: 39.91%\n"
          ]
        },
        {
          "output_type": "stream",
          "name": "stderr",
          "text": [
            "\n"
          ]
        },
        {
          "output_type": "display_data",
          "data": {
            "text/plain": [
              "<IPython.core.display.HTML object>"
            ],
            "text/html": []
          },
          "metadata": {}
        },
        {
          "output_type": "display_data",
          "data": {
            "text/plain": [
              "<IPython.core.display.HTML object>"
            ],
            "text/html": [
              "<br>    <style><br>        .wandb-row {<br>            display: flex;<br>            flex-direction: row;<br>            flex-wrap: wrap;<br>            justify-content: flex-start;<br>            width: 100%;<br>        }<br>        .wandb-col {<br>            display: flex;<br>            flex-direction: column;<br>            flex-basis: 100%;<br>            flex: 1;<br>            padding: 10px;<br>        }<br>    </style><br><div class=\"wandb-row\"><div class=\"wandb-col\"><h3>Run history:</h3><br/><table class=\"wandb\"><tr><td>accuracy_gap</td><td>▁▃▅▅▆▆▇▆██</td></tr><tr><td>best_val_accuracy</td><td>▁▅▅▆▆▇▇███</td></tr><tr><td>epoch</td><td>▁▂▃▃▄▅▆▆▇█</td></tr><tr><td>epoch_time</td><td>█▂▂▆▁▂▄▁▅▃</td></tr><tr><td>learning_rate</td><td>▁▁▁▁▁▁▁▁▁▁</td></tr><tr><td>loss_gap</td><td>▁▄▅▅▆▆▇▇▇█</td></tr><tr><td>overfitting_score</td><td>▁▄▅▅▆▆▇▇▇█</td></tr><tr><td>train_accuracy</td><td>▁▄▅▅▆▆▇▇██</td></tr><tr><td>train_loss</td><td>█▅▄▃▃▂▂▂▁▁</td></tr><tr><td>val_accuracy</td><td>▁▅▄▆▅▇▆█▇▇</td></tr><tr><td>val_loss</td><td>█▅▄▂▃▂▃▂▁▂</td></tr></table><br/></div><div class=\"wandb-col\"><h3>Run summary:</h3><br/><table class=\"wandb\"><tr><td>accuracy_gap</td><td>5.03785</td></tr><tr><td>best_val_accuracy</td><td>39.91177</td></tr><tr><td>epoch</td><td>10</td></tr><tr><td>epoch_time</td><td>16.7098</td></tr><tr><td>learning_rate</td><td>0.01</td></tr><tr><td>loss_gap</td><td>0.11987</td></tr><tr><td>overfitting_score</td><td>0.17024</td></tr><tr><td>train_accuracy</td><td>44.0209</td></tr><tr><td>train_loss</td><td>1.45074</td></tr><tr><td>val_accuracy</td><td>38.98305</td></tr><tr><td>val_loss</td><td>1.57061</td></tr></table><br/></div></div>"
            ]
          },
          "metadata": {}
        },
        {
          "output_type": "display_data",
          "data": {
            "text/plain": [
              "<IPython.core.display.HTML object>"
            ],
            "text/html": [
              " View run <strong style=\"color:#cdcd00\">BatchNorm_no_bn</strong> at: <a href='https://wandb.ai/nipkha21-free-university-of-tbilisi-/facial-expression-recognition/runs/he96zymx' target=\"_blank\">https://wandb.ai/nipkha21-free-university-of-tbilisi-/facial-expression-recognition/runs/he96zymx</a><br> View project at: <a href='https://wandb.ai/nipkha21-free-university-of-tbilisi-/facial-expression-recognition' target=\"_blank\">https://wandb.ai/nipkha21-free-university-of-tbilisi-/facial-expression-recognition</a><br>Synced 5 W&B file(s), 1 media file(s), 2 artifact file(s) and 0 other file(s)"
            ]
          },
          "metadata": {}
        },
        {
          "output_type": "display_data",
          "data": {
            "text/plain": [
              "<IPython.core.display.HTML object>"
            ],
            "text/html": [
              "Find logs at: <code>./wandb/run-20250608_065158-he96zymx/logs</code>"
            ]
          },
          "metadata": {}
        },
        {
          "output_type": "stream",
          "name": "stdout",
          "text": [
            "\n",
            "Testing batch normalization: with_bn\n"
          ]
        },
        {
          "output_type": "display_data",
          "data": {
            "text/plain": [
              "<IPython.core.display.HTML object>"
            ],
            "text/html": [
              "Tracking run with wandb version 0.19.11"
            ]
          },
          "metadata": {}
        },
        {
          "output_type": "display_data",
          "data": {
            "text/plain": [
              "<IPython.core.display.HTML object>"
            ],
            "text/html": [
              "Run data is saved locally in <code>/content/wandb/run-20250608_065449-bpyw1gr0</code>"
            ]
          },
          "metadata": {}
        },
        {
          "output_type": "display_data",
          "data": {
            "text/plain": [
              "<IPython.core.display.HTML object>"
            ],
            "text/html": [
              "Syncing run <strong><a href='https://wandb.ai/nipkha21-free-university-of-tbilisi-/facial-expression-recognition/runs/bpyw1gr0' target=\"_blank\">BatchNorm_with_bn</a></strong> to <a href='https://wandb.ai/nipkha21-free-university-of-tbilisi-/facial-expression-recognition' target=\"_blank\">Weights & Biases</a> (<a href='https://wandb.me/developer-guide' target=\"_blank\">docs</a>)<br>"
            ]
          },
          "metadata": {}
        },
        {
          "output_type": "display_data",
          "data": {
            "text/plain": [
              "<IPython.core.display.HTML object>"
            ],
            "text/html": [
              " View project at <a href='https://wandb.ai/nipkha21-free-university-of-tbilisi-/facial-expression-recognition' target=\"_blank\">https://wandb.ai/nipkha21-free-university-of-tbilisi-/facial-expression-recognition</a>"
            ]
          },
          "metadata": {}
        },
        {
          "output_type": "display_data",
          "data": {
            "text/plain": [
              "<IPython.core.display.HTML object>"
            ],
            "text/html": [
              " View run at <a href='https://wandb.ai/nipkha21-free-university-of-tbilisi-/facial-expression-recognition/runs/bpyw1gr0' target=\"_blank\">https://wandb.ai/nipkha21-free-university-of-tbilisi-/facial-expression-recognition/runs/bpyw1gr0</a>"
            ]
          },
          "metadata": {}
        },
        {
          "output_type": "stream",
          "name": "stdout",
          "text": [
            "Starting training for 10 epochs...\n"
          ]
        },
        {
          "output_type": "stream",
          "name": "stderr",
          "text": [
            "Training: 100%|██████████| 314/314 [00:14<00:00, 21.73it/s, Loss=1.7696, Acc=26.63%]\n",
            "Validation: 100%|██████████| 68/68 [00:02<00:00, 31.29it/s]\n"
          ]
        },
        {
          "output_type": "stream",
          "name": "stdout",
          "text": [
            "Epoch 1/10:\n",
            "  Train Loss: 1.9158, Train Acc: 26.63%\n",
            "  Val Loss: 1.6606, Val Acc: 34.64%\n",
            "  LR: 0.010000, Time: 16.63s\n",
            "  Overfitting Score: -0.3353\n",
            "--------------------------------------------------\n"
          ]
        },
        {
          "output_type": "stream",
          "name": "stderr",
          "text": [
            "Training: 100%|██████████| 314/314 [00:15<00:00, 20.56it/s, Loss=1.7016, Acc=32.82%]\n",
            "Validation: 100%|██████████| 68/68 [00:02<00:00, 31.23it/s]\n"
          ]
        },
        {
          "output_type": "stream",
          "name": "stdout",
          "text": [
            "Epoch 2/10:\n",
            "  Train Loss: 1.7135, Train Acc: 32.82%\n",
            "  Val Loss: 1.6225, Val Acc: 36.10%\n",
            "  LR: 0.010000, Time: 17.46s\n",
            "  Overfitting Score: -0.1239\n",
            "--------------------------------------------------\n"
          ]
        },
        {
          "output_type": "stream",
          "name": "stderr",
          "text": [
            "Training: 100%|██████████| 314/314 [00:14<00:00, 22.11it/s, Loss=1.6132, Acc=35.98%]\n",
            "Validation: 100%|██████████| 68/68 [00:02<00:00, 30.90it/s]\n"
          ]
        },
        {
          "output_type": "stream",
          "name": "stdout",
          "text": [
            "Epoch 3/10:\n",
            "  Train Loss: 1.6357, Train Acc: 35.98%\n",
            "  Val Loss: 1.6063, Val Acc: 36.61%\n",
            "  LR: 0.010000, Time: 16.42s\n",
            "  Overfitting Score: -0.0358\n",
            "--------------------------------------------------\n"
          ]
        },
        {
          "output_type": "stream",
          "name": "stderr",
          "text": [
            "Training: 100%|██████████| 314/314 [00:14<00:00, 21.85it/s, Loss=1.7463, Acc=38.08%]\n",
            "Validation: 100%|██████████| 68/68 [00:02<00:00, 24.92it/s]\n"
          ]
        },
        {
          "output_type": "stream",
          "name": "stdout",
          "text": [
            "Epoch 4/10:\n",
            "  Train Loss: 1.5945, Train Acc: 38.08%\n",
            "  Val Loss: 1.6304, Val Acc: 35.43%\n",
            "  LR: 0.010000, Time: 17.11s\n",
            "  Overfitting Score: 0.0624\n",
            "--------------------------------------------------\n"
          ]
        },
        {
          "output_type": "stream",
          "name": "stderr",
          "text": [
            "Training: 100%|██████████| 314/314 [00:15<00:00, 20.74it/s, Loss=1.6231, Acc=38.76%]\n",
            "Validation: 100%|██████████| 68/68 [00:02<00:00, 29.94it/s]\n"
          ]
        },
        {
          "output_type": "stream",
          "name": "stdout",
          "text": [
            "Epoch 5/10:\n",
            "  Train Loss: 1.5687, Train Acc: 38.76%\n",
            "  Val Loss: 1.5822, Val Acc: 37.66%\n",
            "  LR: 0.010000, Time: 17.42s\n",
            "  Overfitting Score: 0.0246\n",
            "--------------------------------------------------\n"
          ]
        },
        {
          "output_type": "stream",
          "name": "stderr",
          "text": [
            "Training: 100%|██████████| 314/314 [00:14<00:00, 21.84it/s, Loss=1.4592, Acc=40.31%]\n",
            "Validation: 100%|██████████| 68/68 [00:02<00:00, 29.82it/s]\n"
          ]
        },
        {
          "output_type": "stream",
          "name": "stdout",
          "text": [
            "Epoch 6/10:\n",
            "  Train Loss: 1.5354, Train Acc: 40.31%\n",
            "  Val Loss: 1.5650, Val Acc: 38.12%\n",
            "  LR: 0.010000, Time: 16.67s\n",
            "  Overfitting Score: 0.0515\n",
            "--------------------------------------------------\n"
          ]
        },
        {
          "output_type": "stream",
          "name": "stderr",
          "text": [
            "Training: 100%|██████████| 314/314 [00:14<00:00, 21.74it/s, Loss=1.4679, Acc=41.36%]\n",
            "Validation: 100%|██████████| 68/68 [00:03<00:00, 21.73it/s]\n"
          ]
        },
        {
          "output_type": "stream",
          "name": "stdout",
          "text": [
            "Epoch 7/10:\n",
            "  Train Loss: 1.5100, Train Acc: 41.36%\n",
            "  Val Loss: 1.5417, Val Acc: 40.12%\n",
            "  LR: 0.010000, Time: 17.59s\n",
            "  Overfitting Score: 0.0442\n",
            "--------------------------------------------------\n"
          ]
        },
        {
          "output_type": "stream",
          "name": "stderr",
          "text": [
            "Training: 100%|██████████| 314/314 [00:14<00:00, 21.55it/s, Loss=1.5405, Acc=42.12%]\n",
            "Validation: 100%|██████████| 68/68 [00:02<00:00, 30.82it/s]\n"
          ]
        },
        {
          "output_type": "stream",
          "name": "stdout",
          "text": [
            "Epoch 8/10:\n",
            "  Train Loss: 1.4918, Train Acc: 42.12%\n",
            "  Val Loss: 1.5479, Val Acc: 39.84%\n",
            "  LR: 0.010000, Time: 16.79s\n",
            "  Overfitting Score: 0.0789\n",
            "--------------------------------------------------\n"
          ]
        },
        {
          "output_type": "stream",
          "name": "stderr",
          "text": [
            "Training: 100%|██████████| 314/314 [00:15<00:00, 20.93it/s, Loss=1.5116, Acc=43.34%]\n",
            "Validation: 100%|██████████| 68/68 [00:02<00:00, 30.37it/s]\n"
          ]
        },
        {
          "output_type": "stream",
          "name": "stdout",
          "text": [
            "Epoch 9/10:\n",
            "  Train Loss: 1.4646, Train Acc: 43.34%\n",
            "  Val Loss: 1.5451, Val Acc: 40.31%\n",
            "  LR: 0.010000, Time: 17.26s\n",
            "  Overfitting Score: 0.1108\n",
            "--------------------------------------------------\n"
          ]
        },
        {
          "output_type": "stream",
          "name": "stderr",
          "text": [
            "Training: 100%|██████████| 314/314 [00:15<00:00, 20.55it/s, Loss=1.3723, Acc=43.93%]\n",
            "Validation: 100%|██████████| 68/68 [00:02<00:00, 29.97it/s]"
          ]
        },
        {
          "output_type": "stream",
          "name": "stdout",
          "text": [
            "Epoch 10/10:\n",
            "  Train Loss: 1.4538, Train Acc: 43.93%\n",
            "  Val Loss: 1.5326, Val Acc: 40.70%\n",
            "  LR: 0.010000, Time: 17.56s\n",
            "  Overfitting Score: 0.1110\n",
            "--------------------------------------------------\n",
            "Loaded best model with validation accuracy: 40.70%\n"
          ]
        },
        {
          "output_type": "stream",
          "name": "stderr",
          "text": [
            "\n"
          ]
        },
        {
          "output_type": "display_data",
          "data": {
            "text/plain": [
              "<IPython.core.display.HTML object>"
            ],
            "text/html": []
          },
          "metadata": {}
        },
        {
          "output_type": "display_data",
          "data": {
            "text/plain": [
              "<IPython.core.display.HTML object>"
            ],
            "text/html": [
              "<br>    <style><br>        .wandb-row {<br>            display: flex;<br>            flex-direction: row;<br>            flex-wrap: wrap;<br>            justify-content: flex-start;<br>            width: 100%;<br>        }<br>        .wandb-col {<br>            display: flex;<br>            flex-direction: column;<br>            flex-basis: 100%;<br>            flex: 1;<br>            padding: 10px;<br>        }<br>    </style><br><div class=\"wandb-row\"><div class=\"wandb-col\"><h3>Run history:</h3><br/><table class=\"wandb\"><tr><td>accuracy_gap</td><td>▁▄▆█▇▇▇▇██</td></tr><tr><td>best_val_accuracy</td><td>▁▃▃▃▄▅▇▇██</td></tr><tr><td>epoch</td><td>▁▂▃▃▄▅▆▆▇█</td></tr><tr><td>epoch_time</td><td>▂▇▁▅▇▂█▃▆█</td></tr><tr><td>learning_rate</td><td>▁▁▁▁▁▁▁▁▁▁</td></tr><tr><td>loss_gap</td><td>▁▄▆▇▇▇▇▇██</td></tr><tr><td>overfitting_score</td><td>▁▄▆▇▇▇▇▇██</td></tr><tr><td>train_accuracy</td><td>▁▄▅▆▆▇▇▇██</td></tr><tr><td>train_loss</td><td>█▅▄▃▃▂▂▂▁▁</td></tr><tr><td>val_accuracy</td><td>▁▃▃▂▄▅▇▇██</td></tr><tr><td>val_loss</td><td>█▆▅▆▄▃▂▂▂▁</td></tr></table><br/></div><div class=\"wandb-col\"><h3>Run summary:</h3><br/><table class=\"wandb\"><tr><td>accuracy_gap</td><td>3.22517</td></tr><tr><td>best_val_accuracy</td><td>40.70118</td></tr><tr><td>epoch</td><td>10</td></tr><tr><td>epoch_time</td><td>17.55933</td></tr><tr><td>learning_rate</td><td>0.01</td></tr><tr><td>loss_gap</td><td>0.07871</td></tr><tr><td>overfitting_score</td><td>0.11096</td></tr><tr><td>train_accuracy</td><td>43.92635</td></tr><tr><td>train_loss</td><td>1.45384</td></tr><tr><td>val_accuracy</td><td>40.70118</td></tr><tr><td>val_loss</td><td>1.53256</td></tr></table><br/></div></div>"
            ]
          },
          "metadata": {}
        },
        {
          "output_type": "display_data",
          "data": {
            "text/plain": [
              "<IPython.core.display.HTML object>"
            ],
            "text/html": [
              " View run <strong style=\"color:#cdcd00\">BatchNorm_with_bn</strong> at: <a href='https://wandb.ai/nipkha21-free-university-of-tbilisi-/facial-expression-recognition/runs/bpyw1gr0' target=\"_blank\">https://wandb.ai/nipkha21-free-university-of-tbilisi-/facial-expression-recognition/runs/bpyw1gr0</a><br> View project at: <a href='https://wandb.ai/nipkha21-free-university-of-tbilisi-/facial-expression-recognition' target=\"_blank\">https://wandb.ai/nipkha21-free-university-of-tbilisi-/facial-expression-recognition</a><br>Synced 5 W&B file(s), 1 media file(s), 2 artifact file(s) and 0 other file(s)"
            ]
          },
          "metadata": {}
        },
        {
          "output_type": "display_data",
          "data": {
            "text/plain": [
              "<IPython.core.display.HTML object>"
            ],
            "text/html": [
              "Find logs at: <code>./wandb/run-20250608_065449-bpyw1gr0/logs</code>"
            ]
          },
          "metadata": {}
        },
        {
          "output_type": "stream",
          "name": "stdout",
          "text": [
            "\n",
            "=== BATCH NORMALIZATION RESULTS ===\n",
            "no_bn: 39.91% (speed: 16.86s/epoch, overfitting: 0.1089)\n",
            "with_bn: 40.70% (speed: 17.09s/epoch, overfitting: 0.0793)\n"
          ]
        }
      ]
    },
    {
      "cell_type": "code",
      "source": [
        "print(\"=== TRAINING BEST ADVANCED MLP ===\")\n",
        "\n",
        "best_bn = max(bn_results.keys(), key=lambda x: bn_results[x]['best_val_acc'])\n",
        "\n",
        "print(f\"Best configuration:\")\n",
        "print(f\"  Activation: {best_activation}\")\n",
        "print(f\"  Optimizer: {best_optimizer}\")\n",
        "print(f\"  Batch Norm: {best_bn}\")\n",
        "\n",
        "train_dataset = MLPFacialExpressionDataset(\n",
        "    train_df, normalization='standard', augment=True\n",
        ")\n",
        "val_dataset = MLPFacialExpressionDataset(\n",
        "    val_df, normalization='standard', augment=False\n",
        ")\n",
        "\n",
        "train_loader = DataLoader(train_dataset, batch_size=64, shuffle=True)\n",
        "val_loader = DataLoader(val_dataset, batch_size=64, shuffle=False)\n",
        "\n",
        "\n",
        "best_model = AdvancedMLP(\n",
        "    input_size=2304,\n",
        "    hidden_sizes=[1024, 512, 256],\n",
        "    num_classes=7,\n",
        "    dropout_rate=0.3,\n",
        "    use_batch_norm=(best_bn=='with_bn')\n",
        ")\n",
        "\n",
        "criterion = nn.CrossEntropyLoss()\n",
        "optimizer = optimizers_config[best_optimizer]['class'](\n",
        "    best_model.parameters(),\n",
        "    **optimizers_config[best_optimizer]['kwargs']\n",
        ")\n",
        "\n",
        "final_trainer = AdvancedTrainer(\n",
        "    model=best_model,\n",
        "    train_loader=train_loader,\n",
        "    val_loader=val_loader,\n",
        "    criterion=criterion,\n",
        "    optimizer=optimizer,\n",
        "    device=device,\n",
        "    experiment_name=\"Advanced_MLP_Training\",\n",
        "    run_name=\"Advanced_MLP_Final\"\n",
        ")\n",
        "\n",
        "final_history = final_trainer.train(epochs=10, early_stopping_patience=10)\n",
        "\n",
        "wandb.finish()\n",
        "\n",
        "print(f\"✅ Final model training completed!\")\n",
        "print(f\"📊 Best validation accuracy: {final_trainer.best_val_acc:.4f}\")"
      ],
      "metadata": {
        "colab": {
          "base_uri": "https://localhost:8080/",
          "height": 1000
        },
        "id": "_gEE2MEy7BkF",
        "outputId": "5921b6b2-ca21-48dc-da7e-f8ad86d0e5e8"
      },
      "execution_count": 14,
      "outputs": [
        {
          "output_type": "stream",
          "name": "stdout",
          "text": [
            "=== TRAINING BEST ADVANCED MLP ===\n",
            "Best configuration:\n",
            "  Activation: leaky_relu\n",
            "  Optimizer: sgd\n",
            "  Batch Norm: with_bn\n"
          ]
        },
        {
          "output_type": "display_data",
          "data": {
            "text/plain": [
              "<IPython.core.display.HTML object>"
            ],
            "text/html": [
              "Tracking run with wandb version 0.19.11"
            ]
          },
          "metadata": {}
        },
        {
          "output_type": "display_data",
          "data": {
            "text/plain": [
              "<IPython.core.display.HTML object>"
            ],
            "text/html": [
              "Run data is saved locally in <code>/content/wandb/run-20250608_065913-c6884xob</code>"
            ]
          },
          "metadata": {}
        },
        {
          "output_type": "display_data",
          "data": {
            "text/plain": [
              "<IPython.core.display.HTML object>"
            ],
            "text/html": [
              "Syncing run <strong><a href='https://wandb.ai/nipkha21-free-university-of-tbilisi-/facial-expression-recognition/runs/c6884xob' target=\"_blank\">Advanced_MLP_Final</a></strong> to <a href='https://wandb.ai/nipkha21-free-university-of-tbilisi-/facial-expression-recognition' target=\"_blank\">Weights & Biases</a> (<a href='https://wandb.me/developer-guide' target=\"_blank\">docs</a>)<br>"
            ]
          },
          "metadata": {}
        },
        {
          "output_type": "display_data",
          "data": {
            "text/plain": [
              "<IPython.core.display.HTML object>"
            ],
            "text/html": [
              " View project at <a href='https://wandb.ai/nipkha21-free-university-of-tbilisi-/facial-expression-recognition' target=\"_blank\">https://wandb.ai/nipkha21-free-university-of-tbilisi-/facial-expression-recognition</a>"
            ]
          },
          "metadata": {}
        },
        {
          "output_type": "display_data",
          "data": {
            "text/plain": [
              "<IPython.core.display.HTML object>"
            ],
            "text/html": [
              " View run at <a href='https://wandb.ai/nipkha21-free-university-of-tbilisi-/facial-expression-recognition/runs/c6884xob' target=\"_blank\">https://wandb.ai/nipkha21-free-university-of-tbilisi-/facial-expression-recognition/runs/c6884xob</a>"
            ]
          },
          "metadata": {}
        },
        {
          "output_type": "stream",
          "name": "stdout",
          "text": [
            "Starting training for 10 epochs...\n"
          ]
        },
        {
          "output_type": "stream",
          "name": "stderr",
          "text": [
            "Training: 100%|██████████| 314/314 [00:18<00:00, 16.78it/s, Loss=1.7055, Acc=24.22%]\n",
            "Validation: 100%|██████████| 68/68 [00:02<00:00, 26.85it/s]\n"
          ]
        },
        {
          "output_type": "stream",
          "name": "stdout",
          "text": [
            "Epoch 1/10:\n",
            "  Train Loss: 1.9998, Train Acc: 24.22%\n",
            "  Val Loss: 1.6907, Val Acc: 32.97%\n",
            "  LR: 0.010000, Time: 21.26s\n",
            "  Overfitting Score: -0.3966\n",
            "--------------------------------------------------\n"
          ]
        },
        {
          "output_type": "stream",
          "name": "stderr",
          "text": [
            "Training: 100%|██████████| 314/314 [00:19<00:00, 16.01it/s, Loss=1.8173, Acc=29.67%]\n",
            "Validation: 100%|██████████| 68/68 [00:02<00:00, 25.98it/s]\n"
          ]
        },
        {
          "output_type": "stream",
          "name": "stdout",
          "text": [
            "Epoch 2/10:\n",
            "  Train Loss: 1.7927, Train Acc: 29.67%\n",
            "  Val Loss: 1.6439, Val Acc: 34.48%\n",
            "  LR: 0.010000, Time: 22.24s\n",
            "  Overfitting Score: -0.1969\n",
            "--------------------------------------------------\n"
          ]
        },
        {
          "output_type": "stream",
          "name": "stderr",
          "text": [
            "Training: 100%|██████████| 314/314 [00:23<00:00, 13.59it/s, Loss=1.5440, Acc=32.84%]\n",
            "Validation: 100%|██████████| 68/68 [00:02<00:00, 25.61it/s]\n"
          ]
        },
        {
          "output_type": "stream",
          "name": "stdout",
          "text": [
            "Epoch 3/10:\n",
            "  Train Loss: 1.7050, Train Acc: 32.84%\n",
            "  Val Loss: 1.6180, Val Acc: 35.83%\n",
            "  LR: 0.010000, Time: 25.77s\n",
            "  Overfitting Score: -0.1169\n",
            "--------------------------------------------------\n"
          ]
        },
        {
          "output_type": "stream",
          "name": "stderr",
          "text": [
            "Training: 100%|██████████| 314/314 [00:20<00:00, 15.16it/s, Loss=1.6545, Acc=34.82%]\n",
            "Validation: 100%|██████████| 68/68 [00:02<00:00, 26.26it/s]\n"
          ]
        },
        {
          "output_type": "stream",
          "name": "stdout",
          "text": [
            "Epoch 4/10:\n",
            "  Train Loss: 1.6587, Train Acc: 34.82%\n",
            "  Val Loss: 1.5987, Val Acc: 37.59%\n",
            "  LR: 0.010000, Time: 23.31s\n",
            "  Overfitting Score: -0.0878\n",
            "--------------------------------------------------\n"
          ]
        },
        {
          "output_type": "stream",
          "name": "stderr",
          "text": [
            "Training: 100%|██████████| 314/314 [00:20<00:00, 15.38it/s, Loss=1.6116, Acc=36.29%]\n",
            "Validation: 100%|██████████| 68/68 [00:02<00:00, 26.45it/s]\n"
          ]
        },
        {
          "output_type": "stream",
          "name": "stdout",
          "text": [
            "Epoch 5/10:\n",
            "  Train Loss: 1.6283, Train Acc: 36.29%\n",
            "  Val Loss: 1.5835, Val Acc: 37.57%\n",
            "  LR: 0.010000, Time: 23.00s\n",
            "  Overfitting Score: -0.0575\n",
            "--------------------------------------------------\n"
          ]
        },
        {
          "output_type": "stream",
          "name": "stderr",
          "text": [
            "Training: 100%|██████████| 314/314 [00:20<00:00, 15.64it/s, Loss=1.7183, Acc=36.95%]\n",
            "Validation: 100%|██████████| 68/68 [00:02<00:00, 26.90it/s]\n"
          ]
        },
        {
          "output_type": "stream",
          "name": "stdout",
          "text": [
            "Epoch 6/10:\n",
            "  Train Loss: 1.6005, Train Acc: 36.95%\n",
            "  Val Loss: 1.5688, Val Acc: 37.57%\n",
            "  LR: 0.010000, Time: 22.62s\n",
            "  Overfitting Score: -0.0379\n",
            "--------------------------------------------------\n"
          ]
        },
        {
          "output_type": "stream",
          "name": "stderr",
          "text": [
            "Training: 100%|██████████| 314/314 [00:19<00:00, 15.92it/s, Loss=1.5225, Acc=37.84%]\n",
            "Validation: 100%|██████████| 68/68 [00:03<00:00, 20.76it/s]\n"
          ]
        },
        {
          "output_type": "stream",
          "name": "stdout",
          "text": [
            "Epoch 7/10:\n",
            "  Train Loss: 1.5849, Train Acc: 37.84%\n",
            "  Val Loss: 1.5574, Val Acc: 39.17%\n",
            "  LR: 0.010000, Time: 23.01s\n",
            "  Overfitting Score: -0.0407\n",
            "--------------------------------------------------\n"
          ]
        },
        {
          "output_type": "stream",
          "name": "stderr",
          "text": [
            "Training: 100%|██████████| 314/314 [00:19<00:00, 16.13it/s, Loss=1.5711, Acc=38.43%]\n",
            "Validation: 100%|██████████| 68/68 [00:02<00:00, 24.53it/s]\n"
          ]
        },
        {
          "output_type": "stream",
          "name": "stdout",
          "text": [
            "Epoch 8/10:\n",
            "  Train Loss: 1.5683, Train Acc: 38.43%\n",
            "  Val Loss: 1.5630, Val Acc: 38.57%\n",
            "  LR: 0.010000, Time: 22.25s\n",
            "  Overfitting Score: -0.0067\n",
            "--------------------------------------------------\n"
          ]
        },
        {
          "output_type": "stream",
          "name": "stderr",
          "text": [
            "Training: 100%|██████████| 314/314 [00:19<00:00, 15.94it/s, Loss=1.5179, Acc=39.27%]\n",
            "Validation: 100%|██████████| 68/68 [00:02<00:00, 27.44it/s]\n"
          ]
        },
        {
          "output_type": "stream",
          "name": "stdout",
          "text": [
            "Epoch 9/10:\n",
            "  Train Loss: 1.5560, Train Acc: 39.27%\n",
            "  Val Loss: 1.5330, Val Acc: 40.56%\n",
            "  LR: 0.010000, Time: 22.19s\n",
            "  Overfitting Score: -0.0360\n",
            "--------------------------------------------------\n"
          ]
        },
        {
          "output_type": "stream",
          "name": "stderr",
          "text": [
            "Training: 100%|██████████| 314/314 [00:20<00:00, 15.68it/s, Loss=1.5193, Acc=39.81%]\n",
            "Validation: 100%|██████████| 68/68 [00:02<00:00, 27.69it/s]\n"
          ]
        },
        {
          "output_type": "stream",
          "name": "stdout",
          "text": [
            "Epoch 10/10:\n",
            "  Train Loss: 1.5401, Train Acc: 39.81%\n",
            "  Val Loss: 1.5363, Val Acc: 39.96%\n",
            "  LR: 0.010000, Time: 22.49s\n",
            "  Overfitting Score: -0.0053\n",
            "--------------------------------------------------\n",
            "Loaded best model with validation accuracy: 40.56%\n"
          ]
        },
        {
          "output_type": "display_data",
          "data": {
            "text/plain": [
              "<IPython.core.display.HTML object>"
            ],
            "text/html": []
          },
          "metadata": {}
        },
        {
          "output_type": "display_data",
          "data": {
            "text/plain": [
              "<IPython.core.display.HTML object>"
            ],
            "text/html": [
              "<br>    <style><br>        .wandb-row {<br>            display: flex;<br>            flex-direction: row;<br>            flex-wrap: wrap;<br>            justify-content: flex-start;<br>            width: 100%;<br>        }<br>        .wandb-col {<br>            display: flex;<br>            flex-direction: column;<br>            flex-basis: 100%;<br>            flex: 1;<br>            padding: 10px;<br>        }<br>    </style><br><div class=\"wandb-row\"><div class=\"wandb-col\"><h3>Run history:</h3><br/><table class=\"wandb\"><tr><td>accuracy_gap</td><td>▁▄▆▆▇█▇█▇█</td></tr><tr><td>best_val_accuracy</td><td>▁▂▄▅▅▅▇▇██</td></tr><tr><td>epoch</td><td>▁▂▃▃▄▅▆▆▇█</td></tr><tr><td>epoch_time</td><td>▁▃█▄▄▃▄▃▂▃</td></tr><tr><td>learning_rate</td><td>▁▁▁▁▁▁▁▁▁▁</td></tr><tr><td>loss_gap</td><td>▁▅▆▇▇▇▇███</td></tr><tr><td>overfitting_score</td><td>▁▅▆▇▇▇▇█▇█</td></tr><tr><td>train_accuracy</td><td>▁▃▅▆▆▇▇▇██</td></tr><tr><td>train_loss</td><td>█▅▄▃▂▂▂▁▁▁</td></tr><tr><td>val_accuracy</td><td>▁▂▄▅▅▅▇▆█▇</td></tr><tr><td>val_loss</td><td>█▆▅▄▃▃▂▂▁▁</td></tr></table><br/></div><div class=\"wandb-col\"><h3>Run summary:</h3><br/><table class=\"wandb\"><tr><td>accuracy_gap</td><td>-0.15229</td></tr><tr><td>best_val_accuracy</td><td>40.56188</td></tr><tr><td>epoch</td><td>10</td></tr><tr><td>epoch_time</td><td>22.49127</td></tr><tr><td>learning_rate</td><td>0.01</td></tr><tr><td>loss_gap</td><td>-0.00379</td></tr><tr><td>overfitting_score</td><td>-0.00532</td></tr><tr><td>train_accuracy</td><td>39.80592</td></tr><tr><td>train_loss</td><td>1.54007</td></tr><tr><td>val_accuracy</td><td>39.95821</td></tr><tr><td>val_loss</td><td>1.53628</td></tr></table><br/></div></div>"
            ]
          },
          "metadata": {}
        },
        {
          "output_type": "display_data",
          "data": {
            "text/plain": [
              "<IPython.core.display.HTML object>"
            ],
            "text/html": [
              " View run <strong style=\"color:#cdcd00\">Advanced_MLP_Final</strong> at: <a href='https://wandb.ai/nipkha21-free-university-of-tbilisi-/facial-expression-recognition/runs/c6884xob' target=\"_blank\">https://wandb.ai/nipkha21-free-university-of-tbilisi-/facial-expression-recognition/runs/c6884xob</a><br> View project at: <a href='https://wandb.ai/nipkha21-free-university-of-tbilisi-/facial-expression-recognition' target=\"_blank\">https://wandb.ai/nipkha21-free-university-of-tbilisi-/facial-expression-recognition</a><br>Synced 5 W&B file(s), 1 media file(s), 2 artifact file(s) and 0 other file(s)"
            ]
          },
          "metadata": {}
        },
        {
          "output_type": "display_data",
          "data": {
            "text/plain": [
              "<IPython.core.display.HTML object>"
            ],
            "text/html": [
              "Find logs at: <code>./wandb/run-20250608_065913-c6884xob/logs</code>"
            ]
          },
          "metadata": {}
        },
        {
          "output_type": "stream",
          "name": "stdout",
          "text": [
            "✅ Final model training completed!\n",
            "📊 Best validation accuracy: 40.5619\n"
          ]
        }
      ]
    },
    {
      "cell_type": "code",
      "source": [
        "print(\"=== MODEL ANALYSIS ===\")\n",
        "\n",
        "fig, axes = plt.subplots(2, 3, figsize=(20, 12))\n",
        "\n",
        "axes[0, 0].plot(final_history['train_loss'], label='Train Loss', linewidth=2)\n",
        "axes[0, 0].plot(final_history['val_loss'], label='Val Loss', linewidth=2)\n",
        "axes[0, 0].set_title('Training and Validation Loss')\n",
        "axes[0, 0].set_xlabel('Epoch')\n",
        "axes[0, 0].set_ylabel('Loss')\n",
        "axes[0, 0].legend()\n",
        "axes[0, 0].grid(True, alpha=0.3)\n",
        "\n",
        "axes[0, 1].plot(final_history['train_acc'], label='Train Acc', linewidth=2)\n",
        "axes[0, 1].plot(final_history['val_acc'], label='Val Acc', linewidth=2)\n",
        "axes[0, 1].set_title('Training and Validation Accuracy')\n",
        "axes[0, 1].set_xlabel('Epoch')\n",
        "axes[0, 1].set_ylabel('Accuracy (%)')\n",
        "axes[0, 1].legend()\n",
        "axes[0, 1].grid(True, alpha=0.3)\n",
        "\n",
        "axes[0, 2].plot(final_history['learning_rates'], linewidth=2, color='orange')\n",
        "axes[0, 2].set_title('Learning Rate Schedule')\n",
        "axes[0, 2].set_xlabel('Epoch')\n",
        "axes[0, 2].set_ylabel('Learning Rate')\n",
        "axes[0, 2].set_yscale('log')\n",
        "axes[0, 2].grid(True, alpha=0.3)\n",
        "\n",
        "loss_gap = np.array(final_history['val_loss']) - np.array(final_history['train_loss'])\n",
        "axes[1, 0].plot(loss_gap, linewidth=2, color='red')\n",
        "axes[1, 0].axhline(y=0, color='black', linestyle='--', alpha=0.5)\n",
        "axes[1, 0].set_title('Overfitting Indicator (Val Loss - Train Loss)')\n",
        "axes[1, 0].set_xlabel('Epoch')\n",
        "axes[1, 0].set_ylabel('Loss Difference')\n",
        "axes[1, 0].grid(True, alpha=0.3)\n",
        "\n",
        "acc_gap = np.array(final_history['train_acc']) - np.array(final_history['val_acc'])\n",
        "axes[1, 1].plot(acc_gap, linewidth=2, color='purple')\n",
        "axes[1, 1].axhline(y=0, color='black', linestyle='--', alpha=0.5)\n",
        "axes[1, 1].set_title('Generalization Gap (Train Acc - Val Acc)')\n",
        "axes[1, 1].set_xlabel('Epoch')\n",
        "axes[1, 1].set_ylabel('Accuracy Difference (%)')\n",
        "axes[1, 1].grid(True, alpha=0.3)\n",
        "\n",
        "axes[1, 2].plot(final_history['epoch_times'], linewidth=2, color='green')\n",
        "axes[1, 2].set_title('Training Time per Epoch')\n",
        "axes[1, 2].set_xlabel('Epoch')\n",
        "axes[1, 2].set_ylabel('Time (seconds)')\n",
        "axes[1, 2].grid(True, alpha=0.3)\n",
        "\n",
        "plt.tight_layout()\n",
        "plt.savefig('advanced_mlp_comprehensive_analysis.png', dpi=300, bbox_inches='tight')\n",
        "plt.show()\n",
        "\n",
        "final_loss_gap = loss_gap[-5:].mean()\n",
        "final_acc_gap = acc_gap[-5:].mean()\n",
        "\n",
        "print(\"\\n=== OVERFITTING/UNDERFITTING ANALYSIS ===\")\n",
        "print(f\"Final loss gap (val - train): {final_loss_gap:.4f}\")\n",
        "print(f\"Final accuracy gap (train - val): {final_acc_gap:.2f}%\")\n",
        "\n",
        "if final_loss_gap > 0.2 and final_acc_gap > 5:\n",
        "    print(\"🔴 OVERFITTING DETECTED\")\n",
        "    print(\"Recommendations:\")\n",
        "    print(\"  - Increase dropout rate\")\n",
        "    print(\"  - Add more regularization (L1/L2)\")\n",
        "    print(\"  - Reduce model complexity\")\n",
        "    print(\"  - Increase dataset size or augmentation\")\n",
        "elif final_history['val_acc'][-1] < 50:\n",
        "    print(\"🔴 UNDERFITTING DETECTED\")\n",
        "    print(\"Recommendations:\")\n",
        "    print(\"  - Increase model complexity\")\n",
        "    print(\"  - Reduce dropout rate\")\n",
        "    print(\"  - Train for more epochs\")\n",
        "    print(\"  - Increase learning rate\")\n",
        "else:\n",
        "    print(\"✅ GOOD FIT ACHIEVED\")\n",
        "    print(\"Model shows good generalization performance\")"
      ],
      "metadata": {
        "colab": {
          "base_uri": "https://localhost:8080/",
          "height": 984
        },
        "id": "kSO52Te07Bms",
        "outputId": "55c7a7e8-6c8c-4ee8-bb36-8699488caa64"
      },
      "execution_count": 15,
      "outputs": [
        {
          "output_type": "stream",
          "name": "stdout",
          "text": [
            "=== MODEL ANALYSIS ===\n"
          ]
        },
        {
          "output_type": "display_data",
          "data": {
            "text/plain": [
              "<Figure size 2000x1200 with 6 Axes>"
            ],
            "image/png": "[encoded data removed]"
          },
          "metadata": {}
        },
        {
          "output_type": "stream",
          "name": "stdout",
          "text": [
            "\n",
            "=== OVERFITTING/UNDERFITTING ANALYSIS ===\n",
            "Final loss gap (val - train): -0.0182\n",
            "Final accuracy gap (train - val): -0.71%\n",
            "🔴 UNDERFITTING DETECTED\n",
            "Recommendations:\n",
            "  - Increase model complexity\n",
            "  - Reduce dropout rate\n",
            "  - Train for more epochs\n",
            "  - Increase learning rate\n"
          ]
        }
      ]
    },
    {
      "cell_type": "code",
      "source": [
        "class SavedAdvancedMLP(nn.Module):\n",
        "    def __init__(self, input_size=2304, hidden_sizes=[1024, 512, 256], num_classes=7,\n",
        "                 dropout_rate=0.3, use_batch_norm=True):\n",
        "        super(SavedAdvancedMLP, self).__init__()\n",
        "\n",
        "        self.flatten = nn.Flatten()\n",
        "\n",
        "        layers = []\n",
        "        prev_size = input_size\n",
        "\n",
        "        for hidden_size in hidden_sizes:\n",
        "            layers.append(nn.Linear(prev_size, hidden_size))\n",
        "            if use_batch_norm:\n",
        "                layers.append(nn.BatchNorm1d(hidden_size))\n",
        "            layers.append(nn.ReLU())\n",
        "            layers.append(nn.Dropout(dropout_rate))\n",
        "            prev_size = hidden_size\n",
        "\n",
        "        layers.append(nn.Linear(prev_size, num_classes))\n",
        "\n",
        "        self.layers = nn.Sequential(*layers)\n",
        "\n",
        "    def forward(self, x):\n",
        "        x = self.flatten(x)\n",
        "        x = self.layers(x)\n",
        "        return x"
      ],
      "metadata": {
        "id": "tM02YNq-HZeA"
      },
      "execution_count": 17,
      "outputs": []
    },
    {
      "cell_type": "code",
      "source": [
        "print(\"=== SAVING ADVANCED MLP PIPELINE ===\")\n",
        "\n",
        "class AdvancedMLPPipeline:\n",
        "    def __init__(self, model_state_dict, model_config, normalization='standard'):\n",
        "        self.model_config = model_config\n",
        "        self.normalization = normalization\n",
        "        self.emotion_map = {0: 'Angry', 1: 'Disgust', 2: 'Fear', 3: 'Happy', 4: 'Sad', 5: 'Surprise', 6: 'Neutral'}\n",
        "\n",
        "        self.model = SavedAdvancedMLP(**model_config['model_params'])\n",
        "        self.model.load_state_dict(model_state_dict)\n",
        "        self.model.eval()\n",
        "\n",
        "    def preprocess(self, pixels_string):\n",
        "        pixels = np.array([int(p) for p in pixels_string.split()], dtype=np.float32)\n",
        "\n",
        "        if self.normalization == 'standard':\n",
        "            pixels = pixels / 255.0\n",
        "        elif self.normalization == 'centered':\n",
        "            pixels = (pixels / 255.0) * 2 - 1\n",
        "\n",
        "        return torch.FloatTensor(pixels).reshape(1, 48, 48).unsqueeze(0)\n",
        "\n",
        "    def predict(self, pixels_string):\n",
        "        with torch.no_grad():\n",
        "            input_tensor = self.preprocess(pixels_string)\n",
        "            output = self.model(input_tensor)\n",
        "            probabilities = torch.softmax(output, dim=1)\n",
        "            prediction = torch.argmax(output, dim=1)\n",
        "\n",
        "            return {\n",
        "                'predicted_class': int(prediction.item()),\n",
        "                'predicted_emotion': self.emotion_map[int(prediction.item())],\n",
        "                'confidence': float(probabilities.max().item()),\n",
        "                'all_probabilities': {\n",
        "                    self.emotion_map[i]: float(probabilities[0, i].item())\n",
        "                    for i in range(7)\n",
        "                }\n",
        "            }\n",
        "\n",
        "    def predict_batch(self, pixels_strings):\n",
        "        batch_tensors = []\n",
        "        for pixels_string in pixels_strings:\n",
        "            pixels = np.array([int(p) for p in pixels_string.split()], dtype=np.float32)\n",
        "            if self.normalization == 'standard':\n",
        "                pixels = pixels / 255.0\n",
        "            elif self.normalization == 'centered':\n",
        "                pixels = (pixels / 255.0) * 2 - 1\n",
        "\n",
        "            tensor = torch.FloatTensor(pixels).reshape(1, 48, 48)\n",
        "            batch_tensors.append(tensor)\n",
        "\n",
        "        batch_input = torch.stack(batch_tensors)\n",
        "\n",
        "        with torch.no_grad():\n",
        "            outputs = self.model(batch_input)\n",
        "            probabilities = torch.softmax(outputs, dim=1)\n",
        "            predictions = torch.argmax(outputs, dim=1)\n",
        "\n",
        "            results = []\n",
        "            for i in range(len(pixels_strings)):\n",
        "                results.append({\n",
        "                    'predicted_class': int(predictions[i].item()),\n",
        "                    'predicted_emotion': self.emotion_map[int(predictions[i].item())],\n",
        "                    'confidence': float(probabilities[i].max().item()),\n",
        "                    'all_probabilities': {\n",
        "                        self.emotion_map[j]: float(probabilities[i, j].item())\n",
        "                        for j in range(7)\n",
        "                    }\n",
        "                })\n",
        "\n",
        "            return results\n",
        "\n",
        "model_type = 'advanced'\n",
        "model_params = {\n",
        "    'input_size': 2304,\n",
        "    'hidden_sizes': [1024, 512, 256],\n",
        "    'num_classes': 7,\n",
        "    'dropout_rate': 0.3,\n",
        "    'use_batch_norm': False\n",
        "}\n",
        "\n",
        "model_config = {\n",
        "    'model_type': model_type,\n",
        "    'model_params': model_params,\n",
        "    'training_config': {\n",
        "        'best_activation': best_activation,\n",
        "        'best_optimizer': best_optimizer,\n",
        "        'best_batch_norm': best_bn,\n",
        "        'normalization': 'standard'\n",
        "    }\n",
        "}\n",
        "\n",
        "pipeline = AdvancedMLPPipeline(\n",
        "    best_model.state_dict(),\n",
        "    model_config,\n",
        "    normalization='standard'\n",
        ")\n",
        "\n",
        "os.makedirs('models/saved_pipelines', exist_ok=True)\n",
        "\n",
        "torch.save({\n",
        "    'model_state_dict': best_model.state_dict(),\n",
        "    'model_config': model_config,\n",
        "    'training_history': final_history,\n",
        "    'validation_accuracy': final_trainer.best_val_acc,\n",
        "    'evaluation_metrics': {\n",
        "        'accuracy': accuracy,\n",
        "        'per_class_f1': f1.tolist(),\n",
        "        'mean_f1': float(np.mean(f1)),\n",
        "        'confusion_matrix': cm.tolist()\n",
        "    },\n",
        "    'experiment_results': {\n",
        "        'activation_results': activation_results,\n",
        "        'optimizer_results': optimizer_results,\n",
        "        'batch_norm_results': bn_results\n",
        "    },\n",
        "    'data_split_info': {\n",
        "        'train_samples': len(train_df),\n",
        "        'val_samples': len(val_df),\n",
        "        'test_samples': len(test_df),\n",
        "        'split_method': 'predefined_stratified'\n",
        "    }\n",
        "}, 'models/saved_pipelines/advanced_mlp_pipeline.pth')\n",
        "\n",
        "print(\"✅ Advanced MLP pipeline saved successfully!\")\n",
        "\n",
        "test_sample = val_df.iloc[0]['pixels']\n",
        "test_prediction = pipeline.predict(test_sample)\n",
        "print(f\"\\nPipeline test:\")\n",
        "print(f\"Predicted emotion: {test_prediction['predicted_emotion']}\")\n",
        "print(f\"Confidence: {test_prediction['confidence']:.4f}\")\n",
        "\n",
        "print(f\"\\n📊 FINAL RESULTS SUMMARY:\")\n",
        "print(f\"🥇 Best Configuration:\")\n",
        "print(f\"   Activation: {best_activation}\")\n",
        "print(f\"   Optimizer: {best_optimizer}\")\n",
        "print(f\"   Batch Norm: {best_bn}\")\n",
        "print(f\"   Model Type: {model_type}\")\n",
        "print(f\"📈 Performance:\")\n",
        "print(f\"   Validation Accuracy: {final_trainer.best_val_acc:.2f}%\")\n",
        "print(f\"   Mean F1 Score: {np.mean(f1):.4f}\")\n",
        "print(f\"💾 Model saved to: models/saved_pipelines/advanced_mlp_pipeline.pth\")"
      ],
      "metadata": {
        "colab": {
          "base_uri": "https://localhost:8080/",
          "height": 499
        },
        "id": "X-DoRVJZAF_e",
        "outputId": "b1a54ed8-9a60-483a-be0b-7f367498e4d8"
      },
      "execution_count": 18,
      "outputs": [
        {
          "output_type": "stream",
          "name": "stdout",
          "text": [
            "=== SAVING ADVANCED MLP PIPELINE ===\n"
          ]
        },
        {
          "output_type": "error",
          "ename": "RuntimeError",
          "evalue": "Error(s) in loading state_dict for SavedAdvancedMLP:\n\tMissing key(s) in state_dict: \"layers.3.weight\", \"layers.3.bias\", \"layers.6.weight\", \"layers.6.bias\". \n\tUnexpected key(s) in state_dict: \"layers.12.weight\", \"layers.12.bias\", \"layers.1.weight\", \"layers.1.bias\", \"layers.1.running_mean\", \"layers.1.running_var\", \"layers.1.num_batches_tracked\", \"layers.4.weight\", \"layers.4.bias\", \"layers.5.weight\", \"layers.5.bias\", \"layers.5.running_mean\", \"layers.5.running_var\", \"layers.5.num_batches_tracked\", \"layers.8.weight\", \"layers.8.bias\", \"layers.9.running_mean\", \"layers.9.running_var\", \"layers.9.num_batches_tracked\". \n\tsize mismatch for layers.9.weight: copying a param with shape torch.Size([256]) from checkpoint, the shape in current model is torch.Size([7, 256]).\n\tsize mismatch for layers.9.bias: copying a param with shape torch.Size([256]) from checkpoint, the shape in current model is torch.Size([7]).",
          "traceback": [
            "\u001b[0;31m---------------------------------------------------------------------------\u001b[0m",
            "\u001b[0;31mRuntimeError\u001b[0m                              Traceback (most recent call last)",
            "\u001b[0;32m<ipython-input-18-5213a0d24db0>\u001b[0m in \u001b[0;36m<cell line: 0>\u001b[0;34m()\u001b[0m\n\u001b[1;32m     91\u001b[0m }\n\u001b[1;32m     92\u001b[0m \u001b[0;34m\u001b[0m\u001b[0m\n\u001b[0;32m---> 93\u001b[0;31m pipeline = AdvancedMLPPipeline(\n\u001b[0m\u001b[1;32m     94\u001b[0m     \u001b[0mbest_model\u001b[0m\u001b[0;34m.\u001b[0m\u001b[0mstate_dict\u001b[0m\u001b[0;34m(\u001b[0m\u001b[0;34m)\u001b[0m\u001b[0;34m,\u001b[0m\u001b[0;34m\u001b[0m\u001b[0;34m\u001b[0m\u001b[0m\n\u001b[1;32m     95\u001b[0m     \u001b[0mmodel_config\u001b[0m\u001b[0;34m,\u001b[0m\u001b[0;34m\u001b[0m\u001b[0;34m\u001b[0m\u001b[0m\n",
            "\u001b[0;32m<ipython-input-18-5213a0d24db0>\u001b[0m in \u001b[0;36m__init__\u001b[0;34m(self, model_state_dict, model_config, normalization)\u001b[0m\n\u001b[1;32m      8\u001b[0m \u001b[0;34m\u001b[0m\u001b[0m\n\u001b[1;32m      9\u001b[0m         \u001b[0mself\u001b[0m\u001b[0;34m.\u001b[0m\u001b[0mmodel\u001b[0m \u001b[0;34m=\u001b[0m \u001b[0mSavedAdvancedMLP\u001b[0m\u001b[0;34m(\u001b[0m\u001b[0;34m**\u001b[0m\u001b[0mmodel_config\u001b[0m\u001b[0;34m[\u001b[0m\u001b[0;34m'model_params'\u001b[0m\u001b[0;34m]\u001b[0m\u001b[0;34m)\u001b[0m\u001b[0;34m\u001b[0m\u001b[0;34m\u001b[0m\u001b[0m\n\u001b[0;32m---> 10\u001b[0;31m         \u001b[0mself\u001b[0m\u001b[0;34m.\u001b[0m\u001b[0mmodel\u001b[0m\u001b[0;34m.\u001b[0m\u001b[0mload_state_dict\u001b[0m\u001b[0;34m(\u001b[0m\u001b[0mmodel_state_dict\u001b[0m\u001b[0;34m)\u001b[0m\u001b[0;34m\u001b[0m\u001b[0;34m\u001b[0m\u001b[0m\n\u001b[0m\u001b[1;32m     11\u001b[0m         \u001b[0mself\u001b[0m\u001b[0;34m.\u001b[0m\u001b[0mmodel\u001b[0m\u001b[0;34m.\u001b[0m\u001b[0meval\u001b[0m\u001b[0;34m(\u001b[0m\u001b[0;34m)\u001b[0m\u001b[0;34m\u001b[0m\u001b[0;34m\u001b[0m\u001b[0m\n\u001b[1;32m     12\u001b[0m \u001b[0;34m\u001b[0m\u001b[0m\n",
            "\u001b[0;32m/usr/local/lib/python3.11/dist-packages/torch/nn/modules/module.py\u001b[0m in \u001b[0;36mload_state_dict\u001b[0;34m(self, state_dict, strict, assign)\u001b[0m\n\u001b[1;32m   2579\u001b[0m \u001b[0;34m\u001b[0m\u001b[0m\n\u001b[1;32m   2580\u001b[0m         \u001b[0;32mif\u001b[0m \u001b[0mlen\u001b[0m\u001b[0;34m(\u001b[0m\u001b[0merror_msgs\u001b[0m\u001b[0;34m)\u001b[0m \u001b[0;34m>\u001b[0m \u001b[0;36m0\u001b[0m\u001b[0;34m:\u001b[0m\u001b[0;34m\u001b[0m\u001b[0;34m\u001b[0m\u001b[0m\n\u001b[0;32m-> 2581\u001b[0;31m             raise RuntimeError(\n\u001b[0m\u001b[1;32m   2582\u001b[0m                 \"Error(s) in loading state_dict for {}:\\n\\t{}\".format(\n\u001b[1;32m   2583\u001b[0m                     \u001b[0mself\u001b[0m\u001b[0;34m.\u001b[0m\u001b[0m__class__\u001b[0m\u001b[0;34m.\u001b[0m\u001b[0m__name__\u001b[0m\u001b[0;34m,\u001b[0m \u001b[0;34m\"\\n\\t\"\u001b[0m\u001b[0;34m.\u001b[0m\u001b[0mjoin\u001b[0m\u001b[0;34m(\u001b[0m\u001b[0merror_msgs\u001b[0m\u001b[0;34m)\u001b[0m\u001b[0;34m\u001b[0m\u001b[0;34m\u001b[0m\u001b[0m\n",
            "\u001b[0;31mRuntimeError\u001b[0m: Error(s) in loading state_dict for SavedAdvancedMLP:\n\tMissing key(s) in state_dict: \"layers.3.weight\", \"layers.3.bias\", \"layers.6.weight\", \"layers.6.bias\". \n\tUnexpected key(s) in state_dict: \"layers.12.weight\", \"layers.12.bias\", \"layers.1.weight\", \"layers.1.bias\", \"layers.1.running_mean\", \"layers.1.running_var\", \"layers.1.num_batches_tracked\", \"layers.4.weight\", \"layers.4.bias\", \"layers.5.weight\", \"layers.5.bias\", \"layers.5.running_mean\", \"layers.5.running_var\", \"layers.5.num_batches_tracked\", \"layers.8.weight\", \"layers.8.bias\", \"layers.9.running_mean\", \"layers.9.running_var\", \"layers.9.num_batches_tracked\". \n\tsize mismatch for layers.9.weight: copying a param with shape torch.Size([256]) from checkpoint, the shape in current model is torch.Size([7, 256]).\n\tsize mismatch for layers.9.bias: copying a param with shape torch.Size([256]) from checkpoint, the shape in current model is torch.Size([7])."
          ]
        }
      ]
    }
  ]
}