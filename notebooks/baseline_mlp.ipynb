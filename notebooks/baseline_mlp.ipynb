{
  "nbformat": 4,
  "nbformat_minor": 0,
  "metadata": {
    "colab": {
      "provenance": [],
      "gpuType": "T4"
    },
    "kernelspec": {
      "name": "python3",
      "display_name": "Python 3"
    },
    "language_info": {
      "name": "python"
    },
    "accelerator": "GPU"
  },
  "cells": [
    {
      "cell_type": "code",
      "execution_count": 1,
      "metadata": {
        "id": "GpfdjqTZlDRQ",
        "colab": {
          "base_uri": "https://localhost:8080/"
        },
        "outputId": "eac1dc63-9af3-4ab0-a6a2-d64111960b11"
      },
      "outputs": [
        {
          "output_type": "stream",
          "name": "stdout",
          "text": [
            "Requirement already satisfied: wandb in /usr/local/lib/python3.11/dist-packages (0.19.11)\n",
            "Requirement already satisfied: click!=8.0.0,>=7.1 in /usr/local/lib/python3.11/dist-packages (from wandb) (8.2.1)\n",
            "Requirement already satisfied: docker-pycreds>=0.4.0 in /usr/local/lib/python3.11/dist-packages (from wandb) (0.4.0)\n",
            "Requirement already satisfied: gitpython!=3.1.29,>=1.0.0 in /usr/local/lib/python3.11/dist-packages (from wandb) (3.1.44)\n",
            "Requirement already satisfied: platformdirs in /usr/local/lib/python3.11/dist-packages (from wandb) (4.3.8)\n",
            "Requirement already satisfied: protobuf!=4.21.0,!=5.28.0,<7,>=3.19.0 in /usr/local/lib/python3.11/dist-packages (from wandb) (5.29.5)\n",
            "Requirement already satisfied: psutil>=5.0.0 in /usr/local/lib/python3.11/dist-packages (from wandb) (5.9.5)\n",
            "Requirement already satisfied: pydantic<3 in /usr/local/lib/python3.11/dist-packages (from wandb) (2.11.5)\n",
            "Requirement already satisfied: pyyaml in /usr/local/lib/python3.11/dist-packages (from wandb) (6.0.2)\n",
            "Requirement already satisfied: requests<3,>=2.0.0 in /usr/local/lib/python3.11/dist-packages (from wandb) (2.32.3)\n",
            "Requirement already satisfied: sentry-sdk>=2.0.0 in /usr/local/lib/python3.11/dist-packages (from wandb) (2.29.1)\n",
            "Requirement already satisfied: setproctitle in /usr/local/lib/python3.11/dist-packages (from wandb) (1.3.6)\n",
            "Requirement already satisfied: setuptools in /usr/local/lib/python3.11/dist-packages (from wandb) (75.2.0)\n",
            "Requirement already satisfied: typing-extensions<5,>=4.4 in /usr/local/lib/python3.11/dist-packages (from wandb) (4.14.0)\n",
            "Requirement already satisfied: six>=1.4.0 in /usr/local/lib/python3.11/dist-packages (from docker-pycreds>=0.4.0->wandb) (1.17.0)\n",
            "Requirement already satisfied: gitdb<5,>=4.0.1 in /usr/local/lib/python3.11/dist-packages (from gitpython!=3.1.29,>=1.0.0->wandb) (4.0.12)\n",
            "Requirement already satisfied: annotated-types>=0.6.0 in /usr/local/lib/python3.11/dist-packages (from pydantic<3->wandb) (0.7.0)\n",
            "Requirement already satisfied: pydantic-core==2.33.2 in /usr/local/lib/python3.11/dist-packages (from pydantic<3->wandb) (2.33.2)\n",
            "Requirement already satisfied: typing-inspection>=0.4.0 in /usr/local/lib/python3.11/dist-packages (from pydantic<3->wandb) (0.4.1)\n",
            "Requirement already satisfied: charset-normalizer<4,>=2 in /usr/local/lib/python3.11/dist-packages (from requests<3,>=2.0.0->wandb) (3.4.2)\n",
            "Requirement already satisfied: idna<4,>=2.5 in /usr/local/lib/python3.11/dist-packages (from requests<3,>=2.0.0->wandb) (3.10)\n",
            "Requirement already satisfied: urllib3<3,>=1.21.1 in /usr/local/lib/python3.11/dist-packages (from requests<3,>=2.0.0->wandb) (2.4.0)\n",
            "Requirement already satisfied: certifi>=2017.4.17 in /usr/local/lib/python3.11/dist-packages (from requests<3,>=2.0.0->wandb) (2025.4.26)\n",
            "Requirement already satisfied: smmap<6,>=3.0.1 in /usr/local/lib/python3.11/dist-packages (from gitdb<5,>=4.0.1->gitpython!=3.1.29,>=1.0.0->wandb) (5.0.2)\n"
          ]
        }
      ],
      "source": [
        "!pip install wandb"
      ]
    },
    {
      "cell_type": "code",
      "source": [
        "import wandb"
      ],
      "metadata": {
        "id": "MN4q_8mWLwF-"
      },
      "execution_count": 2,
      "outputs": []
    },
    {
      "cell_type": "code",
      "source": [
        "wandb.login()"
      ],
      "metadata": {
        "colab": {
          "base_uri": "https://localhost:8080/",
          "height": 211
        },
        "id": "X8ROGEdrLzpo",
        "outputId": "3fb785b0-b84c-4945-8567-9f48e41d754f"
      },
      "execution_count": 3,
      "outputs": [
        {
          "output_type": "display_data",
          "data": {
            "text/plain": [
              "<IPython.core.display.Javascript object>"
            ],
            "application/javascript": [
              "\n",
              "        window._wandbApiKey = new Promise((resolve, reject) => {\n",
              "            function loadScript(url) {\n",
              "            return new Promise(function(resolve, reject) {\n",
              "                let newScript = document.createElement(\"script\");\n",
              "                newScript.onerror = reject;\n",
              "                newScript.onload = resolve;\n",
              "                document.body.appendChild(newScript);\n",
              "                newScript.src = url;\n",
              "            });\n",
              "            }\n",
              "            loadScript(\"https://cdn.jsdelivr.net/npm/postmate/build/postmate.min.js\").then(() => {\n",
              "            const iframe = document.createElement('iframe')\n",
              "            iframe.style.cssText = \"width:0;height:0;border:none\"\n",
              "            document.body.appendChild(iframe)\n",
              "            const handshake = new Postmate({\n",
              "                container: iframe,\n",
              "                url: 'https://wandb.ai/authorize'\n",
              "            });\n",
              "            const timeout = setTimeout(() => reject(\"Couldn't auto authenticate\"), 5000)\n",
              "            handshake.then(function(child) {\n",
              "                child.on('authorize', data => {\n",
              "                    clearTimeout(timeout)\n",
              "                    resolve(data)\n",
              "                });\n",
              "            });\n",
              "            })\n",
              "        });\n",
              "    "
            ]
          },
          "metadata": {}
        },
        {
          "output_type": "stream",
          "name": "stderr",
          "text": [
            "\u001b[34m\u001b[1mwandb\u001b[0m: Logging into wandb.ai. (Learn how to deploy a W&B server locally: https://wandb.me/wandb-server)\n",
            "\u001b[34m\u001b[1mwandb\u001b[0m: You can find your API key in your browser here: https://wandb.ai/authorize\n",
            "wandb: Paste an API key from your profile and hit enter:"
          ]
        },
        {
          "name": "stdout",
          "output_type": "stream",
          "text": [
            " ··········\n"
          ]
        },
        {
          "output_type": "stream",
          "name": "stderr",
          "text": [
            "\u001b[34m\u001b[1mwandb\u001b[0m: \u001b[33mWARNING\u001b[0m If you're specifying your api key in code, ensure this code is not shared publicly.\n",
            "\u001b[34m\u001b[1mwandb\u001b[0m: \u001b[33mWARNING\u001b[0m Consider setting the WANDB_API_KEY environment variable, or running `wandb login` from the command line.\n",
            "\u001b[34m\u001b[1mwandb\u001b[0m: No netrc file found, creating one.\n",
            "\u001b[34m\u001b[1mwandb\u001b[0m: Appending key for api.wandb.ai to your netrc file: /root/.netrc\n",
            "\u001b[34m\u001b[1mwandb\u001b[0m: Currently logged in as: \u001b[33mnipkha21\u001b[0m (\u001b[33mnipkha21-free-university-of-tbilisi-\u001b[0m) to \u001b[32mhttps://api.wandb.ai\u001b[0m. Use \u001b[1m`wandb login --relogin`\u001b[0m to force relogin\n"
          ]
        },
        {
          "output_type": "execute_result",
          "data": {
            "text/plain": [
              "True"
            ]
          },
          "metadata": {},
          "execution_count": 3
        }
      ]
    },
    {
      "cell_type": "code",
      "source": [
        "from google.colab import drive\n",
        "drive.mount('/content/drive')"
      ],
      "metadata": {
        "colab": {
          "base_uri": "https://localhost:8080/"
        },
        "id": "D89Cc2aQyFl7",
        "outputId": "8a37103e-9a49-4389-d81c-cb487d04bd9c"
      },
      "execution_count": 4,
      "outputs": [
        {
          "output_type": "stream",
          "name": "stdout",
          "text": [
            "Mounted at /content/drive\n"
          ]
        }
      ]
    },
    {
      "cell_type": "code",
      "source": [
        "import sys\n",
        "import os\n",
        "import numpy as np\n",
        "import pandas as pd\n",
        "import matplotlib.pyplot as plt\n",
        "import seaborn as sns\n",
        "from data_utils import create_data_loaders, get_data_statistics\n",
        "from models import SimpleMLP, get_model\n",
        "from training_utils import ModelTrainer, EarlyStopping, get_optimizer, get_scheduler\n",
        "from evaluation import ModelEvaluator"
      ],
      "metadata": {
        "id": "4tTypGWrL1iW"
      },
      "execution_count": 8,
      "outputs": []
    },
    {
      "cell_type": "code",
      "source": [
        "import torch\n",
        "import torch.nn as nn\n",
        "import torch.optim as optim\n",
        "import torch.nn.functional as F\n",
        "from torch.utils.data import Dataset, DataLoader, random_split\n",
        "from sklearn.model_selection import StratifiedKFold, train_test_split\n",
        "from sklearn.metrics import classification_report, confusion_matrix, accuracy_score\n",
        "import wandb\n",
        "from tqdm import tqdm\n",
        "import time"
      ],
      "metadata": {
        "id": "1AVB4X_s3KIh"
      },
      "execution_count": 9,
      "outputs": []
    },
    {
      "cell_type": "code",
      "source": [
        "class MLPFacialExpressionDataset(Dataset):\n",
        "    def __init__(self, data, transform=None, is_test=False):\n",
        "        self.data = data\n",
        "        self.is_test = is_test\n",
        "\n",
        "    def __len__(self):\n",
        "        return len(self.data)\n",
        "\n",
        "    def __getitem__(self, idx):\n",
        "        pixels = self.data.iloc[idx]['pixels']\n",
        "        image = np.array([int(pixel) for pixel in pixels.split()], dtype=np.float32)\n",
        "        image = image / 255.0\n",
        "        image = torch.FloatTensor(image)\n",
        "\n",
        "        if self.is_test:\n",
        "            return image\n",
        "        else:\n",
        "            emotion = int(self.data.iloc[idx]['emotion'])\n",
        "            return image, emotion"
      ],
      "metadata": {
        "id": "uVQweAPH9GVt"
      },
      "execution_count": 10,
      "outputs": []
    },
    {
      "cell_type": "code",
      "source": [
        "device = torch.device('cuda' if torch.cuda.is_available() else 'cpu')"
      ],
      "metadata": {
        "id": "TagVHt-_3O3t"
      },
      "execution_count": 11,
      "outputs": []
    },
    {
      "cell_type": "code",
      "source": [
        "train_path='drive/MyDrive/train.csv'\n",
        "train_df = pd.read_csv(train_path)"
      ],
      "metadata": {
        "id": "wroX_rsG3U09"
      },
      "execution_count": 12,
      "outputs": []
    },
    {
      "cell_type": "code",
      "source": [
        "print(f\"Training set: {train_df.shape}\")"
      ],
      "metadata": {
        "colab": {
          "base_uri": "https://localhost:8080/"
        },
        "id": "MTrvs3K43qZF",
        "outputId": "70904fd4-9536-4779-91f7-e37fdf80968c"
      },
      "execution_count": 13,
      "outputs": [
        {
          "output_type": "stream",
          "name": "stdout",
          "text": [
            "Training set: (28709, 2)\n"
          ]
        }
      ]
    },
    {
      "cell_type": "code",
      "source": [
        "emotion_map = {0: 'Angry', 1: 'Disgust', 2: 'Fear', 3: 'Happy', 4: 'Sad', 5: 'Surprise', 6: 'Neutral'}"
      ],
      "metadata": {
        "id": "HNpkLK2j3v0m"
      },
      "execution_count": 14,
      "outputs": []
    },
    {
      "cell_type": "code",
      "source": [
        "from data_utils import (\n",
        "        load_split_data,\n",
        "        get_transforms\n",
        "    )"
      ],
      "metadata": {
        "id": "LwBUkcpB3xYe"
      },
      "execution_count": 15,
      "outputs": []
    },
    {
      "cell_type": "code",
      "source": [
        "from models import SimpleMLP, get_model"
      ],
      "metadata": {
        "id": "BP9KhXIs5936"
      },
      "execution_count": 16,
      "outputs": []
    },
    {
      "cell_type": "code",
      "source": [
        "def train_model(model, train_loader, val_loader, criterion, optimizer, scheduler,\n",
        "                num_epochs, experiment_name, run_name, device='cuda'):\n",
        "\n",
        "    wandb.init(\n",
        "        project=\"facial-expression-recognition\",\n",
        "        group=experiment_name,\n",
        "        name=run_name,\n",
        "        config={\n",
        "            \"data_split_method\": \"predefined_stratified\",\n",
        "            \"train_samples\": len(train_loader.dataset),\n",
        "            \"val_samples\": len(val_loader.dataset),\n",
        "            \"split_random_state\": 42,\n",
        "            \"model\": \"baseline_mlp\"\n",
        "        },\n",
        "        reinit=True\n",
        "    )\n",
        "\n",
        "    wandb.watch(model, log='all')\n",
        "\n",
        "    model = model.to(device)\n",
        "    history = {'train_loss': [], 'train_acc': [], 'val_loss': [], 'val_acc': []}\n",
        "    best_val_acc = 0.0\n",
        "    best_model_state = None\n",
        "\n",
        "    print(f\"Starting training for {num_epochs} epochs...\")\n",
        "\n",
        "    for epoch in range(num_epochs):\n",
        "        model.train()\n",
        "        train_loss = 0.0\n",
        "        train_correct = 0\n",
        "        train_total = 0\n",
        "\n",
        "        pbar = tqdm(train_loader, desc=f\"Epoch {epoch+1}/{num_epochs} [Train]\")\n",
        "        for batch_idx, (data, targets) in enumerate(pbar):\n",
        "            data, targets = data.to(device), targets.to(device)\n",
        "\n",
        "            optimizer.zero_grad()\n",
        "            outputs = model(data)\n",
        "            loss = criterion(outputs, targets)\n",
        "            loss.backward()\n",
        "            optimizer.step()\n",
        "\n",
        "            train_loss += loss.item()\n",
        "            _, predicted = torch.max(outputs.data, 1)\n",
        "            train_total += targets.size(0)\n",
        "            train_correct += (predicted == targets).sum().item()\n",
        "\n",
        "            current_acc = 100. * train_correct / train_total\n",
        "            pbar.set_postfix({'Loss': f'{loss.item():.4f}', 'Acc': f'{current_acc:.2f}%'})\n",
        "\n",
        "        model.eval()\n",
        "        val_loss = 0.0\n",
        "        val_correct = 0\n",
        "        val_total = 0\n",
        "\n",
        "        with torch.no_grad():\n",
        "            for data, targets in tqdm(val_loader, desc=f\"Epoch {epoch+1}/{num_epochs} [Val]\"):\n",
        "                data, targets = data.to(device), targets.to(device)\n",
        "                outputs = model(data)\n",
        "                loss = criterion(outputs, targets)\n",
        "\n",
        "                val_loss += loss.item()\n",
        "                _, predicted = torch.max(outputs, 1)\n",
        "                val_total += targets.size(0)\n",
        "                val_correct += (predicted == targets).sum().item()\n",
        "\n",
        "        epoch_train_loss = train_loss / len(train_loader)\n",
        "        epoch_train_acc = 100. * train_correct / train_total\n",
        "        epoch_val_loss = val_loss / len(val_loader)\n",
        "        epoch_val_acc = 100. * val_correct / val_total\n",
        "\n",
        "        current_lr = optimizer.param_groups[0]['lr']\n",
        "        if scheduler:\n",
        "            scheduler.step()\n",
        "\n",
        "        if epoch_val_acc > best_val_acc:\n",
        "            best_val_acc = epoch_val_acc\n",
        "            best_model_state = model.state_dict().copy()\n",
        "\n",
        "        history['train_loss'].append(epoch_train_loss)\n",
        "        history['train_acc'].append(epoch_train_acc)\n",
        "        history['val_loss'].append(epoch_val_loss)\n",
        "        history['val_acc'].append(epoch_val_acc)\n",
        "\n",
        "        wandb.log({\n",
        "            'epoch': epoch + 1,\n",
        "            'train_loss': epoch_train_loss,\n",
        "            'train_accuracy': epoch_train_acc,\n",
        "            'val_loss': epoch_val_loss,\n",
        "            'val_accuracy': epoch_val_acc,\n",
        "            'learning_rate': current_lr\n",
        "        })\n",
        "\n",
        "        print(f\"Epoch {epoch+1}/{num_epochs}:\")\n",
        "        print(f\"  Train Loss: {epoch_train_loss:.4f}, Train Acc: {epoch_train_acc:.2f}%\")\n",
        "        print(f\"  Val Loss: {epoch_val_loss:.4f}, Val Acc: {epoch_val_acc:.2f}%\")\n",
        "        print(f\"  Learning Rate: {current_lr:.6f}\")\n",
        "        print(\"-\" * 50)\n",
        "\n",
        "    if best_model_state:\n",
        "        model.load_state_dict(best_model_state)\n",
        "        print(f\"Loaded best model with validation accuracy: {best_val_acc:.2f}%\")\n",
        "\n",
        "    wandb.finish()\n",
        "    return model, history"
      ],
      "metadata": {
        "id": "UdHW08Lt6BFe"
      },
      "execution_count": 17,
      "outputs": []
    },
    {
      "cell_type": "code",
      "source": [
        "wandb.login()\n",
        "\n",
        "print(\"=== LOADING PRE-SPLIT DATA ===\")\n",
        "\n",
        "train_df, val_df, test_df = load_split_data('drive/MyDrive/data')\n",
        "\n",
        "emotion_map = {0: 'Angry', 1: 'Disgust', 2: 'Fear', 3: 'Happy', 4: 'Sad', 5: 'Surprise', 6: 'Neutral'}"
      ],
      "metadata": {
        "colab": {
          "base_uri": "https://localhost:8080/"
        },
        "id": "uJr3pH_R61nQ",
        "outputId": "9dd2aa01-7ab1-48d1-dff7-ae5346b0da7b"
      },
      "execution_count": 18,
      "outputs": [
        {
          "output_type": "stream",
          "name": "stdout",
          "text": [
            "=== LOADING PRE-SPLIT DATA ===\n"
          ]
        }
      ]
    },
    {
      "cell_type": "code",
      "source": [
        "print(\"=== DATA PREPROCESSING EXPERIMENTS ===\")\n",
        "\n",
        "wandb.init(\n",
        "    project=\"facial-expression-recognition\",\n",
        "    group=\"MLP_Training\",\n",
        "    name=\"MLP_Data_Cleaning\",\n",
        "    config={\n",
        "        \"data_split_method\": \"predefined_stratified\",\n",
        "        \"train_samples\": len(train_df),\n",
        "        \"val_samples\": len(val_df),\n",
        "        \"experiment_type\": \"data_preprocessing\"\n",
        "    },\n",
        "    reinit=True\n",
        ")\n",
        "\n",
        "batch_sizes = [16, 32, 64, 128]\n",
        "preprocessing_results = {}\n",
        "\n",
        "for batch_size in batch_sizes:\n",
        "    print(f\"\\nTesting batch size: {batch_size}\")\n",
        "\n",
        "    train_dataset = MLPFacialExpressionDataset(train_df)\n",
        "    val_dataset = MLPFacialExpressionDataset(val_df)\n",
        "\n",
        "    train_loader = DataLoader(train_dataset, batch_size=batch_size, shuffle=True, num_workers=2)\n",
        "    val_loader = DataLoader(val_dataset, batch_size=batch_size, shuffle=False, num_workers=2)\n",
        "\n",
        "    start_time = time.time()\n",
        "    for i, (data, target) in enumerate(train_loader):\n",
        "        if i >= 10:\n",
        "            break\n",
        "    loading_time = time.time() - start_time\n",
        "\n",
        "    preprocessing_results[batch_size] = {\n",
        "        'loading_time': loading_time,\n",
        "        'batches_per_epoch': len(train_loader),\n",
        "        'memory_per_batch': data.element_size() * data.nelement() / (1024**2)\n",
        "    }\n",
        "\n",
        "    print(f\"  Loading time (10 batches): {loading_time:.2f}s\")\n",
        "    print(f\"  Batches per epoch: {len(train_loader)}\")\n",
        "    print(f\"  Memory per batch: {preprocessing_results[batch_size]['memory_per_batch']:.2f} MB\")\n",
        "\n",
        "for batch_size, results in preprocessing_results.items():\n",
        "    wandb.log({\n",
        "        f'batch_size_{batch_size}_loading_time': results['loading_time'],\n",
        "        f'batch_size_{batch_size}_batches_per_epoch': results['batches_per_epoch'],\n",
        "        f'batch_size_{batch_size}_memory_mb': results['memory_per_batch']\n",
        "    })\n",
        "\n",
        "wandb.finish()"
      ],
      "metadata": {
        "colab": {
          "base_uri": "https://localhost:8080/",
          "height": 1000
        },
        "id": "R-E6GVEV66gr",
        "outputId": "56e152b3-0da9-485b-f166-25facc1b27c3"
      },
      "execution_count": 19,
      "outputs": [
        {
          "output_type": "stream",
          "name": "stdout",
          "text": [
            "=== DATA PREPROCESSING EXPERIMENTS ===\n"
          ]
        },
        {
          "output_type": "stream",
          "name": "stderr",
          "text": [
            "\u001b[34m\u001b[1mwandb\u001b[0m: \u001b[33mWARNING\u001b[0m Using a boolean value for 'reinit' is deprecated. Use 'return_previous' or 'finish_previous' instead.\n"
          ]
        },
        {
          "output_type": "display_data",
          "data": {
            "text/plain": [
              "<IPython.core.display.HTML object>"
            ],
            "text/html": [
              "Tracking run with wandb version 0.19.11"
            ]
          },
          "metadata": {}
        },
        {
          "output_type": "display_data",
          "data": {
            "text/plain": [
              "<IPython.core.display.HTML object>"
            ],
            "text/html": [
              "Run data is saved locally in <code>/content/wandb/run-20250607_152726-9yijnwy2</code>"
            ]
          },
          "metadata": {}
        },
        {
          "output_type": "display_data",
          "data": {
            "text/plain": [
              "<IPython.core.display.HTML object>"
            ],
            "text/html": [
              "Syncing run <strong><a href='https://wandb.ai/nipkha21-free-university-of-tbilisi-/facial-expression-recognition/runs/9yijnwy2' target=\"_blank\">MLP_Data_Cleaning</a></strong> to <a href='https://wandb.ai/nipkha21-free-university-of-tbilisi-/facial-expression-recognition' target=\"_blank\">Weights & Biases</a> (<a href='https://wandb.me/developer-guide' target=\"_blank\">docs</a>)<br>"
            ]
          },
          "metadata": {}
        },
        {
          "output_type": "display_data",
          "data": {
            "text/plain": [
              "<IPython.core.display.HTML object>"
            ],
            "text/html": [
              " View project at <a href='https://wandb.ai/nipkha21-free-university-of-tbilisi-/facial-expression-recognition' target=\"_blank\">https://wandb.ai/nipkha21-free-university-of-tbilisi-/facial-expression-recognition</a>"
            ]
          },
          "metadata": {}
        },
        {
          "output_type": "display_data",
          "data": {
            "text/plain": [
              "<IPython.core.display.HTML object>"
            ],
            "text/html": [
              " View run at <a href='https://wandb.ai/nipkha21-free-university-of-tbilisi-/facial-expression-recognition/runs/9yijnwy2' target=\"_blank\">https://wandb.ai/nipkha21-free-university-of-tbilisi-/facial-expression-recognition/runs/9yijnwy2</a>"
            ]
          },
          "metadata": {}
        },
        {
          "output_type": "stream",
          "name": "stdout",
          "text": [
            "\n",
            "Testing batch size: 16\n",
            "  Loading time (10 batches): 0.31s\n",
            "  Batches per epoch: 1256\n",
            "  Memory per batch: 0.14 MB\n",
            "\n",
            "Testing batch size: 32\n",
            "  Loading time (10 batches): 0.32s\n",
            "  Batches per epoch: 628\n",
            "  Memory per batch: 0.28 MB\n",
            "\n",
            "Testing batch size: 64\n",
            "  Loading time (10 batches): 0.54s\n",
            "  Batches per epoch: 314\n",
            "  Memory per batch: 0.56 MB\n",
            "\n",
            "Testing batch size: 128\n",
            "  Loading time (10 batches): 1.08s\n",
            "  Batches per epoch: 157\n",
            "  Memory per batch: 1.12 MB\n"
          ]
        },
        {
          "output_type": "display_data",
          "data": {
            "text/plain": [
              "<IPython.core.display.HTML object>"
            ],
            "text/html": []
          },
          "metadata": {}
        },
        {
          "output_type": "display_data",
          "data": {
            "text/plain": [
              "<IPython.core.display.HTML object>"
            ],
            "text/html": [
              "<br>    <style><br>        .wandb-row {<br>            display: flex;<br>            flex-direction: row;<br>            flex-wrap: wrap;<br>            justify-content: flex-start;<br>            width: 100%;<br>        }<br>        .wandb-col {<br>            display: flex;<br>            flex-direction: column;<br>            flex-basis: 100%;<br>            flex: 1;<br>            padding: 10px;<br>        }<br>    </style><br><div class=\"wandb-row\"><div class=\"wandb-col\"><h3>Run history:</h3><br/><table class=\"wandb\"><tr><td>batch_size_128_batches_per_epoch</td><td>▁</td></tr><tr><td>batch_size_128_loading_time</td><td>▁</td></tr><tr><td>batch_size_128_memory_mb</td><td>▁</td></tr><tr><td>batch_size_16_batches_per_epoch</td><td>▁</td></tr><tr><td>batch_size_16_loading_time</td><td>▁</td></tr><tr><td>batch_size_16_memory_mb</td><td>▁</td></tr><tr><td>batch_size_32_batches_per_epoch</td><td>▁</td></tr><tr><td>batch_size_32_loading_time</td><td>▁</td></tr><tr><td>batch_size_32_memory_mb</td><td>▁</td></tr><tr><td>batch_size_64_batches_per_epoch</td><td>▁</td></tr><tr><td>batch_size_64_loading_time</td><td>▁</td></tr><tr><td>batch_size_64_memory_mb</td><td>▁</td></tr></table><br/></div><div class=\"wandb-col\"><h3>Run summary:</h3><br/><table class=\"wandb\"><tr><td>batch_size_128_batches_per_epoch</td><td>157</td></tr><tr><td>batch_size_128_loading_time</td><td>1.08044</td></tr><tr><td>batch_size_128_memory_mb</td><td>1.125</td></tr><tr><td>batch_size_16_batches_per_epoch</td><td>1256</td></tr><tr><td>batch_size_16_loading_time</td><td>0.30782</td></tr><tr><td>batch_size_16_memory_mb</td><td>0.14062</td></tr><tr><td>batch_size_32_batches_per_epoch</td><td>628</td></tr><tr><td>batch_size_32_loading_time</td><td>0.31621</td></tr><tr><td>batch_size_32_memory_mb</td><td>0.28125</td></tr><tr><td>batch_size_64_batches_per_epoch</td><td>314</td></tr><tr><td>batch_size_64_loading_time</td><td>0.53789</td></tr><tr><td>batch_size_64_memory_mb</td><td>0.5625</td></tr></table><br/></div></div>"
            ]
          },
          "metadata": {}
        },
        {
          "output_type": "display_data",
          "data": {
            "text/plain": [
              "<IPython.core.display.HTML object>"
            ],
            "text/html": [
              " View run <strong style=\"color:#cdcd00\">MLP_Data_Cleaning</strong> at: <a href='https://wandb.ai/nipkha21-free-university-of-tbilisi-/facial-expression-recognition/runs/9yijnwy2' target=\"_blank\">https://wandb.ai/nipkha21-free-university-of-tbilisi-/facial-expression-recognition/runs/9yijnwy2</a><br> View project at: <a href='https://wandb.ai/nipkha21-free-university-of-tbilisi-/facial-expression-recognition' target=\"_blank\">https://wandb.ai/nipkha21-free-university-of-tbilisi-/facial-expression-recognition</a><br>Synced 5 W&B file(s), 0 media file(s), 0 artifact file(s) and 0 other file(s)"
            ]
          },
          "metadata": {}
        },
        {
          "output_type": "display_data",
          "data": {
            "text/plain": [
              "<IPython.core.display.HTML object>"
            ],
            "text/html": [
              "Find logs at: <code>./wandb/run-20250607_152726-9yijnwy2/logs</code>"
            ]
          },
          "metadata": {}
        }
      ]
    },
    {
      "cell_type": "code",
      "source": [
        "print(\"=== CROSS-VALIDATION SETUP ===\")\n",
        "\n",
        "wandb.init(\n",
        "    project=\"facial-expression-recognition\",\n",
        "    group=\"MLP_Training\",\n",
        "    name=\"MLP_Cross_Validation\",\n",
        "    config={\n",
        "        \"data_split_method\": \"predefined_stratified\",\n",
        "        \"cv_folds\": 5,\n",
        "        \"cv_on_train_only\": True\n",
        "    },\n",
        "    reinit=True\n",
        ")\n",
        "\n",
        "k_folds = 5\n",
        "skf = StratifiedKFold(n_splits=k_folds, shuffle=True, random_state=42)\n",
        "\n",
        "cv_results = []\n",
        "fold_models = []\n",
        "\n",
        "print(f\"Starting {k_folds}-fold cross-validation on training data only...\")\n",
        "\n",
        "for fold, (train_idx, val_idx) in enumerate(skf.split(train_df, train_df['emotion'])):\n",
        "    print(f\"\\n=== Fold {fold + 1}/{k_folds} ===\")\n",
        "\n",
        "    fold_train_data = train_df.iloc[train_idx].reset_index(drop=True)\n",
        "    fold_val_data = train_df.iloc[val_idx].reset_index(drop=True)\n",
        "\n",
        "    fold_train_dataset = MLPFacialExpressionDataset(fold_train_data)\n",
        "    fold_val_dataset = MLPFacialExpressionDataset(fold_val_data)\n",
        "\n",
        "    fold_train_loader = DataLoader(fold_train_dataset, batch_size=64, shuffle=True)\n",
        "    fold_val_loader = DataLoader(fold_val_dataset, batch_size=64, shuffle=False)\n",
        "\n",
        "    model = SimpleMLP(input_size=2304, hidden_size=512, num_classes=7, dropout_rate=0.5)\n",
        "    model = model.to(device)\n",
        "\n",
        "    criterion = nn.CrossEntropyLoss()\n",
        "    optimizer = optim.Adam(model.parameters(), lr=0.001)\n",
        "\n",
        "    num_epochs = 20\n",
        "    best_val_acc = 0.0\n",
        "    fold_history = {'train_acc': [], 'val_acc': []}\n",
        "\n",
        "    for epoch in range(num_epochs):\n",
        "        model.train()\n",
        "        train_correct = 0\n",
        "        train_total = 0\n",
        "\n",
        "        for data, targets in fold_train_loader:\n",
        "            data, targets = data.to(device), targets.to(device)\n",
        "\n",
        "            optimizer.zero_grad()\n",
        "            outputs = model(data)\n",
        "            loss = criterion(outputs, targets)\n",
        "            loss.backward()\n",
        "            optimizer.step()\n",
        "\n",
        "            _, predicted = torch.max(outputs, 1)\n",
        "            train_total += targets.size(0)\n",
        "            train_correct += (predicted == targets).sum().item()\n",
        "\n",
        "        model.eval()\n",
        "        val_correct = 0\n",
        "        val_total = 0\n",
        "\n",
        "        with torch.no_grad():\n",
        "            for data, targets in fold_val_loader:\n",
        "                data, targets = data.to(device), targets.to(device)\n",
        "                outputs = model(data)\n",
        "                _, predicted = torch.max(outputs, 1)\n",
        "                val_total += targets.size(0)\n",
        "                val_correct += (predicted == targets).sum().item()\n",
        "\n",
        "        train_acc = 100. * train_correct / train_total\n",
        "        val_acc = 100. * val_correct / val_total\n",
        "\n",
        "        fold_history['train_acc'].append(train_acc)\n",
        "        fold_history['val_acc'].append(val_acc)\n",
        "\n",
        "        if val_acc > best_val_acc:\n",
        "            best_val_acc = val_acc\n",
        "\n",
        "    cv_results.append({\n",
        "        'fold': fold + 1,\n",
        "        'best_val_acc': best_val_acc,\n",
        "        'final_train_acc': fold_history['train_acc'][-1],\n",
        "        'final_val_acc': fold_history['val_acc'][-1]\n",
        "    })\n",
        "\n",
        "    fold_models.append(model.state_dict().copy())\n",
        "\n",
        "    print(f\"Fold {fold + 1} - Best Val Acc: {best_val_acc:.2f}%\")\n",
        "\n",
        "    wandb.log({\n",
        "        f'fold_{fold+1}_best_val_acc': best_val_acc,\n",
        "        f'fold_{fold+1}_final_train_acc': fold_history['train_acc'][-1],\n",
        "        f'fold_{fold+1}_final_val_acc': fold_history['val_acc'][-1]\n",
        "    })\n",
        "\n",
        "cv_accuracies = [result['best_val_acc'] for result in cv_results]\n",
        "mean_cv_acc = np.mean(cv_accuracies)\n",
        "std_cv_acc = np.std(cv_accuracies)\n",
        "\n",
        "print(f\"\\n=== Cross-Validation Results ===\")\n",
        "print(f\"Mean CV Accuracy: {mean_cv_acc:.2f} ± {std_cv_acc:.2f}%\")\n",
        "print(f\"Individual fold accuracies: {cv_accuracies}\")\n",
        "\n",
        "wandb.log({\n",
        "    'cv_mean_accuracy': mean_cv_acc,\n",
        "    'cv_std_accuracy': std_cv_acc,\n",
        "    'cv_min_accuracy': min(cv_accuracies),\n",
        "    'cv_max_accuracy': max(cv_accuracies)\n",
        "})\n",
        "\n",
        "wandb.finish()"
      ],
      "metadata": {
        "colab": {
          "base_uri": "https://localhost:8080/",
          "height": 1000
        },
        "id": "rC8fFBtL73y-",
        "outputId": "62a241a9-28ea-4eaa-f0c7-1d8fcfc2fda2"
      },
      "execution_count": 20,
      "outputs": [
        {
          "metadata": {
            "tags": null
          },
          "name": "stdout",
          "output_type": "stream",
          "text": [
            "=== CROSS-VALIDATION SETUP ===\n"
          ]
        },
        {
          "data": {
            "text/html": [
              "Tracking run with wandb version 0.19.11"
            ],
            "text/plain": [
              "<IPython.core.display.HTML object>"
            ]
          },
          "metadata": {},
          "output_type": "display_data"
        },
        {
          "data": {
            "text/html": [
              "Run data is saved locally in <code>/content/wandb/run-20250607_152731-xk49pz7h</code>"
            ],
            "text/plain": [
              "<IPython.core.display.HTML object>"
            ]
          },
          "metadata": {},
          "output_type": "display_data"
        },
        {
          "data": {
            "text/html": [
              "Syncing run <strong><a href='https://wandb.ai/nipkha21-free-university-of-tbilisi-/facial-expression-recognition/runs/xk49pz7h' target=\"_blank\">MLP_Cross_Validation</a></strong> to <a href='https://wandb.ai/nipkha21-free-university-of-tbilisi-/facial-expression-recognition' target=\"_blank\">Weights & Biases</a> (<a href='https://wandb.me/developer-guide' target=\"_blank\">docs</a>)<br>"
            ],
            "text/plain": [
              "<IPython.core.display.HTML object>"
            ]
          },
          "metadata": {},
          "output_type": "display_data"
        },
        {
          "data": {
            "text/html": [
              " View project at <a href='https://wandb.ai/nipkha21-free-university-of-tbilisi-/facial-expression-recognition' target=\"_blank\">https://wandb.ai/nipkha21-free-university-of-tbilisi-/facial-expression-recognition</a>"
            ],
            "text/plain": [
              "<IPython.core.display.HTML object>"
            ]
          },
          "metadata": {},
          "output_type": "display_data"
        },
        {
          "data": {
            "text/html": [
              " View run at <a href='https://wandb.ai/nipkha21-free-university-of-tbilisi-/facial-expression-recognition/runs/xk49pz7h' target=\"_blank\">https://wandb.ai/nipkha21-free-university-of-tbilisi-/facial-expression-recognition/runs/xk49pz7h</a>"
            ],
            "text/plain": [
              "<IPython.core.display.HTML object>"
            ]
          },
          "metadata": {},
          "output_type": "display_data"
        },
        {
          "output_type": "stream",
          "name": "stdout",
          "text": [
            "Starting 5-fold cross-validation on training data only...\n",
            "\n",
            "=== Fold 1/5 ===\n",
            "Fold 1 - Best Val Acc: 33.39%\n",
            "\n",
            "=== Fold 2/5 ===\n",
            "Fold 2 - Best Val Acc: 34.93%\n",
            "\n",
            "=== Fold 3/5 ===\n",
            "Fold 3 - Best Val Acc: 33.76%\n",
            "\n",
            "=== Fold 4/5 ===\n",
            "Fold 4 - Best Val Acc: 31.40%\n",
            "\n",
            "=== Fold 5/5 ===\n",
            "Fold 5 - Best Val Acc: 33.44%\n",
            "\n",
            "=== Cross-Validation Results ===\n",
            "Mean CV Accuracy: 33.39 ± 1.14%\n",
            "Individual fold accuracies: [33.39139089325703, 34.934063199800946, 33.764618064195076, 31.40084598158746, 33.44115451604877]\n"
          ]
        },
        {
          "output_type": "display_data",
          "data": {
            "text/plain": [
              "<IPython.core.display.HTML object>"
            ],
            "text/html": []
          },
          "metadata": {}
        },
        {
          "output_type": "display_data",
          "data": {
            "text/plain": [
              "<IPython.core.display.HTML object>"
            ],
            "text/html": [
              "<br>    <style><br>        .wandb-row {<br>            display: flex;<br>            flex-direction: row;<br>            flex-wrap: wrap;<br>            justify-content: flex-start;<br>            width: 100%;<br>        }<br>        .wandb-col {<br>            display: flex;<br>            flex-direction: column;<br>            flex-basis: 100%;<br>            flex: 1;<br>            padding: 10px;<br>        }<br>    </style><br><div class=\"wandb-row\"><div class=\"wandb-col\"><h3>Run history:</h3><br/><table class=\"wandb\"><tr><td>cv_max_accuracy</td><td>▁</td></tr><tr><td>cv_mean_accuracy</td><td>▁</td></tr><tr><td>cv_min_accuracy</td><td>▁</td></tr><tr><td>cv_std_accuracy</td><td>▁</td></tr><tr><td>fold_1_best_val_acc</td><td>▁</td></tr><tr><td>fold_1_final_train_acc</td><td>▁</td></tr><tr><td>fold_1_final_val_acc</td><td>▁</td></tr><tr><td>fold_2_best_val_acc</td><td>▁</td></tr><tr><td>fold_2_final_train_acc</td><td>▁</td></tr><tr><td>fold_2_final_val_acc</td><td>▁</td></tr><tr><td>fold_3_best_val_acc</td><td>▁</td></tr><tr><td>fold_3_final_train_acc</td><td>▁</td></tr><tr><td>fold_3_final_val_acc</td><td>▁</td></tr><tr><td>fold_4_best_val_acc</td><td>▁</td></tr><tr><td>fold_4_final_train_acc</td><td>▁</td></tr><tr><td>fold_4_final_val_acc</td><td>▁</td></tr><tr><td>fold_5_best_val_acc</td><td>▁</td></tr><tr><td>fold_5_final_train_acc</td><td>▁</td></tr><tr><td>fold_5_final_val_acc</td><td>▁</td></tr></table><br/></div><div class=\"wandb-col\"><h3>Run summary:</h3><br/><table class=\"wandb\"><tr><td>cv_max_accuracy</td><td>34.93406</td></tr><tr><td>cv_mean_accuracy</td><td>33.38641</td></tr><tr><td>cv_min_accuracy</td><td>31.40085</td></tr><tr><td>cv_std_accuracy</td><td>1.13875</td></tr><tr><td>fold_1_best_val_acc</td><td>33.39139</td></tr><tr><td>fold_1_final_train_acc</td><td>28.99353</td></tr><tr><td>fold_1_final_val_acc</td><td>32.02289</td></tr><tr><td>fold_2_best_val_acc</td><td>34.93406</td></tr><tr><td>fold_2_final_train_acc</td><td>28.50211</td></tr><tr><td>fold_2_final_val_acc</td><td>32.57029</td></tr><tr><td>fold_3_best_val_acc</td><td>33.76462</td></tr><tr><td>fold_3_final_train_acc</td><td>28.92511</td></tr><tr><td>fold_3_final_val_acc</td><td>33.31675</td></tr><tr><td>fold_4_best_val_acc</td><td>31.40085</td></tr><tr><td>fold_4_final_train_acc</td><td>28.42125</td></tr><tr><td>fold_4_final_val_acc</td><td>30.72904</td></tr><tr><td>fold_5_best_val_acc</td><td>33.44115</td></tr><tr><td>fold_5_final_train_acc</td><td>29.54093</td></tr><tr><td>fold_5_final_val_acc</td><td>33.44115</td></tr></table><br/></div></div>"
            ]
          },
          "metadata": {}
        },
        {
          "output_type": "display_data",
          "data": {
            "text/plain": [
              "<IPython.core.display.HTML object>"
            ],
            "text/html": [
              " View run <strong style=\"color:#cdcd00\">MLP_Cross_Validation</strong> at: <a href='https://wandb.ai/nipkha21-free-university-of-tbilisi-/facial-expression-recognition/runs/xk49pz7h' target=\"_blank\">https://wandb.ai/nipkha21-free-university-of-tbilisi-/facial-expression-recognition/runs/xk49pz7h</a><br> View project at: <a href='https://wandb.ai/nipkha21-free-university-of-tbilisi-/facial-expression-recognition' target=\"_blank\">https://wandb.ai/nipkha21-free-university-of-tbilisi-/facial-expression-recognition</a><br>Synced 5 W&B file(s), 0 media file(s), 0 artifact file(s) and 0 other file(s)"
            ]
          },
          "metadata": {}
        },
        {
          "output_type": "display_data",
          "data": {
            "text/plain": [
              "<IPython.core.display.HTML object>"
            ],
            "text/html": [
              "Find logs at: <code>./wandb/run-20250607_152731-xk49pz7h/logs</code>"
            ]
          },
          "metadata": {}
        }
      ]
    },
    {
      "cell_type": "code",
      "source": [
        "print(\"=== HYPERPARAMETER TUNING ===\")\n",
        "\n",
        "hyperparameter_grid = {\n",
        "    'hidden_size': [256, 512, 1024],\n",
        "    'dropout_rate': [0.3, 0.5, 0.7],\n",
        "    'learning_rate': [0.001, 0.0001, 0.01],\n",
        "    'optimizer': ['adam', 'sgd', 'rmsprop'],\n",
        "    'batch_size': [32, 64, 128]\n",
        "}\n",
        "\n",
        "import itertools\n",
        "import random\n",
        "\n",
        "all_combinations = list(itertools.product(*hyperparameter_grid.values()))\n",
        "num_experiments = 10\n",
        "sampled_combinations = random.sample(all_combinations, min(num_experiments, len(all_combinations)))\n",
        "\n",
        "hyperparameter_results = []\n",
        "\n",
        "for i, (hidden_size, dropout_rate, lr, opt_name, batch_size) in enumerate(sampled_combinations):\n",
        "    print(f\"\\n=== Hyperparameter Experiment {i+1}/{len(sampled_combinations)} ===\")\n",
        "    print(f\"Hidden Size: {hidden_size}, Dropout: {dropout_rate}, LR: {lr}, Optimizer: {opt_name}, Batch Size: {batch_size}\")\n",
        "\n",
        "    wandb.init(\n",
        "        project=\"facial-expression-recognition\",\n",
        "        group=\"MLP_Training\",\n",
        "        name=f\"MLP_Hyperparameter_Tuning_exp_{i+1}\",\n",
        "        config={\n",
        "            'hidden_size': hidden_size,\n",
        "            'dropout_rate': dropout_rate,\n",
        "            'learning_rate': lr,\n",
        "            'optimizer': opt_name,\n",
        "            'batch_size': batch_size,\n",
        "            'architecture': 'simple_mlp',\n",
        "            'data_split_method': 'predefined_stratified'\n",
        "        },\n",
        "        reinit=True\n",
        "    )\n",
        "\n",
        "    train_dataset = MLPFacialExpressionDataset(train_df)\n",
        "    val_dataset = MLPFacialExpressionDataset(val_df)\n",
        "\n",
        "    train_loader = DataLoader(train_dataset, batch_size=batch_size, shuffle=True)\n",
        "    val_loader = DataLoader(val_dataset, batch_size=batch_size, shuffle=False)\n",
        "\n",
        "    model = SimpleMLP(\n",
        "        input_size=2304,\n",
        "        hidden_size=hidden_size,\n",
        "        num_classes=7,\n",
        "        dropout_rate=dropout_rate\n",
        "    ).to(device)\n",
        "\n",
        "    criterion = nn.CrossEntropyLoss()\n",
        "\n",
        "    if opt_name == 'adam':\n",
        "        optimizer = optim.Adam(model.parameters(), lr=lr)\n",
        "    elif opt_name == 'sgd':\n",
        "        optimizer = optim.SGD(model.parameters(), lr=lr, momentum=0.9)\n",
        "    elif opt_name == 'rmsprop':\n",
        "        optimizer = optim.RMSprop(model.parameters(), lr=lr)\n",
        "\n",
        "    num_epochs = 10\n",
        "    best_val_acc = 0.0\n",
        "\n",
        "    for epoch in range(num_epochs):\n",
        "        model.train()\n",
        "        train_loss = 0.0\n",
        "        train_correct = 0\n",
        "        train_total = 0\n",
        "\n",
        "        for data, targets in train_loader:\n",
        "            data, targets = data.to(device), targets.to(device)\n",
        "\n",
        "            optimizer.zero_grad()\n",
        "            outputs = model(data)\n",
        "            loss = criterion(outputs, targets)\n",
        "            loss.backward()\n",
        "            optimizer.step()\n",
        "\n",
        "            train_loss += loss.item()\n",
        "            _, predicted = torch.max(outputs, 1)\n",
        "            train_total += targets.size(0)\n",
        "            train_correct += (predicted == targets).sum().item()\n",
        "\n",
        "        model.eval()\n",
        "        val_loss = 0.0\n",
        "        val_correct = 0\n",
        "        val_total = 0\n",
        "\n",
        "        with torch.no_grad():\n",
        "            for data, targets in val_loader:\n",
        "                data, targets = data.to(device), targets.to(device)\n",
        "                outputs = model(data)\n",
        "                loss = criterion(outputs, targets)\n",
        "\n",
        "                val_loss += loss.item()\n",
        "                _, predicted = torch.max(outputs, 1)\n",
        "                val_total += targets.size(0)\n",
        "                val_correct += (predicted == targets).sum().item()\n",
        "\n",
        "        epoch_train_loss = train_loss / len(train_loader)\n",
        "        epoch_train_acc = 100. * train_correct / train_total\n",
        "        epoch_val_loss = val_loss / len(val_loader)\n",
        "        epoch_val_acc = 100. * val_correct / val_total\n",
        "\n",
        "        if epoch_val_acc > best_val_acc:\n",
        "            best_val_acc = epoch_val_acc\n",
        "\n",
        "        wandb.log({\n",
        "            'epoch': epoch + 1,\n",
        "            'train_loss': epoch_train_loss,\n",
        "            'train_accuracy': epoch_train_acc,\n",
        "            'val_loss': epoch_val_loss,\n",
        "            'val_accuracy': epoch_val_acc,\n",
        "            'best_val_accuracy': best_val_acc\n",
        "        })\n",
        "\n",
        "    hyperparameter_results.append({\n",
        "        'hidden_size': hidden_size,\n",
        "        'dropout_rate': dropout_rate,\n",
        "        'learning_rate': lr,\n",
        "        'optimizer': opt_name,\n",
        "        'batch_size': batch_size,\n",
        "        'best_val_acc': best_val_acc\n",
        "    })\n",
        "\n",
        "    print(f\"Best Validation Accuracy: {best_val_acc:.2f}%\")\n",
        "\n",
        "    wandb.finish()\n",
        "\n",
        "print(\"\\n=== HYPERPARAMETER ANALYSIS ===\")\n",
        "best_config = max(hyperparameter_results, key=lambda x: x['best_val_acc'])\n",
        "print(f\"Best configuration:\")\n",
        "for key, value in best_config.items():\n",
        "    print(f\"  {key}: {value}\")"
      ],
      "metadata": {
        "colab": {
          "base_uri": "https://localhost:8080/",
          "height": 1000
        },
        "id": "jc3_a_TQ8NFZ",
        "outputId": "a00ae610-41a1-4357-b906-feaa6e735fdf"
      },
      "execution_count": 23,
      "outputs": [
        {
          "metadata": {
            "tags": null
          },
          "name": "stdout",
          "output_type": "stream",
          "text": [
            "=== HYPERPARAMETER TUNING ===\n",
            "\n",
            "=== Hyperparameter Experiment 1/10 ===\n",
            "Hidden Size: 1024, Dropout: 0.3, LR: 0.01, Optimizer: adam, Batch Size: 128\n"
          ]
        },
        {
          "data": {
            "text/html": [
              "Finishing previous runs because reinit is set to True."
            ],
            "text/plain": [
              "<IPython.core.display.HTML object>"
            ]
          },
          "metadata": {},
          "output_type": "display_data"
        },
        {
          "data": {
            "text/html": [],
            "text/plain": [
              "<IPython.core.display.HTML object>"
            ]
          },
          "metadata": {},
          "output_type": "display_data"
        },
        {
          "data": {
            "text/html": [
              "<br>    <style><br>        .wandb-row {<br>            display: flex;<br>            flex-direction: row;<br>            flex-wrap: wrap;<br>            justify-content: flex-start;<br>            width: 100%;<br>        }<br>        .wandb-col {<br>            display: flex;<br>            flex-direction: column;<br>            flex-basis: 100%;<br>            flex: 1;<br>            padding: 10px;<br>        }<br>    </style><br><div class=\"wandb-row\"><div class=\"wandb-col\"><h3>Run history:</h3><br/><table class=\"wandb\"><tr><td>best_val_accuracy</td><td>▁▄▅▅███</td></tr><tr><td>epoch</td><td>▁▂▃▅▆▇█</td></tr><tr><td>train_accuracy</td><td>▁▄▆▆▇██</td></tr><tr><td>train_loss</td><td>█▅▄▃▂▁▁</td></tr><tr><td>val_accuracy</td><td>▁▄▅▅█▆▇</td></tr><tr><td>val_loss</td><td>█▆▄▃▂▂▁</td></tr></table><br/></div><div class=\"wandb-col\"><h3>Run summary:</h3><br/><table class=\"wandb\"><tr><td>best_val_accuracy</td><td>34.78059</td></tr><tr><td>epoch</td><td>7</td></tr><tr><td>train_accuracy</td><td>35.0535</td></tr><tr><td>train_loss</td><td>1.65934</td></tr><tr><td>val_accuracy</td><td>34.08405</td></tr><tr><td>val_loss</td><td>1.66882</td></tr></table><br/></div></div>"
            ],
            "text/plain": [
              "<IPython.core.display.HTML object>"
            ]
          },
          "metadata": {},
          "output_type": "display_data"
        },
        {
          "data": {
            "text/html": [
              " View run <strong style=\"color:#cdcd00\">MLP_Hyperparameter_Tuning_exp_1</strong> at: <a href='https://wandb.ai/nipkha21-free-university-of-tbilisi-/facial-expression-recognition/runs/0cq2qkc9' target=\"_blank\">https://wandb.ai/nipkha21-free-university-of-tbilisi-/facial-expression-recognition/runs/0cq2qkc9</a><br> View project at: <a href='https://wandb.ai/nipkha21-free-university-of-tbilisi-/facial-expression-recognition' target=\"_blank\">https://wandb.ai/nipkha21-free-university-of-tbilisi-/facial-expression-recognition</a><br>Synced 5 W&B file(s), 0 media file(s), 0 artifact file(s) and 0 other file(s)"
            ],
            "text/plain": [
              "<IPython.core.display.HTML object>"
            ]
          },
          "metadata": {},
          "output_type": "display_data"
        },
        {
          "data": {
            "text/html": [
              "Find logs at: <code>./wandb/run-20250607_155233-0cq2qkc9/logs</code>"
            ],
            "text/plain": [
              "<IPython.core.display.HTML object>"
            ]
          },
          "metadata": {},
          "output_type": "display_data"
        },
        {
          "data": {
            "text/html": [
              "Tracking run with wandb version 0.19.11"
            ],
            "text/plain": [
              "<IPython.core.display.HTML object>"
            ]
          },
          "metadata": {},
          "output_type": "display_data"
        },
        {
          "data": {
            "text/html": [
              "Run data is saved locally in <code>/content/wandb/run-20250607_155518-7itlbjsu</code>"
            ],
            "text/plain": [
              "<IPython.core.display.HTML object>"
            ]
          },
          "metadata": {},
          "output_type": "display_data"
        },
        {
          "data": {
            "text/html": [
              "Syncing run <strong><a href='https://wandb.ai/nipkha21-free-university-of-tbilisi-/facial-expression-recognition/runs/7itlbjsu' target=\"_blank\">MLP_Hyperparameter_Tuning_exp_1</a></strong> to <a href='https://wandb.ai/nipkha21-free-university-of-tbilisi-/facial-expression-recognition' target=\"_blank\">Weights & Biases</a> (<a href='https://wandb.me/developer-guide' target=\"_blank\">docs</a>)<br>"
            ],
            "text/plain": [
              "<IPython.core.display.HTML object>"
            ]
          },
          "metadata": {},
          "output_type": "display_data"
        },
        {
          "data": {
            "text/html": [
              " View project at <a href='https://wandb.ai/nipkha21-free-university-of-tbilisi-/facial-expression-recognition' target=\"_blank\">https://wandb.ai/nipkha21-free-university-of-tbilisi-/facial-expression-recognition</a>"
            ],
            "text/plain": [
              "<IPython.core.display.HTML object>"
            ]
          },
          "metadata": {},
          "output_type": "display_data"
        },
        {
          "data": {
            "text/html": [
              " View run at <a href='https://wandb.ai/nipkha21-free-university-of-tbilisi-/facial-expression-recognition/runs/7itlbjsu' target=\"_blank\">https://wandb.ai/nipkha21-free-university-of-tbilisi-/facial-expression-recognition/runs/7itlbjsu</a>"
            ],
            "text/plain": [
              "<IPython.core.display.HTML object>"
            ]
          },
          "metadata": {},
          "output_type": "display_data"
        },
        {
          "metadata": {
            "tags": null
          },
          "name": "stdout",
          "output_type": "stream",
          "text": [
            "Best Validation Accuracy: 30.28%\n"
          ]
        },
        {
          "data": {
            "text/html": [],
            "text/plain": [
              "<IPython.core.display.HTML object>"
            ]
          },
          "metadata": {},
          "output_type": "display_data"
        },
        {
          "data": {
            "text/html": [
              "<br>    <style><br>        .wandb-row {<br>            display: flex;<br>            flex-direction: row;<br>            flex-wrap: wrap;<br>            justify-content: flex-start;<br>            width: 100%;<br>        }<br>        .wandb-col {<br>            display: flex;<br>            flex-direction: column;<br>            flex-basis: 100%;<br>            flex: 1;<br>            padding: 10px;<br>        }<br>    </style><br><div class=\"wandb-row\"><div class=\"wandb-col\"><h3>Run history:</h3><br/><table class=\"wandb\"><tr><td>best_val_accuracy</td><td>▁▁▃▇▇█████</td></tr><tr><td>epoch</td><td>▁▂▃▃▄▅▆▆▇█</td></tr><tr><td>train_accuracy</td><td>▁▄▆▆▆▇█▇█▇</td></tr><tr><td>train_loss</td><td>█▁▁▁▁▁▁▁▁▁</td></tr><tr><td>val_accuracy</td><td>▁▁▃▇▄█▆▆█▆</td></tr><tr><td>val_loss</td><td>▇█▆▂▃▂▃▃▁▂</td></tr></table><br/></div><div class=\"wandb-col\"><h3>Run summary:</h3><br/><table class=\"wandb\"><tr><td>best_val_accuracy</td><td>30.27629</td></tr><tr><td>epoch</td><td>10</td></tr><tr><td>train_accuracy</td><td>28.65887</td></tr><tr><td>train_loss</td><td>1.76159</td></tr><tr><td>val_accuracy</td><td>28.46529</td></tr><tr><td>val_loss</td><td>1.74816</td></tr></table><br/></div></div>"
            ],
            "text/plain": [
              "<IPython.core.display.HTML object>"
            ]
          },
          "metadata": {},
          "output_type": "display_data"
        },
        {
          "data": {
            "text/html": [
              " View run <strong style=\"color:#cdcd00\">MLP_Hyperparameter_Tuning_exp_1</strong> at: <a href='https://wandb.ai/nipkha21-free-university-of-tbilisi-/facial-expression-recognition/runs/7itlbjsu' target=\"_blank\">https://wandb.ai/nipkha21-free-university-of-tbilisi-/facial-expression-recognition/runs/7itlbjsu</a><br> View project at: <a href='https://wandb.ai/nipkha21-free-university-of-tbilisi-/facial-expression-recognition' target=\"_blank\">https://wandb.ai/nipkha21-free-university-of-tbilisi-/facial-expression-recognition</a><br>Synced 5 W&B file(s), 0 media file(s), 0 artifact file(s) and 0 other file(s)"
            ],
            "text/plain": [
              "<IPython.core.display.HTML object>"
            ]
          },
          "metadata": {},
          "output_type": "display_data"
        },
        {
          "data": {
            "text/html": [
              "Find logs at: <code>./wandb/run-20250607_155518-7itlbjsu/logs</code>"
            ],
            "text/plain": [
              "<IPython.core.display.HTML object>"
            ]
          },
          "metadata": {},
          "output_type": "display_data"
        },
        {
          "metadata": {
            "tags": null
          },
          "name": "stdout",
          "output_type": "stream",
          "text": [
            "\n",
            "=== Hyperparameter Experiment 2/10 ===\n",
            "Hidden Size: 512, Dropout: 0.5, LR: 0.01, Optimizer: adam, Batch Size: 32\n"
          ]
        },
        {
          "data": {
            "text/html": [
              "Tracking run with wandb version 0.19.11"
            ],
            "text/plain": [
              "<IPython.core.display.HTML object>"
            ]
          },
          "metadata": {},
          "output_type": "display_data"
        },
        {
          "data": {
            "text/html": [
              "Run data is saved locally in <code>/content/wandb/run-20250607_155808-e3uwzhgc</code>"
            ],
            "text/plain": [
              "<IPython.core.display.HTML object>"
            ]
          },
          "metadata": {},
          "output_type": "display_data"
        },
        {
          "data": {
            "text/html": [
              "Syncing run <strong><a href='https://wandb.ai/nipkha21-free-university-of-tbilisi-/facial-expression-recognition/runs/e3uwzhgc' target=\"_blank\">MLP_Hyperparameter_Tuning_exp_2</a></strong> to <a href='https://wandb.ai/nipkha21-free-university-of-tbilisi-/facial-expression-recognition' target=\"_blank\">Weights & Biases</a> (<a href='https://wandb.me/developer-guide' target=\"_blank\">docs</a>)<br>"
            ],
            "text/plain": [
              "<IPython.core.display.HTML object>"
            ]
          },
          "metadata": {},
          "output_type": "display_data"
        },
        {
          "data": {
            "text/html": [
              " View project at <a href='https://wandb.ai/nipkha21-free-university-of-tbilisi-/facial-expression-recognition' target=\"_blank\">https://wandb.ai/nipkha21-free-university-of-tbilisi-/facial-expression-recognition</a>"
            ],
            "text/plain": [
              "<IPython.core.display.HTML object>"
            ]
          },
          "metadata": {},
          "output_type": "display_data"
        },
        {
          "data": {
            "text/html": [
              " View run at <a href='https://wandb.ai/nipkha21-free-university-of-tbilisi-/facial-expression-recognition/runs/e3uwzhgc' target=\"_blank\">https://wandb.ai/nipkha21-free-university-of-tbilisi-/facial-expression-recognition/runs/e3uwzhgc</a>"
            ],
            "text/plain": [
              "<IPython.core.display.HTML object>"
            ]
          },
          "metadata": {},
          "output_type": "display_data"
        },
        {
          "metadata": {
            "tags": null
          },
          "name": "stdout",
          "output_type": "stream",
          "text": [
            "Best Validation Accuracy: 25.12%\n"
          ]
        },
        {
          "data": {
            "text/html": [],
            "text/plain": [
              "<IPython.core.display.HTML object>"
            ]
          },
          "metadata": {},
          "output_type": "display_data"
        },
        {
          "data": {
            "text/html": [
              "<br>    <style><br>        .wandb-row {<br>            display: flex;<br>            flex-direction: row;<br>            flex-wrap: wrap;<br>            justify-content: flex-start;<br>            width: 100%;<br>        }<br>        .wandb-col {<br>            display: flex;<br>            flex-direction: column;<br>            flex-basis: 100%;<br>            flex: 1;<br>            padding: 10px;<br>        }<br>    </style><br><div class=\"wandb-row\"><div class=\"wandb-col\"><h3>Run history:</h3><br/><table class=\"wandb\"><tr><td>best_val_accuracy</td><td>▁▁▁▁▁▁▁▁▁▁</td></tr><tr><td>epoch</td><td>▁▂▃▃▄▅▆▆▇█</td></tr><tr><td>train_accuracy</td><td>▁▇▇███████</td></tr><tr><td>train_loss</td><td>█▁▁▁▁▁▁▁▁▁</td></tr><tr><td>val_accuracy</td><td>█▁▁▁▁▁▁▁▁▁</td></tr><tr><td>val_loss</td><td>▁▂▄▃▆█▄▅▆▇</td></tr></table><br/></div><div class=\"wandb-col\"><h3>Run summary:</h3><br/><table class=\"wandb\"><tr><td>best_val_accuracy</td><td>25.12189</td></tr><tr><td>epoch</td><td>10</td></tr><tr><td>train_accuracy</td><td>25.18039</td></tr><tr><td>train_loss</td><td>1.81033</td></tr><tr><td>val_accuracy</td><td>25.09868</td></tr><tr><td>val_loss</td><td>1.81239</td></tr></table><br/></div></div>"
            ],
            "text/plain": [
              "<IPython.core.display.HTML object>"
            ]
          },
          "metadata": {},
          "output_type": "display_data"
        },
        {
          "data": {
            "text/html": [
              " View run <strong style=\"color:#cdcd00\">MLP_Hyperparameter_Tuning_exp_2</strong> at: <a href='https://wandb.ai/nipkha21-free-university-of-tbilisi-/facial-expression-recognition/runs/e3uwzhgc' target=\"_blank\">https://wandb.ai/nipkha21-free-university-of-tbilisi-/facial-expression-recognition/runs/e3uwzhgc</a><br> View project at: <a href='https://wandb.ai/nipkha21-free-university-of-tbilisi-/facial-expression-recognition' target=\"_blank\">https://wandb.ai/nipkha21-free-university-of-tbilisi-/facial-expression-recognition</a><br>Synced 5 W&B file(s), 0 media file(s), 0 artifact file(s) and 0 other file(s)"
            ],
            "text/plain": [
              "<IPython.core.display.HTML object>"
            ]
          },
          "metadata": {},
          "output_type": "display_data"
        },
        {
          "data": {
            "text/html": [
              "Find logs at: <code>./wandb/run-20250607_155808-e3uwzhgc/logs</code>"
            ],
            "text/plain": [
              "<IPython.core.display.HTML object>"
            ]
          },
          "metadata": {},
          "output_type": "display_data"
        },
        {
          "metadata": {
            "tags": null
          },
          "name": "stdout",
          "output_type": "stream",
          "text": [
            "\n",
            "=== Hyperparameter Experiment 3/10 ===\n",
            "Hidden Size: 512, Dropout: 0.5, LR: 0.0001, Optimizer: sgd, Batch Size: 64\n"
          ]
        },
        {
          "data": {
            "text/html": [
              "Tracking run with wandb version 0.19.11"
            ],
            "text/plain": [
              "<IPython.core.display.HTML object>"
            ]
          },
          "metadata": {},
          "output_type": "display_data"
        },
        {
          "data": {
            "text/html": [
              "Run data is saved locally in <code>/content/wandb/run-20250607_160103-sknzi12b</code>"
            ],
            "text/plain": [
              "<IPython.core.display.HTML object>"
            ]
          },
          "metadata": {},
          "output_type": "display_data"
        },
        {
          "data": {
            "text/html": [
              "Syncing run <strong><a href='https://wandb.ai/nipkha21-free-university-of-tbilisi-/facial-expression-recognition/runs/sknzi12b' target=\"_blank\">MLP_Hyperparameter_Tuning_exp_3</a></strong> to <a href='https://wandb.ai/nipkha21-free-university-of-tbilisi-/facial-expression-recognition' target=\"_blank\">Weights & Biases</a> (<a href='https://wandb.me/developer-guide' target=\"_blank\">docs</a>)<br>"
            ],
            "text/plain": [
              "<IPython.core.display.HTML object>"
            ]
          },
          "metadata": {},
          "output_type": "display_data"
        },
        {
          "data": {
            "text/html": [
              " View project at <a href='https://wandb.ai/nipkha21-free-university-of-tbilisi-/facial-expression-recognition' target=\"_blank\">https://wandb.ai/nipkha21-free-university-of-tbilisi-/facial-expression-recognition</a>"
            ],
            "text/plain": [
              "<IPython.core.display.HTML object>"
            ]
          },
          "metadata": {},
          "output_type": "display_data"
        },
        {
          "data": {
            "text/html": [
              " View run at <a href='https://wandb.ai/nipkha21-free-university-of-tbilisi-/facial-expression-recognition/runs/sknzi12b' target=\"_blank\">https://wandb.ai/nipkha21-free-university-of-tbilisi-/facial-expression-recognition/runs/sknzi12b</a>"
            ],
            "text/plain": [
              "<IPython.core.display.HTML object>"
            ]
          },
          "metadata": {},
          "output_type": "display_data"
        },
        {
          "metadata": {
            "tags": null
          },
          "name": "stdout",
          "output_type": "stream",
          "text": [
            "Best Validation Accuracy: 29.90%\n"
          ]
        },
        {
          "data": {
            "text/html": [],
            "text/plain": [
              "<IPython.core.display.HTML object>"
            ]
          },
          "metadata": {},
          "output_type": "display_data"
        },
        {
          "data": {
            "text/html": [
              "<br>    <style><br>        .wandb-row {<br>            display: flex;<br>            flex-direction: row;<br>            flex-wrap: wrap;<br>            justify-content: flex-start;<br>            width: 100%;<br>        }<br>        .wandb-col {<br>            display: flex;<br>            flex-direction: column;<br>            flex-basis: 100%;<br>            flex: 1;<br>            padding: 10px;<br>        }<br>    </style><br><div class=\"wandb-row\"><div class=\"wandb-col\"><h3>Run history:</h3><br/><table class=\"wandb\"><tr><td>best_val_accuracy</td><td>▁▃▃▄▅▇▇▇▇█</td></tr><tr><td>epoch</td><td>▁▂▃▃▄▅▆▆▇█</td></tr><tr><td>train_accuracy</td><td>▁▄▅▆▇▇▇▇██</td></tr><tr><td>train_loss</td><td>█▄▃▂▂▂▁▁▁▁</td></tr><tr><td>val_accuracy</td><td>▁▃▃▄▅▇▆▆▇█</td></tr><tr><td>val_loss</td><td>█▆▅▄▃▃▂▂▁▁</td></tr></table><br/></div><div class=\"wandb-col\"><h3>Run summary:</h3><br/><table class=\"wandb\"><tr><td>best_val_accuracy</td><td>29.90481</td></tr><tr><td>epoch</td><td>10</td></tr><tr><td>train_accuracy</td><td>29.18139</td></tr><tr><td>train_loss</td><td>1.76032</td></tr><tr><td>val_accuracy</td><td>29.90481</td></tr><tr><td>val_loss</td><td>1.74252</td></tr></table><br/></div></div>"
            ],
            "text/plain": [
              "<IPython.core.display.HTML object>"
            ]
          },
          "metadata": {},
          "output_type": "display_data"
        },
        {
          "data": {
            "text/html": [
              " View run <strong style=\"color:#cdcd00\">MLP_Hyperparameter_Tuning_exp_3</strong> at: <a href='https://wandb.ai/nipkha21-free-university-of-tbilisi-/facial-expression-recognition/runs/sknzi12b' target=\"_blank\">https://wandb.ai/nipkha21-free-university-of-tbilisi-/facial-expression-recognition/runs/sknzi12b</a><br> View project at: <a href='https://wandb.ai/nipkha21-free-university-of-tbilisi-/facial-expression-recognition' target=\"_blank\">https://wandb.ai/nipkha21-free-university-of-tbilisi-/facial-expression-recognition</a><br>Synced 5 W&B file(s), 0 media file(s), 0 artifact file(s) and 0 other file(s)"
            ],
            "text/plain": [
              "<IPython.core.display.HTML object>"
            ]
          },
          "metadata": {},
          "output_type": "display_data"
        },
        {
          "data": {
            "text/html": [
              "Find logs at: <code>./wandb/run-20250607_160103-sknzi12b/logs</code>"
            ],
            "text/plain": [
              "<IPython.core.display.HTML object>"
            ]
          },
          "metadata": {},
          "output_type": "display_data"
        },
        {
          "metadata": {
            "tags": null
          },
          "name": "stdout",
          "output_type": "stream",
          "text": [
            "\n",
            "=== Hyperparameter Experiment 4/10 ===\n",
            "Hidden Size: 1024, Dropout: 0.7, LR: 0.0001, Optimizer: rmsprop, Batch Size: 128\n"
          ]
        },
        {
          "data": {
            "text/html": [
              "Tracking run with wandb version 0.19.11"
            ],
            "text/plain": [
              "<IPython.core.display.HTML object>"
            ]
          },
          "metadata": {},
          "output_type": "display_data"
        },
        {
          "data": {
            "text/html": [
              "Run data is saved locally in <code>/content/wandb/run-20250607_160347-q0nxqela</code>"
            ],
            "text/plain": [
              "<IPython.core.display.HTML object>"
            ]
          },
          "metadata": {},
          "output_type": "display_data"
        },
        {
          "data": {
            "text/html": [
              "Syncing run <strong><a href='https://wandb.ai/nipkha21-free-university-of-tbilisi-/facial-expression-recognition/runs/q0nxqela' target=\"_blank\">MLP_Hyperparameter_Tuning_exp_4</a></strong> to <a href='https://wandb.ai/nipkha21-free-university-of-tbilisi-/facial-expression-recognition' target=\"_blank\">Weights & Biases</a> (<a href='https://wandb.me/developer-guide' target=\"_blank\">docs</a>)<br>"
            ],
            "text/plain": [
              "<IPython.core.display.HTML object>"
            ]
          },
          "metadata": {},
          "output_type": "display_data"
        },
        {
          "data": {
            "text/html": [
              " View project at <a href='https://wandb.ai/nipkha21-free-university-of-tbilisi-/facial-expression-recognition' target=\"_blank\">https://wandb.ai/nipkha21-free-university-of-tbilisi-/facial-expression-recognition</a>"
            ],
            "text/plain": [
              "<IPython.core.display.HTML object>"
            ]
          },
          "metadata": {},
          "output_type": "display_data"
        },
        {
          "data": {
            "text/html": [
              " View run at <a href='https://wandb.ai/nipkha21-free-university-of-tbilisi-/facial-expression-recognition/runs/q0nxqela' target=\"_blank\">https://wandb.ai/nipkha21-free-university-of-tbilisi-/facial-expression-recognition/runs/q0nxqela</a>"
            ],
            "text/plain": [
              "<IPython.core.display.HTML object>"
            ]
          },
          "metadata": {},
          "output_type": "display_data"
        },
        {
          "output_type": "stream",
          "name": "stdout",
          "text": [
            "Best Validation Accuracy: 35.69%\n"
          ]
        },
        {
          "output_type": "display_data",
          "data": {
            "text/plain": [
              "<IPython.core.display.HTML object>"
            ],
            "text/html": []
          },
          "metadata": {}
        },
        {
          "output_type": "display_data",
          "data": {
            "text/plain": [
              "<IPython.core.display.HTML object>"
            ],
            "text/html": [
              "<br>    <style><br>        .wandb-row {<br>            display: flex;<br>            flex-direction: row;<br>            flex-wrap: wrap;<br>            justify-content: flex-start;<br>            width: 100%;<br>        }<br>        .wandb-col {<br>            display: flex;<br>            flex-direction: column;<br>            flex-basis: 100%;<br>            flex: 1;<br>            padding: 10px;<br>        }<br>    </style><br><div class=\"wandb-row\"><div class=\"wandb-col\"><h3>Run history:</h3><br/><table class=\"wandb\"><tr><td>best_val_accuracy</td><td>▁▁▂▃▆▇████</td></tr><tr><td>epoch</td><td>▁▂▃▃▄▅▆▆▇█</td></tr><tr><td>train_accuracy</td><td>▁▃▄▅▆▆▇▇██</td></tr><tr><td>train_loss</td><td>█▄▃▃▂▂▂▂▁▁</td></tr><tr><td>val_accuracy</td><td>▁▁▂▃▆▇█▇▇█</td></tr><tr><td>val_loss</td><td>█▇▆▅▃▃▃▂▂▁</td></tr></table><br/></div><div class=\"wandb-col\"><h3>Run summary:</h3><br/><table class=\"wandb\"><tr><td>best_val_accuracy</td><td>35.68609</td></tr><tr><td>epoch</td><td>10</td></tr><tr><td>train_accuracy</td><td>33.51082</td></tr><tr><td>train_loss</td><td>1.69081</td></tr><tr><td>val_accuracy</td><td>35.68609</td></tr><tr><td>val_loss</td><td>1.67385</td></tr></table><br/></div></div>"
            ]
          },
          "metadata": {}
        },
        {
          "output_type": "display_data",
          "data": {
            "text/plain": [
              "<IPython.core.display.HTML object>"
            ],
            "text/html": [
              " View run <strong style=\"color:#cdcd00\">MLP_Hyperparameter_Tuning_exp_4</strong> at: <a href='https://wandb.ai/nipkha21-free-university-of-tbilisi-/facial-expression-recognition/runs/q0nxqela' target=\"_blank\">https://wandb.ai/nipkha21-free-university-of-tbilisi-/facial-expression-recognition/runs/q0nxqela</a><br> View project at: <a href='https://wandb.ai/nipkha21-free-university-of-tbilisi-/facial-expression-recognition' target=\"_blank\">https://wandb.ai/nipkha21-free-university-of-tbilisi-/facial-expression-recognition</a><br>Synced 5 W&B file(s), 0 media file(s), 0 artifact file(s) and 0 other file(s)"
            ]
          },
          "metadata": {}
        },
        {
          "output_type": "display_data",
          "data": {
            "text/plain": [
              "<IPython.core.display.HTML object>"
            ],
            "text/html": [
              "Find logs at: <code>./wandb/run-20250607_160347-q0nxqela/logs</code>"
            ]
          },
          "metadata": {}
        },
        {
          "output_type": "stream",
          "name": "stdout",
          "text": [
            "\n",
            "=== Hyperparameter Experiment 5/10 ===\n",
            "Hidden Size: 512, Dropout: 0.3, LR: 0.001, Optimizer: adam, Batch Size: 128\n"
          ]
        },
        {
          "output_type": "display_data",
          "data": {
            "text/plain": [
              "<IPython.core.display.HTML object>"
            ],
            "text/html": [
              "Tracking run with wandb version 0.19.11"
            ]
          },
          "metadata": {}
        },
        {
          "output_type": "display_data",
          "data": {
            "text/plain": [
              "<IPython.core.display.HTML object>"
            ],
            "text/html": [
              "Run data is saved locally in <code>/content/wandb/run-20250607_160627-ltcs6ebx</code>"
            ]
          },
          "metadata": {}
        },
        {
          "output_type": "display_data",
          "data": {
            "text/plain": [
              "<IPython.core.display.HTML object>"
            ],
            "text/html": [
              "Syncing run <strong><a href='https://wandb.ai/nipkha21-free-university-of-tbilisi-/facial-expression-recognition/runs/ltcs6ebx' target=\"_blank\">MLP_Hyperparameter_Tuning_exp_5</a></strong> to <a href='https://wandb.ai/nipkha21-free-university-of-tbilisi-/facial-expression-recognition' target=\"_blank\">Weights & Biases</a> (<a href='https://wandb.me/developer-guide' target=\"_blank\">docs</a>)<br>"
            ]
          },
          "metadata": {}
        },
        {
          "output_type": "display_data",
          "data": {
            "text/plain": [
              "<IPython.core.display.HTML object>"
            ],
            "text/html": [
              " View project at <a href='https://wandb.ai/nipkha21-free-university-of-tbilisi-/facial-expression-recognition' target=\"_blank\">https://wandb.ai/nipkha21-free-university-of-tbilisi-/facial-expression-recognition</a>"
            ]
          },
          "metadata": {}
        },
        {
          "output_type": "display_data",
          "data": {
            "text/plain": [
              "<IPython.core.display.HTML object>"
            ],
            "text/html": [
              " View run at <a href='https://wandb.ai/nipkha21-free-university-of-tbilisi-/facial-expression-recognition/runs/ltcs6ebx' target=\"_blank\">https://wandb.ai/nipkha21-free-university-of-tbilisi-/facial-expression-recognition/runs/ltcs6ebx</a>"
            ]
          },
          "metadata": {}
        },
        {
          "output_type": "stream",
          "name": "stdout",
          "text": [
            "Best Validation Accuracy: 35.04%\n"
          ]
        },
        {
          "output_type": "display_data",
          "data": {
            "text/plain": [
              "<IPython.core.display.HTML object>"
            ],
            "text/html": []
          },
          "metadata": {}
        },
        {
          "output_type": "display_data",
          "data": {
            "text/plain": [
              "<IPython.core.display.HTML object>"
            ],
            "text/html": [
              "<br>    <style><br>        .wandb-row {<br>            display: flex;<br>            flex-direction: row;<br>            flex-wrap: wrap;<br>            justify-content: flex-start;<br>            width: 100%;<br>        }<br>        .wandb-col {<br>            display: flex;<br>            flex-direction: column;<br>            flex-basis: 100%;<br>            flex: 1;<br>            padding: 10px;<br>        }<br>    </style><br><div class=\"wandb-row\"><div class=\"wandb-col\"><h3>Run history:</h3><br/><table class=\"wandb\"><tr><td>best_val_accuracy</td><td>▁▃▃▆▆▇████</td></tr><tr><td>epoch</td><td>▁▂▃▃▄▅▆▆▇█</td></tr><tr><td>train_accuracy</td><td>▁▅▅▆▇▇████</td></tr><tr><td>train_loss</td><td>█▃▃▂▂▂▁▁▁▁</td></tr><tr><td>val_accuracy</td><td>▁▃▁▆▆▇█▇█▇</td></tr><tr><td>val_loss</td><td>█▆▆▄▃▃▂▂▁▂</td></tr></table><br/></div><div class=\"wandb-col\"><h3>Run summary:</h3><br/><table class=\"wandb\"><tr><td>best_val_accuracy</td><td>35.03599</td></tr><tr><td>epoch</td><td>10</td></tr><tr><td>train_accuracy</td><td>33.45111</td></tr><tr><td>train_loss</td><td>1.68343</td></tr><tr><td>val_accuracy</td><td>34.24658</td></tr><tr><td>val_loss</td><td>1.6836</td></tr></table><br/></div></div>"
            ]
          },
          "metadata": {}
        },
        {
          "output_type": "display_data",
          "data": {
            "text/plain": [
              "<IPython.core.display.HTML object>"
            ],
            "text/html": [
              " View run <strong style=\"color:#cdcd00\">MLP_Hyperparameter_Tuning_exp_5</strong> at: <a href='https://wandb.ai/nipkha21-free-university-of-tbilisi-/facial-expression-recognition/runs/ltcs6ebx' target=\"_blank\">https://wandb.ai/nipkha21-free-university-of-tbilisi-/facial-expression-recognition/runs/ltcs6ebx</a><br> View project at: <a href='https://wandb.ai/nipkha21-free-university-of-tbilisi-/facial-expression-recognition' target=\"_blank\">https://wandb.ai/nipkha21-free-university-of-tbilisi-/facial-expression-recognition</a><br>Synced 5 W&B file(s), 0 media file(s), 0 artifact file(s) and 0 other file(s)"
            ]
          },
          "metadata": {}
        },
        {
          "output_type": "display_data",
          "data": {
            "text/plain": [
              "<IPython.core.display.HTML object>"
            ],
            "text/html": [
              "Find logs at: <code>./wandb/run-20250607_160627-ltcs6ebx/logs</code>"
            ]
          },
          "metadata": {}
        },
        {
          "output_type": "stream",
          "name": "stdout",
          "text": [
            "\n",
            "=== Hyperparameter Experiment 6/10 ===\n",
            "Hidden Size: 512, Dropout: 0.7, LR: 0.001, Optimizer: rmsprop, Batch Size: 64\n"
          ]
        },
        {
          "output_type": "display_data",
          "data": {
            "text/plain": [
              "<IPython.core.display.HTML object>"
            ],
            "text/html": [
              "Tracking run with wandb version 0.19.11"
            ]
          },
          "metadata": {}
        },
        {
          "output_type": "display_data",
          "data": {
            "text/plain": [
              "<IPython.core.display.HTML object>"
            ],
            "text/html": [
              "Run data is saved locally in <code>/content/wandb/run-20250607_160912-msozdn3s</code>"
            ]
          },
          "metadata": {}
        },
        {
          "output_type": "display_data",
          "data": {
            "text/plain": [
              "<IPython.core.display.HTML object>"
            ],
            "text/html": [
              "Syncing run <strong><a href='https://wandb.ai/nipkha21-free-university-of-tbilisi-/facial-expression-recognition/runs/msozdn3s' target=\"_blank\">MLP_Hyperparameter_Tuning_exp_6</a></strong> to <a href='https://wandb.ai/nipkha21-free-university-of-tbilisi-/facial-expression-recognition' target=\"_blank\">Weights & Biases</a> (<a href='https://wandb.me/developer-guide' target=\"_blank\">docs</a>)<br>"
            ]
          },
          "metadata": {}
        },
        {
          "output_type": "display_data",
          "data": {
            "text/plain": [
              "<IPython.core.display.HTML object>"
            ],
            "text/html": [
              " View project at <a href='https://wandb.ai/nipkha21-free-university-of-tbilisi-/facial-expression-recognition' target=\"_blank\">https://wandb.ai/nipkha21-free-university-of-tbilisi-/facial-expression-recognition</a>"
            ]
          },
          "metadata": {}
        },
        {
          "output_type": "display_data",
          "data": {
            "text/plain": [
              "<IPython.core.display.HTML object>"
            ],
            "text/html": [
              " View run at <a href='https://wandb.ai/nipkha21-free-university-of-tbilisi-/facial-expression-recognition/runs/msozdn3s' target=\"_blank\">https://wandb.ai/nipkha21-free-university-of-tbilisi-/facial-expression-recognition/runs/msozdn3s</a>"
            ]
          },
          "metadata": {}
        },
        {
          "output_type": "stream",
          "name": "stdout",
          "text": [
            "Best Validation Accuracy: 25.82%\n"
          ]
        },
        {
          "output_type": "display_data",
          "data": {
            "text/plain": [
              "<IPython.core.display.HTML object>"
            ],
            "text/html": []
          },
          "metadata": {}
        },
        {
          "output_type": "display_data",
          "data": {
            "text/plain": [
              "<IPython.core.display.HTML object>"
            ],
            "text/html": [
              "<br>    <style><br>        .wandb-row {<br>            display: flex;<br>            flex-direction: row;<br>            flex-wrap: wrap;<br>            justify-content: flex-start;<br>            width: 100%;<br>        }<br>        .wandb-col {<br>            display: flex;<br>            flex-direction: column;<br>            flex-basis: 100%;<br>            flex: 1;<br>            padding: 10px;<br>        }<br>    </style><br><div class=\"wandb-row\"><div class=\"wandb-col\"><h3>Run history:</h3><br/><table class=\"wandb\"><tr><td>best_val_accuracy</td><td>▁▁▁▂▂▂▄▇██</td></tr><tr><td>epoch</td><td>▁▂▃▃▄▅▆▆▇█</td></tr><tr><td>train_accuracy</td><td>▁▆▆▆▆▆▇▇▇█</td></tr><tr><td>train_loss</td><td>█▂▂▁▁▁▁▁▁▁</td></tr><tr><td>val_accuracy</td><td>▂▂▁▃▂▁▅▇█▇</td></tr><tr><td>val_loss</td><td>██▆▅▅▃▂▂▄▁</td></tr></table><br/></div><div class=\"wandb-col\"><h3>Run summary:</h3><br/><table class=\"wandb\"><tr><td>best_val_accuracy</td><td>25.81844</td></tr><tr><td>epoch</td><td>10</td></tr><tr><td>train_accuracy</td><td>25.90694</td></tr><tr><td>train_loss</td><td>1.7776</td></tr><tr><td>val_accuracy</td><td>25.74878</td></tr><tr><td>val_loss</td><td>1.75585</td></tr></table><br/></div></div>"
            ]
          },
          "metadata": {}
        },
        {
          "output_type": "display_data",
          "data": {
            "text/plain": [
              "<IPython.core.display.HTML object>"
            ],
            "text/html": [
              " View run <strong style=\"color:#cdcd00\">MLP_Hyperparameter_Tuning_exp_6</strong> at: <a href='https://wandb.ai/nipkha21-free-university-of-tbilisi-/facial-expression-recognition/runs/msozdn3s' target=\"_blank\">https://wandb.ai/nipkha21-free-university-of-tbilisi-/facial-expression-recognition/runs/msozdn3s</a><br> View project at: <a href='https://wandb.ai/nipkha21-free-university-of-tbilisi-/facial-expression-recognition' target=\"_blank\">https://wandb.ai/nipkha21-free-university-of-tbilisi-/facial-expression-recognition</a><br>Synced 5 W&B file(s), 0 media file(s), 0 artifact file(s) and 0 other file(s)"
            ]
          },
          "metadata": {}
        },
        {
          "output_type": "display_data",
          "data": {
            "text/plain": [
              "<IPython.core.display.HTML object>"
            ],
            "text/html": [
              "Find logs at: <code>./wandb/run-20250607_160912-msozdn3s/logs</code>"
            ]
          },
          "metadata": {}
        },
        {
          "output_type": "stream",
          "name": "stdout",
          "text": [
            "\n",
            "=== Hyperparameter Experiment 7/10 ===\n",
            "Hidden Size: 256, Dropout: 0.3, LR: 0.0001, Optimizer: rmsprop, Batch Size: 128\n"
          ]
        },
        {
          "output_type": "display_data",
          "data": {
            "text/plain": [
              "<IPython.core.display.HTML object>"
            ],
            "text/html": [
              "Tracking run with wandb version 0.19.11"
            ]
          },
          "metadata": {}
        },
        {
          "output_type": "display_data",
          "data": {
            "text/plain": [
              "<IPython.core.display.HTML object>"
            ],
            "text/html": [
              "Run data is saved locally in <code>/content/wandb/run-20250607_161201-wvnnny98</code>"
            ]
          },
          "metadata": {}
        },
        {
          "output_type": "display_data",
          "data": {
            "text/plain": [
              "<IPython.core.display.HTML object>"
            ],
            "text/html": [
              "Syncing run <strong><a href='https://wandb.ai/nipkha21-free-university-of-tbilisi-/facial-expression-recognition/runs/wvnnny98' target=\"_blank\">MLP_Hyperparameter_Tuning_exp_7</a></strong> to <a href='https://wandb.ai/nipkha21-free-university-of-tbilisi-/facial-expression-recognition' target=\"_blank\">Weights & Biases</a> (<a href='https://wandb.me/developer-guide' target=\"_blank\">docs</a>)<br>"
            ]
          },
          "metadata": {}
        },
        {
          "output_type": "display_data",
          "data": {
            "text/plain": [
              "<IPython.core.display.HTML object>"
            ],
            "text/html": [
              " View project at <a href='https://wandb.ai/nipkha21-free-university-of-tbilisi-/facial-expression-recognition' target=\"_blank\">https://wandb.ai/nipkha21-free-university-of-tbilisi-/facial-expression-recognition</a>"
            ]
          },
          "metadata": {}
        },
        {
          "output_type": "display_data",
          "data": {
            "text/plain": [
              "<IPython.core.display.HTML object>"
            ],
            "text/html": [
              " View run at <a href='https://wandb.ai/nipkha21-free-university-of-tbilisi-/facial-expression-recognition/runs/wvnnny98' target=\"_blank\">https://wandb.ai/nipkha21-free-university-of-tbilisi-/facial-expression-recognition/runs/wvnnny98</a>"
            ]
          },
          "metadata": {}
        },
        {
          "output_type": "stream",
          "name": "stdout",
          "text": [
            "Best Validation Accuracy: 35.83%\n"
          ]
        },
        {
          "output_type": "display_data",
          "data": {
            "text/plain": [
              "<IPython.core.display.HTML object>"
            ],
            "text/html": []
          },
          "metadata": {}
        },
        {
          "output_type": "display_data",
          "data": {
            "text/plain": [
              "<IPython.core.display.HTML object>"
            ],
            "text/html": [
              "<br>    <style><br>        .wandb-row {<br>            display: flex;<br>            flex-direction: row;<br>            flex-wrap: wrap;<br>            justify-content: flex-start;<br>            width: 100%;<br>        }<br>        .wandb-col {<br>            display: flex;<br>            flex-direction: column;<br>            flex-basis: 100%;<br>            flex: 1;<br>            padding: 10px;<br>        }<br>    </style><br><div class=\"wandb-row\"><div class=\"wandb-col\"><h3>Run history:</h3><br/><table class=\"wandb\"><tr><td>best_val_accuracy</td><td>▁▄▄▅▆▆▆▆██</td></tr><tr><td>epoch</td><td>▁▂▃▃▄▅▆▆▇█</td></tr><tr><td>train_accuracy</td><td>▁▃▅▅▆▆▇▇██</td></tr><tr><td>train_loss</td><td>█▅▄▃▃▂▂▂▁▁</td></tr><tr><td>val_accuracy</td><td>▁▄▃▅▆▅▆▅██</td></tr><tr><td>val_loss</td><td>█▆▅▄▃▃▃▃▂▁</td></tr></table><br/></div><div class=\"wandb-col\"><h3>Run summary:</h3><br/><table class=\"wandb\"><tr><td>best_val_accuracy</td><td>35.8254</td></tr><tr><td>epoch</td><td>10</td></tr><tr><td>train_accuracy</td><td>36.02389</td></tr><tr><td>train_loss</td><td>1.64954</td></tr><tr><td>val_accuracy</td><td>35.8254</td></tr><tr><td>val_loss</td><td>1.65416</td></tr></table><br/></div></div>"
            ]
          },
          "metadata": {}
        },
        {
          "output_type": "display_data",
          "data": {
            "text/plain": [
              "<IPython.core.display.HTML object>"
            ],
            "text/html": [
              " View run <strong style=\"color:#cdcd00\">MLP_Hyperparameter_Tuning_exp_7</strong> at: <a href='https://wandb.ai/nipkha21-free-university-of-tbilisi-/facial-expression-recognition/runs/wvnnny98' target=\"_blank\">https://wandb.ai/nipkha21-free-university-of-tbilisi-/facial-expression-recognition/runs/wvnnny98</a><br> View project at: <a href='https://wandb.ai/nipkha21-free-university-of-tbilisi-/facial-expression-recognition' target=\"_blank\">https://wandb.ai/nipkha21-free-university-of-tbilisi-/facial-expression-recognition</a><br>Synced 5 W&B file(s), 0 media file(s), 0 artifact file(s) and 0 other file(s)"
            ]
          },
          "metadata": {}
        },
        {
          "output_type": "display_data",
          "data": {
            "text/plain": [
              "<IPython.core.display.HTML object>"
            ],
            "text/html": [
              "Find logs at: <code>./wandb/run-20250607_161201-wvnnny98/logs</code>"
            ]
          },
          "metadata": {}
        },
        {
          "output_type": "stream",
          "name": "stdout",
          "text": [
            "\n",
            "=== Hyperparameter Experiment 8/10 ===\n",
            "Hidden Size: 512, Dropout: 0.7, LR: 0.01, Optimizer: rmsprop, Batch Size: 32\n"
          ]
        },
        {
          "output_type": "display_data",
          "data": {
            "text/plain": [
              "<IPython.core.display.HTML object>"
            ],
            "text/html": [
              "Tracking run with wandb version 0.19.11"
            ]
          },
          "metadata": {}
        },
        {
          "output_type": "display_data",
          "data": {
            "text/plain": [
              "<IPython.core.display.HTML object>"
            ],
            "text/html": [
              "Run data is saved locally in <code>/content/wandb/run-20250607_161446-8qnoexkl</code>"
            ]
          },
          "metadata": {}
        },
        {
          "output_type": "display_data",
          "data": {
            "text/plain": [
              "<IPython.core.display.HTML object>"
            ],
            "text/html": [
              "Syncing run <strong><a href='https://wandb.ai/nipkha21-free-university-of-tbilisi-/facial-expression-recognition/runs/8qnoexkl' target=\"_blank\">MLP_Hyperparameter_Tuning_exp_8</a></strong> to <a href='https://wandb.ai/nipkha21-free-university-of-tbilisi-/facial-expression-recognition' target=\"_blank\">Weights & Biases</a> (<a href='https://wandb.me/developer-guide' target=\"_blank\">docs</a>)<br>"
            ]
          },
          "metadata": {}
        },
        {
          "output_type": "display_data",
          "data": {
            "text/plain": [
              "<IPython.core.display.HTML object>"
            ],
            "text/html": [
              " View project at <a href='https://wandb.ai/nipkha21-free-university-of-tbilisi-/facial-expression-recognition' target=\"_blank\">https://wandb.ai/nipkha21-free-university-of-tbilisi-/facial-expression-recognition</a>"
            ]
          },
          "metadata": {}
        },
        {
          "output_type": "display_data",
          "data": {
            "text/plain": [
              "<IPython.core.display.HTML object>"
            ],
            "text/html": [
              " View run at <a href='https://wandb.ai/nipkha21-free-university-of-tbilisi-/facial-expression-recognition/runs/8qnoexkl' target=\"_blank\">https://wandb.ai/nipkha21-free-university-of-tbilisi-/facial-expression-recognition/runs/8qnoexkl</a>"
            ]
          },
          "metadata": {}
        },
        {
          "output_type": "stream",
          "name": "stdout",
          "text": [
            "Best Validation Accuracy: 25.17%\n"
          ]
        },
        {
          "output_type": "display_data",
          "data": {
            "text/plain": [
              "<IPython.core.display.HTML object>"
            ],
            "text/html": []
          },
          "metadata": {}
        },
        {
          "output_type": "display_data",
          "data": {
            "text/plain": [
              "<IPython.core.display.HTML object>"
            ],
            "text/html": [
              "<br>    <style><br>        .wandb-row {<br>            display: flex;<br>            flex-direction: row;<br>            flex-wrap: wrap;<br>            justify-content: flex-start;<br>            width: 100%;<br>        }<br>        .wandb-col {<br>            display: flex;<br>            flex-direction: column;<br>            flex-basis: 100%;<br>            flex: 1;<br>            padding: 10px;<br>        }<br>    </style><br><div class=\"wandb-row\"><div class=\"wandb-col\"><h3>Run history:</h3><br/><table class=\"wandb\"><tr><td>best_val_accuracy</td><td>▁▁▁▁▁▁▁▁▁▁</td></tr><tr><td>epoch</td><td>▁▂▃▃▄▅▆▆▇█</td></tr><tr><td>train_accuracy</td><td>▁▇▇█████▇█</td></tr><tr><td>train_loss</td><td>█▁▁▁▁▁▁▁▁▁</td></tr><tr><td>val_accuracy</td><td>█▃▁▁▁▁▁▃▃▃</td></tr><tr><td>val_loss</td><td>▁▃▂▄▅▆▇█▇█</td></tr></table><br/></div><div class=\"wandb-col\"><h3>Run summary:</h3><br/><table class=\"wandb\"><tr><td>best_val_accuracy</td><td>25.16833</td></tr><tr><td>epoch</td><td>10</td></tr><tr><td>train_accuracy</td><td>25.20527</td></tr><tr><td>train_loss</td><td>1.84963</td></tr><tr><td>val_accuracy</td><td>25.12189</td></tr><tr><td>val_loss</td><td>1.81535</td></tr></table><br/></div></div>"
            ]
          },
          "metadata": {}
        },
        {
          "output_type": "display_data",
          "data": {
            "text/plain": [
              "<IPython.core.display.HTML object>"
            ],
            "text/html": [
              " View run <strong style=\"color:#cdcd00\">MLP_Hyperparameter_Tuning_exp_8</strong> at: <a href='https://wandb.ai/nipkha21-free-university-of-tbilisi-/facial-expression-recognition/runs/8qnoexkl' target=\"_blank\">https://wandb.ai/nipkha21-free-university-of-tbilisi-/facial-expression-recognition/runs/8qnoexkl</a><br> View project at: <a href='https://wandb.ai/nipkha21-free-university-of-tbilisi-/facial-expression-recognition' target=\"_blank\">https://wandb.ai/nipkha21-free-university-of-tbilisi-/facial-expression-recognition</a><br>Synced 5 W&B file(s), 0 media file(s), 0 artifact file(s) and 0 other file(s)"
            ]
          },
          "metadata": {}
        },
        {
          "output_type": "display_data",
          "data": {
            "text/plain": [
              "<IPython.core.display.HTML object>"
            ],
            "text/html": [
              "Find logs at: <code>./wandb/run-20250607_161446-8qnoexkl/logs</code>"
            ]
          },
          "metadata": {}
        },
        {
          "output_type": "stream",
          "name": "stdout",
          "text": [
            "\n",
            "=== Hyperparameter Experiment 9/10 ===\n",
            "Hidden Size: 1024, Dropout: 0.5, LR: 0.01, Optimizer: adam, Batch Size: 64\n"
          ]
        },
        {
          "output_type": "display_data",
          "data": {
            "text/plain": [
              "<IPython.core.display.HTML object>"
            ],
            "text/html": [
              "Tracking run with wandb version 0.19.11"
            ]
          },
          "metadata": {}
        },
        {
          "output_type": "display_data",
          "data": {
            "text/plain": [
              "<IPython.core.display.HTML object>"
            ],
            "text/html": [
              "Run data is saved locally in <code>/content/wandb/run-20250607_161739-xvilkayl</code>"
            ]
          },
          "metadata": {}
        },
        {
          "output_type": "display_data",
          "data": {
            "text/plain": [
              "<IPython.core.display.HTML object>"
            ],
            "text/html": [
              "Syncing run <strong><a href='https://wandb.ai/nipkha21-free-university-of-tbilisi-/facial-expression-recognition/runs/xvilkayl' target=\"_blank\">MLP_Hyperparameter_Tuning_exp_9</a></strong> to <a href='https://wandb.ai/nipkha21-free-university-of-tbilisi-/facial-expression-recognition' target=\"_blank\">Weights & Biases</a> (<a href='https://wandb.me/developer-guide' target=\"_blank\">docs</a>)<br>"
            ]
          },
          "metadata": {}
        },
        {
          "output_type": "display_data",
          "data": {
            "text/plain": [
              "<IPython.core.display.HTML object>"
            ],
            "text/html": [
              " View project at <a href='https://wandb.ai/nipkha21-free-university-of-tbilisi-/facial-expression-recognition' target=\"_blank\">https://wandb.ai/nipkha21-free-university-of-tbilisi-/facial-expression-recognition</a>"
            ]
          },
          "metadata": {}
        },
        {
          "output_type": "display_data",
          "data": {
            "text/plain": [
              "<IPython.core.display.HTML object>"
            ],
            "text/html": [
              " View run at <a href='https://wandb.ai/nipkha21-free-university-of-tbilisi-/facial-expression-recognition/runs/xvilkayl' target=\"_blank\">https://wandb.ai/nipkha21-free-university-of-tbilisi-/facial-expression-recognition/runs/xvilkayl</a>"
            ]
          },
          "metadata": {}
        },
        {
          "output_type": "stream",
          "name": "stdout",
          "text": [
            "Best Validation Accuracy: 25.12%\n"
          ]
        },
        {
          "output_type": "display_data",
          "data": {
            "text/plain": [
              "<IPython.core.display.HTML object>"
            ],
            "text/html": []
          },
          "metadata": {}
        },
        {
          "output_type": "display_data",
          "data": {
            "text/plain": [
              "<IPython.core.display.HTML object>"
            ],
            "text/html": [
              "<br>    <style><br>        .wandb-row {<br>            display: flex;<br>            flex-direction: row;<br>            flex-wrap: wrap;<br>            justify-content: flex-start;<br>            width: 100%;<br>        }<br>        .wandb-col {<br>            display: flex;<br>            flex-direction: column;<br>            flex-basis: 100%;<br>            flex: 1;<br>            padding: 10px;<br>        }<br>    </style><br><div class=\"wandb-row\"><div class=\"wandb-col\"><h3>Run history:</h3><br/><table class=\"wandb\"><tr><td>best_val_accuracy</td><td>▁▁▁▁▁▁▁▁▁▁</td></tr><tr><td>epoch</td><td>▁▂▃▃▄▅▆▆▇█</td></tr><tr><td>train_accuracy</td><td>▁█████████</td></tr><tr><td>train_loss</td><td>█▁▁▁▁▁▁▁▁▁</td></tr><tr><td>val_accuracy</td><td>█▁▁▁▁▁▁▁▁▁</td></tr><tr><td>val_loss</td><td>█▁▄▅▅▆▇▆▆▆</td></tr></table><br/></div><div class=\"wandb-col\"><h3>Run summary:</h3><br/><table class=\"wandb\"><tr><td>best_val_accuracy</td><td>25.12189</td></tr><tr><td>epoch</td><td>10</td></tr><tr><td>train_accuracy</td><td>25.17542</td></tr><tr><td>train_loss</td><td>1.80987</td></tr><tr><td>val_accuracy</td><td>25.09868</td></tr><tr><td>val_loss</td><td>1.81186</td></tr></table><br/></div></div>"
            ]
          },
          "metadata": {}
        },
        {
          "output_type": "display_data",
          "data": {
            "text/plain": [
              "<IPython.core.display.HTML object>"
            ],
            "text/html": [
              " View run <strong style=\"color:#cdcd00\">MLP_Hyperparameter_Tuning_exp_9</strong> at: <a href='https://wandb.ai/nipkha21-free-university-of-tbilisi-/facial-expression-recognition/runs/xvilkayl' target=\"_blank\">https://wandb.ai/nipkha21-free-university-of-tbilisi-/facial-expression-recognition/runs/xvilkayl</a><br> View project at: <a href='https://wandb.ai/nipkha21-free-university-of-tbilisi-/facial-expression-recognition' target=\"_blank\">https://wandb.ai/nipkha21-free-university-of-tbilisi-/facial-expression-recognition</a><br>Synced 5 W&B file(s), 0 media file(s), 0 artifact file(s) and 0 other file(s)"
            ]
          },
          "metadata": {}
        },
        {
          "output_type": "display_data",
          "data": {
            "text/plain": [
              "<IPython.core.display.HTML object>"
            ],
            "text/html": [
              "Find logs at: <code>./wandb/run-20250607_161739-xvilkayl/logs</code>"
            ]
          },
          "metadata": {}
        },
        {
          "output_type": "stream",
          "name": "stdout",
          "text": [
            "\n",
            "=== Hyperparameter Experiment 10/10 ===\n",
            "Hidden Size: 512, Dropout: 0.3, LR: 0.0001, Optimizer: rmsprop, Batch Size: 128\n"
          ]
        },
        {
          "output_type": "display_data",
          "data": {
            "text/plain": [
              "<IPython.core.display.HTML object>"
            ],
            "text/html": [
              "Tracking run with wandb version 0.19.11"
            ]
          },
          "metadata": {}
        },
        {
          "output_type": "display_data",
          "data": {
            "text/plain": [
              "<IPython.core.display.HTML object>"
            ],
            "text/html": [
              "Run data is saved locally in <code>/content/wandb/run-20250607_162028-dmjqourp</code>"
            ]
          },
          "metadata": {}
        },
        {
          "output_type": "display_data",
          "data": {
            "text/plain": [
              "<IPython.core.display.HTML object>"
            ],
            "text/html": [
              "Syncing run <strong><a href='https://wandb.ai/nipkha21-free-university-of-tbilisi-/facial-expression-recognition/runs/dmjqourp' target=\"_blank\">MLP_Hyperparameter_Tuning_exp_10</a></strong> to <a href='https://wandb.ai/nipkha21-free-university-of-tbilisi-/facial-expression-recognition' target=\"_blank\">Weights & Biases</a> (<a href='https://wandb.me/developer-guide' target=\"_blank\">docs</a>)<br>"
            ]
          },
          "metadata": {}
        },
        {
          "output_type": "display_data",
          "data": {
            "text/plain": [
              "<IPython.core.display.HTML object>"
            ],
            "text/html": [
              " View project at <a href='https://wandb.ai/nipkha21-free-university-of-tbilisi-/facial-expression-recognition' target=\"_blank\">https://wandb.ai/nipkha21-free-university-of-tbilisi-/facial-expression-recognition</a>"
            ]
          },
          "metadata": {}
        },
        {
          "output_type": "display_data",
          "data": {
            "text/plain": [
              "<IPython.core.display.HTML object>"
            ],
            "text/html": [
              " View run at <a href='https://wandb.ai/nipkha21-free-university-of-tbilisi-/facial-expression-recognition/runs/dmjqourp' target=\"_blank\">https://wandb.ai/nipkha21-free-university-of-tbilisi-/facial-expression-recognition/runs/dmjqourp</a>"
            ]
          },
          "metadata": {}
        },
        {
          "output_type": "stream",
          "name": "stdout",
          "text": [
            "Best Validation Accuracy: 35.15%\n"
          ]
        },
        {
          "output_type": "display_data",
          "data": {
            "text/plain": [
              "<IPython.core.display.HTML object>"
            ],
            "text/html": []
          },
          "metadata": {}
        },
        {
          "output_type": "display_data",
          "data": {
            "text/plain": [
              "<IPython.core.display.HTML object>"
            ],
            "text/html": [
              "<br>    <style><br>        .wandb-row {<br>            display: flex;<br>            flex-direction: row;<br>            flex-wrap: wrap;<br>            justify-content: flex-start;<br>            width: 100%;<br>        }<br>        .wandb-col {<br>            display: flex;<br>            flex-direction: column;<br>            flex-basis: 100%;<br>            flex: 1;<br>            padding: 10px;<br>        }<br>    </style><br><div class=\"wandb-row\"><div class=\"wandb-col\"><h3>Run history:</h3><br/><table class=\"wandb\"><tr><td>best_val_accuracy</td><td>▁▁▄▄▆▇▇▇▇█</td></tr><tr><td>epoch</td><td>▁▂▃▃▄▅▆▆▇█</td></tr><tr><td>train_accuracy</td><td>▁▃▅▆▆▇▇▇██</td></tr><tr><td>train_loss</td><td>█▄▄▃▃▂▂▂▁▁</td></tr><tr><td>val_accuracy</td><td>▁▁▄▃▆▇▆▇▅█</td></tr><tr><td>val_loss</td><td>█▇▅▅▄▃▃▁▃▁</td></tr></table><br/></div><div class=\"wandb-col\"><h3>Run summary:</h3><br/><table class=\"wandb\"><tr><td>best_val_accuracy</td><td>35.15208</td></tr><tr><td>epoch</td><td>10</td></tr><tr><td>train_accuracy</td><td>36.79025</td></tr><tr><td>train_loss</td><td>1.63217</td></tr><tr><td>val_accuracy</td><td>35.15208</td></tr><tr><td>val_loss</td><td>1.65457</td></tr></table><br/></div></div>"
            ]
          },
          "metadata": {}
        },
        {
          "output_type": "display_data",
          "data": {
            "text/plain": [
              "<IPython.core.display.HTML object>"
            ],
            "text/html": [
              " View run <strong style=\"color:#cdcd00\">MLP_Hyperparameter_Tuning_exp_10</strong> at: <a href='https://wandb.ai/nipkha21-free-university-of-tbilisi-/facial-expression-recognition/runs/dmjqourp' target=\"_blank\">https://wandb.ai/nipkha21-free-university-of-tbilisi-/facial-expression-recognition/runs/dmjqourp</a><br> View project at: <a href='https://wandb.ai/nipkha21-free-university-of-tbilisi-/facial-expression-recognition' target=\"_blank\">https://wandb.ai/nipkha21-free-university-of-tbilisi-/facial-expression-recognition</a><br>Synced 5 W&B file(s), 0 media file(s), 0 artifact file(s) and 0 other file(s)"
            ]
          },
          "metadata": {}
        },
        {
          "output_type": "display_data",
          "data": {
            "text/plain": [
              "<IPython.core.display.HTML object>"
            ],
            "text/html": [
              "Find logs at: <code>./wandb/run-20250607_162028-dmjqourp/logs</code>"
            ]
          },
          "metadata": {}
        },
        {
          "output_type": "stream",
          "name": "stdout",
          "text": [
            "\n",
            "=== HYPERPARAMETER ANALYSIS ===\n",
            "Best configuration:\n",
            "  hidden_size: 256\n",
            "  dropout_rate: 0.3\n",
            "  learning_rate: 0.0001\n",
            "  optimizer: rmsprop\n",
            "  batch_size: 128\n",
            "  best_val_acc: 35.82540051079638\n"
          ]
        }
      ]
    },
    {
      "cell_type": "code",
      "source": [],
      "metadata": {
        "id": "Aoo3ZMrMFwmV"
      },
      "execution_count": null,
      "outputs": []
    }
  ]
}