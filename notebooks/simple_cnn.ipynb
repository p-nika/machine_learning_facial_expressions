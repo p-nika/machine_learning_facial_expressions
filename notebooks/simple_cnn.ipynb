{
  "nbformat": 4,
  "nbformat_minor": 0,
  "metadata": {
    "colab": {
      "provenance": [],
      "gpuType": "A100"
    },
    "kernelspec": {
      "name": "python3",
      "display_name": "Python 3"
    },
    "language_info": {
      "name": "python"
    },
    "accelerator": "GPU"
  },
  "cells": [
    {
      "cell_type": "code",
      "execution_count": null,
      "metadata": {
        "id": "GpfdjqTZlDRQ",
        "colab": {
          "base_uri": "https://localhost:8080/"
        },
        "outputId": "63261dc2-74e0-4e4f-de72-891ee405edf9"
      },
      "outputs": [
        {
          "output_type": "stream",
          "name": "stdout",
          "text": [
            "Requirement already satisfied: wandb in /usr/local/lib/python3.11/dist-packages (0.19.11)\n",
            "Requirement already satisfied: click!=8.0.0,>=7.1 in /usr/local/lib/python3.11/dist-packages (from wandb) (8.2.1)\n",
            "Requirement already satisfied: docker-pycreds>=0.4.0 in /usr/local/lib/python3.11/dist-packages (from wandb) (0.4.0)\n",
            "Requirement already satisfied: gitpython!=3.1.29,>=1.0.0 in /usr/local/lib/python3.11/dist-packages (from wandb) (3.1.44)\n",
            "Requirement already satisfied: platformdirs in /usr/local/lib/python3.11/dist-packages (from wandb) (4.3.8)\n",
            "Requirement already satisfied: protobuf!=4.21.0,!=5.28.0,<7,>=3.19.0 in /usr/local/lib/python3.11/dist-packages (from wandb) (5.29.5)\n",
            "Requirement already satisfied: psutil>=5.0.0 in /usr/local/lib/python3.11/dist-packages (from wandb) (5.9.5)\n",
            "Requirement already satisfied: pydantic<3 in /usr/local/lib/python3.11/dist-packages (from wandb) (2.11.5)\n",
            "Requirement already satisfied: pyyaml in /usr/local/lib/python3.11/dist-packages (from wandb) (6.0.2)\n",
            "Requirement already satisfied: requests<3,>=2.0.0 in /usr/local/lib/python3.11/dist-packages (from wandb) (2.32.3)\n",
            "Requirement already satisfied: sentry-sdk>=2.0.0 in /usr/local/lib/python3.11/dist-packages (from wandb) (2.29.1)\n",
            "Requirement already satisfied: setproctitle in /usr/local/lib/python3.11/dist-packages (from wandb) (1.3.6)\n",
            "Requirement already satisfied: setuptools in /usr/local/lib/python3.11/dist-packages (from wandb) (75.2.0)\n",
            "Requirement already satisfied: typing-extensions<5,>=4.4 in /usr/local/lib/python3.11/dist-packages (from wandb) (4.14.0)\n",
            "Requirement already satisfied: six>=1.4.0 in /usr/local/lib/python3.11/dist-packages (from docker-pycreds>=0.4.0->wandb) (1.17.0)\n",
            "Requirement already satisfied: gitdb<5,>=4.0.1 in /usr/local/lib/python3.11/dist-packages (from gitpython!=3.1.29,>=1.0.0->wandb) (4.0.12)\n",
            "Requirement already satisfied: annotated-types>=0.6.0 in /usr/local/lib/python3.11/dist-packages (from pydantic<3->wandb) (0.7.0)\n",
            "Requirement already satisfied: pydantic-core==2.33.2 in /usr/local/lib/python3.11/dist-packages (from pydantic<3->wandb) (2.33.2)\n",
            "Requirement already satisfied: typing-inspection>=0.4.0 in /usr/local/lib/python3.11/dist-packages (from pydantic<3->wandb) (0.4.1)\n",
            "Requirement already satisfied: charset-normalizer<4,>=2 in /usr/local/lib/python3.11/dist-packages (from requests<3,>=2.0.0->wandb) (3.4.2)\n",
            "Requirement already satisfied: idna<4,>=2.5 in /usr/local/lib/python3.11/dist-packages (from requests<3,>=2.0.0->wandb) (3.10)\n",
            "Requirement already satisfied: urllib3<3,>=1.21.1 in /usr/local/lib/python3.11/dist-packages (from requests<3,>=2.0.0->wandb) (2.4.0)\n",
            "Requirement already satisfied: certifi>=2017.4.17 in /usr/local/lib/python3.11/dist-packages (from requests<3,>=2.0.0->wandb) (2025.4.26)\n",
            "Requirement already satisfied: smmap<6,>=3.0.1 in /usr/local/lib/python3.11/dist-packages (from gitdb<5,>=4.0.1->gitpython!=3.1.29,>=1.0.0->wandb) (5.0.2)\n"
          ]
        }
      ],
      "source": [
        "!pip install wandb"
      ]
    },
    {
      "cell_type": "code",
      "source": [
        "import wandb"
      ],
      "metadata": {
        "id": "MN4q_8mWLwF-"
      },
      "execution_count": 7,
      "outputs": []
    },
    {
      "cell_type": "code",
      "source": [
        "wandb.login()"
      ],
      "metadata": {
        "colab": {
          "base_uri": "https://localhost:8080/",
          "height": 198
        },
        "id": "X8ROGEdrLzpo",
        "outputId": "7b28a2b1-54b5-4c6e-eb0b-ba215a3bdd6a"
      },
      "execution_count": 8,
      "outputs": [
        {
          "output_type": "display_data",
          "data": {
            "text/plain": [
              "<IPython.core.display.Javascript object>"
            ],
            "application/javascript": [
              "\n",
              "        window._wandbApiKey = new Promise((resolve, reject) => {\n",
              "            function loadScript(url) {\n",
              "            return new Promise(function(resolve, reject) {\n",
              "                let newScript = document.createElement(\"script\");\n",
              "                newScript.onerror = reject;\n",
              "                newScript.onload = resolve;\n",
              "                document.body.appendChild(newScript);\n",
              "                newScript.src = url;\n",
              "            });\n",
              "            }\n",
              "            loadScript(\"https://cdn.jsdelivr.net/npm/postmate/build/postmate.min.js\").then(() => {\n",
              "            const iframe = document.createElement('iframe')\n",
              "            iframe.style.cssText = \"width:0;height:0;border:none\"\n",
              "            document.body.appendChild(iframe)\n",
              "            const handshake = new Postmate({\n",
              "                container: iframe,\n",
              "                url: 'https://wandb.ai/authorize'\n",
              "            });\n",
              "            const timeout = setTimeout(() => reject(\"Couldn't auto authenticate\"), 5000)\n",
              "            handshake.then(function(child) {\n",
              "                child.on('authorize', data => {\n",
              "                    clearTimeout(timeout)\n",
              "                    resolve(data)\n",
              "                });\n",
              "            });\n",
              "            })\n",
              "        });\n",
              "    "
            ]
          },
          "metadata": {}
        },
        {
          "output_type": "stream",
          "name": "stderr",
          "text": [
            "\u001b[34m\u001b[1mwandb\u001b[0m: Logging into wandb.ai. (Learn how to deploy a W&B server locally: https://wandb.me/wandb-server)\n",
            "\u001b[34m\u001b[1mwandb\u001b[0m: You can find your API key in your browser here: https://wandb.ai/authorize\n",
            "wandb: Paste an API key from your profile and hit enter:"
          ]
        },
        {
          "name": "stdout",
          "output_type": "stream",
          "text": [
            " ··········\n"
          ]
        },
        {
          "output_type": "stream",
          "name": "stderr",
          "text": [
            "\u001b[34m\u001b[1mwandb\u001b[0m: \u001b[33mWARNING\u001b[0m If you're specifying your api key in code, ensure this code is not shared publicly.\n",
            "\u001b[34m\u001b[1mwandb\u001b[0m: \u001b[33mWARNING\u001b[0m Consider setting the WANDB_API_KEY environment variable, or running `wandb login` from the command line.\n",
            "\u001b[34m\u001b[1mwandb\u001b[0m: No netrc file found, creating one.\n",
            "\u001b[34m\u001b[1mwandb\u001b[0m: Appending key for api.wandb.ai to your netrc file: /root/.netrc\n",
            "\u001b[34m\u001b[1mwandb\u001b[0m: Currently logged in as: \u001b[33mnipkha21\u001b[0m (\u001b[33mnipkha21-free-university-of-tbilisi-\u001b[0m) to \u001b[32mhttps://api.wandb.ai\u001b[0m. Use \u001b[1m`wandb login --relogin`\u001b[0m to force relogin\n"
          ]
        },
        {
          "output_type": "execute_result",
          "data": {
            "text/plain": [
              "True"
            ]
          },
          "metadata": {},
          "execution_count": 8
        }
      ]
    },
    {
      "cell_type": "code",
      "source": [],
      "metadata": {
        "id": "4tTypGWrL1iW"
      },
      "execution_count": null,
      "outputs": []
    },
    {
      "cell_type": "code",
      "source": [
        "from google.colab import drive\n",
        "drive.mount('/content/drive')"
      ],
      "metadata": {
        "colab": {
          "base_uri": "https://localhost:8080/"
        },
        "id": "jLbASSuzpV4J",
        "outputId": "35e93889-6ccd-4f1f-eb8f-caace3fbac08"
      },
      "execution_count": 2,
      "outputs": [
        {
          "output_type": "stream",
          "name": "stdout",
          "text": [
            "Mounted at /content/drive\n"
          ]
        }
      ]
    },
    {
      "cell_type": "code",
      "source": [
        "import sys\n",
        "import os\n",
        "import numpy as np\n",
        "import pandas as pd\n",
        "import matplotlib.pyplot as plt\n",
        "import seaborn as sns\n",
        "import torch\n",
        "import torch.nn as nn\n",
        "import torch.optim as optim\n",
        "import torch.nn.functional as F\n",
        "from torch.utils.data import Dataset, DataLoader\n",
        "from torch.optim.lr_scheduler import StepLR, ReduceLROnPlateau\n",
        "import torchvision.transforms as transforms\n",
        "from sklearn.model_selection import train_test_split\n",
        "from sklearn.metrics import classification_report, confusion_matrix\n",
        "import wandb\n",
        "from tqdm import tqdm\n",
        "import time\n",
        "import cv2\n",
        "import albumentations as A\n",
        "from albumentations.pytorch import ToTensorV2"
      ],
      "metadata": {
        "id": "hE3VJyaPpjUU"
      },
      "execution_count": 1,
      "outputs": []
    },
    {
      "cell_type": "code",
      "source": [
        "from data_utils import load_split_data\n",
        "from models import SimpleCNN, get_model\n",
        "from training_utils import ModelTrainer, get_optimizer, get_scheduler\n",
        "from evaluation import ModelEvaluator"
      ],
      "metadata": {
        "id": "xBlXWvH_ppT_"
      },
      "execution_count": 4,
      "outputs": []
    },
    {
      "cell_type": "code",
      "source": [
        "device = torch.device('cuda' if torch.cuda.is_available() else 'cpu')"
      ],
      "metadata": {
        "id": "zonS4rtypyWZ"
      },
      "execution_count": 12,
      "outputs": []
    },
    {
      "cell_type": "code",
      "source": [
        "class CNNFacialExpressionDataset(Dataset):\n",
        "    def __init__(self, data, transform=None, augment=False, is_test=False):\n",
        "        self.data = data\n",
        "        self.transform = transform\n",
        "        self.augment = augment\n",
        "        self.is_test = is_test\n",
        "\n",
        "        if transform is None:\n",
        "            if augment and not is_test:\n",
        "                self.transform = self._get_augmentation_transform()\n",
        "            else:\n",
        "                self.transform = self._get_basic_transform()\n",
        "\n",
        "    def _get_basic_transform(self):\n",
        "        return A.Compose([\n",
        "            A.Normalize(mean=[0.485], std=[0.229]),\n",
        "            ToTensorV2()\n",
        "        ])\n",
        "\n",
        "    def _get_augmentation_transform(self):\n",
        "        return A.Compose([\n",
        "            A.HorizontalFlip(p=0.5),\n",
        "            A.Rotate(limit=15, p=0.3, border_mode=cv2.BORDER_CONSTANT, value=0),\n",
        "            A.RandomBrightnessContrast(brightness_limit=0.2, contrast_limit=0.2, p=0.3),\n",
        "            A.GaussNoise(var_limit=(10.0, 50.0), p=0.2),\n",
        "            A.Blur(blur_limit=3, p=0.1),\n",
        "            A.CoarseDropout(max_holes=1, max_height=8, max_width=8,\n",
        "                           min_holes=1, min_height=4, min_width=4, p=0.2),\n",
        "            A.ShiftScaleRotate(shift_limit=0.1, scale_limit=0.1, rotate_limit=10, p=0.3),\n",
        "            A.Normalize(mean=[0.485], std=[0.229]),\n",
        "            ToTensorV2()\n",
        "        ])\n",
        "\n",
        "    def __len__(self):\n",
        "        return len(self.data)\n",
        "\n",
        "    def __getitem__(self, idx):\n",
        "        pixels = self.data.iloc[idx]['pixels']\n",
        "        image = np.array([int(pixel) for pixel in pixels.split()]).reshape(48, 48)\n",
        "\n",
        "        image = np.stack([image] * 3, axis=-1).astype(np.uint8)\n",
        "\n",
        "        if self.transform:\n",
        "            augmented = self.transform(image=image)\n",
        "            image = augmented['image']\n",
        "        else:\n",
        "            image = torch.FloatTensor(image).unsqueeze(0) / 255.0\n",
        "\n",
        "        if self.is_test:\n",
        "            return image\n",
        "        else:\n",
        "            emotion = int(self.data.iloc[idx]['emotion'])\n",
        "            return image, emotion"
      ],
      "metadata": {
        "id": "aynFXk90pvZ1"
      },
      "execution_count": 5,
      "outputs": []
    },
    {
      "cell_type": "code",
      "source": [
        "class ImprovedSimpleCNN(nn.Module):\n",
        "    def __init__(self, num_classes=7, dropout_rate=0.3, use_batch_norm=True):\n",
        "        super(ImprovedSimpleCNN, self).__init__()\n",
        "\n",
        "        self.use_batch_norm = use_batch_norm\n",
        "\n",
        "        self.conv1 = nn.Conv2d(1, 32, kernel_size=3, padding=1)\n",
        "        self.bn1 = nn.BatchNorm2d(32) if use_batch_norm else nn.Identity()\n",
        "\n",
        "        self.conv2 = nn.Conv2d(32, 64, kernel_size=3, padding=1)\n",
        "        self.bn2 = nn.BatchNorm2d(64) if use_batch_norm else nn.Identity()\n",
        "\n",
        "        self.conv3 = nn.Conv2d(64, 128, kernel_size=3, padding=1)\n",
        "        self.bn3 = nn.BatchNorm2d(128) if use_batch_norm else nn.Identity()\n",
        "\n",
        "        self.conv4 = nn.Conv2d(128, 256, kernel_size=3, padding=1)\n",
        "        self.bn4 = nn.BatchNorm2d(256) if use_batch_norm else nn.Identity()\n",
        "\n",
        "        self.pool = nn.MaxPool2d(2, 2)\n",
        "        self.adaptive_pool = nn.AdaptiveAvgPool2d((3, 3))\n",
        "\n",
        "        self.fc1 = nn.Linear(256 * 3 * 3, 512)\n",
        "        self.dropout1 = nn.Dropout(dropout_rate)\n",
        "        self.fc2 = nn.Linear(512, 128)\n",
        "        self.dropout2 = nn.Dropout(dropout_rate / 2)\n",
        "        self.fc3 = nn.Linear(128, num_classes)\n",
        "\n",
        "        self._initialize_weights()\n",
        "\n",
        "    def _initialize_weights(self):\n",
        "        for m in self.modules():\n",
        "            if isinstance(m, nn.Conv2d):\n",
        "                nn.init.kaiming_normal_(m.weight, mode='fan_out', nonlinearity='relu')\n",
        "                if m.bias is not None:\n",
        "                    nn.init.constant_(m.bias, 0)\n",
        "            elif isinstance(m, nn.BatchNorm2d):\n",
        "                nn.init.constant_(m.weight, 1)\n",
        "                nn.init.constant_(m.bias, 0)\n",
        "            elif isinstance(m, nn.Linear):\n",
        "                nn.init.xavier_uniform_(m.weight)\n",
        "                nn.init.constant_(m.bias, 0)\n",
        "\n",
        "    def forward(self, x):\n",
        "        if x.shape[1] == 3:\n",
        "            x = x[:, 0:1, :, :]\n",
        "\n",
        "        x = self.pool(F.relu(self.bn1(self.conv1(x))))\n",
        "        x = self.pool(F.relu(self.bn2(self.conv2(x))))\n",
        "        x = self.pool(F.relu(self.bn3(self.conv3(x))))\n",
        "        x = self.pool(F.relu(self.bn4(self.conv4(x))))\n",
        "\n",
        "        x = self.adaptive_pool(x)\n",
        "\n",
        "        x = x.view(-1, 256 * 3 * 3)\n",
        "        x = F.relu(self.fc1(x))\n",
        "        x = self.dropout1(x)\n",
        "        x = F.relu(self.fc2(x))\n",
        "        x = self.dropout2(x)\n",
        "        x = self.fc3(x)\n",
        "\n",
        "        return x"
      ],
      "metadata": {
        "id": "aLZUH7CnpwLW"
      },
      "execution_count": null,
      "outputs": []
    },
    {
      "cell_type": "code",
      "source": [
        "class CNNTrainer:\n",
        "    def __init__(self, model, train_loader, val_loader, criterion, optimizer,\n",
        "                 scheduler=None, device='cuda', experiment_name='experiment', run_name='run'):\n",
        "        self.model = model.to(device)\n",
        "        self.train_loader = train_loader\n",
        "        self.val_loader = val_loader\n",
        "        self.criterion = criterion\n",
        "        self.optimizer = optimizer\n",
        "        self.scheduler = scheduler\n",
        "        self.device = device\n",
        "\n",
        "        wandb.init(\n",
        "            project=\"facial-expression-recognition\",\n",
        "            group=experiment_name,\n",
        "            name=run_name,\n",
        "            config={\n",
        "                \"data_split_method\": \"predefined_stratified\",\n",
        "                \"train_samples\": len(train_loader.dataset),\n",
        "                \"val_samples\": len(val_loader.dataset),\n",
        "                \"split_random_state\": 42\n",
        "            },\n",
        "            reinit=True\n",
        "        )\n",
        "        wandb.watch(self.model, log='all', log_freq=100)\n",
        "\n",
        "        self.history = {\n",
        "            'train_loss': [], 'train_acc': [], 'val_loss': [], 'val_acc': [],\n",
        "            'learning_rates': [], 'epoch_times': []\n",
        "        }\n",
        "        self.best_val_acc = 0.0\n",
        "        self.best_model_state = None\n",
        "\n",
        "    def train_epoch(self):\n",
        "        self.model.train()\n",
        "        running_loss = 0.0\n",
        "        correct = 0\n",
        "        total = 0\n",
        "\n",
        "        pbar = tqdm(self.train_loader, desc=\"Training\")\n",
        "        for batch_idx, (data, targets) in enumerate(pbar):\n",
        "            data, targets = data.to(self.device), targets.to(self.device)\n",
        "\n",
        "            self.optimizer.zero_grad()\n",
        "            outputs = self.model(data)\n",
        "            loss = self.criterion(outputs, targets)\n",
        "\n",
        "            loss.backward()\n",
        "\n",
        "            torch.nn.utils.clip_grad_norm_(self.model.parameters(), max_norm=1.0)\n",
        "\n",
        "            self.optimizer.step()\n",
        "\n",
        "            running_loss += loss.item()\n",
        "            _, predicted = torch.max(outputs, 1)\n",
        "            total += targets.size(0)\n",
        "            correct += (predicted == targets).sum().item()\n",
        "\n",
        "            pbar.set_postfix({\n",
        "                'Loss': f'{loss.item():.4f}',\n",
        "                'Acc': f'{100.*correct/total:.2f}%'\n",
        "            })\n",
        "\n",
        "        epoch_loss = running_loss / len(self.train_loader)\n",
        "        epoch_acc = 100. * correct / total\n",
        "\n",
        "        return epoch_loss, epoch_acc\n",
        "\n",
        "    def validate_epoch(self):\n",
        "        self.model.eval()\n",
        "        running_loss = 0.0\n",
        "        correct = 0\n",
        "        total = 0\n",
        "        all_predictions = []\n",
        "        all_targets = []\n",
        "\n",
        "        with torch.no_grad():\n",
        "            for data, targets in tqdm(self.val_loader, desc=\"Validation\"):\n",
        "                data, targets = data.to(self.device), targets.to(self.device)\n",
        "\n",
        "                outputs = self.model(data)\n",
        "                loss = self.criterion(outputs, targets)\n",
        "\n",
        "                running_loss += loss.item()\n",
        "                _, predicted = torch.max(outputs, 1)\n",
        "                total += targets.size(0)\n",
        "                correct += (predicted == targets).sum().item()\n",
        "\n",
        "                all_predictions.extend(predicted.cpu().numpy())\n",
        "                all_targets.extend(targets.cpu().numpy())\n",
        "\n",
        "        epoch_loss = running_loss / len(self.val_loader)\n",
        "        epoch_acc = 100. * correct / total\n",
        "\n",
        "        return epoch_loss, epoch_acc, np.array(all_predictions), np.array(all_targets)\n",
        "\n",
        "    def train(self, epochs, early_stopping_patience=10):\n",
        "        print(f\"Starting CNN training for {epochs} epochs...\")\n",
        "\n",
        "        patience_counter = 0\n",
        "\n",
        "        for epoch in range(epochs):\n",
        "            epoch_start = time.time()\n",
        "\n",
        "            train_loss, train_acc = self.train_epoch()\n",
        "\n",
        "            val_loss, val_acc, val_preds, val_targets = self.validate_epoch()\n",
        "\n",
        "            current_lr = self.optimizer.param_groups[0]['lr']\n",
        "            if self.scheduler:\n",
        "                if isinstance(self.scheduler, ReduceLROnPlateau):\n",
        "                    self.scheduler.step(val_loss)\n",
        "                else:\n",
        "                    self.scheduler.step()\n",
        "\n",
        "            if val_acc > self.best_val_acc:\n",
        "                self.best_val_acc = val_acc\n",
        "                self.best_model_state = self.model.state_dict().copy()\n",
        "                patience_counter = 0\n",
        "            else:\n",
        "                patience_counter += 1\n",
        "\n",
        "            epoch_time = time.time() - epoch_start\n",
        "\n",
        "            self.history['train_loss'].append(train_loss)\n",
        "            self.history['train_acc'].append(train_acc)\n",
        "            self.history['val_loss'].append(val_loss)\n",
        "            self.history['val_acc'].append(val_acc)\n",
        "            self.history['learning_rates'].append(current_lr)\n",
        "            self.history['epoch_times'].append(epoch_time)\n",
        "\n",
        "            log_dict = {\n",
        "                'epoch': epoch + 1,\n",
        "                'train_loss': train_loss,\n",
        "                'train_accuracy': train_acc,\n",
        "                'val_loss': val_loss,\n",
        "                'val_accuracy': val_acc,\n",
        "                'learning_rate': current_lr,\n",
        "                'epoch_time': epoch_time,\n",
        "                'best_val_accuracy': self.best_val_acc\n",
        "            }\n",
        "\n",
        "            if (epoch + 1) % 15 == 0:\n",
        "                emotion_map = {0: 'Angry', 1: 'Disgust', 2: 'Fear', 3: 'Happy', 4: 'Sad', 5: 'Surprise', 6: 'Neutral'}\n",
        "                log_dict['confusion_matrix'] = wandb.plot.confusion_matrix(\n",
        "                    probs=None, y_true=val_targets, preds=val_preds,\n",
        "                    class_names=list(emotion_map.values())\n",
        "                )\n",
        "\n",
        "            wandb.log(log_dict)\n",
        "\n",
        "            print(f\"Epoch {epoch+1}/{epochs}:\")\n",
        "            print(f\"  Train Loss: {train_loss:.4f}, Train Acc: {train_acc:.2f}%\")\n",
        "            print(f\"  Val Loss: {val_loss:.4f}, Val Acc: {val_acc:.2f}%\")\n",
        "            print(f\"  LR: {current_lr:.6f}, Time: {epoch_time:.2f}s\")\n",
        "            print(\"-\" * 50)\n",
        "\n",
        "            if patience_counter >= early_stopping_patience:\n",
        "                print(f\"Early stopping triggered at epoch {epoch+1}\")\n",
        "                break\n",
        "\n",
        "        if self.best_model_state:\n",
        "            self.model.load_state_dict(self.best_model_state)\n",
        "            print(f\"Loaded best model with validation accuracy: {self.best_val_acc:.2f}%\")\n",
        "\n",
        "        return self.history"
      ],
      "metadata": {
        "id": "gLu3o2LnpwNj"
      },
      "execution_count": 6,
      "outputs": []
    },
    {
      "cell_type": "code",
      "source": [
        "wandb.login()\n",
        "\n",
        "print(\"=== LOADING PRE-SPLIT DATA ===\")\n",
        "\n",
        "train_df, val_df, test_df = load_split_data('drive/MyDrive/data')\n",
        "\n",
        "emotion_map = {0: 'Angry', 1: 'Disgust', 2: 'Fear', 3: 'Happy', 4: 'Sad', 5: 'Surprise', 6: 'Neutral'}"
      ],
      "metadata": {
        "colab": {
          "base_uri": "https://localhost:8080/"
        },
        "id": "8Eoz1K0NpwQI",
        "outputId": "fc8f291b-f70a-4fe9-83ce-1ebbcd393a6b"
      },
      "execution_count": 10,
      "outputs": [
        {
          "output_type": "stream",
          "name": "stdout",
          "text": [
            "=== LOADING PRE-SPLIT DATA ===\n"
          ]
        }
      ]
    },
    {
      "cell_type": "code",
      "source": [
        "print(\"=== DATA AUGMENTATION EXPERIMENTS ===\")\n",
        "\n",
        "augmentation_strategies = {\n",
        "    'no_augmentation': {\n",
        "        'augment': False,\n",
        "        'description': 'No data augmentation'\n",
        "    },\n",
        "    'advanced_augmentation': {\n",
        "        'augment': True,\n",
        "        'transform': A.Compose([\n",
        "            A.HorizontalFlip(p=0.5),\n",
        "            A.Rotate(limit=15, p=0.3),\n",
        "            A.RandomBrightnessContrast(p=0.3),\n",
        "            A.GaussNoise(var_limit=(10.0, 50.0), p=0.2),\n",
        "            A.Normalize(mean=[0.485], std=[0.229]),\n",
        "            ToTensorV2()\n",
        "        ]),\n",
        "        'description': 'Advanced: Flip + Rotation + Brightness + Noise'\n",
        "    },\n",
        "    'heavy_augmentation': {\n",
        "        'augment': True,\n",
        "        'transform': A.Compose([\n",
        "            A.HorizontalFlip(p=0.5),\n",
        "            A.Rotate(limit=20, p=0.4),\n",
        "            A.RandomBrightnessContrast(brightness_limit=0.3, contrast_limit=0.3, p=0.4),\n",
        "            A.GaussNoise(var_limit=(10.0, 80.0), p=0.3),\n",
        "            A.Blur(blur_limit=3, p=0.2),\n",
        "            A.CoarseDropout(max_holes=2, max_height=8, max_width=8, p=0.3),\n",
        "            A.Normalize(mean=[0.485], std=[0.229]),\n",
        "            ToTensorV2()\n",
        "        ]),\n",
        "        'description': 'Heavy: All augmentations'\n",
        "    }\n",
        "}"
      ],
      "metadata": {
        "id": "O_laEmaRpwTB",
        "colab": {
          "base_uri": "https://localhost:8080/"
        },
        "outputId": "b70328c7-634b-42b3-e535-96779881f28a"
      },
      "execution_count": null,
      "outputs": [
        {
          "output_type": "stream",
          "name": "stdout",
          "text": [
            "=== DATA AUGMENTATION EXPERIMENTS ===\n"
          ]
        },
        {
          "output_type": "stream",
          "name": "stderr",
          "text": [
            "<ipython-input-14-f54979933ea5>:14: UserWarning: Argument(s) 'var_limit' are not valid for transform GaussNoise\n",
            "  A.GaussNoise(var_limit=(10.0, 50.0), p=0.2),\n",
            "<ipython-input-14-f54979933ea5>:26: UserWarning: Argument(s) 'var_limit' are not valid for transform GaussNoise\n",
            "  A.GaussNoise(var_limit=(10.0, 80.0), p=0.3),\n",
            "<ipython-input-14-f54979933ea5>:28: UserWarning: Argument(s) 'max_holes, max_height, max_width' are not valid for transform CoarseDropout\n",
            "  A.CoarseDropout(max_holes=2, max_height=8, max_width=8, p=0.3),\n"
          ]
        }
      ]
    },
    {
      "cell_type": "code",
      "source": [
        "augmentation_results = {}\n",
        "\n",
        "for aug_name, aug_config in augmentation_strategies.items():\n",
        "    print(f\"\\nTesting augmentation strategy: {aug_name}\")\n",
        "    print(f\"Description: {aug_config['description']}\")\n",
        "\n",
        "    if 'transform' in aug_config:\n",
        "        train_dataset = CNNFacialExpressionDataset(\n",
        "            train_df, transform=aug_config['transform'], augment=False\n",
        "        )\n",
        "        val_dataset = CNNFacialExpressionDataset(\n",
        "            val_df, transform=A.Compose([\n",
        "                A.Normalize(mean=[0.485], std=[0.229]),\n",
        "                ToTensorV2()\n",
        "            ]), augment=False\n",
        "        )\n",
        "    else:\n",
        "        train_dataset = CNNFacialExpressionDataset(\n",
        "            train_df, augment=aug_config['augment']\n",
        "        )\n",
        "        val_dataset = CNNFacialExpressionDataset(\n",
        "            val_df, augment=False\n",
        "        )\n",
        "\n",
        "    train_loader = DataLoader(train_dataset, batch_size=64, shuffle=True, num_workers=2)\n",
        "    val_loader = DataLoader(val_dataset, batch_size=64, shuffle=False, num_workers=2)\n",
        "\n",
        "    model = SimpleCNN(num_classes=7, dropout_rate=0.5)\n",
        "\n",
        "    criterion = nn.CrossEntropyLoss()\n",
        "    optimizer = optim.Adam(model.parameters(), lr=0.001)\n",
        "\n",
        "    trainer = CNNTrainer(\n",
        "        model=model,\n",
        "        train_loader=train_loader,\n",
        "        val_loader=val_loader,\n",
        "        criterion=criterion,\n",
        "        optimizer=optimizer,\n",
        "        device=device,\n",
        "        experiment_name=\"Simple_CNN_Training\",\n",
        "        run_name=f\"Augmentation_{aug_name}\"\n",
        "    )\n",
        "\n",
        "    history = trainer.train(epochs=10, early_stopping_patience=5)\n",
        "\n",
        "    augmentation_results[aug_name] = {\n",
        "        'best_val_acc': trainer.best_val_acc,\n",
        "        'final_train_acc': history['train_acc'][-1],\n",
        "        'final_val_acc': history['val_acc'][-1],\n",
        "        'overfitting_score': history['train_acc'][-1] - history['val_acc'][-1]\n",
        "    }\n",
        "\n",
        "    wandb.finish()\n",
        "\n",
        "    print(f\"Best validation accuracy: {trainer.best_val_acc:.2f}%\")\n",
        "\n",
        "print(\"\\n=== AUGMENTATION ANALYSIS ===\")\n",
        "best_augmentation = max(augmentation_results.keys(),\n",
        "                       key=lambda x: augmentation_results[x]['best_val_acc'])\n",
        "print(f\"Best augmentation strategy: {best_augmentation}\")\n",
        "\n",
        "for aug_name, results in augmentation_results.items():\n",
        "    print(f\"{aug_name}: {results['best_val_acc']:.2f}% \"\n",
        "          f\"(overfitting: {results['overfitting_score']:.2f}%)\")"
      ],
      "metadata": {
        "colab": {
          "base_uri": "https://localhost:8080/",
          "height": 1000
        },
        "id": "JXE-phYJpwU7",
        "outputId": "0d416de1-ae6a-44ec-aad0-141c79e14f5b"
      },
      "execution_count": null,
      "outputs": [
        {
          "output_type": "stream",
          "name": "stdout",
          "text": [
            "\n",
            "Testing augmentation strategy: no_augmentation\n",
            "Description: No data augmentation\n"
          ]
        },
        {
          "output_type": "display_data",
          "data": {
            "text/plain": [
              "<IPython.core.display.HTML object>"
            ],
            "text/html": [
              "Finishing previous runs because reinit is set to True."
            ]
          },
          "metadata": {}
        },
        {
          "output_type": "display_data",
          "data": {
            "text/plain": [
              "<IPython.core.display.HTML object>"
            ],
            "text/html": []
          },
          "metadata": {}
        },
        {
          "output_type": "display_data",
          "data": {
            "text/plain": [
              "<IPython.core.display.HTML object>"
            ],
            "text/html": [
              " View run <strong style=\"color:#cdcd00\">Augmentation_no_augmentation</strong> at: <a href='https://wandb.ai/nipkha21-free-university-of-tbilisi-/facial-expression-recognition/runs/bwgooza0' target=\"_blank\">https://wandb.ai/nipkha21-free-university-of-tbilisi-/facial-expression-recognition/runs/bwgooza0</a><br> View project at: <a href='https://wandb.ai/nipkha21-free-university-of-tbilisi-/facial-expression-recognition' target=\"_blank\">https://wandb.ai/nipkha21-free-university-of-tbilisi-/facial-expression-recognition</a><br>Synced 5 W&B file(s), 0 media file(s), 0 artifact file(s) and 0 other file(s)"
            ]
          },
          "metadata": {}
        },
        {
          "output_type": "display_data",
          "data": {
            "text/plain": [
              "<IPython.core.display.HTML object>"
            ],
            "text/html": [
              "Find logs at: <code>./wandb/run-20250608_064056-bwgooza0/logs</code>"
            ]
          },
          "metadata": {}
        },
        {
          "output_type": "display_data",
          "data": {
            "text/plain": [
              "<IPython.core.display.HTML object>"
            ],
            "text/html": [
              "Tracking run with wandb version 0.19.11"
            ]
          },
          "metadata": {}
        },
        {
          "output_type": "display_data",
          "data": {
            "text/plain": [
              "<IPython.core.display.HTML object>"
            ],
            "text/html": [
              "Run data is saved locally in <code>/content/wandb/run-20250608_064632-8lx2ltcp</code>"
            ]
          },
          "metadata": {}
        },
        {
          "output_type": "display_data",
          "data": {
            "text/plain": [
              "<IPython.core.display.HTML object>"
            ],
            "text/html": [
              "Syncing run <strong><a href='https://wandb.ai/nipkha21-free-university-of-tbilisi-/facial-expression-recognition/runs/8lx2ltcp' target=\"_blank\">Augmentation_no_augmentation</a></strong> to <a href='https://wandb.ai/nipkha21-free-university-of-tbilisi-/facial-expression-recognition' target=\"_blank\">Weights & Biases</a> (<a href='https://wandb.me/developer-guide' target=\"_blank\">docs</a>)<br>"
            ]
          },
          "metadata": {}
        },
        {
          "output_type": "display_data",
          "data": {
            "text/plain": [
              "<IPython.core.display.HTML object>"
            ],
            "text/html": [
              " View project at <a href='https://wandb.ai/nipkha21-free-university-of-tbilisi-/facial-expression-recognition' target=\"_blank\">https://wandb.ai/nipkha21-free-university-of-tbilisi-/facial-expression-recognition</a>"
            ]
          },
          "metadata": {}
        },
        {
          "output_type": "display_data",
          "data": {
            "text/plain": [
              "<IPython.core.display.HTML object>"
            ],
            "text/html": [
              " View run at <a href='https://wandb.ai/nipkha21-free-university-of-tbilisi-/facial-expression-recognition/runs/8lx2ltcp' target=\"_blank\">https://wandb.ai/nipkha21-free-university-of-tbilisi-/facial-expression-recognition/runs/8lx2ltcp</a>"
            ]
          },
          "metadata": {}
        },
        {
          "output_type": "stream",
          "name": "stdout",
          "text": [
            "Starting CNN training for 10 epochs...\n"
          ]
        },
        {
          "output_type": "stream",
          "name": "stderr",
          "text": [
            "Training: 100%|██████████| 314/314 [00:08<00:00, 38.00it/s, Loss=1.4788, Acc=36.10%]\n",
            "Validation: 100%|██████████| 68/68 [00:01<00:00, 37.53it/s]\n"
          ]
        },
        {
          "output_type": "stream",
          "name": "stdout",
          "text": [
            "Epoch 1/10:\n",
            "  Train Loss: 1.6176, Train Acc: 36.10%\n",
            "  Val Loss: 1.4359, Val Acc: 46.34%\n",
            "  LR: 0.001000, Time: 10.08s\n",
            "--------------------------------------------------\n"
          ]
        },
        {
          "output_type": "stream",
          "name": "stderr",
          "text": [
            "Training: 100%|██████████| 314/314 [00:08<00:00, 38.73it/s, Loss=1.2390, Acc=48.69%]\n",
            "Validation: 100%|██████████| 68/68 [00:01<00:00, 39.06it/s]\n"
          ]
        },
        {
          "output_type": "stream",
          "name": "stdout",
          "text": [
            "Epoch 2/10:\n",
            "  Train Loss: 1.3601, Train Acc: 48.69%\n",
            "  Val Loss: 1.2763, Val Acc: 51.43%\n",
            "  LR: 0.001000, Time: 9.86s\n",
            "--------------------------------------------------\n"
          ]
        },
        {
          "output_type": "stream",
          "name": "stderr",
          "text": [
            "Training: 100%|██████████| 314/314 [00:08<00:00, 38.32it/s, Loss=1.1021, Acc=53.61%]\n",
            "Validation: 100%|██████████| 68/68 [00:01<00:00, 36.91it/s]\n"
          ]
        },
        {
          "output_type": "stream",
          "name": "stdout",
          "text": [
            "Epoch 3/10:\n",
            "  Train Loss: 1.2343, Train Acc: 53.61%\n",
            "  Val Loss: 1.2149, Val Acc: 53.68%\n",
            "  LR: 0.001000, Time: 10.05s\n",
            "--------------------------------------------------\n"
          ]
        },
        {
          "output_type": "stream",
          "name": "stderr",
          "text": [
            "Training: 100%|██████████| 314/314 [00:08<00:00, 37.84it/s, Loss=0.9899, Acc=57.91%]\n",
            "Validation: 100%|██████████| 68/68 [00:01<00:00, 37.55it/s]\n"
          ]
        },
        {
          "output_type": "stream",
          "name": "stdout",
          "text": [
            "Epoch 4/10:\n",
            "  Train Loss: 1.1259, Train Acc: 57.91%\n",
            "  Val Loss: 1.1877, Val Acc: 55.42%\n",
            "  LR: 0.001000, Time: 10.12s\n",
            "--------------------------------------------------\n"
          ]
        },
        {
          "output_type": "stream",
          "name": "stderr",
          "text": [
            "Training: 100%|██████████| 314/314 [00:08<00:00, 38.38it/s, Loss=1.0683, Acc=61.62%]\n",
            "Validation: 100%|██████████| 68/68 [00:01<00:00, 37.44it/s]\n"
          ]
        },
        {
          "output_type": "stream",
          "name": "stdout",
          "text": [
            "Epoch 5/10:\n",
            "  Train Loss: 1.0266, Train Acc: 61.62%\n",
            "  Val Loss: 1.1715, Val Acc: 55.28%\n",
            "  LR: 0.001000, Time: 10.01s\n",
            "--------------------------------------------------\n"
          ]
        },
        {
          "output_type": "stream",
          "name": "stderr",
          "text": [
            "Training: 100%|██████████| 314/314 [00:08<00:00, 38.39it/s, Loss=1.0072, Acc=65.84%]\n",
            "Validation: 100%|██████████| 68/68 [00:01<00:00, 38.95it/s]\n"
          ]
        },
        {
          "output_type": "stream",
          "name": "stdout",
          "text": [
            "Epoch 6/10:\n",
            "  Train Loss: 0.9214, Train Acc: 65.84%\n",
            "  Val Loss: 1.1799, Val Acc: 57.26%\n",
            "  LR: 0.001000, Time: 9.93s\n",
            "--------------------------------------------------\n"
          ]
        },
        {
          "output_type": "stream",
          "name": "stderr",
          "text": [
            "Training: 100%|██████████| 314/314 [00:08<00:00, 38.28it/s, Loss=0.9476, Acc=70.93%]\n",
            "Validation: 100%|██████████| 68/68 [00:01<00:00, 37.75it/s]\n"
          ]
        },
        {
          "output_type": "stream",
          "name": "stdout",
          "text": [
            "Epoch 7/10:\n",
            "  Train Loss: 0.7979, Train Acc: 70.93%\n",
            "  Val Loss: 1.2636, Val Acc: 56.63%\n",
            "  LR: 0.001000, Time: 10.01s\n",
            "--------------------------------------------------\n"
          ]
        },
        {
          "output_type": "stream",
          "name": "stderr",
          "text": [
            "Training: 100%|██████████| 314/314 [00:08<00:00, 38.70it/s, Loss=0.7965, Acc=74.94%]\n",
            "Validation: 100%|██████████| 68/68 [00:01<00:00, 37.86it/s]\n"
          ]
        },
        {
          "output_type": "stream",
          "name": "stdout",
          "text": [
            "Epoch 8/10:\n",
            "  Train Loss: 0.6853, Train Acc: 74.94%\n",
            "  Val Loss: 1.2472, Val Acc: 57.39%\n",
            "  LR: 0.001000, Time: 9.92s\n",
            "--------------------------------------------------\n"
          ]
        },
        {
          "output_type": "stream",
          "name": "stderr",
          "text": [
            "Training: 100%|██████████| 314/314 [00:08<00:00, 38.22it/s, Loss=0.6980, Acc=79.10%]\n",
            "Validation: 100%|██████████| 68/68 [00:01<00:00, 38.33it/s]\n"
          ]
        },
        {
          "output_type": "stream",
          "name": "stdout",
          "text": [
            "Epoch 9/10:\n",
            "  Train Loss: 0.5713, Train Acc: 79.10%\n",
            "  Val Loss: 1.3776, Val Acc: 57.05%\n",
            "  LR: 0.001000, Time: 10.00s\n",
            "--------------------------------------------------\n"
          ]
        },
        {
          "output_type": "stream",
          "name": "stderr",
          "text": [
            "Training: 100%|██████████| 314/314 [00:08<00:00, 38.33it/s, Loss=0.4740, Acc=82.65%]\n",
            "Validation: 100%|██████████| 68/68 [00:01<00:00, 36.95it/s]"
          ]
        },
        {
          "output_type": "stream",
          "name": "stdout",
          "text": [
            "Epoch 10/10:\n",
            "  Train Loss: 0.4782, Train Acc: 82.65%\n",
            "  Val Loss: 1.4417, Val Acc: 57.26%\n",
            "  LR: 0.001000, Time: 10.04s\n",
            "--------------------------------------------------\n",
            "Loaded best model with validation accuracy: 57.39%\n"
          ]
        },
        {
          "output_type": "stream",
          "name": "stderr",
          "text": [
            "\n"
          ]
        },
        {
          "output_type": "display_data",
          "data": {
            "text/plain": [
              "<IPython.core.display.HTML object>"
            ],
            "text/html": []
          },
          "metadata": {}
        },
        {
          "output_type": "display_data",
          "data": {
            "text/plain": [
              "<IPython.core.display.HTML object>"
            ],
            "text/html": [
              "<br>    <style><br>        .wandb-row {<br>            display: flex;<br>            flex-direction: row;<br>            flex-wrap: wrap;<br>            justify-content: flex-start;<br>            width: 100%;<br>        }<br>        .wandb-col {<br>            display: flex;<br>            flex-direction: column;<br>            flex-basis: 100%;<br>            flex: 1;<br>            padding: 10px;<br>        }<br>    </style><br><div class=\"wandb-row\"><div class=\"wandb-col\"><h3>Run history:</h3><br/><table class=\"wandb\"><tr><td>best_val_accuracy</td><td>▁▄▆▇▇█████</td></tr><tr><td>epoch</td><td>▁▂▃▃▄▅▆▆▇█</td></tr><tr><td>epoch_time</td><td>▇▁▆█▅▃▅▃▅▆</td></tr><tr><td>learning_rate</td><td>▁▁▁▁▁▁▁▁▁▁</td></tr><tr><td>train_accuracy</td><td>▁▃▄▄▅▅▆▇▇█</td></tr><tr><td>train_loss</td><td>█▆▆▅▄▄▃▂▂▁</td></tr><tr><td>val_accuracy</td><td>▁▄▆▇▇█████</td></tr><tr><td>val_loss</td><td>█▄▂▁▁▁▃▃▆█</td></tr></table><br/></div><div class=\"wandb-col\"><h3>Run summary:</h3><br/><table class=\"wandb\"><tr><td>best_val_accuracy</td><td>57.39494</td></tr><tr><td>epoch</td><td>10</td></tr><tr><td>epoch_time</td><td>10.04247</td></tr><tr><td>learning_rate</td><td>0.001</td></tr><tr><td>train_accuracy</td><td>82.64742</td></tr><tr><td>train_loss</td><td>0.47819</td></tr><tr><td>val_accuracy</td><td>57.25563</td></tr><tr><td>val_loss</td><td>1.44167</td></tr></table><br/></div></div>"
            ]
          },
          "metadata": {}
        },
        {
          "output_type": "display_data",
          "data": {
            "text/plain": [
              "<IPython.core.display.HTML object>"
            ],
            "text/html": [
              " View run <strong style=\"color:#cdcd00\">Augmentation_no_augmentation</strong> at: <a href='https://wandb.ai/nipkha21-free-university-of-tbilisi-/facial-expression-recognition/runs/8lx2ltcp' target=\"_blank\">https://wandb.ai/nipkha21-free-university-of-tbilisi-/facial-expression-recognition/runs/8lx2ltcp</a><br> View project at: <a href='https://wandb.ai/nipkha21-free-university-of-tbilisi-/facial-expression-recognition' target=\"_blank\">https://wandb.ai/nipkha21-free-university-of-tbilisi-/facial-expression-recognition</a><br>Synced 5 W&B file(s), 0 media file(s), 0 artifact file(s) and 0 other file(s)"
            ]
          },
          "metadata": {}
        },
        {
          "output_type": "display_data",
          "data": {
            "text/plain": [
              "<IPython.core.display.HTML object>"
            ],
            "text/html": [
              "Find logs at: <code>./wandb/run-20250608_064632-8lx2ltcp/logs</code>"
            ]
          },
          "metadata": {}
        },
        {
          "output_type": "stream",
          "name": "stdout",
          "text": [
            "Best validation accuracy: 57.39%\n",
            "\n",
            "Testing augmentation strategy: advanced_augmentation\n",
            "Description: Advanced: Flip + Rotation + Brightness + Noise\n"
          ]
        },
        {
          "output_type": "display_data",
          "data": {
            "text/plain": [
              "<IPython.core.display.HTML object>"
            ],
            "text/html": [
              "Tracking run with wandb version 0.19.11"
            ]
          },
          "metadata": {}
        },
        {
          "output_type": "display_data",
          "data": {
            "text/plain": [
              "<IPython.core.display.HTML object>"
            ],
            "text/html": [
              "Run data is saved locally in <code>/content/wandb/run-20250608_064818-gem3y2pc</code>"
            ]
          },
          "metadata": {}
        },
        {
          "output_type": "display_data",
          "data": {
            "text/plain": [
              "<IPython.core.display.HTML object>"
            ],
            "text/html": [
              "Syncing run <strong><a href='https://wandb.ai/nipkha21-free-university-of-tbilisi-/facial-expression-recognition/runs/gem3y2pc' target=\"_blank\">Augmentation_advanced_augmentation</a></strong> to <a href='https://wandb.ai/nipkha21-free-university-of-tbilisi-/facial-expression-recognition' target=\"_blank\">Weights & Biases</a> (<a href='https://wandb.me/developer-guide' target=\"_blank\">docs</a>)<br>"
            ]
          },
          "metadata": {}
        },
        {
          "output_type": "display_data",
          "data": {
            "text/plain": [
              "<IPython.core.display.HTML object>"
            ],
            "text/html": [
              " View project at <a href='https://wandb.ai/nipkha21-free-university-of-tbilisi-/facial-expression-recognition' target=\"_blank\">https://wandb.ai/nipkha21-free-university-of-tbilisi-/facial-expression-recognition</a>"
            ]
          },
          "metadata": {}
        },
        {
          "output_type": "display_data",
          "data": {
            "text/plain": [
              "<IPython.core.display.HTML object>"
            ],
            "text/html": [
              " View run at <a href='https://wandb.ai/nipkha21-free-university-of-tbilisi-/facial-expression-recognition/runs/gem3y2pc' target=\"_blank\">https://wandb.ai/nipkha21-free-university-of-tbilisi-/facial-expression-recognition/runs/gem3y2pc</a>"
            ]
          },
          "metadata": {}
        },
        {
          "output_type": "stream",
          "name": "stdout",
          "text": [
            "Starting CNN training for 10 epochs...\n"
          ]
        },
        {
          "output_type": "stream",
          "name": "stderr",
          "text": [
            "Training: 100%|██████████| 314/314 [00:10<00:00, 30.15it/s, Loss=1.5596, Acc=31.03%]\n",
            "Validation: 100%|██████████| 68/68 [00:01<00:00, 38.16it/s]\n"
          ]
        },
        {
          "output_type": "stream",
          "name": "stdout",
          "text": [
            "Epoch 1/10:\n",
            "  Train Loss: 1.7152, Train Acc: 31.03%\n",
            "  Val Loss: 1.5393, Val Acc: 40.96%\n",
            "  LR: 0.001000, Time: 12.20s\n",
            "--------------------------------------------------\n"
          ]
        },
        {
          "output_type": "stream",
          "name": "stderr",
          "text": [
            "Training: 100%|██████████| 314/314 [00:10<00:00, 30.97it/s, Loss=1.6667, Acc=40.30%]\n",
            "Validation: 100%|██████████| 68/68 [00:01<00:00, 38.72it/s]\n"
          ]
        },
        {
          "output_type": "stream",
          "name": "stdout",
          "text": [
            "Epoch 2/10:\n",
            "  Train Loss: 1.5369, Train Acc: 40.30%\n",
            "  Val Loss: 1.4121, Val Acc: 45.25%\n",
            "  LR: 0.001000, Time: 11.90s\n",
            "--------------------------------------------------\n"
          ]
        },
        {
          "output_type": "stream",
          "name": "stderr",
          "text": [
            "Training: 100%|██████████| 314/314 [00:11<00:00, 27.98it/s, Loss=1.3699, Acc=44.10%]\n",
            "Validation: 100%|██████████| 68/68 [00:02<00:00, 27.26it/s]\n"
          ]
        },
        {
          "output_type": "stream",
          "name": "stdout",
          "text": [
            "Epoch 3/10:\n",
            "  Train Loss: 1.4461, Train Acc: 44.10%\n",
            "  Val Loss: 1.3187, Val Acc: 49.38%\n",
            "  LR: 0.001000, Time: 13.73s\n",
            "--------------------------------------------------\n"
          ]
        },
        {
          "output_type": "stream",
          "name": "stderr",
          "text": [
            "Training: 100%|██████████| 314/314 [00:11<00:00, 28.06it/s, Loss=1.4234, Acc=46.29%]\n",
            "Validation: 100%|██████████| 68/68 [00:02<00:00, 29.56it/s]\n"
          ]
        },
        {
          "output_type": "stream",
          "name": "stdout",
          "text": [
            "Epoch 4/10:\n",
            "  Train Loss: 1.3935, Train Acc: 46.29%\n",
            "  Val Loss: 1.2625, Val Acc: 51.89%\n",
            "  LR: 0.001000, Time: 13.50s\n",
            "--------------------------------------------------\n"
          ]
        },
        {
          "output_type": "stream",
          "name": "stderr",
          "text": [
            "Training: 100%|██████████| 314/314 [00:11<00:00, 28.27it/s, Loss=1.2835, Acc=48.18%]\n",
            "Validation: 100%|██████████| 68/68 [00:01<00:00, 35.71it/s]\n"
          ]
        },
        {
          "output_type": "stream",
          "name": "stdout",
          "text": [
            "Epoch 5/10:\n",
            "  Train Loss: 1.3516, Train Acc: 48.18%\n",
            "  Val Loss: 1.2359, Val Acc: 52.59%\n",
            "  LR: 0.001000, Time: 13.02s\n",
            "--------------------------------------------------\n"
          ]
        },
        {
          "output_type": "stream",
          "name": "stderr",
          "text": [
            "Training: 100%|██████████| 314/314 [00:10<00:00, 29.88it/s, Loss=1.3952, Acc=49.36%]\n",
            "Validation: 100%|██████████| 68/68 [00:01<00:00, 37.18it/s]\n"
          ]
        },
        {
          "output_type": "stream",
          "name": "stdout",
          "text": [
            "Epoch 6/10:\n",
            "  Train Loss: 1.3160, Train Acc: 49.36%\n",
            "  Val Loss: 1.1980, Val Acc: 54.21%\n",
            "  LR: 0.001000, Time: 12.35s\n",
            "--------------------------------------------------\n"
          ]
        },
        {
          "output_type": "stream",
          "name": "stderr",
          "text": [
            "Training: 100%|██████████| 314/314 [00:10<00:00, 29.79it/s, Loss=1.2424, Acc=50.44%]\n",
            "Validation: 100%|██████████| 68/68 [00:01<00:00, 36.72it/s]\n"
          ]
        },
        {
          "output_type": "stream",
          "name": "stdout",
          "text": [
            "Epoch 7/10:\n",
            "  Train Loss: 1.2856, Train Acc: 50.44%\n",
            "  Val Loss: 1.1921, Val Acc: 54.49%\n",
            "  LR: 0.001000, Time: 12.40s\n",
            "--------------------------------------------------\n"
          ]
        },
        {
          "output_type": "stream",
          "name": "stderr",
          "text": [
            "Training: 100%|██████████| 314/314 [00:10<00:00, 29.68it/s, Loss=1.1445, Acc=51.54%]\n",
            "Validation: 100%|██████████| 68/68 [00:01<00:00, 35.36it/s]\n"
          ]
        },
        {
          "output_type": "stream",
          "name": "stdout",
          "text": [
            "Epoch 8/10:\n",
            "  Train Loss: 1.2623, Train Acc: 51.54%\n",
            "  Val Loss: 1.1609, Val Acc: 55.61%\n",
            "  LR: 0.001000, Time: 12.51s\n",
            "--------------------------------------------------\n"
          ]
        },
        {
          "output_type": "stream",
          "name": "stderr",
          "text": [
            "Training: 100%|██████████| 314/314 [00:10<00:00, 29.92it/s, Loss=1.2724, Acc=52.62%]\n",
            "Validation: 100%|██████████| 68/68 [00:01<00:00, 36.89it/s]\n"
          ]
        },
        {
          "output_type": "stream",
          "name": "stdout",
          "text": [
            "Epoch 9/10:\n",
            "  Train Loss: 1.2392, Train Acc: 52.62%\n",
            "  Val Loss: 1.1396, Val Acc: 56.58%\n",
            "  LR: 0.001000, Time: 12.34s\n",
            "--------------------------------------------------\n"
          ]
        },
        {
          "output_type": "stream",
          "name": "stderr",
          "text": [
            "Training: 100%|██████████| 314/314 [00:10<00:00, 29.56it/s, Loss=1.2836, Acc=53.52%]\n",
            "Validation: 100%|██████████| 68/68 [00:01<00:00, 37.10it/s]"
          ]
        },
        {
          "output_type": "stream",
          "name": "stdout",
          "text": [
            "Epoch 10/10:\n",
            "  Train Loss: 1.2175, Train Acc: 53.52%\n",
            "  Val Loss: 1.1418, Val Acc: 56.51%\n",
            "  LR: 0.001000, Time: 12.46s\n",
            "--------------------------------------------------\n",
            "Loaded best model with validation accuracy: 56.58%\n"
          ]
        },
        {
          "output_type": "stream",
          "name": "stderr",
          "text": [
            "\n"
          ]
        },
        {
          "output_type": "display_data",
          "data": {
            "text/plain": [
              "<IPython.core.display.HTML object>"
            ],
            "text/html": []
          },
          "metadata": {}
        },
        {
          "output_type": "display_data",
          "data": {
            "text/plain": [
              "<IPython.core.display.HTML object>"
            ],
            "text/html": [
              "<br>    <style><br>        .wandb-row {<br>            display: flex;<br>            flex-direction: row;<br>            flex-wrap: wrap;<br>            justify-content: flex-start;<br>            width: 100%;<br>        }<br>        .wandb-col {<br>            display: flex;<br>            flex-direction: column;<br>            flex-basis: 100%;<br>            flex: 1;<br>            padding: 10px;<br>        }<br>    </style><br><div class=\"wandb-row\"><div class=\"wandb-col\"><h3>Run history:</h3><br/><table class=\"wandb\"><tr><td>best_val_accuracy</td><td>▁▃▅▆▆▇▇███</td></tr><tr><td>epoch</td><td>▁▂▃▃▄▅▆▆▇█</td></tr><tr><td>epoch_time</td><td>▂▁█▇▅▃▃▃▃▃</td></tr><tr><td>learning_rate</td><td>▁▁▁▁▁▁▁▁▁▁</td></tr><tr><td>train_accuracy</td><td>▁▄▅▆▆▇▇▇██</td></tr><tr><td>train_loss</td><td>█▅▄▃▃▂▂▂▁▁</td></tr><tr><td>val_accuracy</td><td>▁▃▅▆▆▇▇███</td></tr><tr><td>val_loss</td><td>█▆▄▃▃▂▂▁▁▁</td></tr></table><br/></div><div class=\"wandb-col\"><h3>Run summary:</h3><br/><table class=\"wandb\"><tr><td>best_val_accuracy</td><td>56.58231</td></tr><tr><td>epoch</td><td>10</td></tr><tr><td>epoch_time</td><td>12.46165</td></tr><tr><td>learning_rate</td><td>0.001</td></tr><tr><td>train_accuracy</td><td>53.5158</td></tr><tr><td>train_loss</td><td>1.21755</td></tr><tr><td>val_accuracy</td><td>56.51265</td></tr><tr><td>val_loss</td><td>1.1418</td></tr></table><br/></div></div>"
            ]
          },
          "metadata": {}
        },
        {
          "output_type": "display_data",
          "data": {
            "text/plain": [
              "<IPython.core.display.HTML object>"
            ],
            "text/html": [
              " View run <strong style=\"color:#cdcd00\">Augmentation_advanced_augmentation</strong> at: <a href='https://wandb.ai/nipkha21-free-university-of-tbilisi-/facial-expression-recognition/runs/gem3y2pc' target=\"_blank\">https://wandb.ai/nipkha21-free-university-of-tbilisi-/facial-expression-recognition/runs/gem3y2pc</a><br> View project at: <a href='https://wandb.ai/nipkha21-free-university-of-tbilisi-/facial-expression-recognition' target=\"_blank\">https://wandb.ai/nipkha21-free-university-of-tbilisi-/facial-expression-recognition</a><br>Synced 5 W&B file(s), 0 media file(s), 0 artifact file(s) and 0 other file(s)"
            ]
          },
          "metadata": {}
        },
        {
          "output_type": "display_data",
          "data": {
            "text/plain": [
              "<IPython.core.display.HTML object>"
            ],
            "text/html": [
              "Find logs at: <code>./wandb/run-20250608_064818-gem3y2pc/logs</code>"
            ]
          },
          "metadata": {}
        },
        {
          "output_type": "stream",
          "name": "stdout",
          "text": [
            "Best validation accuracy: 56.58%\n",
            "\n",
            "Testing augmentation strategy: heavy_augmentation\n",
            "Description: Heavy: All augmentations\n"
          ]
        },
        {
          "output_type": "display_data",
          "data": {
            "text/plain": [
              "<IPython.core.display.HTML object>"
            ],
            "text/html": [
              "Tracking run with wandb version 0.19.11"
            ]
          },
          "metadata": {}
        },
        {
          "output_type": "display_data",
          "data": {
            "text/plain": [
              "<IPython.core.display.HTML object>"
            ],
            "text/html": [
              "Run data is saved locally in <code>/content/wandb/run-20250608_065029-npsjzlw4</code>"
            ]
          },
          "metadata": {}
        },
        {
          "output_type": "display_data",
          "data": {
            "text/plain": [
              "<IPython.core.display.HTML object>"
            ],
            "text/html": [
              "Syncing run <strong><a href='https://wandb.ai/nipkha21-free-university-of-tbilisi-/facial-expression-recognition/runs/npsjzlw4' target=\"_blank\">Augmentation_heavy_augmentation</a></strong> to <a href='https://wandb.ai/nipkha21-free-university-of-tbilisi-/facial-expression-recognition' target=\"_blank\">Weights & Biases</a> (<a href='https://wandb.me/developer-guide' target=\"_blank\">docs</a>)<br>"
            ]
          },
          "metadata": {}
        },
        {
          "output_type": "display_data",
          "data": {
            "text/plain": [
              "<IPython.core.display.HTML object>"
            ],
            "text/html": [
              " View project at <a href='https://wandb.ai/nipkha21-free-university-of-tbilisi-/facial-expression-recognition' target=\"_blank\">https://wandb.ai/nipkha21-free-university-of-tbilisi-/facial-expression-recognition</a>"
            ]
          },
          "metadata": {}
        },
        {
          "output_type": "display_data",
          "data": {
            "text/plain": [
              "<IPython.core.display.HTML object>"
            ],
            "text/html": [
              " View run at <a href='https://wandb.ai/nipkha21-free-university-of-tbilisi-/facial-expression-recognition/runs/npsjzlw4' target=\"_blank\">https://wandb.ai/nipkha21-free-university-of-tbilisi-/facial-expression-recognition/runs/npsjzlw4</a>"
            ]
          },
          "metadata": {}
        },
        {
          "output_type": "stream",
          "name": "stdout",
          "text": [
            "Starting CNN training for 10 epochs...\n"
          ]
        },
        {
          "output_type": "stream",
          "name": "stderr",
          "text": [
            "Training: 100%|██████████| 314/314 [00:11<00:00, 26.51it/s, Loss=1.7863, Acc=27.21%]\n",
            "Validation: 100%|██████████| 68/68 [00:01<00:00, 38.03it/s]\n"
          ]
        },
        {
          "output_type": "stream",
          "name": "stdout",
          "text": [
            "Epoch 1/10:\n",
            "  Train Loss: 1.7745, Train Acc: 27.21%\n",
            "  Val Loss: 1.6387, Val Acc: 33.97%\n",
            "  LR: 0.001000, Time: 13.64s\n",
            "--------------------------------------------------\n"
          ]
        },
        {
          "output_type": "stream",
          "name": "stderr",
          "text": [
            "Training: 100%|██████████| 314/314 [00:11<00:00, 26.35it/s, Loss=1.5588, Acc=34.72%]\n",
            "Validation: 100%|██████████| 68/68 [00:01<00:00, 37.89it/s]\n"
          ]
        },
        {
          "output_type": "stream",
          "name": "stdout",
          "text": [
            "Epoch 2/10:\n",
            "  Train Loss: 1.6500, Train Acc: 34.72%\n",
            "  Val Loss: 1.5179, Val Acc: 41.33%\n",
            "  LR: 0.001000, Time: 13.72s\n",
            "--------------------------------------------------\n"
          ]
        },
        {
          "output_type": "stream",
          "name": "stderr",
          "text": [
            "Training: 100%|██████████| 314/314 [00:11<00:00, 26.98it/s, Loss=1.4699, Acc=39.13%]\n",
            "Validation: 100%|██████████| 68/68 [00:01<00:00, 36.80it/s]\n"
          ]
        },
        {
          "output_type": "stream",
          "name": "stdout",
          "text": [
            "Epoch 3/10:\n",
            "  Train Loss: 1.5702, Train Acc: 39.13%\n",
            "  Val Loss: 1.4114, Val Acc: 45.90%\n",
            "  LR: 0.001000, Time: 13.49s\n",
            "--------------------------------------------------\n"
          ]
        },
        {
          "output_type": "stream",
          "name": "stderr",
          "text": [
            "Training: 100%|██████████| 314/314 [00:11<00:00, 26.97it/s, Loss=1.3983, Acc=40.36%]\n",
            "Validation: 100%|██████████| 68/68 [00:01<00:00, 37.87it/s]\n"
          ]
        },
        {
          "output_type": "stream",
          "name": "stdout",
          "text": [
            "Epoch 4/10:\n",
            "  Train Loss: 1.5253, Train Acc: 40.36%\n",
            "  Val Loss: 1.3675, Val Acc: 47.92%\n",
            "  LR: 0.001000, Time: 13.45s\n",
            "--------------------------------------------------\n"
          ]
        },
        {
          "output_type": "stream",
          "name": "stderr",
          "text": [
            "Training: 100%|██████████| 314/314 [00:11<00:00, 26.56it/s, Loss=1.5340, Acc=42.19%]\n",
            "Validation: 100%|██████████| 68/68 [00:01<00:00, 35.28it/s]\n"
          ]
        },
        {
          "output_type": "stream",
          "name": "stdout",
          "text": [
            "Epoch 5/10:\n",
            "  Train Loss: 1.4864, Train Acc: 42.19%\n",
            "  Val Loss: 1.3090, Val Acc: 49.50%\n",
            "  LR: 0.001000, Time: 13.76s\n",
            "--------------------------------------------------\n"
          ]
        },
        {
          "output_type": "stream",
          "name": "stderr",
          "text": [
            "Training: 100%|██████████| 314/314 [00:11<00:00, 26.93it/s, Loss=1.3349, Acc=43.64%]\n",
            "Validation: 100%|██████████| 68/68 [00:01<00:00, 36.80it/s]\n"
          ]
        },
        {
          "output_type": "stream",
          "name": "stdout",
          "text": [
            "Epoch 6/10:\n",
            "  Train Loss: 1.4509, Train Acc: 43.64%\n",
            "  Val Loss: 1.2887, Val Acc: 51.22%\n",
            "  LR: 0.001000, Time: 13.51s\n",
            "--------------------------------------------------\n"
          ]
        },
        {
          "output_type": "stream",
          "name": "stderr",
          "text": [
            "Training: 100%|██████████| 314/314 [00:11<00:00, 27.14it/s, Loss=1.4736, Acc=44.62%]\n",
            "Validation: 100%|██████████| 68/68 [00:01<00:00, 37.78it/s]\n"
          ]
        },
        {
          "output_type": "stream",
          "name": "stdout",
          "text": [
            "Epoch 7/10:\n",
            "  Train Loss: 1.4302, Train Acc: 44.62%\n",
            "  Val Loss: 1.2745, Val Acc: 51.75%\n",
            "  LR: 0.001000, Time: 13.38s\n",
            "--------------------------------------------------\n"
          ]
        },
        {
          "output_type": "stream",
          "name": "stderr",
          "text": [
            "Training: 100%|██████████| 314/314 [00:11<00:00, 27.10it/s, Loss=1.5133, Acc=45.13%]\n",
            "Validation: 100%|██████████| 68/68 [00:01<00:00, 36.94it/s]\n"
          ]
        },
        {
          "output_type": "stream",
          "name": "stdout",
          "text": [
            "Epoch 8/10:\n",
            "  Train Loss: 1.4199, Train Acc: 45.13%\n",
            "  Val Loss: 1.2262, Val Acc: 53.49%\n",
            "  LR: 0.001000, Time: 13.44s\n",
            "--------------------------------------------------\n"
          ]
        },
        {
          "output_type": "stream",
          "name": "stderr",
          "text": [
            "Training: 100%|██████████| 314/314 [00:11<00:00, 26.52it/s, Loss=1.2988, Acc=45.96%]\n",
            "Validation: 100%|██████████| 68/68 [00:01<00:00, 37.74it/s]\n"
          ]
        },
        {
          "output_type": "stream",
          "name": "stdout",
          "text": [
            "Epoch 9/10:\n",
            "  Train Loss: 1.3969, Train Acc: 45.96%\n",
            "  Val Loss: 1.2073, Val Acc: 54.21%\n",
            "  LR: 0.001000, Time: 13.65s\n",
            "--------------------------------------------------\n"
          ]
        },
        {
          "output_type": "stream",
          "name": "stderr",
          "text": [
            "Training: 100%|██████████| 314/314 [00:11<00:00, 26.71it/s, Loss=1.2780, Acc=46.70%]\n",
            "Validation: 100%|██████████| 68/68 [00:01<00:00, 37.18it/s]"
          ]
        },
        {
          "output_type": "stream",
          "name": "stdout",
          "text": [
            "Epoch 10/10:\n",
            "  Train Loss: 1.3797, Train Acc: 46.70%\n",
            "  Val Loss: 1.1938, Val Acc: 54.24%\n",
            "  LR: 0.001000, Time: 13.59s\n",
            "--------------------------------------------------\n",
            "Loaded best model with validation accuracy: 54.24%\n"
          ]
        },
        {
          "output_type": "stream",
          "name": "stderr",
          "text": [
            "\n"
          ]
        },
        {
          "output_type": "display_data",
          "data": {
            "text/plain": [
              "<IPython.core.display.HTML object>"
            ],
            "text/html": []
          },
          "metadata": {}
        },
        {
          "output_type": "display_data",
          "data": {
            "text/plain": [
              "<IPython.core.display.HTML object>"
            ],
            "text/html": [
              "<br>    <style><br>        .wandb-row {<br>            display: flex;<br>            flex-direction: row;<br>            flex-wrap: wrap;<br>            justify-content: flex-start;<br>            width: 100%;<br>        }<br>        .wandb-col {<br>            display: flex;<br>            flex-direction: column;<br>            flex-basis: 100%;<br>            flex: 1;<br>            padding: 10px;<br>        }<br>    </style><br><div class=\"wandb-row\"><div class=\"wandb-col\"><h3>Run history:</h3><br/><table class=\"wandb\"><tr><td>best_val_accuracy</td><td>▁▄▅▆▆▇▇███</td></tr><tr><td>epoch</td><td>▁▂▃▃▄▅▆▆▇█</td></tr><tr><td>epoch_time</td><td>▆▇▃▂█▄▁▂▆▅</td></tr><tr><td>learning_rate</td><td>▁▁▁▁▁▁▁▁▁▁</td></tr><tr><td>train_accuracy</td><td>▁▄▅▆▆▇▇▇██</td></tr><tr><td>train_loss</td><td>█▆▄▄▃▂▂▂▁▁</td></tr><tr><td>val_accuracy</td><td>▁▄▅▆▆▇▇███</td></tr><tr><td>val_loss</td><td>█▆▄▄▃▂▂▂▁▁</td></tr></table><br/></div><div class=\"wandb-col\"><h3>Run summary:</h3><br/><table class=\"wandb\"><tr><td>best_val_accuracy</td><td>54.23729</td></tr><tr><td>epoch</td><td>10</td></tr><tr><td>epoch_time</td><td>13.59474</td></tr><tr><td>learning_rate</td><td>0.001</td></tr><tr><td>train_accuracy</td><td>46.70316</td></tr><tr><td>train_loss</td><td>1.37972</td></tr><tr><td>val_accuracy</td><td>54.23729</td></tr><tr><td>val_loss</td><td>1.19381</td></tr></table><br/></div></div>"
            ]
          },
          "metadata": {}
        },
        {
          "output_type": "display_data",
          "data": {
            "text/plain": [
              "<IPython.core.display.HTML object>"
            ],
            "text/html": [
              " View run <strong style=\"color:#cdcd00\">Augmentation_heavy_augmentation</strong> at: <a href='https://wandb.ai/nipkha21-free-university-of-tbilisi-/facial-expression-recognition/runs/npsjzlw4' target=\"_blank\">https://wandb.ai/nipkha21-free-university-of-tbilisi-/facial-expression-recognition/runs/npsjzlw4</a><br> View project at: <a href='https://wandb.ai/nipkha21-free-university-of-tbilisi-/facial-expression-recognition' target=\"_blank\">https://wandb.ai/nipkha21-free-university-of-tbilisi-/facial-expression-recognition</a><br>Synced 5 W&B file(s), 0 media file(s), 0 artifact file(s) and 0 other file(s)"
            ]
          },
          "metadata": {}
        },
        {
          "output_type": "display_data",
          "data": {
            "text/plain": [
              "<IPython.core.display.HTML object>"
            ],
            "text/html": [
              "Find logs at: <code>./wandb/run-20250608_065029-npsjzlw4/logs</code>"
            ]
          },
          "metadata": {}
        },
        {
          "output_type": "stream",
          "name": "stdout",
          "text": [
            "Best validation accuracy: 54.24%\n",
            "\n",
            "=== AUGMENTATION ANALYSIS ===\n",
            "Best augmentation strategy: no_augmentation\n",
            "no_augmentation: 57.39% (overfitting: 25.39%)\n",
            "advanced_augmentation: 56.58% (overfitting: -3.00%)\n",
            "heavy_augmentation: 54.24% (overfitting: -7.53%)\n"
          ]
        }
      ]
    },
    {
      "cell_type": "code",
      "source": [
        "best_augmentation = 'advanced_augmentation' # no_augmentations jobia mainc overfittingis gamo"
      ],
      "metadata": {
        "id": "8Wp2kkptUgUn"
      },
      "execution_count": null,
      "outputs": []
    },
    {
      "cell_type": "code",
      "source": [
        "print(\"=== CNN ARCHITECTURE COMPARISON ===\")\n",
        "\n",
        "architectures = {\n",
        "    'simple_cnn_low_dropout': {\n",
        "        'model': SimpleCNN(num_classes=7, dropout_rate=0.3),\n",
        "        'description': 'Basic CNN with lower dropout'\n",
        "    },\n",
        "    'improved_cnn': {\n",
        "        'model': ImprovedSimpleCNN(num_classes=7, dropout_rate=0.3, use_batch_norm=True),\n",
        "        'description': 'Improved CNN with BatchNorm'\n",
        "    },\n",
        "}\n",
        "\n",
        "architecture_results = {}\n",
        "\n",
        "best_aug_config = augmentation_strategies[best_augmentation]\n",
        "\n",
        "for arch_name, arch_config in architectures.items():\n",
        "    print(f\"\\nTesting architecture: {arch_name}\")\n",
        "    print(f\"Description: {arch_config['description']}\")\n",
        "\n",
        "    if 'transform' in best_aug_config:\n",
        "        train_dataset = CNNFacialExpressionDataset(\n",
        "            train_df, transform=best_aug_config['transform'], augment=False\n",
        "        )\n",
        "        val_dataset = CNNFacialExpressionDataset(\n",
        "            val_df, transform=A.Compose([\n",
        "                A.Normalize(mean=[0.485], std=[0.229]),\n",
        "                ToTensorV2()\n",
        "            ]), augment=False\n",
        "        )\n",
        "    else:\n",
        "        train_dataset = CNNFacialExpressionDataset(\n",
        "            train_df, augment=best_aug_config['augment']\n",
        "        )\n",
        "        val_dataset = CNNFacialExpressionDataset(\n",
        "            val_df, augment=False\n",
        "        )\n",
        "\n",
        "    train_loader = DataLoader(train_dataset, batch_size=64, shuffle=True, num_workers=2)\n",
        "    val_loader = DataLoader(val_dataset, batch_size=64, shuffle=False, num_workers=2)\n",
        "\n",
        "    model = arch_config['model']\n",
        "\n",
        "    criterion = nn.CrossEntropyLoss()\n",
        "    optimizer = optim.Adam(model.parameters(), lr=0.001)\n",
        "    scheduler = ReduceLROnPlateau(optimizer, mode='min', factor=0.5, patience=5)\n",
        "\n",
        "    trainer = CNNTrainer(\n",
        "        model=model,\n",
        "        train_loader=train_loader,\n",
        "        val_loader=val_loader,\n",
        "        criterion=criterion,\n",
        "        optimizer=optimizer,\n",
        "        scheduler=scheduler,\n",
        "        device=device,\n",
        "        experiment_name=\"Simple_CNN_Training\",\n",
        "        run_name=f\"Architecture_{arch_name}\"\n",
        "    )\n",
        "\n",
        "    history = trainer.train(epochs=10, early_stopping_patience=7)\n",
        "\n",
        "    total_params = sum(p.numel() for p in model.parameters())\n",
        "    trainable_params = sum(p.numel() for p in model.parameters() if p.requires_grad)\n",
        "\n",
        "    architecture_results[arch_name] = {\n",
        "        'best_val_acc': trainer.best_val_acc,\n",
        "        'final_train_acc': history['train_acc'][-1],\n",
        "        'final_val_acc': history['val_acc'][-1],\n",
        "        'total_params': total_params,\n",
        "        'trainable_params': trainable_params,\n",
        "        'avg_epoch_time': np.mean(history['epoch_times'])\n",
        "    }\n",
        "\n",
        "    wandb.finish()\n",
        "\n",
        "    print(f\"Best validation accuracy: {trainer.best_val_acc:.2f}%\")\n",
        "    print(f\"Total parameters: {total_params:,}\")\n",
        "\n",
        "print(\"\\n=== ARCHITECTURE ANALYSIS ===\")\n",
        "best_architecture = max(architecture_results.keys(),\n",
        "                       key=lambda x: architecture_results[x]['best_val_acc'])\n",
        "print(f\"Best architecture: {best_architecture}\")\n",
        "\n",
        "for arch_name, results in architecture_results.items():\n",
        "    print(f\"{arch_name}: {results['best_val_acc']:.2f}% \"\n",
        "          f\"({results['total_params']:,} params, \"\n",
        "          f\"{results['avg_epoch_time']:.2f}s/epoch)\")"
      ],
      "metadata": {
        "id": "jCZ5WhNn_a_F",
        "outputId": "97fbf674-f3d3-4fcb-be17-f5a09929a59a",
        "colab": {
          "base_uri": "https://localhost:8080/",
          "height": 1000
        }
      },
      "execution_count": null,
      "outputs": [
        {
          "output_type": "stream",
          "name": "stdout",
          "text": [
            "=== CNN ARCHITECTURE COMPARISON ===\n",
            "\n",
            "Testing architecture: simple_cnn_low_dropout\n",
            "Description: Basic CNN with lower dropout\n"
          ]
        },
        {
          "output_type": "display_data",
          "data": {
            "text/plain": [
              "<IPython.core.display.HTML object>"
            ],
            "text/html": [
              "Tracking run with wandb version 0.19.11"
            ]
          },
          "metadata": {}
        },
        {
          "output_type": "display_data",
          "data": {
            "text/plain": [
              "<IPython.core.display.HTML object>"
            ],
            "text/html": [
              "Run data is saved locally in <code>/content/wandb/run-20250608_065525-jd8kaw3q</code>"
            ]
          },
          "metadata": {}
        },
        {
          "output_type": "display_data",
          "data": {
            "text/plain": [
              "<IPython.core.display.HTML object>"
            ],
            "text/html": [
              "Syncing run <strong><a href='https://wandb.ai/nipkha21-free-university-of-tbilisi-/facial-expression-recognition/runs/jd8kaw3q' target=\"_blank\">Architecture_simple_cnn_low_dropout</a></strong> to <a href='https://wandb.ai/nipkha21-free-university-of-tbilisi-/facial-expression-recognition' target=\"_blank\">Weights & Biases</a> (<a href='https://wandb.me/developer-guide' target=\"_blank\">docs</a>)<br>"
            ]
          },
          "metadata": {}
        },
        {
          "output_type": "display_data",
          "data": {
            "text/plain": [
              "<IPython.core.display.HTML object>"
            ],
            "text/html": [
              " View project at <a href='https://wandb.ai/nipkha21-free-university-of-tbilisi-/facial-expression-recognition' target=\"_blank\">https://wandb.ai/nipkha21-free-university-of-tbilisi-/facial-expression-recognition</a>"
            ]
          },
          "metadata": {}
        },
        {
          "output_type": "display_data",
          "data": {
            "text/plain": [
              "<IPython.core.display.HTML object>"
            ],
            "text/html": [
              " View run at <a href='https://wandb.ai/nipkha21-free-university-of-tbilisi-/facial-expression-recognition/runs/jd8kaw3q' target=\"_blank\">https://wandb.ai/nipkha21-free-university-of-tbilisi-/facial-expression-recognition/runs/jd8kaw3q</a>"
            ]
          },
          "metadata": {}
        },
        {
          "output_type": "stream",
          "name": "stdout",
          "text": [
            "Starting CNN training for 10 epochs...\n"
          ]
        },
        {
          "output_type": "stream",
          "name": "stderr",
          "text": [
            "Training: 100%|██████████| 314/314 [00:10<00:00, 30.36it/s, Loss=1.7593, Acc=32.99%]\n",
            "Validation: 100%|██████████| 68/68 [00:01<00:00, 37.06it/s]\n"
          ]
        },
        {
          "output_type": "stream",
          "name": "stdout",
          "text": [
            "Epoch 1/10:\n",
            "  Train Loss: 1.6835, Train Acc: 32.99%\n",
            "  Val Loss: 1.4946, Val Acc: 41.72%\n",
            "  LR: 0.001000, Time: 12.19s\n",
            "--------------------------------------------------\n"
          ]
        },
        {
          "output_type": "stream",
          "name": "stderr",
          "text": [
            "Training: 100%|██████████| 314/314 [00:10<00:00, 29.90it/s, Loss=1.4840, Acc=41.99%]\n",
            "Validation: 100%|██████████| 68/68 [00:01<00:00, 35.34it/s]\n"
          ]
        },
        {
          "output_type": "stream",
          "name": "stdout",
          "text": [
            "Epoch 2/10:\n",
            "  Train Loss: 1.4986, Train Acc: 41.99%\n",
            "  Val Loss: 1.3843, Val Acc: 47.46%\n",
            "  LR: 0.001000, Time: 12.44s\n",
            "--------------------------------------------------\n"
          ]
        },
        {
          "output_type": "stream",
          "name": "stderr",
          "text": [
            "Training: 100%|██████████| 314/314 [00:10<00:00, 29.96it/s, Loss=1.4491, Acc=45.34%]\n",
            "Validation: 100%|██████████| 68/68 [00:01<00:00, 35.10it/s]\n"
          ]
        },
        {
          "output_type": "stream",
          "name": "stdout",
          "text": [
            "Epoch 3/10:\n",
            "  Train Loss: 1.4143, Train Acc: 45.34%\n",
            "  Val Loss: 1.2958, Val Acc: 50.71%\n",
            "  LR: 0.001000, Time: 12.43s\n",
            "--------------------------------------------------\n"
          ]
        },
        {
          "output_type": "stream",
          "name": "stderr",
          "text": [
            "Training: 100%|██████████| 314/314 [00:10<00:00, 29.99it/s, Loss=1.2996, Acc=48.00%]\n",
            "Validation: 100%|██████████| 68/68 [00:01<00:00, 37.53it/s]\n"
          ]
        },
        {
          "output_type": "stream",
          "name": "stdout",
          "text": [
            "Epoch 4/10:\n",
            "  Train Loss: 1.3496, Train Acc: 48.00%\n",
            "  Val Loss: 1.2250, Val Acc: 53.96%\n",
            "  LR: 0.001000, Time: 12.29s\n",
            "--------------------------------------------------\n"
          ]
        },
        {
          "output_type": "stream",
          "name": "stderr",
          "text": [
            "Training: 100%|██████████| 314/314 [00:10<00:00, 30.02it/s, Loss=1.3714, Acc=49.56%]\n",
            "Validation: 100%|██████████| 68/68 [00:01<00:00, 37.51it/s]\n"
          ]
        },
        {
          "output_type": "stream",
          "name": "stdout",
          "text": [
            "Epoch 5/10:\n",
            "  Train Loss: 1.3082, Train Acc: 49.56%\n",
            "  Val Loss: 1.2150, Val Acc: 52.96%\n",
            "  LR: 0.001000, Time: 12.28s\n",
            "--------------------------------------------------\n"
          ]
        },
        {
          "output_type": "stream",
          "name": "stderr",
          "text": [
            "Training: 100%|██████████| 314/314 [00:10<00:00, 30.38it/s, Loss=1.1576, Acc=51.16%]\n",
            "Validation: 100%|██████████| 68/68 [00:01<00:00, 37.75it/s]\n"
          ]
        },
        {
          "output_type": "stream",
          "name": "stdout",
          "text": [
            "Epoch 6/10:\n",
            "  Train Loss: 1.2731, Train Acc: 51.16%\n",
            "  Val Loss: 1.1711, Val Acc: 56.21%\n",
            "  LR: 0.001000, Time: 12.15s\n",
            "--------------------------------------------------\n"
          ]
        },
        {
          "output_type": "stream",
          "name": "stderr",
          "text": [
            "Training: 100%|██████████| 314/314 [00:10<00:00, 30.71it/s, Loss=1.3192, Acc=52.64%]\n",
            "Validation: 100%|██████████| 68/68 [00:01<00:00, 36.43it/s]\n"
          ]
        },
        {
          "output_type": "stream",
          "name": "stdout",
          "text": [
            "Epoch 7/10:\n",
            "  Train Loss: 1.2424, Train Acc: 52.64%\n",
            "  Val Loss: 1.1472, Val Acc: 56.33%\n",
            "  LR: 0.001000, Time: 12.10s\n",
            "--------------------------------------------------\n"
          ]
        },
        {
          "output_type": "stream",
          "name": "stderr",
          "text": [
            "Training: 100%|██████████| 314/314 [00:10<00:00, 29.92it/s, Loss=1.3076, Acc=53.30%]\n",
            "Validation: 100%|██████████| 68/68 [00:01<00:00, 35.85it/s]\n"
          ]
        },
        {
          "output_type": "stream",
          "name": "stdout",
          "text": [
            "Epoch 8/10:\n",
            "  Train Loss: 1.2150, Train Acc: 53.30%\n",
            "  Val Loss: 1.1399, Val Acc: 56.88%\n",
            "  LR: 0.001000, Time: 12.40s\n",
            "--------------------------------------------------\n"
          ]
        },
        {
          "output_type": "stream",
          "name": "stderr",
          "text": [
            "Training: 100%|██████████| 314/314 [00:10<00:00, 30.91it/s, Loss=1.1957, Acc=54.96%]\n",
            "Validation: 100%|██████████| 68/68 [00:01<00:00, 35.42it/s]\n"
          ]
        },
        {
          "output_type": "stream",
          "name": "stdout",
          "text": [
            "Epoch 9/10:\n",
            "  Train Loss: 1.1836, Train Acc: 54.96%\n",
            "  Val Loss: 1.1243, Val Acc: 57.49%\n",
            "  LR: 0.001000, Time: 12.09s\n",
            "--------------------------------------------------\n"
          ]
        },
        {
          "output_type": "stream",
          "name": "stderr",
          "text": [
            "Training: 100%|██████████| 314/314 [00:10<00:00, 30.55it/s, Loss=1.1644, Acc=55.32%]\n",
            "Validation: 100%|██████████| 68/68 [00:01<00:00, 36.03it/s]"
          ]
        },
        {
          "output_type": "stream",
          "name": "stdout",
          "text": [
            "Epoch 10/10:\n",
            "  Train Loss: 1.1679, Train Acc: 55.32%\n",
            "  Val Loss: 1.1129, Val Acc: 58.35%\n",
            "  LR: 0.001000, Time: 12.17s\n",
            "--------------------------------------------------\n",
            "Loaded best model with validation accuracy: 58.35%\n"
          ]
        },
        {
          "output_type": "stream",
          "name": "stderr",
          "text": [
            "\n"
          ]
        },
        {
          "output_type": "display_data",
          "data": {
            "text/plain": [
              "<IPython.core.display.HTML object>"
            ],
            "text/html": []
          },
          "metadata": {}
        },
        {
          "output_type": "display_data",
          "data": {
            "text/plain": [
              "<IPython.core.display.HTML object>"
            ],
            "text/html": [
              "<br>    <style><br>        .wandb-row {<br>            display: flex;<br>            flex-direction: row;<br>            flex-wrap: wrap;<br>            justify-content: flex-start;<br>            width: 100%;<br>        }<br>        .wandb-col {<br>            display: flex;<br>            flex-direction: column;<br>            flex-basis: 100%;<br>            flex: 1;<br>            padding: 10px;<br>        }<br>    </style><br><div class=\"wandb-row\"><div class=\"wandb-col\"><h3>Run history:</h3><br/><table class=\"wandb\"><tr><td>best_val_accuracy</td><td>▁▃▅▆▆▇▇▇██</td></tr><tr><td>epoch</td><td>▁▂▃▃▄▅▆▆▇█</td></tr><tr><td>epoch_time</td><td>▃██▅▅▂▁▇▁▃</td></tr><tr><td>learning_rate</td><td>▁▁▁▁▁▁▁▁▁▁</td></tr><tr><td>train_accuracy</td><td>▁▄▅▆▆▇▇▇██</td></tr><tr><td>train_loss</td><td>█▅▄▃▃▂▂▂▁▁</td></tr><tr><td>val_accuracy</td><td>▁▃▅▆▆▇▇▇██</td></tr><tr><td>val_loss</td><td>█▆▄▃▃▂▂▁▁▁</td></tr></table><br/></div><div class=\"wandb-col\"><h3>Run summary:</h3><br/><table class=\"wandb\"><tr><td>best_val_accuracy</td><td>58.34688</td></tr><tr><td>epoch</td><td>10</td></tr><tr><td>epoch_time</td><td>12.17192</td></tr><tr><td>learning_rate</td><td>0.001</td></tr><tr><td>train_accuracy</td><td>55.32222</td></tr><tr><td>train_loss</td><td>1.16787</td></tr><tr><td>val_accuracy</td><td>58.34688</td></tr><tr><td>val_loss</td><td>1.11287</td></tr></table><br/></div></div>"
            ]
          },
          "metadata": {}
        },
        {
          "output_type": "display_data",
          "data": {
            "text/plain": [
              "<IPython.core.display.HTML object>"
            ],
            "text/html": [
              " View run <strong style=\"color:#cdcd00\">Architecture_simple_cnn_low_dropout</strong> at: <a href='https://wandb.ai/nipkha21-free-university-of-tbilisi-/facial-expression-recognition/runs/jd8kaw3q' target=\"_blank\">https://wandb.ai/nipkha21-free-university-of-tbilisi-/facial-expression-recognition/runs/jd8kaw3q</a><br> View project at: <a href='https://wandb.ai/nipkha21-free-university-of-tbilisi-/facial-expression-recognition' target=\"_blank\">https://wandb.ai/nipkha21-free-university-of-tbilisi-/facial-expression-recognition</a><br>Synced 5 W&B file(s), 0 media file(s), 0 artifact file(s) and 0 other file(s)"
            ]
          },
          "metadata": {}
        },
        {
          "output_type": "display_data",
          "data": {
            "text/plain": [
              "<IPython.core.display.HTML object>"
            ],
            "text/html": [
              "Find logs at: <code>./wandb/run-20250608_065525-jd8kaw3q/logs</code>"
            ]
          },
          "metadata": {}
        },
        {
          "output_type": "stream",
          "name": "stdout",
          "text": [
            "Best validation accuracy: 58.35%\n",
            "Total parameters: 2,456,071\n",
            "\n",
            "Testing architecture: improved_cnn\n",
            "Description: Improved CNN with BatchNorm\n"
          ]
        },
        {
          "output_type": "display_data",
          "data": {
            "text/plain": [
              "<IPython.core.display.HTML object>"
            ],
            "text/html": [
              "Tracking run with wandb version 0.19.11"
            ]
          },
          "metadata": {}
        },
        {
          "output_type": "display_data",
          "data": {
            "text/plain": [
              "<IPython.core.display.HTML object>"
            ],
            "text/html": [
              "Run data is saved locally in <code>/content/wandb/run-20250608_065731-1bpj697q</code>"
            ]
          },
          "metadata": {}
        },
        {
          "output_type": "display_data",
          "data": {
            "text/plain": [
              "<IPython.core.display.HTML object>"
            ],
            "text/html": [
              "Syncing run <strong><a href='https://wandb.ai/nipkha21-free-university-of-tbilisi-/facial-expression-recognition/runs/1bpj697q' target=\"_blank\">Architecture_improved_cnn</a></strong> to <a href='https://wandb.ai/nipkha21-free-university-of-tbilisi-/facial-expression-recognition' target=\"_blank\">Weights & Biases</a> (<a href='https://wandb.me/developer-guide' target=\"_blank\">docs</a>)<br>"
            ]
          },
          "metadata": {}
        },
        {
          "output_type": "display_data",
          "data": {
            "text/plain": [
              "<IPython.core.display.HTML object>"
            ],
            "text/html": [
              " View project at <a href='https://wandb.ai/nipkha21-free-university-of-tbilisi-/facial-expression-recognition' target=\"_blank\">https://wandb.ai/nipkha21-free-university-of-tbilisi-/facial-expression-recognition</a>"
            ]
          },
          "metadata": {}
        },
        {
          "output_type": "display_data",
          "data": {
            "text/plain": [
              "<IPython.core.display.HTML object>"
            ],
            "text/html": [
              " View run at <a href='https://wandb.ai/nipkha21-free-university-of-tbilisi-/facial-expression-recognition/runs/1bpj697q' target=\"_blank\">https://wandb.ai/nipkha21-free-university-of-tbilisi-/facial-expression-recognition/runs/1bpj697q</a>"
            ]
          },
          "metadata": {}
        },
        {
          "output_type": "stream",
          "name": "stdout",
          "text": [
            "Starting CNN training for 10 epochs...\n"
          ]
        },
        {
          "output_type": "stream",
          "name": "stderr",
          "text": [
            "Training: 100%|██████████| 314/314 [00:10<00:00, 29.77it/s, Loss=1.6357, Acc=23.37%]\n",
            "Validation: 100%|██████████| 68/68 [00:01<00:00, 38.16it/s]\n"
          ]
        },
        {
          "output_type": "stream",
          "name": "stdout",
          "text": [
            "Epoch 1/10:\n",
            "  Train Loss: 1.8728, Train Acc: 23.37%\n",
            "  Val Loss: 1.7814, Val Acc: 28.12%\n",
            "  LR: 0.001000, Time: 12.34s\n",
            "--------------------------------------------------\n"
          ]
        },
        {
          "output_type": "stream",
          "name": "stderr",
          "text": [
            "Training: 100%|██████████| 314/314 [00:10<00:00, 30.59it/s, Loss=1.7984, Acc=31.42%]\n",
            "Validation: 100%|██████████| 68/68 [00:01<00:00, 38.30it/s]\n"
          ]
        },
        {
          "output_type": "stream",
          "name": "stdout",
          "text": [
            "Epoch 2/10:\n",
            "  Train Loss: 1.6862, Train Acc: 31.42%\n",
            "  Val Loss: 1.5131, Val Acc: 39.35%\n",
            "  LR: 0.001000, Time: 12.05s\n",
            "--------------------------------------------------\n"
          ]
        },
        {
          "output_type": "stream",
          "name": "stderr",
          "text": [
            "Training: 100%|██████████| 314/314 [00:10<00:00, 30.83it/s, Loss=1.4275, Acc=37.95%]\n",
            "Validation: 100%|██████████| 68/68 [00:01<00:00, 38.25it/s]\n"
          ]
        },
        {
          "output_type": "stream",
          "name": "stdout",
          "text": [
            "Epoch 3/10:\n",
            "  Train Loss: 1.5650, Train Acc: 37.95%\n",
            "  Val Loss: 1.4250, Val Acc: 43.79%\n",
            "  LR: 0.001000, Time: 11.97s\n",
            "--------------------------------------------------\n"
          ]
        },
        {
          "output_type": "stream",
          "name": "stderr",
          "text": [
            "Training: 100%|██████████| 314/314 [00:10<00:00, 31.11it/s, Loss=1.6977, Acc=42.02%]\n",
            "Validation: 100%|██████████| 68/68 [00:01<00:00, 38.12it/s]\n"
          ]
        },
        {
          "output_type": "stream",
          "name": "stdout",
          "text": [
            "Epoch 4/10:\n",
            "  Train Loss: 1.4877, Train Acc: 42.02%\n",
            "  Val Loss: 1.3256, Val Acc: 48.20%\n",
            "  LR: 0.001000, Time: 11.88s\n",
            "--------------------------------------------------\n"
          ]
        },
        {
          "output_type": "stream",
          "name": "stderr",
          "text": [
            "Training: 100%|██████████| 314/314 [00:10<00:00, 30.60it/s, Loss=1.2933, Acc=44.40%]\n",
            "Validation: 100%|██████████| 68/68 [00:01<00:00, 37.08it/s]\n"
          ]
        },
        {
          "output_type": "stream",
          "name": "stdout",
          "text": [
            "Epoch 5/10:\n",
            "  Train Loss: 1.4280, Train Acc: 44.40%\n",
            "  Val Loss: 1.2852, Val Acc: 51.01%\n",
            "  LR: 0.001000, Time: 12.10s\n",
            "--------------------------------------------------\n"
          ]
        },
        {
          "output_type": "stream",
          "name": "stderr",
          "text": [
            "Training: 100%|██████████| 314/314 [00:10<00:00, 30.30it/s, Loss=1.5666, Acc=45.86%]\n",
            "Validation: 100%|██████████| 68/68 [00:01<00:00, 35.78it/s]\n"
          ]
        },
        {
          "output_type": "stream",
          "name": "stdout",
          "text": [
            "Epoch 6/10:\n",
            "  Train Loss: 1.3910, Train Acc: 45.86%\n",
            "  Val Loss: 1.2568, Val Acc: 51.87%\n",
            "  LR: 0.001000, Time: 12.27s\n",
            "--------------------------------------------------\n"
          ]
        },
        {
          "output_type": "stream",
          "name": "stderr",
          "text": [
            "Training: 100%|██████████| 314/314 [00:10<00:00, 30.94it/s, Loss=1.2910, Acc=46.99%]\n",
            "Validation: 100%|██████████| 68/68 [00:01<00:00, 36.74it/s]\n"
          ]
        },
        {
          "output_type": "stream",
          "name": "stdout",
          "text": [
            "Epoch 7/10:\n",
            "  Train Loss: 1.3653, Train Acc: 46.99%\n",
            "  Val Loss: 1.2195, Val Acc: 53.73%\n",
            "  LR: 0.001000, Time: 12.01s\n",
            "--------------------------------------------------\n"
          ]
        },
        {
          "output_type": "stream",
          "name": "stderr",
          "text": [
            "Training: 100%|██████████| 314/314 [00:10<00:00, 30.98it/s, Loss=1.3863, Acc=48.88%]\n",
            "Validation: 100%|██████████| 68/68 [00:01<00:00, 36.78it/s]\n"
          ]
        },
        {
          "output_type": "stream",
          "name": "stdout",
          "text": [
            "Epoch 8/10:\n",
            "  Train Loss: 1.3307, Train Acc: 48.88%\n",
            "  Val Loss: 1.1929, Val Acc: 53.91%\n",
            "  LR: 0.001000, Time: 11.99s\n",
            "--------------------------------------------------\n"
          ]
        },
        {
          "output_type": "stream",
          "name": "stderr",
          "text": [
            "Training: 100%|██████████| 314/314 [00:10<00:00, 30.54it/s, Loss=1.2882, Acc=50.00%]\n",
            "Validation: 100%|██████████| 68/68 [00:01<00:00, 37.78it/s]\n"
          ]
        },
        {
          "output_type": "stream",
          "name": "stdout",
          "text": [
            "Epoch 9/10:\n",
            "  Train Loss: 1.3030, Train Acc: 50.00%\n",
            "  Val Loss: 1.1994, Val Acc: 54.82%\n",
            "  LR: 0.001000, Time: 12.09s\n",
            "--------------------------------------------------\n"
          ]
        },
        {
          "output_type": "stream",
          "name": "stderr",
          "text": [
            "Training: 100%|██████████| 314/314 [00:10<00:00, 30.63it/s, Loss=1.1057, Acc=50.71%]\n",
            "Validation: 100%|██████████| 68/68 [00:01<00:00, 37.14it/s]"
          ]
        },
        {
          "output_type": "stream",
          "name": "stdout",
          "text": [
            "Epoch 10/10:\n",
            "  Train Loss: 1.2855, Train Acc: 50.71%\n",
            "  Val Loss: 1.1798, Val Acc: 53.66%\n",
            "  LR: 0.001000, Time: 12.09s\n",
            "--------------------------------------------------\n",
            "Loaded best model with validation accuracy: 54.82%\n"
          ]
        },
        {
          "output_type": "stream",
          "name": "stderr",
          "text": [
            "\n"
          ]
        },
        {
          "output_type": "display_data",
          "data": {
            "text/plain": [
              "<IPython.core.display.HTML object>"
            ],
            "text/html": []
          },
          "metadata": {}
        },
        {
          "output_type": "display_data",
          "data": {
            "text/plain": [
              "<IPython.core.display.HTML object>"
            ],
            "text/html": [
              "<br>    <style><br>        .wandb-row {<br>            display: flex;<br>            flex-direction: row;<br>            flex-wrap: wrap;<br>            justify-content: flex-start;<br>            width: 100%;<br>        }<br>        .wandb-col {<br>            display: flex;<br>            flex-direction: column;<br>            flex-basis: 100%;<br>            flex: 1;<br>            padding: 10px;<br>        }<br>    </style><br><div class=\"wandb-row\"><div class=\"wandb-col\"><h3>Run history:</h3><br/><table class=\"wandb\"><tr><td>best_val_accuracy</td><td>▁▄▅▆▇▇████</td></tr><tr><td>epoch</td><td>▁▂▃▃▄▅▆▆▇█</td></tr><tr><td>epoch_time</td><td>█▄▂▁▄▇▃▃▄▄</td></tr><tr><td>learning_rate</td><td>▁▁▁▁▁▁▁▁▁▁</td></tr><tr><td>train_accuracy</td><td>▁▃▅▆▆▇▇███</td></tr><tr><td>train_loss</td><td>█▆▄▃▃▂▂▂▁▁</td></tr><tr><td>val_accuracy</td><td>▁▄▅▆▇▇████</td></tr><tr><td>val_loss</td><td>█▅▄▃▂▂▁▁▁▁</td></tr></table><br/></div><div class=\"wandb-col\"><h3>Run summary:</h3><br/><table class=\"wandb\"><tr><td>best_val_accuracy</td><td>54.81774</td></tr><tr><td>epoch</td><td>10</td></tr><tr><td>epoch_time</td><td>12.08908</td></tr><tr><td>learning_rate</td><td>0.001</td></tr><tr><td>train_accuracy</td><td>50.71411</td></tr><tr><td>train_loss</td><td>1.28548</td></tr><tr><td>val_accuracy</td><td>53.65684</td></tr><tr><td>val_loss</td><td>1.17984</td></tr></table><br/></div></div>"
            ]
          },
          "metadata": {}
        },
        {
          "output_type": "display_data",
          "data": {
            "text/plain": [
              "<IPython.core.display.HTML object>"
            ],
            "text/html": [
              " View run <strong style=\"color:#cdcd00\">Architecture_improved_cnn</strong> at: <a href='https://wandb.ai/nipkha21-free-university-of-tbilisi-/facial-expression-recognition/runs/1bpj697q' target=\"_blank\">https://wandb.ai/nipkha21-free-university-of-tbilisi-/facial-expression-recognition/runs/1bpj697q</a><br> View project at: <a href='https://wandb.ai/nipkha21-free-university-of-tbilisi-/facial-expression-recognition' target=\"_blank\">https://wandb.ai/nipkha21-free-university-of-tbilisi-/facial-expression-recognition</a><br>Synced 5 W&B file(s), 0 media file(s), 0 artifact file(s) and 0 other file(s)"
            ]
          },
          "metadata": {}
        },
        {
          "output_type": "display_data",
          "data": {
            "text/plain": [
              "<IPython.core.display.HTML object>"
            ],
            "text/html": [
              "Find logs at: <code>./wandb/run-20250608_065731-1bpj697q/logs</code>"
            ]
          },
          "metadata": {}
        },
        {
          "output_type": "stream",
          "name": "stdout",
          "text": [
            "Best validation accuracy: 54.82%\n",
            "Total parameters: 1,635,527\n",
            "\n",
            "=== ARCHITECTURE ANALYSIS ===\n",
            "Best architecture: simple_cnn_low_dropout\n",
            "simple_cnn_low_dropout: 58.35% (2,456,071 params, 12.25s/epoch)\n",
            "improved_cnn: 54.82% (1,635,527 params, 12.08s/epoch)\n"
          ]
        }
      ]
    },
    {
      "cell_type": "code",
      "source": [
        "print(\"=== KERNEL SIZE AND FILTER EXPERIMENTS ===\")\n",
        "\n",
        "class FlexibleCNN(nn.Module):\n",
        "\n",
        "    def __init__(self, kernel_sizes=[3, 3, 3], num_filters=[32, 64, 128],\n",
        "                 num_classes=7, dropout_rate=0.3):\n",
        "        super(FlexibleCNN, self).__init__()\n",
        "\n",
        "        paddings = [k//2 for k in kernel_sizes]\n",
        "\n",
        "        self.conv1 = nn.Conv2d(1, num_filters[0], kernel_size=kernel_sizes[0], padding=paddings[0])\n",
        "        self.bn1 = nn.BatchNorm2d(num_filters[0])\n",
        "\n",
        "        self.conv2 = nn.Conv2d(num_filters[0], num_filters[1], kernel_size=kernel_sizes[1], padding=paddings[1])\n",
        "        self.bn2 = nn.BatchNorm2d(num_filters[1])\n",
        "\n",
        "        self.conv3 = nn.Conv2d(num_filters[1], num_filters[2], kernel_size=kernel_sizes[2], padding=paddings[2])\n",
        "        self.bn3 = nn.BatchNorm2d(num_filters[2])\n",
        "\n",
        "        self.pool = nn.MaxPool2d(2, 2)\n",
        "        self.adaptive_pool = nn.AdaptiveAvgPool2d((3, 3))\n",
        "\n",
        "        self.fc1 = nn.Linear(num_filters[2] * 3 * 3, 512)\n",
        "        self.dropout = nn.Dropout(dropout_rate)\n",
        "        self.fc2 = nn.Linear(512, num_classes)\n",
        "\n",
        "        self._initialize_weights()\n",
        "\n",
        "    def _initialize_weights(self):\n",
        "        for m in self.modules():\n",
        "            if isinstance(m, nn.Conv2d):\n",
        "                nn.init.kaiming_normal_(m.weight, mode='fan_out', nonlinearity='relu')\n",
        "                if m.bias is not None:\n",
        "                    nn.init.constant_(m.bias, 0)\n",
        "            elif isinstance(m, nn.BatchNorm2d):\n",
        "                nn.init.constant_(m.weight, 1)\n",
        "                nn.init.constant_(m.bias, 0)\n",
        "            elif isinstance(m, nn.Linear):\n",
        "                nn.init.xavier_uniform_(m.weight)\n",
        "                nn.init.constant_(m.bias, 0)\n",
        "\n",
        "    def forward(self, x):\n",
        "        if x.shape[1] == 3:\n",
        "            x = x[:, 0:1, :, :]\n",
        "\n",
        "        x = self.pool(F.relu(self.bn1(self.conv1(x))))\n",
        "        x = self.pool(F.relu(self.bn2(self.conv2(x))))\n",
        "        x = self.pool(F.relu(self.bn3(self.conv3(x))))\n",
        "\n",
        "        x = self.adaptive_pool(x)\n",
        "        x = x.view(-1, x.size(1) * x.size(2) * x.size(3))\n",
        "        x = F.relu(self.fc1(x))\n",
        "        x = self.dropout(x)\n",
        "        x = self.fc2(x)\n",
        "\n",
        "        return x\n",
        "\n",
        "cnn_configs = [\n",
        "    {'kernel_sizes': [3, 3, 3], 'num_filters': [32, 64, 128], 'name': 'baseline'},\n",
        "    {'kernel_sizes': [5, 3, 3], 'num_filters': [32, 64, 128], 'name': 'large_first_kernel'},\n",
        "    {'kernel_sizes': [3, 3, 3], 'num_filters': [64, 128, 256], 'name': 'more_filters'},\n",
        "    {'kernel_sizes': [7, 5, 3], 'num_filters': [32, 64, 128], 'name': 'decreasing_kernels'},\n",
        "    {'kernel_sizes': [3, 3, 3], 'num_filters': [16, 32, 64], 'name': 'fewer_filters'}\n",
        "]\n",
        "\n",
        "config_results = {}\n",
        "\n",
        "for config in cnn_configs:\n",
        "    print(f\"\\nTesting CNN configuration: {config['name']}\")\n",
        "\n",
        "    if 'transform' in best_aug_config:\n",
        "        train_dataset = CNNFacialExpressionDataset(\n",
        "            train_df, transform=best_aug_config['transform'], augment=False\n",
        "        )\n",
        "        val_dataset = CNNFacialExpressionDataset(\n",
        "            val_df, transform=A.Compose([\n",
        "                A.Normalize(mean=[0.485], std=[0.229]),\n",
        "                ToTensorV2()\n",
        "            ]), augment=False\n",
        "        )\n",
        "    else:\n",
        "        train_dataset = CNNFacialExpressionDataset(\n",
        "            train_df, augment=best_aug_config['augment']\n",
        "        )\n",
        "        val_dataset = CNNFacialExpressionDataset(\n",
        "            val_df, augment=False\n",
        "        )\n",
        "\n",
        "    train_loader = DataLoader(train_dataset, batch_size=64, shuffle=True, num_workers=2)\n",
        "    val_loader = DataLoader(val_dataset, batch_size=64, shuffle=False, num_workers=2)\n",
        "\n",
        "    model = FlexibleCNN(\n",
        "        kernel_sizes=config['kernel_sizes'],\n",
        "        num_filters=config['num_filters'],\n",
        "        num_classes=7,\n",
        "        dropout_rate=0.3\n",
        "    )\n",
        "\n",
        "    criterion = nn.CrossEntropyLoss()\n",
        "    optimizer = optim.Adam(model.parameters(), lr=0.001)\n",
        "\n",
        "    trainer = CNNTrainer(\n",
        "        model=model,\n",
        "        train_loader=train_loader,\n",
        "        val_loader=val_loader,\n",
        "        criterion=criterion,\n",
        "        optimizer=optimizer,\n",
        "        device=device,\n",
        "        experiment_name=\"Simple_CNN_Training\",\n",
        "        run_name=f\"Config_{config['name']}\"\n",
        "    )\n",
        "\n",
        "    history = trainer.train(epochs=10, early_stopping_patience=6)\n",
        "\n",
        "    config_results[config['name']] = {\n",
        "        'best_val_acc': trainer.best_val_acc,\n",
        "        'config': config,\n",
        "        'total_params': sum(p.numel() for p in model.parameters())\n",
        "    }\n",
        "\n",
        "    wandb.finish()\n",
        "\n",
        "print(\"\\n=== CONFIGURATION ANALYSIS ===\")\n",
        "for config_name, results in config_results.items():\n",
        "    print(f\"{config_name}: {results['best_val_acc']:.2f}% \"\n",
        "          f\"({results['total_params']:,} params)\")"
      ],
      "metadata": {
        "id": "wFqnCwSzBqa3",
        "colab": {
          "base_uri": "https://localhost:8080/",
          "height": 1000
        },
        "outputId": "51c5c881-e815-4582-a86e-0985b5154b9f"
      },
      "execution_count": null,
      "outputs": [
        {
          "output_type": "stream",
          "name": "stdout",
          "text": [
            "=== KERNEL SIZE AND FILTER EXPERIMENTS ===\n",
            "\n",
            "Testing CNN configuration: baseline\n"
          ]
        },
        {
          "output_type": "display_data",
          "data": {
            "text/plain": [
              "<IPython.core.display.HTML object>"
            ],
            "text/html": [
              "Tracking run with wandb version 0.19.11"
            ]
          },
          "metadata": {}
        },
        {
          "output_type": "display_data",
          "data": {
            "text/plain": [
              "<IPython.core.display.HTML object>"
            ],
            "text/html": [
              "Run data is saved locally in <code>/content/wandb/run-20250608_070354-mrs8h37w</code>"
            ]
          },
          "metadata": {}
        },
        {
          "output_type": "display_data",
          "data": {
            "text/plain": [
              "<IPython.core.display.HTML object>"
            ],
            "text/html": [
              "Syncing run <strong><a href='https://wandb.ai/nipkha21-free-university-of-tbilisi-/facial-expression-recognition/runs/mrs8h37w' target=\"_blank\">Config_baseline</a></strong> to <a href='https://wandb.ai/nipkha21-free-university-of-tbilisi-/facial-expression-recognition' target=\"_blank\">Weights & Biases</a> (<a href='https://wandb.me/developer-guide' target=\"_blank\">docs</a>)<br>"
            ]
          },
          "metadata": {}
        },
        {
          "output_type": "display_data",
          "data": {
            "text/plain": [
              "<IPython.core.display.HTML object>"
            ],
            "text/html": [
              " View project at <a href='https://wandb.ai/nipkha21-free-university-of-tbilisi-/facial-expression-recognition' target=\"_blank\">https://wandb.ai/nipkha21-free-university-of-tbilisi-/facial-expression-recognition</a>"
            ]
          },
          "metadata": {}
        },
        {
          "output_type": "display_data",
          "data": {
            "text/plain": [
              "<IPython.core.display.HTML object>"
            ],
            "text/html": [
              " View run at <a href='https://wandb.ai/nipkha21-free-university-of-tbilisi-/facial-expression-recognition/runs/mrs8h37w' target=\"_blank\">https://wandb.ai/nipkha21-free-university-of-tbilisi-/facial-expression-recognition/runs/mrs8h37w</a>"
            ]
          },
          "metadata": {}
        },
        {
          "output_type": "stream",
          "name": "stdout",
          "text": [
            "Starting CNN training for 10 epochs...\n"
          ]
        },
        {
          "output_type": "stream",
          "name": "stderr",
          "text": [
            "Training: 100%|██████████| 314/314 [00:10<00:00, 30.58it/s, Loss=1.5152, Acc=25.45%]\n",
            "Validation: 100%|██████████| 68/68 [00:01<00:00, 36.70it/s]\n"
          ]
        },
        {
          "output_type": "stream",
          "name": "stdout",
          "text": [
            "Epoch 1/10:\n",
            "  Train Loss: 1.8274, Train Acc: 25.45%\n",
            "  Val Loss: 1.6824, Val Acc: 29.56%\n",
            "  LR: 0.001000, Time: 12.13s\n",
            "--------------------------------------------------\n"
          ]
        },
        {
          "output_type": "stream",
          "name": "stderr",
          "text": [
            "Training: 100%|██████████| 314/314 [00:10<00:00, 30.89it/s, Loss=1.5771, Acc=33.99%]\n",
            "Validation: 100%|██████████| 68/68 [00:01<00:00, 37.38it/s]\n"
          ]
        },
        {
          "output_type": "stream",
          "name": "stdout",
          "text": [
            "Epoch 2/10:\n",
            "  Train Loss: 1.6536, Train Acc: 33.99%\n",
            "  Val Loss: 1.5095, Val Acc: 41.12%\n",
            "  LR: 0.001000, Time: 11.99s\n",
            "--------------------------------------------------\n"
          ]
        },
        {
          "output_type": "stream",
          "name": "stderr",
          "text": [
            "Training: 100%|██████████| 314/314 [00:10<00:00, 29.97it/s, Loss=1.5608, Acc=37.66%]\n",
            "Validation: 100%|██████████| 68/68 [00:01<00:00, 37.39it/s]\n"
          ]
        },
        {
          "output_type": "stream",
          "name": "stdout",
          "text": [
            "Epoch 3/10:\n",
            "  Train Loss: 1.5765, Train Acc: 37.66%\n",
            "  Val Loss: 1.4406, Val Acc: 45.25%\n",
            "  LR: 0.001000, Time: 12.30s\n",
            "--------------------------------------------------\n"
          ]
        },
        {
          "output_type": "stream",
          "name": "stderr",
          "text": [
            "Training: 100%|██████████| 314/314 [00:10<00:00, 31.02it/s, Loss=1.4769, Acc=39.68%]\n",
            "Validation: 100%|██████████| 68/68 [00:01<00:00, 37.41it/s]\n"
          ]
        },
        {
          "output_type": "stream",
          "name": "stdout",
          "text": [
            "Epoch 4/10:\n",
            "  Train Loss: 1.5375, Train Acc: 39.68%\n",
            "  Val Loss: 1.4294, Val Acc: 44.25%\n",
            "  LR: 0.001000, Time: 11.95s\n",
            "--------------------------------------------------\n"
          ]
        },
        {
          "output_type": "stream",
          "name": "stderr",
          "text": [
            "Training: 100%|██████████| 314/314 [00:10<00:00, 31.09it/s, Loss=1.5818, Acc=40.87%]\n",
            "Validation: 100%|██████████| 68/68 [00:01<00:00, 38.05it/s]\n"
          ]
        },
        {
          "output_type": "stream",
          "name": "stdout",
          "text": [
            "Epoch 5/10:\n",
            "  Train Loss: 1.5024, Train Acc: 40.87%\n",
            "  Val Loss: 1.3710, Val Acc: 47.43%\n",
            "  LR: 0.001000, Time: 11.89s\n",
            "--------------------------------------------------\n"
          ]
        },
        {
          "output_type": "stream",
          "name": "stderr",
          "text": [
            "Training: 100%|██████████| 314/314 [00:10<00:00, 30.63it/s, Loss=1.2938, Acc=42.35%]\n",
            "Validation: 100%|██████████| 68/68 [00:01<00:00, 37.58it/s]\n"
          ]
        },
        {
          "output_type": "stream",
          "name": "stdout",
          "text": [
            "Epoch 6/10:\n",
            "  Train Loss: 1.4786, Train Acc: 42.35%\n",
            "  Val Loss: 1.3283, Val Acc: 50.03%\n",
            "  LR: 0.001000, Time: 12.07s\n",
            "--------------------------------------------------\n"
          ]
        },
        {
          "output_type": "stream",
          "name": "stderr",
          "text": [
            "Training: 100%|██████████| 314/314 [00:10<00:00, 31.15it/s, Loss=1.4920, Acc=43.38%]\n",
            "Validation: 100%|██████████| 68/68 [00:01<00:00, 35.68it/s]\n"
          ]
        },
        {
          "output_type": "stream",
          "name": "stdout",
          "text": [
            "Epoch 7/10:\n",
            "  Train Loss: 1.4540, Train Acc: 43.38%\n",
            "  Val Loss: 1.2931, Val Acc: 49.83%\n",
            "  LR: 0.001000, Time: 11.99s\n",
            "--------------------------------------------------\n"
          ]
        },
        {
          "output_type": "stream",
          "name": "stderr",
          "text": [
            "Training: 100%|██████████| 314/314 [00:10<00:00, 30.96it/s, Loss=1.5496, Acc=44.31%]\n",
            "Validation: 100%|██████████| 68/68 [00:01<00:00, 38.93it/s]\n"
          ]
        },
        {
          "output_type": "stream",
          "name": "stdout",
          "text": [
            "Epoch 8/10:\n",
            "  Train Loss: 1.4346, Train Acc: 44.31%\n",
            "  Val Loss: 1.3068, Val Acc: 49.90%\n",
            "  LR: 0.001000, Time: 11.90s\n",
            "--------------------------------------------------\n"
          ]
        },
        {
          "output_type": "stream",
          "name": "stderr",
          "text": [
            "Training: 100%|██████████| 314/314 [00:10<00:00, 30.77it/s, Loss=1.2559, Acc=44.67%]\n",
            "Validation: 100%|██████████| 68/68 [00:01<00:00, 37.87it/s]\n"
          ]
        },
        {
          "output_type": "stream",
          "name": "stdout",
          "text": [
            "Epoch 9/10:\n",
            "  Train Loss: 1.4203, Train Acc: 44.67%\n",
            "  Val Loss: 1.2775, Val Acc: 51.08%\n",
            "  LR: 0.001000, Time: 12.01s\n",
            "--------------------------------------------------\n"
          ]
        },
        {
          "output_type": "stream",
          "name": "stderr",
          "text": [
            "Training: 100%|██████████| 314/314 [00:10<00:00, 30.88it/s, Loss=1.4518, Acc=45.63%]\n",
            "Validation: 100%|██████████| 68/68 [00:01<00:00, 37.72it/s]"
          ]
        },
        {
          "output_type": "stream",
          "name": "stdout",
          "text": [
            "Epoch 10/10:\n",
            "  Train Loss: 1.4038, Train Acc: 45.63%\n",
            "  Val Loss: 1.2631, Val Acc: 51.94%\n",
            "  LR: 0.001000, Time: 11.98s\n",
            "--------------------------------------------------\n",
            "Loaded best model with validation accuracy: 51.94%\n"
          ]
        },
        {
          "output_type": "stream",
          "name": "stderr",
          "text": [
            "\n"
          ]
        },
        {
          "output_type": "display_data",
          "data": {
            "text/plain": [
              "<IPython.core.display.HTML object>"
            ],
            "text/html": []
          },
          "metadata": {}
        },
        {
          "output_type": "display_data",
          "data": {
            "text/plain": [
              "<IPython.core.display.HTML object>"
            ],
            "text/html": [
              "<br>    <style><br>        .wandb-row {<br>            display: flex;<br>            flex-direction: row;<br>            flex-wrap: wrap;<br>            justify-content: flex-start;<br>            width: 100%;<br>        }<br>        .wandb-col {<br>            display: flex;<br>            flex-direction: column;<br>            flex-basis: 100%;<br>            flex: 1;<br>            padding: 10px;<br>        }<br>    </style><br><div class=\"wandb-row\"><div class=\"wandb-col\"><h3>Run history:</h3><br/><table class=\"wandb\"><tr><td>best_val_accuracy</td><td>▁▅▆▆▇▇▇▇██</td></tr><tr><td>epoch</td><td>▁▂▃▃▄▅▆▆▇█</td></tr><tr><td>epoch_time</td><td>▅▃█▂▁▄▃▁▃▂</td></tr><tr><td>learning_rate</td><td>▁▁▁▁▁▁▁▁▁▁</td></tr><tr><td>train_accuracy</td><td>▁▄▅▆▆▇▇███</td></tr><tr><td>train_loss</td><td>█▅▄▃▃▂▂▂▁▁</td></tr><tr><td>val_accuracy</td><td>▁▅▆▆▇▇▇▇██</td></tr><tr><td>val_loss</td><td>█▅▄▄▃▂▂▂▁▁</td></tr></table><br/></div><div class=\"wandb-col\"><h3>Run summary:</h3><br/><table class=\"wandb\"><tr><td>best_val_accuracy</td><td>51.9387</td></tr><tr><td>epoch</td><td>10</td></tr><tr><td>epoch_time</td><td>11.97788</td></tr><tr><td>learning_rate</td><td>0.001</td></tr><tr><td>train_accuracy</td><td>45.62827</td></tr><tr><td>train_loss</td><td>1.40375</td></tr><tr><td>val_accuracy</td><td>51.9387</td></tr><tr><td>val_loss</td><td>1.26305</td></tr></table><br/></div></div>"
            ]
          },
          "metadata": {}
        },
        {
          "output_type": "display_data",
          "data": {
            "text/plain": [
              "<IPython.core.display.HTML object>"
            ],
            "text/html": [
              " View run <strong style=\"color:#cdcd00\">Config_baseline</strong> at: <a href='https://wandb.ai/nipkha21-free-university-of-tbilisi-/facial-expression-recognition/runs/mrs8h37w' target=\"_blank\">https://wandb.ai/nipkha21-free-university-of-tbilisi-/facial-expression-recognition/runs/mrs8h37w</a><br> View project at: <a href='https://wandb.ai/nipkha21-free-university-of-tbilisi-/facial-expression-recognition' target=\"_blank\">https://wandb.ai/nipkha21-free-university-of-tbilisi-/facial-expression-recognition</a><br>Synced 5 W&B file(s), 0 media file(s), 0 artifact file(s) and 0 other file(s)"
            ]
          },
          "metadata": {}
        },
        {
          "output_type": "display_data",
          "data": {
            "text/plain": [
              "<IPython.core.display.HTML object>"
            ],
            "text/html": [
              "Find logs at: <code>./wandb/run-20250608_070354-mrs8h37w/logs</code>"
            ]
          },
          "metadata": {}
        },
        {
          "output_type": "stream",
          "name": "stdout",
          "text": [
            "\n",
            "Testing CNN configuration: large_first_kernel\n"
          ]
        },
        {
          "output_type": "display_data",
          "data": {
            "text/plain": [
              "<IPython.core.display.HTML object>"
            ],
            "text/html": [
              "Tracking run with wandb version 0.19.11"
            ]
          },
          "metadata": {}
        },
        {
          "output_type": "display_data",
          "data": {
            "text/plain": [
              "<IPython.core.display.HTML object>"
            ],
            "text/html": [
              "Run data is saved locally in <code>/content/wandb/run-20250608_070558-lbt5kx0s</code>"
            ]
          },
          "metadata": {}
        },
        {
          "output_type": "display_data",
          "data": {
            "text/plain": [
              "<IPython.core.display.HTML object>"
            ],
            "text/html": [
              "Syncing run <strong><a href='https://wandb.ai/nipkha21-free-university-of-tbilisi-/facial-expression-recognition/runs/lbt5kx0s' target=\"_blank\">Config_large_first_kernel</a></strong> to <a href='https://wandb.ai/nipkha21-free-university-of-tbilisi-/facial-expression-recognition' target=\"_blank\">Weights & Biases</a> (<a href='https://wandb.me/developer-guide' target=\"_blank\">docs</a>)<br>"
            ]
          },
          "metadata": {}
        },
        {
          "output_type": "display_data",
          "data": {
            "text/plain": [
              "<IPython.core.display.HTML object>"
            ],
            "text/html": [
              " View project at <a href='https://wandb.ai/nipkha21-free-university-of-tbilisi-/facial-expression-recognition' target=\"_blank\">https://wandb.ai/nipkha21-free-university-of-tbilisi-/facial-expression-recognition</a>"
            ]
          },
          "metadata": {}
        },
        {
          "output_type": "display_data",
          "data": {
            "text/plain": [
              "<IPython.core.display.HTML object>"
            ],
            "text/html": [
              " View run at <a href='https://wandb.ai/nipkha21-free-university-of-tbilisi-/facial-expression-recognition/runs/lbt5kx0s' target=\"_blank\">https://wandb.ai/nipkha21-free-university-of-tbilisi-/facial-expression-recognition/runs/lbt5kx0s</a>"
            ]
          },
          "metadata": {}
        },
        {
          "output_type": "stream",
          "name": "stdout",
          "text": [
            "Starting CNN training for 10 epochs...\n"
          ]
        },
        {
          "output_type": "stream",
          "name": "stderr",
          "text": [
            "Training: 100%|██████████| 314/314 [00:10<00:00, 30.98it/s, Loss=1.7525, Acc=25.57%]\n",
            "Validation: 100%|██████████| 68/68 [00:01<00:00, 36.96it/s]\n"
          ]
        },
        {
          "output_type": "stream",
          "name": "stdout",
          "text": [
            "Epoch 1/10:\n",
            "  Train Loss: 1.8345, Train Acc: 25.57%\n",
            "  Val Loss: 1.6854, Val Acc: 30.23%\n",
            "  LR: 0.001000, Time: 11.98s\n",
            "--------------------------------------------------\n"
          ]
        },
        {
          "output_type": "stream",
          "name": "stderr",
          "text": [
            "Training: 100%|██████████| 314/314 [00:10<00:00, 30.66it/s, Loss=1.8255, Acc=33.63%]\n",
            "Validation: 100%|██████████| 68/68 [00:01<00:00, 35.72it/s]\n"
          ]
        },
        {
          "output_type": "stream",
          "name": "stdout",
          "text": [
            "Epoch 2/10:\n",
            "  Train Loss: 1.6565, Train Acc: 33.63%\n",
            "  Val Loss: 1.5319, Val Acc: 41.93%\n",
            "  LR: 0.001000, Time: 12.15s\n",
            "--------------------------------------------------\n"
          ]
        },
        {
          "output_type": "stream",
          "name": "stderr",
          "text": [
            "Training: 100%|██████████| 314/314 [00:10<00:00, 30.83it/s, Loss=1.4296, Acc=38.75%]\n",
            "Validation: 100%|██████████| 68/68 [00:01<00:00, 36.86it/s]\n"
          ]
        },
        {
          "output_type": "stream",
          "name": "stdout",
          "text": [
            "Epoch 3/10:\n",
            "  Train Loss: 1.5646, Train Acc: 38.75%\n",
            "  Val Loss: 1.4479, Val Acc: 44.49%\n",
            "  LR: 0.001000, Time: 12.04s\n",
            "--------------------------------------------------\n"
          ]
        },
        {
          "output_type": "stream",
          "name": "stderr",
          "text": [
            "Training: 100%|██████████| 314/314 [00:10<00:00, 30.73it/s, Loss=1.3590, Acc=41.11%]\n",
            "Validation: 100%|██████████| 68/68 [00:01<00:00, 37.57it/s]\n"
          ]
        },
        {
          "output_type": "stream",
          "name": "stdout",
          "text": [
            "Epoch 4/10:\n",
            "  Train Loss: 1.5112, Train Acc: 41.11%\n",
            "  Val Loss: 1.3920, Val Acc: 47.13%\n",
            "  LR: 0.001000, Time: 12.04s\n",
            "--------------------------------------------------\n"
          ]
        },
        {
          "output_type": "stream",
          "name": "stderr",
          "text": [
            "Training: 100%|██████████| 314/314 [00:10<00:00, 30.70it/s, Loss=1.5162, Acc=42.47%]\n",
            "Validation: 100%|██████████| 68/68 [00:01<00:00, 37.95it/s]\n"
          ]
        },
        {
          "output_type": "stream",
          "name": "stdout",
          "text": [
            "Epoch 5/10:\n",
            "  Train Loss: 1.4831, Train Acc: 42.47%\n",
            "  Val Loss: 1.3599, Val Acc: 47.74%\n",
            "  LR: 0.001000, Time: 12.03s\n",
            "--------------------------------------------------\n"
          ]
        },
        {
          "output_type": "stream",
          "name": "stderr",
          "text": [
            "Training: 100%|██████████| 314/314 [00:10<00:00, 30.46it/s, Loss=1.4078, Acc=43.77%]\n",
            "Validation: 100%|██████████| 68/68 [00:01<00:00, 38.63it/s]\n"
          ]
        },
        {
          "output_type": "stream",
          "name": "stdout",
          "text": [
            "Epoch 6/10:\n",
            "  Train Loss: 1.4499, Train Acc: 43.77%\n",
            "  Val Loss: 1.3123, Val Acc: 50.08%\n",
            "  LR: 0.001000, Time: 12.08s\n",
            "--------------------------------------------------\n"
          ]
        },
        {
          "output_type": "stream",
          "name": "stderr",
          "text": [
            "Training: 100%|██████████| 314/314 [00:10<00:00, 30.24it/s, Loss=1.4613, Acc=44.53%]\n",
            "Validation: 100%|██████████| 68/68 [00:01<00:00, 36.81it/s]\n"
          ]
        },
        {
          "output_type": "stream",
          "name": "stdout",
          "text": [
            "Epoch 7/10:\n",
            "  Train Loss: 1.4303, Train Acc: 44.53%\n",
            "  Val Loss: 1.3127, Val Acc: 48.90%\n",
            "  LR: 0.001000, Time: 12.24s\n",
            "--------------------------------------------------\n"
          ]
        },
        {
          "output_type": "stream",
          "name": "stderr",
          "text": [
            "Training: 100%|██████████| 314/314 [00:10<00:00, 30.81it/s, Loss=1.3830, Acc=45.97%]\n",
            "Validation: 100%|██████████| 68/68 [00:01<00:00, 36.92it/s]\n"
          ]
        },
        {
          "output_type": "stream",
          "name": "stdout",
          "text": [
            "Epoch 8/10:\n",
            "  Train Loss: 1.4082, Train Acc: 45.97%\n",
            "  Val Loss: 1.2784, Val Acc: 50.80%\n",
            "  LR: 0.001000, Time: 12.04s\n",
            "--------------------------------------------------\n"
          ]
        },
        {
          "output_type": "stream",
          "name": "stderr",
          "text": [
            "Training: 100%|██████████| 314/314 [00:10<00:00, 30.65it/s, Loss=1.2514, Acc=46.26%]\n",
            "Validation: 100%|██████████| 68/68 [00:01<00:00, 38.22it/s]\n"
          ]
        },
        {
          "output_type": "stream",
          "name": "stdout",
          "text": [
            "Epoch 9/10:\n",
            "  Train Loss: 1.3906, Train Acc: 46.26%\n",
            "  Val Loss: 1.2568, Val Acc: 51.13%\n",
            "  LR: 0.001000, Time: 12.03s\n",
            "--------------------------------------------------\n"
          ]
        },
        {
          "output_type": "stream",
          "name": "stderr",
          "text": [
            "Training: 100%|██████████| 314/314 [00:10<00:00, 30.64it/s, Loss=1.2859, Acc=47.01%]\n",
            "Validation: 100%|██████████| 68/68 [00:01<00:00, 36.64it/s]"
          ]
        },
        {
          "output_type": "stream",
          "name": "stdout",
          "text": [
            "Epoch 10/10:\n",
            "  Train Loss: 1.3704, Train Acc: 47.01%\n",
            "  Val Loss: 1.2604, Val Acc: 51.20%\n",
            "  LR: 0.001000, Time: 12.11s\n",
            "--------------------------------------------------\n",
            "Loaded best model with validation accuracy: 51.20%\n"
          ]
        },
        {
          "output_type": "stream",
          "name": "stderr",
          "text": [
            "\n"
          ]
        },
        {
          "output_type": "display_data",
          "data": {
            "text/plain": [
              "<IPython.core.display.HTML object>"
            ],
            "text/html": []
          },
          "metadata": {}
        },
        {
          "output_type": "display_data",
          "data": {
            "text/plain": [
              "<IPython.core.display.HTML object>"
            ],
            "text/html": [
              "<br>    <style><br>        .wandb-row {<br>            display: flex;<br>            flex-direction: row;<br>            flex-wrap: wrap;<br>            justify-content: flex-start;<br>            width: 100%;<br>        }<br>        .wandb-col {<br>            display: flex;<br>            flex-direction: column;<br>            flex-basis: 100%;<br>            flex: 1;<br>            padding: 10px;<br>        }<br>    </style><br><div class=\"wandb-row\"><div class=\"wandb-col\"><h3>Run history:</h3><br/><table class=\"wandb\"><tr><td>best_val_accuracy</td><td>▁▅▆▇▇█████</td></tr><tr><td>epoch</td><td>▁▂▃▃▄▅▆▆▇█</td></tr><tr><td>epoch_time</td><td>▁▆▂▂▂▄█▃▂▅</td></tr><tr><td>learning_rate</td><td>▁▁▁▁▁▁▁▁▁▁</td></tr><tr><td>train_accuracy</td><td>▁▄▅▆▇▇▇███</td></tr><tr><td>train_loss</td><td>█▅▄▃▃▂▂▂▁▁</td></tr><tr><td>val_accuracy</td><td>▁▅▆▇▇█▇███</td></tr><tr><td>val_loss</td><td>█▅▄▃▃▂▂▁▁▁</td></tr></table><br/></div><div class=\"wandb-col\"><h3>Run summary:</h3><br/><table class=\"wandb\"><tr><td>best_val_accuracy</td><td>51.19573</td></tr><tr><td>epoch</td><td>10</td></tr><tr><td>epoch_time</td><td>12.11134</td></tr><tr><td>learning_rate</td><td>0.001</td></tr><tr><td>train_accuracy</td><td>47.00672</td></tr><tr><td>train_loss</td><td>1.37041</td></tr><tr><td>val_accuracy</td><td>51.19573</td></tr><tr><td>val_loss</td><td>1.2604</td></tr></table><br/></div></div>"
            ]
          },
          "metadata": {}
        },
        {
          "output_type": "display_data",
          "data": {
            "text/plain": [
              "<IPython.core.display.HTML object>"
            ],
            "text/html": [
              " View run <strong style=\"color:#cdcd00\">Config_large_first_kernel</strong> at: <a href='https://wandb.ai/nipkha21-free-university-of-tbilisi-/facial-expression-recognition/runs/lbt5kx0s' target=\"_blank\">https://wandb.ai/nipkha21-free-university-of-tbilisi-/facial-expression-recognition/runs/lbt5kx0s</a><br> View project at: <a href='https://wandb.ai/nipkha21-free-university-of-tbilisi-/facial-expression-recognition' target=\"_blank\">https://wandb.ai/nipkha21-free-university-of-tbilisi-/facial-expression-recognition</a><br>Synced 5 W&B file(s), 0 media file(s), 0 artifact file(s) and 0 other file(s)"
            ]
          },
          "metadata": {}
        },
        {
          "output_type": "display_data",
          "data": {
            "text/plain": [
              "<IPython.core.display.HTML object>"
            ],
            "text/html": [
              "Find logs at: <code>./wandb/run-20250608_070558-lbt5kx0s/logs</code>"
            ]
          },
          "metadata": {}
        },
        {
          "output_type": "stream",
          "name": "stdout",
          "text": [
            "\n",
            "Testing CNN configuration: more_filters\n"
          ]
        },
        {
          "output_type": "display_data",
          "data": {
            "text/plain": [
              "<IPython.core.display.HTML object>"
            ],
            "text/html": [
              "Tracking run with wandb version 0.19.11"
            ]
          },
          "metadata": {}
        },
        {
          "output_type": "display_data",
          "data": {
            "text/plain": [
              "<IPython.core.display.HTML object>"
            ],
            "text/html": [
              "Run data is saved locally in <code>/content/wandb/run-20250608_070803-le7dsqk2</code>"
            ]
          },
          "metadata": {}
        },
        {
          "output_type": "display_data",
          "data": {
            "text/plain": [
              "<IPython.core.display.HTML object>"
            ],
            "text/html": [
              "Syncing run <strong><a href='https://wandb.ai/nipkha21-free-university-of-tbilisi-/facial-expression-recognition/runs/le7dsqk2' target=\"_blank\">Config_more_filters</a></strong> to <a href='https://wandb.ai/nipkha21-free-university-of-tbilisi-/facial-expression-recognition' target=\"_blank\">Weights & Biases</a> (<a href='https://wandb.me/developer-guide' target=\"_blank\">docs</a>)<br>"
            ]
          },
          "metadata": {}
        },
        {
          "output_type": "display_data",
          "data": {
            "text/plain": [
              "<IPython.core.display.HTML object>"
            ],
            "text/html": [
              " View project at <a href='https://wandb.ai/nipkha21-free-university-of-tbilisi-/facial-expression-recognition' target=\"_blank\">https://wandb.ai/nipkha21-free-university-of-tbilisi-/facial-expression-recognition</a>"
            ]
          },
          "metadata": {}
        },
        {
          "output_type": "display_data",
          "data": {
            "text/plain": [
              "<IPython.core.display.HTML object>"
            ],
            "text/html": [
              " View run at <a href='https://wandb.ai/nipkha21-free-university-of-tbilisi-/facial-expression-recognition/runs/le7dsqk2' target=\"_blank\">https://wandb.ai/nipkha21-free-university-of-tbilisi-/facial-expression-recognition/runs/le7dsqk2</a>"
            ]
          },
          "metadata": {}
        },
        {
          "output_type": "stream",
          "name": "stdout",
          "text": [
            "Starting CNN training for 10 epochs...\n"
          ]
        },
        {
          "output_type": "stream",
          "name": "stderr",
          "text": [
            "Training: 100%|██████████| 314/314 [00:10<00:00, 30.48it/s, Loss=1.8280, Acc=24.54%]\n",
            "Validation: 100%|██████████| 68/68 [00:01<00:00, 37.92it/s]\n"
          ]
        },
        {
          "output_type": "stream",
          "name": "stdout",
          "text": [
            "Epoch 1/10:\n",
            "  Train Loss: 1.8945, Train Acc: 24.54%\n",
            "  Val Loss: 1.7082, Val Acc: 29.07%\n",
            "  LR: 0.001000, Time: 12.10s\n",
            "--------------------------------------------------\n"
          ]
        },
        {
          "output_type": "stream",
          "name": "stderr",
          "text": [
            "Training: 100%|██████████| 314/314 [00:10<00:00, 30.29it/s, Loss=1.5189, Acc=31.34%]\n",
            "Validation: 100%|██████████| 68/68 [00:01<00:00, 38.21it/s]\n"
          ]
        },
        {
          "output_type": "stream",
          "name": "stdout",
          "text": [
            "Epoch 2/10:\n",
            "  Train Loss: 1.6885, Train Acc: 31.34%\n",
            "  Val Loss: 1.5517, Val Acc: 38.98%\n",
            "  LR: 0.001000, Time: 12.15s\n",
            "--------------------------------------------------\n"
          ]
        },
        {
          "output_type": "stream",
          "name": "stderr",
          "text": [
            "Training: 100%|██████████| 314/314 [00:10<00:00, 30.72it/s, Loss=1.6707, Acc=35.71%]\n",
            "Validation: 100%|██████████| 68/68 [00:01<00:00, 37.70it/s]\n"
          ]
        },
        {
          "output_type": "stream",
          "name": "stdout",
          "text": [
            "Epoch 3/10:\n",
            "  Train Loss: 1.6055, Train Acc: 35.71%\n",
            "  Val Loss: 1.4925, Val Acc: 42.63%\n",
            "  LR: 0.001000, Time: 12.03s\n",
            "--------------------------------------------------\n"
          ]
        },
        {
          "output_type": "stream",
          "name": "stderr",
          "text": [
            "Training: 100%|██████████| 314/314 [00:10<00:00, 30.51it/s, Loss=1.6187, Acc=37.58%]\n",
            "Validation: 100%|██████████| 68/68 [00:01<00:00, 38.03it/s]\n"
          ]
        },
        {
          "output_type": "stream",
          "name": "stdout",
          "text": [
            "Epoch 4/10:\n",
            "  Train Loss: 1.5650, Train Acc: 37.58%\n",
            "  Val Loss: 1.4391, Val Acc: 43.49%\n",
            "  LR: 0.001000, Time: 12.09s\n",
            "--------------------------------------------------\n"
          ]
        },
        {
          "output_type": "stream",
          "name": "stderr",
          "text": [
            "Training: 100%|██████████| 314/314 [00:10<00:00, 30.45it/s, Loss=1.6156, Acc=38.41%]\n",
            "Validation: 100%|██████████| 68/68 [00:01<00:00, 37.52it/s]\n"
          ]
        },
        {
          "output_type": "stream",
          "name": "stdout",
          "text": [
            "Epoch 5/10:\n",
            "  Train Loss: 1.5450, Train Acc: 38.41%\n",
            "  Val Loss: 1.3958, Val Acc: 46.23%\n",
            "  LR: 0.001000, Time: 12.13s\n",
            "--------------------------------------------------\n"
          ]
        },
        {
          "output_type": "stream",
          "name": "stderr",
          "text": [
            "Training: 100%|██████████| 314/314 [00:10<00:00, 30.64it/s, Loss=1.5389, Acc=39.67%]\n",
            "Validation: 100%|██████████| 68/68 [00:01<00:00, 37.94it/s]\n"
          ]
        },
        {
          "output_type": "stream",
          "name": "stdout",
          "text": [
            "Epoch 6/10:\n",
            "  Train Loss: 1.5181, Train Acc: 39.67%\n",
            "  Val Loss: 1.3769, Val Acc: 45.72%\n",
            "  LR: 0.001000, Time: 12.05s\n",
            "--------------------------------------------------\n"
          ]
        },
        {
          "output_type": "stream",
          "name": "stderr",
          "text": [
            "Training: 100%|██████████| 314/314 [00:10<00:00, 30.92it/s, Loss=1.4911, Acc=41.00%]\n",
            "Validation: 100%|██████████| 68/68 [00:01<00:00, 38.09it/s]\n"
          ]
        },
        {
          "output_type": "stream",
          "name": "stdout",
          "text": [
            "Epoch 7/10:\n",
            "  Train Loss: 1.4927, Train Acc: 41.00%\n",
            "  Val Loss: 1.3549, Val Acc: 47.36%\n",
            "  LR: 0.001000, Time: 11.95s\n",
            "--------------------------------------------------\n"
          ]
        },
        {
          "output_type": "stream",
          "name": "stderr",
          "text": [
            "Training: 100%|██████████| 314/314 [00:10<00:00, 30.88it/s, Loss=1.4462, Acc=41.41%]\n",
            "Validation: 100%|██████████| 68/68 [00:01<00:00, 37.90it/s]\n"
          ]
        },
        {
          "output_type": "stream",
          "name": "stdout",
          "text": [
            "Epoch 8/10:\n",
            "  Train Loss: 1.4797, Train Acc: 41.41%\n",
            "  Val Loss: 1.3035, Val Acc: 50.68%\n",
            "  LR: 0.001000, Time: 11.97s\n",
            "--------------------------------------------------\n"
          ]
        },
        {
          "output_type": "stream",
          "name": "stderr",
          "text": [
            "Training: 100%|██████████| 314/314 [00:10<00:00, 30.74it/s, Loss=1.3545, Acc=42.08%]\n",
            "Validation: 100%|██████████| 68/68 [00:01<00:00, 38.04it/s]\n"
          ]
        },
        {
          "output_type": "stream",
          "name": "stdout",
          "text": [
            "Epoch 9/10:\n",
            "  Train Loss: 1.4630, Train Acc: 42.08%\n",
            "  Val Loss: 1.3135, Val Acc: 48.76%\n",
            "  LR: 0.001000, Time: 12.01s\n",
            "--------------------------------------------------\n"
          ]
        },
        {
          "output_type": "stream",
          "name": "stderr",
          "text": [
            "Training: 100%|██████████| 314/314 [00:10<00:00, 30.91it/s, Loss=1.3743, Acc=42.99%]\n",
            "Validation: 100%|██████████| 68/68 [00:01<00:00, 38.10it/s]"
          ]
        },
        {
          "output_type": "stream",
          "name": "stdout",
          "text": [
            "Epoch 10/10:\n",
            "  Train Loss: 1.4526, Train Acc: 42.99%\n",
            "  Val Loss: 1.2836, Val Acc: 50.57%\n",
            "  LR: 0.001000, Time: 11.95s\n",
            "--------------------------------------------------\n",
            "Loaded best model with validation accuracy: 50.68%\n"
          ]
        },
        {
          "output_type": "stream",
          "name": "stderr",
          "text": [
            "\n"
          ]
        },
        {
          "output_type": "display_data",
          "data": {
            "text/plain": [
              "<IPython.core.display.HTML object>"
            ],
            "text/html": []
          },
          "metadata": {}
        },
        {
          "output_type": "display_data",
          "data": {
            "text/plain": [
              "<IPython.core.display.HTML object>"
            ],
            "text/html": [
              "<br>    <style><br>        .wandb-row {<br>            display: flex;<br>            flex-direction: row;<br>            flex-wrap: wrap;<br>            justify-content: flex-start;<br>            width: 100%;<br>        }<br>        .wandb-col {<br>            display: flex;<br>            flex-direction: column;<br>            flex-basis: 100%;<br>            flex: 1;<br>            padding: 10px;<br>        }<br>    </style><br><div class=\"wandb-row\"><div class=\"wandb-col\"><h3>Run history:</h3><br/><table class=\"wandb\"><tr><td>best_val_accuracy</td><td>▁▄▅▆▇▇▇███</td></tr><tr><td>epoch</td><td>▁▂▃▃▄▅▆▆▇█</td></tr><tr><td>epoch_time</td><td>▆█▄▆▇▄▁▂▃▁</td></tr><tr><td>learning_rate</td><td>▁▁▁▁▁▁▁▁▁▁</td></tr><tr><td>train_accuracy</td><td>▁▄▅▆▆▇▇▇██</td></tr><tr><td>train_loss</td><td>█▅▃▃▂▂▂▁▁▁</td></tr><tr><td>val_accuracy</td><td>▁▄▅▆▇▆▇█▇█</td></tr><tr><td>val_loss</td><td>█▅▄▄▃▃▂▁▁▁</td></tr></table><br/></div><div class=\"wandb-col\"><h3>Run summary:</h3><br/><table class=\"wandb\"><tr><td>best_val_accuracy</td><td>50.68493</td></tr><tr><td>epoch</td><td>10</td></tr><tr><td>epoch_time</td><td>11.94995</td></tr><tr><td>learning_rate</td><td>0.001</td></tr><tr><td>train_accuracy</td><td>42.99079</td></tr><tr><td>train_loss</td><td>1.4526</td></tr><tr><td>val_accuracy</td><td>50.56884</td></tr><tr><td>val_loss</td><td>1.28363</td></tr></table><br/></div></div>"
            ]
          },
          "metadata": {}
        },
        {
          "output_type": "display_data",
          "data": {
            "text/plain": [
              "<IPython.core.display.HTML object>"
            ],
            "text/html": [
              " View run <strong style=\"color:#cdcd00\">Config_more_filters</strong> at: <a href='https://wandb.ai/nipkha21-free-university-of-tbilisi-/facial-expression-recognition/runs/le7dsqk2' target=\"_blank\">https://wandb.ai/nipkha21-free-university-of-tbilisi-/facial-expression-recognition/runs/le7dsqk2</a><br> View project at: <a href='https://wandb.ai/nipkha21-free-university-of-tbilisi-/facial-expression-recognition' target=\"_blank\">https://wandb.ai/nipkha21-free-university-of-tbilisi-/facial-expression-recognition</a><br>Synced 5 W&B file(s), 0 media file(s), 0 artifact file(s) and 0 other file(s)"
            ]
          },
          "metadata": {}
        },
        {
          "output_type": "display_data",
          "data": {
            "text/plain": [
              "<IPython.core.display.HTML object>"
            ],
            "text/html": [
              "Find logs at: <code>./wandb/run-20250608_070803-le7dsqk2/logs</code>"
            ]
          },
          "metadata": {}
        },
        {
          "output_type": "stream",
          "name": "stdout",
          "text": [
            "\n",
            "Testing CNN configuration: decreasing_kernels\n"
          ]
        },
        {
          "output_type": "display_data",
          "data": {
            "text/plain": [
              "<IPython.core.display.HTML object>"
            ],
            "text/html": [
              "Tracking run with wandb version 0.19.11"
            ]
          },
          "metadata": {}
        },
        {
          "output_type": "display_data",
          "data": {
            "text/plain": [
              "<IPython.core.display.HTML object>"
            ],
            "text/html": [
              "Run data is saved locally in <code>/content/wandb/run-20250608_071007-t0dznmv7</code>"
            ]
          },
          "metadata": {}
        },
        {
          "output_type": "display_data",
          "data": {
            "text/plain": [
              "<IPython.core.display.HTML object>"
            ],
            "text/html": [
              "Syncing run <strong><a href='https://wandb.ai/nipkha21-free-university-of-tbilisi-/facial-expression-recognition/runs/t0dznmv7' target=\"_blank\">Config_decreasing_kernels</a></strong> to <a href='https://wandb.ai/nipkha21-free-university-of-tbilisi-/facial-expression-recognition' target=\"_blank\">Weights & Biases</a> (<a href='https://wandb.me/developer-guide' target=\"_blank\">docs</a>)<br>"
            ]
          },
          "metadata": {}
        },
        {
          "output_type": "display_data",
          "data": {
            "text/plain": [
              "<IPython.core.display.HTML object>"
            ],
            "text/html": [
              " View project at <a href='https://wandb.ai/nipkha21-free-university-of-tbilisi-/facial-expression-recognition' target=\"_blank\">https://wandb.ai/nipkha21-free-university-of-tbilisi-/facial-expression-recognition</a>"
            ]
          },
          "metadata": {}
        },
        {
          "output_type": "display_data",
          "data": {
            "text/plain": [
              "<IPython.core.display.HTML object>"
            ],
            "text/html": [
              " View run at <a href='https://wandb.ai/nipkha21-free-university-of-tbilisi-/facial-expression-recognition/runs/t0dznmv7' target=\"_blank\">https://wandb.ai/nipkha21-free-university-of-tbilisi-/facial-expression-recognition/runs/t0dznmv7</a>"
            ]
          },
          "metadata": {}
        },
        {
          "output_type": "stream",
          "name": "stdout",
          "text": [
            "Starting CNN training for 10 epochs...\n"
          ]
        },
        {
          "output_type": "stream",
          "name": "stderr",
          "text": [
            "Training: 100%|██████████| 314/314 [00:10<00:00, 30.47it/s, Loss=1.7591, Acc=26.71%]\n",
            "Validation: 100%|██████████| 68/68 [00:01<00:00, 37.50it/s]\n"
          ]
        },
        {
          "output_type": "stream",
          "name": "stdout",
          "text": [
            "Epoch 1/10:\n",
            "  Train Loss: 1.8226, Train Acc: 26.71%\n",
            "  Val Loss: 1.6839, Val Acc: 32.88%\n",
            "  LR: 0.001000, Time: 12.13s\n",
            "--------------------------------------------------\n"
          ]
        },
        {
          "output_type": "stream",
          "name": "stderr",
          "text": [
            "Training: 100%|██████████| 314/314 [00:10<00:00, 30.58it/s, Loss=1.4710, Acc=34.29%]\n",
            "Validation: 100%|██████████| 68/68 [00:01<00:00, 36.91it/s]\n"
          ]
        },
        {
          "output_type": "stream",
          "name": "stdout",
          "text": [
            "Epoch 2/10:\n",
            "  Train Loss: 1.6585, Train Acc: 34.29%\n",
            "  Val Loss: 1.5639, Val Acc: 38.61%\n",
            "  LR: 0.001000, Time: 12.12s\n",
            "--------------------------------------------------\n"
          ]
        },
        {
          "output_type": "stream",
          "name": "stderr",
          "text": [
            "Training: 100%|██████████| 314/314 [00:10<00:00, 30.78it/s, Loss=1.6519, Acc=38.74%]\n",
            "Validation: 100%|██████████| 68/68 [00:01<00:00, 38.07it/s]\n"
          ]
        },
        {
          "output_type": "stream",
          "name": "stdout",
          "text": [
            "Epoch 3/10:\n",
            "  Train Loss: 1.5629, Train Acc: 38.74%\n",
            "  Val Loss: 1.4428, Val Acc: 44.21%\n",
            "  LR: 0.001000, Time: 11.99s\n",
            "--------------------------------------------------\n"
          ]
        },
        {
          "output_type": "stream",
          "name": "stderr",
          "text": [
            "Training: 100%|██████████| 314/314 [00:10<00:00, 30.55it/s, Loss=1.4377, Acc=40.56%]\n",
            "Validation: 100%|██████████| 68/68 [00:01<00:00, 38.08it/s]\n"
          ]
        },
        {
          "output_type": "stream",
          "name": "stdout",
          "text": [
            "Epoch 4/10:\n",
            "  Train Loss: 1.5147, Train Acc: 40.56%\n",
            "  Val Loss: 1.4128, Val Acc: 44.93%\n",
            "  LR: 0.001000, Time: 12.07s\n",
            "--------------------------------------------------\n"
          ]
        },
        {
          "output_type": "stream",
          "name": "stderr",
          "text": [
            "Training: 100%|██████████| 314/314 [00:10<00:00, 30.39it/s, Loss=1.6176, Acc=42.89%]\n",
            "Validation: 100%|██████████| 68/68 [00:01<00:00, 37.94it/s]\n"
          ]
        },
        {
          "output_type": "stream",
          "name": "stdout",
          "text": [
            "Epoch 5/10:\n",
            "  Train Loss: 1.4755, Train Acc: 42.89%\n",
            "  Val Loss: 1.3500, Val Acc: 48.25%\n",
            "  LR: 0.001000, Time: 12.13s\n",
            "--------------------------------------------------\n"
          ]
        },
        {
          "output_type": "stream",
          "name": "stderr",
          "text": [
            "Training: 100%|██████████| 314/314 [00:10<00:00, 30.35it/s, Loss=1.3167, Acc=44.11%]\n",
            "Validation: 100%|██████████| 68/68 [00:01<00:00, 38.28it/s]\n"
          ]
        },
        {
          "output_type": "stream",
          "name": "stdout",
          "text": [
            "Epoch 6/10:\n",
            "  Train Loss: 1.4492, Train Acc: 44.11%\n",
            "  Val Loss: 1.3343, Val Acc: 47.55%\n",
            "  LR: 0.001000, Time: 12.13s\n",
            "--------------------------------------------------\n"
          ]
        },
        {
          "output_type": "stream",
          "name": "stderr",
          "text": [
            "Training: 100%|██████████| 314/314 [00:10<00:00, 31.00it/s, Loss=1.4501, Acc=44.78%]\n",
            "Validation: 100%|██████████| 68/68 [00:01<00:00, 36.47it/s]\n"
          ]
        },
        {
          "output_type": "stream",
          "name": "stdout",
          "text": [
            "Epoch 7/10:\n",
            "  Train Loss: 1.4265, Train Acc: 44.78%\n",
            "  Val Loss: 1.2946, Val Acc: 49.15%\n",
            "  LR: 0.001000, Time: 12.00s\n",
            "--------------------------------------------------\n"
          ]
        },
        {
          "output_type": "stream",
          "name": "stderr",
          "text": [
            "Training: 100%|██████████| 314/314 [00:10<00:00, 30.25it/s, Loss=1.2036, Acc=45.72%]\n",
            "Validation: 100%|██████████| 68/68 [00:01<00:00, 36.54it/s]\n"
          ]
        },
        {
          "output_type": "stream",
          "name": "stdout",
          "text": [
            "Epoch 8/10:\n",
            "  Train Loss: 1.3990, Train Acc: 45.72%\n",
            "  Val Loss: 1.3117, Val Acc: 48.01%\n",
            "  LR: 0.001000, Time: 12.25s\n",
            "--------------------------------------------------\n"
          ]
        },
        {
          "output_type": "stream",
          "name": "stderr",
          "text": [
            "Training: 100%|██████████| 314/314 [00:10<00:00, 30.55it/s, Loss=1.4293, Acc=46.03%]\n",
            "Validation: 100%|██████████| 68/68 [00:01<00:00, 38.44it/s]\n"
          ]
        },
        {
          "output_type": "stream",
          "name": "stdout",
          "text": [
            "Epoch 9/10:\n",
            "  Train Loss: 1.3918, Train Acc: 46.03%\n",
            "  Val Loss: 1.2515, Val Acc: 51.75%\n",
            "  LR: 0.001000, Time: 12.05s\n",
            "--------------------------------------------------\n"
          ]
        },
        {
          "output_type": "stream",
          "name": "stderr",
          "text": [
            "Training: 100%|██████████| 314/314 [00:10<00:00, 30.52it/s, Loss=1.3620, Acc=47.59%]\n",
            "Validation: 100%|██████████| 68/68 [00:01<00:00, 38.33it/s]"
          ]
        },
        {
          "output_type": "stream",
          "name": "stdout",
          "text": [
            "Epoch 10/10:\n",
            "  Train Loss: 1.3663, Train Acc: 47.59%\n",
            "  Val Loss: 1.2518, Val Acc: 51.20%\n",
            "  LR: 0.001000, Time: 12.07s\n",
            "--------------------------------------------------\n",
            "Loaded best model with validation accuracy: 51.75%\n"
          ]
        },
        {
          "output_type": "stream",
          "name": "stderr",
          "text": [
            "\n"
          ]
        },
        {
          "output_type": "display_data",
          "data": {
            "text/plain": [
              "<IPython.core.display.HTML object>"
            ],
            "text/html": []
          },
          "metadata": {}
        },
        {
          "output_type": "display_data",
          "data": {
            "text/plain": [
              "<IPython.core.display.HTML object>"
            ],
            "text/html": [
              "<br>    <style><br>        .wandb-row {<br>            display: flex;<br>            flex-direction: row;<br>            flex-wrap: wrap;<br>            justify-content: flex-start;<br>            width: 100%;<br>        }<br>        .wandb-col {<br>            display: flex;<br>            flex-direction: column;<br>            flex-basis: 100%;<br>            flex: 1;<br>            padding: 10px;<br>        }<br>    </style><br><div class=\"wandb-row\"><div class=\"wandb-col\"><h3>Run history:</h3><br/><table class=\"wandb\"><tr><td>best_val_accuracy</td><td>▁▃▅▅▇▇▇▇██</td></tr><tr><td>epoch</td><td>▁▂▃▃▄▅▆▆▇█</td></tr><tr><td>epoch_time</td><td>▅▄▁▃▅▅▁█▃▃</td></tr><tr><td>learning_rate</td><td>▁▁▁▁▁▁▁▁▁▁</td></tr><tr><td>train_accuracy</td><td>▁▄▅▆▆▇▇▇▇█</td></tr><tr><td>train_loss</td><td>█▅▄▃▃▂▂▂▁▁</td></tr><tr><td>val_accuracy</td><td>▁▃▅▅▇▆▇▇██</td></tr><tr><td>val_loss</td><td>█▆▄▄▃▂▂▂▁▁</td></tr></table><br/></div><div class=\"wandb-col\"><h3>Run summary:</h3><br/><table class=\"wandb\"><tr><td>best_val_accuracy</td><td>51.75296</td></tr><tr><td>epoch</td><td>10</td></tr><tr><td>epoch_time</td><td>12.06876</td></tr><tr><td>learning_rate</td><td>0.001</td></tr><tr><td>train_accuracy</td><td>47.59393</td></tr><tr><td>train_loss</td><td>1.36626</td></tr><tr><td>val_accuracy</td><td>51.19573</td></tr><tr><td>val_loss</td><td>1.25181</td></tr></table><br/></div></div>"
            ]
          },
          "metadata": {}
        },
        {
          "output_type": "display_data",
          "data": {
            "text/plain": [
              "<IPython.core.display.HTML object>"
            ],
            "text/html": [
              " View run <strong style=\"color:#cdcd00\">Config_decreasing_kernels</strong> at: <a href='https://wandb.ai/nipkha21-free-university-of-tbilisi-/facial-expression-recognition/runs/t0dznmv7' target=\"_blank\">https://wandb.ai/nipkha21-free-university-of-tbilisi-/facial-expression-recognition/runs/t0dznmv7</a><br> View project at: <a href='https://wandb.ai/nipkha21-free-university-of-tbilisi-/facial-expression-recognition' target=\"_blank\">https://wandb.ai/nipkha21-free-university-of-tbilisi-/facial-expression-recognition</a><br>Synced 5 W&B file(s), 0 media file(s), 0 artifact file(s) and 0 other file(s)"
            ]
          },
          "metadata": {}
        },
        {
          "output_type": "display_data",
          "data": {
            "text/plain": [
              "<IPython.core.display.HTML object>"
            ],
            "text/html": [
              "Find logs at: <code>./wandb/run-20250608_071007-t0dznmv7/logs</code>"
            ]
          },
          "metadata": {}
        },
        {
          "output_type": "stream",
          "name": "stdout",
          "text": [
            "\n",
            "Testing CNN configuration: fewer_filters\n"
          ]
        },
        {
          "output_type": "display_data",
          "data": {
            "text/plain": [
              "<IPython.core.display.HTML object>"
            ],
            "text/html": [
              "Tracking run with wandb version 0.19.11"
            ]
          },
          "metadata": {}
        },
        {
          "output_type": "display_data",
          "data": {
            "text/plain": [
              "<IPython.core.display.HTML object>"
            ],
            "text/html": [
              "Run data is saved locally in <code>/content/wandb/run-20250608_071212-mz1v8fy3</code>"
            ]
          },
          "metadata": {}
        },
        {
          "output_type": "display_data",
          "data": {
            "text/plain": [
              "<IPython.core.display.HTML object>"
            ],
            "text/html": [
              "Syncing run <strong><a href='https://wandb.ai/nipkha21-free-university-of-tbilisi-/facial-expression-recognition/runs/mz1v8fy3' target=\"_blank\">Config_fewer_filters</a></strong> to <a href='https://wandb.ai/nipkha21-free-university-of-tbilisi-/facial-expression-recognition' target=\"_blank\">Weights & Biases</a> (<a href='https://wandb.me/developer-guide' target=\"_blank\">docs</a>)<br>"
            ]
          },
          "metadata": {}
        },
        {
          "output_type": "display_data",
          "data": {
            "text/plain": [
              "<IPython.core.display.HTML object>"
            ],
            "text/html": [
              " View project at <a href='https://wandb.ai/nipkha21-free-university-of-tbilisi-/facial-expression-recognition' target=\"_blank\">https://wandb.ai/nipkha21-free-university-of-tbilisi-/facial-expression-recognition</a>"
            ]
          },
          "metadata": {}
        },
        {
          "output_type": "display_data",
          "data": {
            "text/plain": [
              "<IPython.core.display.HTML object>"
            ],
            "text/html": [
              " View run at <a href='https://wandb.ai/nipkha21-free-university-of-tbilisi-/facial-expression-recognition/runs/mz1v8fy3' target=\"_blank\">https://wandb.ai/nipkha21-free-university-of-tbilisi-/facial-expression-recognition/runs/mz1v8fy3</a>"
            ]
          },
          "metadata": {}
        },
        {
          "output_type": "stream",
          "name": "stdout",
          "text": [
            "Starting CNN training for 10 epochs...\n"
          ]
        },
        {
          "output_type": "stream",
          "name": "stderr",
          "text": [
            "Training: 100%|██████████| 314/314 [00:10<00:00, 30.09it/s, Loss=1.6647, Acc=27.39%]\n",
            "Validation: 100%|██████████| 68/68 [00:01<00:00, 37.88it/s]\n"
          ]
        },
        {
          "output_type": "stream",
          "name": "stdout",
          "text": [
            "Epoch 1/10:\n",
            "  Train Loss: 1.7931, Train Acc: 27.39%\n",
            "  Val Loss: 1.6304, Val Acc: 35.87%\n",
            "  LR: 0.001000, Time: 12.24s\n",
            "--------------------------------------------------\n"
          ]
        },
        {
          "output_type": "stream",
          "name": "stderr",
          "text": [
            "Training: 100%|██████████| 314/314 [00:10<00:00, 31.03it/s, Loss=1.5062, Acc=35.20%]\n",
            "Validation: 100%|██████████| 68/68 [00:01<00:00, 38.12it/s]\n"
          ]
        },
        {
          "output_type": "stream",
          "name": "stdout",
          "text": [
            "Epoch 2/10:\n",
            "  Train Loss: 1.6343, Train Acc: 35.20%\n",
            "  Val Loss: 1.5180, Val Acc: 38.89%\n",
            "  LR: 0.001000, Time: 11.91s\n",
            "--------------------------------------------------\n"
          ]
        },
        {
          "output_type": "stream",
          "name": "stderr",
          "text": [
            "Training: 100%|██████████| 314/314 [00:10<00:00, 30.79it/s, Loss=1.5051, Acc=38.93%]\n",
            "Validation: 100%|██████████| 68/68 [00:01<00:00, 38.23it/s]\n"
          ]
        },
        {
          "output_type": "stream",
          "name": "stdout",
          "text": [
            "Epoch 3/10:\n",
            "  Train Loss: 1.5595, Train Acc: 38.93%\n",
            "  Val Loss: 1.4343, Val Acc: 43.58%\n",
            "  LR: 0.001000, Time: 11.99s\n",
            "--------------------------------------------------\n"
          ]
        },
        {
          "output_type": "stream",
          "name": "stderr",
          "text": [
            "Training: 100%|██████████| 314/314 [00:10<00:00, 30.62it/s, Loss=1.7349, Acc=41.26%]\n",
            "Validation: 100%|██████████| 68/68 [00:01<00:00, 37.81it/s]\n"
          ]
        },
        {
          "output_type": "stream",
          "name": "stdout",
          "text": [
            "Epoch 4/10:\n",
            "  Train Loss: 1.5065, Train Acc: 41.26%\n",
            "  Val Loss: 1.4319, Val Acc: 44.72%\n",
            "  LR: 0.001000, Time: 12.06s\n",
            "--------------------------------------------------\n"
          ]
        },
        {
          "output_type": "stream",
          "name": "stderr",
          "text": [
            "Training: 100%|██████████| 314/314 [00:10<00:00, 30.99it/s, Loss=1.4693, Acc=42.52%]\n",
            "Validation: 100%|██████████| 68/68 [00:01<00:00, 37.24it/s]\n"
          ]
        },
        {
          "output_type": "stream",
          "name": "stdout",
          "text": [
            "Epoch 5/10:\n",
            "  Train Loss: 1.4741, Train Acc: 42.52%\n",
            "  Val Loss: 1.3722, Val Acc: 46.09%\n",
            "  LR: 0.001000, Time: 11.97s\n",
            "--------------------------------------------------\n"
          ]
        },
        {
          "output_type": "stream",
          "name": "stderr",
          "text": [
            "Training: 100%|██████████| 314/314 [00:10<00:00, 30.56it/s, Loss=1.6961, Acc=43.57%]\n",
            "Validation: 100%|██████████| 68/68 [00:01<00:00, 37.57it/s]\n"
          ]
        },
        {
          "output_type": "stream",
          "name": "stdout",
          "text": [
            "Epoch 6/10:\n",
            "  Train Loss: 1.4484, Train Acc: 43.57%\n",
            "  Val Loss: 1.3220, Val Acc: 49.34%\n",
            "  LR: 0.001000, Time: 12.09s\n",
            "--------------------------------------------------\n"
          ]
        },
        {
          "output_type": "stream",
          "name": "stderr",
          "text": [
            "Training: 100%|██████████| 314/314 [00:10<00:00, 30.47it/s, Loss=1.2377, Acc=44.76%]\n",
            "Validation: 100%|██████████| 68/68 [00:01<00:00, 35.16it/s]\n"
          ]
        },
        {
          "output_type": "stream",
          "name": "stdout",
          "text": [
            "Epoch 7/10:\n",
            "  Train Loss: 1.4303, Train Acc: 44.76%\n",
            "  Val Loss: 1.3721, Val Acc: 46.85%\n",
            "  LR: 0.001000, Time: 12.25s\n",
            "--------------------------------------------------\n"
          ]
        },
        {
          "output_type": "stream",
          "name": "stderr",
          "text": [
            "Training: 100%|██████████| 314/314 [00:10<00:00, 30.71it/s, Loss=1.3981, Acc=45.29%]\n",
            "Validation: 100%|██████████| 68/68 [00:01<00:00, 38.33it/s]\n"
          ]
        },
        {
          "output_type": "stream",
          "name": "stdout",
          "text": [
            "Epoch 8/10:\n",
            "  Train Loss: 1.4119, Train Acc: 45.29%\n",
            "  Val Loss: 1.2678, Val Acc: 51.34%\n",
            "  LR: 0.001000, Time: 12.01s\n",
            "--------------------------------------------------\n"
          ]
        },
        {
          "output_type": "stream",
          "name": "stderr",
          "text": [
            "Training: 100%|██████████| 314/314 [00:10<00:00, 30.52it/s, Loss=1.4074, Acc=46.61%]\n",
            "Validation: 100%|██████████| 68/68 [00:01<00:00, 38.23it/s]\n"
          ]
        },
        {
          "output_type": "stream",
          "name": "stdout",
          "text": [
            "Epoch 9/10:\n",
            "  Train Loss: 1.3842, Train Acc: 46.61%\n",
            "  Val Loss: 1.2469, Val Acc: 52.40%\n",
            "  LR: 0.001000, Time: 12.07s\n",
            "--------------------------------------------------\n"
          ]
        },
        {
          "output_type": "stream",
          "name": "stderr",
          "text": [
            "Training: 100%|██████████| 314/314 [00:10<00:00, 30.51it/s, Loss=1.4266, Acc=46.84%]\n",
            "Validation: 100%|██████████| 68/68 [00:01<00:00, 36.43it/s]"
          ]
        },
        {
          "output_type": "stream",
          "name": "stdout",
          "text": [
            "Epoch 10/10:\n",
            "  Train Loss: 1.3834, Train Acc: 46.84%\n",
            "  Val Loss: 1.2486, Val Acc: 52.22%\n",
            "  LR: 0.001000, Time: 12.17s\n",
            "--------------------------------------------------\n",
            "Loaded best model with validation accuracy: 52.40%\n"
          ]
        },
        {
          "output_type": "stream",
          "name": "stderr",
          "text": [
            "\n"
          ]
        },
        {
          "output_type": "display_data",
          "data": {
            "text/plain": [
              "<IPython.core.display.HTML object>"
            ],
            "text/html": []
          },
          "metadata": {}
        },
        {
          "output_type": "display_data",
          "data": {
            "text/plain": [
              "<IPython.core.display.HTML object>"
            ],
            "text/html": [
              "<br>    <style><br>        .wandb-row {<br>            display: flex;<br>            flex-direction: row;<br>            flex-wrap: wrap;<br>            justify-content: flex-start;<br>            width: 100%;<br>        }<br>        .wandb-col {<br>            display: flex;<br>            flex-direction: column;<br>            flex-basis: 100%;<br>            flex: 1;<br>            padding: 10px;<br>        }<br>    </style><br><div class=\"wandb-row\"><div class=\"wandb-col\"><h3>Run history:</h3><br/><table class=\"wandb\"><tr><td>best_val_accuracy</td><td>▁▂▄▅▅▇▇███</td></tr><tr><td>epoch</td><td>▁▂▃▃▄▅▆▆▇█</td></tr><tr><td>epoch_time</td><td>█▁▃▄▂▅█▃▄▆</td></tr><tr><td>learning_rate</td><td>▁▁▁▁▁▁▁▁▁▁</td></tr><tr><td>train_accuracy</td><td>▁▄▅▆▆▇▇▇██</td></tr><tr><td>train_loss</td><td>█▅▄▃▃▂▂▁▁▁</td></tr><tr><td>val_accuracy</td><td>▁▂▄▅▅▇▆███</td></tr><tr><td>val_loss</td><td>█▆▄▄▃▂▃▁▁▁</td></tr></table><br/></div><div class=\"wandb-col\"><h3>Run summary:</h3><br/><table class=\"wandb\"><tr><td>best_val_accuracy</td><td>52.40306</td></tr><tr><td>epoch</td><td>10</td></tr><tr><td>epoch_time</td><td>12.16564</td></tr><tr><td>learning_rate</td><td>0.001</td></tr><tr><td>train_accuracy</td><td>46.8425</td></tr><tr><td>train_loss</td><td>1.38344</td></tr><tr><td>val_accuracy</td><td>52.21732</td></tr><tr><td>val_loss</td><td>1.24857</td></tr></table><br/></div></div>"
            ]
          },
          "metadata": {}
        },
        {
          "output_type": "display_data",
          "data": {
            "text/plain": [
              "<IPython.core.display.HTML object>"
            ],
            "text/html": [
              " View run <strong style=\"color:#cdcd00\">Config_fewer_filters</strong> at: <a href='https://wandb.ai/nipkha21-free-university-of-tbilisi-/facial-expression-recognition/runs/mz1v8fy3' target=\"_blank\">https://wandb.ai/nipkha21-free-university-of-tbilisi-/facial-expression-recognition/runs/mz1v8fy3</a><br> View project at: <a href='https://wandb.ai/nipkha21-free-university-of-tbilisi-/facial-expression-recognition' target=\"_blank\">https://wandb.ai/nipkha21-free-university-of-tbilisi-/facial-expression-recognition</a><br>Synced 5 W&B file(s), 0 media file(s), 0 artifact file(s) and 0 other file(s)"
            ]
          },
          "metadata": {}
        },
        {
          "output_type": "display_data",
          "data": {
            "text/plain": [
              "<IPython.core.display.HTML object>"
            ],
            "text/html": [
              "Find logs at: <code>./wandb/run-20250608_071212-mz1v8fy3/logs</code>"
            ]
          },
          "metadata": {}
        },
        {
          "output_type": "stream",
          "name": "stdout",
          "text": [
            "\n",
            "=== CONFIGURATION ANALYSIS ===\n",
            "baseline: 51.94% (687,047 params)\n",
            "large_first_kernel: 51.20% (687,559 params)\n",
            "more_filters: 50.68% (1,554,311 params)\n",
            "decreasing_kernels: 51.75% (721,095 params)\n",
            "fewer_filters: 52.40% (322,535 params)\n"
          ]
        }
      ]
    },
    {
      "cell_type": "code",
      "source": [
        "print(\"=== TRAINING BEST SIMPLE CNN ===\")\n",
        "\n",
        "best_config = max(config_results.keys(),\n",
        "                 key=lambda x: config_results[x]['best_val_acc'])\n",
        "\n",
        "print(f\"Best configuration: {best_config}\")\n",
        "print(f\"Best augmentation: {best_augmentation}\")\n",
        "print(f\"Best architecture: {best_architecture}\")\n",
        "\n",
        "if 'transform' in best_aug_config:\n",
        "    train_dataset = CNNFacialExpressionDataset(\n",
        "        train_df, transform=best_aug_config['transform'], augment=False\n",
        "    )\n",
        "    val_dataset = CNNFacialExpressionDataset(\n",
        "        val_df, transform=A.Compose([\n",
        "            A.Normalize(mean=[0.485], std=[0.229]),\n",
        "            ToTensorV2()\n",
        "        ]), augment=False\n",
        "    )\n",
        "else:\n",
        "    train_dataset = CNNFacialExpressionDataset(\n",
        "        train_df, augment=best_aug_config['augment']\n",
        "    )\n",
        "    val_dataset = CNNFacialExpressionDataset(\n",
        "        val_df, augment=False\n",
        "    )\n",
        "\n",
        "train_loader = DataLoader(train_dataset, batch_size=64, shuffle=True, num_workers=2)\n",
        "val_loader = DataLoader(val_dataset, batch_size=64, shuffle=False, num_workers=2)\n",
        "\n",
        "if best_architecture == 'improved_cnn':\n",
        "    final_model = ImprovedSimpleCNN(num_classes=7, dropout_rate=0.3, use_batch_norm=True)\n",
        "else:\n",
        "    final_model = SimpleCNN(num_classes=7, dropout_rate=0.3)\n",
        "\n",
        "criterion = nn.CrossEntropyLoss()\n",
        "optimizer = optim.Adam(final_model.parameters(), lr=0.001, weight_decay=1e-4)\n",
        "scheduler = ReduceLROnPlateau(optimizer, mode='min', factor=0.5, patience=7, verbose=True)\n",
        "\n",
        "final_trainer = CNNTrainer(\n",
        "    model=final_model,\n",
        "    train_loader=train_loader,\n",
        "    val_loader=val_loader,\n",
        "    criterion=criterion,\n",
        "    optimizer=optimizer,\n",
        "    scheduler=scheduler,\n",
        "    device=device,\n",
        "    experiment_name=\"Simple_CNN_Training\",\n",
        "    run_name=\"Simple_CNN_Final\"\n",
        ")\n",
        "\n",
        "final_history = final_trainer.train(epochs=10, early_stopping_patience=12)\n",
        "\n",
        "wandb.finish()\n",
        "\n",
        "print(f\"✅ Final Simple CNN training completed!\")\n",
        "print(f\"📊 Best validation accuracy: {final_trainer.best_val_acc:.4f}\")"
      ],
      "metadata": {
        "colab": {
          "base_uri": "https://localhost:8080/",
          "height": 1000
        },
        "id": "Nv_92Vi0ZC6X",
        "outputId": "64ae28eb-a17d-486b-9284-7c11530b22cf"
      },
      "execution_count": null,
      "outputs": [
        {
          "output_type": "stream",
          "name": "stdout",
          "text": [
            "=== TRAINING BEST SIMPLE CNN ===\n",
            "Best configuration: fewer_filters\n",
            "Best augmentation: advanced_augmentation\n",
            "Best architecture: simple_cnn_low_dropout\n"
          ]
        },
        {
          "output_type": "display_data",
          "data": {
            "text/plain": [
              "<IPython.core.display.HTML object>"
            ],
            "text/html": [
              "Finishing previous runs because reinit is set to True."
            ]
          },
          "metadata": {}
        },
        {
          "output_type": "display_data",
          "data": {
            "text/plain": [
              "<IPython.core.display.HTML object>"
            ],
            "text/html": []
          },
          "metadata": {}
        },
        {
          "output_type": "display_data",
          "data": {
            "text/plain": [
              "<IPython.core.display.HTML object>"
            ],
            "text/html": [
              " View run <strong style=\"color:#cdcd00\">Simple_CNN_Final</strong> at: <a href='https://wandb.ai/nipkha21-free-university-of-tbilisi-/facial-expression-recognition/runs/9a43jkh6' target=\"_blank\">https://wandb.ai/nipkha21-free-university-of-tbilisi-/facial-expression-recognition/runs/9a43jkh6</a><br> View project at: <a href='https://wandb.ai/nipkha21-free-university-of-tbilisi-/facial-expression-recognition' target=\"_blank\">https://wandb.ai/nipkha21-free-university-of-tbilisi-/facial-expression-recognition</a><br>Synced 5 W&B file(s), 0 media file(s), 0 artifact file(s) and 0 other file(s)"
            ]
          },
          "metadata": {}
        },
        {
          "output_type": "display_data",
          "data": {
            "text/plain": [
              "<IPython.core.display.HTML object>"
            ],
            "text/html": [
              "Find logs at: <code>./wandb/run-20250608_071721-9a43jkh6/logs</code>"
            ]
          },
          "metadata": {}
        },
        {
          "output_type": "display_data",
          "data": {
            "text/plain": [
              "<IPython.core.display.HTML object>"
            ],
            "text/html": [
              "Tracking run with wandb version 0.19.11"
            ]
          },
          "metadata": {}
        },
        {
          "output_type": "display_data",
          "data": {
            "text/plain": [
              "<IPython.core.display.HTML object>"
            ],
            "text/html": [
              "Run data is saved locally in <code>/content/wandb/run-20250608_071733-mjrjlgdq</code>"
            ]
          },
          "metadata": {}
        },
        {
          "output_type": "display_data",
          "data": {
            "text/plain": [
              "<IPython.core.display.HTML object>"
            ],
            "text/html": [
              "Syncing run <strong><a href='https://wandb.ai/nipkha21-free-university-of-tbilisi-/facial-expression-recognition/runs/mjrjlgdq' target=\"_blank\">Simple_CNN_Final</a></strong> to <a href='https://wandb.ai/nipkha21-free-university-of-tbilisi-/facial-expression-recognition' target=\"_blank\">Weights & Biases</a> (<a href='https://wandb.me/developer-guide' target=\"_blank\">docs</a>)<br>"
            ]
          },
          "metadata": {}
        },
        {
          "output_type": "display_data",
          "data": {
            "text/plain": [
              "<IPython.core.display.HTML object>"
            ],
            "text/html": [
              " View project at <a href='https://wandb.ai/nipkha21-free-university-of-tbilisi-/facial-expression-recognition' target=\"_blank\">https://wandb.ai/nipkha21-free-university-of-tbilisi-/facial-expression-recognition</a>"
            ]
          },
          "metadata": {}
        },
        {
          "output_type": "display_data",
          "data": {
            "text/plain": [
              "<IPython.core.display.HTML object>"
            ],
            "text/html": [
              " View run at <a href='https://wandb.ai/nipkha21-free-university-of-tbilisi-/facial-expression-recognition/runs/mjrjlgdq' target=\"_blank\">https://wandb.ai/nipkha21-free-university-of-tbilisi-/facial-expression-recognition/runs/mjrjlgdq</a>"
            ]
          },
          "metadata": {}
        },
        {
          "output_type": "stream",
          "name": "stdout",
          "text": [
            "Starting CNN training for 10 epochs...\n"
          ]
        },
        {
          "output_type": "stream",
          "name": "stderr",
          "text": [
            "Training: 100%|██████████| 314/314 [00:10<00:00, 30.28it/s, Loss=1.4980, Acc=32.31%]\n",
            "Validation: 100%|██████████| 68/68 [00:01<00:00, 37.19it/s]\n"
          ]
        },
        {
          "output_type": "stream",
          "name": "stdout",
          "text": [
            "Epoch 1/10:\n",
            "  Train Loss: 1.6891, Train Acc: 32.31%\n",
            "  Val Loss: 1.5338, Val Acc: 40.21%\n",
            "  LR: 0.001000, Time: 12.20s\n",
            "--------------------------------------------------\n"
          ]
        },
        {
          "output_type": "stream",
          "name": "stderr",
          "text": [
            "Training: 100%|██████████| 314/314 [00:10<00:00, 30.19it/s, Loss=1.6061, Acc=41.97%]\n",
            "Validation: 100%|██████████| 68/68 [00:01<00:00, 37.60it/s]\n"
          ]
        },
        {
          "output_type": "stream",
          "name": "stdout",
          "text": [
            "Epoch 2/10:\n",
            "  Train Loss: 1.4936, Train Acc: 41.97%\n",
            "  Val Loss: 1.3582, Val Acc: 48.29%\n",
            "  LR: 0.001000, Time: 12.22s\n",
            "--------------------------------------------------\n"
          ]
        },
        {
          "output_type": "stream",
          "name": "stderr",
          "text": [
            "Training: 100%|██████████| 314/314 [00:10<00:00, 30.47it/s, Loss=1.3247, Acc=45.62%]\n",
            "Validation: 100%|██████████| 68/68 [00:01<00:00, 37.48it/s]\n"
          ]
        },
        {
          "output_type": "stream",
          "name": "stdout",
          "text": [
            "Epoch 3/10:\n",
            "  Train Loss: 1.4056, Train Acc: 45.62%\n",
            "  Val Loss: 1.2731, Val Acc: 52.29%\n",
            "  LR: 0.001000, Time: 12.13s\n",
            "--------------------------------------------------\n"
          ]
        },
        {
          "output_type": "stream",
          "name": "stderr",
          "text": [
            "Training: 100%|██████████| 314/314 [00:10<00:00, 30.54it/s, Loss=1.5061, Acc=48.33%]\n",
            "Validation: 100%|██████████| 68/68 [00:01<00:00, 38.04it/s]\n"
          ]
        },
        {
          "output_type": "stream",
          "name": "stdout",
          "text": [
            "Epoch 4/10:\n",
            "  Train Loss: 1.3437, Train Acc: 48.33%\n",
            "  Val Loss: 1.2255, Val Acc: 53.54%\n",
            "  LR: 0.001000, Time: 12.08s\n",
            "--------------------------------------------------\n"
          ]
        },
        {
          "output_type": "stream",
          "name": "stderr",
          "text": [
            "Training: 100%|██████████| 314/314 [00:10<00:00, 30.25it/s, Loss=1.4100, Acc=49.68%]\n",
            "Validation: 100%|██████████| 68/68 [00:01<00:00, 37.99it/s]\n"
          ]
        },
        {
          "output_type": "stream",
          "name": "stdout",
          "text": [
            "Epoch 5/10:\n",
            "  Train Loss: 1.3077, Train Acc: 49.68%\n",
            "  Val Loss: 1.2081, Val Acc: 53.91%\n",
            "  LR: 0.001000, Time: 12.18s\n",
            "--------------------------------------------------\n"
          ]
        },
        {
          "output_type": "stream",
          "name": "stderr",
          "text": [
            "Training: 100%|██████████| 314/314 [00:10<00:00, 30.91it/s, Loss=1.1076, Acc=51.80%]\n",
            "Validation: 100%|██████████| 68/68 [00:01<00:00, 37.47it/s]\n"
          ]
        },
        {
          "output_type": "stream",
          "name": "stdout",
          "text": [
            "Epoch 6/10:\n",
            "  Train Loss: 1.2725, Train Acc: 51.80%\n",
            "  Val Loss: 1.2031, Val Acc: 53.98%\n",
            "  LR: 0.001000, Time: 11.98s\n",
            "--------------------------------------------------\n"
          ]
        },
        {
          "output_type": "stream",
          "name": "stderr",
          "text": [
            "Training: 100%|██████████| 314/314 [00:10<00:00, 31.07it/s, Loss=1.3230, Acc=52.44%]\n",
            "Validation: 100%|██████████| 68/68 [00:01<00:00, 37.09it/s]\n"
          ]
        },
        {
          "output_type": "stream",
          "name": "stdout",
          "text": [
            "Epoch 7/10:\n",
            "  Train Loss: 1.2452, Train Acc: 52.44%\n",
            "  Val Loss: 1.1774, Val Acc: 54.14%\n",
            "  LR: 0.001000, Time: 11.95s\n",
            "--------------------------------------------------\n"
          ]
        },
        {
          "output_type": "stream",
          "name": "stderr",
          "text": [
            "Training: 100%|██████████| 314/314 [00:10<00:00, 31.00it/s, Loss=1.0544, Acc=53.30%]\n",
            "Validation: 100%|██████████| 68/68 [00:01<00:00, 37.25it/s]\n"
          ]
        },
        {
          "output_type": "stream",
          "name": "stdout",
          "text": [
            "Epoch 8/10:\n",
            "  Train Loss: 1.2238, Train Acc: 53.30%\n",
            "  Val Loss: 1.1506, Val Acc: 56.91%\n",
            "  LR: 0.001000, Time: 11.96s\n",
            "--------------------------------------------------\n"
          ]
        },
        {
          "output_type": "stream",
          "name": "stderr",
          "text": [
            "Training: 100%|██████████| 314/314 [00:10<00:00, 30.92it/s, Loss=1.2942, Acc=54.81%]\n",
            "Validation: 100%|██████████| 68/68 [00:01<00:00, 37.08it/s]\n"
          ]
        },
        {
          "output_type": "stream",
          "name": "stdout",
          "text": [
            "Epoch 9/10:\n",
            "  Train Loss: 1.1968, Train Acc: 54.81%\n",
            "  Val Loss: 1.1401, Val Acc: 56.72%\n",
            "  LR: 0.001000, Time: 12.00s\n",
            "--------------------------------------------------\n"
          ]
        },
        {
          "output_type": "stream",
          "name": "stderr",
          "text": [
            "Training: 100%|██████████| 314/314 [00:10<00:00, 31.14it/s, Loss=1.3261, Acc=55.06%]\n",
            "Validation: 100%|██████████| 68/68 [00:01<00:00, 37.07it/s]"
          ]
        },
        {
          "output_type": "stream",
          "name": "stdout",
          "text": [
            "Epoch 10/10:\n",
            "  Train Loss: 1.1765, Train Acc: 55.06%\n",
            "  Val Loss: 1.1239, Val Acc: 57.02%\n",
            "  LR: 0.001000, Time: 11.92s\n",
            "--------------------------------------------------\n",
            "Loaded best model with validation accuracy: 57.02%\n"
          ]
        },
        {
          "output_type": "stream",
          "name": "stderr",
          "text": [
            "\n"
          ]
        },
        {
          "output_type": "display_data",
          "data": {
            "text/plain": [
              "<IPython.core.display.HTML object>"
            ],
            "text/html": []
          },
          "metadata": {}
        },
        {
          "output_type": "display_data",
          "data": {
            "text/plain": [
              "<IPython.core.display.HTML object>"
            ],
            "text/html": [
              "<br>    <style><br>        .wandb-row {<br>            display: flex;<br>            flex-direction: row;<br>            flex-wrap: wrap;<br>            justify-content: flex-start;<br>            width: 100%;<br>        }<br>        .wandb-col {<br>            display: flex;<br>            flex-direction: column;<br>            flex-basis: 100%;<br>            flex: 1;<br>            padding: 10px;<br>        }<br>    </style><br><div class=\"wandb-row\"><div class=\"wandb-col\"><h3>Run history:</h3><br/><table class=\"wandb\"><tr><td>best_val_accuracy</td><td>▁▄▆▇▇▇▇███</td></tr><tr><td>epoch</td><td>▁▂▃▃▄▅▆▆▇█</td></tr><tr><td>epoch_time</td><td>██▆▅▇▂▂▂▃▁</td></tr><tr><td>learning_rate</td><td>▁▁▁▁▁▁▁▁▁▁</td></tr><tr><td>train_accuracy</td><td>▁▄▅▆▆▇▇▇██</td></tr><tr><td>train_loss</td><td>█▅▄▃▃▂▂▂▁▁</td></tr><tr><td>val_accuracy</td><td>▁▄▆▇▇▇▇███</td></tr><tr><td>val_loss</td><td>█▅▄▃▂▂▂▁▁▁</td></tr></table><br/></div><div class=\"wandb-col\"><h3>Run summary:</h3><br/><table class=\"wandb\"><tr><td>best_val_accuracy</td><td>57.02345</td></tr><tr><td>epoch</td><td>10</td></tr><tr><td>epoch_time</td><td>11.92461</td></tr><tr><td>learning_rate</td><td>0.001</td></tr><tr><td>train_accuracy</td><td>55.05847</td></tr><tr><td>train_loss</td><td>1.17654</td></tr><tr><td>val_accuracy</td><td>57.02345</td></tr><tr><td>val_loss</td><td>1.12391</td></tr></table><br/></div></div>"
            ]
          },
          "metadata": {}
        },
        {
          "output_type": "display_data",
          "data": {
            "text/plain": [
              "<IPython.core.display.HTML object>"
            ],
            "text/html": [
              " View run <strong style=\"color:#cdcd00\">Simple_CNN_Final</strong> at: <a href='https://wandb.ai/nipkha21-free-university-of-tbilisi-/facial-expression-recognition/runs/mjrjlgdq' target=\"_blank\">https://wandb.ai/nipkha21-free-university-of-tbilisi-/facial-expression-recognition/runs/mjrjlgdq</a><br> View project at: <a href='https://wandb.ai/nipkha21-free-university-of-tbilisi-/facial-expression-recognition' target=\"_blank\">https://wandb.ai/nipkha21-free-university-of-tbilisi-/facial-expression-recognition</a><br>Synced 5 W&B file(s), 0 media file(s), 0 artifact file(s) and 0 other file(s)"
            ]
          },
          "metadata": {}
        },
        {
          "output_type": "display_data",
          "data": {
            "text/plain": [
              "<IPython.core.display.HTML object>"
            ],
            "text/html": [
              "Find logs at: <code>./wandb/run-20250608_071733-mjrjlgdq/logs</code>"
            ]
          },
          "metadata": {}
        },
        {
          "output_type": "stream",
          "name": "stdout",
          "text": [
            "✅ Final Simple CNN training completed!\n",
            "📊 Best validation accuracy: 57.0235\n"
          ]
        }
      ]
    },
    {
      "cell_type": "code",
      "source": [
        "print(\"=== SIMPLE CNN MODEL ANALYSIS ===\")\n",
        "\n",
        "final_model.eval()\n",
        "all_predictions = []\n",
        "all_targets = []\n",
        "all_probabilities = []\n",
        "\n",
        "with torch.no_grad():\n",
        "    for data, targets in val_loader:\n",
        "        data, targets = data.to(device), targets.to(device)\n",
        "        outputs = final_model(data)\n",
        "        probabilities = torch.softmax(outputs, dim=1)\n",
        "        predictions = torch.argmax(outputs, dim=1)\n",
        "\n",
        "        all_predictions.extend(predictions.cpu().numpy())\n",
        "        all_targets.extend(targets.cpu().numpy())\n",
        "        all_probabilities.extend(probabilities.cpu().numpy())\n",
        "\n",
        "all_predictions = np.array(all_predictions)\n",
        "all_targets = np.array(all_targets)\n",
        "all_probabilities = np.array(all_probabilities)\n",
        "\n",
        "from sklearn.metrics import accuracy_score, precision_recall_fscore_support, classification_report\n",
        "\n",
        "accuracy = accuracy_score(all_targets, all_predictions)\n",
        "precision, recall, f1, support = precision_recall_fscore_support(all_targets, all_predictions, average=None)\n",
        "\n",
        "print(f\"Final Validation Accuracy: {accuracy:.4f}\")\n",
        "print(f\"Mean F1 Score: {np.mean(f1):.4f}\")\n",
        "\n",
        "class_names = [emotion_map[i] for i in range(7)]\n",
        "report = classification_report(all_targets, all_predictions, target_names=class_names)\n",
        "print(\"\\nClassification Report:\")\n",
        "print(report)\n",
        "\n",
        "cm = confusion_matrix(all_targets, all_predictions)\n",
        "plt.figure(figsize=(10, 8))\n",
        "sns.heatmap(cm, annot=True, fmt='d', cmap='Blues',\n",
        "           xticklabels=class_names, yticklabels=class_names)\n",
        "plt.title('Simple CNN - Confusion Matrix')\n",
        "plt.xlabel('Predicted')\n",
        "plt.ylabel('Actual')\n",
        "plt.tight_layout()\n",
        "plt.savefig('simple_cnn_confusion_matrix.png', dpi=300, bbox_inches='tight')\n",
        "plt.show()\n",
        "\n",
        "fig, axes = plt.subplots(2, 2, figsize=(15, 10))\n",
        "\n",
        "axes[0, 0].plot(final_history['train_loss'], label='Train Loss', linewidth=2)\n",
        "axes[0, 0].plot(final_history['val_loss'], label='Val Loss', linewidth=2)\n",
        "axes[0, 0].set_title('Training and Validation Loss')\n",
        "axes[0, 0].set_xlabel('Epoch')\n",
        "axes[0, 0].set_ylabel('Loss')\n",
        "axes[0, 0].legend()\n",
        "axes[0, 0].grid(True, alpha=0.3)\n",
        "\n",
        "axes[0, 1].plot(final_history['train_acc'], label='Train Acc', linewidth=2)\n",
        "axes[0, 1].plot(final_history['val_acc'], label='Val Acc', linewidth=2)\n",
        "axes[0, 1].set_title('Training and Validation Accuracy')\n",
        "axes[0, 1].set_xlabel('Epoch')\n",
        "axes[0, 1].set_ylabel('Accuracy (%)')\n",
        "axes[0, 1].legend()\n",
        "axes[0, 1].grid(True, alpha=0.3)\n",
        "\n",
        "axes[1, 0].plot(final_history['learning_rates'], linewidth=2, color='orange')\n",
        "axes[1, 0].set_title('Learning Rate Schedule')\n",
        "axes[1, 0].set_xlabel('Epoch')\n",
        "axes[1, 0].set_ylabel('Learning Rate')\n",
        "axes[1, 0].set_yscale('log')\n",
        "axes[1, 0].grid(True, alpha=0.3)\n",
        "\n",
        "loss_gap = np.array(final_history['val_loss']) - np.array(final_history['train_loss'])\n",
        "axes[1, 1].plot(loss_gap, linewidth=2, color='red')\n",
        "axes[1, 1].axhline(y=0, color='black', linestyle='--', alpha=0.5)\n",
        "axes[1, 1].set_title('Overfitting Indicator')\n",
        "axes[1, 1].set_xlabel('Epoch')\n",
        "axes[1, 1].set_ylabel('Val Loss - Train Loss')\n",
        "axes[1, 1].grid(True, alpha=0.3)\n",
        "\n",
        "plt.tight_layout()\n",
        "plt.savefig('simple_cnn_training_analysis.png', dpi=300, bbox_inches='tight')\n",
        "plt.show()"
      ],
      "metadata": {
        "colab": {
          "base_uri": "https://localhost:8080/",
          "height": 1000
        },
        "id": "nkIY03kuZDDr",
        "outputId": "8dc879c9-58ea-4c19-cae5-e61e91fefd66"
      },
      "execution_count": null,
      "outputs": [
        {
          "output_type": "stream",
          "name": "stdout",
          "text": [
            "=== SIMPLE CNN MODEL ANALYSIS ===\n",
            "Final Validation Accuracy: 0.5702\n",
            "Mean F1 Score: 0.5108\n",
            "\n",
            "Classification Report:\n",
            "              precision    recall  f1-score   support\n",
            "\n",
            "       Angry       0.54      0.40      0.46       599\n",
            "     Disgust       0.73      0.17      0.28        65\n",
            "        Fear       0.51      0.28      0.36       615\n",
            "       Happy       0.74      0.82      0.78      1082\n",
            "         Sad       0.39      0.52      0.45       725\n",
            "    Surprise       0.77      0.67      0.72       476\n",
            "     Neutral       0.48      0.59      0.53       745\n",
            "\n",
            "    accuracy                           0.57      4307\n",
            "   macro avg       0.60      0.49      0.51      4307\n",
            "weighted avg       0.58      0.57      0.56      4307\n",
            "\n"
          ]
        },
        {
          "output_type": "display_data",
          "data": {
            "text/plain": [
              "<Figure size 1000x800 with 2 Axes>"
            ],
            "image/png": "[encoded data removed]"
          },
          "metadata": {}
        },
        {
          "output_type": "display_data",
          "data": {
            "text/plain": [
              "<Figure size 1500x1000 with 4 Axes>"
            ],
            "image/png": "[encoded data removed]"
          },
          "metadata": {}
        }
      ]
    },
    {
      "cell_type": "code",
      "source": [
        "print(\"=== SAVING SIMPLE CNN PIPELINE ===\")\n",
        "\n",
        "class SimpleCNNPipeline:\n",
        "\n",
        "    def __init__(self, model_state_dict, model_config):\n",
        "        self.model_config = model_config\n",
        "        self.emotion_map = {0: 'Angry', 1: 'Disgust', 2: 'Fear', 3: 'Happy', 4: 'Sad', 5: 'Surprise', 6: 'Neutral'}\n",
        "\n",
        "        if model_config['model_type'] == 'improved':\n",
        "            self.model = ImprovedSimpleCNN(**model_config['model_params'])\n",
        "        else:\n",
        "            self.model = SimpleCNN(num_classes=7, dropout_rate=0.3)\n",
        "\n",
        "        self.model.load_state_dict(model_state_dict)\n",
        "        self.model.eval()\n",
        "\n",
        "        self.transform = A.Compose([\n",
        "            A.Normalize(mean=[0.485], std=[0.229]),\n",
        "            ToTensorV2()\n",
        "        ])\n",
        "\n",
        "    def preprocess(self, pixels_string):\n",
        "        pixels = np.array([int(p) for p in pixels_string.split()]).reshape(48, 48)\n",
        "        image = np.stack([pixels] * 3, axis=-1).astype(np.uint8)\n",
        "\n",
        "        augmented = self.transform(image=image)\n",
        "        image_tensor = augmented['image']\n",
        "\n",
        "        if image_tensor.shape[0] == 3:\n",
        "            image_tensor = image_tensor[0:1, :, :]\n",
        "\n",
        "        return image_tensor.unsqueeze(0)\n",
        "\n",
        "    def predict(self, pixels_string):\n",
        "        with torch.no_grad():\n",
        "            input_tensor = self.preprocess(pixels_string)\n",
        "            output = self.model(input_tensor)\n",
        "            probabilities = torch.softmax(output, dim=1)\n",
        "            prediction = torch.argmax(output, dim=1)\n",
        "\n",
        "            return {\n",
        "                'predicted_class': int(prediction.item()),\n",
        "                'predicted_emotion': self.emotion_map[int(prediction.item())],\n",
        "                'confidence': float(probabilities.max().item()),\n",
        "                'all_probabilities': {\n",
        "                    self.emotion_map[i]: float(probabilities[0, i].item())\n",
        "                    for i in range(7)\n",
        "                }\n",
        "            }\n",
        "\n",
        "if isinstance(final_model, ImprovedSimpleCNN):\n",
        "    model_type = 'improved'\n",
        "    model_params = {\n",
        "        'num_classes': 7,\n",
        "        'dropout_rate': 0.3,\n",
        "        'use_batch_norm': True\n",
        "    }\n",
        "else:\n",
        "    model_type = 'simple'\n",
        "    model_params = {\n",
        "        'num_classes': 7,\n",
        "        'dropout_rate': 0.3,\n",
        "    }\n",
        "\n",
        "model_config = {\n",
        "    'model_type': model_type,\n",
        "    'model_params': model_params\n",
        "}\n",
        "\n",
        "pipeline = SimpleCNNPipeline(final_model.state_dict(), model_config)\n",
        "\n",
        "\n",
        "torch.save({\n",
        "    'model_state_dict': final_model.state_dict(),\n",
        "    'model_config': model_config,\n",
        "    'training_history': final_history,\n",
        "    'validation_accuracy': final_trainer.best_val_acc,\n",
        "    'evaluation_metrics': {\n",
        "        'accuracy': accuracy,\n",
        "        'per_class_f1': f1.tolist(),\n",
        "        'mean_f1': float(np.mean(f1)),\n",
        "        'confusion_matrix': cm.tolist()\n",
        "    },\n",
        "    'experiment_results': {\n",
        "        'augmentation_results': augmentation_results,\n",
        "        'architecture_results': architecture_results,\n",
        "        'config_results': config_results,\n",
        "        'best_configuration': {\n",
        "            'augmentation': best_augmentation,\n",
        "            'architecture': best_architecture,\n",
        "        },\n",
        "        'best_configuration': {\n",
        "            'augmentation': best_augmentation,\n",
        "            'architecture': best_architecture,\n",
        "            'config': best_config\n",
        "        }\n",
        "    }\n",
        "}, 'models/saved_pipelines/simple_cnn_pipeline.pth')\n",
        "\n",
        "print(\"✅ Simple CNN pipeline saved successfully!\")\n",
        "\n",
        "test_sample = val_df.iloc[0]['pixels']\n",
        "test_prediction = pipeline.predict(test_sample)\n",
        "print(f\"\\nPipeline test:\")\n",
        "print(f\"Predicted emotion: {test_prediction['predicted_emotion']}\")\n",
        "print(f\"Confidence: {test_prediction['confidence']:.4f}\")"
      ],
      "metadata": {
        "id": "JXJ0dk7HasWl",
        "outputId": "23cbecb1-917f-419c-b60e-03ef142b631d",
        "colab": {
          "base_uri": "https://localhost:8080/"
        }
      },
      "execution_count": null,
      "outputs": [
        {
          "output_type": "stream",
          "name": "stdout",
          "text": [
            "=== SAVING SIMPLE CNN PIPELINE ===\n",
            "✅ Simple CNN pipeline saved successfully!\n",
            "\n",
            "Pipeline test:\n",
            "Predicted emotion: Sad\n",
            "Confidence: 0.3698\n"
          ]
        }
      ]
    },
    {
      "cell_type": "code",
      "source": [
        "print(\"=== TRAINING BEST SIMPLE CNN ===\")\n",
        "\n",
        "train_dataset = CNNFacialExpressionDataset(\n",
        "    train_df, augment=True\n",
        ")\n",
        "val_dataset = CNNFacialExpressionDataset(\n",
        "    val_df, augment=False\n",
        ")\n",
        "\n",
        "train_loader = DataLoader(train_dataset, batch_size=64, shuffle=True, num_workers=2)\n",
        "val_loader = DataLoader(val_dataset, batch_size=64, shuffle=False, num_workers=2)\n",
        "final_model = SimpleCNN(num_classes=7, dropout_rate=0.3)\n",
        "\n",
        "criterion = nn.CrossEntropyLoss()\n",
        "optimizer = optim.Adam(final_model.parameters(), lr=0.001, weight_decay=1e-4)\n",
        "scheduler = ReduceLROnPlateau(optimizer, mode='min', factor=0.5, patience=7, verbose=True)\n",
        "\n",
        "final_trainer = CNNTrainer(\n",
        "    model=final_model,\n",
        "    train_loader=train_loader,\n",
        "    val_loader=val_loader,\n",
        "    criterion=criterion,\n",
        "    optimizer=optimizer,\n",
        "    scheduler=scheduler,\n",
        "    device=device,\n",
        "    experiment_name=\"Simple_CNN_Training\",\n",
        "    run_name=\"Simple_CNN_Final\"\n",
        ")\n",
        "\n",
        "final_history = final_trainer.train(epochs=50, early_stopping_patience=12)\n",
        "\n",
        "wandb.finish()\n",
        "\n",
        "print(f\"✅ Final Simple CNN training completed!\")\n",
        "print(f\"📊 Best validation accuracy: {final_trainer.best_val_acc:.4f}\")"
      ],
      "metadata": {
        "colab": {
          "base_uri": "https://localhost:8080/",
          "height": 1000
        },
        "id": "1qxZmqstKuOW",
        "outputId": "34e1825c-511d-40cb-e971-303cbfdb7337"
      },
      "execution_count": 13,
      "outputs": [
        {
          "output_type": "stream",
          "name": "stdout",
          "text": [
            "=== TRAINING BEST SIMPLE CNN ===\n"
          ]
        },
        {
          "output_type": "stream",
          "name": "stderr",
          "text": [
            "<ipython-input-5-e3e6e1c0bf17>:23: UserWarning: Argument(s) 'value' are not valid for transform Rotate\n",
            "  A.Rotate(limit=15, p=0.3, border_mode=cv2.BORDER_CONSTANT, value=0),\n",
            "<ipython-input-5-e3e6e1c0bf17>:25: UserWarning: Argument(s) 'var_limit' are not valid for transform GaussNoise\n",
            "  A.GaussNoise(var_limit=(10.0, 50.0), p=0.2),\n",
            "<ipython-input-5-e3e6e1c0bf17>:27: UserWarning: Argument(s) 'max_holes, max_height, max_width, min_holes, min_height, min_width' are not valid for transform CoarseDropout\n",
            "  A.CoarseDropout(max_holes=1, max_height=8, max_width=8,\n",
            "\u001b[34m\u001b[1mwandb\u001b[0m: \u001b[33mWARNING\u001b[0m Using a boolean value for 'reinit' is deprecated. Use 'return_previous' or 'finish_previous' instead.\n"
          ]
        },
        {
          "output_type": "display_data",
          "data": {
            "text/plain": [
              "<IPython.core.display.HTML object>"
            ],
            "text/html": [
              "Tracking run with wandb version 0.19.11"
            ]
          },
          "metadata": {}
        },
        {
          "output_type": "display_data",
          "data": {
            "text/plain": [
              "<IPython.core.display.HTML object>"
            ],
            "text/html": [
              "Run data is saved locally in <code>/content/wandb/run-20250608_110637-hyyqz5oz</code>"
            ]
          },
          "metadata": {}
        },
        {
          "output_type": "display_data",
          "data": {
            "text/plain": [
              "<IPython.core.display.HTML object>"
            ],
            "text/html": [
              "Syncing run <strong><a href='https://wandb.ai/nipkha21-free-university-of-tbilisi-/facial-expression-recognition/runs/hyyqz5oz' target=\"_blank\">Simple_CNN_Final</a></strong> to <a href='https://wandb.ai/nipkha21-free-university-of-tbilisi-/facial-expression-recognition' target=\"_blank\">Weights & Biases</a> (<a href='https://wandb.me/developer-guide' target=\"_blank\">docs</a>)<br>"
            ]
          },
          "metadata": {}
        },
        {
          "output_type": "display_data",
          "data": {
            "text/plain": [
              "<IPython.core.display.HTML object>"
            ],
            "text/html": [
              " View project at <a href='https://wandb.ai/nipkha21-free-university-of-tbilisi-/facial-expression-recognition' target=\"_blank\">https://wandb.ai/nipkha21-free-university-of-tbilisi-/facial-expression-recognition</a>"
            ]
          },
          "metadata": {}
        },
        {
          "output_type": "display_data",
          "data": {
            "text/plain": [
              "<IPython.core.display.HTML object>"
            ],
            "text/html": [
              " View run at <a href='https://wandb.ai/nipkha21-free-university-of-tbilisi-/facial-expression-recognition/runs/hyyqz5oz' target=\"_blank\">https://wandb.ai/nipkha21-free-university-of-tbilisi-/facial-expression-recognition/runs/hyyqz5oz</a>"
            ]
          },
          "metadata": {}
        },
        {
          "output_type": "stream",
          "name": "stdout",
          "text": [
            "Starting CNN training for 50 epochs...\n"
          ]
        },
        {
          "output_type": "stream",
          "name": "stderr",
          "text": [
            "Training: 100%|██████████| 314/314 [00:12<00:00, 24.26it/s, Loss=1.5318, Acc=30.58%]\n",
            "Validation: 100%|██████████| 68/68 [00:01<00:00, 37.37it/s]\n"
          ]
        },
        {
          "output_type": "stream",
          "name": "stdout",
          "text": [
            "Epoch 1/50:\n",
            "  Train Loss: 1.7291, Train Acc: 30.58%\n",
            "  Val Loss: 1.5856, Val Acc: 38.22%\n",
            "  LR: 0.001000, Time: 14.77s\n",
            "--------------------------------------------------\n"
          ]
        },
        {
          "output_type": "stream",
          "name": "stderr",
          "text": [
            "Training: 100%|██████████| 314/314 [00:11<00:00, 27.89it/s, Loss=1.6344, Acc=38.29%]\n",
            "Validation: 100%|██████████| 68/68 [00:01<00:00, 38.26it/s]\n"
          ]
        },
        {
          "output_type": "stream",
          "name": "stdout",
          "text": [
            "Epoch 2/50:\n",
            "  Train Loss: 1.5766, Train Acc: 38.29%\n",
            "  Val Loss: 1.4114, Val Acc: 45.65%\n",
            "  LR: 0.001000, Time: 13.04s\n",
            "--------------------------------------------------\n"
          ]
        },
        {
          "output_type": "stream",
          "name": "stderr",
          "text": [
            "Training: 100%|██████████| 314/314 [00:11<00:00, 28.00it/s, Loss=1.2801, Acc=42.38%]\n",
            "Validation: 100%|██████████| 68/68 [00:01<00:00, 38.80it/s]\n"
          ]
        },
        {
          "output_type": "stream",
          "name": "stdout",
          "text": [
            "Epoch 3/50:\n",
            "  Train Loss: 1.4825, Train Acc: 42.38%\n",
            "  Val Loss: 1.2960, Val Acc: 51.22%\n",
            "  LR: 0.001000, Time: 12.97s\n",
            "--------------------------------------------------\n"
          ]
        },
        {
          "output_type": "stream",
          "name": "stderr",
          "text": [
            "Training: 100%|██████████| 314/314 [00:11<00:00, 27.64it/s, Loss=1.3999, Acc=44.86%]\n",
            "Validation: 100%|██████████| 68/68 [00:01<00:00, 37.10it/s]\n"
          ]
        },
        {
          "output_type": "stream",
          "name": "stdout",
          "text": [
            "Epoch 4/50:\n",
            "  Train Loss: 1.4248, Train Acc: 44.86%\n",
            "  Val Loss: 1.2583, Val Acc: 52.52%\n",
            "  LR: 0.001000, Time: 13.20s\n",
            "--------------------------------------------------\n"
          ]
        },
        {
          "output_type": "stream",
          "name": "stderr",
          "text": [
            "Training: 100%|██████████| 314/314 [00:11<00:00, 28.02it/s, Loss=1.4006, Acc=46.26%]\n",
            "Validation: 100%|██████████| 68/68 [00:01<00:00, 38.37it/s]\n"
          ]
        },
        {
          "output_type": "stream",
          "name": "stdout",
          "text": [
            "Epoch 5/50:\n",
            "  Train Loss: 1.3913, Train Acc: 46.26%\n",
            "  Val Loss: 1.2409, Val Acc: 53.15%\n",
            "  LR: 0.001000, Time: 12.98s\n",
            "--------------------------------------------------\n"
          ]
        },
        {
          "output_type": "stream",
          "name": "stderr",
          "text": [
            "Training: 100%|██████████| 314/314 [00:11<00:00, 27.70it/s, Loss=1.0968, Acc=47.89%]\n",
            "Validation: 100%|██████████| 68/68 [00:01<00:00, 38.85it/s]\n"
          ]
        },
        {
          "output_type": "stream",
          "name": "stdout",
          "text": [
            "Epoch 6/50:\n",
            "  Train Loss: 1.3556, Train Acc: 47.89%\n",
            "  Val Loss: 1.2122, Val Acc: 54.14%\n",
            "  LR: 0.001000, Time: 13.09s\n",
            "--------------------------------------------------\n"
          ]
        },
        {
          "output_type": "stream",
          "name": "stderr",
          "text": [
            "Training: 100%|██████████| 314/314 [00:11<00:00, 27.62it/s, Loss=1.2013, Acc=48.40%]\n",
            "Validation: 100%|██████████| 68/68 [00:01<00:00, 39.14it/s]\n"
          ]
        },
        {
          "output_type": "stream",
          "name": "stdout",
          "text": [
            "Epoch 7/50:\n",
            "  Train Loss: 1.3384, Train Acc: 48.40%\n",
            "  Val Loss: 1.1772, Val Acc: 54.49%\n",
            "  LR: 0.001000, Time: 13.12s\n",
            "--------------------------------------------------\n"
          ]
        },
        {
          "output_type": "stream",
          "name": "stderr",
          "text": [
            "Training: 100%|██████████| 314/314 [00:11<00:00, 27.64it/s, Loss=1.5037, Acc=49.43%]\n",
            "Validation: 100%|██████████| 68/68 [00:01<00:00, 38.12it/s]\n"
          ]
        },
        {
          "output_type": "stream",
          "name": "stdout",
          "text": [
            "Epoch 8/50:\n",
            "  Train Loss: 1.3166, Train Acc: 49.43%\n",
            "  Val Loss: 1.1595, Val Acc: 56.21%\n",
            "  LR: 0.001000, Time: 13.15s\n",
            "--------------------------------------------------\n"
          ]
        },
        {
          "output_type": "stream",
          "name": "stderr",
          "text": [
            "Training: 100%|██████████| 314/314 [00:11<00:00, 27.70it/s, Loss=1.3374, Acc=49.69%]\n",
            "Validation: 100%|██████████| 68/68 [00:01<00:00, 37.85it/s]\n"
          ]
        },
        {
          "output_type": "stream",
          "name": "stdout",
          "text": [
            "Epoch 9/50:\n",
            "  Train Loss: 1.3045, Train Acc: 49.69%\n",
            "  Val Loss: 1.1496, Val Acc: 56.28%\n",
            "  LR: 0.001000, Time: 13.14s\n",
            "--------------------------------------------------\n"
          ]
        },
        {
          "output_type": "stream",
          "name": "stderr",
          "text": [
            "Training: 100%|██████████| 314/314 [00:11<00:00, 27.54it/s, Loss=1.2756, Acc=50.78%]\n",
            "Validation: 100%|██████████| 68/68 [00:01<00:00, 39.27it/s]\n"
          ]
        },
        {
          "output_type": "stream",
          "name": "stdout",
          "text": [
            "Epoch 10/50:\n",
            "  Train Loss: 1.2894, Train Acc: 50.78%\n",
            "  Val Loss: 1.1151, Val Acc: 57.84%\n",
            "  LR: 0.001000, Time: 13.14s\n",
            "--------------------------------------------------\n"
          ]
        },
        {
          "output_type": "stream",
          "name": "stderr",
          "text": [
            "Training: 100%|██████████| 314/314 [00:11<00:00, 27.78it/s, Loss=1.1483, Acc=51.70%]\n",
            "Validation: 100%|██████████| 68/68 [00:01<00:00, 38.40it/s]\n"
          ]
        },
        {
          "output_type": "stream",
          "name": "stdout",
          "text": [
            "Epoch 11/50:\n",
            "  Train Loss: 1.2645, Train Acc: 51.70%\n",
            "  Val Loss: 1.1238, Val Acc: 58.11%\n",
            "  LR: 0.001000, Time: 13.08s\n",
            "--------------------------------------------------\n"
          ]
        },
        {
          "output_type": "stream",
          "name": "stderr",
          "text": [
            "Training: 100%|██████████| 314/314 [00:11<00:00, 27.83it/s, Loss=1.0637, Acc=51.17%]\n",
            "Validation: 100%|██████████| 68/68 [00:01<00:00, 39.37it/s]\n"
          ]
        },
        {
          "output_type": "stream",
          "name": "stdout",
          "text": [
            "Epoch 12/50:\n",
            "  Train Loss: 1.2621, Train Acc: 51.17%\n",
            "  Val Loss: 1.1400, Val Acc: 56.51%\n",
            "  LR: 0.001000, Time: 13.02s\n",
            "--------------------------------------------------\n"
          ]
        },
        {
          "output_type": "stream",
          "name": "stderr",
          "text": [
            "Training: 100%|██████████| 314/314 [00:11<00:00, 27.88it/s, Loss=1.1261, Acc=52.35%]\n",
            "Validation: 100%|██████████| 68/68 [00:01<00:00, 39.24it/s]\n"
          ]
        },
        {
          "output_type": "stream",
          "name": "stdout",
          "text": [
            "Epoch 13/50:\n",
            "  Train Loss: 1.2489, Train Acc: 52.35%\n",
            "  Val Loss: 1.1231, Val Acc: 56.93%\n",
            "  LR: 0.001000, Time: 13.00s\n",
            "--------------------------------------------------\n"
          ]
        },
        {
          "output_type": "stream",
          "name": "stderr",
          "text": [
            "Training: 100%|██████████| 314/314 [00:11<00:00, 27.34it/s, Loss=1.2933, Acc=52.24%]\n",
            "Validation: 100%|██████████| 68/68 [00:01<00:00, 38.86it/s]\n"
          ]
        },
        {
          "output_type": "stream",
          "name": "stdout",
          "text": [
            "Epoch 14/50:\n",
            "  Train Loss: 1.2433, Train Acc: 52.24%\n",
            "  Val Loss: 1.1435, Val Acc: 56.93%\n",
            "  LR: 0.001000, Time: 13.24s\n",
            "--------------------------------------------------\n"
          ]
        },
        {
          "output_type": "stream",
          "name": "stderr",
          "text": [
            "Training: 100%|██████████| 314/314 [00:11<00:00, 27.96it/s, Loss=1.3503, Acc=52.88%]\n",
            "Validation: 100%|██████████| 68/68 [00:01<00:00, 38.86it/s]\n"
          ]
        },
        {
          "output_type": "stream",
          "name": "stdout",
          "text": [
            "Epoch 15/50:\n",
            "  Train Loss: 1.2342, Train Acc: 52.88%\n",
            "  Val Loss: 1.0968, Val Acc: 58.14%\n",
            "  LR: 0.001000, Time: 12.99s\n",
            "--------------------------------------------------\n"
          ]
        },
        {
          "output_type": "stream",
          "name": "stderr",
          "text": [
            "Training: 100%|██████████| 314/314 [00:11<00:00, 28.00it/s, Loss=1.1517, Acc=53.31%]\n",
            "Validation: 100%|██████████| 68/68 [00:01<00:00, 39.16it/s]\n"
          ]
        },
        {
          "output_type": "stream",
          "name": "stdout",
          "text": [
            "Epoch 16/50:\n",
            "  Train Loss: 1.2177, Train Acc: 53.31%\n",
            "  Val Loss: 1.1022, Val Acc: 57.42%\n",
            "  LR: 0.001000, Time: 12.96s\n",
            "--------------------------------------------------\n"
          ]
        },
        {
          "output_type": "stream",
          "name": "stderr",
          "text": [
            "Training: 100%|██████████| 314/314 [00:11<00:00, 27.66it/s, Loss=1.3574, Acc=53.77%]\n",
            "Validation: 100%|██████████| 68/68 [00:01<00:00, 36.87it/s]\n"
          ]
        },
        {
          "output_type": "stream",
          "name": "stdout",
          "text": [
            "Epoch 17/50:\n",
            "  Train Loss: 1.2063, Train Acc: 53.77%\n",
            "  Val Loss: 1.0941, Val Acc: 58.21%\n",
            "  LR: 0.001000, Time: 13.20s\n",
            "--------------------------------------------------\n"
          ]
        },
        {
          "output_type": "stream",
          "name": "stderr",
          "text": [
            "Training: 100%|██████████| 314/314 [00:11<00:00, 27.90it/s, Loss=1.2916, Acc=54.18%]\n",
            "Validation: 100%|██████████| 68/68 [00:01<00:00, 39.47it/s]\n"
          ]
        },
        {
          "output_type": "stream",
          "name": "stdout",
          "text": [
            "Epoch 18/50:\n",
            "  Train Loss: 1.2039, Train Acc: 54.18%\n",
            "  Val Loss: 1.0870, Val Acc: 58.74%\n",
            "  LR: 0.001000, Time: 12.98s\n",
            "--------------------------------------------------\n"
          ]
        },
        {
          "output_type": "stream",
          "name": "stderr",
          "text": [
            "Training: 100%|██████████| 314/314 [00:11<00:00, 27.81it/s, Loss=1.3137, Acc=54.49%]\n",
            "Validation: 100%|██████████| 68/68 [00:01<00:00, 37.14it/s]\n"
          ]
        },
        {
          "output_type": "stream",
          "name": "stdout",
          "text": [
            "Epoch 19/50:\n",
            "  Train Loss: 1.1985, Train Acc: 54.49%\n",
            "  Val Loss: 1.0970, Val Acc: 58.14%\n",
            "  LR: 0.001000, Time: 13.13s\n",
            "--------------------------------------------------\n"
          ]
        },
        {
          "output_type": "stream",
          "name": "stderr",
          "text": [
            "Training: 100%|██████████| 314/314 [00:11<00:00, 27.95it/s, Loss=1.1932, Acc=54.48%]\n",
            "Validation: 100%|██████████| 68/68 [00:01<00:00, 38.75it/s]\n"
          ]
        },
        {
          "output_type": "stream",
          "name": "stdout",
          "text": [
            "Epoch 20/50:\n",
            "  Train Loss: 1.1894, Train Acc: 54.48%\n",
            "  Val Loss: 1.0881, Val Acc: 58.65%\n",
            "  LR: 0.001000, Time: 13.00s\n",
            "--------------------------------------------------\n"
          ]
        },
        {
          "output_type": "stream",
          "name": "stderr",
          "text": [
            "Training: 100%|██████████| 314/314 [00:11<00:00, 27.54it/s, Loss=1.0361, Acc=54.77%]\n",
            "Validation: 100%|██████████| 68/68 [00:01<00:00, 38.73it/s]\n"
          ]
        },
        {
          "output_type": "stream",
          "name": "stdout",
          "text": [
            "Epoch 21/50:\n",
            "  Train Loss: 1.1790, Train Acc: 54.77%\n",
            "  Val Loss: 1.1051, Val Acc: 58.46%\n",
            "  LR: 0.001000, Time: 13.17s\n",
            "--------------------------------------------------\n"
          ]
        },
        {
          "output_type": "stream",
          "name": "stderr",
          "text": [
            "Training: 100%|██████████| 314/314 [00:11<00:00, 27.55it/s, Loss=1.0818, Acc=55.19%]\n",
            "Validation: 100%|██████████| 68/68 [00:01<00:00, 38.35it/s]\n"
          ]
        },
        {
          "output_type": "stream",
          "name": "stdout",
          "text": [
            "Epoch 22/50:\n",
            "  Train Loss: 1.1713, Train Acc: 55.19%\n",
            "  Val Loss: 1.0961, Val Acc: 58.93%\n",
            "  LR: 0.001000, Time: 13.18s\n",
            "--------------------------------------------------\n"
          ]
        },
        {
          "output_type": "stream",
          "name": "stderr",
          "text": [
            "Training: 100%|██████████| 314/314 [00:11<00:00, 27.64it/s, Loss=1.3072, Acc=55.32%]\n",
            "Validation: 100%|██████████| 68/68 [00:01<00:00, 38.98it/s]\n"
          ]
        },
        {
          "output_type": "stream",
          "name": "stdout",
          "text": [
            "Epoch 23/50:\n",
            "  Train Loss: 1.1663, Train Acc: 55.32%\n",
            "  Val Loss: 1.1033, Val Acc: 59.46%\n",
            "  LR: 0.001000, Time: 13.11s\n",
            "--------------------------------------------------\n"
          ]
        },
        {
          "output_type": "stream",
          "name": "stderr",
          "text": [
            "Training: 100%|██████████| 314/314 [00:11<00:00, 27.50it/s, Loss=1.1501, Acc=55.66%]\n",
            "Validation: 100%|██████████| 68/68 [00:01<00:00, 38.76it/s]\n"
          ]
        },
        {
          "output_type": "stream",
          "name": "stdout",
          "text": [
            "Epoch 24/50:\n",
            "  Train Loss: 1.1627, Train Acc: 55.66%\n",
            "  Val Loss: 1.0819, Val Acc: 59.14%\n",
            "  LR: 0.001000, Time: 13.18s\n",
            "--------------------------------------------------\n"
          ]
        },
        {
          "output_type": "stream",
          "name": "stderr",
          "text": [
            "Training: 100%|██████████| 314/314 [00:11<00:00, 27.73it/s, Loss=1.1652, Acc=55.62%]\n",
            "Validation: 100%|██████████| 68/68 [00:01<00:00, 37.78it/s]\n"
          ]
        },
        {
          "output_type": "stream",
          "name": "stdout",
          "text": [
            "Epoch 25/50:\n",
            "  Train Loss: 1.1604, Train Acc: 55.62%\n",
            "  Val Loss: 1.0728, Val Acc: 59.21%\n",
            "  LR: 0.001000, Time: 13.13s\n",
            "--------------------------------------------------\n"
          ]
        },
        {
          "output_type": "stream",
          "name": "stderr",
          "text": [
            "Training: 100%|██████████| 314/314 [00:11<00:00, 27.26it/s, Loss=1.0325, Acc=56.28%]\n",
            "Validation: 100%|██████████| 68/68 [00:01<00:00, 37.69it/s]\n"
          ]
        },
        {
          "output_type": "stream",
          "name": "stdout",
          "text": [
            "Epoch 26/50:\n",
            "  Train Loss: 1.1422, Train Acc: 56.28%\n",
            "  Val Loss: 1.0920, Val Acc: 59.41%\n",
            "  LR: 0.001000, Time: 13.33s\n",
            "--------------------------------------------------\n"
          ]
        },
        {
          "output_type": "stream",
          "name": "stderr",
          "text": [
            "Training: 100%|██████████| 314/314 [00:11<00:00, 27.96it/s, Loss=1.1996, Acc=56.09%]\n",
            "Validation: 100%|██████████| 68/68 [00:01<00:00, 37.78it/s]\n"
          ]
        },
        {
          "output_type": "stream",
          "name": "stdout",
          "text": [
            "Epoch 27/50:\n",
            "  Train Loss: 1.1433, Train Acc: 56.09%\n",
            "  Val Loss: 1.0827, Val Acc: 59.72%\n",
            "  LR: 0.001000, Time: 13.04s\n",
            "--------------------------------------------------\n"
          ]
        },
        {
          "output_type": "stream",
          "name": "stderr",
          "text": [
            "Training: 100%|██████████| 314/314 [00:11<00:00, 27.69it/s, Loss=1.1209, Acc=56.69%]\n",
            "Validation: 100%|██████████| 68/68 [00:01<00:00, 38.18it/s]\n"
          ]
        },
        {
          "output_type": "stream",
          "name": "stdout",
          "text": [
            "Epoch 28/50:\n",
            "  Train Loss: 1.1411, Train Acc: 56.69%\n",
            "  Val Loss: 1.0938, Val Acc: 59.86%\n",
            "  LR: 0.001000, Time: 13.13s\n",
            "--------------------------------------------------\n"
          ]
        },
        {
          "output_type": "stream",
          "name": "stderr",
          "text": [
            "Training: 100%|██████████| 314/314 [00:11<00:00, 28.10it/s, Loss=1.1791, Acc=56.53%]\n",
            "Validation: 100%|██████████| 68/68 [00:01<00:00, 37.63it/s]\n"
          ]
        },
        {
          "output_type": "stream",
          "name": "stdout",
          "text": [
            "Epoch 29/50:\n",
            "  Train Loss: 1.1393, Train Acc: 56.53%\n",
            "  Val Loss: 1.0685, Val Acc: 59.69%\n",
            "  LR: 0.001000, Time: 12.99s\n",
            "--------------------------------------------------\n"
          ]
        },
        {
          "output_type": "stream",
          "name": "stderr",
          "text": [
            "Training: 100%|██████████| 314/314 [00:11<00:00, 27.79it/s, Loss=1.0934, Acc=57.12%]\n",
            "Validation: 100%|██████████| 68/68 [00:01<00:00, 38.02it/s]\n"
          ]
        },
        {
          "output_type": "stream",
          "name": "stdout",
          "text": [
            "Epoch 30/50:\n",
            "  Train Loss: 1.1283, Train Acc: 57.12%\n",
            "  Val Loss: 1.0675, Val Acc: 59.74%\n",
            "  LR: 0.001000, Time: 13.10s\n",
            "--------------------------------------------------\n"
          ]
        },
        {
          "output_type": "stream",
          "name": "stderr",
          "text": [
            "Training: 100%|██████████| 314/314 [00:11<00:00, 27.92it/s, Loss=1.2629, Acc=57.00%]\n",
            "Validation: 100%|██████████| 68/68 [00:01<00:00, 37.34it/s]\n"
          ]
        },
        {
          "output_type": "stream",
          "name": "stdout",
          "text": [
            "Epoch 31/50:\n",
            "  Train Loss: 1.1245, Train Acc: 57.00%\n",
            "  Val Loss: 1.0766, Val Acc: 59.53%\n",
            "  LR: 0.001000, Time: 13.08s\n",
            "--------------------------------------------------\n"
          ]
        },
        {
          "output_type": "stream",
          "name": "stderr",
          "text": [
            "Training: 100%|██████████| 314/314 [00:11<00:00, 27.73it/s, Loss=1.1734, Acc=56.76%]\n",
            "Validation: 100%|██████████| 68/68 [00:01<00:00, 37.43it/s]\n"
          ]
        },
        {
          "output_type": "stream",
          "name": "stdout",
          "text": [
            "Epoch 32/50:\n",
            "  Train Loss: 1.1286, Train Acc: 56.76%\n",
            "  Val Loss: 1.0721, Val Acc: 59.60%\n",
            "  LR: 0.001000, Time: 13.15s\n",
            "--------------------------------------------------\n"
          ]
        },
        {
          "output_type": "stream",
          "name": "stderr",
          "text": [
            "Training: 100%|██████████| 314/314 [00:11<00:00, 27.53it/s, Loss=1.2480, Acc=57.63%]\n",
            "Validation: 100%|██████████| 68/68 [00:01<00:00, 38.44it/s]\n"
          ]
        },
        {
          "output_type": "stream",
          "name": "stdout",
          "text": [
            "Epoch 33/50:\n",
            "  Train Loss: 1.1116, Train Acc: 57.63%\n",
            "  Val Loss: 1.1050, Val Acc: 58.88%\n",
            "  LR: 0.001000, Time: 13.18s\n",
            "--------------------------------------------------\n"
          ]
        },
        {
          "output_type": "stream",
          "name": "stderr",
          "text": [
            "Training: 100%|██████████| 314/314 [00:11<00:00, 27.58it/s, Loss=1.0918, Acc=57.19%]\n",
            "Validation: 100%|██████████| 68/68 [00:01<00:00, 38.29it/s]\n"
          ]
        },
        {
          "output_type": "stream",
          "name": "stdout",
          "text": [
            "Epoch 34/50:\n",
            "  Train Loss: 1.1117, Train Acc: 57.19%\n",
            "  Val Loss: 1.0944, Val Acc: 59.76%\n",
            "  LR: 0.001000, Time: 13.17s\n",
            "--------------------------------------------------\n"
          ]
        },
        {
          "output_type": "stream",
          "name": "stderr",
          "text": [
            "Training: 100%|██████████| 314/314 [00:11<00:00, 27.50it/s, Loss=1.1578, Acc=57.83%]\n",
            "Validation: 100%|██████████| 68/68 [00:01<00:00, 38.37it/s]\n"
          ]
        },
        {
          "output_type": "stream",
          "name": "stdout",
          "text": [
            "Epoch 35/50:\n",
            "  Train Loss: 1.1042, Train Acc: 57.83%\n",
            "  Val Loss: 1.0745, Val Acc: 61.13%\n",
            "  LR: 0.001000, Time: 13.20s\n",
            "--------------------------------------------------\n"
          ]
        },
        {
          "output_type": "stream",
          "name": "stderr",
          "text": [
            "Training: 100%|██████████| 314/314 [00:11<00:00, 27.64it/s, Loss=1.3459, Acc=58.09%]\n",
            "Validation: 100%|██████████| 68/68 [00:01<00:00, 38.43it/s]\n"
          ]
        },
        {
          "output_type": "stream",
          "name": "stdout",
          "text": [
            "Epoch 36/50:\n",
            "  Train Loss: 1.0958, Train Acc: 58.09%\n",
            "  Val Loss: 1.0972, Val Acc: 59.76%\n",
            "  LR: 0.001000, Time: 13.14s\n",
            "--------------------------------------------------\n"
          ]
        },
        {
          "output_type": "stream",
          "name": "stderr",
          "text": [
            "Training: 100%|██████████| 314/314 [00:11<00:00, 27.25it/s, Loss=0.9519, Acc=58.56%]\n",
            "Validation: 100%|██████████| 68/68 [00:01<00:00, 37.06it/s]\n"
          ]
        },
        {
          "output_type": "stream",
          "name": "stdout",
          "text": [
            "Epoch 37/50:\n",
            "  Train Loss: 1.0973, Train Acc: 58.56%\n",
            "  Val Loss: 1.1279, Val Acc: 58.30%\n",
            "  LR: 0.001000, Time: 13.37s\n",
            "--------------------------------------------------\n"
          ]
        },
        {
          "output_type": "stream",
          "name": "stderr",
          "text": [
            "Training: 100%|██████████| 314/314 [00:11<00:00, 27.34it/s, Loss=0.9725, Acc=58.27%]\n",
            "Validation: 100%|██████████| 68/68 [00:01<00:00, 38.21it/s]\n"
          ]
        },
        {
          "output_type": "stream",
          "name": "stdout",
          "text": [
            "Epoch 38/50:\n",
            "  Train Loss: 1.0966, Train Acc: 58.27%\n",
            "  Val Loss: 1.0946, Val Acc: 59.97%\n",
            "  LR: 0.001000, Time: 13.27s\n",
            "--------------------------------------------------\n"
          ]
        },
        {
          "output_type": "stream",
          "name": "stderr",
          "text": [
            "Training: 100%|██████████| 314/314 [00:11<00:00, 27.70it/s, Loss=1.1575, Acc=59.86%]\n",
            "Validation: 100%|██████████| 68/68 [00:01<00:00, 38.28it/s]\n"
          ]
        },
        {
          "output_type": "stream",
          "name": "stdout",
          "text": [
            "Epoch 39/50:\n",
            "  Train Loss: 1.0549, Train Acc: 59.86%\n",
            "  Val Loss: 1.0630, Val Acc: 60.46%\n",
            "  LR: 0.000500, Time: 13.12s\n",
            "--------------------------------------------------\n"
          ]
        },
        {
          "output_type": "stream",
          "name": "stderr",
          "text": [
            "Training: 100%|██████████| 314/314 [00:11<00:00, 27.46it/s, Loss=1.0896, Acc=61.27%]\n",
            "Validation: 100%|██████████| 68/68 [00:01<00:00, 38.82it/s]\n"
          ]
        },
        {
          "output_type": "stream",
          "name": "stdout",
          "text": [
            "Epoch 40/50:\n",
            "  Train Loss: 1.0273, Train Acc: 61.27%\n",
            "  Val Loss: 1.0802, Val Acc: 60.55%\n",
            "  LR: 0.000500, Time: 13.19s\n",
            "--------------------------------------------------\n"
          ]
        },
        {
          "output_type": "stream",
          "name": "stderr",
          "text": [
            "Training: 100%|██████████| 314/314 [00:11<00:00, 27.16it/s, Loss=1.1566, Acc=61.20%]\n",
            "Validation: 100%|██████████| 68/68 [00:01<00:00, 38.60it/s]\n"
          ]
        },
        {
          "output_type": "stream",
          "name": "stdout",
          "text": [
            "Epoch 41/50:\n",
            "  Train Loss: 1.0219, Train Acc: 61.20%\n",
            "  Val Loss: 1.0912, Val Acc: 61.30%\n",
            "  LR: 0.000500, Time: 13.33s\n",
            "--------------------------------------------------\n"
          ]
        },
        {
          "output_type": "stream",
          "name": "stderr",
          "text": [
            "Training: 100%|██████████| 314/314 [00:11<00:00, 27.48it/s, Loss=0.9893, Acc=61.66%]\n",
            "Validation: 100%|██████████| 68/68 [00:01<00:00, 38.04it/s]\n"
          ]
        },
        {
          "output_type": "stream",
          "name": "stdout",
          "text": [
            "Epoch 42/50:\n",
            "  Train Loss: 1.0184, Train Acc: 61.66%\n",
            "  Val Loss: 1.0903, Val Acc: 60.62%\n",
            "  LR: 0.000500, Time: 13.22s\n",
            "--------------------------------------------------\n"
          ]
        },
        {
          "output_type": "stream",
          "name": "stderr",
          "text": [
            "Training: 100%|██████████| 314/314 [00:11<00:00, 27.43it/s, Loss=1.1094, Acc=61.96%]\n",
            "Validation: 100%|██████████| 68/68 [00:01<00:00, 38.21it/s]\n"
          ]
        },
        {
          "output_type": "stream",
          "name": "stdout",
          "text": [
            "Epoch 43/50:\n",
            "  Train Loss: 1.0060, Train Acc: 61.96%\n",
            "  Val Loss: 1.0916, Val Acc: 61.53%\n",
            "  LR: 0.000500, Time: 13.23s\n",
            "--------------------------------------------------\n"
          ]
        },
        {
          "output_type": "stream",
          "name": "stderr",
          "text": [
            "Training: 100%|██████████| 314/314 [00:11<00:00, 27.54it/s, Loss=0.9219, Acc=62.46%]\n",
            "Validation: 100%|██████████| 68/68 [00:01<00:00, 38.34it/s]\n"
          ]
        },
        {
          "output_type": "stream",
          "name": "stdout",
          "text": [
            "Epoch 44/50:\n",
            "  Train Loss: 0.9994, Train Acc: 62.46%\n",
            "  Val Loss: 1.0835, Val Acc: 60.53%\n",
            "  LR: 0.000500, Time: 13.19s\n",
            "--------------------------------------------------\n"
          ]
        },
        {
          "output_type": "stream",
          "name": "stderr",
          "text": [
            "Training: 100%|██████████| 314/314 [00:11<00:00, 27.57it/s, Loss=0.7525, Acc=61.97%]\n",
            "Validation: 100%|██████████| 68/68 [00:01<00:00, 38.45it/s]\n"
          ]
        },
        {
          "output_type": "stream",
          "name": "stdout",
          "text": [
            "Epoch 45/50:\n",
            "  Train Loss: 1.0034, Train Acc: 61.97%\n",
            "  Val Loss: 1.0912, Val Acc: 61.41%\n",
            "  LR: 0.000500, Time: 13.17s\n",
            "--------------------------------------------------\n"
          ]
        },
        {
          "output_type": "stream",
          "name": "stderr",
          "text": [
            "Training: 100%|██████████| 314/314 [00:11<00:00, 27.44it/s, Loss=1.0195, Acc=62.94%]\n",
            "Validation: 100%|██████████| 68/68 [00:01<00:00, 38.62it/s]\n"
          ]
        },
        {
          "output_type": "stream",
          "name": "stdout",
          "text": [
            "Epoch 46/50:\n",
            "  Train Loss: 0.9867, Train Acc: 62.94%\n",
            "  Val Loss: 1.1038, Val Acc: 61.20%\n",
            "  LR: 0.000500, Time: 13.21s\n",
            "--------------------------------------------------\n"
          ]
        },
        {
          "output_type": "stream",
          "name": "stderr",
          "text": [
            "Training: 100%|██████████| 314/314 [00:11<00:00, 27.57it/s, Loss=1.0014, Acc=62.61%]\n",
            "Validation: 100%|██████████| 68/68 [00:01<00:00, 37.16it/s]\n"
          ]
        },
        {
          "output_type": "stream",
          "name": "stdout",
          "text": [
            "Epoch 47/50:\n",
            "  Train Loss: 0.9911, Train Acc: 62.61%\n",
            "  Val Loss: 1.0679, Val Acc: 61.71%\n",
            "  LR: 0.000500, Time: 13.23s\n",
            "--------------------------------------------------\n"
          ]
        },
        {
          "output_type": "stream",
          "name": "stderr",
          "text": [
            "Training: 100%|██████████| 314/314 [00:11<00:00, 27.19it/s, Loss=1.0391, Acc=63.75%]\n",
            "Validation: 100%|██████████| 68/68 [00:01<00:00, 37.40it/s]\n"
          ]
        },
        {
          "output_type": "stream",
          "name": "stdout",
          "text": [
            "Epoch 48/50:\n",
            "  Train Loss: 0.9588, Train Acc: 63.75%\n",
            "  Val Loss: 1.0893, Val Acc: 61.25%\n",
            "  LR: 0.000250, Time: 13.37s\n",
            "--------------------------------------------------\n"
          ]
        },
        {
          "output_type": "stream",
          "name": "stderr",
          "text": [
            "Training: 100%|██████████| 314/314 [00:11<00:00, 27.65it/s, Loss=0.9578, Acc=63.63%]\n",
            "Validation: 100%|██████████| 68/68 [00:01<00:00, 36.91it/s]\n"
          ]
        },
        {
          "output_type": "stream",
          "name": "stdout",
          "text": [
            "Epoch 49/50:\n",
            "  Train Loss: 0.9567, Train Acc: 63.63%\n",
            "  Val Loss: 1.0742, Val Acc: 61.81%\n",
            "  LR: 0.000250, Time: 13.21s\n",
            "--------------------------------------------------\n"
          ]
        },
        {
          "output_type": "stream",
          "name": "stderr",
          "text": [
            "Training: 100%|██████████| 314/314 [00:11<00:00, 26.90it/s, Loss=0.8627, Acc=64.33%]\n",
            "Validation: 100%|██████████| 68/68 [00:01<00:00, 35.78it/s]"
          ]
        },
        {
          "output_type": "stream",
          "name": "stdout",
          "text": [
            "Epoch 50/50:\n",
            "  Train Loss: 0.9432, Train Acc: 64.33%\n",
            "  Val Loss: 1.0759, Val Acc: 61.50%\n",
            "  LR: 0.000250, Time: 13.58s\n",
            "--------------------------------------------------\n",
            "Loaded best model with validation accuracy: 61.81%\n"
          ]
        },
        {
          "output_type": "stream",
          "name": "stderr",
          "text": [
            "\n"
          ]
        },
        {
          "output_type": "display_data",
          "data": {
            "text/plain": [
              "<IPython.core.display.HTML object>"
            ],
            "text/html": []
          },
          "metadata": {}
        },
        {
          "output_type": "display_data",
          "data": {
            "text/plain": [
              "<IPython.core.display.HTML object>"
            ],
            "text/html": [
              "<br>    <style><br>        .wandb-row {<br>            display: flex;<br>            flex-direction: row;<br>            flex-wrap: wrap;<br>            justify-content: flex-start;<br>            width: 100%;<br>        }<br>        .wandb-col {<br>            display: flex;<br>            flex-direction: column;<br>            flex-basis: 100%;<br>            flex: 1;<br>            padding: 10px;<br>        }<br>    </style><br><div class=\"wandb-row\"><div class=\"wandb-col\"><h3>Run history:</h3><br/><table class=\"wandb\"><tr><td>best_val_accuracy</td><td>▁▃▅▅▅▆▆▆▇▇▇▇▇▇▇▇▇▇▇▇▇▇▇▇▇▇▇▇████████████</td></tr><tr><td>epoch</td><td>▁▁▁▁▂▂▂▂▂▂▃▃▃▃▃▄▄▄▄▄▅▅▅▅▅▅▆▆▆▆▆▆▇▇▇▇▇███</td></tr><tr><td>epoch_time</td><td>█▁▁▂▁▂▂▂▂▁▁▂▁▁▂▂▁▂▂▂▂▁▂▁▂▂▂▂▂▂▂▂▂▂▂▂▂▂▃▃</td></tr><tr><td>learning_rate</td><td>██████████████████████████████▃▃▃▃▃▃▃▃▁▁</td></tr><tr><td>train_accuracy</td><td>▁▃▃▄▄▅▅▅▅▅▆▅▆▆▆▆▆▆▆▆▆▆▆▆▇▆▇▇▇▇▇▇▇▇██████</td></tr><tr><td>train_loss</td><td>█▇▆▅▅▅▄▄▄▄▄▄▄▃▃▃▃▃▃▃▃▃▃▃▃▃▂▃▂▂▂▂▂▂▂▂▁▁▁▁</td></tr><tr><td>val_accuracy</td><td>▁▃▅▅▅▆▆▆▇▇▇▇▇▇▇▇▇▇▇▇▇▇▇▇▇▇▇▇█▇▇█████████</td></tr><tr><td>val_loss</td><td>█▆▄▄▃▃▂▂▂▂▂▁▂▁▁▂▁▂▁▁▁▁▁▁▁▂▁▁▁▂▁▁▁▁▁▁▂▁▁▁</td></tr></table><br/></div><div class=\"wandb-col\"><h3>Run summary:</h3><br/><table class=\"wandb\"><tr><td>best_val_accuracy</td><td>61.80636</td></tr><tr><td>epoch</td><td>50</td></tr><tr><td>epoch_time</td><td>13.58139</td></tr><tr><td>learning_rate</td><td>0.00025</td></tr><tr><td>train_accuracy</td><td>64.33441</td></tr><tr><td>train_loss</td><td>0.94319</td></tr><tr><td>val_accuracy</td><td>61.50453</td></tr><tr><td>val_loss</td><td>1.07594</td></tr></table><br/></div></div>"
            ]
          },
          "metadata": {}
        },
        {
          "output_type": "display_data",
          "data": {
            "text/plain": [
              "<IPython.core.display.HTML object>"
            ],
            "text/html": [
              " View run <strong style=\"color:#cdcd00\">Simple_CNN_Final</strong> at: <a href='https://wandb.ai/nipkha21-free-university-of-tbilisi-/facial-expression-recognition/runs/hyyqz5oz' target=\"_blank\">https://wandb.ai/nipkha21-free-university-of-tbilisi-/facial-expression-recognition/runs/hyyqz5oz</a><br> View project at: <a href='https://wandb.ai/nipkha21-free-university-of-tbilisi-/facial-expression-recognition' target=\"_blank\">https://wandb.ai/nipkha21-free-university-of-tbilisi-/facial-expression-recognition</a><br>Synced 5 W&B file(s), 3 media file(s), 6 artifact file(s) and 0 other file(s)"
            ]
          },
          "metadata": {}
        },
        {
          "output_type": "display_data",
          "data": {
            "text/plain": [
              "<IPython.core.display.HTML object>"
            ],
            "text/html": [
              "Find logs at: <code>./wandb/run-20250608_110637-hyyqz5oz/logs</code>"
            ]
          },
          "metadata": {}
        },
        {
          "output_type": "stream",
          "name": "stdout",
          "text": [
            "✅ Final Simple CNN training completed!\n",
            "📊 Best validation accuracy: 61.8064\n"
          ]
        }
      ]
    },
    {
      "cell_type": "code",
      "source": [
        "test_dataset = CNNFacialExpressionDataset(test_df, augment=False, is_test=False)\n",
        "test_loader = DataLoader(test_dataset, batch_size=32, shuffle=False)\n",
        "\n",
        "\n",
        "clean_model = SimpleCNN(num_classes=7, dropout_rate=0.3)\n",
        "clean_model.load_state_dict(final_model.state_dict())\n",
        "clean_model.to(device)\n",
        "clean_model.eval()\n",
        "\n",
        "print(\"🔍 Running inference on test set...\")\n",
        "all_test_predictions = []\n",
        "all_test_targets = []\n",
        "all_test_probabilities = []\n",
        "\n",
        "with torch.no_grad():\n",
        "    for data, targets in tqdm(test_loader, desc=\"Test Evaluation\"):\n",
        "        data, targets = data.to(device), targets.to(device)\n",
        "        outputs = clean_model(data)\n",
        "        probabilities = torch.softmax(outputs, dim=1)\n",
        "        predictions = torch.argmax(outputs, dim=1)\n",
        "\n",
        "        all_test_predictions.extend(predictions.cpu().numpy())\n",
        "        all_test_targets.extend(targets.cpu().numpy())\n",
        "        all_test_probabilities.extend(probabilities.cpu().numpy())\n",
        "\n",
        "all_test_predictions = np.array(all_test_predictions)\n",
        "all_test_targets = np.array(all_test_targets)\n",
        "all_test_probabilities = np.array(all_test_probabilities)\n",
        "from sklearn.metrics import accuracy_score, precision_recall_fscore_support, roc_auc_score\n",
        "from sklearn.preprocessing import label_binarize\n",
        "\n",
        "test_accuracy = accuracy_score(all_test_targets, all_test_predictions)\n",
        "test_precision, test_recall, test_f1, test_support = precision_recall_fscore_support(\n",
        "    all_test_targets, all_test_predictions, average=None\n",
        ")\n",
        "\n",
        "print(\"\\n\" + \"=\"*60)\n",
        "print(\"🎯 FINAL TEST SET RESULTS\")\n",
        "print(\"=\"*60)\n",
        "print(f\"📈 Test Accuracy: {test_accuracy:.4f} ({test_accuracy*100:.2f}%)\")\n",
        "print(f\"📊 Mean F1 Score: {np.mean(test_f1):.4f}\")\n",
        "print(f\"📊 Weighted F1 Score: {np.average(test_f1, weights=test_support):.4f}\")\n",
        "\n",
        "emotion_map = {0: 'Angry', 1: 'Disgust', 2: 'Fear', 3: 'Happy', 4: 'Sad', 5: 'Surprise', 6: 'Neutral'}\n",
        "class_names = [emotion_map[i] for i in range(7)]\n",
        "\n",
        "print(f\"\\n📋 Per-Class Performance:\")\n",
        "print(\"-\" * 60)\n",
        "print(f\"{'Class':<12} {'Precision':<10} {'Recall':<10} {'F1-Score':<10} {'Support':<10}\")\n",
        "print(\"-\" * 60)\n",
        "for i, class_name in enumerate(class_names):\n",
        "    print(f\"{class_name:<12} {test_precision[i]:<10.3f} {test_recall[i]:<10.3f} {test_f1[i]:<10.3f} {test_support[i]:<10}\")\n",
        "\n",
        "report = classification_report(all_test_targets, all_test_predictions,\n",
        "                             target_names=class_names, digits=4)\n",
        "print(f\"\\n📊 Detailed Classification Report:\")\n",
        "print(report)\n",
        "\n",
        "cm = confusion_matrix(all_test_targets, all_test_predictions)\n",
        "plt.figure(figsize=(12, 10))\n",
        "sns.heatmap(cm, annot=True, fmt='d', cmap='Blues',\n",
        "           xticklabels=class_names, yticklabels=class_names,\n",
        "           cbar_kws={'label': 'Number of Samples'})\n",
        "plt.title('Simple CNN - Final Test Set Confusion Matrix', fontsize=16, pad=20)\n",
        "plt.xlabel('Predicted Emotion', fontsize=12)\n",
        "plt.ylabel('True Emotion', fontsize=12)\n",
        "plt.tight_layout()\n",
        "plt.savefig('simple_cnn_final_test_confusion_matrix.png', dpi=300, bbox_inches='tight')\n",
        "plt.show()\n",
        "\n",
        "class_accuracies = cm.diagonal() / cm.sum(axis=1)\n",
        "print(f\"\\n🎯 Per-Class Accuracy:\")\n",
        "for i, (class_name, acc) in enumerate(zip(class_names, class_accuracies)):\n",
        "    print(f\"   {class_name}: {acc:.3f} ({acc*100:.1f}%)\")\n",
        "\n",
        "try:\n",
        "    targets_binary = label_binarize(all_test_targets, classes=range(7))\n",
        "    auc_scores = []\n",
        "    print(f\"\\n🎯 ROC-AUC Scores:\")\n",
        "    for i in range(7):\n",
        "        if len(np.unique(targets_binary[:, i])) > 1:\n",
        "            auc = roc_auc_score(targets_binary[:, i], all_test_probabilities[:, i])\n",
        "            auc_scores.append(auc)\n",
        "            print(f\"   {class_names[i]}: {auc:.4f}\")\n",
        "    print(f\"   Mean AUC: {np.mean(auc_scores):.4f}\")\n",
        "except Exception as e:\n",
        "    print(f\"⚠️  Could not compute ROC-AUC: {e}\")\n",
        "\n",
        "print(f\"\\n🔍 Generalization Analysis:\")\n",
        "print(f\"   Best Validation Accuracy: {final_trainer.best_val_acc:.2f}%\")\n",
        "print(f\"   Test Accuracy: {test_accuracy*100:.2f}%\")\n",
        "generalization_gap = final_trainer.best_val_acc - (test_accuracy*100)\n",
        "print(f\"   Generalization Gap: {generalization_gap:.2f}%\")\n",
        "\n",
        "if abs(generalization_gap) < 2:\n",
        "    print(\"   ✅ Excellent generalization - test performance matches validation\")\n",
        "elif abs(generalization_gap) < 5:\n",
        "    print(\"   ✅ Good generalization - small performance drop\")\n",
        "elif generalization_gap > 5:\n",
        "    print(\"   ⚠️  Model may be slightly overfitted to validation set\")\n",
        "else:\n",
        "    print(\"   🎉 Model performed better on test set than validation!\")"
      ],
      "metadata": {
        "id": "OsqCBU81Q4y4",
        "outputId": "61649475-8442-4abb-a8cc-f58a502814b1",
        "colab": {
          "base_uri": "https://localhost:8080/",
          "height": 1000
        }
      },
      "execution_count": 20,
      "outputs": [
        {
          "output_type": "stream",
          "name": "stdout",
          "text": [
            "🔍 Running inference on test set...\n"
          ]
        },
        {
          "output_type": "stream",
          "name": "stderr",
          "text": [
            "Test Evaluation: 100%|██████████| 135/135 [00:03<00:00, 41.14it/s]\n"
          ]
        },
        {
          "output_type": "stream",
          "name": "stdout",
          "text": [
            "\n",
            "============================================================\n",
            "🎯 FINAL TEST SET RESULTS\n",
            "============================================================\n",
            "📈 Test Accuracy: 0.6155 (61.55%)\n",
            "📊 Mean F1 Score: 0.5938\n",
            "📊 Weighted F1 Score: 0.6154\n",
            "\n",
            "📋 Per-Class Performance:\n",
            "------------------------------------------------------------\n",
            "Class        Precision  Recall     F1-Score   Support   \n",
            "------------------------------------------------------------\n",
            "Angry        0.512      0.524      0.518      599       \n",
            "Disgust      0.824      0.431      0.566      65        \n",
            "Fear         0.462      0.428      0.444      615       \n",
            "Happy        0.825      0.841      0.833      1082      \n",
            "Sad          0.502      0.506      0.504      725       \n",
            "Surprise     0.777      0.704      0.739      476       \n",
            "Neutral      0.525      0.583      0.553      745       \n",
            "\n",
            "📊 Detailed Classification Report:\n",
            "              precision    recall  f1-score   support\n",
            "\n",
            "       Angry     0.5122    0.5242    0.5182       599\n",
            "     Disgust     0.8235    0.4308    0.5657        65\n",
            "        Fear     0.4622    0.4276    0.4443       615\n",
            "       Happy     0.8250    0.8410    0.8330      1082\n",
            "         Sad     0.5021    0.5062    0.5041       725\n",
            "    Surprise     0.7773    0.7038    0.7387       476\n",
            "     Neutral     0.5254    0.5826    0.5525       745\n",
            "\n",
            "    accuracy                         0.6155      4307\n",
            "   macro avg     0.6325    0.5737    0.5938      4307\n",
            "weighted avg     0.6182    0.6155    0.6154      4307\n",
            "\n"
          ]
        },
        {
          "output_type": "display_data",
          "data": {
            "text/plain": [
              "<Figure size 1200x1000 with 2 Axes>"
            ],
            "image/png": "[encoded data removed]"
          },
          "metadata": {}
        },
        {
          "output_type": "stream",
          "name": "stdout",
          "text": [
            "\n",
            "🎯 Per-Class Accuracy:\n",
            "   Angry: 0.524 (52.4%)\n",
            "   Disgust: 0.431 (43.1%)\n",
            "   Fear: 0.428 (42.8%)\n",
            "   Happy: 0.841 (84.1%)\n",
            "   Sad: 0.506 (50.6%)\n",
            "   Surprise: 0.704 (70.4%)\n",
            "   Neutral: 0.583 (58.3%)\n",
            "\n",
            "🎯 ROC-AUC Scores:\n",
            "   Angry: 0.8617\n",
            "   Disgust: 0.9553\n",
            "   Fear: 0.8189\n",
            "   Happy: 0.9584\n",
            "   Sad: 0.8541\n",
            "   Surprise: 0.9483\n",
            "   Neutral: 0.8693\n",
            "   Mean AUC: 0.8951\n",
            "\n",
            "🔍 Generalization Analysis:\n",
            "   Best Validation Accuracy: 61.81%\n",
            "   Test Accuracy: 61.55%\n",
            "   Generalization Gap: 0.26%\n",
            "   ✅ Excellent generalization - test performance matches validation\n"
          ]
        }
      ]
    },
    {
      "cell_type": "code",
      "source": [],
      "metadata": {
        "id": "EBLKy5eOSP_p"
      },
      "execution_count": null,
      "outputs": []
    }
  ]
}